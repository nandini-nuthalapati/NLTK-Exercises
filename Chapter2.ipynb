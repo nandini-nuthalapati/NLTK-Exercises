{
 "cells": [
  {
   "cell_type": "markdown",
   "metadata": {},
   "source": [
    "#### Exercise 1\n",
    "Create a variable phrase containing a list of words. Review the operations described in the previous chapter, including addition, multiplication, indexing, slicing, and sorting."
   ]
  },
  {
   "cell_type": "code",
   "execution_count": 1,
   "metadata": {
    "scrolled": true
   },
   "outputs": [
    {
     "data": {
      "text/plain": [
       "['so', 'no', 'one', 'told', 'you', 'life', 'was', 'gonna', 'be', 'this', 'way']"
      ]
     },
     "execution_count": 1,
     "metadata": {},
     "output_type": "execute_result"
    }
   ],
   "source": [
    "phrase=['so','no','one','told','you','life','was','gonna','be','this','way']\n",
    "phrase"
   ]
  },
  {
   "cell_type": "code",
   "execution_count": 2,
   "metadata": {},
   "outputs": [
    {
     "name": "stdout",
     "output_type": "stream",
     "text": [
      "['so', 'no', 'one', 'told', 'you', 'life', 'was', 'gonna', 'be', 'this', 'way', 'your', \"job's\", 'a', 'joke', ',', \"you're\", 'broke']\n",
      "['so', 'no', 'one', 'told', 'you', 'life', 'was', 'gonna', 'be', 'this', 'way', 'so', 'no', 'one', 'told', 'you', 'life', 'was', 'gonna', 'be', 'this', 'way']\n",
      "no\n",
      "['so', 'no', 'one', 'told']\n",
      "['be', 'gonna', 'life', 'no', 'one', 'so', 'this', 'told', 'was', 'way', 'you']\n"
     ]
    }
   ],
   "source": [
    "#addition\n",
    "print(phrase+['your','job\\'s','a','joke',',','you\\'re','broke'])\n",
    "#Multiplication\n",
    "print(phrase*2)\n",
    "#Indexing\n",
    "print(phrase[1])\n",
    "#Slicing\n",
    "print(phrase[:4])\n",
    "#Sorting\n",
    "print(sorted(phrase))"
   ]
  },
  {
   "cell_type": "markdown",
   "metadata": {},
   "source": [
    "#### Exercise 2\n",
    "Use the corpus module to explore austen-persuasion.txt. How many word tokens does this book have? How many word types?"
   ]
  },
  {
   "cell_type": "code",
   "execution_count": 3,
   "metadata": {},
   "outputs": [],
   "source": [
    "import nltk\n",
    "from nltk.corpus import gutenberg"
   ]
  },
  {
   "cell_type": "code",
   "execution_count": 4,
   "metadata": {},
   "outputs": [
    {
     "data": {
      "text/plain": [
       "['[', 'Persuasion', 'by', 'Jane', 'Austen', '1818', ...]"
      ]
     },
     "execution_count": 4,
     "metadata": {},
     "output_type": "execute_result"
    }
   ],
   "source": [
    "austen=gutenberg.words('austen-persuasion.txt')\n",
    "austen"
   ]
  },
  {
   "cell_type": "code",
   "execution_count": 5,
   "metadata": {},
   "outputs": [
    {
     "name": "stdout",
     "output_type": "stream",
     "text": [
      "No.of tokens: 98171\n",
      "No.of word types: 6022\n"
     ]
    }
   ],
   "source": [
    "print('No.of tokens: {}'.format(len([w for w in austen])))\n",
    "print('No.of word types: {}'.format(len(set([w for w in austen if len(w)>=2 and w.isalpha()]))))"
   ]
  },
  {
   "cell_type": "markdown",
   "metadata": {},
   "source": [
    "#### Exercise 3\n",
    "Use the Brown corpus reader nltk.corpus.brown.words() or the Web text corpus reader nltk.corpus.webtext.words() to access some sample text in two different genres."
   ]
  },
  {
   "cell_type": "code",
   "execution_count": 6,
   "metadata": {},
   "outputs": [
    {
     "name": "stdout",
     "output_type": "stream",
     "text": [
      "['Too', 'often', 'a', 'beginning', 'bodybuilder', 'has', 'to', 'do', 'his', 'training']\n"
     ]
    }
   ],
   "source": [
    "from nltk.corpus import brown\n",
    "brownWords=brown.words(categories=['hobbies','humor'])\n",
    "print(brownWords[:10])"
   ]
  },
  {
   "cell_type": "markdown",
   "metadata": {},
   "source": [
    "#### Exercise 4\n",
    "Read in the texts of the State of the Union addresses, using the state_union corpus reader. Count occurrences of men, women, and people in each document. What has happened to the usage of these words over time?"
   ]
  },
  {
   "cell_type": "code",
   "execution_count": 7,
   "metadata": {
    "scrolled": true
   },
   "outputs": [
    {
     "data": {
      "text/html": [
       "<div>\n",
       "<style scoped>\n",
       "    .dataframe tbody tr th:only-of-type {\n",
       "        vertical-align: middle;\n",
       "    }\n",
       "\n",
       "    .dataframe tbody tr th {\n",
       "        vertical-align: top;\n",
       "    }\n",
       "\n",
       "    .dataframe thead th {\n",
       "        text-align: right;\n",
       "    }\n",
       "</style>\n",
       "<table border=\"1\" class=\"dataframe\">\n",
       "  <thead>\n",
       "    <tr style=\"text-align: right;\">\n",
       "      <th></th>\n",
       "      <th>men</th>\n",
       "      <th>women</th>\n",
       "      <th>people</th>\n",
       "    </tr>\n",
       "  </thead>\n",
       "  <tbody>\n",
       "    <tr>\n",
       "      <th>1945</th>\n",
       "      <td>2</td>\n",
       "      <td>2</td>\n",
       "      <td>10</td>\n",
       "    </tr>\n",
       "    <tr>\n",
       "      <th>1946</th>\n",
       "      <td>12</td>\n",
       "      <td>7</td>\n",
       "      <td>49</td>\n",
       "    </tr>\n",
       "    <tr>\n",
       "      <th>1947</th>\n",
       "      <td>7</td>\n",
       "      <td>2</td>\n",
       "      <td>12</td>\n",
       "    </tr>\n",
       "    <tr>\n",
       "      <th>1948</th>\n",
       "      <td>5</td>\n",
       "      <td>1</td>\n",
       "      <td>22</td>\n",
       "    </tr>\n",
       "    <tr>\n",
       "      <th>1949</th>\n",
       "      <td>2</td>\n",
       "      <td>1</td>\n",
       "      <td>15</td>\n",
       "    </tr>\n",
       "  </tbody>\n",
       "</table>\n",
       "</div>"
      ],
      "text/plain": [
       "      men  women  people\n",
       "1945    2      2      10\n",
       "1946   12      7      49\n",
       "1947    7      2      12\n",
       "1948    5      1      22\n",
       "1949    2      1      15"
      ]
     },
     "execution_count": 7,
     "metadata": {},
     "output_type": "execute_result"
    }
   ],
   "source": [
    "from nltk.corpus import state_union\n",
    "import matplotlib.pyplot as plt\n",
    "%matplotlib inline\n",
    "import pandas as pd\n",
    "cfd=nltk.ConditionalFreqDist((target,fileid[:4]) \n",
    "        for target in ['men','women','people'] for fileid in state_union.fileids() \n",
    "        for w in [w.lower() for w in state_union.words(fileid)] if w==target)\n",
    "df=pd.DataFrame(cfd,columns=cfd.conditions())\n",
    "df.fillna(0,inplace=True)\n",
    "df=df.astype(int)\n",
    "df.head()"
   ]
  },
  {
   "cell_type": "code",
   "execution_count": 8,
   "metadata": {
    "scrolled": false
   },
   "outputs": [
    {
     "data": {
      "image/png": "[encoded data removed]",
      "text/plain": [
       "<Figure size 864x504 with 1 Axes>"
      ]
     },
     "metadata": {
      "needs_background": "light"
     },
     "output_type": "display_data"
    }
   ],
   "source": [
    "plt.figure(figsize=(12,7))\n",
    "cfd.plot()"
   ]
  },
  {
   "cell_type": "markdown",
   "metadata": {},
   "source": [
    "There is a lot of variability in the usage of 'people' over time. Although the usage of 'women' is only slightly above the usage of 'men' over the past 10 years, the use of 'women' has increased (crossed the usage of 'men') gradually over time "
   ]
  },
  {
   "cell_type": "markdown",
   "metadata": {},
   "source": [
    "#### Exercise 5\n",
    "Investigate the holonym-meronym relations for some nouns. Remember that there are three kinds of holonym-meronym relation, so you need to use: member_meronyms(), part_meronyms(),  substance_meronyms(), member_holonyms(), part_holonyms(), and substance_holonyms()."
   ]
  },
  {
   "cell_type": "code",
   "execution_count": 9,
   "metadata": {},
   "outputs": [
    {
     "name": "stdout",
     "output_type": "stream",
     "text": [
      "[Synset('library.n.01'), Synset('loft.n.02'), Synset('porch.n.01'), Synset('study.n.05')]\n",
      "[Synset('lignin.n.01')]\n",
      "[Synset('tree.n.01'), Synset('underbrush.n.01')]\n",
      "[Synset('atmosphere.n.03'), Synset('hemisphere.n.01'), Synset('hydrosphere.n.01'), Synset('land.n.04'), Synset('lithosphere.n.01'), Synset('sky.n.01'), Synset('van_allen_belt.n.01')]\n",
      "[Synset('hydrogen.n.01'), Synset('oxygen.n.01')]\n",
      "[Synset('person.n.01')]\n"
     ]
    }
   ],
   "source": [
    "from nltk.corpus import wordnet as wn\n",
    "print(wn.synset('house.n.01').part_meronyms())\n",
    "print(wn.synset('wood.n.01').substance_meronyms())\n",
    "print(wn.synset('forest.n.01').member_meronyms())\n",
    "print(wn.synset('earth.n.01').part_meronyms())\n",
    "print(wn.synset('water.n.01').substance_meronyms())\n",
    "print(wn.synset('people.n.01').member_meronyms())"
   ]
  },
  {
   "cell_type": "code",
   "execution_count": 10,
   "metadata": {},
   "outputs": [
    {
     "name": "stdout",
     "output_type": "stream",
     "text": [
      "[Synset('house.n.01')]\n",
      "[Synset('wood.n.01')]\n",
      "[Synset('forest.n.01')]\n",
      "[Synset('earth.n.01')]\n",
      "[Synset('water.n.01')]\n",
      "[Synset('solar_system.n.01')]\n"
     ]
    }
   ],
   "source": [
    "print(wn.synset('library.n.01').part_holonyms())\n",
    "print(wn.synset('lignin.n.01').substance_holonyms())\n",
    "print(wn.synset('tree.n.01').member_holonyms())\n",
    "print(wn.synset('atmosphere.n.03').part_holonyms())\n",
    "print(wn.synset('hydrogen.n.01').substance_holonyms())\n",
    "print(wn.synset('earth.n.01').member_holonyms())"
   ]
  },
  {
   "cell_type": "markdown",
   "metadata": {},
   "source": [
    "#### Exercise 6\n",
    "In the discussion of comparative wordlists, we created an object called translate which you could look up using words in both German and Spanish in order to get corresponding words in English. What problem might arise with this approach? Can you suggest a way to avoid this problem?"
   ]
  },
  {
   "cell_type": "code",
   "execution_count": 11,
   "metadata": {},
   "outputs": [],
   "source": [
    "from nltk.corpus import swadesh\n",
    "fr2en=swadesh.entries(['fr','en'])\n",
    "de2en=swadesh.entries(['de','en'])\n",
    "es2en=swadesh.entries(['es','en'])\n",
    "translate=dict(fr2en)\n",
    "translate.update(de2en)\n",
    "translate.update(es2en)"
   ]
  },
  {
   "cell_type": "code",
   "execution_count": 12,
   "metadata": {},
   "outputs": [
    {
     "data": {
      "text/plain": [
       "612"
      ]
     },
     "execution_count": 12,
     "metadata": {},
     "output_type": "execute_result"
    }
   ],
   "source": [
    "len(translate)"
   ]
  },
  {
   "cell_type": "code",
   "execution_count": 13,
   "metadata": {},
   "outputs": [],
   "source": [
    "dict1=dict(fr2en)\n",
    "dict2=dict(de2en)\n",
    "dict3=dict(es2en)"
   ]
  },
  {
   "cell_type": "code",
   "execution_count": 14,
   "metadata": {},
   "outputs": [
    {
     "data": {
      "text/plain": [
       "0"
      ]
     },
     "execution_count": 14,
     "metadata": {},
     "output_type": "execute_result"
    }
   ],
   "source": [
    "len([k1 for k1 in list(dict1.keys()) for k2 in list(dict2.keys())if k1==k2])"
   ]
  },
  {
   "cell_type": "code",
   "execution_count": 15,
   "metadata": {},
   "outputs": [
    {
     "data": {
      "text/plain": [
       "6"
      ]
     },
     "execution_count": 15,
     "metadata": {},
     "output_type": "execute_result"
    }
   ],
   "source": [
    "len([k1 for k1 in list(dict1.keys()) for k2 in list(dict3.keys())if k1==k2])"
   ]
  },
  {
   "cell_type": "code",
   "execution_count": 16,
   "metadata": {},
   "outputs": [
    {
     "data": {
      "text/plain": [
       "['animal', 'ver', 'dos', 'dormir', 'venir', 'si']"
      ]
     },
     "execution_count": 16,
     "metadata": {},
     "output_type": "execute_result"
    }
   ],
   "source": [
    "[k1 for k1 in list(dict1.keys()) for k2 in list(dict3.keys())if k1==k2]"
   ]
  },
  {
   "cell_type": "code",
   "execution_count": 17,
   "metadata": {},
   "outputs": [
    {
     "data": {
      "text/plain": [
       "0"
      ]
     },
     "execution_count": 17,
     "metadata": {},
     "output_type": "execute_result"
    }
   ],
   "source": [
    "len([k1 for k1 in list(dict2.keys()) for k2 in list(dict3.keys())if k1==k2])"
   ]
  },
  {
   "cell_type": "markdown",
   "metadata": {},
   "source": [
    "dict1.update(dict2) adds the key,value in dict2 to dict1 if the key is not in dict1 else updates it. The problem with this approach is that the words with same spelling in german and spanish but different english translation may get updated with the same translation. To avoid this, tag each key with its language ID."
   ]
  },
  {
   "cell_type": "code",
   "execution_count": 18,
   "metadata": {},
   "outputs": [],
   "source": [
    "fr2en=[(k+'-fr',v) for (k,v) in fr2en]\n",
    "de2en=[(k+'-de',v) for (k,v) in de2en]\n",
    "es2en=[(k+'-es',v) for (k,v) in es2en]\n",
    "translate=dict(fr2en)\n",
    "translate.update(de2en)\n",
    "translate.update(es2en)"
   ]
  },
  {
   "cell_type": "code",
   "execution_count": 19,
   "metadata": {},
   "outputs": [
    {
     "data": {
      "text/plain": [
       "618"
      ]
     },
     "execution_count": 19,
     "metadata": {},
     "output_type": "execute_result"
    }
   ],
   "source": [
    "len(translate)"
   ]
  },
  {
   "cell_type": "markdown",
   "metadata": {},
   "source": [
    "There are 6 common words between french and spanish"
   ]
  },
  {
   "cell_type": "markdown",
   "metadata": {},
   "source": [
    "#### Exercise 7\n",
    "According to Strunk and White's Elements of Style, the word however, used at the start of a sentence, means \"in whatever way\" or \"to whatever extent\", and not \"nevertheless\". They give this example of correct usage: However you advise him, he will probably do as he thinks best. (http://www.bartleby.com/141/strunk3.html) Use the concordance tool to study actual usage of this word in the various texts we have been considering. See also the LanguageLog posting \"Fossilized prejudices about 'however'\" at http://itre.cis.upenn.edu/~myl/languagelog/archives/001913.html"
   ]
  },
  {
   "cell_type": "code",
   "execution_count": 20,
   "metadata": {},
   "outputs": [
    {
     "name": "stdout",
     "output_type": "stream",
     "text": [
      "*** Introductory Examples for the NLTK Book ***\n",
      "Loading text1, ..., text9 and sent1, ..., sent9\n",
      "Type the name of the text or sentence to view it.\n",
      "Type: 'texts()' or 'sents()' to list the materials.\n",
      "text1: Moby Dick by Herman Melville 1851\n",
      "text2: Sense and Sensibility by Jane Austen 1811\n",
      "text3: The Book of Genesis\n",
      "text4: Inaugural Address Corpus\n",
      "text5: Chat Corpus\n",
      "text6: Monty Python and the Holy Grail\n",
      "text7: Wall Street Journal\n",
      "text8: Personals Corpus\n",
      "text9: The Man Who Was Thursday by G . K . Chesterton 1908\n"
     ]
    }
   ],
   "source": [
    "from nltk.book import *"
   ]
  },
  {
   "cell_type": "code",
   "execution_count": 21,
   "metadata": {},
   "outputs": [
    {
     "name": "stdout",
     "output_type": "stream",
     "text": [
      "Displaying 5 of 95 matches:\n",
      "gledy - piggledy whale statements , however authentic , in these extracts , for\n",
      "lave ? Tell me that . Well , then , however the old sea - captains may order me\n",
      "ea - captains may order me about -- however they may thump and punch me about ,\n",
      " needs be the sign of \" The Trap .\" However , I picked myself up and hearing a \n",
      " the conclusion that such an idea , however wild , might not be altogether unwa\n"
     ]
    }
   ],
   "source": [
    "text1.concordance('however',lines=5)"
   ]
  },
  {
   "cell_type": "code",
   "execution_count": 22,
   "metadata": {
    "scrolled": true
   },
   "outputs": [
    {
     "name": "stdout",
     "output_type": "stream",
     "text": [
      "Displaying 5 of 155 matches:\n",
      "hters . He meant not to be unkind , however , and , as a mark of his affection \n",
      "e condition of visitors . As such , however , they were treated by her with qui\n",
      "le .\" His wife hesitated a little , however , in giving her consent to this pla\n",
      "urned Mrs . John Dashwood . \" But , however , ONE thing must be considered . Wh\n",
      " can ever afford to live in . But , however , so it is . Your father thought on\n"
     ]
    }
   ],
   "source": [
    "text2.concordance('however',lines=5)"
   ]
  },
  {
   "cell_type": "code",
   "execution_count": 23,
   "metadata": {},
   "outputs": [
    {
     "name": "stdout",
     "output_type": "stream",
     "text": [
      "Displaying 5 of 54 matches:\n",
      " this extensive country . Relying , however , on the purity of their intentions\n",
      "t become me here to speak . I may , however , be pardoned for not suppressing t\n",
      " accord in all questions touching , however remotely , the liberty , prosperity\n",
      "its overthrow . These occurrences , however , have been far less frequent in ou\n",
      "s and promises made in the former . However much the world may have improved in\n"
     ]
    }
   ],
   "source": [
    "text4.concordance('however',lines=5)"
   ]
  },
  {
   "cell_type": "code",
   "execution_count": 24,
   "metadata": {},
   "outputs": [
    {
     "name": "stdout",
     "output_type": "stream",
     "text": [
      "Displaying 5 of 35 matches:\n",
      "s , such as telephones or watches . However , none of the big three weeklies re\n",
      "ther intellectual-property rights . However , five other countries -- China , T\n",
      "to be sold *-50 in the U.S. *T*-1 . However , after two meetings with the Sovie\n",
      "clining . The purchasing managers , however , also said that orders turned up i\n",
      " of worries about potential abuse , however , he says 0 the state will begin *-\n"
     ]
    }
   ],
   "source": [
    "text7.concordance('however',lines=5)"
   ]
  },
  {
   "cell_type": "code",
   "execution_count": 25,
   "metadata": {
    "scrolled": true
   },
   "outputs": [
    {
     "name": "stdout",
     "output_type": "stream",
     "text": [
      "Displaying 5 of 27 matches:\n",
      "m within this almost saintly oval , however , his face projected suddenly broad\n",
      "ttle man with the black beard was , however , still contracted with something l\n",
      "rd . By the sheer rush of routine , however , the motion would have been put an\n",
      "retary said -- \" We are wandering , however , from the point . The only questio\n",
      " wax lady in evening dress . Snow , however , began to thicken and fall fast ; \n"
     ]
    }
   ],
   "source": [
    "text9.concordance('however',lines=5)"
   ]
  },
  {
   "cell_type": "markdown",
   "metadata": {},
   "source": [
    "#### Exercise 8\n",
    "Define a conditional frequency distribution over the Names corpus that allows you to see which initial letters are more frequent for males vs. females (cf. 4.4)"
   ]
  },
  {
   "cell_type": "code",
   "execution_count": 26,
   "metadata": {
    "scrolled": true
   },
   "outputs": [
    {
     "data": {
      "image/png": "[encoded data removed]",
      "text/plain": [
       "<Figure size 432x288 with 1 Axes>"
      ]
     },
     "metadata": {
      "needs_background": "light"
     },
     "output_type": "display_data"
    }
   ],
   "source": [
    "from nltk.corpus import names\n",
    "cfdNames=nltk.ConditionalFreqDist((target,name[0]) for target \n",
    "        in ['male','female'] for name in [name.lower() for name in names.words(target+'.txt')])\n",
    "cfdNames.plot()"
   ]
  },
  {
   "cell_type": "code",
   "execution_count": 27,
   "metadata": {},
   "outputs": [
    {
     "data": {
      "text/plain": [
       "5001"
      ]
     },
     "execution_count": 27,
     "metadata": {},
     "output_type": "execute_result"
    }
   ],
   "source": [
    "len(names.words('female.txt'))"
   ]
  },
  {
   "cell_type": "code",
   "execution_count": 28,
   "metadata": {},
   "outputs": [
    {
     "data": {
      "text/plain": [
       "2943"
      ]
     },
     "execution_count": 28,
     "metadata": {},
     "output_type": "execute_result"
    }
   ],
   "source": [
    "len(names.words('male.txt'))"
   ]
  },
  {
   "cell_type": "code",
   "execution_count": 29,
   "metadata": {},
   "outputs": [
    {
     "data": {
      "text/html": [
       "<div>\n",
       "<style scoped>\n",
       "    .dataframe tbody tr th:only-of-type {\n",
       "        vertical-align: middle;\n",
       "    }\n",
       "\n",
       "    .dataframe tbody tr th {\n",
       "        vertical-align: top;\n",
       "    }\n",
       "\n",
       "    .dataframe thead th {\n",
       "        text-align: right;\n",
       "    }\n",
       "</style>\n",
       "<table border=\"1\" class=\"dataframe\">\n",
       "  <thead>\n",
       "    <tr style=\"text-align: right;\">\n",
       "      <th></th>\n",
       "      <th>male</th>\n",
       "      <th>female</th>\n",
       "    </tr>\n",
       "  </thead>\n",
       "  <tbody>\n",
       "    <tr>\n",
       "      <th>a</th>\n",
       "      <td>0.072375</td>\n",
       "      <td>0.088582</td>\n",
       "    </tr>\n",
       "    <tr>\n",
       "      <th>b</th>\n",
       "      <td>0.058784</td>\n",
       "      <td>0.049190</td>\n",
       "    </tr>\n",
       "    <tr>\n",
       "      <th>c</th>\n",
       "      <td>0.056405</td>\n",
       "      <td>0.093781</td>\n",
       "    </tr>\n",
       "    <tr>\n",
       "      <th>d</th>\n",
       "      <td>0.049609</td>\n",
       "      <td>0.061588</td>\n",
       "    </tr>\n",
       "    <tr>\n",
       "      <th>e</th>\n",
       "      <td>0.040435</td>\n",
       "      <td>0.050190</td>\n",
       "    </tr>\n",
       "  </tbody>\n",
       "</table>\n",
       "</div>"
      ],
      "text/plain": [
       "       male    female\n",
       "a  0.072375  0.088582\n",
       "b  0.058784  0.049190\n",
       "c  0.056405  0.093781\n",
       "d  0.049609  0.061588\n",
       "e  0.040435  0.050190"
      ]
     },
     "execution_count": 29,
     "metadata": {},
     "output_type": "execute_result"
    }
   ],
   "source": [
    "# Normalize the frequencies with corpus length\n",
    "df=pd.DataFrame(cfdNames,columns=cfdNames.conditions())\n",
    "df.female=df.female/len(names.words('female.txt'))\n",
    "df.male=df.male/len(names.words('male.txt'))\n",
    "df.head()"
   ]
  },
  {
   "cell_type": "code",
   "execution_count": 30,
   "metadata": {
    "scrolled": true
   },
   "outputs": [
    {
     "data": {
      "text/plain": [
       "<matplotlib.legend.Legend at 0x1a2d21ebe0>"
      ]
     },
     "execution_count": 30,
     "metadata": {},
     "output_type": "execute_result"
    },
    {
     "data": {
      "image/png": "[encoded data removed]",
      "text/plain": [
       "<Figure size 432x288 with 1 Axes>"
      ]
     },
     "metadata": {
      "needs_background": "light"
     },
     "output_type": "display_data"
    }
   ],
   "source": [
    "plt.plot(df)\n",
    "plt.legend(df.columns)"
   ]
  },
  {
   "cell_type": "markdown",
   "metadata": {
    "scrolled": true
   },
   "source": [
    "g,h,s and w seem more frequent for males compared to females"
   ]
  },
  {
   "cell_type": "markdown",
   "metadata": {},
   "source": [
    "#### Exercise 9\n",
    "Pick a pair of texts and study the differences between them, in terms of vocabulary, vocabulary richness, genre, etc. Can you find pairs of words which have quite different meanings across the two texts, such as monstrous in Moby Dick and in Sense and Sensibility?"
   ]
  },
  {
   "cell_type": "code",
   "execution_count": 31,
   "metadata": {},
   "outputs": [
    {
     "data": {
      "text/plain": [
       "<Text: The Book of Genesis>"
      ]
     },
     "execution_count": 31,
     "metadata": {},
     "output_type": "execute_result"
    }
   ],
   "source": [
    "text3"
   ]
  },
  {
   "cell_type": "code",
   "execution_count": 32,
   "metadata": {},
   "outputs": [
    {
     "data": {
      "text/plain": [
       "<Text: Inaugural Address Corpus>"
      ]
     },
     "execution_count": 32,
     "metadata": {},
     "output_type": "execute_result"
    }
   ],
   "source": [
    "text4"
   ]
  },
  {
   "cell_type": "code",
   "execution_count": 33,
   "metadata": {},
   "outputs": [],
   "source": [
    "from nltk.corpus import stopwords"
   ]
  },
  {
   "cell_type": "code",
   "execution_count": 34,
   "metadata": {},
   "outputs": [],
   "source": [
    "# comparing t1 and t2\n",
    "def corpusMetrics(t1,t2):\n",
    "    t1=[word.lower() for word in t1 if len(word)>=2 and word.isalpha()]\n",
    "    t2=[word.lower() for word in t2 if len(word)>=2 and word.isalpha()]\n",
    "    v1=set(t1); v2=set(t2);\n",
    "    print('vocabulary:',len(v1),len(v2));\n",
    "    print('lexical diversity:', round(len(v1)/len(t1),2),round(len(v2)/len(t2),2));\n",
    "    freq1=FreqDist([w for w in t1 if w not in stopwords.words('english')])\n",
    "    freq2=FreqDist([w for w in t2 if w not in stopwords.words('english')])\n",
    "    print(freq1.most_common(10),freq2.most_common(10))"
   ]
  },
  {
   "cell_type": "code",
   "execution_count": 35,
   "metadata": {
    "scrolled": true
   },
   "outputs": [
    {
     "name": "stdout",
     "output_type": "stream",
     "text": [
      "vocabulary: 2603 8959\n",
      "lexical diversity: 0.07 0.07\n",
      "[('unto', 598), ('said', 477), ('thou', 284), ('thy', 278), ('shall', 259), ('thee', 257), ('god', 231), ('lord', 207), ('father', 198), ('land', 184)] [('government', 593), ('people', 563), ('us', 455), ('upon', 369), ('must', 346), ('may', 334), ('great', 331), ('states', 329), ('world', 329), ('shall', 314)]\n"
     ]
    }
   ],
   "source": [
    "corpusMetrics(text3,text4)"
   ]
  },
  {
   "cell_type": "code",
   "execution_count": 36,
   "metadata": {
    "scrolled": true
   },
   "outputs": [
    {
     "name": "stdout",
     "output_type": "stream",
     "text": [
      "Displaying 5 of 8 matches:\n",
      " And thou shalt go to thy fathers in peace ; thou shalt be buried in a good old\n",
      "nd the man wondering at her held his peace , to wit whether the LORD had made h\n",
      "away , and they departed from him in peace . And it came to pass the same day ,\n",
      "come again to my father ' s house in peace ; then shall the LORD be my G And th\n",
      "cattle in the fie and Jacob held his peace until they were come . And Hamor the\n"
     ]
    }
   ],
   "source": [
    "text3.concordance('peace',lines=5)"
   ]
  },
  {
   "cell_type": "code",
   "execution_count": 37,
   "metadata": {},
   "outputs": [
    {
     "name": "stdout",
     "output_type": "stream",
     "text": [
      "Displaying 5 of 252 matches:\n",
      " and delight in its effects upon the peace , order , prosperity , and happiness\n",
      " love of liberty to independence and peace , to increasing wealth and unexample\n",
      "or secret enemies of his country ' s peace . This example has been recommended \n",
      "inflexible determination to maintain peace and inviolable faith with all nation\n",
      "es and to all nations , and maintain peace , friendship , and benevolence with \n"
     ]
    }
   ],
   "source": [
    "text4.concordance('peace',lines=5)"
   ]
  },
  {
   "cell_type": "markdown",
   "metadata": {},
   "source": [
    "text4 has more vocabulary than text3. Both texts have more or less the equal lexical diversity. From the most frequent words text3 seems to be related to God and text4 to politics. The contexts of 'peace' in both the texts are not the same. In text3 its related do death and eternity where as in text4 its peace as opposed to war"
   ]
  },
  {
   "cell_type": "markdown",
   "metadata": {},
   "source": [
    "#### Exercise 10\n",
    "Read the BBC News article: UK's Vicky Pollards 'left behind' http://news.bbc.co.uk/1/hi/education/6173441.stm. The article gives the following statistic about teen language: \"the top 20 words used, including yeah, no, but and like, account for around a third of all words.\" How many word types account for a third of all word tokens, for a variety of text sources? What do you conclude about this statistic? Read more about this on LanguageLog, at http://itre.cis.upenn.edu/~myl/languagelog/archives/003993.html."
   ]
  },
  {
   "cell_type": "code",
   "execution_count": 38,
   "metadata": {},
   "outputs": [],
   "source": [
    "wordsBrown=[w.lower() for w in brown.words() if w.isalpha()]\n",
    "freqBrown=nltk.FreqDist(wordsBrown)\n",
    "top20Brown=freqBrown.most_common(20)"
   ]
  },
  {
   "cell_type": "code",
   "execution_count": 39,
   "metadata": {
    "scrolled": true
   },
   "outputs": [
    {
     "data": {
      "text/plain": [
       "314739"
      ]
     },
     "execution_count": 39,
     "metadata": {},
     "output_type": "execute_result"
    }
   ],
   "source": [
    "sum20Brown=sum(j for i,j in top20Brown)\n",
    "sum20Brown"
   ]
  },
  {
   "cell_type": "code",
   "execution_count": 40,
   "metadata": {
    "scrolled": true
   },
   "outputs": [
    {
     "name": "stdout",
     "output_type": "stream",
     "text": [
      "Top 20 words in brown corpus account for: 32.06 %\n"
     ]
    }
   ],
   "source": [
    "print('Top 20 words in brown corpus account for:',round(sum20Brown/len(wordsBrown)*100,2),'%')"
   ]
  },
  {
   "cell_type": "code",
   "execution_count": 41,
   "metadata": {},
   "outputs": [
    {
     "name": "stdout",
     "output_type": "stream",
     "text": [
      "Top 20 words in inaugural corpus account for: 37.03 %\n"
     ]
    }
   ],
   "source": [
    "from nltk.corpus import inaugural\n",
    "wordsInaugural=[w.lower() for w in inaugural.words() if w.isalpha()]\n",
    "freqInaugural=nltk.FreqDist(wordsInaugural)\n",
    "top20Inaugural=freqInaugural.most_common(20)\n",
    "sum20Inaugural=sum(j for i,j in top20Inaugural)\n",
    "print('Top 20 words in inaugural corpus account for:',round(sum20Inaugural/len(wordsInaugural)*100,2),'%')"
   ]
  },
  {
   "cell_type": "code",
   "execution_count": 42,
   "metadata": {},
   "outputs": [],
   "source": [
    "condBrown=[(genre,round(sum(j for i,j in nltk.FreqDist([w.lower() for w in brown.words(categories=genre) \n",
    "if w.isalpha()]).most_common(20))/len([w.lower() for w in brown.words(categories=genre) \n",
    "if w.isalpha()])*100,2)) for genre in brown.categories()]"
   ]
  },
  {
   "cell_type": "code",
   "execution_count": 43,
   "metadata": {
    "scrolled": true
   },
   "outputs": [
    {
     "data": {
      "text/plain": [
       "[('adventure', 33.31),\n",
       " ('belles_lettres', 33.59),\n",
       " ('editorial', 32.1),\n",
       " ('fiction', 33.95),\n",
       " ('government', 33.96),\n",
       " ('hobbies', 31.98),\n",
       " ('humor', 32.73),\n",
       " ('learned', 34.08),\n",
       " ('lore', 32.57),\n",
       " ('mystery', 33.32),\n",
       " ('news', 31.56),\n",
       " ('religion', 33.29),\n",
       " ('reviews', 32.05),\n",
       " ('romance', 33.89),\n",
       " ('science_fiction', 31.52)]"
      ]
     },
     "execution_count": 43,
     "metadata": {},
     "output_type": "execute_result"
    }
   ],
   "source": [
    "condBrown"
   ]
  },
  {
   "cell_type": "markdown",
   "metadata": {},
   "source": [
    "Totally agree with the blog posts. BBC's claim that the top 20 words used by british teenagers account for a third of what they speak is indicative of their vocabulary, is preposterous. As Mark Liberman mentions in his post, it is a common trend in everybody's speech irrespective of age ranges. Also as he rightly mentions, the vocabulary and metrics of a piece of text depends on the way it is preprocessed, its genre and length. "
   ]
  },
  {
   "cell_type": "markdown",
   "metadata": {},
   "source": [
    "#### Exercise 11\n",
    "Investigate the table of modal distributions and look for other patterns. Try to explain them in terms of your own impressionistic understanding of the different genres. Can you find other closed classes of words that exhibit significant differences across different genres?"
   ]
  },
  {
   "cell_type": "code",
   "execution_count": 44,
   "metadata": {},
   "outputs": [],
   "source": [
    "words=['certainly','probably']"
   ]
  },
  {
   "cell_type": "code",
   "execution_count": 45,
   "metadata": {
    "scrolled": true
   },
   "outputs": [
    {
     "name": "stdout",
     "output_type": "stream",
     "text": [
      "          certainly  probably \n",
      "     news         7        20 \n",
      "editorial        19        12 \n"
     ]
    }
   ],
   "source": [
    "cfdBrown=nltk.ConditionalFreqDist((genre,word) for word in words for \n",
    "        genre in brown.categories() for w in [w.lower() for w in brown.words(categories=genre)] if word==w)\n",
    "cfdBrown.tabulate(conditions=['news','editorial'])"
   ]
  },
  {
   "cell_type": "markdown",
   "metadata": {},
   "source": [
    "The news section is neutral where as a the editorial section is opinionated. The frequency of the modal verbs certainly and probably are indicative of the definition of these genres"
   ]
  },
  {
   "cell_type": "markdown",
   "metadata": {},
   "source": [
    "#### Exercise 12\n",
    "The CMU Pronouncing Dictionary contains multiple pronunciations for certain words. How many distinct words does it contain? What fraction of words in this dictionary have more than one possible pronunciation?"
   ]
  },
  {
   "cell_type": "code",
   "execution_count": 46,
   "metadata": {},
   "outputs": [
    {
     "name": "stdout",
     "output_type": "stream",
     "text": [
      "distinct words: 123455\n",
      "More than one pronunciation: 0.08\n"
     ]
    }
   ],
   "source": [
    "from nltk.corpus import cmudict\n",
    "cmu=cmudict.entries()\n",
    "print('distinct words:',len(dict(cmu).keys()))\n",
    "print('More than one pronunciation:',round((len(cmu)-len(dict(cmu).keys()))/len(cmu),2))"
   ]
  },
  {
   "cell_type": "markdown",
   "metadata": {},
   "source": [
    "#### Exercise 13\n",
    "What percentage of noun synsets have no hyponyms? You can get all noun synsets using wn.all_synsets('n')."
   ]
  },
  {
   "cell_type": "code",
   "execution_count": 47,
   "metadata": {},
   "outputs": [
    {
     "name": "stdout",
     "output_type": "stream",
     "text": [
      "79.7\n"
     ]
    }
   ],
   "source": [
    "from nltk.corpus import wordnet as wn\n",
    "total=0;\n",
    "count=0;\n",
    "for synset in wn.all_synsets('n'):\n",
    "    total+=1;\n",
    "    if synset.hyponyms()==[]:\n",
    "        count+=1;\n",
    "print(round(count/total,3)*100)"
   ]
  },
  {
   "cell_type": "markdown",
   "metadata": {},
   "source": [
    "#### Exercise 14\n",
    "Define a function supergloss(s) that takes a synset s as its argument and returns a string consisting of the concatenation of the definition of s, and the definitions of all the hypernyms and hyponyms of s."
   ]
  },
  {
   "cell_type": "code",
   "execution_count": 48,
   "metadata": {},
   "outputs": [],
   "source": [
    "def supergloss(s):\n",
    "    print(s.definition(),'\\n');\n",
    "    definitionshypo=[];\n",
    "    definitionshyper=[];\n",
    "    for hypo in s.hyponyms():\n",
    "        definitionshypo.append(hypo.definition());\n",
    "    for hyper in s.hypernyms():\n",
    "        definitionshyper.append(hyper.definition());\n",
    "    print('hyponyms:',definitionshypo,'\\n');\n",
    "    print('hypernyms:',definitionshyper);"
   ]
  },
  {
   "cell_type": "code",
   "execution_count": 49,
   "metadata": {},
   "outputs": [
    {
     "name": "stdout",
     "output_type": "stream",
     "text": [
      "a motor vehicle with four wheels; usually propelled by an internal combustion engine \n",
      "\n",
      "hyponyms: ['a vehicle that takes people to and from hospitals', 'a car that has a long body and rear door with space behind rear seat', 'a car that is old and unreliable', 'a car driven by a person whose job is to take passengers where they want to go in exchange for money', 'a small and economical car', 'a car that has top that can be folded or removed', 'a car with two doors and front seats and a luggage compartment', 'a car in which policemen cruise the streets; equipped with radiotelephonic communications to headquarters', 'a car that is powered by electricity', 'a car with relatively low fuel efficiency', 'a car that resembles a convertible but has a fixed rigid top', 'a car having a hatchback door', 'an early term for an automobile', 'a car modified to increase its speed and acceleration', 'a car suitable for traveling over rough terrain', 'large luxurious car; usually driven by a chauffeur', 'a car that is lent as a replacement for one that is under repair', 'a car that is even smaller than a subcompact car', 'a small box-shaped passenger van; usually has removable seats; used as a family car', 'the first widely available automobile powered by a gasoline engine; mass-produced by Henry Ford from 1908 to 1927', 'a high-performance car that leads a parade of competing cars through the pace lap and then pulls off the course', 'a fast car that competes in races', 'an open automobile having a front seat and a rumble seat', 'a car that is closed and that has front and rear seats and two or four doors', 'a high-performance four-wheel drive car built on a truck chassis', 'a small low car with a high-powered engine; usually seats two persons', 'a steam-powered automobile', \"a car kept in dealers' stock for regular sales\", 'a car smaller than a compact car', 'large open car seating four with folding top', 'a car that has been previously owned; not a new car'] \n",
      "\n",
      "hypernyms: ['a self-propelled wheeled vehicle that does not run on rails']\n"
     ]
    }
   ],
   "source": [
    "supergloss(wn.synset('car.n.01'))"
   ]
  },
  {
   "cell_type": "markdown",
   "metadata": {},
   "source": [
    "#### Exercise 15\n",
    "Write a program to find all words that occur at least three times in the Brown Corpus."
   ]
  },
  {
   "cell_type": "code",
   "execution_count": 50,
   "metadata": {},
   "outputs": [
    {
     "name": "stdout",
     "output_type": "stream",
     "text": [
      "['the', 'fulton', 'county', 'grand', 'jury', 'said', 'friday', 'an', 'investigation', 'of', 'recent', 'primary', 'election', 'produced', 'no', 'evidence', 'that', 'any', 'irregularities', 'took', 'place', 'the', 'jury', 'further', 'said', 'in', 'that', 'the', 'city', 'executive', 'committee', 'which', 'had', 'charge', 'of', 'the', 'election', 'deserves', 'the', 'praise', 'and', 'thanks', 'of', 'the', 'city', 'of', 'atlanta', 'for', 'the', 'manner', 'in', 'which', 'the', 'election', 'was', 'conducted', 'the', 'term', 'jury', 'had', 'been', 'charged', 'by', 'fulton', 'superior', 'court', 'judge', 'to', 'investigate', 'reports', 'of', 'possible', 'irregularities', 'in', 'the', 'primary', 'which', 'was', 'won', 'by', 'ivan', 'allen', 'only', 'relative', 'handful', 'of', 'such', 'reports', 'was', 'received', 'the', 'jury', 'said', 'considering', 'the', 'widespread', 'interest', 'in', 'the', 'election', 'the', 'number', 'of', 'voters', 'and', 'the', 'size', 'of', 'this', 'city', 'the', 'jury', 'said', 'it', 'did', 'find', 'that', 'many', 'of', 'registration', 'and', 'election', 'laws', 'are', 'outmoded', 'or', 'inadequate', 'and', 'often', 'ambiguous', 'it', 'recommended', 'that', 'fulton', 'legislators', 'act', 'to', 'have', 'these', 'laws', 'studied', 'and', 'revised', 'to', 'the', 'end', 'of', 'modernizing', 'and', 'improving', 'them', 'the', 'grand', 'jury', 'commented', 'on', 'number', 'of', 'other', 'topics', 'among', 'them', 'the', 'atlanta', 'and', 'fulton', 'county', 'purchasing', 'departments', 'which', 'it', 'said', 'are', 'well', 'operated', 'and', 'follow', 'generally', 'accepted', 'practices', 'which', 'to', 'the', 'best', 'interest', 'of', 'both', 'governments', 'merger', 'proposed', 'however', 'the', 'jury', 'said', 'it', 'believes', 'these', 'two', 'offices', 'should']\n"
     ]
    }
   ],
   "source": [
    "from nltk.corpus import brown\n",
    "words=[word.lower() for word in brown.words() if len(word)>=2 and word.isalpha()]\n",
    "freq=FreqDist(words)\n",
    "print([w for w in words if freq[w]>=3][:200]) # printing only first 200 words"
   ]
  },
  {
   "cell_type": "code",
   "execution_count": 51,
   "metadata": {},
   "outputs": [
    {
     "name": "stdout",
     "output_type": "stream",
     "text": [
      "18928\n"
     ]
    }
   ],
   "source": [
    "print(len(set([w for w in freq.keys() if freq[w]>=3])))"
   ]
  },
  {
   "cell_type": "markdown",
   "metadata": {},
   "source": [
    "#### Exercise 16\n",
    "Write a program to generate a table of lexical diversity scores (i.e. token/type ratios), as we saw in 1.1. Include the full set of Brown Corpus genres (nltk.corpus.brown.categories()). Which genre has the lowest diversity (greatest number of tokens per type)? Is this what you would have expected?"
   ]
  },
  {
   "cell_type": "code",
   "execution_count": 52,
   "metadata": {},
   "outputs": [],
   "source": [
    "def lexical_diversity(corpus):\n",
    "    df=pd.DataFrame(columns=['genre','score']);\n",
    "    for category in corpus.categories():\n",
    "        words=corpus.words(categories=category)\n",
    "        df=df.append({'genre':category,'score':round(len(set(words))/len(words),2)},ignore_index=True)\n",
    "    return df;"
   ]
  },
  {
   "cell_type": "code",
   "execution_count": 53,
   "metadata": {
    "scrolled": false
   },
   "outputs": [
    {
     "data": {
      "text/html": [
       "<div>\n",
       "<style scoped>\n",
       "    .dataframe tbody tr th:only-of-type {\n",
       "        vertical-align: middle;\n",
       "    }\n",
       "\n",
       "    .dataframe tbody tr th {\n",
       "        vertical-align: top;\n",
       "    }\n",
       "\n",
       "    .dataframe thead th {\n",
       "        text-align: right;\n",
       "    }\n",
       "</style>\n",
       "<table border=\"1\" class=\"dataframe\">\n",
       "  <thead>\n",
       "    <tr style=\"text-align: right;\">\n",
       "      <th></th>\n",
       "      <th>genre</th>\n",
       "      <th>score</th>\n",
       "    </tr>\n",
       "  </thead>\n",
       "  <tbody>\n",
       "    <tr>\n",
       "      <th>0</th>\n",
       "      <td>adventure</td>\n",
       "      <td>0.13</td>\n",
       "    </tr>\n",
       "    <tr>\n",
       "      <th>1</th>\n",
       "      <td>belles_lettres</td>\n",
       "      <td>0.11</td>\n",
       "    </tr>\n",
       "    <tr>\n",
       "      <th>2</th>\n",
       "      <td>editorial</td>\n",
       "      <td>0.16</td>\n",
       "    </tr>\n",
       "    <tr>\n",
       "      <th>3</th>\n",
       "      <td>fiction</td>\n",
       "      <td>0.14</td>\n",
       "    </tr>\n",
       "    <tr>\n",
       "      <th>4</th>\n",
       "      <td>government</td>\n",
       "      <td>0.12</td>\n",
       "    </tr>\n",
       "    <tr>\n",
       "      <th>5</th>\n",
       "      <td>hobbies</td>\n",
       "      <td>0.14</td>\n",
       "    </tr>\n",
       "    <tr>\n",
       "      <th>6</th>\n",
       "      <td>humor</td>\n",
       "      <td>0.23</td>\n",
       "    </tr>\n",
       "    <tr>\n",
       "      <th>7</th>\n",
       "      <td>learned</td>\n",
       "      <td>0.09</td>\n",
       "    </tr>\n",
       "    <tr>\n",
       "      <th>8</th>\n",
       "      <td>lore</td>\n",
       "      <td>0.13</td>\n",
       "    </tr>\n",
       "    <tr>\n",
       "      <th>9</th>\n",
       "      <td>mystery</td>\n",
       "      <td>0.12</td>\n",
       "    </tr>\n",
       "    <tr>\n",
       "      <th>10</th>\n",
       "      <td>news</td>\n",
       "      <td>0.14</td>\n",
       "    </tr>\n",
       "    <tr>\n",
       "      <th>11</th>\n",
       "      <td>religion</td>\n",
       "      <td>0.16</td>\n",
       "    </tr>\n",
       "    <tr>\n",
       "      <th>12</th>\n",
       "      <td>reviews</td>\n",
       "      <td>0.21</td>\n",
       "    </tr>\n",
       "    <tr>\n",
       "      <th>13</th>\n",
       "      <td>romance</td>\n",
       "      <td>0.12</td>\n",
       "    </tr>\n",
       "    <tr>\n",
       "      <th>14</th>\n",
       "      <td>science_fiction</td>\n",
       "      <td>0.22</td>\n",
       "    </tr>\n",
       "  </tbody>\n",
       "</table>\n",
       "</div>"
      ],
      "text/plain": [
       "              genre  score\n",
       "0         adventure   0.13\n",
       "1    belles_lettres   0.11\n",
       "2         editorial   0.16\n",
       "3           fiction   0.14\n",
       "4        government   0.12\n",
       "5           hobbies   0.14\n",
       "6             humor   0.23\n",
       "7           learned   0.09\n",
       "8              lore   0.13\n",
       "9           mystery   0.12\n",
       "10             news   0.14\n",
       "11         religion   0.16\n",
       "12          reviews   0.21\n",
       "13          romance   0.12\n",
       "14  science_fiction   0.22"
      ]
     },
     "execution_count": 53,
     "metadata": {},
     "output_type": "execute_result"
    }
   ],
   "source": [
    "df=lexical_diversity(brown)\n",
    "df"
   ]
  },
  {
   "cell_type": "code",
   "execution_count": 54,
   "metadata": {},
   "outputs": [
    {
     "data": {
      "text/html": [
       "<div>\n",
       "<style scoped>\n",
       "    .dataframe tbody tr th:only-of-type {\n",
       "        vertical-align: middle;\n",
       "    }\n",
       "\n",
       "    .dataframe tbody tr th {\n",
       "        vertical-align: top;\n",
       "    }\n",
       "\n",
       "    .dataframe thead th {\n",
       "        text-align: right;\n",
       "    }\n",
       "</style>\n",
       "<table border=\"1\" class=\"dataframe\">\n",
       "  <thead>\n",
       "    <tr style=\"text-align: right;\">\n",
       "      <th></th>\n",
       "      <th>genre</th>\n",
       "      <th>score</th>\n",
       "    </tr>\n",
       "  </thead>\n",
       "  <tbody>\n",
       "    <tr>\n",
       "      <th>7</th>\n",
       "      <td>learned</td>\n",
       "      <td>0.09</td>\n",
       "    </tr>\n",
       "  </tbody>\n",
       "</table>\n",
       "</div>"
      ],
      "text/plain": [
       "     genre  score\n",
       "7  learned   0.09"
      ]
     },
     "execution_count": 54,
     "metadata": {},
     "output_type": "execute_result"
    }
   ],
   "source": [
    "df[df.score==df['score'].min()]"
   ]
  },
  {
   "cell_type": "markdown",
   "metadata": {},
   "source": [
    "#### Exercise 17\n",
    "Write a function that finds the 50 most frequently occurring words of a text that are not stopwords."
   ]
  },
  {
   "cell_type": "code",
   "execution_count": 55,
   "metadata": {},
   "outputs": [],
   "source": [
    "def most_freqwords(corpus):\n",
    "    words=corpus.words()\n",
    "    words=[word.lower() for word in words if len(word)>=2 and word.isalpha() and word.lower() not in stopwords.words('english')]\n",
    "    freq=FreqDist(words)\n",
    "    freqWords=freq.most_common(50)\n",
    "    for f in freqWords:\n",
    "        print(f[0],end=',')"
   ]
  },
  {
   "cell_type": "code",
   "execution_count": 56,
   "metadata": {},
   "outputs": [
    {
     "name": "stdout",
     "output_type": "stream",
     "text": [
      "one,would,said,new,could,time,two,may,first,like,man,even,made,also,many,must,af,back,years,much,way,well,people,little,state,good,make,world,still,see,men,work,long,get,life,never,day,another,know,last,us,might,great,old,year,come,since,go,came,right,"
     ]
    }
   ],
   "source": [
    "most_freqwords(brown)"
   ]
  },
  {
   "cell_type": "markdown",
   "metadata": {},
   "source": [
    "#### Exercise 18\n",
    "Write a program to print the 50 most frequent bigrams (pairs of adjacent words) of a text, omitting bigrams that contain stopwords."
   ]
  },
  {
   "cell_type": "code",
   "execution_count": 57,
   "metadata": {},
   "outputs": [],
   "source": [
    "def printBigrams(text):\n",
    "    text=[w for w in text if w.isalpha()]\n",
    "    bigrams=nltk.bigrams(text);\n",
    "    finalBigrams=[];\n",
    "    for b in bigrams:\n",
    "        if b[0].lower() not in stopwords.words('english') and b[1].lower() not in stopwords.words('english'):\n",
    "            finalBigrams.append(b);\n",
    "    print(finalBigrams);"
   ]
  },
  {
   "cell_type": "code",
   "execution_count": 58,
   "metadata": {},
   "outputs": [
    {
     "name": "stdout",
     "output_type": "stream",
     "text": [
      "[('Nathan', 'Milstein'), ('violin', 'Certainly'), ('Orchestra', 'Hall'), ('played', 'countless'), ('countless', 'recitals'), ('Thursday', 'night'), ('Chicago', 'Symphony'), ('Symphony', 'Orchestra'), ('Orchestra', 'playing'), ('Brahms', 'Concerto'), ('slashing', 'cadenza'), ('cadenza', 'melting'), ('high', 'pale'), ('pale', 'pure'), ('lovely', 'song'), ('violinist', 'unlocks'), ('forever', 'finds'), ('song', 'something'), ('something', 'incandescent'), ('white', 'heat'), ('noblest', 'performance'), ('great', 'nights'), ('orchestra', 'gave'), ('superb', 'support'), ('support', 'fired'), ('high', 'mood'), ('Walter', 'Hendl'), ('willing', 'conductor'), ('conductor', 'able'), ('Milstein', 'thrust'), ('thrust', 'straight'), ('music', 'sparks'), ('sparks', 'flying'), ('flying', 'bow'), ('bow', 'shredding'), ('shredding', 'violin'), ('violin', 'singing'), ('singing', 'glittering'), ('sometimes', 'spitting'), ('spitting', 'Hendl'), ('Hendl', 'could'), ('could', 'go'), ('go', 'along'), ('go', 'straight'), ('lets', 'music'), ('music', 'sprawl'), ('Brahms', 'none'), ('marvelous', 'alchemy'), ('great', 'conductor'), ('bring', 'soloist'), ('soloist', 'orchestra'), ('ultimate', 'fusion'), ('memorable', 'Milstein'), ('great', 'Brahms'), ('concert', 'opened'), ('another', 'big'), ('big', 'romantic'), ('romantic', 'score'), ('score', 'Overture'), ('suffered', 'fate'), ('orchestral', 'thrusts'), ('Byronic', 'point'), ('afloat', 'joust'), ('Weber', 'tunes'), ('serious', 'misfortune'), ('demands', 'transluscent'), ('transluscent', 'textures'), ('textures', 'buoyant'), ('buoyant', 'rhythms'), ('astringent', 'wit'), ('scrambled', 'coarsened'), ('coarsened', 'performance'), ('baton', 'lacks'), ('lacks', 'technique'), ('style', 'Bayreuth'), ('Bayreuth', 'next'), ('next', 'summer'), ('Bayreuth', 'Festival'), ('Festival', 'opens'), ('opens', 'July'), ('new', 'production'), ('Tannhaeuser', 'staged'), ('Wieland', 'Wagner'), ('Wolfgang', 'Sawallisch'), ('Sawallisch', 'Sawalisch'), ('Sawalisch', 'also'), ('also', 'conducts'), ('Flying', 'Dutch'), ('Dutch', 'opening'), ('opening', 'July'), ('July', 'Parsifal'), ('Parsifal', 'follows'), ('follows', 'July'), ('Hans', 'Knappertsbusch'), ('Knappertsbusch', 'conducting'), ('also', 'conducts'), ('conducts', 'Die'), ('Die', 'Meistersinger'), ('Ring', 'cycles'), ('Rudolf', 'Kempe'), ('Kempe', 'conducts'), ('Lotte', 'Lehmann'), ('Lehmann', 'sent'), ('sent', 'word'), ('Negro', 'soprano'), ('soprano', 'Grace'), ('Grace', 'Bumbry'), ('sing', 'Venus'), ('Tannhaeuser', 'Remember'), ('booking', 'absurdities'), ('absurdities', 'Chicago'), ('Chicago', 'missed'), ('missed', 'seeing'), ('Bolshoi', 'Ballet'), ('Ballet', 'Remember'), ('two', 'big'), ('big', 'theaters'), ('theaters', 'Chicago'), ('Chicago', 'missed'), ('first', 'visit'), ('Royal', 'Danish'), ('Danish', 'Ballet'), ('Ballet', 'Well'), ('two', 'big'), ('big', 'theaters'), ('ballet', 'cradle'), ('great', 'companies'), ('let', 'loose'), ('howl', 'saying'), ('several', 'times'), ('times', 'indeed'), ('big', 'theater'), ('McCormick', 'Place'), ('Sol', 'Hurok'), ('Hurok', 'ballet'), ('ballet', 'booker'), ('booker', 'extraordinary'), ('extraordinary', 'considers'), ('finest', 'house'), ('capacity', 'either'), ('set', 'Allied'), ('Allied', 'Arts'), ('Arts', 'Corporation'), ('Corporation', 'first'), ('first', 'listed'), ('Chicago', 'dates'), ('thru', 'Later'), ('Hurok', 'office'), ('office', 'made'), ('nice', 'long'), ('long', 'booking'), ('full', 'repertory'), ('conflict', 'Allied'), ('Allied', 'Arts'), ('booked', 'Marlene'), ('Marlene', 'Dietrich'), ('McCormick', 'Place'), ('La', 'Dietrich'), ('Dietrich', 'Allied'), ('Allied', 'Arts'), ('notified', 'us'), ('Kirov', 'would'), ('would', 'cut'), ('cut', 'short'), ('Los', 'Angeles'), ('Angeles', 'booking'), ('booking', 'fly'), ('close', 'Shorter'), ('Shorter', 'booking'), ('days', 'later'), ('balletomane', 'told'), ('telephoned', 'Allied'), ('Allied', 'Arts'), ('ticket', 'information'), ('started', 'making'), ('Kirov', 'Ballet'), ('firmly', 'booked'), ('Shrine', 'Auditorium'), ('Auditorium', 'Los'), ('Los', 'Angeles'), ('Angeles', 'thru'), ('juicy', 'booking'), ('booking', 'Hurok'), ('us', 'Well'), ('Well', 'Dietrich'), ('Dietrich', 'budge'), ('McCormick', 'Place'), ('Civic', 'Opera'), ('Opera', 'House'), ('House', 'Well'), ('Well', 'Allied'), ('Allied', 'Arts'), ('booked', 'Lena'), ('Lena', 'Horne'), ('week', 'starting'), ('starting', 'Queried'), ('impasse', 'Allied'), ('Allied', 'Arts'), ('Arts', 'said'), ('said', 'Better'), ('Better', 'cancel'), ('fly', 'back'), ('Russia', 'minus'), ('Chicago', 'engagement'), ('serious', 'loss'), ('dance', 'fans'), ('frustrated', 'bookers'), ('bookers', 'cancellation'), ('richest', 'bookings'), ('somebody', 'please'), ('please', 'reopen'), ('Auditorium', 'Paintings'), ('Marie', 'Moore'), ('Thomas', 'Virgin'), ('Virgin', 'Islands'), ('shown', 'thru'), ('Meadows', 'Gallery'), ('Gallery', 'Ellis'), ('Ellis', 'week'), ('week', 'days'), ('closed', 'Mondays'), ('Evelyn', 'paintings'), ('Evanston', 'Community'), ('Community', 'center'), ('center', 'Davis'), ('month', 'Abstractions'), ('Everett', 'McNear'), ('University', 'Gallery'), ('Notre', 'Dame'), ('operatic', 'trades'), ('Dallas', 'Civic'), ('Civic', 'Opera'), ('use', 'San'), ('San', 'new'), ('new', 'Leni'), ('Leni', 'production'), ('Lucia', 'Di'), ('Di', 'Lammermoor'), ('season', 'returning'), ('favor', 'next'), ('next', 'season'), ('San', 'Francisco'), ('Francisco', 'uses'), ('Giovanni', 'designed'), ('Franco', 'Zeffirelli'), ('Zeffirelli', 'H'), ('H', 'Bates'), ('farce', 'called'), ('called', 'Hark'), ('Hark', 'Hark'), ('irresponsible', 'novels'), ('moral', 'lurking'), ('lurking', 'among'), ('find', 'Perhaps'), ('welfare', 'state'), ('England', 'still'), ('still', 'allows'), ('allows', 'wild'), ('wild', 'scope'), ('rugged', 'eccentrics'), ('eccentrics', 'Anyway'), ('devastating', 'collisions'), ('collisions', 'One'), ('imperial', 'London'), ('London', 'stockbroker'), ('stockbroker', 'called'), ('called', 'Jerebohm'), ('Jerebohm', 'Another'), ('wily', 'countryman'), ('countryman', 'called'), ('called', 'Larkin'), ('Larkin', 'whose'), ('whose', 'blandly'), ('blandly', 'boisterous'), ('boisterous', 'progress'), ('earlier', 'volumes'), ('comedie', 'humaine'), ('Well', 'Jerebohm'), ('wife', 'Pinkie'), ('atrociously', 'expensive'), ('expensive', 'rustic'), ('rustic', 'simplicities'), ('manor', 'house'), ('modest', 'little'), ('little', 'place'), ('Shakespeare', 'might'), ('Great', 'Elizabeth'), ('bearded', 'courtiers'), ('settle', 'however'), ('offers', 'pheasants'), ('course', 'Larkin'), ('want', 'Splendor'), ('Gore', 'Court'), ('would', 'impress'), ('impress', 'Eliot'), ('way', 'Larkin'), ('Larkin', 'urges'), ('conjures', 'herds'), ('wild', 'birds'), ('birds', 'crowding'), ('Gore', 'Court'), ('Court', 'embodies'), ('Tudor', 'splendor'), ('windows', 'may'), ('developed', 'unpremeditated'), ('unpremeditated', 'patinas'), ('paneling', 'may'), ('political', 'platform'), ('vast', 'dungeon'), ('dungeon', 'kitchens'), ('kitchens', 'may'), ('may', 'seem'), ('seem', 'hardly'), ('hardly', 'worth'), ('worth', 'using'), ('using', 'except'), ('thousand', 'unexpected'), ('unexpected', 'guests'), ('lunch', 'Larkin'), ('Tudor', 'cooking'), ('cooking', 'areas'), ('provide', 'needed'), ('needed', 'space'), ('extra', 'television'), ('television', 'sets'), ('sets', 'required'), ('modern', 'butlers'), ('butlers', 'cooks'), ('maids', 'Also'), ('Also', 'perhaps'), ('indoor', 'sports'), ('wonder', 'really'), ('much', 'mendacious'), ('mendacious', 'trouble'), ('trouble', 'Larkin'), ('Larkin', 'puts'), ('preposterous', 'manse'), ('really', 'need'), ('immense', 'sum'), ('money', 'probably'), ('probably', 'converted'), ('American', 'gold'), ('London', 'Exchange'), ('already', 'wonderfully'), ('wonderfully', 'contented'), ('glorious', 'wife'), ('many', 'children'), ('needs', 'money'), ('buy', 'something'), ('something', 'like'), ('like', 'say'), ('keeps', 'near'), ('vegetable', 'patch'), ('surplus', 'army'), ('army', 'supplies'), ('supplies', 'One'), ('Gore', 'Court'), ('become', 'county'), ('county', 'people'), ('proper', 'way'), ('earth', 'First'), ('First', 'one'), ('Piccadilly', 'farmers'), ('truly', 'rural'), ('rural', 'living'), ('living', 'Bates'), ('Bates', 'shows'), ('shows', 'us'), ('mutual', 'education'), ('education', 'spreads'), ('inevitable', 'havoc'), ('havoc', 'Oneupmanship'), ('total', 'war'), ('war', 'First'), ('tangled', 'acres'), ('local', 'callers'), ('callers', 'One'), ('local', 'callers'), ('retired', 'brigadier'), ('brigadier', 'apparently'), ('apparently', 'left'), ('way', 'Larkin'), ('Larkin', 'gets'), ('deck', 'chair'), ('south', 'side'), ('quart', 'glass'), ('entirely', 'sporting'), ('brigadier', 'dines'), ('truly', 'odd'), ('impressive', 'film'), ('film', 'yet'), ('yet', 'made'), ('Miguel', 'De'), ('brilliant', 'Russian'), ('Russian', 'spectacle'), ('spectacle', 'done'), ('wide', 'screen'), ('opened', 'yesterday'), ('Street', 'Playhouses'), ('beautiful', 'visualization'), ('illustrious', 'adventures'), ('squire', 'Sancho'), ('Sancho', 'Panza'), ('inevitably', 'abbreviated'), ('abbreviated', 'rendering'), ('classic', 'satire'), ('affectingly', 'warm'), ('human', 'exposition'), ('character', 'Nikolai'), ('Nikolai', 'Cherkasov'), ('Russian', 'actor'), ('heroic', 'roles'), ('Alexander', 'Nevsky'), ('Terrible', 'performs'), ('simple', 'dignity'), ('inner', 'nobility'), ('surface', 'absurdity'), ('poignant', 'man'), ('ridiculous', 'position'), ('chivalrous', 'code'), ('doubt', 'intended'), ('gracious', 'symbol'), ('good', 'moving'), ('moving', 'soberly'), ('cynics', 'hypocrites'), ('rogues', 'Cherkasov'), ('bearded', 'bony'), ('bony', 'crackpot'), ('tangible', 'affection'), ('respect', 'Directed'), ('Grigory', 'Kozintsev'), ('studiously', 'slow'), ('high', 'tradition'), ('tradition', 'shining'), ('shining', 'brightly'), ('passing', 'gravely'), ('impious', 'world'), ('considerably', 'abetted'), ('appropriately', 'stilted'), ('stilted', 'English'), ('English', 'language'), ('excellently', 'dubbed'), ('Russian', 'dialogue'), ('characters', 'including'), ('richness', 'roughness'), ('helpfully', 'conveyed'), ('conveyed', 'Since'), ('Since', 'Russian'), ('spoken', 'instead'), ('Yuri', 'Tolubeyev'), ('Tolubeyev', 'one'), ('leading', 'comedians'), ('Sancho', 'Panza'), ('fat', 'grotesque'), ('grotesque', 'squire'), ('squire', 'Though'), ('comically', 'rounded'), ('peasant', 'dignity'), ('oftentimes', 'underlying'), ('underlying', 'vitality'), ('supposed', 'buffoons'), ('Sancho', 'Panza'), ('Panza', 'concludes'), ('facetiously', 'put'), ('film', 'True'), ('strong', 'literary'), ('literary', 'qualities'), ('bit', 'wearisome'), ('first', 'half'), ('Quixote', 'goes'), ('poignancy', 'develop'), ('develop', 'thenceforth'), ('deathbed', 'episodes'), ('episodes', 'gather'), ('old', 'boy'), ('good', 'representations'), ('finely', 'costumed'), ('magnificently', 'photographed'), ('Russian', 'films'), ('joint', 'cultural'), ('cultural', 'exchange'), ('exchange', 'Also'), ('nice', 'color'), ('color', 'film'), ('film', 'called'), ('called', 'Sunday'), ('Greenwich', 'Village'), ('joints', 'Television'), ('living', 'arrangement'), ('uneasy', 'guest'), ('relaxed', 'member'), ('unfortunate', 'assumption'), ('prime', 'evening'), ('evening', 'time'), ('example', 'could'), ('justified', 'without'), ('portentous', 'documentary'), ('working', 'hypothesis'), ('Jazz', 'presented'), ('program', 'came'), ('NBC', 'Special'), ('Special', 'Projects'), ('Projects', 'department'), ('Du', 'Pont'), ('Pont', 'Show'), ('Week', 'series'), ('series', 'Perhaps'), ('Perhaps', 'Special'), ('Special', 'Projects'), ('Projects', 'necessarily'), ('necessarily', 'thinks'), ('thinks', 'along'), ('along', 'documentary'), ('documentary', 'lines'), ('future', 'jazz'), ('jazz', 'show'), ('different', 'department'), ('department', 'one'), ('enough', 'confidence'), ('musical', 'material'), ('little', 'room'), ('latter', 'approach'), ('pleasing', 'results'), ('years', 'ago'), ('Timex', 'Jazz'), ('Jazz', 'Show'), ('Show', 'offered'), ('broad', 'range'), ('styles', 'ranging'), ('Lionel', 'big'), ('big', 'band'), ('enthusiastic', 'audience'), ('audience', 'confirmed'), ('live', 'character'), ('almost', 'always'), ('always', 'seems'), ('time', 'John'), ('John', 'TV'), ('TV', 'series'), ('popular', 'arts'), ('arts', 'proved'), ('giving', 'jazz'), ('jazz', 'ample'), ('ample', 'breathing'), ('breathing', 'space'), ('sensible', 'things'), ('hour', 'remembered'), ('almost', 'rudderless'), ('rudderless', 'movement'), ('jazz', 'luminaries'), ('luminaries', 'went'), ('lengthy', 'periods'), ('intense', 'concentration'), ('music', 'Cameras'), ('Cameras', 'stared'), ('extreme', 'closeups'), ('considerately', 'pulled'), ('pulled', 'back'), ('full', 'views'), ('ensemble', 'work'), ('work', 'Chicago'), ('Jazz', 'could'), ('Jack', 'Teagarden'), ('Teagarden', 'Gene'), ('Gene', 'Krupa'), ('Krupa', 'Bud'), ('Bud', 'Freeman'), ('Freeman', 'Pee'), ('Pee', 'Wee'), ('Wee', 'Russell'), ('Russell', 'Johnny'), ('Johnny', 'Cyr'), ('Cyr', 'Joe'), ('Joe', 'Sullivan'), ('Sullivan', 'Red'), ('Red', 'Allen'), ('Allen', 'Lil'), ('Lil', 'Armstrong'), ('Armstrong', 'Blossom'), ('Blossom', 'Seeley'), ('jazz', 'buff'), ('buff', 'could'), ('could', 'hardly'), ('hardly', 'ask'), ('Furthermore', 'Garry'), ('Garry', 'Moore'), ('Moore', 'makes'), ('ideal', 'master'), ('played', 'host'), ('Timex', 'show'), ('show', 'already'), ('already', 'mentioned'), ('mentioned', 'One'), ('big', 'problems'), ('blend', 'pictures'), ('live', 'performances'), ('today', 'NBC'), ('historical', 'material'), ('sheet', 'music'), ('word', 'jazz'), ('uncertain', 'origin'), ('origin', 'took'), ('took', 'hold'), ('hold', 'Samples'), ('Samples', 'zoomed'), ('closeup', 'range'), ('regular', 'succession'), ('succession', 'like'), ('like', 'telephone'), ('telephone', 'poles'), ('poles', 'passing'), ('representative', 'music'), ('music', 'reinforced'), ('late', 'teens'), ('However', 'well'), ('well', 'chosen'), ('cleverly', 'arranged'), ('memorabilia', 'unfortunately'), ('unfortunately', 'amounted'), ('main', 'business'), ('fresh', 'samples'), ('Chicago', 'style'), ('style', 'Another'), ('Another', 'source'), ('NBC', 'pride'), ('rare', 'film'), ('film', 'clip'), ('Bix', 'Beiderbecke'), ('great', 'trumpeter'), ('trumpeter', 'flew'), ('prolonged', 'wink'), ('wink', 'would'), ('entire', 'glimpse'), ('glimpse', 'Similarly'), ('presenting', 'still'), ('still', 'photographs'), ('early', 'jazz'), ('jazz', 'groups'), ('program', 'allowed'), ('close', 'perusal'), ('perusal', 'Chicago'), ('Jazz', 'may'), ('satisfying', 'neither'), ('confirmed', 'fan'), ('inquisitive', 'newcomer'), ('serious', 'survey'), ('bygone', 'era'), ('program', 'turned'), ('either', 'Still'), ('musical', 'field'), ('future', 'essays'), ('essays', 'happily'), ('happily', 'anticipated'), ('anticipated', 'Even'), ('Even', 'Joan'), ('Joan', 'Sutherland'), ('Sutherland', 'may'), ('tremendous', 'reception'), ('Metropolitan', 'Opera'), ('Opera', 'audience'), ('audience', 'attending'), ('Lucia', 'Di'), ('Di', 'Lammermoor'), ('Lammermoor', 'Sunday'), ('Sunday', 'night'), ('crowd', 'staged'), ('mad', 'scene'), ('standing', 'ovation'), ('Miss', 'Sutherland'), ('Sutherland', 'took'), ('took', 'curtain'), ('curtain', 'call'), ('curtain', 'call'), ('call', 'following'), ('fantastic', 'Mad'), ('Mad', 'Scene'), ('Scene', 'created'), ('Scene', 'Act'), ('Act', 'brought'), ('disconcerting', 'applause'), ('applause', 'even'), ('note', 'Thereafter'), ('audience', 'waxed'), ('discriminating', 'operagoers'), ('operagoers', 'reserved'), ('reserved', 'judgment'), ('singing', 'showed'), ('showed', 'signs'), ('questionable', 'procedure'), ('acting', 'uncomfortable'), ('uncomfortable', 'stylization'), ('gained', 'composure'), ('second', 'act'), ('technical', 'resourcefulness'), ('resourcefulness', 'emerged'), ('emerged', 'stronger'), ('stronger', 'though'), ('already', 'revealed'), ('trill', 'almost'), ('almost', 'unprecedented'), ('sextet', 'brilliantly'), ('high', 'note'), ('show', 'midway'), ('Mad', 'Scene'), ('real', 'reason'), ('extraordinary', 'performance'), ('performance', 'unfolding'), ('moment', 'Miss'), ('Miss', 'Sutherland'), ('Sutherland', 'appeared'), ('appeared', 'almost'), ('another', 'person'), ('girlish', 'Lucia'), ('sensational', 'coloratura'), ('ran', 'across'), ('across', 'stage'), ('actress', 'immersed'), ('outburst', 'brought'), ('brought', 'almost'), ('almost', 'breathless'), ('breathless', 'silence'), ('Miss', 'Sutherland'), ('Sutherland', 'revealed'), ('voice', 'probably'), ('probably', 'unique'), ('unique', 'among'), ('among', 'sopranos'), ('sopranos', 'today'), ('big', 'flexible'), ('flexible', 'voice'), ('uncommon', 'range'), ('superbly', 'disciplined'), ('disciplined', 'Nervousness'), ('start', 'must'), ('first', 'scene'), ('may', 'warm'), ('vocal', 'splendor'), ('splendor', 'however'), ('could', 'sing'), ('famous', 'scene'), ('scene', 'magnificently'), ('magnificently', 'Technically'), ('fascinating', 'aurally'), ('dramatically', 'quite'), ('quite', 'realistic'), ('realistic', 'Many'), ('Many', 'years'), ('passed', 'since'), ('Metropolitan', 'audience'), ('audience', 'heard'), ('heard', 'anything'), ('anything', 'comparable'), ('earlier', 'scenes'), ('emerge', 'equally'), ('equally', 'fine'), ('performance', 'also'), ('also', 'marked'), ('promising', 'young'), ('young', 'conductor'), ('conductor', 'Silvio'), ('Silvio', 'Varviso'), ('many', 'years'), ('may', 'respect'), ('Italian', 'tradition'), ('letting', 'singers'), ('singers', 'hold'), ('opera', 'may'), ('quite', 'difficult'), ('difficult', 'Richard'), ('Richard', 'Tucker'), ('Tucker', 'sang'), ('sang', 'Edgardo'), ('glorious', 'voice'), ('bel', 'canto'), ('canto', 'style'), ('style', 'gave'), ('special', 'distinction'), ('cast', 'fulfilled'), ('old', 'production'), ('limited', 'stage'), ('stage', 'direction'), ('direction', 'proved'), ('serviceable', 'Miss'), ('Miss', 'Sutherland'), ('Sutherland', 'first'), ('first', 'sang'), ('sang', 'Lucia'), ('Covent', 'Garden'), ('first', 'Metropolitan'), ('Metropolitan', 'Opera'), ('Opera', 'broadcast'), ('since', 'turned'), ('Bellini', 'whose'), ('whose', 'opera'), ('opera', 'Beatrice'), ('Beatrice', 'Di'), ('Di', 'Tenda'), ('concert', 'version'), ('American', 'Opera'), ('Opera', 'Society'), ('Society', 'introduced'), ('New', 'York'), ('York', 'last'), ('last', 'season'), ('sing', 'La'), ('La', 'Sonambula'), ('next', 'week'), ('week', 'Anyone'), ('musical', 'really'), ('really', 'quite'), ('quite', 'fun'), ('like', 'games'), ('stereo', 'music'), ('music', 'system'), ('speakers', 'preferably'), ('preferably', 'placed'), ('least', 'seven'), ('eight', 'feet'), ('feet', 'apart'), ('new', 'London'), ('London', 'Phase'), ('Phase', 'records'), ('popular', 'music'), ('music', 'except'), ('star', 'release'), ('release', 'Pass'), ('marching', 'songs'), ('several', 'nations'), ('nations', 'recorded'), ('various', 'national'), ('national', 'bands'), ('reviewing', 'stand'), ('stand', 'Complete'), ('crowd', 'effects'), ('effects', 'interruptions'), ('jet', 'planes'), ('disc', 'displays'), ('displays', 'new'), ('new', 'technique'), ('best', 'effect'), ('jackets', 'carry'), ('fairly', 'technical'), ('detailed', 'explanation'), ('new', 'recording'), ('recording', 'program'), ('popular', 'music'), ('serious', 'music'), ('music', 'Directionality'), ('greatly', 'exaggerated'), ('two', 'speakers'), ('excellent', 'depth'), ('definitely', 'hear'), ('instruments', 'close'), ('others', 'farther'), ('farther', 'back'), ('placement', 'apparently'), ('would', 'result'), ('nearer', 'instruments'), ('instruments', 'merely'), ('ones', 'farther'), ('farther', 'back'), ('good', 'stereo'), ('stereo', 'recording'), ('tremendous', 'advantages'), ('monaural', 'sound'), ('sound', 'London'), ('London', 'explains'), ('distinct', 'directional'), ('directional', 'effect'), ('Phase', 'series'), ('large', 'part'), ('novel', 'methods'), ('separate', 'tape'), ('tape', 'channels'), ('sound', 'engineers'), ('musical', 'staff'), ('final', 'two'), ('two', 'channels'), ('instrumental', 'parts'), ('different', 'times'), ('later', 'combined'), ('master', 'tape'), ('produce', 'special'), ('special', 'effects'), ('discs', 'may'), ('gained', 'immediately'), ('titles', 'include'), ('word', 'percussion'), ('percussive', 'Drums'), ('Drums', 'xylophones'), ('xylophones', 'castanets'), ('percussive', 'instruments'), ('reproduced', 'remarkably'), ('remarkably', 'well'), ('often', 'however'), ('instruments', 'lined'), ('one', 'wall'), ('others', 'facing'), ('head', 'starts'), ('tennis', 'court'), ('court', 'watching'), ('spirited', 'volley'), ('Percussive', 'Twenties'), ('Twenties', 'stirs'), ('stirs', 'pleasant'), ('pleasant', 'memories'), ('Johnny', 'Kombo'), ('Kombo', 'gives'), ('gives', 'forth'), ('tingling', 'jazz'), ('Percussive', 'Moods'), ('Moods', 'Big'), ('Big', 'Band'), ('Band', 'Percussion'), ('Percussion', 'seemed'), ('seemed', 'one'), ('least', 'attractive'), ('attractive', 'discs'), ('much', 'character'), ('extraordinary', 'sense'), ('recordings', 'apparently'), ('apparently', 'obtained'), ('high', 'frequencies'), ('big', 'bold'), ('bold', 'brilliant'), ('brassy', 'piano'), ('piano', 'sounds'), ('Two', 'Pianos'), ('releases', 'however'), ('gratifyingly', 'high'), ('high', 'level'), ('resultant', 'masking'), ('surface', 'noise'), ('noise', 'Pass'), ('Review', 'practically'), ('practically', 'guarantees'), ('guarantees', 'enjoyment'), ('dramatic', 'demonstration'), ('stereo', 'music'), ('music', 'system'), ('system', 'Many'), ('Many', 'Hollywood'), ('Hollywood', 'films'), ('films', 'manage'), ('manage', 'somehow'), ('realistic', 'Strange'), ('true', 'authenticity'), ('realism', 'often'), ('often', 'related'), ('Almost', 'every'), ('every', 'film'), ('film', 'bearing'), ('physically', 'authentic'), ('fact', 'impeccably'), ('given', 'period'), ('period', 'piece'), ('costumes', 'vehicles'), ('decor', 'bear'), ('unimpeachable', 'authenticity'), ('major', 'studios'), ('studios', 'maintain'), ('film', 'librarians'), ('research', 'specialists'), ('making', 'recently'), ('important', 'Biblical'), ('Biblical', 'film'), ('research', 'material'), ('architectural', 'developments'), ('developments', 'sports'), ('sports', 'arenas'), ('arenas', 'vehicles'), ('compiled', 'consulted'), ('authenticity', 'seems'), ('lavishly', 'true'), ('Biblical', 'drama'), ('drama', 'often'), ('wildly', 'unrealistic'), ('unrealistic', 'Thus'), ('Ruth', 'Naomi'), ('meticulously', 'authentic'), ('vague', 'adherence'), ('basic', 'storyline'), ('Ruth', 'remained'), ('finally', 'wound'), ('film', 'version'), ('new', 'King'), ('plot', 'involves'), ('involves', 'intrigues'), ('Gospels', 'Earlier'), ('month', 'Edward'), ('Edward', 'Murrow'), ('Murrow', 'director'), ('United', 'States'), ('States', 'Information'), ('Information', 'Agency'), ('Agency', 'came'), ('motion', 'picture'), ('picture', 'industry'), ('unauthentic', 'storylines'), ('country', 'much'), ('much', 'good'), ('Cold', 'War'), ('urged', 'greater'), ('greater', 'realism'), ('many', 'corners'), ('major', 'source'), ('meet', 'Would'), ('Macaulay', 'recounting'), ('prime', 'source'), ('knowledge', 'Yet'), ('globe', 'Hollywood'), ('sole', 'source'), ('man', 'totally'), ('totally', 'ignorant'), ('civilization', 'based'), ('Hollywood', 'alone'), ('might', 'come'), ('Francois', 'violinist'), ('New', 'York'), ('York', 'debut'), ('debut', 'three'), ('three', 'years'), ('years', 'ago'), ('ago', 'played'), ('return', 'engagement'), ('engagement', 'last'), ('last', 'night'), ('Judson', 'Hall'), ('Chicago', 'Conservatory'), ('Conservatory', 'College'), ('Donald', 'Jenni'), ('faculty', 'member'), ('DePaul', 'University'), ('small', 'hall'), ('first', 'half'), ('partially', 'open'), ('open', 'playing'), ('also', 'seemed'), ('overriding', 'drawback'), ('performances', 'however'), ('however', 'except'), ('opening', 'work'), ('work', 'Sonata'), ('clattered', 'along'), ('along', 'noisily'), ('unrelieved', 'fashion'), ('fashion', 'Sonata'), ('although', 'also'), ('also', 'vigorous'), ('vigorous', 'stood'), ('two', 'strong'), ('strong', 'treatment'), ('firm', 'attractive'), ('attractive', 'tone'), ('overly', 'sweet'), ('sweet', 'vibrato'), ('long', 'Brahmsian'), ('Brahmsian', 'phrases'), ('playing', 'gave'), ('handsome', 'performance'), ('Piano', 'called'), ('called', 'Bella'), ('Bella', 'Bella'), ('Robert', 'Fleming'), ('first', 'United'), ('United', 'States'), ('States', 'performance'), ('title', 'refers'), ('nickname', 'given'), ('National', 'Film'), ('Film', 'Board'), ('two', 'movements'), ('movements', 'one'), ('one', 'melodically'), ('melodically', 'sentimental'), ('brightly', 'capricious'), ('clever', 'enough'), ('wornout', 'idiom'), ('might', 'well'), ('well', 'indicate'), ('indicate', 'conjugal'), ('conjugal', 'felicity'), ('musical', 'terms'), ('Hollywood', 'Works'), ('Dohnanyi', 'Hubay'), ('Paganini', 'indicated'), ('virtuoso', 'fireworks'), ('reserved', 'attitude'), ('attitude', 'toward'), ('lyric', 'phrase'), ('phrase', 'Standard'), ('Standard', 'items'), ('recent', 'years'), ('years', 'Anna'), ('Anna', 'Xydis'), ('New', 'York'), ('York', 'Philharmonic'), ('Lewisohn', 'Stadium'), ('program', 'last'), ('last', 'night'), ('Town', 'Hall'), ('first', 'New'), ('New', 'York'), ('York', 'recital'), ('recital', 'since'), ('since', 'Miss'), ('Miss', 'Xydis'), ('natural', 'affinity'), ('twenty', 'years'), ('years', 'since'), ('inner', 'assurance'), ('audience', 'control'), ('always', 'beautiful'), ('sound', 'Since'), ('considerable', 'technical'), ('technical', 'virtuosity'), ('romantic', 'tradition'), ('tradition', 'Miss'), ('Miss', 'Xydis'), ('Xydis', 'gave'), ('good', 'deal'), ('grand', 'manner'), ('every', 'piece'), ('especially', 'effective'), ('closing', 'measures'), ('second', 'half'), ('Russian', 'composers'), ('Miss', 'Xydis'), ('Rachmaninoff', 'Prelude'), ('instance', 'gave'), ('exploit', 'one'), ('special', 'facilities'), ('produce', 'fine'), ('fine', 'bass'), ('bass', 'tones'), ('fine', 'silver'), ('silver', 'filagree'), ('four', 'Kabalevsky'), ('Kabalevsky', 'Preludes'), ('also', 'assured'), ('assured', 'rich'), ('Prokofieff', 'Seventh'), ('Seventh', 'Sonata'), ('modern', 'bravura'), ('Prokofieff', 'needs'), ('needs', 'Miss'), ('Miss', 'earlier'), ('earlier', 'selections'), ('Variations', 'Serieuses'), ('nicely', 'set'), ('others', 'Sonata'), ('E', 'minor'), ('unfailingly', 'pleasant'), ('B', 'flat'), ('flat', 'minor'), ('memory', 'lapse'), ('last', 'somewhat'), ('somewhat', 'marred'), ('deepest', 'music'), ('poorest', 'showing'), ('showing', 'Miss'), ('Miss', 'Xydis'), ('held', 'important'), ('important', 'commands'), ('World', 'War'), ('write', 'books'), ('best', 'books'), ('first', 'ones'), ('ones', 'written'), ('written', 'One'), ('country', 'five'), ('five', 'years'), ('first', 'publication'), ('Field', 'Marshal'), ('Marshal', 'Viscount'), ('Viscount', 'Slim'), ('long', 'book'), ('book', 'heavily'), ('heavily', 'weighted'), ('military', 'technicalities'), ('originally', 'Field'), ('Field', 'Marshal'), ('Marshal', 'Slim'), ('military', 'moves'), ('stress', 'hardship'), ('man', 'whose'), ('whose', 'reactions'), ('conclusions', 'get'), ('Field', 'Marshal'), ('William', 'Joseph'), ('Joseph', 'Slim'), ('Slim', 'First'), ('First', 'Viscount'), ('Viscount', 'Slim'), ('Slim', 'former'), ('former', 'Governor'), ('Governor', 'General'), ('principal', 'British'), ('British', 'commander'), ('Burma', 'War'), ('corps', 'commander'), ('disastrous', 'defeat'), ('British', 'forces'), ('outmaneuvered', 'outfought'), ('international', 'army'), ('Gurkhas', 'Indians'), ('Indians', 'Africans'), ('Africans', 'Chinese'), ('bitterly', 'fought'), ('fought', 'battles'), ('great', 'rivers'), ('waged', 'one'), ('brilliant', 'campaigns'), ('Forgotten', 'War'), ('soldiers', 'called'), ('Burma', 'fighting'), ('Europe', 'enjoyed'), ('enjoyed', 'priorities'), ('headlines', 'Parts'), ('Burmese', 'place'), ('place', 'names'), ('military', 'units'), ('little', 'application'), ('application', 'makes'), ('makes', 'everything'), ('everything', 'clear'), ('clear', 'enough'), ('exceptionally', 'book'), ('book', 'Field'), ('Field', 'Marshal'), ('Marshal', 'Slim'), ('description', 'amusing'), ('many', 'anecdotes'), ('pleasant', 'sense'), ('modest', 'enough'), ('admit', 'mistakes'), ('cardinal', 'error'), ('praises', 'many'), ('many', 'individuals'), ('individuals', 'generously'), ('tough', 'tireless'), ('tireless', 'able'), ('soldiers', 'Remaking'), ('win', 'Defeat'), ('lively', 'military'), ('military', 'narrative'), ('unending', 'problems'), ('high', 'command'), ('myriad', 'matters'), ('demand', 'attention'), ('battle', 'action'), ('could', 'return'), ('Burma', 'Field'), ('Field', 'Marshal'), ('Marshal', 'Slim'), ('defeated', 'remnants'), ('discouraged', 'army'), ('fresh', 'recruits'), ('training', 'discipline'), ('discipline', 'morale'), ('morale', 'leadership'), ('making', 'inspiring'), ('inspiring', 'speeches'), ('great', 'many'), ('seen', 'near'), ('front', 'lines'), ('general', 'morale'), ('morale', 'reasons'), ('supply', 'officers'), ('combat', 'troops'), ('headquarters', 'staff'), ('staff', 'accordingly'), ('crucial', 'matters'), ('matters', 'required'), ('required', 'constant'), ('constant', 'supervision'), ('supervision', 'labor'), ('noncombatant', 'troops'), ('troops', 'whose'), ('whose', 'morale'), ('administrative', 'organization'), ('delicate', 'diplomatic'), ('diplomatic', 'relations'), ('Top', 'Brass'), ('Brass', 'British'), ('British', 'American'), ('Chinese', 'health'), ('health', 'hygiene'), ('hygiene', 'medical'), ('medical', 'aid'), ('preventive', 'medicine'), ('medicine', 'hospitals'), ('hospitals', 'inadequate'), ('nurses', 'scanty'), ('scanty', 'food'), ('military', 'supplies'), ('supplies', 'logistics'), ('transport', 'airdrops'), ('airstrips', 'roads'), ('river', 'barges'), ('built', 'Expected'), ('commander', 'Commenting'), ('matters', 'Field'), ('Field', 'Marshal'), ('Marshal', 'Slim'), ('Slim', 'makes'), ('makes', 'many'), ('many', 'frank'), ('provocative', 'remarks'), ('two', 'courses'), ('desirable', 'equipment'), ('others', 'may'), ('cannot', 'give'), ('air', 'transport'), ('could', 'get'), ('Field', 'Marshal'), ('Marshal', 'Slim'), ('Japanese', 'soldiers'), ('Japanese', 'private'), ('marched', 'till'), ('last', 'five'), ('five', 'killed'), ('future', 'wars'), ('Field', 'Marshal'), ('Asian', 'fighting'), ('fighting', 'man'), ('least', 'equally'), ('equally', 'brave'), ('white', 'usually'), ('death', 'less'), ('less', 'encumbered'), ('mental', 'doubts'), ('doubts', 'less'), ('less', 'troubled'), ('humanitarian', 'sentiment'), ('mutilation', 'around'), ('living', 'standards'), ('standards', 'better'), ('better', 'fitted'), ('endure', 'hardship'), ('hardship', 'uncomplainingly'), ('demand', 'less'), ('young', 'buckaroos'), ('Texas', 'Boys'), ('Boys', 'Choir'), ('Choir', 'loped'), ('Town', 'Hall'), ('Hall', 'last'), ('last', 'night'), ('sizable', 'audience'), ('audience', 'Actually'), ('least', 'serious'), ('capable', 'direction'), ('founder', 'Geroge'), ('Geroge', 'Bragg'), ('boys', 'made'), ('lovely', 'sounds'), ('opening', 'group'), ('Baroque', 'madrigals'), ('motets', 'excerpts'), ('Stabat', 'Mater'), ('Britten', 'Ceremonial'), ('within', 'obvious'), ('obvious', 'limitations'), ('limitations', 'extremely'), ('extremely', 'pleasing'), ('one', 'expects'), ('unsettled', 'voices'), ('occasional', 'shrillness'), ('almost', 'earsplitting'), ('earsplitting', 'intensity'), ('occasional', 'waver'), ('remarkably', 'gifted'), ('gifted', 'conductor'), ('generally', 'superior'), ('even', 'beautiful'), ('beautiful', 'Furthermore'), ('solid', 'musical'), ('musical', 'virtues'), ('music', 'Lines'), ('Lines', 'came'), ('good', 'balance'), ('balance', 'Tempos'), ('piano', 'accompaniments'), ('Istvan', 'Szelenyi'), ('boy', 'soprano'), ('soprano', 'named'), ('named', 'Dixon'), ('Dixon', 'Boyd'), ('Boyd', 'sang'), ('Durante', 'solo'), ('solo', 'motet'), ('passages', 'enchantingly'), ('capable', 'soloists'), ('soloists', 'included'), ('included', 'David'), ('David', 'Clifton'), ('Clifton', 'Joseph'), ('Joseph', 'Schockler'), ('Pat', 'Thompson'), ('final', 'group'), ('group', 'included'), ('included', 'folk'), ('folk', 'songs'), ('back', 'home'), ('home', 'stomped'), ('irresistible', 'spirit'), ('cowboy', 'costume'), ('costume', 'Boys'), ('combination', 'proved'), ('proved', 'quite'), ('quite', 'irresistible'), ('irresistible', 'last'), ('last', 'night'), ('Polish', 'song'), ('dance', 'company'), ('company', 'called'), ('called', 'Mazowsze'), ('headquarters', 'opened'), ('City', 'Center'), ('Center', 'last'), ('last', 'night'), ('thoroughly', 'ingratiating'), ('ingratiating', 'company'), ('final', 'curtain'), ('curtain', 'falls'), ('may', 'suddenly'), ('suddenly', 'realize'), ('broad', 'grin'), ('means', 'though'), ('nonstop', 'format'), ('moves', 'along'), ('admirable', 'continuity'), ('folk', 'origin'), ('origin', 'gleaned'), ('every', 'section'), ('late', 'husband'), ('husband', 'founded'), ('theatrical', 'form'), ('form', 'treated'), ('treated', 'selectively'), ('selectively', 'choreographed'), ('choreographed', 'specifically'), ('performed', 'altogether'), ('altogether', 'professionally'), ('wide', 'range'), ('folk', 'movements'), ('sound', 'technical'), ('technical', 'ballet'), ('ballet', 'training'), ('equally', 'professional'), ('professional', 'sense'), ('performing', 'Since'), ('created', 'thirteen'), ('thirteen', 'years'), ('years', 'ago'), ('original', 'company'), ('charming', 'children'), ('wonderfully', 'vital'), ('engaging', 'youngsters'), ('constantly', 'full'), ('never', 'fewer'), ('intimate', 'numbers'), ('sentimental', 'flirtatious'), ('seem', 'unable'), ('particular', 'numbers'), ('two', 'identifiable'), ('identifiable', 'items'), ('conspicuously', 'excellent'), ('stunning', 'Krakowiak'), ('first', 'act'), ('mazurka', 'choreographed'), ('Witold', 'Zapala'), ('opera', 'Strasny'), ('Strasny', 'may'), ('beautiful', 'mazurka'), ('likely', 'ever'), ('enchanting', 'polonaise'), ('Tatras', 'contain'), ('magnificent', 'dance'), ('men', 'Everywhere'), ('little', 'touches'), ('ebullient', 'comedian'), ('odd', 'instruments'), ('winning', 'warmth'), ('Matunuck', 'presents'), ('presents', 'King'), ('Jean', 'Kerr'), ('Eleanor', 'Brooke'), ('Brooke', 'Directed'), ('Michael', 'Murray'), ('Murray', 'settings'), ('William', 'David'), ('David', 'Roberts'), ('cast', 'Producer'), ('Producer', 'John'), ('John', 'Holmes'), ('delightful', 'comedy'), ('Jean', 'King'), ('sharp', 'witty'), ('candid', 'typical'), ('typical', 'eat'), ('daisies', 'material'), ('author', 'throughout'), ('audience', 'liked'), ('famous', 'strip'), ('strip', 'cartoonist'), ('arty', 'individual'), ('individual', 'whose'), ('whose', 'specialty'), ('American', 'boy'), ('fresh', 'idea'), ('idea', 'material'), ('troubles', 'begin'), ('fledgling', 'artist'), ('particular', 'respect'), ('John', 'Heffernan'), ('Heffernan', 'playing'), ('playing', 'Larry'), ('Larry', 'Larkin'), ('cartoonist', 'carries'), ('marvelous', 'fashion'), ('edgy', 'artist'), ('virtually', 'flawless'), ('unfortunate', 'perhaps'), ('David', 'Hedison'), ('Hedison', 'contribution'), ('special', 'arrangement'), ('written', 'around'), ('somewhat', 'dizzy'), ('dizzy', 'cartoonist'), ('Gary', 'Morgan'), ('Broadway', 'youngster'), ('adopted', 'son'), ('son', 'makes'), ('makes', 'life'), ('life', 'miserable'), ('nearly', 'everybody'), ('playmate', 'Francis'), ('Francis', 'Coletta'), ('West', 'Warwick'), ('bit', 'part'), ('part', 'Billy'), ('whole', 'audiences'), ('tremendous', 'book'), ('book', 'lively'), ('lively', 'constantly'), ('constantly', 'moving'), ('Matunuck', 'cast'), ('Newport', 'Playhouse'), ('Playhouse', 'presents'), ('presents', 'Epitaph'), ('George', 'Dillon'), ('John', 'Osborne'), ('Anthony', 'Creighton'), ('Creighton', 'directed'), ('Wallace', 'Gray'), ('angriest', 'young'), ('young', 'man'), ('Newport', 'last'), ('last', 'night'), ('George', 'Dillon'), ('Dillon', 'opened'), ('jazz', 'festival'), ('festival', 'closed'), ('John', 'Osborne'), ('Anthony', 'Creighton'), ('chap', 'embittered'), ('jam', 'session'), ('session', 'mad'), ('make', 'Furthermore'), ('Furthermore', 'something'), ('artist', 'whose'), ('whose', 'mind'), ('feel', 'cliches'), ('live', 'cliches'), ('household', 'one'), ('one', 'eroded'), ('George', 'Dillon'), ('Dillon', 'enters'), ('unsuccessful', 'playwright'), ('sure', 'exists'), ('third', 'act'), ('body', 'lingers'), ('shell', 'among'), ('successful', 'play'), ('play', 'Epitaph'), ('George', 'Dillon'), ('Dillon', 'overcomes'), ('sheer', 'vitality'), ('lesser', 'work'), ('work', 'might'), ('awfully', 'talky'), ('terribly', 'impressive'), ('strikes', 'sparks'), ('light', 'causes'), ('fine', 'second'), ('second', 'act'), ('example', 'one'), ('Samuel', 'Groom'), ('blaze', 'away'), ('one', 'impassioned'), ('impassioned', 'passage'), ('exciting', 'young'), ('young', 'actor'), ('technically', 'proficient'), ('proficient', 'way'), ('Laura', 'Stuart'), ('Stuart', 'whose'), ('whose', 'complete'), ('complete', 'control'), ('every', 'movement'), ('watch', 'Miss'), ('Miss', 'Stuart'), ('intensely', 'vibrant'), ('one', 'could'), ('could', 'wish'), ('wish', 'almost'), ('icy', 'shriek'), ('shriek', 'threatening'), ('moment', 'Also'), ('Also', 'fine'), ('Sue', 'Lawless'), ('female', 'spider'), ('destructive', 'Harold'), ('Harold', 'Cherry'), ('scratchy', 'spouse'), ('Hildy', 'Weissman'), ('human', 'form'), ('form', 'Wallace'), ('Wallace', 'Gray'), ('difficult', 'play'), ('usually', 'well'), ('much', 'physical'), ('physical', 'movement'), ('first', 'act'), ('taste', 'Still'), ('put', 'together'), ('sensitive', 'projection'), ('pale', 'sustenance'), ('sustenance', 'despair'), ('Warwick', 'Musical'), ('Musical', 'Theater'), ('Theater', 'presents'), ('presents', 'Charley'), ('Frank', 'Loesser'), ('Loesser', 'directed'), ('Christopher', 'Hewett'), ('Hewett', 'choreography'), ('Peter', 'Conlow'), ('Conlow', 'musical'), ('musical', 'direction'), ('Samuel', 'Matlowsky'), ('cast', 'Everybody'), ('Everybody', 'fell'), ('last', 'night'), ('Warwick', 'Musical'), ('Musical', 'Theater'), ('Shelley', 'Berman'), ('blame', 'One'), ('finest', 'soft'), ('soft', 'shoe'), ('shoe', 'tunes'), ('tunes', 'ever'), ('ever', 'invented'), ('course', 'one'), ('tantalizingly', 'persistent'), ('light', 'love'), ('love', 'lyrics'), ('American', 'musical'), ('musical', 'comedy'), ('audience', 'last'), ('last', 'night'), ('Act', 'got'), ('rousing', 'opening'), ('opening', 'chorus'), ('chorus', 'Charley'), ('Berman', 'sifted'), ('ambling', 'chords'), ('outdo', 'Ray'), ('Ray', 'Bolger'), ('delightful', 'hamming'), ('old', 'war'), ('war', 'horse'), ('horse', 'called'), ('called', 'Aunt'), ('anybody', 'could'), ('could', 'ask'), ('brief', 'Berman'), ('Berman', 'played'), ('big', 'audience'), ('audience', 'started'), ('started', 'applauding'), ('applauding', 'even'), ('whole', 'production'), ('stunning', 'evocations'), ('voluminous', 'gowns'), ('picture', 'hats'), ('Gibson', 'Girl'), ('Girl', 'days'), ('ballet', 'work'), ('nose', 'especially'), ('opening', 'number'), ('New', 'Ashmolean'), ('Ashmolean', 'Marching'), ('Marching', 'Society'), ('Conservatory', 'Band'), ('Band', 'along'), ('sultry', 'Brazilian'), ('Brazilian', 'fantasia'), ('fantasia', 'later'), ('later', 'Berman'), ('Berman', 'whose'), ('whose', 'fame'), ('recent', 'years'), ('night', 'club'), ('club', 'monologist'), ('monologist', 'proved'), ('musical', 'comedy'), ('comedy', 'Virginia'), ('Virginia', 'Gibson'), ('sparkling', 'blue'), ('blue', 'eyes'), ('cheerful', 'smile'), ('smile', 'made'), ('suitably', 'perky'), ('perky', 'Amy'), ('Melisande', 'Congdon'), ('real', 'aunt'), ('positively', 'monumental'), ('best', 'Gibson'), ('Gibson', 'Girl'), ('Girl', 'manner'), ('told', 'Charley'), ('Charley', 'Ought'), ('fast', 'pace'), ('pace', 'excellent'), ('excellent', 'music'), ('music', 'expert'), ('expert', 'direction'), ('good', 'comedian'), ('appealing', 'person'), ('right', 'Berman'), ('Broadway', 'Theater'), ('Theater', 'League'), ('Rhode', 'Island'), ('Island', 'presents'), ('presents', 'Edwin'), ('Martin', 'production'), ('Veterans', 'Memorial'), ('Memorial', 'Auditorium'), ('Jerome', 'Weidman'), ('George', 'Abbott'), ('Abbott', 'music'), ('Jerry', 'Bock'), ('Bock', 'lyrics'), ('Sheldon', 'Harnick'), ('Harnick', 'choreography'), ('Peter', 'Gennaro'), ('Gennaro', 'scenery'), ('scenery', 'costumes'), ('Jean', 'Eckart'), ('Eckart', 'musical'), ('musical', 'direction'), ('Jack', 'Elliott'), ('happier', 'events'), ('Pulitzer', 'Prize'), ('Prize', 'musical'), ('last', 'night'), ('twice', 'today'), ('fine', 'voice'), ('chorines', 'evoke'), ('evoke', 'happy'), ('happy', 'memories'), ('Little', 'Flower'), ('Flower', 'rides'), ('saw', 'Fiorello'), ('Fiorello', 'Performed'), ('New', 'York'), ('original', 'cast'), ('every', 'bit'), ('perhaps', 'better'), ('better', 'Certainly'), ('nothing', 'lacking'), ('lacking', 'Bob'), ('Bob', 'Carroll'), ('Carroll', 'may'), ('bear', 'quite'), ('physical', 'resemblance'), ('Tom', 'Bosley'), ('evening', 'progressed'), ('catch', 'self'), ('really', 'LaGuardia'), ('LaGuardia', 'come'), ('come', 'back'), ('back', 'among'), ('among', 'us'), ('Rudy', 'Bond'), ('simply', 'grand'), ('distraught', 'Republican'), ('Republican', 'Party'), ('Party', 'district'), ('district', 'chieftain'), ('Paul', 'Lipson'), ('faithful', 'one'), ('never', 'gets'), ('gets', 'home'), ('abiding', 'affection'), ('hurrying', 'driving'), ('driving', 'honest'), ('honest', 'little'), ('little', 'man'), ('man', 'Charlotte'), ('Charlotte', 'Fairchild'), ('loyal', 'Marie'), ('second', 'LaGuardia'), ('LaGuardia', 'singing'), ('remarkable', 'conviction'), ('conviction', 'Jen'), ('Jen', 'Nelson'), ('first', 'wife'), ('wife', 'managed'), ('short', 'role'), ('role', 'impressive'), ('little', 'Zeme'), ('Zeme', 'North'), ('real', 'spirit'), ('fascinating', 'whether'), ('becomes', 'sewer'), ('sewer', 'commissioner'), ('exuberant', 'feelings'), ('fascinating', 'novelties'), ('fugual', 'treatment'), ('handled', 'splendidly'), ('thought', 'Rudy'), ('Rudy', 'Bond'), ('tuneful', 'made'), ('made', 'Little'), ('Little', 'Tin'), ('Tin', 'Box'), ('Box', 'even'), ('even', 'better'), ('New', 'York'), ('York', 'cast'), ('clever', 'lyrics'), ('lyrics', 'came'), ('perfect', 'clarity'), ('penthouse', 'gave'), ('nostalgic', 'frolic'), ('hackneyed', 'routines'), ('classic', 'choreographic'), ('choreographic', 'statement'), ('nonsense', 'rallies'), ('well', 'staged'), ('wild', 'Jewish'), ('really', 'great'), ('great', 'musical'), ('musical', 'theater'), ('theater', 'Martin'), ('Martin', 'Tahse'), ('established', 'quite'), ('successful', 'stager'), ('touring', 'productions'), ('visibly', 'cut'), ('remarkably', 'elaborate'), ('pause', 'long'), ('one', 'place'), ('obtrusiveness', 'Several'), ('Several', 'times'), ('times', 'recently'), ('wondered', 'whether'), ('whether', 'shows'), ('shifted', 'right'), ('eyes', 'glad'), ('say', 'none'), ('superb', 'style'), ('every', 'person'), ('person', 'hereabouts'), ('enjoys', 'good'), ('good', 'musical'), ('musical', 'theater'), ('theater', 'theater'), ('theater', 'presents'), ('MGM', 'picture'), ('picture', 'produced'), ('Joe', 'Pasternak'), ('Henry', 'Levin'), ('George', 'Wells'), ('cast', 'Since'), ('upright', 'fellow'), ('rich', 'Brown'), ('Brown', 'senior'), ('two', 'Yalies'), ('virtual', 'rapists'), ('sort', 'Instead'), ('highly', 'amusing'), ('amusing', 'film'), ('fairly', 'accurate'), ('accurate', 'job'), ('Easter', 'vacation'), ('vacation', 'shenanigans'), ('Fort', 'Lauderdale'), ('grips', 'quite'), ('quite', 'honestly'), ('moral', 'problem'), ('commonly', 'vexes'), ('vexes', 'youngsters'), ('age', 'group'), ('say', 'sex'), ('girls', 'give'), ('give', 'struck'), ('reasonably', 'varied'), ('healthily', 'individual'), ('exactly', 'specific'), ('specific', 'well'), ('least', 'reassuring'), ('problems', 'instead'), ('juvenile', 'bounce'), ('refreshing', 'venture'), ('whipping', 'lines'), ('hilariously', 'funny'), ('funny', 'situations'), ('mass', 'impromptu'), ('impromptu', 'plunge'), ('nightclub', 'tank'), ('female', 'faces'), ('familiar', 'Dolores'), ('Dolores', 'Hart'), ('leading', 'role'), ('quite', 'believable'), ('Paula', 'comedy'), ('comedy', 'performance'), ('highest', 'hopes'), ('hopes', 'might'), ('might', 'ask'), ('males', 'made'), ('made', 'good'), ('good', 'comedy'), ('Jim', 'Hutton'), ('Frank', 'Gorshin'), ('Yvette', 'Mimieux'), ('since', 'someone'), ('part', 'called'), ('must', 'say'), ('say', 'however'), ('biting', 'edge'), ('remembers', 'Newport'), ('maximum', 'violence'), ('wing', 'north'), ('Jazz', 'Festival'), ('Festival', 'ought'), ('prove', 'entertaining'), ('second', 'feature'), ('British', 'detective'), ('detective', 'story'), ('superb', 'intellectual'), ('spiritual', 'vitality'), ('William', 'James'), ('enormous', 'gift'), ('delighted', 'interest'), ('discriminating', 'sensibility'), ('quicksilver', 'intelligence'), ('latest', 'addition'), ('Great', 'Letters'), ('Letters', 'Series'), ('general', 'editorship'), ('Louis', 'Kronenberger'), ('Kronenberger', 'Miss'), ('Miss', 'Hardwick'), ('admirably', 'displays'), ('could', 'write'), ('famous', 'criticism'), ('brother', 'third'), ('third', 'style'), ('subtly', 'even'), ('even', 'elegantly'), ('elegantly', 'worded'), ('intricate', 'air'), ('air', 'castles'), ('could', 'ever'), ('trenchant', 'forthright'), ('warmly', 'understanding'), ('sensitive', 'child'), ('right', 'tone'), ('unpatronizing', 'good'), ('good', 'humor'), ('philosophic', 'colleagues'), ('colleagues', 'show'), ('explain', 'reference'), ('adorable', 'genius'), ('genius', 'Miss'), ('Miss', 'Hardwick'), ('Hardwick', 'speaks'), ('superb', 'gift'), ('intellectual', 'friendship'), ('intellectual', 'life'), ('life', 'lived'), ('either', 'academic'), ('academic', 'aridity'), ('passionate', 'dogmatism'), ('great', 'need'), ('increasing', 'lack'), ('even', 'desire'), ('differing', 'schools'), ('equally', 'valuable'), ('valuable', 'lesson'), ('word', 'intellectual'), ('somehow', 'imagine'), ('simpler', 'human'), ('human', 'virtues'), ('Harvard', 'colleague'), ('colleague', 'Josiah'), ('Josiah', 'Royce'), ('Royce', 'whose'), ('whose', 'philosophic'), ('philosophic', 'position'), ('position', 'differed'), ('differed', 'radically'), ('James', 'could'), ('could', 'write'), ('write', 'Different'), ('nourished', 'mine'), ('social', 'influence'), ('influence', 'ever'), ('always', 'felt'), ('lived', 'importantly'), ('another', 'colleague'), ('colleague', 'George'), ('George', 'Santayana'), ('could', 'write'), ('great', 'event'), ('life', 'recently'), ('book', 'Although'), ('absolutely', 'reject'), ('literally', 'squealed'), ('imperturbable', 'perfection'), ('page', 'Writing'), ('colleague', 'George'), ('George', 'Herbert'), ('Herbert', 'Palmer'), ('Palmer', 'Glorious'), ('Glorious', 'old'), ('old', 'Palmer'), ('James', 'says'), ('Harvard', 'could'), ('could', 'really'), ('really', 'understand'), ('understand', 'Royce'), ('Royce', 'Santayana'), ('Santayana', 'Palmer'), ('varying', 'systems'), ('many', 'religions'), ('religions', 'ways'), ('fronting', 'life'), ('worth', 'fighting'), ('Harvard', 'would'), ('genuine', 'philosophic'), ('philosophic', 'universe'), ('best', 'condition'), ('open', 'conflict'), ('diverse', 'systems'), ('world', 'might'), ('might', 'ring'), ('course', 'jocular'), ('jocular', 'yet'), ('yet', 'James'), ('fundamental', 'seriousness'), ('seriousness', 'unless'), ('ultimate', 'seriousness'), ('great', 'religious'), ('religious', 'leader'), ('vision', 'never'), ('never', 'quite'), ('quite', 'came'), ('came', 'despite'), ('inspired', 'prophet'), ('one', 'correspondent'), ('need', 'one'), ('one', 'reply'), ('readers', 'generally'), ('generally', 'hate'), ('hate', 'minute'), ('minute', 'polemics'), ('broad', 'statements'), ('fine', 'points'), ('points', 'treated'), ('treated', 'singly'), ('possible', 'impersonally'), ('rising', 'generation'), ('generation', 'goes'), ('simply', 'express'), ('truer', 'view'), ('view', 'quietly'), ('collected', 'works'), ('James', 'Thurber'), ('numbering', 'volumes'), ('volumes', 'including'), ('present', 'exhibit'), ('exhibit', 'represent'), ('high', 'standard'), ('literary', 'excellence'), ('every', 'schoolboy'), ('schoolboy', 'knows'), ('drawings', 'akin'), ('graffiti', 'scratched'), ('cave', 'wall'), ('equally', 'well'), ('well', 'known'), ('present', 'selection'), ('appeared', 'first'), ('New', 'Yorker'), ('Yorker', 'comprises'), ('slightly', 'unstrung'), ('unstrung', 'necklace'), ('necklace', 'held'), ('held', 'together'), ('slender', 'thread'), ('thread', 'cunningly'), ('cunningly', 'inserted'), ('one', 'unifying'), ('unifying', 'note'), ('initial', 'article'), ('article', 'entitled'), ('rather', 'sadly'), ('sadly', 'desperate'), ('others', 'forced'), ('inner', 'resources'), ('resources', 'including'), ('alone', 'palindromes'), ('palindromes', 'paraphrases'), ('Trivia', 'suggests'), ('suggests', 'arbitrary'), ('arbitrary', 'alphabetical'), ('alphabetical', 'associations'), ('induce', 'slumber'), ('new', 'vistas'), ('hairshirt', 'asceticism'), ('scholarly', 'monographs'), ('monographs', 'entitled'), ('entitled', 'Friends'), ('Friends', 'Romans'), ('Romans', 'Countrymen'), ('Countrymen', 'Lend'), ('New', 'Vocabularianism'), ('curative', 'methods'), ('methods', 'involve'), ('involve', 'strong'), ('strong', 'potions'), ('mixed', 'metaphor'), ('metaphor', 'malapropism'), ('extreme', 'cases'), ('burlesque', 'paean'), ('paean', 'entitled'), ('entitled', 'Hark'), ('Herald', 'Tribune'), ('Tribune', 'Times'), ('Angels', 'Sing'), ('Sing', 'brilliantly'), ('brilliantly', 'succeeds'), ('exaggerating', 'even'), ('even', 'ballyhooey'), ('Kooks', 'Crumble'), ('Crumble', 'features'), ('amusingly', 'accurate'), ('sneaky', 'announcers'), ('homogenize', 'commercials'), ('veritable', 'waking'), ('waking', 'nightmare'), ('literary', 'document'), ('document', 'entitled'), ('Henry', 'James'), ('keenly', 'trenchant'), ('trenchant', 'though'), ('though', 'comment'), ('difficult', 'later'), ('later', 'period'), ('modest', 'Owen'), ('Owen', 'Wister'), ('Wister', 'author'), ('Virginian', 'James'), ('impossible', 'namely'), ('produce', 'upon'), ('painting', 'produces'), ('produces', 'upon'), ('superimposed', 'simultaneous'), ('simultaneous', 'impressions'), ('would', 'like'), ('put', 'several'), ('several', 'sentences'), ('could', 'read'), ('various', 'shadings'), ('complexities', 'Equally'), ('Equally', 'penetrating'), ('following', 'remark'), ('literary', 'conversation'), ('mildly', 'epigrammatic'), ('epigrammatic', 'utterance'), ('utterance', 'also'), ('quotation', 'place'), ('nectareous', 'essences'), ('midsummer', 'seems'), ('seems', 'terribly'), ('terribly', 'funny'), ('funny', 'though'), ('window', 'nearest'), ('bed', 'around'), ('around', 'midnight'), ('bat', 'said'), ('wife', 'reassuringly'), ('relief', 'Thank'), ('Thank', 'God'), ('sense', 'perhaps'), ('perhaps', 'Thurber'), ('indebted', 'artistically'), ('surrealist', 'painter'), ('Salvador', 'Dali'), ('first', 'conceived'), ('startling', 'fancy'), ('picture', 'window'), ('picture', 'window'), ('picture', 'trees'), ('something', 'like'), ('best', 'effects'), ('mistaken', 'Though'), ('longer', 'able'), ('protoplasmic', 'sketches'), ('sketches', 'several'), ('several', 'old'), ('old', 'favorites'), ('present', 'volume'), ('volume', 'Thurber'), ('retained', 'unimpaired'), ('simple', 'unaffected'), ('unaffected', 'humanness'), ('concluding', 'paragraph'), ('devoted', 'writer'), ('many', 'readers'), ('readers', 'Thurber'), ('Thurber', 'comes'), ('comes', 'closer'), ('anyone', 'else'), ('latest', 'Low'), ('lost', 'none'), ('usual', 'best'), ('diplomatic', 'life'), ('reader', 'meets'), ('old', 'friends'), ('friends', 'like'), ('like', 'Blimp'), ('TUC', 'horse'), ('becomes', 'better'), ('better', 'acquainted'), ('new', 'members'), ('characters', 'like'), ('classic', 'robe'), ('robe', 'watching'), ('nuclear', 'arms'), ('arms', 'race'), ('hair', 'standing'), ('standing', 'straight'), ('present', 'volume'), ('early', 'Low'), ('title', 'suggests'), ('competent', 'drawings'), ('drawings', 'show'), ('days', 'Low'), ('Low', 'struck'), ('struck', 'like'), ('like', 'lightning'), ('lightning', 'Anyone'), ('less', 'inhuman'), ('lower', 'key'), ('argument', 'cannot'), ('Communist', 'system'), ('system', 'makes'), ('Communists', 'wield'), ('power', 'unknown'), ('leading', 'issue'), ('piecemeal', 'aggression'), ('aggression', 'remains'), ('drama', 'enough'), ('offer', 'Low'), ('Low', 'less'), ('nightmarish', 'situation'), ('Low', 'cannot'), ('easily', 'put'), ('put', 'us'), ('less', 'Jovian'), ('Jovian', 'drawings'), ('drawings', 'lie'), ('lie', 'elsewhere'), ('many', 'stupidities'), ('writes', 'Confucius'), ('Confucius', 'held'), ('stress', 'one'), ('take', 'short'), ('short', 'views'), ('lunchtime', 'Whatever'), ('fifties', 'rarely'), ('rarely', 'rises'), ('capably', 'sardonic'), ('sardonic', 'Dulles'), ('man', 'McCarthy'), ('skies', 'turn'), ('turn', 'dark'), ('wrath', 'Suez'), ('Suez', 'Low'), ('Low', 'seems'), ('supported', 'Eden'), ('things', 'worked'), ('eye', 'death'), ('death', 'farewell'), ('public', 'life'), ('life', 'Hillary'), ('Everest', 'Quemoy'), ('noble', 'anger'), ('accolade', 'Instead'), ('cartoons', 'seem'), ('Low', 'decide'), ('let', 'well'), ('well', 'enough'), ('enough', 'alone'), ('often', 'drew'), ('showed', 'puny'), ('puny', 'men'), ('men', 'attacked'), ('splendidly', 'tyrannical'), ('tyrannical', 'machines'), ('Khrushchev', 'turned'), ('prime', 'copy'), ('witty', 'caricaturist'), ('weak', 'mortals'), ('heroic', 'scale'), ('scale', 'Read'), ('moderately', 'brief'), ('brief', 'text'), ('captions', 'sometimes'), ('tart', 'epigrams'), ('fixed', 'ideas'), ('gray', 'fox'), ('one', 'eye'), ('eye', 'confidence'), ('confidence', 'man'), ('man', 'city'), ('city', 'slicker'), ('slicker', 'lebensraum'), ('lebensraum', 'specialist'), ('specialist', 'tries'), ('Catfish', 'Bend'), ('third', 'relaxed'), ('relaxed', 'allegory'), ('refreshing', 'Louisiana'), ('Louisiana', 'animal'), ('animal', 'community'), ('ingratiating', 'smiles'), ('New', 'Orleans'), ('Orleans', 'accompanied'), ('one', 'wharf'), ('wharf', 'rat'), ('threatening', 'toward'), ('solid', 'citizens'), ('Doc', 'Raccoon'), ('Raccoon', 'Judge'), ('Judge', 'Black'), ('vegetarian', 'black'), ('black', 'snake'), ('bird', 'community'), ('Washington', 'posing'), ('taken', 'hold'), ('wharf', 'rats'), ('course', 'say'), ('aggrieved', 'victims'), ('extermination', 'campaign'), ('bullies', 'invariably'), ('pretty', 'soon'), ('soon', 'gray'), ('gray', 'fox'), ('anyone', 'around'), ('second', 'territorial'), ('territorial', 'treaty'), ('birds', 'Robert'), ('Robert', 'Hillyer'), ('poet', 'writes'), ('brief', 'animal'), ('animal', 'fable'), ('Burman', 'ought'), ('Nobel', 'Prize'), ('Catfish', 'Bend'), ('Bend', 'series'), ('decadent', 'themes'), ('given', 'fewer'), ('fewer', 'prizes'), ('imagine', 'Burman'), ('Nobel', 'laureate'), ('really', 'momentous'), ('momentous', 'fables'), ('lie', 'somewhere'), ('Southern', 'dialect'), ('dialect', 'animal'), ('animal', 'stories'), ('Joel', 'Chandler'), ('Chandler', 'Harris'), ('Harris', 'Uncle'), ('Uncle', 'Remus'), ('polished', 'witty'), ('witty', 'fables'), ('James', 'Thurber'), ('Thurber', 'George'), ('George', 'account'), ('World', 'War'), ('finest', 'piece'), ('diplomatic', 'history'), ('many', 'years'), ('combines', 'qualities'), ('seldom', 'found'), ('one', 'work'), ('work', 'Scrupulous'), ('Scrupulous', 'scholarship'), ('personal', 'experience'), ('broad', 'grasp'), ('great', 'historical'), ('historical', 'issues'), ('book', 'based'), ('based', 'largely'), ('lectures', 'delivered'), ('Harvard', 'University'), ('author', 'possesses'), ('uncommonly', 'fine'), ('fine', 'English'), ('English', 'style'), ('vast', 'importance'), ('highly', 'topical'), ('little', 'somber'), ('Western', 'diplomacy'), ('diplomacy', 'met'), ('great', 'wars'), ('social', 'revolutions'), ('often', 'critical'), ('pessimistic', 'well'), ('encouraging', 'Kennan'), ('Kennan', 'takes'), ('takes', 'careful'), ('careful', 'account'), ('every', 'mitigating'), ('mitigating', 'circumstance'), ('historical', 'atmosphere'), ('mistaken', 'decisions'), ('rejects', 'perhaps'), ('influences', 'may'), ('appeasing', 'Stalin'), ('high', 'point'), ('Yalta', 'Conference'), ('Alger', 'Hiss'), ('Hiss', 'subsequently'), ('subsequently', 'convicted'), ('gave', 'secret'), ('secret', 'State'), ('State', 'Department'), ('Department', 'documents'), ('Soviet', 'agents'), ('Harry', 'Dexter'), ('Dexter', 'White'), ('White', 'implicated'), ('Communist', 'associations'), ('Morgenthau', 'Plan'), ('full', 'operation'), ('operation', 'would'), ('simply', 'handed'), ('handed', 'Germany'), ('Stalin', 'One'), ('One', 'item'), ('unhappy', 'scheme'), ('Germany', 'policed'), ('policed', 'exclusively'), ('continental', 'neighbors'), ('neighbors', 'among'), ('Soviet', 'Union'), ('Union', 'possessed'), ('possessed', 'real'), ('real', 'military'), ('military', 'strength'), ('quite', 'probable'), ('probable', 'however'), ('stupidity', 'inexperience'), ('childish', 'adherence'), ('slogans', 'like'), ('like', 'unconditional'), ('unconditional', 'surrender'), ('unsatisfactory', 'settlements'), ('Communism', 'Kennan'), ('Kennan', 'sums'), ('went', 'wrong'), ('way', 'dashed'), ('dashed', 'hope'), ('see', 'first'), ('unshakeable', 'American'), ('American', 'commitment'), ('unconditional', 'surrender'), ('achieving', 'limited'), ('limited', 'objectives'), ('given', 'status'), ('status', 'quo'), ('total', 'virtue'), ('total', 'evil'), ('complete', 'destruction'), ('might', 'involve'), ('distant', 'future'), ('future', 'Recognizing'), ('effective', 'negotiated'), ('negotiated', 'peace'), ('shocking', 'failure'), ('give', 'support'), ('nearly', 'eliminated'), ('eliminated', 'Hitler'), ('veteran', 'diplomat'), ('extraordinary', 'knowledge'), ('Russian', 'language'), ('language', 'history'), ('literature', 'Kennan'), ('Kennan', 'recalls'), ('Soviet', 'Union'), ('private', 'note'), ('State', 'Department'), ('Department', 'official'), ('official', 'expressing'), ('never', 'would'), ('Russian', 'purposes'), ('eastern', 'Europe'), ('Europe', 'beyond'), ('justified', 'bitterness'), ('author', 'speaks'), ('inexcusable', 'body'), ('Russian', 'Communist'), ('Communist', 'movement'), ('Baltic', 'States'), ('also', 'speaks'), ('Franklin', 'puerile'), ('puerile', 'assumption'), ('Stalin', 'could'), ('persuasive', 'charm'), ('someone', 'like'), ('ideological', 'preconceptions'), ('preconceptions', 'would'), ('would', 'melt'), ('West', 'could'), ('easily', 'arranged'), ('wonder', 'first'), ('first', 'message'), ('President', 'Kennedy'), ('wistful', 'desire'), ('good', 'old'), ('old', 'days'), ('fascinating', 'story'), ('story', 'begins'), ('sketch', 'rich'), ('personal', 'detail'), ('glancing', 'mutual'), ('mutual', 'impact'), ('World', 'War'), ('two', 'instalments'), ('Russian', 'Revolution'), ('liberal', 'Provisional'), ('Provisional', 'Government'), ('later', 'called'), ('Kennan', 'shows'), ('Allied', 'governments'), ('defeating', 'Germany'), ('nothing', 'could'), ('could', 'keep'), ('Russian', 'people'), ('people', 'fighting'), ('attributed', 'everything'), ('went', 'wrong'), ('German', 'influence'), ('factor', 'led'), ('Allied', 'intervention'), ('justly', 'says'), ('world', 'war'), ('would', 'never'), ('conceivable', 'stretch'), ('Allied', 'intervention'), ('North', 'Russia'), ('grossly', 'exaggerated'), ('Communist', 'propaganda'), ('Kennan', 'operating'), ('precise', 'facts'), ('figures', 'performs'), ('excellent', 'job'), ('debunking', 'Plebian'), ('Plebian', 'dictators'), ('many', 'passages'), ('vivid', 'style'), ('two', 'plebeian'), ('plebeian', 'dictators'), ('dictators', 'whose'), ('whose', 'crimes'), ('crimes', 'make'), ('crowned', 'autocrats'), ('autocrats', 'pale'), ('comparison', 'may'), ('incredible', 'criminality'), ('criminality', 'effectively'), ('effectively', 'without'), ('without', 'limits'), ('man', 'apparently'), ('apparently', 'foreign'), ('love', 'without'), ('without', 'mercy'), ('whose', 'entourage'), ('entourage', 'none'), ('ever', 'safe'), ('man', 'whose'), ('whose', 'hand'), ('closest', 'collaborators'), ('Hitler', 'temporary'), ('temporary', 'collaborator'), ('weaker', 'peoples'), ('later', 'enemy'), ('enemy', 'Behind'), ('Charlie', 'Chaplin'), ('Chaplin', 'moustache'), ('truant', 'lock'), ('always', 'covered'), ('forehead', 'behind'), ('sulky', 'silences'), ('passionate', 'orations'), ('occasional', 'dull'), ('dull', 'evasive'), ('evasive', 'stare'), ('stare', 'behind'), ('total', 'amorality'), ('behavior', 'behind'), ('behind', 'even'), ('great', 'strategic'), ('strategic', 'mistakes'), ('mean', 'qualities'), ('qualities', 'Shrewd'), ('Shrewd', 'calculating'), ('many', 'ways'), ('ways', 'realistic'), ('realistic', 'endowed'), ('endowed', 'like'), ('like', 'Stalin'), ('considerable', 'powers'), ('dissimulation', 'capable'), ('desired', 'yet'), ('yet', 'bold'), ('possessing', 'one'), ('one', 'gift'), ('gift', 'Stalin'), ('rouse', 'men'), ('fever', 'pitch'), ('personal', 'devotion'), ('spoken', 'word'), ('word', 'Two'), ('Two', 'criticisms'), ('generally', 'admirable'), ('fascinating', 'book'), ('book', 'involve'), ('wartime', 'diplomacy'), ('Potsdam', 'Conference'), ('Morgenthau', 'Plan'), ('concluding', 'chapter'), ('contemporary', 'world'), ('world', 'one'), ('one', 'senses'), ('senses', 'certain'), ('certain', 'misplacements'), ('baffling', 'riddle'), ('aggressive', 'enemy'), ('enemy', 'without'), ('without', 'appeasement'), ('without', 'war'), ('everything', 'Kennan'), ('recently', 'abandoned'), ('abandoned', 'authorship'), ('new', 'round'), ('recently', 'appointed'), ('appointed', 'American'), ('American', 'ambassador'), ('vitally', 'important'), ('historical', 'narrator'), ('usually', 'hear'), ('bitter', 'political'), ('domestic', 'unrest'), ('unrest', 'lightened'), ('lightened', 'occasionally'), ('native', 'wit'), ('different', 'Eire'), ('rural', 'land'), ('singing', 'dancing'), ('nice', 'violence'), ('one', 'gets'), ('gets', 'killed'), ('large', 'Robert'), ('Robert', 'adaptation'), ('Maurice', 'film'), ('Quiet', 'Man'), ('Man', 'provides'), ('lively', 'musical'), ('musical', 'show'), ('superlative', 'one'), ('one', 'John'), ('John', 'Enright'), ('accidentally', 'killed'), ('prize', 'ring'), ('quiet', 'place'), ('may', 'become'), ('quiet', 'man'), ('Ellen', 'Roe'), ('Roe', 'Danaher'), ('bullying', 'brother'), ('mettlesome', 'Ellen'), ('impeded', 'considerably'), ('considerably', 'thereby'), ('thereby', 'providing'), ('fine', 'old'), ('old', 'knockdown'), ('knockdown', 'fight'), ('minor', 'scraps'), ('scraps', 'along'), ('word', 'Donnybrook'), ('Donnybrook', 'means'), ('matchmaker', 'one'), ('one', 'Mikeen'), ('Mikeen', 'Flynn'), ('Eddie', 'Foy'), ('happily', 'selected'), ('happen', 'also'), ('talented', 'dancer'), ('gifted', 'improviser'), ('limbs', 'torso'), ('neck', 'except'), ('talents', 'add'), ('add', 'immensely'), ('play', 'Foy'), ('practically', 'perfect'), ('naturally', 'incidental'), ('serves', 'Flynn'), ('Flynn', 'right'), ('determined', 'widow'), ('widow', 'takes'), ('matrimony', 'Art'), ('Art', 'Lund'), ('fine', 'big'), ('big', 'actor'), ('great', 'head'), ('blond', 'hair'), ('good', 'voice'), ('voice', 'impersonates'), ('impersonates', 'Enright'), ('Enright', 'Although'), ('romantic', 'technique'), ('anyway', 'Joan'), ('Joan', 'Fagan'), ('fiery', 'redhead'), ('temper', 'whether'), ('plays', 'Ellen'), ('Ellen', 'exhibits'), ('theatrical', 'dross'), ('never', 'mind'), ('general', 'scheme'), ('scheme', 'well'), ('well', 'enough'), ('enough', 'Susan'), ('Susan', 'Johnson'), ('widow', 'spends'), ('first', 'half'), ('play', 'running'), ('unlamented', 'death'), ('late', 'husband'), ('second', 'half'), ('half', 'trying'), ('new', 'one'), ('good', 'firm'), ('firm', 'delivery'), ('solid', 'virtues'), ('old', 'biddies'), ('biddies', 'played'), ('Grace', 'Carney'), ('Sibly', 'Bowan'), ('stock', 'Irish'), ('Irish', 'characters'), ('quite', 'entertaining'), ('Danaher', 'Philip'), ('Philip', 'Bosco'), ('Bosco', 'roars'), ('sneers', 'sufficiently'), ('one', 'American'), ('whole', 'British'), ('British', 'army'), ('chose', 'Donnybrook'), ('nice', 'romantic'), ('romantic', 'background'), ('background', 'touches'), ('excellent', 'dancing'), ('music', 'generally'), ('generally', 'competent'), ('sometimes', 'threatens'), ('final', 'curtain'), ('catchy', 'Sez'), ('Bride', 'sung'), ('Clarence', 'Nordstrom'), ('Nordstrom', 'playing'), ('character', 'called'), ('called', 'Old'), ('Old', 'Man'), ('Man', 'Toomey'), ('quite', 'simple'), ('simple', 'direct'), ('cloth', 'caps'), ('limber', 'company'), ('Jack', 'expert'), ('expert', 'choreographic'), ('choreographic', 'direction'), ('male', 'dancers'), ('dancers', 'sometimes'), ('sometimes', 'wear'), ('wear', 'kilts'), ('stimulating', 'Rouben'), ('stage', 'settings'), ('settings', 'often'), ('often', 'uses'), ('scrim', 'curtain'), ('curtain', 'behind'), ('placed', 'couples'), ('pretty', 'good'), ('good', 'time'), ('Donnybrook', 'unless'), ('could', 'hate'), ('lovable', 'Irish'), ('Joshua', 'Logan'), ('stage', 'show'), ('show', 'Fanny'), ('raw', 'material'), ('Marcel', 'original'), ('original', 'trio'), ('French', 'films'), ('Broadway', 'musical'), ('musical', 'idiom'), ('perilous', 'one'), ('one', 'indeed'), ('old', 'films'), ('heroic', 'star'), ('great', 'Raimu'), ('looking', 'askance'), ('uncertainty', 'resolved'), ('Music', 'Hall'), ('Hall', 'yesterday'), ('yesterday', 'Whether'), ('Whether', 'fan'), ('Pagnol', 'films'), ('stage', 'show'), ('show', 'whether'), ('whether', 'partial'), ('derive', 'joy'), ('New', 'York'), ('York', 'Philharmonic'), ('Philharmonic', 'musicians'), ('suburbs', 'spent'), ('spent', 'yesterday'), ('yesterday', 'morning'), ('morning', 'digging'), ('tiny', 'handful'), ('handful', 'never'), ('substantially', 'complete'), ('complete', 'Philharmonic'), ('Philharmonic', 'assembled'), ('rather', 'small'), ('small', 'audience'), ('subscribers', 'apparently'), ('excellent', 'concert'), ('concert', 'Paul'), ('Paul', 'Paray'), ('Paray', 'rounding'), ('current', 'stint'), ('solid', 'musician'), ('Philharmonic', 'plays'), ('Beethoven', 'Second'), ('Second', 'Symphony'), ('lucid', 'intelligent'), ('natural', 'sounding'), ('heavy', 'ponderous'), ('ponderous', 'Beethoven'), ('music', 'sang'), ('sang', 'nicely'), ('nicely', 'sprinted'), ('sprinted', 'evenly'), ('properly', 'accented'), ('Franck', 'symphonic'), ('symphonic', 'poem'), ('poem', 'Psyche'), ('lush', 'affair'), ('heavily', 'chromatic'), ('chromatic', 'harmonies'), ('harmonies', 'would'), ('would', 'soon'), ('soon', 'become'), ('become', 'cloying'), ('cloying', 'Paray'), ('Paray', 'resisted'), ('melodic', 'elements'), ('instance', 'weep'), ('weep', 'whine'), ('get', 'hysterical'), ('Prokofieff', 'C'), ('C', 'major'), ('major', 'Piano'), ('Piano', 'Concerto'), ('Zadel', 'Skolovsky'), ('admirable', 'partner'), ('partner', 'approach'), ('bold', 'sweeping'), ('tonally', 'percussive'), ('impressive', 'technician'), ('technician', 'Skolovsky'), ('fine', 'rhythm'), ('weakest', 'part'), ('concerto', 'needs'), ('work', 'even'), ('big', 'juicy'), ('juicy', 'melody'), ('second', 'movement'), ('steel', 'pianist'), ('one', 'still'), ('still', 'would'), ('tonal', 'nuance'), ('Skolovsky', 'supplied'), ('supplied', 'Taken'), ('whole', 'though'), ('strong', 'performance'), ('orchestra', 'Skolovsky'), ('Skolovsky', 'fully'), ('fully', 'deserved'), ('warm', 'reception'), ('new', 'work'), ('Nikolai', 'Festival'), ('Festival', 'Overture'), ('Overture', 'receiving'), ('first', 'New'), ('New', 'York'), ('York', 'hearing'), ('composed', 'last'), ('last', 'year'), ('automobile', 'industry'), ('program', 'music'), ('music', 'though'), ('ten', 'minutes'), ('workmanlike', 'busy'), ('busy', 'methodical'), ('featureless', 'La'), ('La', 'Gioconda'), ('Gioconda', 'like'), ('well', 'Snow'), ('Metropolitan', 'Opera'), ('Opera', 'last'), ('last', 'night'), ('Ponchielli', 'work'), ('plot', 'creaks'), ('well', 'connected'), ('juicy', 'music'), ('well', 'distributed'), ('six', 'leading'), ('leading', 'parts'), ('parts', 'One'), ('evil', 'evil'), ('evil', 'Barnaba'), ('wicked', 'deeds'), ('Anselmo', 'Colzani'), ('first', 'time'), ('stage', 'presence'), ('rousing', 'villain'), ('strong', 'tone'), ('real', 'sense'), ('legato', 'singing'), ('oily', 'character'), ('character', 'Regina'), ('Regina', 'Resnik'), ('Cesare', 'Siepi'), ('Alvise', 'also'), ('good', 'role'), ('Miss', 'Resnik'), ('force', 'dramatic'), ('dramatic', 'color'), ('passion', 'Siepi'), ('consummate', 'actor'), ('telling', 'strokes'), ('characterized', 'Alvise'), ('Alvise', 'magnificently'), ('magnificently', 'Part'), ('course', 'accomplished'), ('vocal', 'chords'), ('musical', 'unfortunately'), ('often', 'spread'), ('quality', 'Eileen'), ('Eileen', 'Farrell'), ('title', 'role'), ('role', 'Mignon'), ('Mignon', 'Dunn'), ('La', 'Cieca'), ('Richard', 'Tucker'), ('earlier', 'performances'), ('vigorous', 'performance'), ('Fausto', 'Cleva'), ('got', 'together'), ('Melodious', 'birds'), ('birds', 'sing'), ('sing', 'madrigals'), ('madrigals', 'saith'), ('better', 'description'), ('Deller', 'Consort'), ('Consort', 'could'), ('Vanguard', 'album'), ('album', 'Madrigal'), ('Madrigal', 'Masterpieces'), ('Masterpieces', 'BG'), ('BG', 'stereo'), ('stereo', 'BGS'), ('good', 'sample'), ('special', 'elegant'), ('elegant', 'art'), ('English', 'madrigal'), ('madrigal', 'singing'), ('also', 'makes'), ('fine', 'introduction'), ('international', 'art'), ('art', 'form'), ('good', 'examples'), ('English', 'madrigals'), ('madrigals', 'plus'), ('plus', 'several'), ('several', 'French'), ('French', 'chansons'), ('hold', 'onto'), ('madrigal', 'tradition'), ('tradition', 'better'), ('anyone', 'else'), ('original', 'impulses'), ('impulses', 'came'), ('England', 'late'), ('sixteenth', 'century'), ('continue', 'strong'), ('strong', 'long'), ('everyone', 'else'), ('baroque', 'basso'), ('basso', 'continuo'), ('continuo', 'sonatas'), ('sonatas', 'operas'), ('like', 'Even'), ('Elizabethan', 'traditions'), ('Cromwellian', 'interregnum'), ('singing', 'together'), ('together', 'choruses'), ('choruses', 'catches'), ('glees', 'always'), ('always', 'flourished'), ('English', 'never'), ('strong', 'native'), ('native', 'music'), ('could', 'obliterate'), ('earlier', 'great'), ('great', 'age'), ('way', 'say'), ('Italy', 'blotted'), ('Italian', 'madrigal'), ('madrigal', 'Early'), ('Early', 'interest'), ('interest', 'interest'), ('Elizabethan', 'singing'), ('singing', 'dates'), ('dates', 'well'), ('well', 'back'), ('nineteenth', 'century'), ('England', 'much'), ('much', 'ahead'), ('similar', 'revivals'), ('comparable', 'literature'), ('better', 'known'), ('better', 'studied'), ('often', 'performed'), ('English', 'madrigal'), ('madrigal', 'Naturally'), ('Naturally', 'Deller'), ('singing', 'music'), ('countrymen', 'William'), ('William', 'Byrd'), ('Byrd', 'Thomas'), ('Thomas', 'Morley'), ('Thomas', 'Tomkins'), ('almost', 'instrumental'), ('instrumental', 'quality'), ('important', 'lines'), ('musical', 'texture'), ('techniques', 'give'), ('music', 'purity'), ('clarity', 'Claude'), ('Claude', 'vocal'), ('vocal', 'description'), ('French', 'equivalents'), ('singers', 'get'), ('sensual', 'intense'), ('baroque', 'expressions'), ('Marenzio', 'Monteverdi'), ('singing', 'seem'), ('little', 'superficial'), ('superficial', 'Nevertheless'), ('musicality', 'accuracy'), ('infectious', 'charm'), ('performances', 'excellently'), ('excellently', 'reproduced'), ('reproduced', 'make'), ('presented', 'chronologically'), ('chronologically', 'Texts'), ('provided', 'Elegance'), ('strong', 'French'), ('French', 'characteristics'), ('characteristics', 'Baroque'), ('Baroque', 'instrumental'), ('instrumental', 'music'), ('Germany', 'tends'), ('strong', 'lively'), ('lively', 'intense'), ('intense', 'controlled'), ('quite', 'abstract'), ('remained', 'always'), ('flavor', 'Couperin'), ('Rameau', 'gave'), ('gave', 'titles'), ('nearly', 'everything'), ('later', 'sense'), ('program', 'music'), ('nonmusical', 'reference'), ('close', 'clear'), ('clear', 'musical'), ('musical', 'forms'), ('forms', 'filled'), ('keen', 'wit'), ('precise', 'utterance'), ('composers', 'turn'), ('new', 'imports'), ('France', 'BAM'), ('unlikely', 'name'), ('French', 'recording'), ('recording', 'company'), ('company', 'whose'), ('whose', 'full'), ('full', 'label'), ('Editions', 'De'), ('De', 'La'), ('La', 'boite'), ('old', 'French'), ('French', 'music'), ('music', 'naturally'), ('naturally', 'occupies'), ('good', 'deal'), ('attention', 'Sonates'), ('Sonates', 'et'), ('et', 'Concerts'), ('Concerts', 'Royaux'), ('Couperin', 'Le'), ('Le', 'Grand'), ('Grand', 'occupy'), ('occupy', 'two'), ('two', 'disks'), ('impeccable', 'taste'), ('master', 'delicate'), ('delicate', 'flexible'), ('really', 'closer'), ('chamber', 'suites'), ('Italian', 'sense'), ('sonatas', 'La'), ('La', 'Francaise'), ('Francaise', 'La'), ('La', 'Sultane'), ('elaborately', 'worked'), ('fact', 'show'), ('strong', 'Italian'), ('Italian', 'influence'), ('influence', 'Couperin'), ('Couperin', 'also'), ('also', 'turns'), ('disk', 'called'), ('called', 'Musique'), ('Musique', 'Francaise'), ('Francaise', 'Du'), ('Du', 'Siecle'), ('Siecle', 'BAM'), ('BAM', 'LD'), ('LD', 'LeClair'), ('LeClair', 'still'), ('Bodin', 'De'), ('De', 'Beismortier'), ('Beismortier', 'Corrette'), ('hardly', 'household'), ('household', 'words'), ('chamber', 'works'), ('French', 'music'), ('moving', 'toward'), ('Couperin', 'La'), ('La', 'Steinkerque'), ('battle', 'music'), ('music', 'brevity'), ('brevity', 'wit'), ('refined', 'simplicity'), ('simplicity', 'already'), ('already', 'shakes'), ('points', 'towards'), ('baroque', 'era'), ('Couperin', 'shows'), ('fashionable', 'trend'), ('close', 'attractive'), ('attractive', 'sound'), ('characteristic', 'Six'), ('Six', 'Concerts'), ('Concerts', 'En'), ('En', 'Sextuor'), ('Sextuor', 'recorded'), ('De', 'Chambre'), ('Chambre', 'Pierre'), ('Pierre', 'Menet'), ('Menet', 'BAM'), ('BAM', 'LD'), ('LD', 'turn'), ('harpsichord', 'pieces'), ('pieces', 'arranged'), ('strings', 'apparently'), ('strange', 'delightful'), ('delightful', 'little'), ('little', 'character'), ('character', 'pieces'), ('sometimes', 'inexplicable'), ('inexplicable', 'titles'), ('still', 'evocative'), ('gracious', 'Maitres'), ('Maitres', 'Allemands'), ('Allemands', 'Des'), ('Des', 'et'), ('et', 'Siecles'), ('Siecles', 'contains'), ('contains', 'music'), ('Pachelbel', 'Buxtehude'), ('Buxtehude', 'Rosenmueller'), ('Telemann', 'well'), ('well', 'performed'), ('Ensemble', 'Instrumental'), ('Instrumental', 'Sylvie'), ('Sylvie', 'Spycket'), ('Spycket', 'BAM'), ('BAM', 'LD'), ('LD', 'Rococo'), ('Rococo', 'music'), ('Carnegie', 'Recital'), ('Recital', 'Hall'), ('Saturday', 'night'), ('four', 'concerts'), ('new', 'organization'), ('organization', 'known'), ('Globe', 'Concert'), ('Concert', 'Arts'), ('Arts', 'Works'), ('Bach', 'Anton'), ('Anton', 'Craft'), ('Craft', 'Joseph'), ('Joseph', 'Haydn'), ('Haydn', 'Giuseppe'), ('Giuseppe', 'Sammartini'), ('Sammartini', 'Comenico'), ('Comenico', 'Dragonetti'), ('seven', 'instrumentalists'), ('instrumentalists', 'including'), ('including', 'Anabel'), ('Anabel', 'Brieff'), ('Brieff', 'flutist'), ('flutist', 'Josef'), ('Josef', 'Marx'), ('Marx', 'oboist'), ('Robert', 'Conant'), ('Conant', 'pianist'), ('harpsichordist', 'Since'), ('Since', 'rococo'), ('rococo', 'music'), ('music', 'tends'), ('seem', 'rather'), ('rather', 'vacuous'), ('grown', 'accustomed'), ('Boulez', 'Thus'), ('pieces', 'followed'), ('followed', 'another'), ('Saturday', 'night'), ('might', 'find'), ('useful', 'place'), ('varied', 'musical'), ('musical', 'program'), ('taken', 'together'), ('grew', 'quite'), ('quite', 'tiresome'), ('full', 'ensemble'), ('generally', 'satisfying'), ('soloists', 'proving'), ('proving', 'rather'), ('rather', 'trying'), ('trying', 'Ellie'), ('Ellie', 'Mao'), ('Mao', 'soprano'), ('Frederick', 'Fuller'), ('Fuller', 'baritone'), ('baritone', 'presented'), ('folksongs', 'entitled'), ('entitled', 'East'), ('East', 'Meets'), ('Meets', 'West'), ('Carnegie', 'Recital'), ('Recital', 'Hall'), ('Hall', 'last'), ('last', 'night'), ('Anna', 'Mi'), ('Mi', 'Lee'), ('Lee', 'pianist'), ('pianist', 'Selections'), ('fifteen', 'countries'), ('broad', 'range'), ('languages', 'Songs'), ('reserved', 'exclusively'), ('Miss', 'Mao'), ('British', 'Isles'), ('program', 'intended'), ('illustrate', 'authentic'), ('authentic', 'folk'), ('folk', 'styles'), ('contrary', 'Miss'), ('Miss', 'Mao'), ('Fuller', 'chose'), ('chose', 'many'), ('Mendelssohn', 'Dvorak'), ('Dvorak', 'Canteloube'), ('Canteloube', 'Copland'), ('musical', 'substance'), ('case', 'otherwise'), ('assured', 'communicative'), ('pleasingly', 'informal'), ('Neglected', 'Education'), ('essentials', 'known'), ('life', 'little'), ('little', 'operetta'), ('operetta', 'presented'), ('presented', 'yesterday'), ('yesterday', 'afternoon'), ('Town', 'Hall'), ('fragile', 'precious'), ('precious', 'little'), ('little', 'piece'), ('without', 'wit'), ('poor', 'uneducated'), ('uneducated', 'newlywed'), ('certain', 'Gontran'), ('Gontran', 'De'), ('De', 'Boismassif'), ('necessary', 'information'), ('takes', 'place'), ('eighteenth', 'century'), ('silly', 'artificial'), ('artificial', 'way'), ('life', 'Chabrier'), ('librettists', 'chuckle'), ('could', 'bring'), ('back', 'delightful'), ('delightful', 'music'), ('music', 'stands'), ('classical', 'rationalist'), ('rationalist', 'tradition'), ('tradition', 'handed'), ('Chabrier', 'largely'), ('salon', 'music'), ('music', 'becomes'), ('becomes', 'virtually'), ('musical', 'cleverness'), ('spirit', 'plus'), ('strong', 'sense'), ('measure', 'save'), ('wry', 'little'), ('little', 'joke'), ('becoming', 'either'), ('either', 'bawdy'), ('simple', 'clever'), ('clever', 'production'), ('also', 'able'), ('thin', 'line'), ('extremes', 'Arlene'), ('Arlene', 'Saunders'), ('poor', 'Gontran'), ('Gontran', 'Yes'), ('Yes', 'Arlene'), ('work', 'uses'), ('old', 'tradition'), ('young', 'inexperienced'), ('inexperienced', 'youth'), ('soprano', 'Benita'), ('Benita', 'Valente'), ('young', 'wife'), ('John', 'Parella'), ('final', 'event'), ('Town', 'Hall'), ('Hall', 'Festival'), ('Darius', 'Milhaud'), ('Milhaud', 'opera'), ('Poor', 'Sailor'), ('Sailor', 'set'), ('Jean', 'Cocteau'), ('Grand', 'Guignol'), ('sailor', 'returns'), ('returns', 'unrecognized'), ('gets', 'done'), ('spots', 'music'), ('music', 'mostly'), ('mostly', 'churns'), ('churns', 'away'), ('usual', 'collection'), ('ditties', 'odd'), ('odd', 'harmonies'), ('lumbering', 'satiric'), ('satiric', 'orchestration'), ('funny', 'experience'), ('Newport', 'yesterday'), ('yesterday', 'afternoon'), ('afternoon', 'Sat'), ('woman', 'sang'), ('kept', 'getting'), ('getting', 'thinner'), ('thinner', 'right'), ('lady', 'Miss'), ('Miss', 'Judy'), ('Judy', 'Garland'), ('British', 'female'), ('female', 'reporter'), ('London', 'recently'), ('next', 'day'), ('day', 'Judy'), ('Judy', 'Garland'), ('plump', 'fat'), ('lady', 'sings'), ('sings', 'Certainly'), ('largest', 'afternoon'), ('afternoon', 'audience'), ('audience', 'Newport'), ('jazz', 'concert'), ('applauded', 'every'), ('every', 'number'), ('first', 'statement'), ('theme', 'sometimes'), ('first', 'chord'), ('Judy', 'sang'), ('lovely', 'old'), ('old', 'familiar'), ('familiar', 'things'), ('blessed', 'relief'), ('progressive', 'jazzmen'), ('proceedings', 'Things'), ('Things', 'like'), ('Smiling', 'Almost'), ('Almost', 'Like'), ('Wander', 'Alone'), ('Alone', 'Together'), ('personal', 'songs'), ('songs', 'like'), ('Got', 'Away'), ('Rainbow', 'Miss'), ('Miss', 'Garland'), ('great', 'singers'), ('superb', 'showmen'), ('come', 'onto'), ('appointed', 'hour'), ('hour', 'although'), ('Newport', 'people'), ('program', 'underway'), ('bad', 'delay'), ('getting', 'Mort'), ('Mort', 'orchestra'), ('orchestra', 'wedged'), ('chairs', 'Along'), ('side', 'Judy'), ('Judy', 'came'), ('blue', 'dress'), ('white', 'jacket'), ('bouffant', 'coiffure'), ('fortunately', 'combed'), ('brisk', 'breeze'), ('first', 'song'), ('waved', 'away'), ('away', 'one'), ('one', 'encroaching'), ('encroaching', 'photographer'), ('dared', 'approach'), ('throne', 'unbidden'), ('extreme', 'range'), ('also', 'came'), ('brief', 'contretemps'), ('sound', 'mixers'), ('quiet', 'moment'), ('moment', 'near'), ('tart', 'observation'), ('never', 'saw'), ('much', 'moving'), ('take', 'Judy'), ('Judy', 'Garland'), ('Garland', 'showman'), ('showman', 'long'), ('rescuing', 'sheets'), ('music', 'trundling'), ('trundling', 'microphones'), ('stage', 'helping'), ('otherwise', 'joining'), ('informal', 'atmosphere'), ('really', 'belted'), ('songs', 'Sometimes'), ('Come', 'Rain'), ('Come', 'Shine'), ('plain', 'magnificent'), ('magnificent', 'like'), ('shatteringly', 'beautiful'), ('beautiful', 'Beautiful'), ('Beautiful', 'Weather'), ('partisan', 'audience'), ('picayune', 'haggling'), ('haggling', 'would'), ('seemed', 'nothing'), ('critic', 'striving'), ('sat', 'back'), ('could', 'never'), ('never', 'get'), ('get', 'enough'), ('splendid', 'exciting'), ('exciting', 'singing'), ('really', 'personal'), ('personal', 'songs'), ('songs', 'like'), ('Got', 'Away'), ('deeply', 'moving'), ('audience', 'let'), ('Rainbow', 'although'), ('kept', 'crying'), ('Get', 'Happy'), ('go', 'home'), ('home', 'unhappy'), ('item', 'anyway'), ('went', 'home'), ('home', 'happy'), ('happy', 'except'), ('Newport', 'police'), ('throng', 'departing'), ('might', 'meet'), ('night', 'crowd'), ('crowd', 'drawing'), ('drawing', 'nigh'), ('happy', 'hour'), ('cocktail', 'bar'), ('Newport', 'last'), ('last', 'night'), ('distant', 'lightning'), ('northern', 'skies'), ('perhaps', 'symbolic'), ('evening', 'flashes'), ('storm', 'Several'), ('Several', 'times'), ('came', 'near'), ('near', 'breaking'), ('lovely', 'peals'), ('Jerry', 'big'), ('big', 'band'), ('come', 'along'), ('jazz', 'business'), ('business', 'since'), ('since', 'John'), ('John', 'Hammond'), ('Hammond', 'found'), ('found', 'Count'), ('Count', 'Basie'), ('Basie', 'working'), ('Kansas', 'City'), ('City', 'trap'), ('trap', 'band'), ('solid', 'sense'), ('seems', 'far'), ('noise', 'generated'), ('big', 'concert'), ('concert', 'aggregations'), ('equally', 'impressive'), ('wonderful', 'lyric'), ('lyric', 'quality'), ('baritone', 'sax'), ('fragile', 'ballad'), ('ballad', 'like'), ('like', 'Bob'), ('Bob', 'arrangement'), ('subtle', 'swinging'), ('swinging', 'rhythms'), ('could', 'admire'), ('admire', 'intensely'), ('intensely', 'version'), ('fireworks', 'went'), ('sax', 'tribute'), ('Johnny', 'Hodges'), ('considerable', 'contrast'), ('Mulligan', 'performance'), ('Art', 'Blakey'), ('Jazz', 'Messengers'), ('tremendous', 'sound'), ('small', 'group'), ('group', 'Unfortunately'), ('Unfortunately', 'Blakey'), ('Blakey', 'choose'), ('work', 'much'), ('soloist', 'performing'), ('brief', 'glimpses'), ('ensemble', 'work'), ('get', 'however'), ('Sarah', 'Vaughan'), ('first', 'number'), ('number', 'scattered'), ('timid', 'members'), ('audience', 'briefly'), ('listeners', 'care'), ('care', 'whether'), ('got', 'wet'), ('wet', 'Miss'), ('Miss', 'Vaughan'), ('top', 'form'), ('form', 'somehow'), ('somehow', 'mellowed'), ('time', 'like'), ('fine', 'wine'), ('female', 'vocalists'), ('took', 'Sarah'), ('might', 'make'), ('seem', 'old'), ('old', 'hat'), ('real', 'thing'), ('thing', 'seem'), ('seem', 'better'), ('ever', 'Jazz'), ('Jazz', 'Three'), ('Three', 'open'), ('open', 'program'), ('evening', 'program'), ('Jazz', 'Three'), ('Newport', 'group'), ('group', 'consisting'), ('Steve', 'Budieshein'), ('bass', 'Jack'), ('Jack', 'Warner'), ('Warner', 'drums'), ('Cook', 'piano'), ('good', 'idea'), ('first', 'tried'), ('Saturday', 'night'), ('Eddie', 'Stack'), ('Stack', 'group'), ('group', 'also'), ('also', 'local'), ('local', 'talent'), ('talent', 'went'), ('first', 'Putting'), ('local', 'musicians'), ('program', 'serves'), ('triple', 'purpose'), ('top', 'flight'), ('flight', 'jazz'), ('jazz', 'men'), ('unenviable', 'spot'), ('cold', 'restless'), ('long', 'way'), ('resident', 'musicians'), ('famous', 'Newport'), ('Newport', 'audience'), ('Jazz', 'Three'), ('Three', 'displayed'), ('sound', 'musicianship'), ('chosen', 'set'), ('emergency', 'accompanists'), ('Al', 'Minns'), ('Minns', 'Leon'), ('Leon', 'James'), ('superb', 'jazz'), ('jazz', 'dancers'), ('Newport', 'performers'), ('three', 'successive'), ('successive', 'years'), ('years', 'gradually'), ('gradually', 'moving'), ('morning', 'seminar'), ('evening', 'program'), ('program', 'Julie'), ('Julie', 'Wilson'), ('Wilson', 'sings'), ('sings', 'Julie'), ('Julie', 'Wilson'), ('vigorous', 'vocalist'), ('vocalist', 'without'), ('without', 'many'), ('many', 'wild'), ('wild', 'twists'), ('twists', 'sang'), ('large', 'part'), ('seldom', 'heard'), ('heard', 'old'), ('old', 'oldies'), ('delightful', 'Sunday'), ('always', 'reliable'), ('reliable', 'Bill'), ('Bill', 'Bailey'), ('leaped', 'way'), ('Stan', 'private'), ('private', 'brand'), ('progressive', 'jazz'), ('lovely', 'subtle'), ('subtle', 'things'), ('Baubles', 'Bangles'), ('ballards', 'Getz'), ('difficult', 'musician'), ('sax', 'principally'), ('tone', 'rather'), ('scintillating', 'flights'), ('meaningless', 'improvisations'), ('quiet', 'way'), ('getting', 'back'), ('tradition', 'however'), ('however', 'far'), ('far', 'removed'), ('may', 'seem'), ('Shearing', 'takes'), ('George', 'Shearing'), ('Shearing', 'took'), ('well', 'disciplined'), ('disciplined', 'group'), ('sextet', 'consisting'), ('vibes', 'guitar'), ('guitar', 'bass'), ('bass', 'drums'), ('drums', 'piano'), ('bongo', 'drummer'), ('enthusiastic', 'audience'), ('audience', 'approval'), ('approval', 'especially'), ('Latin', 'American'), ('American', 'things'), ('things', 'like'), ('Mambo', 'Shearing'), ('playing', 'better'), ('better', 'piano'), ('recent', 'Newport'), ('Newport', 'appearances'), ('casual', 'pleasant'), ('pleasant', 'program'), ('program', 'one'), ('make', 'afternoon'), ('afternoon', 'programs'), ('relaxing', 'delight'), ('sunny', 'skies'), ('skies', 'hot'), ('hot', 'sun'), ('fresh', 'breeze'), ('hear', 'music'), ('music', 'rather'), ('beach', 'Divided'), ('Divided', 'almost'), ('almost', 'equally'), ('two', 'parts'), ('Blues', 'narrated'), ('Jon', 'Hendricks'), ('last', 'year'), ('Monterey', 'Jazz'), ('Jazz', 'Festival'), ('Maynard', 'Ferguson'), ('blasting', 'big'), ('big', 'band'), ('band', 'story'), ('small', 'audience'), ('small', 'children'), ('children', 'right'), ('African', 'roots'), ('roots', 'among'), ('West', 'Indies'), ('close', 'relationship'), ('early', 'jazz'), ('jazz', 'forms'), ('Negro', 'churches'), ('churches', 'Surprise'), ('Surprise', 'addition'), ('religious', 'aspect'), ('primitive', 'jazz'), ('Big', 'Miller'), ('Hannah', 'Dean'), ('Oscar', 'Brown'), ('extremely', 'talented'), ('talented', 'young'), ('young', 'man'), ('slave', 'call'), ('work', 'song'), ('beautifully', 'sung'), ('sung', 'Negro'), ('Negro', 'lullaby'), ('lullaby', 'Brown'), ('Brown', 'Baby'), ('truly', 'moving'), ('moving', 'moments'), ('festival', 'One'), ('delightful', 'surprise'), ('surprise', 'additions'), ('frequently', 'occur'), ('jazz', 'programs'), ('excellent', 'stint'), ('great', 'Joe'), ('Joe', 'Jones'), ('Jones', 'drumming'), ('Old', 'Man'), ('Man', 'River'), ('favorite', 'solo'), ('concerts', 'Demonstrating'), ('primitive', 'African'), ('African', 'rhythmic'), ('rhythmic', 'backgrounds'), ('Michael', 'Babatunde'), ('Babatunde', 'Olatunji'), ('native', 'drums'), ('resounding', 'job'), ('job', 'slapping'), ('previous', 'Newport'), ('Newport', 'programs'), ('last', 'afternoon'), ('afternoon', 'concerts'), ('concerts', 'Hendricks'), ('Billy', 'Mitchell'), ('Mitchell', 'tenor'), ('tenor', 'sax'), ('sax', 'Pony'), ('Pony', 'Poindexter'), ('Poindexter', 'alto'), ('alto', 'sax'), ('sax', 'Jimmy'), ('Jimmy', 'Witherspoon'), ('Witherspoon', 'Blues'), ('Blues', 'singer'), ('good', 'one'), ('Ike', 'Isaacs'), ('Isaacs', 'Trio'), ('wonderful', 'work'), ('two', 'afternoons'), ('musical', 'examples'), ('well', 'Pianists'), ('interesting', 'material'), ('material', 'contained'), ('Sonatas', 'Music'), ('Music', 'lovers'), ('literature', 'may'), ('may', 'hear'), ('excellent', 'example'), ('example', 'played'), ('Emil', 'Gilels'), ('chosen', 'Sonata'), ('playing', 'takes'), ('disc', 'Perhaps'), ('Perhaps', 'one'), ('great', 'length'), ('length', 'Rhythmic'), ('Rhythmic', 'interest'), ('interest', 'melodic'), ('melodic', 'beauty'), ('hold', 'attention'), ('Gilels', 'playing'), ('musical', 'ideas'), ('projected', 'beautifully'), ('male', 'chorus'), ('Robert', 'Shaw'), ('Shaw', 'Chorale'), ('Chorale', 'sings'), ('sings', 'Sea'), ('Sea', 'Shanties'), ('fine', 'style'), ('superbly', 'trained'), ('say', 'chantey'), ('French', 'word'), ('word', 'chanter'), ('say', 'shanty'), ('roughly', 'built'), ('built', 'cabin'), ('word', 'chantier'), ('meanings', 'given'), ('say', 'chantey'), ('chantey', 'Either'), ('Either', 'way'), ('Robert', 'Shaw'), ('Shaw', 'chorus'), ('chorus', 'sings'), ('fine', 'style'), ('every', 'colorful'), ('colorful', 'word'), ('musical', 'frame'), ('frame', 'spelled'), ('agreeable', 'listening'), ('favorite', 'song'), ('unfamiliar', 'one'), ('London', 'label'), ('label', 'offers'), ('operatic', 'recital'), ('Ettore', 'Bastianini'), ('baritone', 'whose'), ('whose', 'fame'), ('international', 'Murray'), ('Murray', 'Louis'), ('dance', 'company'), ('company', 'appeared'), ('Henry', 'Street'), ('Street', 'Playhouse'), ('Saturday', 'evenings'), ('Sunday', 'afternoons'), ('latest', 'work'), ('work', 'Signal'), ('earlier', 'one'), ('one', 'Journal'), ('Journal', 'Signal'), ('three', 'male'), ('male', 'dancers'), ('electronic', 'score'), ('Alwin', 'Nikolais'), ('abstract', 'decor'), ('John', 'Hultberg'), ('Hultberg', 'Program'), ('Program', 'note'), ('note', 'reads'), ('follows', 'Take'), ('Take', 'hands'), ('urgent', 'visage'), ('visage', 'beckons'), ('beckons', 'us'), ('Journal', 'Louis'), ('wide', 'variety'), ('arresting', 'physical'), ('physical', 'movements'), ('movements', 'Indeed'), ('Signal', 'qualify'), ('instructive', 'catalogues'), ('necessarily', 'communicative'), ('works', 'prove'), ('prove', 'disappointing'), ('disappointing', 'One'), ('One', 'frequently'), ('movement', 'combinations'), ('combinations', 'could'), ('transposed', 'without'), ('without', 'notable'), ('notable', 'loss'), ('little', 'suggestion'), ('organic', 'relationship'), ('consciously', 'trying'), ('create', 'works'), ('total', 'automation'), ('present', 'time'), ('time', 'One'), ('One', 'thing'), ('certain', 'however'), ('detailed', 'accents'), ('accents', 'phrasings'), ('confident', 'dance'), ('dance', 'creator'), ('creator', 'need'), ('American', 'journey'), ('brisk', 'satirical'), ('satirical', 'spoof'), ('contemporary', 'American'), ('American', 'mores'), ('mores', 'entitled'), ('American', 'Journey'), ('first', 'New'), ('New', 'York'), ('York', 'performance'), ('Hunter', 'College'), ('College', 'Playhouse'), ('Playhouse', 'last'), ('last', 'night'), ('Helen', 'Nagrin'), ('Nagrin', 'Dance'), ('Dance', 'Company'), ('Company', 'Choreographed'), ('work', 'filled'), ('second', 'half'), ('also', 'offered'), ('first', 'New'), ('New', 'York'), ('York', 'showing'), ('Indeterminate', 'Figure'), ('Figure', 'Eugene'), ('Eugene', 'Lester'), ('Lester', 'assembled'), ('explicit', 'score'), ('American', 'Journey'), ('Malcolm', 'McCormick'), ('McCormick', 'gave'), ('sprightly', 'imaginative'), ('imaginative', 'costumes'), ('costumes', 'Nagrin'), ('described', 'four'), ('four', 'places'), ('people', 'added'), ('added', 'two'), ('two', 'diversions'), ('refreshingly', 'underplayed'), ('underplayed', 'interpretation'), ('places', 'could'), ('foibles', 'observed'), ('clever', 'almost'), ('way', 'Miss'), ('problem', 'piece'), ('three', 'figures'), ('somehow', 'Unfortunately'), ('menacing', 'figures'), ('figures', 'failed'), ('dancing', 'involved'), ('involved', 'really'), ('really', 'seize'), ('Russell', 'Tetrameron'), ('Tetrameron', 'sounded'), ('sounded', 'good'), ('sizable', 'company'), ('Marion', 'Scott'), ('leading', 'dancers'), ('dancers', 'seemed'), ('fine', 'shape'), ('Air', 'greatly'), ('greatly', 'assisted'), ('Van', 'Cliburn'), ('Cliburn', 'last'), ('last', 'night'), ('night', 'got'), ('Beethoven', 'cycle'), ('Carnegie', 'Hall'), ('good', 'start'), ('orchestra', 'announced'), ('next', 'season'), ('giving', 'programs'), ('suburbs', 'repeating'), ('five', 'different'), ('different', 'communities'), ('news', 'announced'), ('Jerome', 'Toobin'), ('administrative', 'director'), ('director', 'brought'), ('brought', 'applause'), ('Carnegie', 'would'), ('major', 'orchestra'), ('orchestra', 'playing'), ('often', 'next'), ('next', 'season'), ('Lincoln', 'Center'), ('New', 'York'), ('York', 'Philharmonic'), ('Philadelphia', 'Orchestra'), ('Boston', 'Symphony'), ('already', 'taken'), ('step', 'toward'), ('giving', 'six'), ('six', 'subscription'), ('subscription', 'concerts'), ('Orchestral', 'Society'), ('County', 'Center'), ('White', 'Plains'), ('suburban', 'concerts'), ('concerts', 'next'), ('next', 'season'), ('announced', 'later'), ('later', 'Toobin'), ('Toobin', 'said'), ('Van', 'Cliburn'), ('New', 'York'), ('York', 'since'), ('triumphant', 'return'), ('Rachmaninoff', 'Third'), ('Prokofieff', 'Third'), ('pleasant', 'last'), ('last', 'night'), ('night', 'therefore'), ('something', 'else'), ('recently', 'recorded'), ('young', 'Texas'), ('Texas', 'pianist'), ('make', 'great'), ('great', 'chords'), ('chords', 'ring'), ('last', 'night'), ('massive', 'sonorities'), ('challenging', 'concerto'), ('introspective', 'slow'), ('slow', 'movement'), ('beautiful', 'transition'), ('third', 'movement'), ('bigger', 'moments'), ('opening', 'movement'), ('final', 'Rondo'), ('Rondo', 'Cliburn'), ('Cliburn', 'gave'), ('slow', 'movement'), ('Chopin', 'Nocturne'), ('Nocturne', 'Alfred'), ('Alfred', 'Wallenstein'), ('conductor', 'sensitive'), ('sensitive', 'accompanist'), ('brooding', 'poetic'), ('poetic', 'mystery'), ('cycle', 'also'), ('also', 'conducted'), ('Leonore', 'Overture'), ('Fourth', 'Symphony'), ('lyrical', 'yet'), ('yet', 'full'), ('suppressed', 'tension'), ('Beethoven', 'Igor'), ('Igor', 'Oistrakh'), ('next', 'soloist'), ('one', 'suspects'), ('musical', 'shows'), ('reach', 'Broadway'), ('Broadway', 'may'), ('may', 'really'), ('integrated', 'musical'), ('individual', 'song'), ('song', 'must'), ('must', 'contribute'), ('function', 'required'), ('casually', 'constructed'), ('constructed', 'musicals'), ('Nineteen', 'Twenties'), ('Nineteen', 'Thirties'), ('would', 'seem'), ('less', 'reason'), ('merit', 'Yet'), ('classic', 'case'), ('Love', 'Deemed'), ('first', 'heard'), ('first', 'version'), ('abandoned', 'shortly'), ('entire', 'show'), ('finally', 'reached'), ('reached', 'Broadway'), ('successful', 'version'), ('Still', 'another'), ('another', 'song'), ('Band', 'Got'), ('failure', 'Treasure'), ('Treasure', 'Girl'), ('Girl', 'second'), ('second', 'chance'), ('chance', 'Like'), ('Gershwins', 'Richard'), ('Richard', 'Rodgers'), ('Lorenz', 'Hart'), ('good', 'song'), ('song', 'get'), ('get', 'away'), ('melodies', 'seemed'), ('better', 'fate'), ('Broadway', 'failure'), ('failure', 'Hart'), ('new', 'lyrics'), ('second', 'chance'), ('another', 'show'), ('show', 'Several'), ('double', 'entries'), ('Ben', 'Bagley'), ('Michael', 'McWhinney'), ('McWhinney', 'along'), ('Hart', 'songs'), ('disappeared', 'permanently'), ('permanently', 'en'), ('en', 'route'), ('New', 'York'), ('reached', 'Broadway'), ('become', 'part'), ('constantly', 'heard'), ('heard', 'Rodgers'), ('Hart', 'repertory'), ('delightfully', 'refreshing'), ('refreshing', 'album'), ('album', 'Rodgers'), ('Hart', 'Revisited'), ('Revisited', 'Spruce'), ('Spruce', 'Records'), ('Records', 'Fifth'), ('Fifth', 'Avenue'), ('Avenue', 'New'), ('New', 'York'), ('York', 'Among'), ('particular', 'gems'), ('impudent', 'opening'), ('opening', 'song'), ('Garrick', 'Gaieties'), ('impressive', 'forecast'), ('followed', 'Dorothy'), ('Dorothy', 'raucous'), ('raucous', 'listing'), ('Roxy', 'Music'), ('Music', 'Hall'), ('incisive', 'style'), ('Charlotte', 'Rae'), ('Rae', 'delivers'), ('Hart', 'lyrics'), ('Connecticut', 'Yankee'), ('Yankee', 'Altogether'), ('Altogether', 'fifteen'), ('fifteen', 'virtually'), ('virtually', 'unknown'), ('unknown', 'Rodgers'), ('Hart', 'songs'), ('able', 'vocalists'), ('vocalists', 'Norman'), ('Norman', 'Paris'), ('extremely', 'effective'), ('effective', 'orchestral'), ('orchestral', 'accompaniment'), ('accompaniment', 'Turning'), ('current', 'musical'), ('musical', 'season'), ('widely', 'acclaimed'), ('new', 'arrivals'), ('Business', 'Without'), ('Without', 'Really'), ('Really', 'Trying'), ('original', 'cast'), ('cast', 'album'), ('album', 'Victor'), ('Victor', 'LOC'), ('LOC', 'stereo'), ('stereo', 'LSO'), ('entertaining', 'moments'), ('moments', 'although'), ('praise', 'elicited'), ('show', 'might'), ('might', 'lead'), ('lead', 'one'), ('expect', 'Robert'), ('Robert', 'Morse'), ('Morse', 'singing'), ('comically', 'plaintive'), ('plaintive', 'earnestness'), ('earnestness', 'carries'), ('high', 'spots'), ('Frank', 'score'), ('score', 'Rudy'), ('Rudy', 'Vallee'), ('shares', 'star'), ('star', 'billing'), ('Morse', 'makes'), ('two', 'appearances'), ('college', 'anthems'), ('second', 'song'), ('whisked', 'away'), ('Virginia', 'Martin'), ('remarkably', 'expressive'), ('expressive', 'yip'), ('general', 'Loesser'), ('consistent', 'job'), ('composer', 'Like'), ('Like', 'Loesser'), ('Loesser', 'Jerry'), ('Jerry', 'Herman'), ('Honey', 'Victor'), ('Victor', 'LOC'), ('LOC', 'stereo'), ('stereo', 'LSO'), ('American', 'couple'), ('Israel', 'Herman'), ('written', 'songs'), ('warmly', 'melodious'), ('dance', 'music'), ('sparkles', 'Resourceful'), ('Resourceful', 'voices'), ('resourceful', 'voices'), ('Robert', 'Weede'), ('Weede', 'Mimi'), ('Mimi', 'Benzell'), ('Tommy', 'Rall'), ('lilting', 'melodies'), ('occasional', 'change'), ('bright', 'humor'), ('Molly', 'Picon'), ('Picon', 'Herman'), ('mix', 'musical'), ('musical', 'ideas'), ('ideas', 'drawn'), ('standard', 'American'), ('American', 'ballad'), ('ballad', 'style'), ('basic', 'tunefulness'), ('lyrics', 'Noel'), ('Noel', 'Coward'), ('Coward', 'also'), ('also', 'wrote'), ('directed', 'Sail'), ('Sail', 'Away'), ('Away', 'Capitol'), ('Capitol', 'WAO'), ('WAO', 'stereo'), ('stereo', 'SWAO'), ('cruise', 'ship'), ('included', 'among'), ('memorable', 'works'), ('melodies', 'flow'), ('flow', 'along'), ('along', 'pleasantly'), ('songs', 'usually'), ('tired', 'quality'), ('quality', 'Elaine'), ('Elaine', 'Stritch'), ('persuasively', 'warm'), ('warm', 'huskiness'), ('huskiness', 'belts'), ('cast', 'sound'), ('three', 'fine'), ('fine', 'Russian'), ('Russian', 'films'), ('recent', 'months'), ('World', 'War'), ('every', 'right'), ('real', 'Soviet'), ('War', 'Ended'), ('long', 'shot'), ('Artkino', 'presentation'), ('English', 'titles'), ('titles', 'opened'), ('Cameo', 'Theatre'), ('Theatre', 'Make'), ('Gorky', 'Studio'), ('Studio', 'drama'), ('respectable', 'import'), ('import', 'aptly'), ('aptly', 'grave'), ('grave', 'carefully'), ('carefully', 'written'), ('written', 'performed'), ('initial', 'Allied'), ('Allied', 'occupation'), ('German', 'city'), ('color', 'pictorial'), ('pictorial', 'pull'), ('genuinely', 'moving'), ('moving', 'moments'), ('moments', 'Told'), ('Told', 'strictly'), ('Russian', 'conquerors'), ('film', 'compassionately'), ('compassionately', 'peers'), ('smitten', 'Soviet'), ('Soviet', 'couple'), ('aftermath', 'Unfortunately'), ('whole', 'picture'), ('picture', 'hinges'), ('everything', 'else'), ('else', 'Tenderly'), ('rather', 'tediously'), ('camera', 'rivets'), ('abrupt', 'deep'), ('deep', 'love'), ('pretty', 'nurse'), ('uniformed', 'teacher'), ('teacher', 'complicated'), ('old', 'story'), ('story', 'war'), ('one', 'viewer'), ('viewer', 'may'), ('may', 'recall'), ('recall', 'Titanic'), ('Titanic', 'several'), ('several', 'seasons'), ('seasons', 'back'), ('paramount', 'concern'), ('marital', 'discord'), ('society', 'dilettante'), ('Yakov', 'direction'), ('begins', 'stirringly'), ('crouching', 'Soviet'), ('Nazi', 'troops'), ('troops', 'silently'), ('silently', 'scan'), ('first', 'surrender'), ('surrender', 'gesture'), ('gesture', 'One'), ('One', 'camera'), ('camera', 'shot'), ('Germans', 'straggle'), ('cathedral', 'dotting'), ('huge', 'cobblestone'), ('cobblestone', 'square'), ('weapons', 'Ring'), ('Bright', 'Water'), ('Gavin', 'Maxwell'), ('Maxwell', 'pages'), ('pages', 'Dutton'), ('magic', 'sense'), ('rare', 'experience'), ('experience', 'Ring'), ('Bright', 'Water'), ('Gavin', 'Maxwell'), ('haunting', 'warmly'), ('warmly', 'personal'), ('personal', 'chronicle'), ('remote', 'cottage'), ('Scottish', 'West'), ('West', 'Highlands'), ('bright', 'water'), ('water', 'begins'), ('Kathleen', 'Raine'), ('Raine', 'poem'), ('Maxwell', 'takes'), ('mystic', 'bond'), ('natural', 'world'), ('author', 'conveys'), ('long', 'fjords'), ('road', 'miles'), ('miles', 'away'), ('wild', 'stags'), ('stags', 'Greylag'), ('Greylag', 'geese'), ('geese', 'wild'), ('wild', 'swans'), ('swans', 'dolphins'), ('porpoises', 'playing'), ('Maxwell', 'recounts'), ('first', 'coming'), ('empty', 'house'), ('subtle', 'changes'), ('ten', 'years'), ('moving', 'experience'), ('passionate', 'encounter'), ('natural', 'world'), ('today', 'seems'), ('seems', 'almost'), ('almost', 'lost'), ('lost', 'would'), ('gave', 'name'), ('new', 'species'), ('Tigris', 'marshes'), ('London', 'flat'), ('may', 'sound'), ('sound', 'extravagant'), ('engaging', 'animal'), ('fine', 'series'), ('frightened', 'otter'), ('otter', 'journey'), ('lay', 'curled'), ('wash', 'basin'), ('basin', 'playing'), ('water', 'tap'), ('affectionate', 'detail'), ('detail', 'Mij'), ('strange', 'inexplicable'), ('inexplicable', 'habits'), ('nip', 'ear'), ('ear', 'lobes'), ('unsuspecting', 'visitors'), ('preferred', 'sleeping'), ('pillow', 'Systematically'), ('would', 'open'), ('ransack', 'drawers'), ('drawers', 'Given'), ('small', 'ball'), ('would', 'invent'), ('invent', 'games'), ('explored', 'every'), ('every', 'inch'), ('glen', 'beach'), ('ledge', 'high'), ('sheer', 'cliff'), ('calm', 'faith'), ('nearly', 'lost'), ('reader', 'one'), ('new', 'world'), ('quite', 'alone'), ('human', 'beings'), ('sharply', 'exhilarating'), ('lifted', 'allowing'), ('intense', 'awareness'), ('increasing', 'interdependence'), ('Mij', 'came'), ('obscure', 'need'), ('trusted', 'implicitly'), ('creature', 'Two'), ('time', 'shared'), ('shared', 'love'), ('remained', 'around'), ('around', 'us'), ('us', 'three'), ('orb', 'revolved'), ('imponderable', 'world'), ('behaved', 'towards'), ('towards', 'us'), ('abuse', 'passion'), ('way', 'depended'), ('worship', 'Yet'), ('idyll', 'ended'), ('brief', 'details'), ('death', 'lend'), ('lend', 'depth'), ('story', 'give'), ('ironic', 'tragedy'), ('tragedy', 'Man'), ('Mij', 'gave'), ('gave', 'endless'), ('endless', 'affection'), ('road', 'worker'), ('somehow', 'becomes'), ('abstract', 'symbol'), ('strange', 'coincidence'), ('coincidence', 'Maxwell'), ('Maxwell', 'manages'), ('acquire', 'Idal'), ('female', 'otter'), ('fascinating', 'story'), ('story', 'starts'), ('main', 'personality'), ('book', 'Mijbil'), ('rollicking', 'ways'), ('poet', 'portrait'), ('portrait', 'painter'), ('painter', 'writer'), ('writer', 'journalist'), ('journalist', 'traveller'), ('zoologist', 'sensitive'), ('never', 'sentimental'), ('sentimental', 'recorder'), ('unusual', 'way'), ('forceful', 'vivid'), ('reviewer', 'read'), ('first', 'brought'), ('Gavin', 'Ring'), ('Bright', 'Water'), ('world', 'New'), ('New', 'York'), ('Comedie', 'Francaise'), ('important', 'recent'), ('recent', 'events'), ('New', 'York'), ('York', 'theater'), ('popular', 'notion'), ('Comedie', 'merely'), ('merely', 'repeats'), ('old', 'plays'), ('new', 'production'), ('brief', 'history'), ('revivals', 'last'), ('last', 'longer'), ('reminds', 'us'), ('adverse', 'notices'), ('Broadway', 'producers'), ('two', 'instances'), ('season', 'closed'), ('one', 'performance'), ('world', 'outside'), ('court', 'public'), ('public', 'approval'), ('full', 'houses'), ('occasionally', 'dare'), ('dramatic', 'classic'), ('France', 'novel'), ('novel', 'approaches'), ('classic', 'French'), ('French', 'plays'), ('frequently', 'attempted'), ('government', 'pays'), ('policy', 'attracts'), ('attracts', 'experimenters'), ('sometimes', 'put'), ('put', 'characters'), ('modern', 'dress'), ('often', 'achieve'), ('achieve', 'interesting'), ('interesting', 'results'), ('never', 'put'), ('put', 'people'), ('reinterpret', 'plays'), ('characters', 'Last'), ('Last', 'season'), ('two', 'principal'), ('principal', 'experiments'), ('experiments', 'came'), ('expect', 'fairly'), ('fairly', 'soon'), ('see', 'still'), ('still', 'newer'), ('newer', 'productions'), ('new', 'Phedre'), ('century', 'setting'), ('setting', 'instead'), ('ancient', 'Greek'), ('Greek', 'perhaps'), ('lines', 'seemed'), ('seemed', 'excessively'), ('excessively', 'slow'), ('stately', 'possibly'), ('century', 'elegance'), ('literary', 'men'), ('men', 'defended'), ('mainly', 'hostile'), ('quite', 'violent'), ('new', 'School'), ('interpreted', 'according'), ('becoming', 'increasingly'), ('increasingly', 'common'), ('classic', 'comedy'), ('obviously', 'ludicrous'), ('ludicrous', 'figure'), ('tragic', 'character'), ('character', 'Among'), ('Moliere', 'specialists'), ('years', 'ago'), ('ago', 'Louis'), ('Louis', 'Jouvet'), ('Jouvet', 'tried'), ('Fernand', 'Ledoux'), ('Ledoux', 'often'), ('often', 'performing'), ('Comedie', 'made'), ('Moliere', 'may'), ('intended', 'Apparently'), ('Apparently', 'Jouvet'), ('Ledoux', 'attempted'), ('dissimilar', 'approaches'), ('say', 'apparently'), ('apparently', 'although'), ('saw', 'Jouvet'), ('country', 'shortly'), ('tragic', 'playing'), ('last', 'moments'), ('comedy', 'Arnolphe'), ('mature', 'years'), ('serious', 'treatment'), ('treatment', 'one'), ('one', 'influential'), ('influential', 'French'), ('French', 'critic'), ('critic', 'remarked'), ('remarked', 'Pity'), ('Arnolphe', 'comes'), ('age', 'Accordingly'), ('Comedie', 'last'), ('last', 'year'), ('year', 'Jean'), ('Jean', 'Meyer'), ('Meyer', 'played'), ('sympathetic', 'Arnolphe'), ('drew', 'criticism'), ('truly', 'present'), ('play', 'became'), ('comedy', 'acted'), ('acted', 'rather'), ('rather', 'slowly'), ('slowly', 'Wisely'), ('brought', 'Tartuffe'), ('home', 'Tartuffe'), ('religious', 'hypocrite'), ('wife', 'Jouvet'), ('Jouvet', 'played'), ('sincere', 'zealot'), ('Comedie', 'made'), ('gross', 'buffoon'), ('historians', 'tell'), ('tell', 'us'), ('us', 'Louis'), ('Louis', 'Seigner'), ('formerly', 'played'), ('deluded', 'benefactor'), ('benefactor', 'opposite'), ('opposite', 'Ledoux'), ('present', 'production'), ('Tartuffe', 'observes'), ('golden', 'mean'), ('red', 'face'), ('coarse', 'gestures'), ('lustful', 'stares'), ('stares', 'bespeak'), ('heavenward', 'glances'), ('pious', 'speeches'), ('merely', 'perfunctory'), ('reflect', 'sincerity'), ('good', 'job'), ('pious', 'impersonation'), ('impersonation', 'Occasionally'), ('Occasionally', 'Seigner'), ('Seigner', 'draws'), ('justly', 'deserved'), ('deserved', 'laughs'), ('quick', 'shifts'), ('one', 'personality'), ('whole', 'role'), ('considerable', 'transformation'), ('seen', 'Seigner'), ('normal', 'specialty'), ('old', 'man'), ('man', 'frequently'), ('frequently', 'stupid'), ('never', 'mean'), ('quite', 'persuasively'), ('slyness', 'Seigner'), ('oldest', 'actor'), ('continuous', 'service'), ('rebut', 'another'), ('another', 'legend'), ('often', 'told'), ('old', 'actors'), ('lazy', 'drawing'), ('pay', 'without'), ('without', 'much'), ('much', 'acting'), ('real', 'service'), ('stage', 'Seigner'), ('Seigner', 'however'), ('fine', 'actor'), ('busiest', 'man'), ('company', 'among'), ('Bourgeois', 'Gentleman'), ('Imaginary', 'Invalid'), ('Scapin', 'Robert'), ('Robert', 'Hirsch'), ('Hirsch', 'undertakes'), ('undertakes', 'another'), ('great', 'roles'), ('old', 'tradition'), ('clever', 'servant'), ('master', 'Scapin'), ('healthy', 'cheerful'), ('cheerful', 'energetic'), ('energetic', 'revelling'), ('physical', 'agility'), ('obvious', 'superiority'), ('young', 'gentlemen'), ('serves', 'Hirsch'), ('Hirsch', 'says'), ('role', 'certain'), ('certain', 'qualities'), ('city', 'toughs'), ('real', 'world'), ('fresh', 'directness'), ('servant', 'Django'), ('Django', 'Reinhardt'), ('true', 'artist'), ('artist', 'one'), ('demonstrated', 'conclusively'), ('many', 'channels'), ('jazz', 'guitarist'), ('business', 'today'), ('owe', 'something'), ('Django', 'owed'), ('owed', 'much'), ('Louis', 'Armstrong'), ('two', 'old'), ('old', 'Armstrong'), ('Armstrong', 'records'), ('Flea', 'Market'), ('first', 'jazz'), ('heard', 'Django'), ('born', 'Jean'), ('Jean', 'Baptiste'), ('Baptiste', 'Reinhardt'), ('extraordinary', 'man'), ('left', 'hand'), ('fell', 'asleep'), ('startlingly', 'beautiful'), ('beautiful', 'jazz'), ('album', 'Djangology'), ('Djangology', 'made'), ('Stephane', 'Grappelly'), ('Hot', 'Club'), ('choice', 'item'), ('Grappely', 'deserves'), ('deserves', 'mention'), ('plays', 'jazz'), ('play', 'Minor'), ('Minor', 'Swing'), ('Swing', 'Honeysuckle'), ('Honeysuckle', 'Rose'), ('Rose', 'Beyond'), ('Sea', 'Bricktop'), ('Bricktop', 'Heavy'), ('Heavy', 'Artillery'), ('Artillery', 'Djangology'), ('Saw', 'Stars'), ('Stars', 'Lover'), ('Lover', 'Man'), ('Man', 'Menilmontant'), ('great', 'proceedings'), ('proceedings', 'get'), ('minutes', 'Kid'), ('Kid', 'Ory'), ('trombonist', 'chicken'), ('chicken', 'farmer'), ('also', 'one'), ('solid', 'anchor'), ('anchor', 'points'), ('dates', 'back'), ('first', 'sailing'), ('sailing', 'ship'), ('ship', 'pulled'), ('New', 'Orleans'), ('blown', 'loud'), ('clear', 'across'), ('remember', 'Good'), ('Good', 'Time'), ('Time', 'Jazz'), ('nice', 'album'), ('Alvin', 'Alcorn'), ('Alcorn', 'trumpet'), ('trumpet', 'Phil'), ('Phil', 'Gomez'), ('Gomez', 'clarinet'), ('clarinet', 'Cedric'), ('Cedric', 'Haywood'), ('Haywood', 'piano'), ('piano', 'Julian'), ('Julian', 'Davidson'), ('Davidson', 'guitar'), ('guitar', 'Wellman'), ('Wellman', 'Braud'), ('Braud', 'bass'), ('Minor', 'Hall'), ('Hall', 'drums'), ('set', 'contains'), ('contains', 'High'), ('High', 'Society'), ('Ory', 'Say'), ('Home', 'Rag'), ('Rag', 'Careless'), ('Careless', 'Love'), ('Love', 'Jazz'), ('Blues', 'Weary'), ('Weary', 'Blues'), ('Blues', 'Original'), ('Original', 'Dixieland'), ('Dixieland', 'Bourbon'), ('Bourbon', 'Street'), ('Street', 'Parade'), ('Parade', 'Panama'), ('Panama', 'Toot'), ('Toot', 'Toot'), ('Toot', 'Tootsie'), ('Tootsie', 'Oh'), ('Ramble', 'Beale'), ('Beale', 'Street'), ('Street', 'Blues'), ('Blues', 'Maryland'), ('Maryland', 'Rag'), ('Rag', 'Eh'), ('Eh', 'La'), ('La', 'Bas'), ('Bas', 'Mood'), ('Mood', 'Indigo'), ('Bugle', 'Call'), ('Call', 'Rag'), ('Ory', 'style'), ('fine', 'fashion'), ('collect', 'elements'), ('lay', 'hands'), ('gems', 'Mischa'), ('Mischa', 'Elman'), ('Elman', 'shared'), ('shared', 'last'), ('last', 'Lewisohn'), ('Lewisohn', 'Stadium'), ('Stadium', 'concert'), ('three', 'American'), ('American', 'composers'), ('big', 'portion'), ('major', 'concertos'), ('would', 'faze'), ('faze', 'many'), ('younger', 'man'), ('man', 'Elman'), ('years', 'old'), ('heard', 'Elman'), ('due', 'respects'), ('must', 'truthfully'), ('American', 'part'), ('evening', 'consisted'), ('Paul', 'Dance'), ('Dance', 'Overture'), ('Overture', 'William'), ('William', 'Chester'), ('New', 'England'), ('England', 'Triptych'), ('two', 'works'), ('Wallingford', 'Riegger'), ('Riegger', 'Dance'), ('Dance', 'Rhythms'), ('Spanish', 'English'), ('English', 'French'), ('American', 'dances'), ('dances', 'mixed'), ('Latin', 'hesitation'), ('hesitation', 'bounce'), ('pale', 'like'), ('sweet', 'attractive'), ('attractive', 'Romanza'), ('composer', 'called'), ('Mostly', 'category'), ('Schuman', 'Chester'), ('Chester', 'takes'), ('old', 'William'), ('William', 'Billings'), ('Billings', 'tune'), ('rousing', 'woodwind'), ('brass', 'effect'), ('welcome', 'breath'), ('fresh', 'air'), ('lively', 'colorful'), ('colorful', 'unstuffy'), ('unstuffy', 'works'), ('works', 'well'), ('well', 'suited'), ('Alfredo', 'Antonini'), ('healthy', 'change'), ('lively', 'performances'), ('Stadium', 'Symphony'), ('undergoes', 'artificial'), ('artificial', 'insemination'), ('unlikely', 'heroine'), ('Adultery', 'new'), ('new', 'British'), ('British', 'import'), ('Apollo', 'Since'), ('objective', 'viewer'), ('viewer', 'might'), ('might', 'well'), ('well', 'conclude'), ('would', 'often'), ('often', 'arise'), ('extensive', 'discussion'), ('problem', 'seems'), ('best', 'superfluous'), ('present', 'artless'), ('artless', 'form'), ('subject', 'matter'), ('matter', 'seems'), ('seems', 'designed'), ('invite', 'censorial'), ('censorial', 'wrath'), ('Julie', 'London'), ('London', 'enacting'), ('central', 'role'), ('longsuffering', 'heroine'), ('least', 'attractive'), ('explanation', 'offered'), ('misguided', 'attempt'), ('neurotic', 'husband'), ('husband', 'left'), ('left', 'sterile'), ('automobile', 'accident'), ('accident', 'Anthony'), ('Anthony', 'Steel'), ('jealous', 'type'), ('divorce', 'labeling'), ('action', 'adulterous'), ('actor', 'plays'), ('role', 'glumly'), ('lurid', 'direction'), ('Basil', 'Sydney'), ('unsympathetic', 'father'), ('Anton', 'Diffring'), ('innocent', 'bystander'), ('protracted', 'hysterical'), ('hysterical', 'trial'), ('trial', 'scene'), ('dramatic', 'credibility'), ('surprise', 'leaves'), ('legal', 'question'), ('question', 'unresolved'), ('husband', 'drops'), ('seem', 'sorry'), ('first', 'place'), ('audience', 'London'), ('London', 'July'), ('final', 'change'), ('London', 'season'), ('Leningrad', 'State'), ('State', 'Kirov'), ('Kirov', 'Ballet'), ('Ballet', 'chose'), ('chose', 'tonight'), ('give', 'one'), ('choreographic', 'miscellanies'), ('miscellanies', 'known'), ('gala', 'program'), ('Royal', 'Opera'), ('Opera', 'House'), ('House', 'Covent'), ('Covent', 'Garden'), ('underlying', 'idea'), ('presentations', 'thus'), ('thus', 'far'), ('could', 'give'), ('every', 'sense'), ('audience', 'shouting'), ('shouting', 'much'), ('manner', 'far'), ('London', 'audiences'), ('program', 'indeed'), ('nothing', 'could'), ('could', 'stop'), ('Alexandre', 'Livshitz'), ('Livshitz', 'repeated'), ('fantastic', 'technical'), ('technical', 'bit'), ('closing', 'number'), ('number', 'Taras'), ('Taras', 'Bulba'), ('substantial', 'number'), ('seemed', 'determined'), ('go', 'home'), ('house', 'manager'), ('manager', 'John'), ('John', 'Collins'), ('Collins', 'finally'), ('finally', 'broke'), ('manifest', 'intention'), ('popular', 'level'), ('great', 'dancing'), ('dancing', 'company'), ('Taras', 'Bulba'), ('Bulba', 'excerpt'), ('rousing', 'version'), ('Ukrainian', 'choreographed'), ('Bo', 'Fenster'), ('contains', 'everything'), ('books', 'lusty'), ('lusty', 'comedy'), ('comedy', 'gregarious'), ('gregarious', 'cavorting'), ('Russians', 'would'), ('would', 'attempt'), ('human', 'body'), ('body', 'perform'), ('perform', 'Yuri'), ('Yuri', 'Soloviev'), ('Soloviev', 'Oleg'), ('Oleg', 'Sokolov'), ('Sokolov', 'Alexei'), ('Alexei', 'Zhitkov'), ('Zhitkov', 'Lev'), ('Lev', 'Sokolov'), ('Sokolov', 'Yuri'), ('Yuri', 'Korneyev'), ('chief', 'soloists'), ('ballet', 'Bayaderka'), ('West', 'know'), ('white', 'ballet'), ('lovelorn', 'hero'), ('hero', 'searches'), ('departed', 'spirit'), ('spirit', 'among'), ('among', 'extraordinarily'), ('extraordinarily', 'beautiful'), ('beautiful', 'shadows'), ('dance', 'like'), ('like', 'nothing'), ('nothing', 'human'), ('altogether', 'fitting'), ('ensemble', 'enters'), ('long', 'adagio'), ('adagio', 'passage'), ('fantastic', 'difficulty'), ('general', 'medium'), ('ballerina', 'Olga'), ('Olga', 'Moiseyeva'), ('Moiseyeva', 'performs'), ('performs', 'simple'), ('simple', 'miracles'), ('Ludmilla', 'Alexeyeva'), ('Alexeyeva', 'Inna'), ('Inna', 'Korneyeva'), ('Gabrielle', 'Komleva'), ('Komleva', 'make'), ('exquisite', 'accomplishments'), ('accomplishments', 'Sergei'), ('Sergei', 'Vikulov'), ('lone', 'male'), ('male', 'meets'), ('competition', 'well'), ('brilliant', 'hits'), ('middle', 'section'), ('short', 'numbers'), ('numbers', 'naturally'), ('naturally', 'enough'), ('unequal', 'merit'), ('pretty', 'good'), ('new', 'arrangement'), ('Nutcracker', 'excerpts'), ('excerpts', 'danced'), ('danced', 'stunningly'), ('Irina', 'Kolpakova'), ('large', 'ensemble'), ('winning', 'little'), ('little', 'Snow'), ('Snow', 'Maiden'), ('Maiden', 'variation'), ('adorable', 'Galina'), ('Galina', 'Kekisheva'), ('Kekisheva', 'two'), ('poetic', 'adagios'), ('Greek', 'veils'), ('superb', 'esthetic'), ('esthetic', 'acrobacy'), ('Alla', 'Osipenko'), ('Igor', 'Chernishev'), ('one', 'case'), ('Inna', 'Zubkovskaya'), ('Yuri', 'Kornevey'), ('amusing', 'character'), ('character', 'pas'), ('pas', 'de'), ('de', 'cinq'), ('cinq', 'called'), ('called', 'Gossiping'), ('Gossiping', 'Women'), ('stirring', 'Flames'), ('Paris', 'pas'), ('pas', 'de'), ('de', 'deux'), ('Alexandre', 'Pavlovsky'), ('lovely', 'version'), ('Le', 'Cygne'), ('Olga', 'Moiseyeva'), ('repeated', 'Vadim'), ('Vadim', 'Kalentiev'), ('year', 'ago'), ('ago', 'today'), ('Los', 'Angeles'), ('John', 'Kennedy'), ('ambitious', 'Senator'), ('Presidency', 'Theodore'), ('Theodore', 'White'), ('already', 'compiled'), ('compiled', 'masses'), ('Presidential', 'campaign'), ('quadrennial', 'American'), ('American', 'political'), ('political', 'festival'), ('festival', 'accelerated'), ('accelerated', 'White'), ('White', 'took'), ('traveled', 'alternately'), ('Richard', 'Nixon'), ('asked', 'intimate'), ('intimate', 'questions'), ('got', 'frank'), ('frank', 'answers'), ('assembled', 'quantities'), ('American', 'politics'), ('closest', 'Presidential'), ('Presidential', 'election'), ('American', 'history'), ('papers', 'may'), ('may', 'think'), ('good', 'deal'), ('made', 'humiliatingly'), ('humiliatingly', 'clear'), ('remarkable', 'book'), ('astonishingly', 'interesting'), ('interesting', 'one'), ('topical', 'journalism'), ('journalism', 'turns'), ('eyewitness', 'contribution'), ('history', 'White'), ('competent', 'novelist'), ('brilliant', 'reporter'), ('specific', 'detail'), ('emotional', 'atmosphere'), ('tireless', 'industry'), ('crisply', 'turned'), ('turned', 'prose'), ('dramatic', 'narrative'), ('continuously', 'engrossing'), ('American', 'politics'), ('highly', 'educational'), ('author', 'begins'), ('entourage', 'waiting'), ('switches', 'back'), ('seven', 'principal'), ('principal', 'Presidential'), ('Presidential', 'hopefuls'), ('hopefuls', 'five'), ('five', 'Democrats'), ('Democrats', 'Senator'), ('Senator', 'Hubert'), ('Hubert', 'Humphrey'), ('Humphrey', 'Senator'), ('Senator', 'Stuart'), ('Stuart', 'Symington'), ('Symington', 'Senator'), ('Senator', 'Lyndon'), ('Lyndon', 'Johnson'), ('Johnson', 'Adlai'), ('Adlai', 'Stevenson'), ('two', 'Republicans'), ('Republicans', 'Governor'), ('Governor', 'Rockefeller'), ('chronological', 'order'), ('order', 'White'), ('White', 'covers'), ('primary', 'campaigns'), ('Presidential', 'campaign'), ('many', 'related'), ('related', 'matters'), ('race', 'religion'), ('religion', 'local'), ('local', 'tradition'), ('tradition', 'bosses'), ('bosses', 'organizations'), ('organizations', 'zealous'), ('zealous', 'volunteers'), ('television', 'White'), ('bluntly', 'frank'), ('personal', 'opinions'), ('frequently', 'cites'), ('cites', 'intimate'), ('intimate', 'details'), ('come', 'straight'), ('numerous', 'insiders'), ('distrust', 'Rarely'), ('American', 'history'), ('political', 'campaign'), ('discussed', 'issues'), ('issues', 'less'), ('less', 'says'), ('says', 'White'), ('White', 'Nixon'), ('particular', 'political'), ('political', 'philosophy'), ('campaign', 'Although'), ('skillful', 'politician'), ('honest', 'man'), ('man', 'Nixon'), ('Nixon', 'White'), ('White', 'believes'), ('believes', 'ignored'), ('planners', 'wasted'), ('wasted', 'time'), ('wrong', 'regions'), ('regions', 'missed'), ('missed', 'opportunities'), ('television', 'Nixon'), ('broody', 'moody'), ('moody', 'man'), ('man', 'given'), ('long', 'stretches'), ('major', 'talent'), ('solitary', 'uncertain'), ('uncertain', 'impulses'), ('friend', 'seeker'), ('seeker', 'almost'), ('almost', 'pathetic'), ('least', 'inspiring'), ('inspiring', 'candidate'), ('candidate', 'since'), ('since', 'Alfred'), ('Alfred', 'Landon'), ('Landon', 'Kennedy'), ('Kennedy', 'White'), ('White', 'believes'), ('mastered', 'politics'), ('many', 'different'), ('different', 'levels'), ('American', 'could'), ('could', 'match'), ('Calm', 'dignified'), ('dignified', 'composed'), ('composed', 'superbly'), ('superbly', 'eloquent'), ('eloquent', 'Kennedy'), ('Kennedy', 'always'), ('always', 'knew'), ('knew', 'everything'), ('loyal', 'experts'), ('many', 'zealous'), ('zealous', 'volunteers'), ('volunteers', 'Every'), ('Every', 'decision'), ('made', 'quickly'), ('sound', 'grounds'), ('grounds', 'Efficiency'), ('chance', 'Kennedy'), ('personal', 'friendship'), ('reporters', 'White'), ('White', 'admires'), ('expects', 'Kennedy'), ('fine', 'President'), ('President', 'Pressures'), ('Pressures', 'portrayed'), ('portrayed', 'Throughout'), ('President', 'White'), ('White', 'shows'), ('shows', 'wonderfully'), ('wonderfully', 'well'), ('pressures', 'pile'), ('nervous', 'strain'), ('strain', 'wear'), ('wear', 'candidates'), ('subordinates', 'play'), ('play', 'key'), ('key', 'roles'), ('makes', 'many'), ('many', 'interesting'), ('interesting', 'comments'), ('root', 'question'), ('American', 'politics'), ('understand', 'American'), ('American', 'politics'), ('know', 'people'), ('relative', 'weight'), ('straw', 'men'), ('American', 'politics'), ('politics', 'one'), ('one', 'must'), ('must', 'go'), ('one', 'must'), ('must', 'build'), ('names', 'establish'), ('personal', 'connection'), ('hard', 'life'), ('well', 'known'), ('program', 'advanced'), ('either', 'major'), ('major', 'American'), ('American', 'party'), ('purpose', 'beyond'), ('beyond', 'expressing'), ('expressing', 'emotion'), ('either', 'party'), ('party', 'chooses'), ('Nostalgia', 'week'), ('Lewisohn', 'Stadium'), ('Mischa', 'Elman'), ('Tuesday', 'night'), ('night', 'continued'), ('continued', 'last'), ('last', 'night'), ('Lily', 'Pons'), ('Pons', 'led'), ('French', 'operatic'), ('operatic', 'excerpts'), ('excerpts', 'Miss'), ('Miss', 'Pons'), ('singer', 'ever'), ('paying', 'tribute'), ('great', 'figure'), ('times', 'gone'), ('present', 'accomplishments'), ('better', 'part'), ('gallantry', 'might'), ('perennial', 'good'), ('good', 'looks'), ('gorgeous', 'gown'), ('orchestra', 'however'), ('however', 'could'), ('many', 'adventures'), ('Miss', 'Pons'), ('Pons', 'encountered'), ('encountered', 'last'), ('last', 'night'), ('great', 'stylist'), ('yesteryear', 'flashes'), ('flashes', 'even'), ('old', 'consummate'), ('consummate', 'vocalism'), ('vocalism', 'One'), ('moment', 'came'), ('breathtaking', 'way'), ('way', 'Miss'), ('Miss', 'Pons'), ('Pons', 'sang'), ('Shadow', 'Song'), ('years', 'suddenly'), ('suddenly', 'fell'), ('fell', 'away'), ('whole', 'however'), ('however', 'one'), ('one', 'must'), ('must', 'wonder'), ('beloved', 'artist'), ('time', 'marches'), ('marches', 'inexorably'), ('young', 'tenor'), ('tenor', 'Richard'), ('Richard', 'Verreau'), ('Verreau', 'making'), ('stadium', 'debut'), ('occasion', 'Verreau'), ('Verreau', 'began'), ('began', 'shakily'), ('tended', 'toward'), ('unpleasant', 'whiteness'), ('pushed', 'beyond'), ('beyond', 'middle'), ('middle', 'volume'), ('volume', 'Later'), ('problem', 'vanished'), ('Flower', 'Song'), ('intelligently', 'projected'), ('projected', 'Radio'), ('easily', 'outdistancing'), ('outdistancing', 'television'), ('minority', 'listener'), ('listener', 'Lower'), ('Lower', 'costs'), ('larger', 'number'), ('key', 'factors'), ('factors', 'making'), ('specialization', 'possible'), ('FM', 'outlets'), ('outlets', 'offering'), ('offering', 'concerts'), ('classical', 'lectures'), ('special', 'events'), ('fair', 'amount'), ('well', 'known'), ('broadcasting', 'operations'), ('operations', 'aimed'), ('aimed', 'wholly'), ('Negro', 'listeners'), ('United', 'States'), ('States', 'comprises'), ('nonwhite', 'listener'), ('television', 'watching'), ('even', 'buys'), ('sees', 'advertised'), ('advertised', 'despite'), ('copy', 'makes'), ('special', 'bid'), ('sponsors', 'rarely'), ('rarely', 'use'), ('white', 'models'), ('growing', 'number'), ('radio', 'stations'), ('stations', 'plus'), ('plus', 'evidence'), ('strong', 'listener'), ('listener', 'support'), ('advertisers', 'give'), ('give', 'time'), ('time', 'salesmen'), ('impressive', 'argument'), ('approach', 'new'), ('new', 'prospects'), ('significant', 'amount'), ('least', 'stations'), ('stations', 'devote'), ('special', 'supplement'), ('Sponsor', 'magazine'), ('trade', 'publication'), ('TV', 'advertisers'), ('years', 'Sponsor'), ('annual', 'survey'), ('Negro', 'market'), ('successful', 'techniques'), ('past', 'years'), ('years', 'Sponsor'), ('Sponsor', 'observes'), ('become', 'apparent'), ('apparent', 'Negro'), ('Negro', 'population'), ('increased', 'per'), ('per', 'cent'), ('white', 'population'), ('per', 'cent'), ('forgotten', 'million'), ('Sponsor', 'tagged'), ('Negro', 'market'), ('first', 'survey'), ('million', 'Advertisers'), ('Stations', 'programing'), ('Negro', 'listeners'), ('keep', 'pace'), ('rising', 'educational'), ('educational', 'economic'), ('cultural', 'levels'), ('levels', 'Futhermore'), ('wants', 'real'), ('real', 'prestige'), ('prestige', 'must'), ('must', 'lead'), ('community', 'improvement'), ('improvement', 'projects'), ('simply', 'serve'), ('last', 'decade'), ('radio', 'program'), ('program', 'hours'), ('least', 'per'), ('per', 'cent'), ('increased', 'per'), ('per', 'cent'), ('cent', 'according'), ('research', 'man'), ('man', 'quoted'), ('year', 'ago'), ('Negro', 'Radio'), ('Radio', 'Association'), ('spur', 'research'), ('member', 'stations'), ('census', 'underscored'), ('explosive', 'character'), ('population', 'growth'), ('also', 'brought'), ('brought', 'home'), ('home', 'proof'), ('casual', 'observer'), ('observer', 'might'), ('Negroes', 'live'), ('live', 'outside'), ('southeastern', 'states'), ('states', 'Also'), ('largest', 'number'), ('New', 'York'), ('New', 'York'), ('York', 'City'), ('City', 'WLIB'), ('WLIB', 'boasts'), ('community', 'service'), ('service', 'programs'), ('Negro', 'station'), ('largest', 'Negro'), ('Negro', 'news'), ('news', 'staffs'), ('colorful', 'mobile'), ('mobile', 'unit'), ('unit', 'cruising'), ('cruising', 'predominately'), ('predominately', 'Negro'), ('Negro', 'neighborhoods'), ('frequent', 'reminder'), ('nonwhite', 'interests'), ('interests', 'Recently'), ('Recently', 'WWRL'), ('particular', 'cases'), ('employment', 'agency'), ('agency', 'deceit'), ('New', 'York'), ('York', 'area'), ('area', 'also'), ('also', 'bid'), ('Negro', 'population'), ('per', 'cent'), ('past', 'decade'), ('big', 'cities'), ('cities', 'outside'), ('small', 'towns'), ('towns', 'within'), ('South', 'radio'), ('radio', 'stations'), ('found', 'beaming'), ('Negro', 'listeners'), ('Keystone', 'Broadcasting'), ('Broadcasting', 'Negro'), ('Negro', 'network'), ('network', 'includes'), ('includes', 'affiliated'), ('affiliated', 'stations'), ('stations', 'whose'), ('whose', 'signals'), ('signals', 'reach'), ('total', 'Negro'), ('Negro', 'population'), ('population', 'One'), ('One', 'question'), ('inevitably', 'crops'), ('fully', 'integrated'), ('integrated', 'status'), ('status', 'Whatever'), ('radio', 'stations'), ('days', 'know'), ('loyal', 'Advertisers'), ('brand', 'names'), ('stations', 'catering'), ('special', 'interests'), ('many', 'advertisers'), ('Negro', 'disc'), ('disc', 'jockey'), ('jockey', 'phrase'), ('words', 'working'), ('fact', 'sheet'), ('sets', 'programing'), ('programing', 'apart'), ('radio', 'shows'), ('shows', 'Sponsor'), ('Sponsor', 'magazine'), ('magazine', 'notes'), ('popular', 'Negro'), ('Negro', 'bands'), ('singers', 'mood'), ('mood', 'music'), ('music', 'race'), ('race', 'music'), ('music', 'folk'), ('folk', 'songs'), ('gospel', 'programs'), ('programs', 'Furthermore'), ('Furthermore', 'news'), ('special', 'presentations'), ('presentations', 'inform'), ('groups', 'projects'), ('personalities', 'rarely'), ('rarely', 'mentioned'), ('station', 'Advertising'), ('Advertising', 'copy'), ('copy', 'frequently'), ('frequently', 'takes'), ('account', 'matters'), ('special', 'Negro'), ('Negro', 'concern'), ('concern', 'Sponsor'), ('Sponsor', 'quotes'), ('quotes', 'John'), ('John', 'McLendon'), ('station', 'group'), ('Southern', 'Negro'), ('becoming', 'conscious'), ('way', 'degrading'), ('shy', 'away'), ('hollering', 'personalities'), ('originally', 'made'), ('made', 'Negro'), ('Negro', 'radio'), ('radio', 'programs'), ('programs', 'famous'), ('sociological', 'impact'), ('eloquently', 'summed'), ('Walter', 'Carroll'), ('KSAN', 'San'), ('San', 'Francisco'), ('Francisco', 'radio'), ('Negro', 'today'), ('powerful', 'mirror'), ('ambitions', 'achievements'), ('Negro', 'seeking'), ('become', 'urbanized'), ('make', 'adjustment'), ('urban', 'life'), ('life', 'Negro'), ('Negro', 'radio'), ('vitally', 'necessary'), ('assimilation', 'Presentation'), ('John', 'Sloan'), ('Delaware', 'Art'), ('Art', 'Center'), ('current', 'nostalgia'), ('human', 'values'), ('art', 'Staged'), ('intimate', 'Sloan'), ('Sloan', 'collection'), ('widow', 'Helen'), ('Helen', 'Farr'), ('Farr', 'Sloan'), ('Wilmington', 'Society'), ('Fine', 'Arts'), ('exhibition', 'presents'), ('early', 'family'), ('family', 'portraits'), ('portraits', 'painted'), ('Pennsylvania', 'Academy'), ('Fine', 'Arts'), ('chronology', 'extends'), ('paintings', 'executed'), ('last', 'year'), ('still', 'part'), ('life', 'work'), ('scenes', 'around'), ('little', 'bitterness'), ('paintings', 'drawings'), ('drawings', 'prints'), ('manners', 'costumes'), ('first', 'half'), ('present', 'century'), ('century', 'Obviously'), ('Obviously', 'early'), ('early', 'years'), ('close', 'friend'), ('friend', 'Robert'), ('Robert', 'Henri'), ('Sloan', 'style'), ('style', 'began'), ('dark', 'pigments'), ('early', 'work'), ('brighter', 'palette'), ('brush', 'stroke'), ('stroke', 'yielded'), ('hatching', 'technique'), ('finally', 'led'), ('virtual', 'abandonment'), ('American', 'genres'), ('single', 'figure'), ('figure', 'studies'), ('studio', 'nudes'), ('exhibition', 'presents'), ('drawings', 'prints'), ('illustrations', 'Sloan'), ('Sloan', 'created'), ('newspaper', 'supplements'), ('syndication', 'threw'), ('New', 'York'), ('York', 'thereby'), ('thereby', 'building'), ('incomparable', 'city'), ('city', 'survey'), ('breezy', 'clotheslines'), ('city', 'roofs'), ('roofs', 'One'), ('rooftop', 'canvases'), ('child', 'bracing'), ('flapping', 'clothes'), ('flying', 'birds'), ('birds', 'Although'), ('show', 'one'), ('Gloucester', 'Harbor'), ('human', 'element'), ('compelling', 'factor'), ('art', 'Significant'), ('Bleeker', 'Street'), ('Street', 'Saturday'), ('Saturday', 'Night'), ('typically', 'American'), ('American', 'crowd'), ('crowd', 'Sloan'), ('Sloan', 'never'), ('never', 'went'), ('went', 'abroad'), ('multifigure', 'Traveling'), ('Traveling', 'Carnival'), ('Carmine', 'Theater'), ('foraging', 'dog'), ('dog', 'although'), ('although', 'Sloan'), ('famous', 'Eight'), ('paintings', 'however'), ('exhibition', 'touches'), ('touches', 'briefly'), ('Southwest', 'Koshare'), ('vigorous', 'Indian'), ('Indian', 'dance'), ('landscapes', 'suggest'), ('western', 'color'), ('extrovert', 'concerned'), ('concerned', 'primarily'), ('saw', 'adds'), ('adds', 'greatly'), ('human', 'chronicle'), ('Wilmington', 'show'), ('show', 'including'), ('including', 'one'), ('one', 'painting'), ('students', 'Supplementing'), ('actual', 'art'), ('memorabilia', 'correspondence'), ('correspondence', 'diaries'), ('diaries', 'books'), ('revelatory', 'items'), ('items', 'ever'), ('ever', 'since'), ('first', 'studied'), ('Art', 'Students'), ('Students', 'League'), ('League', 'New'), ('New', 'York'), ('enable', 'students'), ('spot', 'Sloan'), ('Sloan', 'forgeries'), ('Delaware', 'Art'), ('Art', 'Center'), ('Center', 'according'), ('director', 'Bruce'), ('Bruce', 'John'), ('complete', 'file'), ('Sloan', 'works'), ('card', 'index'), ('index', 'file'), ('entire', 'Sloan'), ('Sloan', 'collection'), ('made', 'available'), ('serious', 'art'), ('art', 'students'), ('current', 'exhibition'), ('tapped', 'major'), ('major', 'collections'), ('many', 'private'), ('private', 'sources'), ('musician', 'playing'), ('playing', 'Beethoven'), ('special', 'care'), ('offering', 'Bonn'), ('famous', 'son'), ('youth', 'never'), ('mature', 'style'), ('style', 'Robert'), ('Robert', 'Riefling'), ('piano', 'recital'), ('recently', 'concluded'), ('concluded', 'Beethoven'), ('Beethoven', 'Festival'), ('Festival', 'penetrated'), ('penetrated', 'deep'), ('careful', 'without'), ('authoritative', 'without'), ('C', 'Minor'), ('Minor', 'Variations'), ('opened', 'moved'), ('moved', 'fluently'), ('fluently', 'yet'), ('yet', 'logically'), ('another', 'leaving'), ('right', 'impression'), ('Minor', 'Sonata'), ('Sonata', 'introduced'), ('dynamically', 'shaped'), ('shaped', 'arpeggios'), ('single', 'lines'), ('fingers', 'seemed'), ('way', 'toward'), ('inwardly', 'dramatic'), ('dramatic', 'moments'), ('moments', 'showed'), ('opera', 'style'), ('genuinely', 'capable'), ('staging', 'Two'), ('Two', 'late'), ('late', 'Sonatas'), ('similar', 'insight'), ('disarming', 'simplicities'), ('Adagio', 'made'), ('made', 'plain'), ('plain', 'without'), ('without', 'ever'), ('ever', 'becoming'), ('becoming', 'obvious'), ('Six', 'Bagatelles'), ('Herr', 'Riefling'), ('large', 'Beethoven'), ('Beethoven', 'Hall'), ('Hall', 'audience'), ('audience', 'proved'), ('unobtrusive', 'authority'), ('authority', 'Volker'), ('Volker', 'Wangenheim'), ('conducted', 'Stadtisches'), ('Stadtisches', 'Orchester'), ('following', 'evening'), ('evening', 'made'), ('made', 'one'), ('interpretation', 'Herr'), ('Herr', 'Wangenheim'), ('recently', 'become'), ('music', 'director'), ('young', 'man'), ('clear', 'flair'), ('Eighth', 'Symphony'), ('shuddering', 'subjectivity'), ('seemed', 'considerably'), ('relatively', 'sunny'), ('sunny', 'symphony'), ('Choral', 'Fantasy'), ('program', 'could'), ('could', 'amount'), ('something', 'like'), ('could', 'make'), ('stopping', 'caused'), ('caused', 'occasional'), ('occasional', 'raggedness'), ('first', 'orchestra'), ('orchestra', 'entrance'), ('Fourth', 'Piano'), ('Piano', 'Concerto'), ('obsequies', 'aside'), ('music', 'move'), ('soloist', 'Hans'), ('Hans', 'played'), ('compensatory', 'ease'), ('economy', 'though'), ('though', 'without'), ('consummate', 'plasticity'), ('previous', 'evening'), ('Herr', 'Riefling'), ('Beethoven', 'solid'), ('sensible', 'Everybody'), ('Everybody', 'returned'), ('miscellaneous', 'sweepings'), ('Piano', 'Chorus'), ('C', 'Minor'), ('Minor', 'made'), ('Stadtisches', 'Gesangverein'), ('Gesangverein', 'civic'), ('civic', 'chorus'), ('waiting', 'however'), ('young', 'Rhenish'), ('Rhenish', 'voices'), ('voices', 'finally'), ('finally', 'brought'), ('last', 'program'), ('two', 'weeks'), ('compositional', 'categories'), ('categories', 'brought'), ('Missa', 'Solemnis'), ('ancient', 'India'), ('India', 'believed'), ('huge', 'tea'), ('tea', 'tray'), ('tray', 'resting'), ('three', 'giant'), ('giant', 'elephants'), ('turn', 'stood'), ('great', 'tortoise'), ('theory', 'eventually'), ('eventually', 'proved'), ('proved', 'inexact'), ('primitive', 'method'), ('known', 'bears'), ('symbolic', 'resemblance'), ('modern', 'science'), ('great', 'cosmic'), ('cosmic', 'mysteries'), ('using', 'keys'), ('clicked', 'open'), ('working', 'principles'), ('physics', 'mathematics'), ('astronomy', 'principles'), ('explain', 'phenomena'), ('direct', 'knowledge'), ('British', 'Broadcasting'), ('Broadcasting', 'Corporation'), ('Corporation', 'presented'), ('four', 'scientists'), ('scientists', 'competent'), ('cosmology', 'Three'), ('men', 'discussed'), ('discussed', 'major'), ('major', 'theories'), ('Professor', 'Bondi'), ('Bondi', 'professor'), ('College', 'London'), ('London', 'Bonnor'), ('Bonnor', 'reader'), ('Queen', 'Elizabeth'), ('Elizabeth', 'College'), ('College', 'London'), ('London', 'Lyttleton'), ('College', 'Cambridge'), ('theoretical', 'astronomy'), ('Whitrow', 'reader'), ('applied', 'mathematics'), ('Imperial', 'College'), ('Technology', 'London'), ('London', 'Whitrow'), ('Whitrow', 'functioned'), ('well', 'received'), ('British', 'public'), ('totally', 'engrossing'), ('engrossing', 'little'), ('little', 'book'), ('book', 'called'), ('called', 'Rival'), ('Rival', 'Theories'), ('Cosmology', 'Bonnor'), ('Bonnor', 'begins'), ('relativistic', 'theories'), ('universe', 'based'), ('general', 'theory'), ('relativity', 'First'), ('immense', 'speeds'), ('Bonnor', 'holds'), ('thinly', 'populated'), ('whatever', 'else'), ('estimated', 'eight'), ('eight', 'billion'), ('billion', 'years'), ('years', 'Expands'), ('contracts', 'Bonnor'), ('Bonnor', 'supports'), ('several', 'billion'), ('billion', 'years'), ('whistling', 'toward'), ('common', 'center'), ('Professor', 'Bondi'), ('Bondi', 'disagrees'), ('universe', 'always'), ('always', 'remains'), ('even', 'though'), ('zooming', 'away'), ('directions', 'New'), ('New', 'galaxies'), ('gaps', 'left'), ('receding', 'galaxies'), ('universe', 'today'), ('today', 'looks'), ('years', 'ago'), ('look', 'millions'), ('years', 'hence'), ('hence', 'even'), ('even', 'though'), ('new', 'galaxies'), ('created', 'Professor'), ('Professor', 'Bondi'), ('Bondi', 'declares'), ('single', 'hydrogen'), ('hydrogen', 'atom'), ('living', 'room'), ('million', 'years'), ('idea', 'conflict'), ('slight', 'error'), ('error', 'must'), ('experiments', 'Lyttleton'), ('Lyttleton', 'backs'), ('electric', 'universe'), ('theory', 'starts'), ('electrons', 'Protons'), ('electrons', 'bear'), ('bear', 'opposite'), ('opposite', 'electrical'), ('electrical', 'charges'), ('basic', 'building'), ('building', 'block'), ('exactly', 'equal'), ('sure', 'Suppose'), ('Suppose', 'says'), ('says', 'Lyttleton'), ('slightly', 'greater'), ('greater', 'charge'), ('presently', 'immeasurable'), ('would', 'give'), ('hydrogen', 'atom'), ('one', 'hydrogen'), ('hydrogen', 'atom'), ('large', 'sphere'), ('hydrogen', 'atoms'), ('electrical', 'forces'), ('surface', 'hydrogen'), ('hydrogen', 'atoms'), ('atoms', 'would'), ('would', 'shoot'), ('shoot', 'away'), ('sphere', 'Lyttleton'), ('large', 'hydrogen'), ('hydrogen', 'sphere'), ('surface', 'atoms'), ('atoms', 'shooting'), ('shooting', 'away'), ('claims', 'would'), ('would', 'reasonably'), ('reasonably', 'account'), ('universe', 'Fleeting'), ('Fleeting', 'glimpse'), ('slim', 'book'), ('fleeting', 'glimpse'), ('scientific', 'mind'), ('mind', 'confronting'), ('informed', 'conversation'), ('conversation', 'always'), ('Several', 'photographs'), ('galaxies', 'help'), ('smooth', 'language'), ('language', 'indicates'), ('almost', 'every'), ('every', 'field'), ('every', 'persuasion'), ('persuasion', 'look'), ('look', 'hopefully'), ('hopefully', 'toward'), ('optical', 'devices'), ('new', 'vistas'), ('science', 'Presently'), ('intense', 'absorption'), ('atmosphere', 'seriously'), ('seriously', 'hinders'), ('hinders', 'ground'), ('ground', 'observation'), ('telescope', 'unclouded'), ('long', 'way'), ('way', 'toward'), ('toward', 'bolstering'), ('destroying', 'cosmic'), ('cosmic', 'theories'), ('would', 'seem'), ('small', 'solace'), ('missile', 'race'), ('time', 'accelerating'), ('space', 'around'), ('around', 'us'), ('us', 'giving'), ('giving', 'us'), ('alien', 'regions'), ('tea', 'tray'), ('giant', 'tortoise'), ('tortoise', 'science'), ('rationally', 'defensible'), ('defensible', 'explanations'), ('universe', 'may'), ('may', 'forever'), ('forever', 'defy'), ('defy', 'understanding'), ('might', 'even'), ('man', 'Roots'), ('new', 'play'), ('Mayfair', 'Theater'), ('night', 'club'), ('spiritual', 'awakening'), ('English', 'farm'), ('farm', 'girl'), ('girl', 'Highly'), ('Highly', 'successful'), ('New', 'York'), ('relentlessly', 'dour'), ('small', 'new'), ('new', 'theater'), ('final', 'scene'), ('Beatie', 'Bryant'), ('Bryant', 'Mary'), ('Mary', 'Doyle'), ('Doyle', 'shakes'), ('intellectual', 'lover'), ('get', 'much'), ('makes', 'worthwhile'), ('boorish', 'rustic'), ('rustic', 'happenings'), ('first', 'two'), ('people', 'living'), ('living', 'close'), ('happy', 'fine'), ('fine', 'strong'), ('strong', 'natural'), ('natural', 'earthy'), ('earthy', 'people'), ('people', 'intellectuals'), ('intellectuals', 'imagine'), ('imagine', 'Rather'), ('genuine', 'clods'), ('clods', 'proud'), ('openly', 'antagonistic'), ('illuminating', 'influences'), ('politics', 'says'), ('says', 'Wesker'), ('symphony', 'Seeming'), ('doltish', 'twilight'), ('commonly', 'reported'), ('much', 'time'), ('Wesker', 'dedicates'), ('much', 'untidiness'), ('theatergoer', 'unless'), ('gilded', 'palace'), ('palace', 'perhaps'), ('real', 'big'), ('big', 'heap'), ('messy', 'meals'), ('clothes', 'may'), ('good', 'points'), ('points', 'Miss'), ('Miss', 'Doyle'), ('great', 'fund'), ('animal', 'spirits'), ('strong', 'voice'), ('warm', 'smile'), ('young', 'fellow'), ('fellow', 'named'), ('named', 'Ronnie'), ('first', 'course'), ('appreciating', 'including'), ('good', 'British'), ('British', 'socialism'), ('retarded', 'family'), ('new', 'world'), ('seen', 'open'), ('family', 'party'), ('new', 'bull'), ('sends', 'Beatie'), ('dismissal', 'Beatie'), ('Beatie', 'getting'), ('misfortune', 'soon'), ('soon', 'rallies'), ('freedom', 'Despite'), ('long', 'sustained'), ('sustained', 'declamatory'), ('declamatory', 'flight'), ('final', 'speech'), ('British', 'audiences'), ('audiences', 'apparently'), ('several', 'fairly'), ('fairly', 'good'), ('good', 'minor'), ('minor', 'portraits'), ('play', 'including'), ('including', 'William'), ('William', 'impersonation'), ('stubborn', 'rather'), ('rather', 'pathetic'), ('pathetic', 'father'), ('Katherine', 'vigorous'), ('vigorous', 'characterization'), ('farm', 'mother'), ('anyone', 'else'), ('afraid', 'meat'), ('potatoes', 'dish'), ('dish', 'well'), ('well', 'seasoned'), ('seasoned', 'enough'), ('local', 'audiences'), ('audiences', 'Shakespeare'), ('everything', 'even'), ('disrupted', 'Wednesday'), ('Wednesday', 'Much'), ('Much', 'Ado'), ('Nothing', 'opening'), ('free', 'theatre'), ('Central', 'Park'), ('New', 'York'), ('York', 'Shakespeare'), ('Shakespeare', 'Festival'), ('Wollman', 'Memorial'), ('Memorial', 'Skating'), ('Skating', 'Rink'), ('theatre', 'near'), ('completed', 'began'), ('began', 'bravely'), ('bravely', 'Joseph'), ('Joseph', 'Papp'), ('Papp', 'impassioned'), ('impassioned', 'founder'), ('Much', 'Ado'), ('vibrant', 'colorful'), ('colorful', 'production'), ('way', 'Using'), ('wide', 'stage'), ('stage', 'resourcefully'), ('mingled', 'music'), ('spirited', 'mixture'), ('audience', 'filled'), ('seats', 'inside'), ('Wollman', 'enclosure'), ('overflowed', 'onto'), ('lawns', 'outside'), ('barbed', 'sallies'), ('public', 'inured'), ('insult', 'raised'), ('raised', 'chuckles'), ('Verges', 'also'), ('also', 'familiar'), ('responds', 'easily'), ('jokes', 'skimmed'), ('heads', 'evoked'), ('evoked', 'laughter'), ('Spanish', 'motif'), ('visiting', 'Prince'), ('Arragon', 'cast'), ('Much', 'Ado'), ('Ado', 'turned'), ('turned', 'serious'), ('insipid', 'Claudio'), ('Claudio', 'rejected'), ('rejected', 'Hero'), ('sprinkle', 'began'), ('first', 'hardly'), ('audience', 'moved'), ('moved', 'although'), ('rain', 'came'), ('light', 'summer'), ('summer', 'clothes'), ('clothes', 'began'), ('grieving', 'Hero'), ('father', 'Leonato'), ('Leonato', 'followed'), ('Friar', 'left'), ('loudspeaker', 'system'), ('system', 'announced'), ('rain', 'let'), ('performance', 'would'), ('would', 'resume'), ('ten', 'minutes'), ('audience', 'departed'), ('Wollman', 'enclosure'), ('enclosure', 'fortified'), ('heads', 'Others'), ('Others', 'huddled'), ('trees', 'outside'), ('fence', 'Twenty'), ('Twenty', 'minutes'), ('interruption', 'although'), ('still', 'raining'), ('fourth', 'act'), ('stopped', 'Beatrice'), ('Beatrice', 'Nan'), ('Nan', 'Martin'), ('Benedick', 'Cannon'), ('Cannon', 'took'), ('first', 'speeches'), ('Shakespeare', 'like'), ('moment', 'Said'), ('Said', 'Benedick'), ('Benedick', 'Lady'), ('Lady', 'Beatrice'), ('Replied', 'Beatrice'), ('Beatrice', 'Yea'), ('heavens', 'refused'), ('gallant', 'company'), ('company', 'completed'), ('completed', 'Act'), ('final', 'scenes'), ('scenes', 'could'), ('hardy', 'hundreds'), ('take', 'comfort'), ('comfort', 'Much'), ('Much', 'Ado'), ('Ado', 'ends'), ('ends', 'happily'), ('Parks', 'Department'), ('admirable', 'job'), ('Wollman', 'Rink'), ('Shakespeare', 'One'), ('One', 'could'), ('could', 'hardly'), ('hardly', 'blame'), ('blame', 'Newbold'), ('Newbold', 'Morris'), ('Parks', 'Commissioner'), ('much', 'grateful'), ('grateful', 'mention'), ('short', 'notice'), ('notice', 'provided'), ('rising', 'platforms'), ('generous', 'wings'), ('impressive', 'trapdoors'), ('villains', 'Eldon'), ('Eldon', 'Elder'), ('stage', 'also'), ('also', 'created'), ('gay', 'spacious'), ('spacious', 'set'), ('blended', 'attractively'), ('park', 'background'), ('lighthearted', 'mood'), ('mood', 'Papp'), ('pace', 'although'), ('tolerated', 'obvious'), ('obvious', 'business'), ('garner', 'easy'), ('easy', 'laughs'), ('style', 'would'), ('preferable', 'Elisabeth'), ('Elisabeth', 'Schwarzkopf'), ('Schwarzkopf', 'sang'), ('magnificently', 'Saturday'), ('Saturday', 'night'), ('Hunter', 'College'), ('complaints', 'Still'), ('two', 'must'), ('entered', 'Schwarzkopf'), ('course', 'Schwarzkopf'), ('regal', 'bearing'), ('shade', 'less'), ('less', 'glorious'), ('beautiful', 'instrument'), ('instrument', 'controlled'), ('flexible', 'Put'), ('Schubert', 'Brahms'), ('Brahms', 'Strauss'), ('musical', 'way'), ('happening', 'recently'), ('recently', 'might'), ('creeping', 'mannerism'), ('mannerism', 'Instead'), ('old', 'confidence'), ('simplest', 'purest'), ('moving', 'musical'), ('musical', 'expression'), ('expression', 'Miss'), ('Miss', 'Schwarzkopf'), ('classic', 'sin'), ('artistic', 'pride'), ('subtle', 'vanity'), ('sometimes', 'misleads'), ('great', 'artist'), ('somehow', 'better'), ('something', 'extra'), ('personal', 'dramatic'), ('dramatic', 'touch'), ('touch', 'imposed'), ('symptoms', 'Saturday'), ('Saturday', 'night'), ('unmistakable', 'Clever'), ('Clever', 'light'), ('light', 'songs'), ('overly', 'coy'), ('coy', 'tragic'), ('tragic', 'songs'), ('extra', 'pause'), ('extra', 'little'), ('little', 'twist'), ('beautiful', 'painting'), ('highlights', 'touched'), ('stunning', 'musical'), ('musical', 'phrases'), ('deepest', 'kind'), ('poetic', 'absorption'), ('communication', 'Miss'), ('Miss', 'Schwarzkopf'), ('excellent', 'pianist'), ('pianist', 'John'), ('John', 'Wustman'), ('Wustman', 'often'), ('often', 'achieved'), ('highest', 'lyrical'), ('lyrical', 'ideals'), ('lieder', 'tradition'), ('frills', 'Miss'), ('Miss', 'Schwarzkopf'), ('dance', 'dancers'), ('dance', 'enthusiasts'), ('much', 'better'), ('better', 'time'), ('Lewisohn', 'Stadium'), ('Saturday', 'night'), ('two', 'nights'), ('nights', 'earlier'), ('Stadium', 'Concerts'), ('Concerts', 'presented'), ('two', 'dance'), ('dance', 'programs'), ('sensibly', 'situated'), ('stage', 'floor'), ('decent', 'condition'), ('program', 'improved'), ('patrons', 'Alvin'), ('Alvin', 'Ailey'), ('Carmen', 'De'), ('De', 'Lavallade'), ('Lavallade', 'appeared'), ('first', 'New'), ('New', 'York'), ('York', 'performance'), ('work', 'given'), ('premiere', 'three'), ('three', 'weeks'), ('weeks', 'ago'), ('Boston', 'Arts'), ('Arts', 'Festival'), ('Festival', 'Otherwise'), ('program', 'included'), ('pas', 'de'), ('de', 'deux'), ('Nutcracker', 'Maria'), ('Maria', 'Tallchief'), ('Erik', 'Bruhn'), ('Nutcracker', 'pas'), ('pas', 'de'), ('de', 'deux'), ('also', 'seen'), ('pas', 'de'), ('de', 'deux'), ('Quixote', 'another'), ('another', 'brilliant'), ('brilliant', 'showpiece'), ('technical', 'prowess'), ('prowess', 'handsomely'), ('handsomely', 'Among'), ('solo', 'ballet'), ('ballet', 'dancers'), ('evening', 'Elisabeth'), ('Elisabeth', 'Carroll'), ('Ivan', 'Allen'), ('particularly', 'impressive'), ('much', 'upon'), ('two', 'principal'), ('principal', 'combatants'), ('combatants', 'Roots'), ('human', 'modern'), ('modern', 'dance'), ('dance', 'work'), ('work', 'provided'), ('provided', 'strong'), ('strong', 'contrast'), ('ballet', 'selections'), ('Brother', 'John'), ('John', 'Sellers'), ('Sellers', 'sang'), ('sang', 'five'), ('five', 'blues'), ('drum', 'accompaniments'), ('Bruce', 'Langhorne'), ('Shep', 'Shepard'), ('Shepard', 'Ailey'), ('Miss', 'De'), ('De', 'Lavallade'), ('Lavallade', 'went'), ('volatile', 'dances'), ('turns', 'insinuating'), ('insinuating', 'threatening'), ('threatening', 'contemptuous'), ('two', 'stepladders'), ('palm', 'fan'), ('wondrously', 'seductive'), ('orange', 'dress'), ('leaps', 'lifts'), ('lifts', 'crawls'), ('almost', 'invariably'), ('invariably', 'compelling'), ('strong', 'sometimes'), ('sometimes', 'almost'), ('almost', 'frightening'), ('frightening', 'tensions'), ('tensions', 'Roots'), ('Blues', 'may'), ('gentle', 'souls'), ('impact', 'Perhaps'), ('armchair', 'traveler'), ('traveler', 'preserves'), ('somewhat', 'cynical'), ('cynical', 'comment'), ('comment', 'may'), ('Blue', 'Skies'), ('Skies', 'Brown'), ('Brown', 'Studies'), ('travel', 'essays'), ('William', 'Sansom'), ('would', 'never'), ('never', 'consider'), ('consider', 'staying'), ('staying', 'home'), ('long', 'Sansom'), ('English', 'bearded'), ('bearded', 'formidably'), ('formidably', 'cultivated'), ('versatile', 'author'), ('numerous', 'volumes'), ('short', 'stories'), ('neither', 'short'), ('short', 'stories'), ('travel', 'articles'), ('something', 'midway'), ('man', 'alive'), ('seems', 'qualified'), ('baroque', 'luxuriance'), ('literary', 'mantle'), ('Sacheverell', 'Sitwell'), ('Sitwell', 'Sansom'), ('Sansom', 'writes'), ('foreign', 'parts'), ('decoration', 'worthy'), ('pastry', 'chef'), ('chef', 'creating'), ('wedding', 'cake'), ('Hungarian', 'beauty'), ('American', 'multimillionaire'), ('rather', 'wonderful'), ('thick', 'slices'), ('sixteen', 'essays'), ('Blue', 'Skies'), ('Skies', 'Brown'), ('Brown', 'Studies'), ('originally', 'appeared'), ('various', 'magazines'), ('well', 'written'), ('Sansom', 'labors'), ('travel', 'experiences'), ('language', 'allow'), ('many', 'books'), ('putting', 'one'), ('one', 'word'), ('another', 'Sansom'), ('Sansom', 'actually'), ('actually', 'writes'), ('nice', 'ear'), ('gracefully', 'composed'), ('composed', 'sentence'), ('intense', 'relish'), ('metaphorical', 'resources'), ('thick', 'shower'), ('sophisticated', 'cultural'), ('cultural', 'references'), ('contemplative', 'connoisseur'), ('really', 'smells'), ('looks', 'like'), ('particular', 'kind'), ('exact', 'description'), ('ignores', 'guidebook'), ('guidebook', 'facts'), ('rarely', 'tells'), ('personal', 'anecdote'), ('hardly', 'ever'), ('ever', 'sketches'), ('impression', 'Sansom'), ('Sansom', 'strives'), ('impression', 'compounded'), ('visual', 'details'), ('savory', 'mixture'), ('much', 'loving'), ('loving', 'attention'), ('past', 'William'), ('William', 'Sansom'), ('Sansom', 'writes'), ('familiar', 'places'), ('London', 'Vienna'), ('French', 'Riviera'), ('Norwegian', 'fjords'), ('original', 'mind'), ('sensitive', 'reactions'), ('writer', 'lives'), ('says', 'Beneath'), ('world', 'lies'), ('deeper', 'one'), ('many', 'writers'), ('pages', 'one'), ('traditional', 'fiesta'), ('still', 'persists'), ('Mediterranean', 'lands'), ('lands', 'always'), ('always', 'much'), ('much', 'brighter'), ('American', 'used'), ('New', 'York'), ('Kansas', 'City'), ('supreme', 'delights'), ('finest', 'restaurants'), ('restaurants', 'La'), ('La', 'Bonne'), ('Bonne', 'Auberge'), ('seacoast', 'twenty'), ('twenty', 'miles'), ('miles', 'west'), ('Nice', 'airport'), ('infinite', 'variety'), ('London', 'Sansom'), ('spectacular', 'way'), ('recall', 'easily'), ('gigantic', 'paintings'), ('neat', 'phrase'), ('street', 'spattered'), ('people', 'tulips'), ('petals', 'wide'), ('landscape', 'smelling'), ('lacquered', 'almost'), ('almost', 'Byzantine'), ('make', 'one'), ('one', 'recognize'), ('unexpected', 'comparison'), ('comparison', 'Beauty'), ('Beauty', 'borrowed'), ('best', 'essays'), ('essays', 'Sansom'), ('Sansom', 'expresses'), ('many', 'country'), ('country', 'mansions'), ('mansions', 'designed'), ('Andrea', 'Palladio'), ('pillared', 'style'), ('influence', 'Sansom'), ('Sansom', 'reminds'), ('reminds', 'us'), ('us', 'thus'), ('white', 'colonnaded'), ('colonnaded', 'Southern'), ('Southern', 'mansion'), ('directly', 'traceable'), ('traceable', 'via'), ('buff', 'stone'), ('golden', 'stucco'), ('one', 'particular'), ('particular', 'part'), ('blue', 'South'), ('Palladian', 'orbit'), ('orbit', 'stretching'), ('old', 'mind'), ('Andrea', 'Palladio'), ('Palladio', 'still'), ('still', 'smiles'), ('behind', 'many'), ('old', 'rocking'), ('rocking', 'chair'), ('Southern', 'porch'), ('deep', 'friezes'), ('architectonic', 'music'), ('music', 'rise'), ('rise', 'firm'), ('shallower', 'freeze'), ('shade', 'brings'), ('tall', 'mint'), ('mint', 'julep'), ('columns', 'framing'), ('warm', 'velvet'), ('velvet', 'night'), ('brought', 'together'), ('million', 'couple'), ('mating', 'lips'), ('lips', 'Nice'), ('Nice', 'even'), ('trifle', 'gaudy'), ('gaudy', 'Blue'), ('Blue', 'Skies'), ('Skies', 'Brown'), ('Brown', 'Studies'), ('numerous', 'excellent'), ('excellent', 'photographs'), ('recent', 'days'), ('extensive', 'lamentations'), ('original', 'drama'), ('many', 'regretted'), ('new', 'plays'), ('radio', 'WBAI'), ('aural', 'void'), ('void', 'Yesterday'), ('offered', 'Poised'), ('Jean', 'Reavey'), ('Reavey', 'WBAI'), ('right', 'track'), ('sound', 'medium'), ('excessive', 'emphasis'), ('British', 'Broadcasting'), ('Broadcasting', 'Corporations'), ('Corporations', 'continue'), ('demonstrate', 'Unfortunately'), ('Unfortunately', 'Poised'), ('happiest', 'vehicle'), ('point', 'work'), ('addition', 'employs'), ('particularly', 'needs'), ('explore', 'obsession'), ('remain', 'part'), ('someone', 'painting'), ('painting', 'rather'), ('different', 'guises'), ('guises', 'patrons'), ('cafe', 'performers'), ('family', 'picnic'), ('inevitably', 'put'), ('put', 'ugliness'), ('beauty', 'Somewhere'), ('relentless', 'discursiveness'), ('determined', 'complexity'), ('stamina', 'begins'), ('wilt', 'Moreover'), ('central', 'figures'), ('busily', 'fulfilling'), ('multitudinous', 'assignments'), ('none', 'emerges'), ('arresting', 'individual'), ('provocative', 'symbol'), ('quite', 'conceivably'), ('altogether', 'different'), ('different', 'impression'), ('immediate', 'reward'), ('WBAI', 'experiment'), ('experiment', 'good'), ('good', 'radio'), ('radio', 'drama'), ('special', 'demands'), ('badly', 'need'), ('need', 'reinvigoration'), ('weekly', 'showcase'), ('contemporary', 'music'), ('austere', 'archaism'), ('electronic', 'music'), ('fourth', 'anniversary'), ('month', 'Titled'), ('Titled', 'New'), ('enterprising', 'program'), ('heard', 'Saturday'), ('Saturday', 'afternoons'), ('radio', 'station'), ('station', 'Aj'), ('brief', 'notes'), ('notes', 'introducing'), ('work', 'offer'), ('offer', 'salient'), ('salient', 'historical'), ('technical', 'points'), ('many', 'listeners'), ('probably', 'grateful'), ('intelligently', 'taken'), ('often', 'difficult'), ('difficult', 'maze'), ('assistant', 'continuity'), ('continuity', 'editor'), ('editor', 'Chuck'), ('Chuck', 'Briefer'), ('first', 'Saturday'), ('set', 'aside'), ('new', 'recordings'), ('recordings', 'Last'), ('Last', 'interesting'), ('interesting', 'melange'), ('melange', 'included'), ('included', 'Ernst'), ('Ernst', 'Toch'), ('Toch', 'Karlheinz'), ('Karlheinz', 'Stockhausen'), ('Stockhausen', 'Richard'), ('Richard', 'Yardumian'), ('brief', 'excerpt'), ('new', 'space'), ('space', 'opera'), ('Swedish', 'composer'), ('composer', 'Blomdahl'), ('selected', 'American'), ('American', 'composer'), ('particular', 'type'), ('given', 'country'), ('regularly', 'scheduled'), ('scheduled', 'hour'), ('set', 'aside'), ('contemporary', 'musical'), ('musical', 'scene'), ('one', 'wishes'), ('Blomdahl', 'opera'), ('opportunity', 'would'), ('closer', 'analytical'), ('analytical', 'look'), ('Moiseyev', 'Dance'), ('Dance', 'Company'), ('Company', 'dropped'), ('Madison', 'Square'), ('Square', 'Garden'), ('Garden', 'last'), ('last', 'night'), ('four', 'farewell'), ('farewell', 'performances'), ('long', 'American'), ('American', 'tour'), ('simply', 'giving'), ('New', 'York'), ('York', 'engagement'), ('engagement', 'earlier'), ('brought', 'back'), ('back', 'many'), ('paid', 'us'), ('first', 'visit'), ('Old', 'Russian'), ('Russian', 'Dances'), ('inaugural', 'program'), ('modest', 'entrance'), ('built', 'steadily'), ('typical', 'Moiseyev'), ('Moiseyev', 'vigor'), ('amusing', 'Yurochka'), ('young', 'man'), ('course', 'vigorous'), ('vigorous', 'Polyanka'), ('three', 'Moldavian'), ('Moldavian', 'dances'), ('dances', 'entitled'), ('entitled', 'Zhok'), ('funny', 'little'), ('little', 'dance'), ('potato', 'planting'), ('planting', 'called'), ('hilarious', 'picture'), ('social', 'life'), ('earlier', 'day'), ('day', 'called'), ('called', 'City'), ('City', 'Quadrille'), ('one', 'remembers'), ('welcome', 'back'), ('newer', 'dances'), ('Kalmuk', 'Dance'), ('animal', 'movements'), ('genial', 'juggling'), ('juggling', 'act'), ('Sergei', 'Tsvetkov'), ('Tsvetkov', 'called'), ('beautiful', 'betrothal'), ('betrothal', 'celebration'), ('celebration', 'called'), ('called', 'Summer'), ('Three', 'Shepherds'), ('Azerbaijan', 'hopping'), ('trenchant', 'Rock'), ('Rock', 'Roll'), ('autumn', 'starts'), ('annual', 'sweep'), ('Canadians', 'realize'), ('finest', 'fall'), ('fall', 'coloring'), ('coloring', 'Spectacular'), ('Spectacular', 'displays'), ('relatively', 'rare'), ('entire', 'land'), ('land', 'surface'), ('British', 'Isles'), ('Isles', 'western'), ('western', 'Europe'), ('Europe', 'eastern'), ('eastern', 'China'), ('China', 'southern'), ('southern', 'Chile'), ('Japan', 'New'), ('New', 'Zealand'), ('autumn', 'tints'), ('fairly', 'low'), ('low', 'keyed'), ('keyed', 'compared'), ('fiery', 'stabs'), ('crimson', 'gold'), ('gold', 'purple'), ('purple', 'bronze'), ('bronze', 'blue'), ('North', 'America'), ('America', 'Jack'), ('Jack', 'Frost'), ('really', 'responsible'), ('great', 'seasonal'), ('seasonal', 'spectacle'), ('freezing', 'autumn'), ('autumn', 'dulls'), ('best', 'effects'), ('effects', 'come'), ('temperate', 'climate'), ('rain', 'followed'), ('sunny', 'days'), ('cool', 'nights'), ('nights', 'Foliage'), ('Foliage', 'pilgrimages'), ('pilgrimages', 'either'), ('either', 'organized'), ('autumn', 'item'), ('specific', 'guide'), ('guide', 'keyed'), ('calendar', 'Nature'), ('Nature', 'Canada'), ('Canada', 'Late'), ('Late', 'September'), ('September', 'finds'), ('finds', 'color'), ('peak', 'especially'), ('Laurentian', 'hills'), ('area', 'south'), ('Lawrence', 'River'), ('Maritime', 'provinces'), ('provinces', 'farther'), ('farther', 'east'), ('little', 'quieter'), ('quieter', 'foliage'), ('Muskoka', 'miles'), ('miles', 'north'), ('Haliburton', 'miles'), ('miles', 'northwest'), ('Toronto', 'holding'), ('holding', 'color'), ('color', 'cavalcades'), ('cavalcades', 'starting'), ('Canadian', 'Rockies'), ('Rockies', 'great'), ('great', 'groves'), ('already', 'glinting'), ('glinting', 'gold'), ('gold', 'New'), ('New', 'England'), ('England', 'sugar'), ('sugar', 'maples'), ('often', 'hit'), ('early', 'October'), ('October', 'New'), ('New', 'Hampshire'), ('Hampshire', 'figures'), ('peak', 'around'), ('around', 'Columbus'), ('Columbus', 'Day'), ('hardwoods', 'including'), ('shades', 'tend'), ('little', 'softer'), ('western', 'Massachusetts'), ('northwest', 'Connecticut'), ('vibrant', 'prime'), ('first', 'week'), ('October', 'Middle'), ('Middle', 'Atlantic'), ('Atlantic', 'states'), ('Adirondacks', 'blaze'), ('blaze', 'brightest'), ('early', 'October'), ('October', 'choice'), ('choice', 'routes'), ('Lake', 'George'), ('Lake', 'Placid'), ('Placid', 'area'), ('area', 'Farther'), ('Farther', 'south'), ('New', 'York'), ('heavy', 'haze'), ('notably', 'along'), ('along', 'routes'), ('magnificent', 'Renovo'), ('Renovo', 'holds'), ('annual', 'Flaming'), ('Flaming', 'Foliage'), ('Foliage', 'Festival'), ('New', 'color'), ('color', 'varies'), ('Delaware', 'Water'), ('Water', 'Gap'), ('Cape', 'May'), ('May', 'Southeast'), ('first', 'half'), ('Blue', 'Ridge'), ('Appalachians', 'provide'), ('spectacle', 'stretching'), ('West', 'Virginia'), ('brilliant', 'displays'), ('Skyline', 'Drive'), ('Shenandoah', 'Valley'), ('Great', 'Smokies'), ('North', 'Carolina'), ('Tennessee', 'Midwest'), ('Midwest', 'Michigan'), ('Michigan', 'Wisconsin'), ('many', 'superb'), ('superb', 'stretches'), ('September', 'well'), ('October', 'especially'), ('northern', 'sections'), ('sections', 'Vilas'), ('Vilas', 'County'), ('County', 'whose'), ('whose', 'Colorama'), ('Colorama', 'celebration'), ('Wisconsin', 'take'), ('take', 'route'), ('route', 'north'), ('Prairie', 'Du'), ('Du', 'Chien'), ('fine', 'color'), ('Mackinac', 'Straits'), ('views', 'around'), ('around', 'Marquette'), ('Iron', 'Mountain'), ('Upper', 'Peninsula'), ('Minnesota', 'Arrowhead'), ('Arrowhead', 'County'), ('route', 'north'), ('International', 'Falls'), ('outstanding', 'Farther'), ('Farther', 'south'), ('attractive', 'patches'), ('seasonal', 'peaks'), ('early', 'November'), ('November', 'Shawnee'), ('Shawnee', 'National'), ('National', 'Forest'), ('Forest', 'Iron'), ('Iron', 'County'), ('many', 'Aspencades'), ('organized', 'tours'), ('aspen', 'areas'), ('frequent', 'stops'), ('vantage', 'points'), ('golden', 'panoramas'), ('Colorado', 'Ouray'), ('Fall', 'Color'), ('Color', 'Week'), ('Week', 'Rye'), ('sponsor', 'Aspencades'), ('Steamboat', 'Springs'), ('Aspencade', 'New'), ('New', 'biggest'), ('Cloudcroft', 'cooperate'), ('similar', 'trips'), ('trips', 'Americana'), ('Americana', 'pleasure'), ('pleasure', 'domes'), ('domes', 'Two'), ('Two', 'sharply'), ('sharply', 'contrasting'), ('contrasting', 'places'), ('places', 'designed'), ('public', 'enjoyment'), ('Corn', 'Palace'), ('corniest', 'building'), ('Three', 'Stooges'), ('Pee', 'Wee'), ('Wee', 'Hunt'), ('Hunt', 'Since'), ('Since', 'ears'), ('red', 'yellow'), ('yellow', 'purple'), ('white', 'corn'), ('big', 'picture'), ('picture', 'panels'), ('create', 'huge'), ('huge', 'paintings'), ('Dakota', 'Territorial'), ('Territorial', 'Centennial'), ('pictures', 'including'), ('Clark', 'expedition'), ('first', 'river'), ('river', 'steamboat'), ('gold', 'rush'), ('little', 'red'), ('red', 'schoolhouse'), ('large', 'Missouri'), ('Missouri', 'River'), ('River', 'reservoirs'), ('replaced', 'next'), ('next', 'summer'), ('summer', 'Longwood'), ('Longwood', 'Gardens'), ('Gardens', 'near'), ('near', 'Kennett'), ('Kennett', 'Square'), ('heavily', 'endowed'), ('late', 'Pierre'), ('Pierre', 'Du'), ('Du', 'Pont'), ('Pont', 'Every'), ('Every', 'Wednesday'), ('Wednesday', 'night'), ('elaborate', 'colored'), ('colored', 'fountain'), ('fountain', 'display'), ('nozzles', 'throwing'), ('throwing', 'jets'), ('peacock', 'tail'), ('tail', 'nozzle'), ('nozzle', 'throws'), ('giant', 'fan'), ('water', 'feet'), ('feet', 'wide'), ('feet', 'high'), ('open', 'free'), ('year', 'round'), ('permanent', 'employes'), ('employes', 'make'), ('make', 'sure'), ('wilted', 'flower'), ('ever', 'seen'), ('seen', 'indoors'), ('greenhouses', 'alone'), ('alone', 'cover'), ('cover', 'acres'), ('acres', 'Books'), ('Books', 'clock'), ('clock', 'without'), ('without', 'hands'), ('hands', 'Carson'), ('Carson', 'McCullers'), ('long', 'painful'), ('painful', 'illness'), ('come', 'back'), ('absolute', 'gem'), ('jumped', 'high'), ('lists', 'even'), ('official', 'publication'), ('publication', 'Though'), ('subject', 'segregation'), ('native', 'South'), ('thoroughly', 'worked'), ('worked', 'Miss'), ('Miss', 'McCullers'), ('McCullers', 'uses'), ('modern', 'American'), ('American', 'writing'), ('writing', 'Franny'), ('almost', 'conceals'), ('conceals', 'art'), ('art', 'Salinger'), ('fictional', 'world'), ('eagerly', 'awaited'), ('awaited', 'novel'), ('first', 'since'), ('college', 'girl'), ('life', 'around'), ('sympathetic', 'help'), ('Monsieur', 'Althea'), ('Althea', 'Urn'), ('deft', 'hilarious'), ('hilarious', 'satire'), ('high', 'French'), ('French', 'society'), ('society', 'involving'), ('two', 'enviable'), ('enviable', 'possessions'), ('lovely', 'young'), ('young', 'bride'), ('head', 'containing'), ('weighty', 'thoughts'), ('greater', 'comfort'), ('mind', 'heart'), ('Death', 'Virgilia'), ('Virgilia', 'Peterson'), ('critical', 'eye'), ('eye', 'pitilessly'), ('specific', 'events'), ('engrossing', 'commentary'), ('repressive', 'New'), ('New', 'York'), ('York', 'way'), ('first', 'part'), ('century', 'Dark'), ('Dark', 'Rider'), ('Louis', 'Zara'), ('brief', 'anguished'), ('anguished', 'life'), ('Stephen', 'Crane'), ('Crane', 'poet'), ('master', 'novelist'), ('novelized', 'form'), ('tragic', 'subject'), ('subject', 'Rural'), ('Rural', 'Free'), ('Free', 'Rachel'), ('Rachel', 'Peden'), ('Peden', 'Subtitled'), ('Country', 'Living'), ('nostalgic', 'chronicle'), ('changing', 'seasons'), ('seasons', 'seen'), ('clear', 'humorous'), ('humorous', 'eye'), ('Hoosier', 'housewife'), ('popular', 'columnist'), ('columnist', 'Dance'), ('Dance', 'Russians'), ('Russians', 'Filipinos'), ('Filipinos', 'Two'), ('Two', 'noted'), ('noted', 'troupes'), ('fall', 'dance'), ('dance', 'season'), ('sparkling', 'start'), ('start', 'Kirov'), ('Kirov', 'Ballet'), ('Ballet', 'famous'), ('classic', 'purity'), ('technique', 'begins'), ('first', 'tour'), ('New', 'York'), ('Bayanihan', 'Philippine'), ('Philippine', 'Dance'), ('Dance', 'Company'), ('many', 'facets'), ('Filipino', 'culture'), ('culture', 'opens'), ('San', 'Francisco'), ('via', 'stands'), ('stands', 'moves'), ('Los', 'Angeles'), ('Angeles', 'thru'), ('thru', 'Festivals'), ('Festivals', 'across'), ('full', 'swing'), ('enjoy', 'festivals'), ('Bandon', 'thru'), ('Kingwood', 'sugar'), ('sugar', 'cane'), ('New', 'Iberia'), ('Iberia', 'thru'), ('Boron', 'thru'), ('Niagara', 'Falls'), ('fine', 'old'), ('old', 'mansions'), ('old', 'home'), ('home', 'town'), ('archery', 'tournament'), ('North', 'Falmouth'), ('Staten', 'Island'), ('include', 'parades'), ('pageants', 'Movies'), ('Movies', 'Purple'), ('Purple', 'Noon'), ('French', 'film'), ('film', 'set'), ('summertime', 'splurge'), ('lovely', 'sunny'), ('sunny', 'scenery'), ('almost', 'forget'), ('Alain', 'Delon'), ('Delon', 'Life'), ('Life', 'playing'), ('sometimes', 'appealing'), ('always', 'criminal'), ('criminal', 'boy'), ('boy', 'casually'), ('casually', 'tells'), ('Delon', 'expects'), ('act', 'Records'), ('Records', 'Norma'), ('Norma', 'Callas'), ('Callas', 'devotees'), ('good', 'reason'), ('customary', 'cart'), ('cart', 'wheels'), ('complete', 'stereo'), ('stereo', 'version'), ('Bellini', 'opera'), ('opera', 'Maria'), ('Maria', 'goes'), ('Druid', 'princess'), ('Roman', 'big'), ('big', 'shot'), ('beautifully', 'sung'), ('sung', 'Norma'), ('fierce', 'tender'), ('tender', 'venomous'), ('tenor', 'lead'), ('lead', 'Franco'), ('Franco', 'Corelli'), ('La', 'Scala'), ('Scala', 'cast'), ('Maestro', 'Tullio'), ('Tullio', 'Serafin'), ('first', 'rate'), ('rate', 'Jeremiah'), ('Jeremiah', 'polyunsaturated'), ('polyunsaturated', 'quick'), ('quick', 'dissolving'), ('dissolving', 'fast'), ('fast', 'acting'), ('acting', 'pleasant'), ('pleasant', 'tasting'), ('tasting', 'green'), ('purple', 'pills'), ('radio', 'commercials'), ('commercials', 'Singer'), ('Singer', 'Ray'), ('Ray', 'Stevens'), ('Stevens', 'hawks'), ('neuritis', 'neuralgia'), ('neuralgia', 'distress'), ('distress', 'beriberi'), ('beriberi', 'overweight'), ('overweight', 'fungus'), ('fungus', 'mungus'), ('eight', 'million'), ('million', 'owners'), ('sizable', 'number'), ('late', 'autumn'), ('loveliest', 'seasons'), ('broad', 'balmy'), ('balmy', 'region'), ('belt', 'line'), ('line', 'Waterways'), ('busy', 'right'), ('Virginia', 'capes'), ('Texas', 'coast'), ('true', 'yachtsmen'), ('yachtsmen', 'often'), ('often', 'find'), ('find', 'November'), ('November', 'winds'), ('winds', 'steadier'), ('waters', 'cooler'), ('fish', 'hungrier'), ('pleasant', 'less'), ('less', 'turbulence'), ('fewer', 'floating'), ('floating', 'logs'), ('boats', 'move'), ('move', 'overland'), ('wheels', 'million'), ('million', 'trailers'), ('Midwesterners', 'taking'), ('taking', 'long'), ('long', 'weekends'), ('travel', 'south'), ('fall', 'brings'), ('northern', 'shores'), ('shores', 'indomitable'), ('indomitable', 'sailors'), ('Long', 'Island'), ('Lake', 'Michigan'), ('beat', 'around'), ('frostbite', 'races'), ('pleasant', 'fall'), ('fall', 'cruising'), ('cruising', 'country'), ('Boating', 'west'), ('west', 'coast'), ('coast', 'Pleasure'), ('Pleasure', 'boating'), ('best', 'months'), ('crisp', 'breezes'), ('breezes', 'bring'), ('every', 'size'), ('every', 'kind'), ('water', 'ocean'), ('ocean', 'lake'), ('reservoir', 'Shore'), ('Shore', 'facilities'), ('enormous', 'Los'), ('Los', 'Angeles'), ('Angeles', 'harbors'), ('harbors', 'boats'), ('Long', 'Beach'), ('crowded', 'everywhere'), ('everywhere', 'New'), ('New', 'docks'), ('Playa', 'Del'), ('Del', 'Rey'), ('Rey', 'Ventura'), ('Ventura', 'Dana'), ('Dana', 'Point'), ('Point', 'Oceanside'), ('Mission', 'Bay'), ('Bay', 'Inland'), ('Inland', 'outboard'), ('outboard', 'motorists'), ('motorists', 'welcome'), ('welcome', 'cooler'), ('cooler', 'weather'), ('Colorado', 'River'), ('River', 'sandbars'), ('Lake', 'Mead'), ('Mead', 'Newest'), ('Newest', 'playground'), ('Salton', 'Sea'), ('desert', 'sinkhole'), ('salty', 'lake'), ('lake', 'miles'), ('miles', 'long'), ('sea', 'level'), ('flying', 'shingles'), ('speedboat', 'course'), ('San', 'Francisco'), ('Francisco', 'Bay'), ('Bay', 'winds'), ('sailboat', 'may'), ('teeth', 'one'), ('one', 'minute'), ('lie', 'becalmed'), ('scheduled', 'right'), ('Corinthian', 'Yacht'), ('Yacht', 'Club'), ('Tiburon', 'launches'), ('winter', 'races'), ('races', 'Gulf'), ('Gulf', 'Coast'), ('Coast', 'Hurricane'), ('Hurricane', 'Carla'), ('Carla', 'damaged'), ('Aransas', 'area'), ('fuel', 'service'), ('far', 'west'), ('Port', 'Isabel'), ('Mexican', 'border'), ('border', 'Sailing'), ('Sailing', 'activity'), ('Texas', 'northers'), ('power', 'cruisers'), ('move', 'freely'), ('freely', 'poking'), ('San', 'Jacinto'), ('Jacinto', 'Trinity'), ('Brazos', 'rivers'), ('rivers', 'fine'), ('fine', 'tarpon'), ('tarpon', 'fishing'), ('pushing', 'eastward'), ('pirate', 'country'), ('Grand', 'Isle'), ('Isle', 'yachters'), ('yachters', 'often'), ('often', 'visit'), ('towering', 'oil'), ('oil', 'rigs'), ('Mississippi', 'Sound'), ('Sound', 'leads'), ('protected', 'waterway'), ('waterway', 'running'), ('Apalachicola', 'Lower'), ('Lower', 'Mississippi'), ('Mississippi', 'Memphis'), ('Memphis', 'stinkpotters'), ('stinkpotters', 'like'), ('like', 'McKellar'), ('McKellar', 'Lake'), ('Lake', 'inside'), ('city', 'limits'), ('sailors', 'look'), ('autumn', 'winds'), ('Arkabutla', 'Lake'), ('fall', 'racing'), ('progress', 'River'), ('River', 'cruising'), ('small', 'craft'), ('New', 'Orleans'), ('Orleans', 'Lake'), ('Lake', 'Pontchartrain'), ('boating', 'Marinas'), ('less', 'plush'), ('Florida', 'type'), ('Creole', 'cooking'), ('cooking', 'better'), ('better', 'tva'), ('tva', 'lakes'), ('lakes', 'Ten'), ('Ten', 'thousand'), ('thousand', 'twisty'), ('twisty', 'miles'), ('shoreline', 'frame'), ('vast', 'Tennessee'), ('Tennessee', 'River'), ('River', 'system'), ('seven', 'states'), ('dam', 'construction'), ('construction', 'began'), ('boats', 'used'), ('waters', 'today'), ('year', 'ago'), ('primary', 'character'), ('Erich', 'Maria'), ('Maria', 'new'), ('new', 'novel'), ('Marquis', 'Alfonso'), ('Alfonso', 'De'), ('De', 'Portago'), ('Spanish', 'nobleman'), ('died', 'driving'), ('Mille', 'Miglia'), ('Miglia', 'automobile'), ('automobile', 'race'), ('fact', 'intention'), ('notable', 'failure'), ('failure', 'Clerfayt'), ('Favorites', 'resembles'), ('resembles', 'Portago'), ('bad', 'whereas'), ('whereas', 'Portago'), ('good', 'one'), ('dull', 'unformed'), ('aimless', 'person'), ('twelfth', 'Marquis'), ('Marquis', 'De'), ('De', 'Portago'), ('intelligent', 'purposeful'), ('passionate', 'One'), ('One', 'looked'), ('looked', 'forward'), ('ninth', 'book'), ('reasonably', 'good'), ('good', 'novel'), ('written', 'grounded'), ('automobile', 'racing'), ('devised', 'Unhappily'), ('Unhappily', 'Heaven'), ('record', 'except'), ('add', 'one'), ('bad', 'book'), ('list', 'conception'), ('perhaps', 'even'), ('even', 'noble'), ('proposed', 'throwing'), ('throwing', 'together'), ('high', 'hazard'), ('woman', 'balanced'), ('something', 'else'), ('heroine', 'chooses'), ('recovery', 'years'), ('strict', 'regimen'), ('lover', 'precedes'), ('first', 'meeting'), ('dismal', 'denouement'), ('denouement', 'Remarque'), ('many', 'pages'), ('rather', 'fetching'), ('fetching', 'pleasant'), ('pleasant', 'talk'), ('automobile', 'racing'), ('life', 'death'), ('expect', 'harsh'), ('harsh', 'colors'), ('often', 'charming'), ('automobile', 'racing'), ('racing', 'bears'), ('bears', 'little'), ('little', 'relation'), ('latter', 'failure'), ('merely', 'bad'), ('bad', 'reportage'), ('author', 'drawn'), ('drawn', 'Clerfayt'), ('tournament', 'golfer'), ('golfer', 'Hazards'), ('golf', 'course'), ('actuarially', 'insignificant'), ('quite', 'often'), ('often', 'killed'), ('obviously', 'intention'), ('establish', 'automobile'), ('automobile', 'racing'), ('microcosm', 'one'), ('one', 'might'), ('might', 'reasonably'), ('demonstrate', 'precise'), ('precise', 'knowledge'), ('jacket', 'biography'), ('biography', 'describes'), ('former', 'racing'), ('racing', 'driver'), ('may', 'indeed'), ('name', 'either'), ('literature', 'Perhaps'), ('great', 'deal'), ('book', 'carries'), ('Remarque', 'says'), ('take', 'minor'), ('minor', 'liberties'), ('calls', 'Giuseppe'), ('Giuseppe', 'parked'), ('Place', 'Vendome'), ('Vendome', 'sneering'), ('dozen', 'Bentleys'), ('parked', 'around'), ('primary', 'concern'), ('plainest', 'Clerfayt'), ('neurotic', 'preoccupied'), ('Freudian', 'cliche'), ('cliche', 'inevitably'), ('inevitably', 'cited'), ('cited', 'whenever'), ('whenever', 'laymen'), ('laymen', 'talk'), ('one', 'knows'), ('nearly', 'always'), ('always', 'intelligent'), ('intelligent', 'healthy'), ('healthy', 'technicians'), ('Clerfayt', 'may'), ('may', 'moon'), ('Portago', 'could'), ('could', 'say'), ('die', 'tomorrow'), ('tomorrow', 'still'), ('wonderful', 'years'), ('die', 'tomorrow'), ('tomorrow', 'live'), ('Clerfayt', 'transported'), ('transported', 'may'), ('may', 'think'), ('engine', 'driving'), ('mystical', 'beast'), ('Italian', 'master'), ('master', 'Piero'), ('Piero', 'Taruffi'), ('less', 'sensitive'), ('sensitive', 'knows'), ('knows', 'twice'), ('ecstasy', 'though'), ('wet', 'road'), ('matter', 'best'), ('best', 'expressed'), ('algebraic', 'formulae'), ('formulae', 'Clerfayt'), ('Clerfayt', 'driving'), ('driving', 'sees'), ('volcano', 'whose'), ('whose', 'cone'), ('cone', 'funneled'), ('Briton', 'Stirling'), ('Stirling', 'Moss'), ('Moss', 'one'), ('greatest', 'virtuosi'), ('time', 'believes'), ('art', 'form'), ('form', 'related'), ('ballet', 'Errors'), ('technical', 'terminology'), ('terminology', 'suggest'), ('German', 'may'), ('convey', 'quite'), ('quite', 'everything'), ('everything', 'Remarque'), ('Remarque', 'hoped'), ('tell', 'us'), ('us', 'However'), ('principal', 'objection'), ('hackneyed', 'treatment'), ('pilots', 'submariners'), ('submariners', 'atomic'), ('atomic', 'researchers'), ('brooding', 'mystics'), ('hysterical', 'fatalists'), ('leaderless', 'according'), ('ably', 'led'), ('stalwart', 'heroes'), ('Khrushchev', 'Tito'), ('invincible', 'determination'), ('whole', 'world'), ('world', 'stands'), ('nations', 'unable'), ('common', 'good'), ('Field', 'Marshal'), ('Marshal', 'belief'), ('Western', 'countries'), ('per', 'cent'), ('really', 'care'), ('per', 'cent'), ('cent', 'call'), ('considered', 'respectable'), ('last', 'per'), ('per', 'cent'), ('genuine', 'Christians'), ('Western', 'countries'), ('feels', 'intensely'), ('intensely', 'national'), ('Russians', 'intended'), ('stop', 'Tom'), ('Tom', 'going'), ('Tom', 'Jones'), ('Jones', 'would'), ('would', 'fight'), ('would', 'fight'), ('liberty', 'rather'), ('abstract', 'principle'), ('principle', 'connected'), ('practical', 'purposes'), ('West', 'stands'), ('stands', 'disunited'), ('disunited', 'undedicated'), ('world', 'leadership'), ('barrage', 'Montgomery'), ('Alamein', 'launches'), ('attack', 'upon'), ('West', 'Never'), ('Never', 'given'), ('mincing', 'words'), ('places', 'heavy'), ('heavy', 'blame'), ('blame', 'upon'), ('faulty', 'uncourageous'), ('uncourageous', 'leadership'), ('particularly', 'America'), ('end', 'leadership'), ('Western', 'Europe'), ('Europe', 'passed'), ('Labour', 'Government'), ('Government', 'devoted'), ('welfare', 'state'), ('Britain', 'looking'), ('looking', 'inward'), ('inward', 'overseas'), ('overseas', 'problems'), ('United', 'States'), ('States', 'Montgomery'), ('Montgomery', 'believes'), ('started', 'well'), ('well', 'America'), ('America', 'gave'), ('gave', 'generously'), ('economic', 'aid'), ('military', 'equipment'), ('foe', 'alike'), ('pushed', 'wartorn'), ('world', 'peace'), ('peace', 'America'), ('America', 'generally'), ('generally', 'believes'), ('buy', 'anything'), ('compulsively', 'strives'), ('liked', 'However'), ('dollars', 'given'), ('given', 'away'), ('basically', 'needed'), ('greater', 'reason'), ('fumbling', 'stumbling'), ('stumbling', 'American'), ('American', 'leadership'), ('pride', 'suffered'), ('Japanese', 'attacked'), ('Pearl', 'Harbor'), ('determined', 'Montgomery'), ('Montgomery', 'writes'), ('also', 'creates'), ('creates', 'nervousness'), ('nervousness', 'among'), ('Western', 'Alliance'), ('great', 'suspicions'), ('suspicions', 'among'), ('Eastern', 'bloc'), ('progress', 'towards'), ('towards', 'peaceful'), ('peaceful', 'coexistence'), ('net', 'result'), ('American', 'leadership'), ('general', 'world'), ('world', 'situation'), ('become', 'bad'), ('American', 'people'), ('two', 'previous'), ('previous', 'world'), ('world', 'wars'), ('look', 'like'), ('lead', 'us'), ('third', 'World'), ('World', 'War'), ('leadership', 'clearly'), ('United', 'States'), ('States', 'must'), ('relied', 'upon'), ('made', 'clear'), ('clear', 'Montgomery'), ('Montgomery', 'calls'), ('first', 'put'), ('man', 'must'), ('give', 'clear'), ('sensible', 'advice'), ('whole', 'group'), ('member', 'nations'), ('absolute', 'confidence'), ('leader', 'must'), ('foreign', 'policy'), ('United', 'States'), ('States', 'namely'), ('reunited', 'Germany'), ('East', 'German'), ('German', 'government'), ('true', 'government'), ('evil', 'influence'), ('influence', 'behind'), ('behind', 'Khrushchev'), ('Summit', 'Conference'), ('either', 'China'), ('Russia', 'wants'), ('expects', 'war'), ('leader', 'must'), ('must', 'strengthen'), ('strengthen', 'NATO'), ('NATO', 'politically'), ('true', 'unity'), ('always', 'talked'), ('drastically', 'overhauling'), ('overhauling', 'NATO'), ('NATO', 'Western'), ('Western', 'leadership'), ('tear', 'apart'), ('West', 'Major'), ('world', 'powers'), ('territories', 'say'), ('central', 'proposal'), ('East', 'would'), ('show', 'sincerity'), ('us', 'Montgomery'), ('Montgomery', 'knew'), ('national', 'leaders'), ('would', 'select'), ('great', 'task'), ('De', 'Gaulle'), ('De', 'Gaulle'), ('restoring', 'lost'), ('lost', 'soul'), ('soul', 'Whoever'), ('Whoever', 'rises'), ('occasion', 'walks'), ('treacherous', 'path'), ('leader', 'Montgomery'), ('Montgomery', 'envisages'), ('carefully', 'regulated'), ('orderly', 'life'), ('life', 'allow'), ('allow', 'time'), ('quiet', 'thought'), ('reflection', 'adapt'), ('adapt', 'decisions'), ('changing', 'situations'), ('ruthless', 'particularly'), ('morally', 'proper'), ('Montgomery', 'calls'), ('far', 'back'), ('Moses', 'thence'), ('Cromwell', 'Napoleon'), ('Napoleon', 'Lincoln'), ('Lincoln', 'Churchill'), ('Nehru', 'Montgomery'), ('Montgomery', 'attempts'), ('great', 'men'), ('aptly', 'represented'), ('political', 'failure'), ('war', 'However'), ('However', 'Montgomery'), ('Montgomery', 'makes'), ('makes', 'little'), ('little', 'contribution'), ('leadership', 'theory'), ('great', 'men'), ('largely', 'irrelevant'), ('contemporary', 'scene'), ('scene', 'Like'), ('Like', 'Eisenhower'), ('politicians', 'However'), ('time', 'Montgomery'), ('Montgomery', 'selects'), ('hero', 'De'), ('De', 'Gaulle'), ('militarist', 'dominated'), ('political', 'ambitions'), ('ambitions', 'Monty'), ('Monty', 'shows'), ('remarkable', 'capacity'), ('direct', 'statement'), ('equally', 'remarkable'), ('remarkable', 'incapacity'), ('giving', 'adequate'), ('adequate', 'support'), ('writing', 'rambles'), ('jogs', 'preventing'), ('preventing', 'easy'), ('easy', 'access'), ('true', 'thoughts'), ('thoughts', 'Nevertheless'), ('Nevertheless', 'Montgomery'), ('stated', 'courageously'), ('Western', 'world'), ('heroic', 'leadership'), ('new', 'frontier'), ('taking', 'form'), ('wisdom', 'necessary'), ('current', 'shape'), ('common', 'thing'), ('listener', 'critical'), ('singer', 'live'), ('first', 'time'), ('Mario', 'Lanza'), ('common', 'singer'), ('whole', 'career'), ('career', 'public'), ('unconventional', 'happenings'), ('first', 'recital'), ('living', 'voice'), ('Royal', 'Albert'), ('Albert', 'Hall'), ('greatest', 'performers'), ('accommodate', 'RCA'), ('RCA', 'Victor'), ('Victor', 'LM'), ('sure', 'Lanza'), ('Lanza', 'made'), ('made', 'numerous'), ('numerous', 'concert'), ('concert', 'tours'), ('New', 'York'), ('carping', 'critic'), ('critic', 'might'), ('might', 'lurk'), ('reading', 'public'), ('theatergoing', 'public'), ('skindiving', 'public'), ('others', 'fill'), ('fill', 'substantial'), ('substantial', 'roles'), ('varied', 'vast'), ('eating', 'public'), ('Agriculture', 'averaged'), ('food', 'consumption'), ('consumption', 'last'), ('last', 'year'), ('per', 'person'), ('million', 'Americans'), ('John', 'Kennedy'), ('Kennedy', 'said'), ('said', 'go'), ('bed', 'hungry'), ('hungry', 'every'), ('every', 'night'), ('night', 'means'), ('certain', 'gluttons'), ('upper', 'end'), ('end', 'must'), ('must', 'somehow'), ('mother', 'hen'), ('Metropolitan', 'Life'), ('Life', 'Insurance'), ('Insurance', 'clucks'), ('million', 'Americans'), ('previous', 'centuries'), ('centuries', 'eating'), ('eating', 'changed'), ('nearly', 'imperceptible'), ('imperceptible', 'degrees'), ('mostly', 'toward'), ('getting', 'enough'), ('big', 'forces'), ('forces', 'buffet'), ('buffet', 'food'), ('first', 'time'), ('people', 'turn'), ('much', 'food'), ('embarrassing', 'problem'), ('dispose', 'inconspicuously'), ('million', 'tons'), ('surplus', 'farm'), ('farm', 'produce'), ('plain', 'citizen'), ('income', 'buy'), ('consume', 'Refrigeration'), ('Refrigeration', 'automated'), ('automated', 'processing'), ('packaging', 'conspire'), ('defy', 'season'), ('banish', 'spoilage'), ('new', 'affluence'), ('new', 'techniques'), ('processing', 'comes'), ('new', 'American'), ('American', 'interest'), ('people', 'eat'), ('eat', 'affects'), ('survive', 'divine'), ('divine', 'Fads'), ('Fads', 'facts'), ('well', 'directed'), ('fusty', 'panaceas'), ('spinach', 'eggs'), ('curds', 'concentrates'), ('year', 'reports'), ('American', 'Medical'), ('Medical', 'Association'), ('Association', 'ten'), ('ten', 'million'), ('million', 'Americans'), ('Americans', 'spend'), ('spend', 'million'), ('vitamins', 'tonics'), ('food', 'supplements'), ('juice', 'bars'), ('Los', 'health'), ('health', 'stores'), ('new', 'sensation'), ('pink', 'cocktail'), ('cocktail', 'concocted'), ('dried', 'eggs'), ('eggs', 'powdered'), ('powdered', 'milk'), ('per', 'glass'), ('glass', 'Grocery'), ('Grocery', 'stores'), ('stores', 'sell'), ('sell', 'dozens'), ('food', 'value'), ('big', 'part'), ('public', 'wants'), ('know', 'facts'), ('big', 'group'), ('scientists', 'wants'), ('Physiologist', 'Ancel'), ('Ancel', 'Keys'), ('Keys', 'inventor'), ('wartime', 'K'), ('Keys', 'ration'), ('last', 'bestselling'), ('bestselling', 'Eat'), ('Eat', 'Well'), ('Stay', 'Well'), ('Physiological', 'Hygiene'), ('football', 'stadium'), ('every', 'touchdown'), ('touchdown', 'blocky'), ('blocky', 'Keys'), ('Keys', 'directs'), ('ambitious', 'experiment'), ('spans', 'three'), ('three', 'continents'), ('seven', 'nations'), ('still', 'growing'), ('growing', 'Pursuing'), ('logged', 'miles'), ('miles', 'suffered'), ('suffered', 'indescribable'), ('indescribable', 'digestive'), ('digestive', 'indignities'), ('meticulously', 'collected'), ('collected', 'physiological'), ('physiological', 'data'), ('eating', 'habits'), ('Bantu', 'tribesmen'), ('Italian', 'contadini'), ('fleshy', 'areas'), ('shoulder', 'blades'), ('Neapolitan', 'firemen'), ('firemen', 'studied'), ('Finnish', 'woodcutters'), ('woodcutters', 'analyzed'), ('Capetown', 'coloreds'), ('Minneapolis', 'businessmen'), ('fats', 'findings'), ('findings', 'though'), ('though', 'far'), ('smash', 'many'), ('eating', 'cliche'), ('cliche', 'Vitamins'), ('Vitamins', 'eggs'), ('milk', 'begin'), ('look', 'like'), ('like', 'foods'), ('though', 'milk'), ('ticket', 'Readings'), ('predicting', 'heart'), ('heart', 'attacks'), ('symptomatic', 'attack'), ('attack', 'Already'), ('Already', 'many'), ('American', 'knows'), ('worries', 'depending'), ('nearer', 'safe'), ('cholesterol', 'come'), ('come', 'main'), ('main', 'messages'), ('far', 'Americans'), ('Americans', 'eat'), ('typical', 'daily'), ('daily', 'menu'), ('menu', 'says'), ('says', 'Keys'), ('Keys', 'contains'), ('contains', 'calories'), ('extra', 'weight'), ('weight', 'increases'), ('cancer', 'diabetes'), ('diabetes', 'artery'), ('artery', 'disease'), ('heart', 'attack'), ('attack', 'Americans'), ('Americans', 'eat'), ('much', 'fat'), ('meat', 'milk'), ('milk', 'butter'), ('ice', 'cream'), ('saturated', 'fat'), ('insidious', 'kind'), ('kind', 'says'), ('says', 'Keys'), ('increases', 'blood'), ('blood', 'cholesterol'), ('cholesterol', 'damages'), ('damages', 'arteries'), ('coronary', 'disease'), ('disease', 'Obesity'), ('malnutrition', 'Throughout'), ('Throughout', 'much'), ('world', 'food'), ('trouble', 'getting'), ('day', 'necessary'), ('sustain', 'life'), ('deficiency', 'diseases'), ('diseases', 'scurvy'), ('scurvy', 'tropical'), ('tropical', 'sprue'), ('sprue', 'pellagra'), ('pellagra', 'run'), ('run', 'rampant'), ('West', 'Africa'), ('babies', 'must'), ('weaned', 'early'), ('make', 'room'), ('later', 'arrivals'), ('childhood', 'menace'), ('Red', 'Johnny'), ('protein', 'deficiency'), ('deficiency', 'signs'), ('signs', 'reddish'), ('reddish', 'hair'), ('hair', 'bloated'), ('bloated', 'belly'), ('victims', 'leaves'), ('rest', 'prey'), ('lingering', 'tropical'), ('tropical', 'disease'), ('deficiency', 'diseases'), ('virtually', 'vanished'), ('past', 'years'), ('years', 'Today'), ('Internal', 'Medicine'), ('standard', 'text'), ('text', 'puts'), ('common', 'form'), ('caloric', 'excess'), ('obesity', 'Puritan'), ('Puritan', 'New'), ('New', 'England'), ('England', 'regarded'), ('regarded', 'obesity'), ('flagrant', 'symbol'), ('sin', 'Says'), ('Says', 'Keys'), ('Keys', 'Maybe'), ('idea', 'got'), ('got', 'around'), ('fat', 'man'), ('man', 'would'), ('would', 'start'), ('think', 'Morals'), ('Morals', 'aside'), ('fat', 'man'), ('longer', 'loves'), ('simple', 'mechanical'), ('mechanical', 'strain'), ('overweight', 'says'), ('says', 'New'), ('New', 'Norman'), ('Norman', 'Jolliffe'), ('Chevrolet', 'engine'), ('Cadillac', 'body'), ('body', 'would'), ('would', 'wear'), ('fat', 'man'), ('trouble', 'buying'), ('buying', 'life'), ('life', 'insurance'), ('pay', 'higher'), ('higher', 'premiums'), ('unclear', 'reasons'), ('higher', 'death'), ('death', 'rate'), ('particularly', 'vulnerable'), ('may', 'find'), ('find', 'even'), ('even', 'moderate'), ('moderate', 'physical'), ('physical', 'exertion'), ('exertion', 'uncomfortable'), ('excess', 'body'), ('body', 'fat'), ('fat', 'hampers'), ('muscular', 'movement'), ('movement', 'Physiologically'), ('Physiologically', 'people'), ('people', 'overeat'), ('Jolliffe', 'calls'), ('keep', 'weight'), ('weight', 'constant'), ('located', 'says'), ('says', 'Jolliffe'), ('hypothalamus', 'near'), ('temperature', 'sleep'), ('controls', 'Physical'), ('Physical', 'exercise'), ('exercise', 'raises'), ('cold', 'weather'), ('moderate', 'doses'), ('doses', 'alcohol'), ('alcohol', 'narcotizes'), ('enhances', 'appetite'), ('original', 'reason'), ('high', 'caloric'), ('caloric', 'value'), ('value', 'calories'), ('calories', 'per'), ('heavy', 'drinker'), ('seldom', 'hungry'), ('rare', 'cases'), ('cases', 'diseases'), ('pituitary', 'tumor'), ('tumor', 'may'), ('may', 'damage'), ('appestat', 'permanently'), ('permanently', 'destroying'), ('destroying', 'nearly'), ('satiety', 'Food'), ('frustration', 'Far'), ('frequently', 'overeating'), ('psychological', 'compulsion'), ('frustration', 'depression'), ('depression', 'insecurity'), ('children', 'simply'), ('anxious', 'nagging'), ('families', 'place'), ('place', 'undue'), ('undue', 'emphasis'), ('food', 'conversations'), ('conversations', 'center'), ('rich', 'delicacies'), ('rewards', 'withheld'), ('result', 'says'), ('says', 'Jolliffe'), ('child', 'gains'), ('life', 'Food'), ('Food', 'may'), ('may', 'act'), ('sedative', 'giving'), ('giving', 'temporary'), ('temporary', 'emotional'), ('emotional', 'solace'), ('people', 'alcohol'), ('Reports', 'Keys'), ('fairly', 'common'), ('common', 'experience'), ('husband', 'staying'), ('another', 'woman'), ('fishes', 'around'), ('chocolate', 'cake'), ('subconscious', 'feeling'), ('something', 'else'), ('compulsive', 'eaters'), ('downright', 'gluttons'), ('gluttons', 'reducing'), ('Physiologist', 'Keys'), ('Keys', 'flatly'), ('flatly', 'dismisses'), ('appetite', 'depressants'), ('amphetamines', 'Benzedrine'), ('Benzedrine', 'Dexedrine'), ('dangerous', 'crutches'), ('Metrecal', 'Quaker'), ('Quaker', 'Quota'), ('milk', 'formulas'), ('currently', 'winning'), ('winning', 'favor'), ('dieters', 'Metrecal'), ('pretty', 'complete'), ('complete', 'food'), ('contains', 'large'), ('large', 'amounts'), ('protein', 'vitamins'), ('day', 'anyone'), ('lose', 'weight'), ('Keys', 'worries'), ('Metrecal', 'drinker'), ('never', 'make'), ('make', 'either'), ('physiological', 'adjustment'), ('eating', 'smaller'), ('smaller', 'portions'), ('remarkable', 'cholesterol'), ('cholesterol', 'Despite'), ('personal', 'distaste'), ('obesity', 'disgusting'), ('disgusting', 'Keys'), ('incidental', 'interest'), ('much', 'Americans'), ('Americans', 'eat'), ('killer', 'coronary'), ('coronary', 'artery'), ('artery', 'disease'), ('heart', 'fatalities'), ('kills', 'Americans'), ('year', 'twice'), ('cancer', 'five'), ('five', 'times'), ('automobile', 'accidents'), ('accidents', 'Cholesterol'), ('mysterious', 'yellowish'), ('yellowish', 'waxy'), ('waxy', 'substance'), ('substance', 'chemically'), ('crystalline', 'alcohol'), ('alcohol', 'Scientists'), ('Scientists', 'assume'), ('Greek', 'chole'), ('chole', 'meaning'), ('meaning', 'bile'), ('sterios', 'meaning'), ('meaning', 'solid'), ('somehow', 'necessary'), ('brain', 'cells'), ('cells', 'since'), ('total', 'solid'), ('solid', 'weight'), ('chief', 'ingredient'), ('adrenal', 'hormones'), ('fats', 'throughout'), ('circulatory', 'system'), ('cannot', 'fully'), ('fully', 'explain'), ('human', 'liver'), ('liver', 'Although'), ('fatty', 'protein'), ('protein', 'molecules'), ('molecules', 'carried'), ('partly', 'composed'), ('water', 'soluble'), ('soluble', 'cholesterol'), ('remarkable', 'substance'), ('substance', 'says'), ('says', 'Keys'), ('Keys', 'quite'), ('quite', 'apart'), ('thus', 'deposited'), ('deposited', 'Keys'), ('Keys', 'says'), ('mainly', 'responsible'), ('arterial', 'blockages'), ('heart', 'attacks'), ('attacks', 'Explains'), ('Explains', 'Keys'), ('fatty', 'protein'), ('protein', 'molecules'), ('molecules', 'travel'), ('inner', 'wall'), ('coronary', 'artery'), ('left', 'behind'), ('cholesterol', 'piles'), ('narrows', 'irritates'), ('artery', 'encouraging'), ('encouraging', 'formation'), ('calcium', 'deposits'), ('slowing', 'circulation'), ('circulation', 'Eventually'), ('Eventually', 'says'), ('says', 'Keys'), ('Keys', 'one'), ('two', 'things'), ('things', 'happens'), ('clot', 'forms'), ('site', 'seals'), ('heart', 'attack'), ('commonly', 'thinks'), ('thinks', 'Keys'), ('infarct', 'occurs'), ('heart', 'muscle'), ('suffocated', 'cells'), ('cells', 'supplied'), ('artery', 'die'), ('permanently', 'perhaps'), ('perhaps', 'fatally'), ('fatally', 'injured'), ('injured', 'Fats'), ('Fats', 'coronaries'), ('coronaries', 'Ordinarily'), ('human', 'liver'), ('liver', 'synthesizes'), ('enough', 'cholesterol'), ('bile', 'Even'), ('Even', 'eggs'), ('foods', 'eaten'), ('normal', 'amounts'), ('amounts', 'says'), ('says', 'Keys'), ('materially', 'affect'), ('fatty', 'foods'), ('World', 'War'), ('War', 'doctors'), ('Scandinavia', 'noted'), ('curious', 'fact'), ('fact', 'despite'), ('Nazi', 'occupation'), ('death', 'rate'), ('coronary', 'artery'), ('artery', 'disease'), ('slowly', 'dropping'), ('year', 'Haqvin'), ('Haqvin', 'Malmros'), ('Malmros', 'showed'), ('sinking', 'death'), ('death', 'rate'), ('rate', 'neatly'), ('neatly', 'coincided'), ('increasingly', 'severe'), ('severe', 'restrictions'), ('fatty', 'foods'), ('Laurance', 'Kinsell'), ('Kinsell', 'timing'), ('timing', 'oxidation'), ('oxidation', 'rates'), ('blood', 'fats'), ('fats', 'stumbled'), ('stumbled', 'onto'), ('many', 'vegetable'), ('vegetable', 'fats'), ('fats', 'cause'), ('cause', 'blood'), ('blood', 'cholesterol'), ('cholesterol', 'levels'), ('drop', 'radically'), ('animal', 'fats'), ('fats', 'cause'), ('Rockefeller', 'Institute'), ('Institute', 'took'), ('chemical', 'difference'), ('animal', 'fats'), ('different', 'varieties'), ('natural', 'food'), ('food', 'fats'), ('fats', 'fall'), ('three', 'categories'), ('categories', 'saturated'), ('saturation', 'depends'), ('hydrogen', 'atoms'), ('fat', 'molecule'), ('molecule', 'Saturated'), ('Saturated', 'fats'), ('hydrogens', 'fats'), ('fat', 'molecule'), ('least', 'four'), ('four', 'hydrogens'), ('three', 'fats'), ('similar', 'caloric'), ('caloric', 'values'), ('calories', 'per'), ('radically', 'different'), ('different', 'influence'), ('blood', 'cholesterol')]\n"
     ]
    }
   ],
   "source": [
    "printBigrams(brown.words(categories='reviews'))"
   ]
  },
  {
   "cell_type": "markdown",
   "metadata": {},
   "source": [
    "#### Exercise 19\n",
    "Write a program to create a table of word frequencies by genre, like the one given in 1 for modals. Choose your own words and try to find words whose presence (or absence) is typical of a genre. Discuss your findings"
   ]
  },
  {
   "cell_type": "code",
   "execution_count": 59,
   "metadata": {},
   "outputs": [
    {
     "name": "stdout",
     "output_type": "stream",
     "text": [
      "['adventure', 'belles_lettres', 'editorial', 'fiction', 'government', 'hobbies', 'humor', 'learned', 'lore', 'mystery', 'news', 'religion', 'reviews', 'romance', 'science_fiction']\n"
     ]
    }
   ],
   "source": [
    "print(brown.categories())"
   ]
  },
  {
   "cell_type": "code",
   "execution_count": 60,
   "metadata": {},
   "outputs": [],
   "source": [
    "words=['love','president','god']"
   ]
  },
  {
   "cell_type": "code",
   "execution_count": 61,
   "metadata": {},
   "outputs": [
    {
     "name": "stdout",
     "output_type": "stream",
     "text": [
      "                     god      love president \n",
      "belles_lettres        36        72        57 \n",
      "          news         8         3       142 \n",
      "      religion       136        13         3 \n"
     ]
    }
   ],
   "source": [
    "cfdBrown=nltk.ConditionalFreqDist((genre,word) for word in words\n",
    "        for genre in brown.categories() for w in [w.lower() for w in brown.words(categories=genre)] if w==word)\n",
    "cfdBrown.tabulate(conditions=['belles_lettres','news','religion'])"
   ]
  },
  {
   "cell_type": "markdown",
   "metadata": {},
   "source": [
    "The word counts are absolutely typical of the genres"
   ]
  },
  {
   "cell_type": "markdown",
   "metadata": {},
   "source": [
    "#### Exercise 20\n",
    "Write a function word_freq() that takes a word and the name of a section of the Brown Corpus as arguments, and computes the frequency of the word in that section of the corpus."
   ]
  },
  {
   "cell_type": "code",
   "execution_count": 62,
   "metadata": {},
   "outputs": [],
   "source": [
    "def word_freq(word,category):\n",
    "    words=brown.words(categories=category);\n",
    "    words=[w.lower() for w in words]\n",
    "    freq=FreqDist(words);\n",
    "    print(freq[word]);"
   ]
  },
  {
   "cell_type": "code",
   "execution_count": 63,
   "metadata": {},
   "outputs": [
    {
     "name": "stdout",
     "output_type": "stream",
     "text": [
      "136\n"
     ]
    }
   ],
   "source": [
    "word_freq('god','religion')"
   ]
  },
  {
   "cell_type": "markdown",
   "metadata": {},
   "source": [
    "#### Exercise 21\n",
    "Write a program to guess the number of syllables contained in a text, making use of the CMU Pronouncing Dictionary."
   ]
  },
  {
   "cell_type": "code",
   "execution_count": 64,
   "metadata": {},
   "outputs": [],
   "source": [
    "cmudict=dict(cmu);\n",
    "def guess_syllables(text):\n",
    "    syllables=0;\n",
    "    words=[w.lower() for w in text if w.isalpha()];\n",
    "    for w in words:\n",
    "        if w in cmudict.keys():\n",
    "            for p in cmudict[w]:\n",
    "                if not p.isalpha():\n",
    "                    syllables+=1;\n",
    "        else:\n",
    "            print(w,'doesn\\'t exist in cmu dictionary');\n",
    "    return syllables;"
   ]
  },
  {
   "cell_type": "code",
   "execution_count": 65,
   "metadata": {},
   "outputs": [
    {
     "data": {
      "text/plain": [
       "9"
      ]
     },
     "execution_count": 65,
     "metadata": {},
     "output_type": "execute_result"
    }
   ],
   "source": [
    "guess_syllables(['I','love','Natural','Language','Processing'])"
   ]
  },
  {
   "cell_type": "code",
   "execution_count": 66,
   "metadata": {},
   "outputs": [
    {
     "data": {
      "text/plain": [
       "13"
      ]
     },
     "execution_count": 66,
     "metadata": {},
     "output_type": "execute_result"
    }
   ],
   "source": [
    "guess_syllables(['It\\'s','a','beautiful','night','looking','for','something','dumb','to','do'])"
   ]
  },
  {
   "cell_type": "markdown",
   "metadata": {},
   "source": [
    "#### Exercise 22\n",
    "Define a function hedge(text) which processes a text and produces a new version with the word 'like' between every third word."
   ]
  },
  {
   "cell_type": "code",
   "execution_count": 67,
   "metadata": {},
   "outputs": [],
   "source": [
    "def hedge(text):\n",
    "    length=len(text);\n",
    "    i=3;\n",
    "    while i<=(length):\n",
    "        text.insert(i,'like');\n",
    "        i=i+4;\n",
    "        length=len(text);\n",
    "    return text;"
   ]
  },
  {
   "cell_type": "code",
   "execution_count": 68,
   "metadata": {},
   "outputs": [
    {
     "data": {
      "text/plain": [
       "['I', 'love', 'Natural', 'like', 'Language', 'Processing']"
      ]
     },
     "execution_count": 68,
     "metadata": {},
     "output_type": "execute_result"
    }
   ],
   "source": [
    "hedge(['I','love','Natural','Language','Processing'])"
   ]
  },
  {
   "cell_type": "markdown",
   "metadata": {},
   "source": [
    "#### Exercise 23\n",
    "★ Zipf's Law: Let f(w) be the frequency of a word w in free text. Suppose that all the words of a text are ranked according to their frequency, with the most frequent word first. Zipf's law states that the frequency of a word type is inversely proportional to its rank (i.e. f × r = k, for some constant k). For example, the 50th most common word type should occur three times as frequently as the 150th most common word type.\n",
    "* Write a function to process a large text and plot word frequency against word rank using pylab.plot. Do you confirm Zipf's law? (Hint: it helps to use a logarithmic scale). What is going on at the extreme ends of the plotted line?\n",
    "* Generate random text, e.g., using random.choice(\"abcdefg \"), taking care to include the space character. You will need to import random first. Use the string concatenation operator to accumulate characters into a (very) long string. Then tokenize this string, and generate the Zipf plot as before, and compare the two plots. What do you make of Zipf's Law in the light of this?"
   ]
  },
  {
   "cell_type": "code",
   "execution_count": 69,
   "metadata": {},
   "outputs": [],
   "source": [
    "import numpy as np\n",
    "def zipfPlot(text):\n",
    "    words=[w.lower() for w in text if w.isalpha() and len(w)>=2]\n",
    "    freq=FreqDist(words);\n",
    "    freq=freq.most_common();\n",
    "    ranks={}\n",
    "    for i,p in enumerate(freq,1):\n",
    "        ranks[p[0]]=(i,p[1]);\n",
    "    df=pd.DataFrame(ranks);\n",
    "    df=df.T;\n",
    "    df.columns=['rank','frequency'];\n",
    "    df['logrank']=np.log(df['rank']);\n",
    "    df['logfrequency']=np.log(df['frequency']);\n",
    "    return df;"
   ]
  },
  {
   "cell_type": "code",
   "execution_count": 70,
   "metadata": {},
   "outputs": [
    {
     "data": {
      "text/html": [
       "<div>\n",
       "<style scoped>\n",
       "    .dataframe tbody tr th:only-of-type {\n",
       "        vertical-align: middle;\n",
       "    }\n",
       "\n",
       "    .dataframe tbody tr th {\n",
       "        vertical-align: top;\n",
       "    }\n",
       "\n",
       "    .dataframe thead th {\n",
       "        text-align: right;\n",
       "    }\n",
       "</style>\n",
       "<table border=\"1\" class=\"dataframe\">\n",
       "  <thead>\n",
       "    <tr style=\"text-align: right;\">\n",
       "      <th></th>\n",
       "      <th>rank</th>\n",
       "      <th>frequency</th>\n",
       "      <th>logrank</th>\n",
       "      <th>logfrequency</th>\n",
       "    </tr>\n",
       "  </thead>\n",
       "  <tbody>\n",
       "    <tr>\n",
       "      <th>the</th>\n",
       "      <td>1</td>\n",
       "      <td>14431</td>\n",
       "      <td>0.000000</td>\n",
       "      <td>9.577134</td>\n",
       "    </tr>\n",
       "    <tr>\n",
       "      <th>of</th>\n",
       "      <td>2</td>\n",
       "      <td>6609</td>\n",
       "      <td>0.693147</td>\n",
       "      <td>8.796188</td>\n",
       "    </tr>\n",
       "    <tr>\n",
       "      <th>and</th>\n",
       "      <td>3</td>\n",
       "      <td>6430</td>\n",
       "      <td>1.098612</td>\n",
       "      <td>8.768730</td>\n",
       "    </tr>\n",
       "    <tr>\n",
       "      <th>to</th>\n",
       "      <td>4</td>\n",
       "      <td>4625</td>\n",
       "      <td>1.386294</td>\n",
       "      <td>8.439232</td>\n",
       "    </tr>\n",
       "    <tr>\n",
       "      <th>in</th>\n",
       "      <td>5</td>\n",
       "      <td>4172</td>\n",
       "      <td>1.609438</td>\n",
       "      <td>8.336151</td>\n",
       "    </tr>\n",
       "  </tbody>\n",
       "</table>\n",
       "</div>"
      ],
      "text/plain": [
       "     rank  frequency   logrank  logfrequency\n",
       "the     1      14431  0.000000      9.577134\n",
       "of      2       6609  0.693147      8.796188\n",
       "and     3       6430  1.098612      8.768730\n",
       "to      4       4625  1.386294      8.439232\n",
       "in      5       4172  1.609438      8.336151"
      ]
     },
     "execution_count": 70,
     "metadata": {},
     "output_type": "execute_result"
    }
   ],
   "source": [
    "df=zipfPlot(text1)\n",
    "df.head()"
   ]
  },
  {
   "cell_type": "code",
   "execution_count": 71,
   "metadata": {},
   "outputs": [
    {
     "data": {
      "text/plain": [
       "<matplotlib.axes._subplots.AxesSubplot at 0x1a43fc2160>"
      ]
     },
     "execution_count": 71,
     "metadata": {},
     "output_type": "execute_result"
    },
    {
     "data": {
      "image/png": "[encoded data removed]",
      "text/plain": [
       "<Figure size 432x288 with 1 Axes>"
      ]
     },
     "metadata": {
      "needs_background": "light"
     },
     "output_type": "display_data"
    }
   ],
   "source": [
    "df.plot(x='rank',y='frequency')"
   ]
  },
  {
   "cell_type": "code",
   "execution_count": 72,
   "metadata": {
    "scrolled": true
   },
   "outputs": [
    {
     "data": {
      "text/plain": [
       "<matplotlib.axes._subplots.AxesSubplot at 0x1a2d25bd68>"
      ]
     },
     "execution_count": 72,
     "metadata": {},
     "output_type": "execute_result"
    },
    {
     "data": {
      "image/png": "[encoded data removed]",
      "text/plain": [
       "<Figure size 432x288 with 1 Axes>"
      ]
     },
     "metadata": {
      "needs_background": "light"
     },
     "output_type": "display_data"
    }
   ],
   "source": [
    "df.plot(x='logrank',y='logfrequency')"
   ]
  },
  {
   "cell_type": "markdown",
   "metadata": {},
   "source": [
    "At the extreme ends, the most and less frequent words have less than the required frequency to follow zipf's law"
   ]
  },
  {
   "cell_type": "code",
   "execution_count": 73,
   "metadata": {},
   "outputs": [],
   "source": [
    "import random\n",
    "def generateRandomText(size):\n",
    "    text='';\n",
    "    for i in range(size):\n",
    "        text+=random.choice('abcdefg ');\n",
    "    return text"
   ]
  },
  {
   "cell_type": "code",
   "execution_count": 74,
   "metadata": {},
   "outputs": [
    {
     "data": {
      "text/plain": [
       "['ggbcbeb', 'fcdddafcadgbbg', 'eaeefe', 'dgf', '']"
      ]
     },
     "execution_count": 74,
     "metadata": {},
     "output_type": "execute_result"
    }
   ],
   "source": [
    "text=generateRandomText(300000).split(' ');\n",
    "text[:5]"
   ]
  },
  {
   "cell_type": "code",
   "execution_count": 75,
   "metadata": {},
   "outputs": [
    {
     "data": {
      "text/html": [
       "<div>\n",
       "<style scoped>\n",
       "    .dataframe tbody tr th:only-of-type {\n",
       "        vertical-align: middle;\n",
       "    }\n",
       "\n",
       "    .dataframe tbody tr th {\n",
       "        vertical-align: top;\n",
       "    }\n",
       "\n",
       "    .dataframe thead th {\n",
       "        text-align: right;\n",
       "    }\n",
       "</style>\n",
       "<table border=\"1\" class=\"dataframe\">\n",
       "  <thead>\n",
       "    <tr style=\"text-align: right;\">\n",
       "      <th></th>\n",
       "      <th>rank</th>\n",
       "      <th>frequency</th>\n",
       "      <th>logrank</th>\n",
       "      <th>logfrequency</th>\n",
       "    </tr>\n",
       "  </thead>\n",
       "  <tbody>\n",
       "    <tr>\n",
       "      <th>ce</th>\n",
       "      <td>1</td>\n",
       "      <td>95</td>\n",
       "      <td>0.000000</td>\n",
       "      <td>4.553877</td>\n",
       "    </tr>\n",
       "    <tr>\n",
       "      <th>aa</th>\n",
       "      <td>2</td>\n",
       "      <td>93</td>\n",
       "      <td>0.693147</td>\n",
       "      <td>4.532599</td>\n",
       "    </tr>\n",
       "    <tr>\n",
       "      <th>bf</th>\n",
       "      <td>3</td>\n",
       "      <td>90</td>\n",
       "      <td>1.098612</td>\n",
       "      <td>4.499810</td>\n",
       "    </tr>\n",
       "    <tr>\n",
       "      <th>cg</th>\n",
       "      <td>4</td>\n",
       "      <td>90</td>\n",
       "      <td>1.386294</td>\n",
       "      <td>4.499810</td>\n",
       "    </tr>\n",
       "    <tr>\n",
       "      <th>ed</th>\n",
       "      <td>5</td>\n",
       "      <td>88</td>\n",
       "      <td>1.609438</td>\n",
       "      <td>4.477337</td>\n",
       "    </tr>\n",
       "  </tbody>\n",
       "</table>\n",
       "</div>"
      ],
      "text/plain": [
       "    rank  frequency   logrank  logfrequency\n",
       "ce     1         95  0.000000      4.553877\n",
       "aa     2         93  0.693147      4.532599\n",
       "bf     3         90  1.098612      4.499810\n",
       "cg     4         90  1.386294      4.499810\n",
       "ed     5         88  1.609438      4.477337"
      ]
     },
     "execution_count": 75,
     "metadata": {},
     "output_type": "execute_result"
    }
   ],
   "source": [
    "df=zipfPlot(text)\n",
    "df.head()"
   ]
  },
  {
   "cell_type": "code",
   "execution_count": 76,
   "metadata": {},
   "outputs": [
    {
     "data": {
      "text/plain": [
       "<matplotlib.axes._subplots.AxesSubplot at 0x1a41245cf8>"
      ]
     },
     "execution_count": 76,
     "metadata": {},
     "output_type": "execute_result"
    },
    {
     "data": {
      "image/png": "[encoded data removed]",
      "text/plain": [
       "<Figure size 432x288 with 1 Axes>"
      ]
     },
     "metadata": {
      "needs_background": "light"
     },
     "output_type": "display_data"
    }
   ],
   "source": [
    "df.plot(x='rank',y='frequency')"
   ]
  },
  {
   "cell_type": "code",
   "execution_count": 77,
   "metadata": {
    "scrolled": true
   },
   "outputs": [
    {
     "data": {
      "text/plain": [
       "<matplotlib.axes._subplots.AxesSubplot at 0x1a4179b668>"
      ]
     },
     "execution_count": 77,
     "metadata": {},
     "output_type": "execute_result"
    },
    {
     "data": {
      "image/png": "[encoded data removed]",
      "text/plain": [
       "<Figure size 432x288 with 1 Axes>"
      ]
     },
     "metadata": {
      "needs_background": "light"
     },
     "output_type": "display_data"
    }
   ],
   "source": [
    "df.plot(x='logrank',y='logfrequency')"
   ]
  },
  {
   "cell_type": "markdown",
   "metadata": {},
   "source": [
    "The random text doesn't follow Zipf's law at all"
   ]
  },
  {
   "cell_type": "markdown",
   "metadata": {},
   "source": [
    "#### Exercise 24\n",
    "Modify the text generation program in 2.2 further, to do the following tasks:<br>\n",
    "* Store the n most likely words in a list words then randomly choose a word from the list using random.choice(). (You will need to import random first.)<br>\n",
    "* Select a particular genre, such as a section of the Brown Corpus, or a genesis translation, one of the Gutenberg texts, or one of the Web texts. Train the model on this corpus and get it to generate random text. You may have to experiment with different start words. How intelligible is the text? Discuss the strengths and weaknesses of this method of generating random text.<br>\n",
    "* Now train your system using two distinct genres and experiment with generating text in the hybrid genre. Discuss your observations.<br>"
   ]
  },
  {
   "cell_type": "code",
   "execution_count": 78,
   "metadata": {},
   "outputs": [],
   "source": [
    "bigramsBrown = nltk.bigrams(brownWords)\n",
    "cfdBigramsBrown = nltk.ConditionalFreqDist(bigramsBrown)"
   ]
  },
  {
   "cell_type": "code",
   "execution_count": 79,
   "metadata": {},
   "outputs": [],
   "source": [
    "def generate_model(cfd,word,n,numWords=15):\n",
    "    for i in range(numWords):\n",
    "        print(word,end=' ');\n",
    "        words=[i for i,j in cfd[word].most_common(n)];\n",
    "        try:\n",
    "            word = random.choice(words)\n",
    "        except:\n",
    "            print('word doesn\\'t exist');\n",
    "            break;"
   ]
  },
  {
   "cell_type": "code",
   "execution_count": 80,
   "metadata": {},
   "outputs": [
    {
     "name": "stdout",
     "output_type": "stream",
     "text": [
      "like to be taken over coals 15-20 minutes with two or for him at Westminster "
     ]
    }
   ],
   "source": [
    "generate_model(cfdBigramsBrown,'like',10)"
   ]
  },
  {
   "cell_type": "code",
   "execution_count": 81,
   "metadata": {},
   "outputs": [
    {
     "name": "stdout",
     "output_type": "stream",
     "text": [
      "new medical and the last year as they also recommended by an official of its "
     ]
    }
   ],
   "source": [
    "cfdNews = nltk.ConditionalFreqDist(nltk.bigrams(w.lower() for w in brown.words(categories='news') if w.isalpha()))\n",
    "generate_model(cfdNews,'new',10)"
   ]
  },
  {
   "cell_type": "code",
   "execution_count": 82,
   "metadata": {},
   "outputs": [
    {
     "name": "stdout",
     "output_type": "stream",
     "text": [
      "major factor which is expected back on to be made a new york ap turkish "
     ]
    }
   ],
   "source": [
    "generate_model(cfdNews,'major',10)"
   ]
  },
  {
   "cell_type": "markdown",
   "metadata": {},
   "source": [
    "The random text generated from this system is only partly intelligible. The main problem with it is that, if in some text there are two words that are rare, there is a chance for them to get selected together making the whole text rare and meaningless"
   ]
  },
  {
   "cell_type": "code",
   "execution_count": 83,
   "metadata": {
    "scrolled": true
   },
   "outputs": [
    {
     "name": "stdout",
     "output_type": "stream",
     "text": [
      "new one more foreign countries and he did not the president eisenhower and that he "
     ]
    }
   ],
   "source": [
    "cfdNewsRom = nltk.ConditionalFreqDist(nltk.bigrams(w.lower() for w in brown.words(categories=['news','romance']) if w.isalpha()))\n",
    "generate_model(cfdNewsRom,'new',10)"
   ]
  },
  {
   "cell_type": "markdown",
   "metadata": {},
   "source": [
    "This system has a chance to generate some awkward sentences in addition to the meaningless"
   ]
  },
  {
   "cell_type": "markdown",
   "metadata": {},
   "source": [
    "#### Exercise 25\n",
    "Define a function find_language() that takes a string as its argument, and returns a list of languages that have that string as a word. Use the udhr corpus and limit your searches to files in the Latin-1 encoding."
   ]
  },
  {
   "cell_type": "code",
   "execution_count": 84,
   "metadata": {},
   "outputs": [],
   "source": [
    "from nltk.corpus import udhr\n",
    "def find_language(string):\n",
    "    languages=[];\n",
    "    for fileid in udhr.fileids():\n",
    "        if 'Latin1' in fileid and string in [w.lower() for w in udhr.words(fileid)]:\n",
    "            languages.append(fileid[:-7]);\n",
    "    return languages;"
   ]
  },
  {
   "cell_type": "code",
   "execution_count": 85,
   "metadata": {},
   "outputs": [
    {
     "data": {
      "text/plain": [
       "['NigerianPidginEnglish',\n",
       " 'Norwegian',\n",
       " 'Norwegian_Norsk-Bokmal',\n",
       " 'Norwegian_Norsk-Nynorsk']"
      ]
     },
     "execution_count": 85,
     "metadata": {},
     "output_type": "execute_result"
    }
   ],
   "source": [
    "find_language('like')"
   ]
  },
  {
   "cell_type": "markdown",
   "metadata": {},
   "source": [
    "#### Exercise 26\n",
    "What is the branching factor of the noun hypernym hierarchy? I.e. for every noun synset that has hyponyms — or children in the hypernym hierarchy — how many do they have on average? You can get all noun synsets using wn.all_synsets('n')."
   ]
  },
  {
   "cell_type": "code",
   "execution_count": 86,
   "metadata": {},
   "outputs": [],
   "source": [
    "def branchingFactor(synsets):\n",
    "    path=0;\n",
    "    count=0;\n",
    "    for synset in synsets:\n",
    "        hyponyms=synset.hyponyms();\n",
    "        if len(hyponyms)>0:\n",
    "            count+=1;\n",
    "            path+=len(hyponyms);\n",
    "    return round(path/count,2);"
   ]
  },
  {
   "cell_type": "code",
   "execution_count": 87,
   "metadata": {},
   "outputs": [
    {
     "data": {
      "text/plain": [
       "4.54"
      ]
     },
     "execution_count": 87,
     "metadata": {},
     "output_type": "execute_result"
    }
   ],
   "source": [
    "branchingFactor(wn.all_synsets('n'))"
   ]
  },
  {
   "cell_type": "markdown",
   "metadata": {},
   "source": [
    "#### Exercise 27\n",
    "The polysemy of a word is the number of senses it has. Using WordNet, we can determine that the noun dog has 7 senses with: len(wn.synsets('dog', 'n')). Compute the average polysemy of nouns, verbs, adjectives and adverbs according to WordNet."
   ]
  },
  {
   "cell_type": "code",
   "execution_count": 88,
   "metadata": {},
   "outputs": [],
   "source": [
    "def avg_polysemy(pos):\n",
    "    path=0;\n",
    "    seen_words=[];\n",
    "    synsets=wn.all_synsets(pos);\n",
    "    for synset in synsets:\n",
    "        lemma_names=synset.lemma_names();\n",
    "        for lemma in lemma_names:\n",
    "            if lemma not in seen_words:\n",
    "                seen_words.append(lemma);\n",
    "                path+=len(wn.synsets(lemma,pos))\n",
    "    return round(path/len(seen_words),2);"
   ]
  },
  {
   "cell_type": "code",
   "execution_count": 89,
   "metadata": {
    "scrolled": true
   },
   "outputs": [
    {
     "data": {
      "text/plain": [
       "1.28"
      ]
     },
     "execution_count": 89,
     "metadata": {},
     "output_type": "execute_result"
    }
   ],
   "source": [
    "avg_polysemy('n')"
   ]
  },
  {
   "cell_type": "code",
   "execution_count": 90,
   "metadata": {},
   "outputs": [
    {
     "data": {
      "text/plain": [
       "2.19"
      ]
     },
     "execution_count": 90,
     "metadata": {},
     "output_type": "execute_result"
    }
   ],
   "source": [
    "avg_polysemy('v')"
   ]
  },
  {
   "cell_type": "code",
   "execution_count": 99,
   "metadata": {},
   "outputs": [
    {
     "data": {
      "text/plain": [
       "1.41"
      ]
     },
     "execution_count": 99,
     "metadata": {},
     "output_type": "execute_result"
    }
   ],
   "source": [
    "avg_polysemy('a')"
   ]
  },
  {
   "cell_type": "code",
   "execution_count": 100,
   "metadata": {},
   "outputs": [
    {
     "data": {
      "text/plain": [
       "1.25"
      ]
     },
     "execution_count": 100,
     "metadata": {},
     "output_type": "execute_result"
    }
   ],
   "source": [
    "avg_polysemy('r')"
   ]
  },
  {
   "cell_type": "markdown",
   "metadata": {},
   "source": [
    "#### Exercise 28\n",
    "Use one of the predefined similarity measures to score the similarity of each of the following pairs of words. Rank the pairs in order of decreasing similarity. How close is your ranking to the order given here, an order that was established experimentally by (Miller & Charles, 1998): car-automobile, gem-jewel, journey-voyage, boy-lad, coast-shore, asylum-madhouse, magician-wizard, midday-noon, furnace-stove, food-fruit, bird-cock, bird-crane, tool-implement, brother-monk, lad-brother, crane-implement, journey-car, monk-oracle, cemetery-woodland, food-rooster, coast-hill, forest-graveyard, shore-woodland, monk-slave, coast-forest, lad-wizard, chord-smile, glass-magician, rooster-voyage, noon-string."
   ]
  },
  {
   "cell_type": "code",
   "execution_count": 91,
   "metadata": {},
   "outputs": [],
   "source": [
    "def FindSimilarity(word1,word2):\n",
    "    syn1=wn.synset(word1);\n",
    "    syn2=wn.synset(word2);\n",
    "    return syn1.path_similarity(syn2)"
   ]
  },
  {
   "cell_type": "code",
   "execution_count": 92,
   "metadata": {
    "scrolled": true
   },
   "outputs": [],
   "source": [
    "words=['car-automobile', 'gem-jewel', 'journey-voyage', 'boy-lad', \n",
    "       'coast-shore', 'asylum-madhouse', 'magician-wizard', 'midday-noon', \n",
    "       'furnace-stove', 'food-fruit', 'bird-cock', 'bird-crane', 'tool-implement', \n",
    "       'brother-monk', 'lad-brother', 'crane-implement', 'journey-car', \n",
    "       'monk-oracle', 'cemetery-woodland', 'food-rooster', 'coast-hill', \n",
    "       'forest-graveyard', 'shore-woodland', 'monk-slave', 'coast-forest', \n",
    "       'lad-wizard', 'chord-smile', 'glass-magician', 'rooster-voyage', \n",
    "       'noon-string']"
   ]
  },
  {
   "cell_type": "code",
   "execution_count": 93,
   "metadata": {},
   "outputs": [],
   "source": [
    "def SimilarityMeasures():\n",
    "    s=[]\n",
    "    for w in words:\n",
    "        word1,word2=w.split('-');\n",
    "        word1+='.n.01';\n",
    "        word2+='.n.01';\n",
    "        s.append((round(FindSimilarity(word1,word2),2),w));\n",
    "    return sorted(s,reverse=True)"
   ]
  },
  {
   "cell_type": "code",
   "execution_count": 94,
   "metadata": {},
   "outputs": [
    {
     "data": {
      "text/plain": [
       "[(1.0, 'midday-noon'),\n",
       " (1.0, 'car-automobile'),\n",
       " (0.5, 'tool-implement'),\n",
       " (0.5, 'coast-shore'),\n",
       " (0.33, 'boy-lad'),\n",
       " (0.25, 'journey-voyage'),\n",
       " (0.2, 'shore-woodland'),\n",
       " (0.2, 'monk-slave'),\n",
       " (0.2, 'lad-wizard'),\n",
       " (0.2, 'coast-hill'),\n",
       " (0.17, 'magician-wizard'),\n",
       " (0.14, 'lad-brother'),\n",
       " (0.12, 'monk-oracle'),\n",
       " (0.12, 'gem-jewel'),\n",
       " (0.12, 'brother-monk'),\n",
       " (0.12, 'asylum-madhouse'),\n",
       " (0.11, 'glass-magician'),\n",
       " (0.11, 'cemetery-woodland'),\n",
       " (0.11, 'bird-crane'),\n",
       " (0.1, 'crane-implement'),\n",
       " (0.09, 'food-fruit'),\n",
       " (0.09, 'coast-forest'),\n",
       " (0.09, 'chord-smile'),\n",
       " (0.08, 'furnace-stove'),\n",
       " (0.07, 'forest-graveyard'),\n",
       " (0.06, 'noon-string'),\n",
       " (0.06, 'food-rooster'),\n",
       " (0.06, 'bird-cock'),\n",
       " (0.05, 'journey-car'),\n",
       " (0.04, 'rooster-voyage')]"
      ]
     },
     "execution_count": 94,
     "metadata": {},
     "output_type": "execute_result"
    }
   ],
   "source": [
    "SimilarityMeasures()"
   ]
  },
  {
   "cell_type": "markdown",
   "metadata": {},
   "source": [
    "Very much different!"
   ]
  }
 ],
 "metadata": {
  "kernelspec": {
   "display_name": "Python 3",
   "language": "python",
   "name": "python3"
  },
  "language_info": {
   "codemirror_mode": {
    "name": "ipython",
    "version": 3
   },
   "file_extension": ".py",
   "mimetype": "text/x-python",
   "name": "python",
   "nbconvert_exporter": "python",
   "pygments_lexer": "ipython3",
   "version": "3.7.0"
  }
 },
 "nbformat": 4,
 "nbformat_minor": 2
}
