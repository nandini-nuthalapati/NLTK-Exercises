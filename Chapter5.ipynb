{
 "cells": [
  {
   "cell_type": "markdown",
   "metadata": {},
   "source": [
    "#### Exercise 1\n",
    "Search the web for \"spoof newspaper headlines\", to find such gems as: British Left Waffles on Falkland Islands, and Juvenile Court to Try Shooting Defendant. Manually tag these headlines to see if knowledge of the part-of-speech tags removes the ambiguity."
   ]
  },
  {
   "cell_type": "markdown",
   "metadata": {},
   "source": [
    "Kids(NOUN) Make(are) Nutritious(ADJ) Snacks(NOUN) - Predicted\n",
    "Kids(NOUN) Make(VERB, prepare) Nutritious(ADJ) Snacks(NOUN) - Actual"
   ]
  },
  {
   "cell_type": "markdown",
   "metadata": {},
   "source": [
    "The above headline can mean that kids are nutritious snacks which is funny. Another meaning could be that Kids is a company that prepares nutritious snacks. Another interpretation can be kids cook nutritions snacks"
   ]
  },
  {
   "cell_type": "markdown",
   "metadata": {},
   "source": [
    "Below code is an experimentation to see how the taggers work on such ambiguous sentences"
   ]
  },
  {
   "cell_type": "code",
   "execution_count": 1,
   "metadata": {},
   "outputs": [],
   "source": [
    "import nltk\n",
    "from nltk.corpus import brown"
   ]
  },
  {
   "cell_type": "code",
   "execution_count": 2,
   "metadata": {},
   "outputs": [],
   "source": [
    "headline1='British Left Waffles on Falkland Islands';\n",
    "headline2='Juvenile Court to Try Shooting Defendant';"
   ]
  },
  {
   "cell_type": "code",
   "execution_count": 3,
   "metadata": {},
   "outputs": [],
   "source": [
    "h1_tokens=nltk.word_tokenize(headline1);\n",
    "h2_tokens=nltk.word_tokenize(headline2);"
   ]
  },
  {
   "cell_type": "code",
   "execution_count": 4,
   "metadata": {},
   "outputs": [
    {
     "data": {
      "text/plain": [
       "[('British', 'NOUN'),\n",
       " ('Left', 'NOUN'),\n",
       " ('Waffles', 'NOUN'),\n",
       " ('on', 'NOUN'),\n",
       " ('Falkland', 'NOUN'),\n",
       " ('Islands', 'NOUN')]"
      ]
     },
     "execution_count": 4,
     "metadata": {},
     "output_type": "execute_result"
    }
   ],
   "source": [
    "t0=nltk.DefaultTagger('NOUN')\n",
    "t0.tag(h1_tokens)"
   ]
  },
  {
   "cell_type": "code",
   "execution_count": 5,
   "metadata": {},
   "outputs": [
    {
     "data": {
      "text/plain": [
       "[('the', 'DET'),\n",
       " ('fulton', 'NOUN'),\n",
       " ('county', 'NOUN'),\n",
       " ('grand', 'ADJ'),\n",
       " ('jury', 'NOUN')]"
      ]
     },
     "execution_count": 5,
     "metadata": {},
     "output_type": "execute_result"
    }
   ],
   "source": [
    "brown_news_words=[(w.lower(),t) for (w,t) in brown.tagged_words(categories='news',tagset='universal')]\n",
    "brown_news_words[:5]"
   ]
  },
  {
   "cell_type": "code",
   "execution_count": 6,
   "metadata": {},
   "outputs": [],
   "source": [
    "def process_sents(corpus_sents):\n",
    "#     corpus_sents=corpus_sents.copy()\n",
    "    for i,sent in enumerate(corpus_sents):\n",
    "        sent_lower=[(w.lower(),t) for (w,t) in sent];\n",
    "        corpus_sents[i]=sent_lower;\n",
    "    return corpus_sents;"
   ]
  },
  {
   "cell_type": "code",
   "execution_count": 7,
   "metadata": {},
   "outputs": [],
   "source": [
    "brown_news_sents=brown.tagged_sents(categories='news',tagset='universal')"
   ]
  },
  {
   "cell_type": "code",
   "execution_count": 8,
   "metadata": {},
   "outputs": [],
   "source": [
    "brown_news_sents=process_sents(list(brown_news_sents))"
   ]
  },
  {
   "cell_type": "code",
   "execution_count": 9,
   "metadata": {},
   "outputs": [],
   "source": [
    "h1_tokens=[w.lower() for w in h1_tokens]\n",
    "h2_tokens=[w.lower() for w in h2_tokens]"
   ]
  },
  {
   "cell_type": "code",
   "execution_count": 10,
   "metadata": {},
   "outputs": [
    {
     "data": {
      "text/plain": [
       "[('juvenile', 'ADJ'),\n",
       " ('court', 'NOUN'),\n",
       " ('to', 'PRT'),\n",
       " ('try', 'VERB'),\n",
       " ('shooting', 'VERB'),\n",
       " ('defendant', 'NOUN')]"
      ]
     },
     "execution_count": 10,
     "metadata": {},
     "output_type": "execute_result"
    }
   ],
   "source": [
    "t1=nltk.UnigramTagger(brown_news_sents)\n",
    "t1.tag(h2_tokens)"
   ]
  },
  {
   "cell_type": "code",
   "execution_count": 11,
   "metadata": {},
   "outputs": [
    {
     "data": {
      "text/plain": [
       "[('juvenile', 'ADJ'),\n",
       " ('court', 'NOUN'),\n",
       " ('to', 'PRT'),\n",
       " ('try', 'VERB'),\n",
       " ('shooting', 'NOUN'),\n",
       " ('defendant', 'NOUN')]"
      ]
     },
     "execution_count": 11,
     "metadata": {},
     "output_type": "execute_result"
    }
   ],
   "source": [
    "t1=nltk.UnigramTagger(brown_news_sents,cutoff=2,backoff=t0)\n",
    "t1.tag(h2_tokens)"
   ]
  },
  {
   "cell_type": "code",
   "execution_count": 12,
   "metadata": {},
   "outputs": [
    {
     "data": {
      "text/plain": [
       "[('british', 'ADJ'),\n",
       " ('left', 'VERB'),\n",
       " ('waffles', 'NOUN'),\n",
       " ('on', 'ADP'),\n",
       " ('falkland', 'NOUN'),\n",
       " ('islands', 'NOUN')]"
      ]
     },
     "execution_count": 12,
     "metadata": {},
     "output_type": "execute_result"
    }
   ],
   "source": [
    "t1.tag(h1_tokens)"
   ]
  },
  {
   "cell_type": "code",
   "execution_count": 13,
   "metadata": {},
   "outputs": [
    {
     "data": {
      "text/plain": [
       "[('british', 'ADJ'),\n",
       " ('left', 'VERB'),\n",
       " ('waffles', 'NOUN'),\n",
       " ('on', 'ADP'),\n",
       " ('falkland', 'NOUN'),\n",
       " ('islands', 'NOUN')]"
      ]
     },
     "execution_count": 13,
     "metadata": {},
     "output_type": "execute_result"
    }
   ],
   "source": [
    "t2=nltk.BigramTagger(brown_news_sents,cutoff=2,backoff=t1)\n",
    "t2.tag(h1_tokens)"
   ]
  },
  {
   "cell_type": "code",
   "execution_count": 14,
   "metadata": {},
   "outputs": [
    {
     "data": {
      "text/plain": [
       "[('juvenile', 'ADJ'),\n",
       " ('court', 'NOUN'),\n",
       " ('to', 'PRT'),\n",
       " ('try', 'VERB'),\n",
       " ('shooting', 'NOUN'),\n",
       " ('defendant', 'NOUN')]"
      ]
     },
     "execution_count": 14,
     "metadata": {},
     "output_type": "execute_result"
    }
   ],
   "source": [
    "t2.tag(h2_tokens)"
   ]
  },
  {
   "cell_type": "markdown",
   "metadata": {},
   "source": [
    "The taggers were not able to catch the correct parts of speech for the ambiguous words"
   ]
  },
  {
   "cell_type": "markdown",
   "metadata": {},
   "source": [
    "#### Exercise 2\n",
    "Working with someone else, take turns to pick a word that can be either a noun or a verb (e.g. contest); the opponent has to predict which one is likely to be the most frequent in the Brown corpus; check the opponent's prediction, and tally the score over several turns."
   ]
  },
  {
   "cell_type": "code",
   "execution_count": 15,
   "metadata": {},
   "outputs": [
    {
     "data": {
      "text/plain": [
       "FreqDist({'VB': 53, 'NN-HL': 1, 'VB-HL': 1})"
      ]
     },
     "execution_count": 15,
     "metadata": {},
     "output_type": "execute_result"
    }
   ],
   "source": [
    "cfd=nltk.ConditionalFreqDist((word,tag) for word,tag in brown.tagged_words())\n",
    "cfd['win']"
   ]
  },
  {
   "cell_type": "code",
   "execution_count": 16,
   "metadata": {},
   "outputs": [
    {
     "data": {
      "text/plain": [
       "FreqDist({'NN': 321, 'NN-HL': 3, 'VB': 2})"
      ]
     },
     "execution_count": 16,
     "metadata": {},
     "output_type": "execute_result"
    }
   ],
   "source": [
    "cfd['power']"
   ]
  },
  {
   "cell_type": "markdown",
   "metadata": {},
   "source": [
    "#### Exercise 3\n",
    "Tokenize and tag the following sentence: They wind back the clock, while we chase after the wind. What different pronunciations and parts of speech are involved?"
   ]
  },
  {
   "cell_type": "code",
   "execution_count": 17,
   "metadata": {},
   "outputs": [],
   "source": [
    "sent='They wind back the clock, while we chase after the wind';\n",
    "sent_tokens=nltk.wordpunct_tokenize(sent)"
   ]
  },
  {
   "cell_type": "code",
   "execution_count": 18,
   "metadata": {},
   "outputs": [],
   "source": [
    "tags=['PRON','VERB','ADP','DET','NOUN','PUNCT','CONJ','PRON','VERB','ADP','DET','NOUN']"
   ]
  },
  {
   "cell_type": "code",
   "execution_count": 19,
   "metadata": {},
   "outputs": [
    {
     "data": {
      "text/plain": [
       "[('They', 'PRON'),\n",
       " ('wind', 'VERB'),\n",
       " ('back', 'ADP'),\n",
       " ('the', 'DET'),\n",
       " ('clock', 'NOUN'),\n",
       " (',', 'PUNCT'),\n",
       " ('while', 'CONJ'),\n",
       " ('we', 'PRON'),\n",
       " ('chase', 'VERB'),\n",
       " ('after', 'ADP'),\n",
       " ('the', 'DET'),\n",
       " ('wind', 'NOUN')]"
      ]
     },
     "execution_count": 19,
     "metadata": {},
     "output_type": "execute_result"
    }
   ],
   "source": [
    "sent_tags=zip(sent_tokens,tags)\n",
    "list(sent_tags)"
   ]
  },
  {
   "cell_type": "markdown",
   "metadata": {},
   "source": [
    "#### Exercise 4\n",
    "Review the mappings in 3.1. Discuss any other examples of mappings you can think of. What type of information do they map from and to?"
   ]
  },
  {
   "cell_type": "markdown",
   "metadata": {},
   "source": [
    "pronunciation dictionary - mapping from words to different pronunciations"
   ]
  },
  {
   "cell_type": "markdown",
   "metadata": {},
   "source": [
    "#### Exercise 5\n",
    "Using the Python interpreter in interactive mode, experiment with the dictionary examples in this chapter. Create a dictionary d, and add some entries. What happens if you try to access a non-existent entry, e.g. d['xyz']?"
   ]
  },
  {
   "cell_type": "code",
   "execution_count": 20,
   "metadata": {},
   "outputs": [],
   "source": [
    "d={'a':1,'b':2}\n",
    "# d[3] - gives key error\n",
    "# KeyError Traceback (most recent call last)\n",
    "# <ipython-input-101-9429970d33d2> in <module>\n",
    "#       1 d={'a':1,'b':2}\n",
    "# ----> 2 d[3]\n",
    "# KeyError: 3"
   ]
  },
  {
   "cell_type": "markdown",
   "metadata": {},
   "source": [
    "#### Exercise 6\n",
    "Try deleting an element from a dictionary d, using the syntax del d['abc']. Check that the item was deleted."
   ]
  },
  {
   "cell_type": "code",
   "execution_count": 21,
   "metadata": {},
   "outputs": [
    {
     "data": {
      "text/plain": [
       "{'b': 2}"
      ]
     },
     "execution_count": 21,
     "metadata": {},
     "output_type": "execute_result"
    }
   ],
   "source": [
    "del d['a']\n",
    "d"
   ]
  },
  {
   "cell_type": "markdown",
   "metadata": {},
   "source": [
    "#### Exercise 7\n",
    "Create two dictionaries, d1 and d2, and add some entries to each. Now issue the command d1.update(d2). What did this do? What might it be useful for?"
   ]
  },
  {
   "cell_type": "code",
   "execution_count": 22,
   "metadata": {},
   "outputs": [
    {
     "data": {
      "text/plain": [
       "{'a': 0, 'b': 1, 'c': 2}"
      ]
     },
     "execution_count": 22,
     "metadata": {},
     "output_type": "execute_result"
    }
   ],
   "source": [
    "d1={'a':1,'b':2}\n",
    "d2={'a':0,'b':1,'c':2}\n",
    "d1.update(d2)\n",
    "d1"
   ]
  },
  {
   "cell_type": "markdown",
   "metadata": {},
   "source": [
    "d1.update(d2) updates the values of the common keys in d1 from d2 and adds the keys that aren't there in d1 <br>\n",
    "This might be useful for designing a translator"
   ]
  },
  {
   "cell_type": "markdown",
   "metadata": {},
   "source": [
    "#### Exercise 8\n",
    "Create a dictionary e, to represent a single lexical entry for some word of your choice. Define keys like headword,  part-of-speech, sense, and example, and assign them suitable values."
   ]
  },
  {
   "cell_type": "code",
   "execution_count": 23,
   "metadata": {},
   "outputs": [
    {
     "data": {
      "text/plain": [
       "{'headword': 'love',\n",
       " 'part-of-speech': ['NOUN', 'VERB'],\n",
       " 'sense': 'an intense feeling of deep affection',\n",
       " 'example': ['love is blind', 'I love NLP']}"
      ]
     },
     "execution_count": 23,
     "metadata": {},
     "output_type": "execute_result"
    }
   ],
   "source": [
    "e={}\n",
    "e.update({'headword':'love','part-of-speech':['NOUN','VERB'],'sense':'an intense feeling of deep affection','example':['love is blind','I love NLP']})\n",
    "e"
   ]
  },
  {
   "cell_type": "markdown",
   "metadata": {},
   "source": [
    "#### Exercise 9\n",
    "Satisfy yourself that there are restrictions on the distribution of go and went, in the sense that they cannot be freely interchanged in the kinds of contexts illustrated in (3d) in 7."
   ]
  },
  {
   "cell_type": "code",
   "execution_count": 24,
   "metadata": {},
   "outputs": [
    {
     "name": "stdout",
     "output_type": "stream",
     "text": [
      "*** Introductory Examples for the NLTK Book ***\n",
      "Loading text1, ..., text9 and sent1, ..., sent9\n",
      "Type the name of the text or sentence to view it.\n",
      "Type: 'texts()' or 'sents()' to list the materials.\n",
      "text1: Moby Dick by Herman Melville 1851\n",
      "text2: Sense and Sensibility by Jane Austen 1811\n",
      "text3: The Book of Genesis\n",
      "text4: Inaugural Address Corpus\n",
      "text5: Chat Corpus\n",
      "text6: Monty Python and the Holy Grail\n",
      "text7: Wall Street Journal\n",
      "text8: Personals Corpus\n",
      "text9: The Man Who Was Thursday by G . K . Chesterton 1908\n"
     ]
    }
   ],
   "source": [
    "from nltk.book import *"
   ]
  },
  {
   "cell_type": "code",
   "execution_count": 25,
   "metadata": {},
   "outputs": [
    {
     "name": "stdout",
     "output_type": "stream",
     "text": [
      "Displaying 5 of 194 matches:\n",
      "by so much the more shall ye for ever go thankless ! Would that I could clear \n",
      "wallow up Jonah .\" -- JONAH . \" There go the ships ; there is that Leviathan w\n",
      "ur children ' s grand - children will go for bread .\" -- OBED MACY ' S HISTORY\n",
      " city of a dreamy Sabbath afternoon . Go from Corlears Hook to Coenties Slip ,\n",
      "ed upon the magic stream before him . Go visit the Prairies in June , when for\n"
     ]
    }
   ],
   "source": [
    "text1.concordance('go',lines=5)"
   ]
  },
  {
   "cell_type": "code",
   "execution_count": 26,
   "metadata": {},
   "outputs": [
    {
     "name": "stdout",
     "output_type": "stream",
     "text": [
      "Displaying 5 of 97 matches:\n",
      "boots are stopping the way . So on I went . I now by instinct followed the str\n",
      "re I did . Supper over , the company went back to the bar - room , when , know\n",
      "stove in the middle of the room , he went about his business , and left me in \n",
      "catches the worm . But to - night he went out a peddling , you see , and I don\n",
      "ter a moment , and then up stairs we went , and I was ushered into a small roo\n"
     ]
    }
   ],
   "source": [
    "text1.concordance('went',lines=5)"
   ]
  },
  {
   "cell_type": "code",
   "execution_count": 27,
   "metadata": {},
   "outputs": [
    {
     "name": "stdout",
     "output_type": "stream",
     "text": [
      "i_to but_on and_to it_, ,_on we_, i_; ,_round\n"
     ]
    }
   ],
   "source": [
    "text1.common_contexts(['go','went'])"
   ]
  },
  {
   "cell_type": "markdown",
   "metadata": {},
   "source": [
    "#### Exercise 10\n",
    "Train a unigram tagger and run it on some new text. Observe that some words are not assigned a tag. Why not?"
   ]
  },
  {
   "cell_type": "code",
   "execution_count": 28,
   "metadata": {},
   "outputs": [
    {
     "data": {
      "text/plain": [
       "[('juvenile', 'ADJ'),\n",
       " ('court', 'NOUN'),\n",
       " ('to', 'PRT'),\n",
       " ('try', 'VERB'),\n",
       " ('shooting', 'VERB'),\n",
       " ('defendant', 'NOUN')]"
      ]
     },
     "execution_count": 28,
     "metadata": {},
     "output_type": "execute_result"
    }
   ],
   "source": [
    "t1=nltk.UnigramTagger(brown_news_sents)\n",
    "t1.tag(h2_tokens)"
   ]
  },
  {
   "cell_type": "code",
   "execution_count": 29,
   "metadata": {},
   "outputs": [
    {
     "data": {
      "text/plain": [
       "[('british', 'ADJ'),\n",
       " ('left', 'VERB'),\n",
       " ('waffles', None),\n",
       " ('on', 'ADP'),\n",
       " ('falkland', None),\n",
       " ('islands', 'NOUN')]"
      ]
     },
     "execution_count": 29,
     "metadata": {},
     "output_type": "execute_result"
    }
   ],
   "source": [
    "t1.tag(h1_tokens)"
   ]
  },
  {
   "cell_type": "markdown",
   "metadata": {},
   "source": [
    "Because they were not seen in the training text"
   ]
  },
  {
   "cell_type": "markdown",
   "metadata": {},
   "source": [
    "#### Exercise 11\n",
    "Learn about the affix tagger (type help(nltk.AffixTagger)). Train an affix tagger and run it on some new text. Experiment with different settings for the affix length and the minimum word length. Discuss your findings."
   ]
  },
  {
   "cell_type": "code",
   "execution_count": 30,
   "metadata": {
    "scrolled": false
   },
   "outputs": [
    {
     "data": {
      "text/plain": [
       "[('british', 'ADP'),\n",
       " ('left', 'NOUN'),\n",
       " ('waffles', 'NOUN'),\n",
       " ('on', None),\n",
       " ('falkland', 'VERB'),\n",
       " ('islands', 'NOUN')]"
      ]
     },
     "execution_count": 30,
     "metadata": {},
     "output_type": "execute_result"
    }
   ],
   "source": [
    "affix_tagger=nltk.AffixTagger(brown_news_sents,affix_length=-1,min_stem_length=2)\n",
    "affix_tagger.tag(h1_tokens)"
   ]
  },
  {
   "cell_type": "code",
   "execution_count": 31,
   "metadata": {},
   "outputs": [
    {
     "data": {
      "text/plain": [
       "[('british', 'ADP'),\n",
       " ('left', 'NOUN'),\n",
       " ('waffles', 'NOUN'),\n",
       " ('on', 'NOUN'),\n",
       " ('falkland', 'VERB'),\n",
       " ('islands', 'NOUN')]"
      ]
     },
     "execution_count": 31,
     "metadata": {},
     "output_type": "execute_result"
    }
   ],
   "source": [
    "affix_tagger=nltk.AffixTagger(brown_news_sents,affix_length=-1,min_stem_length=0)\n",
    "affix_tagger.tag(h1_tokens)"
   ]
  },
  {
   "cell_type": "code",
   "execution_count": 32,
   "metadata": {},
   "outputs": [
    {
     "data": {
      "text/plain": [
       "[('british', 'NOUN'),\n",
       " ('left', 'NOUN'),\n",
       " ('waffles', 'VERB'),\n",
       " ('on', 'ADP'),\n",
       " ('falkland', 'ADP'),\n",
       " ('islands', 'ADP')]"
      ]
     },
     "execution_count": 32,
     "metadata": {},
     "output_type": "execute_result"
    }
   ],
   "source": [
    "affix_tagger=nltk.AffixTagger(brown_news_sents,affix_length=1,min_stem_length=0)\n",
    "affix_tagger.tag(h1_tokens)"
   ]
  },
  {
   "cell_type": "code",
   "execution_count": 33,
   "metadata": {},
   "outputs": [
    {
     "data": {
      "text/plain": [
       "[('waffle', None)]"
      ]
     },
     "execution_count": 33,
     "metadata": {},
     "output_type": "execute_result"
    }
   ],
   "source": [
    "t1.tag(['waffle'])"
   ]
  },
  {
   "cell_type": "markdown",
   "metadata": {},
   "source": [
    "Affix Tagger was atleast able to tag waffles compared to the Unigram Tagger which tagged it to None. When used for prefix, it correctly tags it as VERB but incorrectly tags the other words"
   ]
  },
  {
   "cell_type": "markdown",
   "metadata": {},
   "source": [
    "#### Exercise 12\n",
    "Train a bigram tagger with no backoff tagger, and run it on some of the training data. Next, run it on some new data. What happens to the performance of the tagger? Why?"
   ]
  },
  {
   "cell_type": "code",
   "execution_count": 34,
   "metadata": {},
   "outputs": [],
   "source": [
    "train_set=brown_news_sents[:round(0.9*len(brown_news_sents))];\n",
    "test_set=brown_news_sents[round(0.9*len(brown_news_sents)):]"
   ]
  },
  {
   "cell_type": "code",
   "execution_count": 35,
   "metadata": {},
   "outputs": [
    {
     "data": {
      "text/plain": [
       "0.8780512050188871"
      ]
     },
     "execution_count": 35,
     "metadata": {},
     "output_type": "execute_result"
    }
   ],
   "source": [
    "t2=nltk.BigramTagger(train_set);\n",
    "t2.evaluate(train_set)"
   ]
  },
  {
   "cell_type": "code",
   "execution_count": 36,
   "metadata": {},
   "outputs": [
    {
     "data": {
      "text/plain": [
       "0.15595047923322683"
      ]
     },
     "execution_count": 36,
     "metadata": {},
     "output_type": "execute_result"
    }
   ],
   "source": [
    "t2.evaluate(test_set)"
   ]
  },
  {
   "cell_type": "markdown",
   "metadata": {},
   "source": [
    "The performance decreases beacause it tags the unseen words as None"
   ]
  },
  {
   "cell_type": "markdown",
   "metadata": {},
   "source": [
    "#### Exercise 13\n",
    "We can use a dictionary to specify the values to be substituted into a formatting string. Read Python's library documentation for formatting strings http://docs.python.org/lib/typesseq-strings.html and use this method to display today's date in two different formats."
   ]
  },
  {
   "cell_type": "code",
   "execution_count": 37,
   "metadata": {},
   "outputs": [
    {
     "data": {
      "text/plain": [
       "'Today is 1st of March,2019'"
      ]
     },
     "execution_count": 37,
     "metadata": {},
     "output_type": "execute_result"
    }
   ],
   "source": [
    "'Today is {dd}st of {mm},{yyyy}'.format(**{'mm':'March','dd':1,'yyyy':2019})"
   ]
  },
  {
   "cell_type": "code",
   "execution_count": 38,
   "metadata": {},
   "outputs": [
    {
     "data": {
      "text/plain": [
       "'Today is 03-01-2019'"
      ]
     },
     "execution_count": 38,
     "metadata": {},
     "output_type": "execute_result"
    }
   ],
   "source": [
    "'Today is {mm}-{dd}-{yyyy}'.format(**{'mm':'03','dd':'01','yyyy':2019})"
   ]
  },
  {
   "cell_type": "code",
   "execution_count": 39,
   "metadata": {},
   "outputs": [
    {
     "data": {
      "text/plain": [
       "'Today is 3/1/2019'"
      ]
     },
     "execution_count": 39,
     "metadata": {},
     "output_type": "execute_result"
    }
   ],
   "source": [
    "'Today is {mm}/{dd}/{yyyy}'.format(**{'mm':3,'dd':1,'yyyy':2019})"
   ]
  },
  {
   "cell_type": "markdown",
   "metadata": {},
   "source": [
    "#### Exercise 14\n",
    "Use sorted() and set() to get a sorted list of tags used in the Brown corpus, removing duplicates."
   ]
  },
  {
   "cell_type": "code",
   "execution_count": 40,
   "metadata": {},
   "outputs": [
    {
     "data": {
      "text/plain": [
       "[('The', 'AT'),\n",
       " ('Fulton', 'NP-TL'),\n",
       " ('County', 'NN-TL'),\n",
       " ('Grand', 'JJ-TL'),\n",
       " ('Jury', 'NN-TL')]"
      ]
     },
     "execution_count": 40,
     "metadata": {},
     "output_type": "execute_result"
    }
   ],
   "source": [
    "brown_words=brown.tagged_words(categories='news');\n",
    "brown_words[:5]"
   ]
  },
  {
   "cell_type": "code",
   "execution_count": 41,
   "metadata": {},
   "outputs": [
    {
     "name": "stdout",
     "output_type": "stream",
     "text": [
      "{'BER*', 'DOZ', 'FW-NNS', 'MD*', 'NPS-HL', 'NN-TL-HL', 'FW-CC', 'NR', '(', 'VBZ', 'DTI-HL', 'NR-HL', 'DT+BEZ', 'OD-HL', 'PN+HVZ', 'FW-*', 'HVD', 'JJR-NC', 'BEN', 'DTI', 'BER-HL', 'NP+BEZ', 'BEZ', 'WDT+BEZ', 'BEZ*', 'PN$', 'BEDZ-HL', 'NP', '.-HL', 'JJ', ',', 'DT', 'PPSS', 'RB-TL', 'WDT', 'NN$', 'BED', '(-HL', 'VBN-TL', 'FW-IN', 'CD-HL', 'JJ-HL', 'FW-CD', 'JJR', 'NPS', 'CC-TL', 'CS', 'NN-NC', 'PPSS+HVD', 'PPLS', 'HVZ', 'ABN-HL', 'NPS$', 'VBZ-HL', 'RB$', 'IN-TL', 'CC-HL', 'DOD*', 'NNS-TL-HL', 'PN', 'VB-HL', 'DO-HL', 'VBD-TL', 'FW-IN+NN-TL', 'NR$', 'WRB', 'VB-TL', 'FW-JJ-TL', '*', 'NNS-HL', 'FW-AT-HL', 'HVN', 'BEDZ', 'MD+HV', 'WP$', 'MD*-HL', 'NP$', 'DO*', 'BED*', 'TO-HL', 'BE-HL', 'FW-IN+NN', 'MD-TL', 'FW-DT', ',-HL', 'CC', 'AP-TL', 'PPS+BEZ-HL', 'WPO', 'WPS', 'VBG', 'BEZ-HL', 'RP', 'NNS', 'CD$', ':-HL', 'FW-IN-TL', 'BER-TL', 'CD', 'PP$-TL', 'RB', 'CD-TL', 'VBG-HL', 'NP-TL', 'VBN', '``', 'NN-TL', 'AP', '*-HL', 'DTS', 'RBT', 'NP-HL', 'CS-HL', 'IN-HL', 'JJS-TL', 'HVD-HL', 'UH', 'PPSS+BEM', \"''\", 'HV', 'MD-HL', 'ABX', 'EX', 'HVG', 'MD', 'DT$', 'JJR-HL', ':', 'RBR', 'NR-TL', 'JJR-TL', 'OD-TL', 'IN', 'TO-TL', 'HVD*', 'JJT', '--', 'DO', 'JJS', 'NNS$-HL', 'TO', 'NNS$-TL', 'BEG', 'BE', 'AP$', 'RB+BEZ', 'RP-HL', 'PN-HL', 'PPS+MD', 'FW-AT-TL', \"'\", 'PPS', 'FW-AT', 'FW-PP$-NC', 'FW-VB', 'JJ-NC', 'NPS$-TL', 'JJ-TL', 'NPS-TL', 'OD', 'PP$$', 'ABN', 'PPS+HVZ', 'VB', 'AT', 'UH-TL', 'PPS+BEZ', 'VBG-TL', 'BEM', 'VBN-HL', 'PPSS+HV', 'DTX', 'QL', ')', 'BER', 'NNS$', 'ABL', 'NR$-TL', 'DOZ*', 'VBN-TL-HL', 'RB-HL', 'VB+PPO', 'WPS+BEZ', 'FW-NN', 'NN$-HL', 'NP-TL-HL', 'FW-NN-TL', 'DT-HL', 'NN-HL', 'PPO', 'NN', 'WQL', 'FW-IN+AT-TL', 'VBD-HL', 'NNS-TL', 'QLP', 'QL-TL', 'AT-TL', 'VBD', ')-HL', 'JJT-HL', 'AT-HL', 'PPL', 'PPSS+BER', 'BEDZ*', 'AP-HL', 'HVZ*', 'FW-VB-NC', 'NN$-TL', 'NP$-TL', 'FW-JJ', 'PP$', 'FW-WDT', '.', 'PPSS-HL', 'DOD', 'PPSS+MD', 'EX+BEZ'}\n"
     ]
    }
   ],
   "source": [
    "print(set(sorted(t for (w,t) in brown_words)))"
   ]
  },
  {
   "cell_type": "markdown",
   "metadata": {},
   "source": [
    "#### Exercise 15\n",
    "Write programs to process the Brown Corpus and find answers to the following questions:\n",
    "* Which nouns are more common in their plural form, rather than their singular form? (Only consider regular plurals, formed with the -s suffix.) <br>\n",
    "* Which word has the greatest number of distinct tags. What are they, and what do they represent? <br>\n",
    "* List tags in order of decreasing frequency. What do the 20 most frequent tags represent? <br>\n",
    "* Which tags are nouns most commonly found after? What do these tags represent?"
   ]
  },
  {
   "cell_type": "code",
   "execution_count": 42,
   "metadata": {},
   "outputs": [],
   "source": [
    "brown_words=brown.tagged_words()"
   ]
  },
  {
   "cell_type": "code",
   "execution_count": 43,
   "metadata": {},
   "outputs": [],
   "source": [
    "fd=nltk.FreqDist(w for (w,t) in brown_words if t.startswith('NN'))"
   ]
  },
  {
   "cell_type": "code",
   "execution_count": 44,
   "metadata": {},
   "outputs": [],
   "source": [
    "def pluralNouns():\n",
    "    nouns=[];\n",
    "    for n in fd:\n",
    "        if n[:-1] in fd and fd[n]>fd[n[:-1]]:\n",
    "            nouns.append(n);\n",
    "    return nouns;"
   ]
  },
  {
   "cell_type": "code",
   "execution_count": 45,
   "metadata": {},
   "outputs": [
    {
     "name": "stdout",
     "output_type": "stream",
     "text": [
      "['County', 'voters', 'legislators', 'topics', 'steps', 'funds', 'items', 'taxpayers', 'fire', 'guardians', 'fees', 'citizens', 'servants', 'concessionaires', 'officials', 'employes', 'man', 'Aj', 'crowd', 'county', 'candidates', 'relations', 'years', 'study', '$100', 'bonds', 'sales', 'allowances', 'pay', 'members', 'board', 'bankers', 'rules', 'dollars', 'means', 'bank', 'treasurer', 'Bankers', 'obligations', 'customers', 'students', 'savings', 'capital', 'senators', 'retailers', 'fine', 'brokers', 'general', 'representatives', 'kind', 'Representatives', 'defenders', 'methods', 'hours', 'team', 'Corps', 'Army', 'firm', 'Co.', 'relatives', 'parents', 'defendants', 'burglary', 'observers', 'aspects', 'Cod', 'help', 'advisers', 'proceedings', 'workers', 'employer', 'boost', 'part', 'requirements', 'elements', 'fate', 'circumstances', 'critics', 'UN', 'manifestations', 'arms', 'States', 'mind', 'events', 'months', 'submarines', 'modifications', 'errors', 'conditions', 'channels', 'pin', 'negotiations', 'rate', 'neighbors', 'Relations', 'Citizens', 'residents', 'headquarters', 'sirens', 'intervals', 'things', 'revisions', 'form', 'copy', 'grocery', 'supermarkets', 'Liberals', 'conservatives', 'resources', 'victory', 'manufacturers', 'town', 'motorists', 'minutes', 'vehicles', 'leaders', 'Appeals', 'techniques', 'corner', 'feet', '$60', 'colleagues', 'terms', 'elephants', 'slate', 'reporters', 'politicians', 'scandals', 'Works', 'forecasts', 'Rules', 'stage', 'technicians', 'Nations', 'experts', 'panel', 'affairs', 'tactics', 'Princess', 'factors', 'block', 'soldiers', 'spectators', 'Guard', 'helm', 'friends', 'commitments', 'eyes', 'loyalists', 'US', 'revenues', 'followers', 'affiliations', 'disclosures', 'Travelers', '$500', '$600', 'owners', 'bites', 'Corp.', 'fighters', 'teamsters', 'model', 'pledges', 'products', 'specifications', 'advisory', 'delegates', 'scriptures', 'volunteers', 'fraud', 'Indications', 'hits', 'start', 'chores', 'Braves', 'bunt', 'runners', 'players', 'pounds', 'hitters', 'specialists', 'cut', 'ramp', 'wing', 'wind', 'stewards', 'king', 'yards', 'thirds', 'Games', 'nose', 'guard', 'Longhorns', 'movies', 'Bears', 'fans', 'laurels', 'span', 'park', 'rulers', 'Reds', 'finale', 'Eagles', 'sports', 'Pirates', 'barriers', 'Writers', 'hope', 'par', 'banshees', 'bounds', 'duffers', 'gully', 'code', 'nerves', 'competitors', 'Man', 'words', 'bowl', 'Teachers', 'expectations', 'professionals', 'Grounds', 'raising', 'Arms', 'ears', 'Arts', 'singers', 'songs', 'costumes', 'trees', 'beer', 'ethics', 'morals', 'bombs', 'peasants', 'doings', 'Members', 'guests', \"Officers'\", 'Cocktails', 'Guests', 'mat', 'cup', 'cookies', 'miles', 'accommodations', 'bath', 'towels', 'ants', 'crown', 'newlyweds', 'oysters', 'flowers', 'Brothers', 'suburbs', 'arrangements', 'controllers', 'posters', 'paintings', 'panels', 'slippers', 'employees', 'supervisors', 'robbery', '$150', 'burns', 'remarks', 'merchants', 'observations', 'seekers', 'components', 'stairs', 'drawings', 'destroyers', 'wavelengths', 'narcotics', '$800', 'troops', 'collaborators', 'rebels', 'prisoners', 'Trustees', 'institutions', 'standards', 'grade', 'endowments', 'documents', 'occupants', 'bruises', 'Rights', 'battery', 'acres', 'path', 'commissioners', 'tape', 'producer', 'band', 'entertainers', 'Heights', 'spices', 'stockholders', 'teenagers', 'youngsters', 'advisors', '$250', '4-H', 'Results', 'rabbit', 'eggs', 'assessors', 'jewels', '$700', '$900', '$75', '$65', '$125', '$85', 'ribs', 'Fund', 'contributors', 'Rider', 'Riders', 'cane', 'experiments', 'farmers', 'birds', 'insects', 'rodents', 'grapes', 'restrictions', 'Missiles', 'wings', 'Friends', 'weapons', 'gangsters', 'Investors', 'underwriters', 'investors', 'buyers', 'manufacturer', 'tons', 'driers', 'cleaners', 'maker', 'dealers', 'makers', 'appropriations', 'pan', 'pattern', 'expenditures', 'dividends', 'shareholders', 'pickers', 'Farmers', 'implements', 'appliances', \"Dealers'\", 'shipments', 'feed', 'receipts', 'pipe', 'assets', 'deductions', 'Voters', '1%', 'shoes', 'toes', 'heels', 'plaques', 'drama', 'white', 'pinks', 'Isles', 'princess', 'trustees', 'supporters', 'Boys', 'patrons', 'colony', 'plates', 'facets', 'dressers', 'fabrics', 'wrinkles', 'silhouettes', 'finals', 'reservations', 'passengers', 'legs', 'crackpots', 'Changes', 'tube', 'drums', 'props', 'nightclubs', 'format', 'chops', 'beef', 'features', 'vows', 'performers', 'lady', 'toys', 'tease', 'knees', 'feathers', 'fins', 'gallons', 'tank', 'furnishings', 'descendants', 'associates', 'musicians', 'nuns', 'visitors', 'outsiders', 'concessions', 'veto', 'organs', 'deliberations', 'scope', 'tone', 'qualifications', 'brand', 'employee', 'giants', 'survivors', 'customs', 'employers', 'mechanics', 'injunctions', 'tanks', 'carriers', 'liberals', 'constituents', 'whites', 'Southerners', 'tears', 'slope', 'sight', 'consequences', 'Angels', 'stars', 'photographers', 'mine', 'vines', 'socks', 'classmates', 'cover', 'headlines', 'treasures', 'investigators', 'grads', 'scholars', 'researchers', '$300', 'tribes', 'palm', 'pirates', 'recruits', 'hostages', 'Mountains', 'bombers', 'turnpikes', 'Things', 'speculations', 'lags', 'planners', 'exports', 'imports', 'miners', 'mines', 'limitations', 'periodicals', 'classics', 'teen-agers', 'pupils', 'limits', 'spate', 'barricades', 'settlers', 'commercials', 'ads', 'ills', 'savages', 'dimensions', 'outbreaks', 'paragraphs', 'Problems', 'feuds', 'growers', 'subordinates', 'preserves', 'dunes', 'applicants', 'diet', 'findings', 'shame', 'prerogatives', 'guerrillas', 'axes', 'instructions', 'beings', 'spite', 'publishers', 'rage', 'villains', 'implications', 'stamps', 'vegetables', 'beans', 'disciples', 'heaven', 'cartoons', 'believers', 'cloth', 'bidders', 'objects', 'natives', 'hell', 'fingers', 'traits', 'backyards', 'favorites', 'motives', 'treaty', 'predecessors', 'armaments', 'listeners', 'rockets', 'inmates', 'congratulations', 'Scriptures', 'hues', 'weaves', 'bristles', 'pores', 'discs', 'Publications', 'Records', 'leaves', 'wine', 'undergraduates', 'carts', 'morale', 'scientists', 'cutters', 'premises', 'Motors', 'regulations', 'stumps', 'sediments', 'boat', 'burglars', 'ducks', 'Minutes', 'thugs', 'creatures', 'ideals', 'megatons', 'footsteps', 'invaders', 'traitors', 'butchery', 'adherents', 'clouds', 'particles', 'defects', 'generalizations', 'doses', 'theologians', 'projections', 'participants', 'flux', 'spine', 'adapters', 'belly', 'harem', 'ripples', 'greetings', 'improvisations', '$200', 'sailors', 'gutters', 'symptoms', 'maneuvers', 'helmets', 'mm.', 'grenades', 'ramifications', 'taverns', 'foreigners', 'practitioners', 'Lectures', 'Concerto', 'eccentrics', 'courtiers', 'pheasants', 'callers', 'escapades', 'rogues', 'trimmings', 'Projects', 'teens', 'wink', 'lapse', 'lyrics', 'evocations', 'recriminations', 'vistas', 'Wings', 'disadvantages', 'complications', 'purges', 'cards', 'attributes', 'pit', 'sonatas', 'troupe', 'characteristics', 'slaves', 'premiere', 'contours', 'conquerors', 'dolphins', 'lobes', 'heroine', 'accomplishments', 'prose', 'Advertisers', 'atoms', 'rays', 'Roots', 'happenings', 'intellectuals', 'clods', 'highlights', 'enthusiasts', 'mint', 'lips', 'pageants', 'capes', 'trailers', 'marinas', 'liberties', 'cone', 'mystics', 'calories', 'concentrates', 'vitamins', 'tonics', 'fats', 'milligrams', 'parasites', 'Principles', 'cells', 'molecules', 'angels', 'beard', 'absolutes', 'flock', 'Fate', 'Bells', 'converts', 'immigrants', 'loins', 'abolitionists', 'canons', 'emotions', 'pope', 'precepts', 'ailments', 'tranquilizers', 'belongings', 'loudspeakers', 'mountains', 'Directions', 'Provinces', 'maps', 'denominations', 'map', 'aspirations', 'realtors', 'psychologists', 'Code', 'Realtors', 'Af', 'planets', 'waves', 'Seminary', 'urns', 'perturbations', 'riddles', 'demons', 'god', 'sacraments', 'leaflets', 'ingredients', 'schoolmates', 'deltoids', 'Lunge', 'skin', 'Stands', 'pansy', 'blossoms', 'buds', 'airfields', 'renditions', 'markings', 'compliments', 'Dog', 'Juniors', 'Handler', 'wins', 'Engineers', 'sailboats', 'Boat', 'booklets', \"12''\", 'spacers', 'nuts', 'centimeters', 'valves', '2-year-olds', 'Fury', 'pacers', 'deadliness', 'rim-fires', '$170', 'brakes', 'tang', 'pad', 'orchards', \"Ladies'\", 'boots', 'reins', 'fork', 'ink', 'cloves', 'tablespoons', 'walnuts', 'vineyards', 'pie', 'ledger', 'locales', 'Pictures', 'landmarks', 'hubs', 'serpents', 'pillars', 'emeralds', 'mugs', 'buns', 'franks', 'sausages', 'chunks', 'tidbits', 'stains', 'bubbles', 'grooves', 'craters', 'Measurements', 'shakers', 'cruiser', 'battens', 'nails', 'red', 'bunk', 'measurements', 'piers', 'ratings', 'divers', 'ducts', 'closet', 'overhangs', 'shrubs', 'salons', 'inventory', 'medals', 'Artists', 'gymnasts', 'microorganisms', 'meters', 'francs', 'repulsions', 'additives', 'drugs', 'grams', 'lambs', 'Cows', 'enzymes', 'extracts', 'silos', 'headaches', 'catalogs', 'fill-ins', 'Teen', 'campers', 'GE', 'Products', 'tenants', 'leaks', 'bugs', 'plastics', 'lb.', 'billboards', 'ft.', 'brackets', 'installations', 'mills', 'lb', 'Ages', 'sedans', 'norms', 'psychiatrists', 'indicators', 'flares', 'gunners', 'progressions', 'insecticides', 'carrots', 'Lots', 'hikes', 'plume', 'terminals', 'barracks', 'gadgets', 'dolls', 'manuals', 'overtures', 'cure', 'Practices', 'ticks', 'ghouls', 'twins', 'pig', 'dock', 'memoirs', 'spouses', 'bootleggers', 'racketeers', 'mate', 'axe', 'aborigines', 'traders', 'fort', 'ox', 'Settlements', 'bushels', 'comrades', 'admonitions', 'exploits', 'guts', 'regiment', 'Volunteers', 'propagandists', 'poems', 'vendors', 'cops', 'brothels', 'geologists', 'swells', 'Sounds', 'ruts', 'elders', 'strivings', 'counterparts', 'tentacles', 'advertisements', 'swellings', 'glycerine', 'promoters', 'appointees', 'find', 'Ideas', 'Team', 'ax', 'eclipses', 'soybeans', 'curd', 'byproducts', 'oilseeds', 'Seeds', 'cosmetics', 'explosives', 'locust', 'filberts', 'Beer', 'strays', 'rustler', 'creepers', 'firecrackers', 'inn', 'grocers', 'knuckles', 'speculators', 'peers', 'nuances', 'Northerners', 'robbers', 'larks', 'outbursts', 'watersheds', 'fragments', 'paws', 'eyelids', 'maw', 'boughs', 'vaults', 'Crowds', 'wanderings', 'pamphlets', 'fore', 'variables', 'Preambles', 'organisms', 'cooperatives', 'communes', 'comets', 'inflections', 'barbarians', 'metaphysics', 'bees', 'claws', 'pebbles', 'hinges', 'curb', 'epithets', 'warriors', 'generalists', 'dislocations', 'directives', 'Examples', 'Proprietorships', 'suitors', 'abstracts', 'apex', 'antecedents', 'Ships', 'epicycles', 'resultants', 'Reporters', 'yachts', 'omissions', 'trousers', 'allusions', 'lungs', 'predispositions', 'romantics', 'dynamics', 'coordinates', 'divan', 'sheaf', 'fury', 'conformists', 'redcoats', 'cardinals', 'downs', 'survivalists', 'personages', 'spokes', 'drapers', 'pajamas', 'prolusions', 'dystopias', 'robots', 'ad', 'tense', 'Trees', 'chants', 'Ma', 'Courses', 'Minerals', 'nationals', 'proponents', 'Plantations', 'Pilgrims', 'Payments', 'Technicians', 'Experiments', 'ions', 'hydrides', 'resistors', 'in.', 'plasma', 'users', 'authorizations', 'fig.', 'decrees', 'infestations', 'dependents', 'Expenditures', 'rupees', 'aliens', 'Extensions', 'Fellows', 'gusto', 'chap.', 'parameters', 'shear', 'solids', 'ellipsoids', 'compounds', 'crystallites', 'surfactants', 'polyphosphates', 'actives', 'interfaces', 'Substances', 'reagents', 'Sets', 'sensors', 'meteors', 'probes', 'meteorites', 'ABO', 'hr', 'bumblebees', 'catkins', 'honeybees', 'moths', 'rattlesnakes', 'herpetologists', 'bronchioles', 'lobules', 'mammals', 'shunts', 'Span', 'proteases', 'steroids', 'mg.', 'gm.', 'biceps', 'conjugates', 'clover', 'gall', 'spikes', 'primes', 'cubes', 'secants', 'tangents', 'interrelationships', 'rites', 'subsystems', 'auditors', 'antagonists', 'determinants', 'syllables', 'consonants', 'adverbs', 'adjectives', 'verbs', 'aberrations', 'Mills', 'referrals', 'Sources', 'vases', 'gusts', 'transformers', 'shreds', 'Planes', 'Tones', 'soles', 'drapery', 'kennings', 'nouns', 'DUF', 'RDWS', 'Mines', 'a.', 'peptides', 'tektites', 'ligands', 'imperfections', 'polymers', 'References', 'alloys', 'binders', 'liters', 'biscuits', 'skippers', 'monosyllables', 'sneakers', 'gasps', 'nostrils', 'thickets', 'lather', 'cuffs', 'eyebrows', 'Eyes', 'lapels', 'batteries', 'slacks', 'jowls', 'puddles', 'punk', 'azaleas', 'spades', 'skylights', 'overalls', 'lodgings', 'damn', 'oval', 'critters', 'hoofs', 'monitors', 'straps', 'giggles', 'superiors', 'endearments', 'cheekbones', 'laments', 'triplets', 'Shades', 'Clouds', 'Snakes', 'peacocks']\n"
     ]
    }
   ],
   "source": [
    "print(pluralNouns())"
   ]
  },
  {
   "cell_type": "code",
   "execution_count": 46,
   "metadata": {},
   "outputs": [],
   "source": [
    "cfd=nltk.ConditionalFreqDist((word,tag) for word,tag in brown_words)\n",
    "maxim=0;\n",
    "for w in cfd.conditions():\n",
    "    if len(cfd[w])>maxim:\n",
    "        maxim=len(cfd[w]);\n",
    "        word_tags={w:list(cfd[w])};"
   ]
  },
  {
   "cell_type": "code",
   "execution_count": 47,
   "metadata": {},
   "outputs": [
    {
     "name": "stdout",
     "output_type": "stream",
     "text": [
      "{'that': ['CS', 'WPS', 'DT', 'QL', 'WPO', 'CS-HL', 'DT-NC', 'NIL', 'WPS-NC', 'WPO-NC', 'CS-NC', 'WPS-HL']} 12\n"
     ]
    }
   ],
   "source": [
    "print(word_tags,maxim)"
   ]
  },
  {
   "cell_type": "code",
   "execution_count": 48,
   "metadata": {},
   "outputs": [
    {
     "name": "stdout",
     "output_type": "stream",
     "text": [
      "[('NN', 152470), ('IN', 120557), ('AT', 97959), ('JJ', 64028), ('.', 60638), (',', 58156), ('NNS', 55110), ('CC', 37718), ('RB', 36464), ('NP', 34476), ('VB', 33693), ('VBN', 29186), ('VBD', 26167), ('CS', 22143), ('PPS', 18253), ('VBG', 17893), ('PP$', 16872), ('TO', 14918), ('PPSS', 13802), ('CD', 13510)]\n"
     ]
    }
   ],
   "source": [
    "fd=nltk.FreqDist(tag for word,tag in brown_words)\n",
    "print(fd.most_common(20))"
   ]
  },
  {
   "cell_type": "code",
   "execution_count": 49,
   "metadata": {},
   "outputs": [
    {
     "name": "stdout",
     "output_type": "stream",
     "text": [
      "[('NN', 7815), ('IN', 6012), ('AT', 5439), ('.', 4804), (',', 3654), ('VBD', 3027), ('JJ', 2958), ('RB', 2479), ('NNS', 2367), ('CC', 2257), ('VB', 2173), ('PPS', 2087), ('NP', 2026), ('PP$', 1503), ('VBN', 1497), ('VBG', 1375), ('PPO', 1228), ('CS', 1161), ('PPSS', 1131), ('BEDZ', 1091)]\n"
     ]
    }
   ],
   "source": [
    "brown_ficWords=brown.tagged_words(categories='fiction');\n",
    "fd=nltk.FreqDist(tag for (word,tag) in brown_ficWords)\n",
    "print(fd.most_common(20))"
   ]
  },
  {
   "cell_type": "markdown",
   "metadata": {},
   "source": [
    "They represent the common english usage,gives some idea of the genre and are mostly open class words"
   ]
  },
  {
   "cell_type": "code",
   "execution_count": 50,
   "metadata": {},
   "outputs": [],
   "source": [
    "brown_words=brown.tagged_words(tagset='universal')"
   ]
  },
  {
   "cell_type": "code",
   "execution_count": 51,
   "metadata": {},
   "outputs": [
    {
     "data": {
      "text/plain": [
       "<ConditionalFreqDist with 1 conditions>"
      ]
     },
     "execution_count": 51,
     "metadata": {},
     "output_type": "execute_result"
    }
   ],
   "source": [
    "cfd=nltk.ConditionalFreqDist((t2,t1) for (w1,t1),(w2,t2) in nltk.bigrams(brown_words) if t2=='NOUN')\n",
    "cfd"
   ]
  },
  {
   "cell_type": "code",
   "execution_count": 52,
   "metadata": {},
   "outputs": [
    {
     "data": {
      "text/plain": [
       "[('DET', 85845), ('ADJ', 54653)]"
      ]
     },
     "execution_count": 52,
     "metadata": {},
     "output_type": "execute_result"
    }
   ],
   "source": [
    "cfd['NOUN'].most_common(2)"
   ]
  },
  {
   "cell_type": "markdown",
   "metadata": {},
   "source": [
    "Those tags represent the common grammar rules, nouns occur mostly after a determiner or an adjective"
   ]
  },
  {
   "cell_type": "markdown",
   "metadata": {},
   "source": [
    "#### Exercise 16\n",
    "Explore the following issues that arise in connection with the lookup tagger:<br>\n",
    "* What happens to the tagger performance for the various model sizes when a backoff tagger is omitted? <br>\n",
    "* Consider the curve in 4.2; suggest a good size for a lookup tagger that balances memory and performance. Can you come up with scenarios where it would be preferable to minimize memory usage, or to maximize performance with no regard for memory usage?"
   ]
  },
  {
   "cell_type": "code",
   "execution_count": 53,
   "metadata": {},
   "outputs": [],
   "source": [
    "train_set=brown_words[:round(0.9*len(brown_words))]\n",
    "test_set=brown.tagged_sents(tagset='universal')"
   ]
  },
  {
   "cell_type": "code",
   "execution_count": 54,
   "metadata": {},
   "outputs": [],
   "source": [
    "def performance(likely_tags,test_set):\n",
    "    lookup_tagger=nltk.UnigramTagger(model=likely_tags);\n",
    "    return lookup_tagger.evaluate(test_set)"
   ]
  },
  {
   "cell_type": "code",
   "execution_count": 55,
   "metadata": {},
   "outputs": [],
   "source": [
    "def display():\n",
    "    import pylab;\n",
    "    fd=nltk.FreqDist(w.lower() for (w,t) in train_set)\n",
    "    cfd=nltk.ConditionalFreqDist((w.lower(),t) for (w,t) in train_set)\n",
    "    most_frequent_words=[w for (w,_) in fd.most_common()];\n",
    "    sizes=2**pylab.arange(15);\n",
    "    perfs=[performance(dict((w,cfd[w].max()) for w in most_frequent_words[:size]),test_set) for size in sizes];\n",
    "    pylab.plot(sizes,perfs,'-bo');\n",
    "    pylab.title('Size vs Performance of an Unigram Tagger with no backoff');\n",
    "    pylab.xlabel('Size');\n",
    "    pylab.ylabel('Performance');\n",
    "    pylab.show();"
   ]
  },
  {
   "cell_type": "code",
   "execution_count": 60,
   "metadata": {},
   "outputs": [
    {
     "data": {
      "image/png": "[encoded data removed]",
      "text/plain": [
       "<Figure size 432x288 with 1 Axes>"
      ]
     },
     "metadata": {
      "needs_background": "light"
     },
     "output_type": "display_data"
    }
   ],
   "source": [
    "display()"
   ]
  },
  {
   "cell_type": "markdown",
   "metadata": {},
   "source": [
    "The model performance for various sizes decreases without backoff tagger "
   ]
  },
  {
   "cell_type": "markdown",
   "metadata": {},
   "source": [
    "The optimal size for the curve in 4.2 is 12000 as there is only a little improvement in the performance from 12000 to 18000. <br>\n",
    "It is preferable to limit the memory size for mobile applications. <br>\n",
    "Prioritize performance maximization when the application runs on cloud and it is very very important to tag the text correctly than minimizing the memory (for ex:speech translators for military or foreign relations)"
   ]
  },
  {
   "cell_type": "markdown",
   "metadata": {},
   "source": [
    "#### Exercise 17\n",
    "What is the upper limit of performance for a lookup tagger, assuming no limit to the size of its table? (Hint: write a program to work out what percentage of tokens of a word are assigned the most likely tag for that word, on average.)"
   ]
  },
  {
   "cell_type": "code",
   "execution_count": 75,
   "metadata": {},
   "outputs": [],
   "source": [
    "cfd=nltk.ConditionalFreqDist((w.lower(),t) for w,t in brown_words)\n",
    "likely_tags=dict((w.lower(),cfd[w.lower()].max()) for w,tag in brown_words)"
   ]
  },
  {
   "cell_type": "code",
   "execution_count": 76,
   "metadata": {},
   "outputs": [
    {
     "data": {
      "text/plain": [
       "0.96"
      ]
     },
     "execution_count": 76,
     "metadata": {},
     "output_type": "execute_result"
    }
   ],
   "source": [
    "upper_bound=[w1 for (w1,t1) in brown_words if likely_tags[w1.lower()]==t1]\n",
    "upper_bound=len(upper_bound)/len(brown_words)\n",
    "round(upper_bound,2)"
   ]
  },
  {
   "cell_type": "markdown",
   "metadata": {},
   "source": [
    "#### Exercise 18\n",
    "Generate some statistics for tagged data to answer the following questions:<br>\n",
    "* What proportion of word types are always assigned the same part-of-speech tag?<br>\n",
    "* How many words are ambiguous, in the sense that they appear with at least two tags? <br>\n",
    "* What percentage of word tokens in the Brown Corpus involve these ambiguous words?<br>"
   ]
  },
  {
   "cell_type": "code",
   "execution_count": 80,
   "metadata": {},
   "outputs": [],
   "source": [
    "count=0;\n",
    "for w in cfd.conditions():\n",
    "    if len(cfd[w])==1:\n",
    "        count+=1;"
   ]
  },
  {
   "cell_type": "code",
   "execution_count": 82,
   "metadata": {},
   "outputs": [
    {
     "data": {
      "text/plain": [
       "0.93"
      ]
     },
     "execution_count": 82,
     "metadata": {},
     "output_type": "execute_result"
    }
   ],
   "source": [
    "round(count/len(set(w.lower() for w,_ in brown_words)),2)"
   ]
  },
  {
   "cell_type": "code",
   "execution_count": 84,
   "metadata": {},
   "outputs": [
    {
     "data": {
      "text/plain": [
       "3408"
      ]
     },
     "execution_count": 84,
     "metadata": {},
     "output_type": "execute_result"
    }
   ],
   "source": [
    "count=0\n",
    "for w in cfd.conditions():\n",
    "    if len(cfd[w])>1:\n",
    "        count+=1;\n",
    "count"
   ]
  },
  {
   "cell_type": "code",
   "execution_count": 85,
   "metadata": {},
   "outputs": [
    {
     "data": {
      "text/plain": [
       "0.07"
      ]
     },
     "execution_count": 85,
     "metadata": {},
     "output_type": "execute_result"
    }
   ],
   "source": [
    "round(count/len(set(w.lower() for w,_ in brown_words)),2)"
   ]
  },
  {
   "cell_type": "markdown",
   "metadata": {},
   "source": [
    "#### Exercise 19\n",
    "The evaluate() method works out how accurately the tagger performs on this text. For example, if the supplied tagged text was [('the', 'DT'), ('dog', 'NN')] and the tagger produced the output [('the', 'NN'), ('dog', 'NN')], then the score would be 0.5. Let's try to figure out how the evaluation method works: <br>\n",
    "* A tagger t takes a list of words as input, and produces a list of tagged words as output. However, t.evaluate() is given correctly tagged text as its only parameter. What must it do with this input before performing the tagging? <br>\n",
    "* Once the tagger has created newly tagged text, how might the evaluate() method go about comparing it with the original tagged text and computing the accuracy score? <br>\n",
    "* Now examine the source code to see how the method is implemented. Inspect nltk.tag.api.__file__ to discover the location of the source code, and open this file using an editor (be sure to use the api.py file and not the compiled api.pyc binary file)."
   ]
  },
  {
   "cell_type": "markdown",
   "metadata": {},
   "source": [
    "first it needs to tag using tagger.tag and then evaluate"
   ]
  },
  {
   "cell_type": "code",
   "execution_count": 94,
   "metadata": {},
   "outputs": [
    {
     "data": {
      "text/plain": [
       "[('the', 'DET'), ('dog', 'NOUN')]"
      ]
     },
     "execution_count": 94,
     "metadata": {},
     "output_type": "execute_result"
    }
   ],
   "source": [
    "t1.tag(['the','dog'])"
   ]
  },
  {
   "cell_type": "code",
   "execution_count": 95,
   "metadata": {},
   "outputs": [
    {
     "data": {
      "text/plain": [
       "1.0"
      ]
     },
     "execution_count": 95,
     "metadata": {},
     "output_type": "execute_result"
    }
   ],
   "source": [
    "t1.evaluate([t1.tag(['the','dog'])])"
   ]
  },
  {
   "cell_type": "markdown",
   "metadata": {},
   "source": [
    "It compares the tags of the words with the tags of words it was trained on and calculates the accuracy score.<br>\n",
    "Score the accuracy of the tagger against the gold standard.\n",
    "Strip the tags from the gold standard text, retag it using\n",
    "the tagger, then compute the accuracy score."
   ]
  },
  {
   "cell_type": "markdown",
   "metadata": {},
   "source": [
    "#### Exercise 20\n",
    "Write code to search the Brown Corpus for particular words and phrases according to tags, to answer the following questions: <br>\n",
    "* Produce an alphabetically sorted list of the distinct words tagged as MD.\n",
    "* Identify words that can be plural nouns or third person singular verbs (e.g. deals, flies). <br>\n",
    "* Identify three-word prepositional phrases of the form IN + DET + NN (eg. in the lab). <br>\n",
    "* What is the ratio of masculine to feminine pronouns?"
   ]
  },
  {
   "cell_type": "code",
   "execution_count": 103,
   "metadata": {},
   "outputs": [],
   "source": [
    "brown_words_bt=brown.tagged_words()"
   ]
  },
  {
   "cell_type": "code",
   "execution_count": 108,
   "metadata": {},
   "outputs": [
    {
     "name": "stdout",
     "output_type": "stream",
     "text": [
      "[\"c'n\", 'can', 'colde', 'could', 'dare', 'kin', 'maht', 'mai', 'may', 'maye', 'mayst', 'might', 'must', 'need', 'ought', 'shall', 'should', 'shuld', 'shulde', 'wil', 'will', 'wilt', 'wod', 'wold', 'wolde', 'would']\n"
     ]
    }
   ],
   "source": [
    "print(sorted(set([w.lower() for w,tag in brown_words_bt if tag=='MD'])))"
   ]
  },
  {
   "cell_type": "code",
   "execution_count": 110,
   "metadata": {
    "collapsed": true
   },
   "outputs": [
    {
     "name": "stdout",
     "output_type": "stream",
     "text": [
      "{'vantage-points', 'shifts', 'fellow-craftsmen', 'asses', 'memoranda', 'rotates', 'marshmallows', 'tosses', 'sisters', \"teachers'\", \"candidates'\", 'skiffs', 'manes', 'cleanups', 'bafflers', 'aides', 'nutrients', 'value-judgments', 'densities', 'loins', 'classics', 'piers', 'shadings', 'ambiguities', 'bibliographies', 'burrs', 'share-holders', 'exemptions', 'resists', 'ghosts', 'ties', 'offensives', 'epithets', 'wolves', 'condemns', 'freewheelers', 'villagers', 'soldier-masters', 'enthusiasts', 'sponges', 'arrangements', 'sections', 'southerners', 'asterisks', '$.50', 'longs', 'shrines', 'posters', 'daises', 'revolutionaries', 'pirogues', 'menus', 'anastomoses', 'raptures', 'doubles', 'self-portraits', 'angles', 'violations', 'societies', 'occasions', 'shorts', '$18.2', 'non-writers', 'orthodontists', 'multiplies', 'bloops', 'newsmen', 'coyotes', 'credits', 'nomias', 'receipts', 'puddles', 'snacks', 'depositors', 'choices', 'climbs', 'correlations', 'buffalo', 'knocks', 'shotshells', 'nuances', 'partitions', 'identities', 'casuals', '$325', 'molds', 'chickens', 'triangles', 'scars', 'dealerships', 'slits', 'innings', 'results', 'horns', 'readers', 'acids', 'orchids', 'mingles', 'trustees', 'encyclopedias', 'durations', 'papers', 'boats', 'cradles', 'evidences', 'joints', 'grips', 'turrets', 'chambers', 'lounges', 'gutters', 'scissors', 'pajamas', 'adagios', 'breakfasts', 'viscera', 'upshots', 'a.', 'polybutenes', 'photos', 'operas', 'fittings', '24-degrees', 'pixies', 'vests', 'trembles', 'clusters', 'co-operates', 'traps', 'individualists', 'media', 'sweaters', 'groves', 'puppets', 'flares', 'thrombi', 'murderers', 'interferes', 'robs', 'retainers', 'reintroduces', 'accelerators', 'engages', 'cultivates', 'meters', 'symptoms', 'longshoremen', 'dressers', 'indignities', 'abortions', \"'60s\", 'dactyls', 'continents', 'substances', \"pastors'\", \"80's\", 'applies', 'annals', 'rattlers', 'terrifies', 'pelts', 'dazzles', '463-degrees-c', 'pennies', 'shines', 'tenses', '$29', 'rambles', 'names', 'fertilizers', 'blunderings', 'canoes', 'castles', 'rumors', 'memos', 'listens', 'warms', '$1,500,000', 'extends', 'pastels', 'resorts', 'reveals', 'corduroys', 'tenths', 'polemics', 'auxiliaries', 'reproaches', 'legacies', 'clicks', 'litigants', 'restraints', 'boxes', 'failures', 'graybeards', 'romantics', '$1,961,000', 'bounds', 'particulars', 'classmates', 'eyebrows', 'cases', 'patients', 'tablecloths', 'reckonings', 'motels', 'credentials', \"lovers'\", 'pickets', 'clobbers', 'ownerships', 'hoots', 'shibboleths', 'contrarieties', 'unifies', '$50,000', 'buckets', 'landlords', 'deposits', 'impressions', 'disappointments', 'battles', 'envelopes', 'minstrels', 'tarpaulins', 'graces', 'instrumentalities', 'ulcerations', 'non-conformists', '$85,000', 'spectacles', 'snobs', 'lids', 'shreds', 'redwoods', 'ailments', 'technicalities', 'tormenters', 'testaments', 'steeples', 'atmospheres', 'bards', 'blinkers', 'forecasts', 'sentences', 'calluses', 'destroyers', 'hormones', 'charms', 'wreaths', 'ordinances', 'helpers', 'assures', 'interrogatives', 'renditions', 'ecumenicists', 'despises', 'looms', 'lanes', 'stilts', 'bangles', 'legislatures', 'odors', 'traditionalists', 'facet-planes', 'preliminaries', 'soapsuds', \"traders'\", 'pocketbooks', 'grooms', 'cartoons', 'inscriptions', 'secretaries', '$47,101,000', 'handspikes', 'excerpts', 'storehouses', 'conditioners', 'after-effects', 'bicycles', '$81', 'dials', 'solitudes', 'escapees', 'subspaces', 'solicits', 'dipoles', 'stamps', 'dolphins', 'predictors', 'indicates', 'encumbrances', 'settlers', 'insulators', 'ratios', 'coalesces', 'gusts', 'mosques', '$1.60', '$12', 'skits', 'vouchers', 'birds', 'praises', 'synonyms', 'subways', 'centers', 'knives', 'footsteps', 'amateurs', 'indexes', 'parallels', 'persimmons', 'disclosures', 'heelers', 'pictures', 'proteases', \"oystchers'll\", 'tales', 'shifters', 'funerals', 'generalists', 'dentists', 'folders', 'pros', 'fears', 'atheists', 'convulsions', 'junctures', 'mounds', 'predecessors', 'reactants', 'judiciaries', 'jumps', 'ends', '$250,000', 'prints', 'pansies', 'slaves', 'mummies', 'lyricists', 'nos', 'thousandths', 'wounds', 'abstracts', 'pants', 'torquers', 'actualities', 'corkers', 'splinters', 'varieties', 'packages', '$14', 'discharges', 'duffers', 'insides', 'loadings', 'numerals', 'overtures', 'pellets', 'cancels', 'shakes', 'antibodies', 'counts', 'consumers', 'invitations', 'bang-sashes', 'exceeds', 'predicting-machines', 'toddlers', 'slices', 'markers', 'contribs', 'voltages', \"taxpayers'\", 'ribs', 'criteria', 'proposes', 'borates', 'wrongs', '$90', 'viewpoints', 'sceneries', 'iodotyrosines', 'polyethers', '$2,557,111', 'lagers', '$17', 'exaggerations', 'polyisocyanates', 'demonstrators', '$6,100,000,000', 'neighbors', 'lobes', 'styrenes', 'dislocations', 'radiations', 'balsams', 'dissensions', 'implications', 'operates', 'roosters', 'spaces', 'pervades', 'crystallographers', 'championships', 'reporters', 'takings', 'headlines', 'mussels', 'holies', 'manipulations', 'enthusiasms', 'integers', 'folds', 'mugs', 'insecticides', 'alginates', 'empties', 'phyla', 'misconstructions', 'concerns', 'kilts', 'mortgages', '$300,000', 'premiums', 'carbons', 'two-by-fours', 'kilowatt-hours', 'guts', 'boies', 'old-timers', 'mentalities', 'portents', 'weeklies', 'dictionaries', 'copyrights', 'commissions', 'lows', '$2,323,867', 'phones', 'pheasants', '$.07', 'laughs', 'blockages', 'singers', 'curtains', 'crusades', 'minimizes', 'gasps', 'offers', 'wetlands', 'trusteth', 'labors', 'desperadoes', 'liquids', 'sentimentalists', 'ex-presidents', 'millidegrees', 'lessens', 'heavens', 'parings', \"capitalists'\", 'tumours', 'cigarettes', 'bridesmaids', 'alcoves', 'juniors', \"21/64''\", 'revelations', 'fairies', 'seekers', 'banks', 'weaves', 'projectiles', 'fetes', 'sera', 'lives', 'forte-pianos', 'committeemen', 'bluebonnets', 'loopholes', 'adapters', 'boilers', 'experimenters', 'barbs', 'shuts', 'loners', 'sours', 'lay-offs', 'interiors', 'registrants', 'buffetings', '$55,000', 'eqns.', 'plowshares', \"1870's\", 'makers', 'despoilers', 'slashes', 'locations', '$800,000', 'swans', 'frictions', 'imitates', 'driers', 'reguli', 'anodes', 'engagements', 'currents', '$16.80', 'chorines', 'cameramen', 'circumscriptions', \"nations'\", 'rogues', 'revivals', 'scrapings', 'pageants', 'accommodates', 'samplers', 'celebrants', \"mid-1960's\", 'twenties', 'microorganisms', 'stairs', 'daffodils', \"1770's\", 'masks', 'hemorrhoids', 'mornings', 'classes', 'redevelopers', \"manufacturers'\", 'temples', 'religions', 'byproducts', 'ropers', 'repressions', 'conferences', 'sensitives', 'elders', 'oldsters', 'chives', 'deltas', 'chapels', 'overlaps', 'persons', 'pistoleers', \"2-3/4''\", 'fuels', 'philologists', \"machinists'\", 'freshmen', 'craftsmen', 'sores', 'escapes', 'tilts', 'reaffirms', 'stretches', 'holders', 'cliches', 'delicacies', 'palms', 'lenses', 'gratings', 'flippers', 'drafters', \"times'\", 'essences', 'cries', 'draperies', 'openings', 'sausages', 'bends', 'parlors', 'boors', \"boys'\", 'pleats', 'rulings', 'sales', 'rocket-bombs', 'leaps', 'phrases', 'first-families', \"employers'\", 'ledges', 'orations', 'prohibits', 'fascicles', 'spares', 'endings', 'hallmarks', 'brushes', 'fragrances', 'lotions', 'pests', 'blowers', 'foams', '$12.00', 'stairways', 'starts', 'squats', 'articles', 'tradesmen', 'toys', 'fauna', '$2.09', 'pigs', 'feats', 'lanterns', 'exchanges', 'tempos', 'cancers', 'panders', 'havens', 'selections', 'clubs', 'crests', 'discrepancies', 'industries', 'rugs', 'originals', 'omits', 'springs', 'flaws', \"composers'\", 'specialists', 'cowrtiers', 'incidents', 'masses', 'constables', 'melodies', 'romances', 'feelers', 'scraps', 'statesmen', 'emotions', 'predispositions', 'chemistries', 'schnooks', 'topics', 'nuts', 'sparkles', 'joiners', 'qualms', 'demonstratives', 'designers', 'sweethearts', 'generals', 'deteriorates', 'economies', 'mailboxes', 'enrollments', 'airplanes', 'primates', 'accountants', 'hollows', 'widens', 'contraceptives', 'hips', 'gangs', 'schemes', 'buckaroos', 'portions', 'hackles', 'franks', 'considerations', 'devices', '$25', '$10,000', 'maladies', 'wrestlings', 'electives', 'computers', 'promoters', 'comforts', 'guerrillas', 'derelicts', 'birdies', 'pillows', 'telegrams', 'newspapers', 'reverberations', 'juleps', 'interests', 'plains', '$66,000', 'contains', 'detractors', 'presumes', 'exteriors', 'crawls', 'salads', 'skirmishes', 'hindquarters', 'wiles', 'denounces', 'parties', 'liniments', 'companions', 'pursues', 'contractors', 'plastisols', 'shotguns', 'fruits', 'forty-niners', \"braves'\", 'elks', 'tombstones', 'luncheons', '$344,000', 'police', 'hinterlands', 'saloons', 'freedmen', 'lovers', 'diplomats', 'travelers', 'donates', 'ologies', 'cans', 'jurors', 'boatsmen', 'satisfies', 'canvases', 'bawhs', 'lizards', 'intrusions', 'garments', 'jackets', 'hydrides', 'telescopes', 'lines', 'invites', 'charges', 'investors', 'junks', 'polychemicals', 'soyaburgers', 'waves', 'pails', 'tadpoles', 'levis', '50-degrees', 'indicators', 'yd.', 'colonists', 'nudes', 'pitchers', 'communications', 'shucks', 'ringsiders', 'alignments', '1970s', 'sixties', 'partings', 'gyroscopes', 'networks', 'cones', 'pants-legs', 'hunters', 'kingdoms', 'work-outs', 'enhances', 'rooms', 'legislators', 'rolls', 'babes', 'calibers', 'mos.', 'haberdasheries', '$2.30/mbf', 'hemorrhages', 'reams', 'beasties', 'tubers', 'rebellions', 'ketches', 'autos', 'hitters', 'ponds', 'bites', 'peasants', 'manipulators', 'endowments', 'installments', 'narcotics', 'residences', '$157,460', '$44.3-billion', 'copes', 'housebreakers', 'scenes', 'strategists', 'essayists', 'puzzles', 'kegs', 'diseases', 'confidences', 'ducks', 'beginnings', 'sets', 'probes', 'violets', 'contends', 'abutments', 'trailers', 'midsts', 'agglutinins', 'cattlemen', 'shoals', 'cross-purposes', 'andrenas', 'breakups', 'ambulances', 'accomplices', 'besiegers', 'schoolers', 'gallstones', 'malignancies', 'three-fourths', 'ancestors', 'silkworms', 'deer', 'signposts', 'ancients', 'mergers', 'coatings', 'postulates', 'questionnaires', 'gardeners', 'cooperatives', '$139.3', 'adjoins', 'sneers', 'purists', 'freckles', 'confederations', \"stockgrowers'\", 'voters', 'pagans', 'nullifiers', 'victuals', 'drovers', \"sixties'\", 'funeral-accessories', '$150', 'protestations', 'youths', 'librarians', 'nails', 'fares', 'franchises', 'antisera', 'markets', 'reminders', 'simplifies', 'energies', 'barnsful', 'schools', 'defeats', 'consequences', 'bottlenecks', 'volcanos', 'presents', 'zeros', 'handbooks', 'belts', 'whims', 'extensions', 'friends', 'precautions', 'captains', 'descendents', 'resigns', 'misfortunes', 'superiors', 'prepares', 'irritates', 'coconuts', 'shams', 'dicks', 'scallops', 'frequencies', 'half-brothers', 'accrues', 'smiles', 'provokes', 'units', 'sachems', 'contributes', 'hairdos', 'lilies', 'roadways', 'cheerleaders', 'terms', 'distractions', 'bads', 'non-resistants', 'justifications', 'salvos', 'week-ends', 'understandings', 'oleanders', 'patinas', 'mobs', 'villages', 'sandwiches', 'shrugs', 'halts', 'bas-reliefs', 'clotheslines', 'bruises', 'nurses', 'internationalists', 'corners', 'pagodas', 'non-books', 'fancies', 'strata', 'bunks', 'elms', 'mementoes', 'glances', 'trespasses', 'palaces', 'doormen', '$222', 'aesthetes', 'evasions', 'teammates', 'glycols', 'abounds', 'epicycles', 'writs', 'ducts', 'extrema', 'smacks', 'meals', 'pews', 'outbursts', 'subparts', 'potentials', \"soloists'\", 'lyrics', 'tricks', 'bleeps', 'paddies', 'boundaries', 'overestimates', 'phonemes', 'raids', 'extendibles', 'illusions', 'comes', 'betrays', 'corrections', 'facts', 'buckskins', 'barns', 'manuscripts', 'pickers', 'compels', 'kilowatts', 'gums', 'jibes', 'epistles', 'ears', 'ironies', 'rheumatics', 'moans', 'treetops', 'deportees', 'flowers', 'phases', 'stepmothers', 'chairs', 'developers', 'decimals', 'straps', 'conditions', 'majors', 'lagoons', 'herons', 'treasuries', 'eyeballs', 'lighters', 'rebels', 'showers', 'transmits', 'admissions', 'banisters', 'revenues', 'winders', 'farmlands', 'treatments', 'rushes', 'soddies', 'neo-classicists', 'bogies', 'pines', 'photographers', 'suggests', \"7''\", 'taunts', 'motets', 'theorists', 'combustibles', 'dams', 'stakes', 'grievances', 'milestones', \"4'\", 'gussets', 'earns', 'bombings', 'rags', 'reverses', \"laymen's\", 'provides', 'doldrums', 'insurrections', 'packs', 'cuts', 'gulps', '$740,000', 'references', 'longhorns', 'vices', 'squads', '$2,170', 'tendencies', 'recalls', 'initials', 'pavilions', 'plantations', 'indulgences', 'three-quarters', 'posts', 'pores', 'cousins', 'policies', '$29,000', 'ponies', 'amines', 'kits', 'thickens', 'peoples', 'interferometers', 'nonconformists', 'substantiates', 'psychotherapists', 'conformists', 'accretions', \"islands'\", 'parapets', 'poultices', 'priorities', 'tones', 'blebs', 'aches', 'cloakrooms', 'remedies', 'magpies', 'foals', 'recriminations', 'eulogizers', 'insertions', 'ounces', 'jellies', 'intimations', 'fountain-falls', 'eliminations', 'chords', 'travels', 'paperbacks', 'cowbirds', 'deliberations', 'gourmets', 'survivals', 'urinals', 'dregs', 'bouts', 'masters', 'tubules', 'nipples', 'winos', 'kinds', \"guideposts'\", 'rupees', 'cocktails', 'accidents', 'eighties', 'commitments', '$754', 'tongs', 'crashes', 'bemoans', \"horses'\", 'transistors', '$840,000', 'hangouts', 'mistakes', 'hesitates', 'lay-sisters', 'lise', 'mad', 'elections', 'crackers', 'hackers', 'layoffs', 'lava-rocks', 'teens', 'fractures', 'xylophones', 'microns', '59-cents', 'alters', 'vanities', 'gm.', 'hulks', 'owners', 'revenuers', 'allegations', 'sends', 'stains', 'ringings', 'near-misses', 'leaks', '$26.5-billion', 'effluents', 'subgroups', 'appreciations', 'accounts', 'fastenings', 'strangers', 'paperwads', 'towns', 'fillies', 'stirs', 'rehearsals', 'rodents', 'proverbs', 'analogues', 'vertebrae', '$75', 'caverns', 'absorbs', 'snowflakes', 'spokes', 'creeks', 'refectories', 'whips', 'waters', 'lifeboats', 'dentures', 'axles', 'possibilities', 'illnesses', 'personifies', 'pounds', 'freeholders', 'seems', '90-degrees', 'interviewees', 'uses', 'heights', 'beliefs', '$2500', 'seventies', 'dooms', 'camps', 'bronchi', 'municipalities', 'miseries', 'elegies', 'bootleggers', 'crofters', 'strides', 'quits', 'psyches', 'marines', 'walkways', \"falcons'\", 'irritations', 'stings', 'hazards', 'settlements', 'connoisseurs', 'averages', 'orchards', 'exacerbates', 'bigots', \"swimmers'\", 'serviettes', 'routines', 'interpenetrates', 'delimits', 'renders', 'levels', 'gripes', 'escutcheons', 'premises', 'parodies', 'sycophants', '$2,330,000', 'inaccuracies', 'outlays', 'emerges', 'founders', 'shavings', 'pursuits', 'dromozoa', 'deficiencies', 'tentacles', 'truths', 'fairs', 'rigors', 'shocks', 'hayfields', '$15,000,000', 'studios', 'shells', 'culprits', 'latches', 'mosquitoes', 'dosages', 'remains', 'executions', 'admires', '$.75', \"giants'\", 'gorges', 'wards', 'lacerations', 'antagonisms', 'thumbs', 'affairs', '340-degrees-c', 'distributors', \"princes'\", 'hundreds', 'diminishes', 'additions', 'watercolors', 'fantods', 'hoofmarks', 'confessionals', 'corridors', 'prospers', 'satisfactions', 'gaps', 'abnormalities', 'cha-chas', 'lappets', 'utilities', 'attacks', 'goodies', 'sees', 'messengers', 'grinds', 'men-folk', 're-examines', 'blouses', 'in-groups', 'calculi', 'contemporaries', 'adjuncts', '$94', 'flakes', 'ravages', '$65,000', 'subsidiaries', 'ups', 'kitchens', \"'50's\", 'grants-in-aid', 'turnings', 'falsehoods', \"souls'\", 'deans', 'tournaments', 'treacheries', 'rewards', '$39,000', 'occupies', 'sheriffs', 'formulae', 'coefficients', 'mares', 'waiters', 'endures', 'understates', 'dishes', 'poisons', 'carryovers', '375-degrees-c', 'cells', 'calculators', 'painters', 'waterflows', 'preconditions', 'tombs', 'rodeos', 'clips', '$350', 'carrots', 'rages', 'invalids', 'boughs', 'jams', 'ambushes', 'planes', 'newsletters', 'items', 'stances', '$750,000', 'observances', 'poseurs', 'floats', 'investigations', 'liars', 'noisemakers', \"horns'\", 'floes', 'actives', 'liens', 'subjects', 'drawers', 'races', 'regattas', 'legions', 'hostelries', 'belles', 'coaches', 'zlotys', 'souls', 'bakes', 'spikes', 'cracks', 'migrates', 'bullets', 'teen-agers', 'spectators', 'illustrates', 'replies', 'communes', 'fails', 'equals', 'biographers', 'evildoers', 'pops', 'benefits', 'accomodations', 'finishes', 'bearings', 'mothers-in-law', 'race-drivers', 'commentators', 'beasts', 'scrapes', 'guests', 'angels', 'stage-plays', 'metalsmiths', 'regards', 'sequences', 'horses', 'creatures', 'inheres', 'assemblages', 'malevolencies', 'buffoons', 'leans', 'stewards', 'spats', 'threes', 'cranes', \"soldiers'\", 'thermostats', '$8,250', 'recognizes', 'methods', 'felicities', 'hero-worshippers', 'pushes', 'inclusions', 'blitzes', 'chiefdoms', 'confuses', 'cufflinks', 'oracles', 'highs', 'taxi-ways', 'distillers', 'funnels', 'humans', 'orphans', \"3-3/4''\", 'hills', 'seats', 'bachelors', 'proteins', 'riches', 'homosexuals', 'confederates', 'whiplashes', '$58,918', 'paths', 'innuendos', 'lackeys', '$110', 'subpoenas', 'leavings', 'dimensions', 'serfs', 'chiggers', 'occupants', 'ballgowns', 'anesthetics', 'synapses', '$35', 'saves', 'foothills', '$22.50', 'sinners', 'reads', \"cowbirds'\", 'speckles', 'tribesmen', \"planters'\", 'backgrounds', 'faiths', 'homecomings', 'raincoats', 'advances', 'fluxes', 'dwellings', 'valuations', 'pastes', 'chattels', 'occurrences', '$.09', 'upsets', 'bundles', 'chiefs', 'picture-images', 'lawmakers', 'jokes', 'genera', 'piles', 'borrows', 'bleats', '$1.8', 'turnpikes', 'collapses', 'directrices', 'respondents', 'pangs', 'tomes', 'columbines', 'barges', 'beneficiaries', 'forswears', 'rhinestones', 'weirs', 'cites', 'mg.', 'givers', 'documentaries', 'urges', 'push-ups', 'wavers', 'reaches', 'leads', \"grandmothers'\", \"3-1/2''\", 'alveoli', 'believeth', 'jackboots', 'bloods', 'laymen', 'soaps', 'partakes', 'stimulants', 'chests', \"tailin's\", 'loveways', 'roommates', 'microphones', 'missionaries', 'raiders', 'mans', 'fractions', 'defeatists', 'allusions', 'trends', \"'40's\", 'recovers', '$306', 'workouts', \"30''\", 'theologian-philosophers', 'domes', 'rustlers', 'bandoleers', 'chimes', 'survives', '$.30', 'adjectives', 'brackets', 'pars', 'gunmen', 'necklaces', 'poppies', '$1,450,000,000', 'analysts', 'glimpses', 'reprints', 'modifiers', '$2.50', 'clutches', 'pockets', 'blanks', 'roundups', 'sedans', 'ballplayers', 'weapons', 'expositions', 'containers', 'denials', 'cookies', 'shingles', 'directs', 'schoolmates', 'counterparts', 'panaceas', 'thrills', 'absences', 'subs', 'influences', 'messages', 'statutes', 'pans', 'mobcaps', 'nieces', 'abscesses', 'bulks', 'decides', 'highlights', 'bulls', 'accessions', 'warns', '$310', 'co-workers', 'improves', 'roasts', 'footnotes', 'dragons', 'suits', 'segments', 'sidelines', 'saucers', 'weights', '$625,561', 'ward-personnel', 'disguises', 'billions', 'miles', 'behooves', 'strives', 'puffs', 'fords', 'denotes', 'dulls', 'candidates', 'narrows', 'proclivities', 'captions', 'diamonds', 'clamors', 'genealogies', 'specializes', 'plazas', '$.12', 'poems-in-drawing-and-type', 'rotations', 'sings', 'transformers', 'conveniences', 'chansons', 'onslaughts', 'revels', 'challenges', 'anti-semites', 'tops', 'concertos', 'mechanisms', 'favorites', 'wops', 'scops', 'morsels', 'teratologies', 'obsessions', 'puppies', 'politicos', 're-creates', 'playmates', 'arrowheads', 'rigids', 'conflicts', 'forefathers', 'cavities', 'margins', 'vexes', 'yachtsmen', \"raiders'\", 'commoners', 'thermocouples', 'operations', 'sharpshooters', 'mustaches', 'vegetables', 'ambassadors', 'prefectures', 'formulations', 'prices', 'pennants', 'inferences', 'squirms', 'remissions', 'hoosegows', 'colleges', 'exacts', 'cysts', 'hierarchies', 'teachings', \"builders'\", 'shortcomings', 'coils', 'consists', 'bottoms', 'tufts', 'goggles', 'specimens', 'massifs', 'auditions', 'sacrifices', 'campaigns', 'informs', 'hells', 'claps', 'pickles', 'ladies', 'oxides', 'bushes', 'chills', 'mystics', 'heads', 'mines', 'cabs', 'sables', 'demeans', 'representatives', 'genders', 'prisoners', 'mts.', 'refreshments', 'modulations', 'airfields', 'dieters', 'rites', 'diehards', 'subtypes', 'marquees', 'novelties', 'regains', 'grenades', 'films', 'salesmen', 'trumps', 'prodigies', 'reflexes', \"engineers'\", 'prayerbooks', 'memory-images', 'disputes', '$10.50', 'spurs', 'beers', 'offersey', 'slitters', 'contexts', 'liberties', 'polities', 'rationalizations', 'shards', \"maskers'\", 'circles', 'captors', 'artists', 'ward-heelers', 'medicines', 'claimants', 'possemen', 'buffs', 'biologists', 'decades', 'colonies', 'snails', '1950s', 'guffaws', 'head', 'qualifies', \"'90s\", 'advocates', 'learners', 'outputs', 'purges', 'chisels', 'reps.', 'late-comers', 'efficiencies', 'positivists', 'imitators', 'evils', 'projections', 'pastilles', 'quirks', 'incompetents', 'interpretations', 'vice-presidents', 'peanuts', 'residents', 'cometh', 'depressants', 'parrots', 'agitators', 'laces', 'laps', 'fills', '$10.8', 'halogens', 'relives', 'offices', \"ass'ns'\", \"folks'\", 'continues', 'torrents', 'discusses', 'amulets', 'accompanists', 'giveaways', 'gherkins', 'yarns', 'judgments', 'receivers', 'breakables', 'bells', 'germs', 'hopefuls', 'rejects', 'radicals', \"1860's\", 'togs', '$800', 'bogeys', 'dogmas', 'concedes', 'bloodhounds', 'prunes', 'supplements', 'cables', 'welcomes', 'inducements', 'clients', 'soft-drinks', 'vanishes', 'sounds', 'junkies', 'buckles', 'prides', 'utopias', \"newspapers'\", '$.90', 'progresses', 'exists', 'women', 'cutlets', 'semi-heights', 'fixations', '$20,447,000', 'veils', \"veterans'\", 'tracers', 'yards', 'deadheads', 'individuals', 'transcripts', 'finances', 'nationals', 'lettermen', 'hobbies', 'tasks', 'huggings', 'forests', 'shippers', 'watches', 'emperors', 'policemen', 'braces', 'binoculars', 'glows', 'booths', 'mittens', '45-degrees', 'gobblers', 'curbs', 'unfolds', 'showmen', 'radios', 'tactics', 'compliments', 'gambits', 'roars', 'endpoints', 'apportionments', 'theories', 'minorities', 'escapades', 'originates', 'inventors', 'constellations', 'ventures', 'recreates', 'hijackers', 'curriculums', '$1.7', \"brothers'\", 'parakeets', 'disturbances', '200-degrees', 'obscenities', 'feasts', '$1,600', 'hoodlums', 'rates', '$9', 'bespeaks', 'detectives', 'authentications', 'assertions', 'palindromes', 'lobules', '40-degrees-f', 'characterizes', 'toadies', 'supplies', 'boulders', 'expenses', 'cogs', '$7,500,000', 'derivations', 'equines', '$8,313,514', 'braves', 'stairwells', 'controllers', 'toilets', 'cave-men', 'disparities', 'troupes', 'line-fragments', 'formulas', 'nonshifters', 'marches', 'arts', 'textures', 'marshes', 'submits', 'rioters', 'subtleties', \"duds'd\", 'turkeys', 'jobs', 'nothings', 'squares', 'navigators', 'ruffians', 'envisions', 'overcoats', 'polynomials', 'currencies', 'fledglings', 'honkytonks', 'seers', 'shenanigans', 'passengers', 'nightclubs', '$2,490', 'children', 'sheets', 'intentions', 'expressways', 'afternoons', 'friars', 'narcotizes', 'contemplates', 'constrictors', 'ants', 'pundits', 'alludes', 'tours', '$128', 'by-products', 'hearings', 'belongs', 'curricula', 'statues', \"assessors'\", \"lions'\", 'features', 'clays', 'dummies', 'dancers', 'mains', 'flees', 'adventures', 'churches', '$1,000,000,000', 'leaguers', \"1800's\", 'knick-knacks', 'takeoffs', 'shelves', 'skunks', 'golfers', 'hydrogens', 'proclaims', 'associates', 'olives', 'presuppositions', 'tribunals', 'bids', 'announces', 'mutinies', '$3,500,000', 'swears', 'replaces', 'superintendents', \"rbi's\", 'hauls', 'grapevines', 'dares', 'screams', 'resembles', 'creams', 'capacities', 'operators', 'potions', \"embalmers'\", 'collars', 'snowballs', 'festivities', 'wagons', 'accuses', '$2.82', 'directions', 'intonations', '$581,000', 'thrillers', 'phonographs', '$2,461,000', 'dries', 'scenarios', 'alleyways', 'mil.', 'atoms', 'patentees', 'signalizes', 'perseveres', 'contingents', 'faces', 'fascinates', 'self-images', '$16,000', 'conquerors', 'limbs', 'two-thirds', 'ballots', 'synchronizers', 'devils', 'jokers', 'potatoes', 'homesteads', 'professors', 'performances', 'devotions', 'buttresses', 'censures', 'files', 'thinks', 'descends', 'watercolorists', 'drapers', 'explosives', 'crossings', 'minutes', 'accelerations', 'fortifications', 'formations', 'beer-runners', \"masquers'\", 'dolls', 'lacks', 'clarifies', 'satellites', 'rim-fires', 'bleachers', 'ice-cubes', 'moors', 'indications', 'cobwebs', \"2'\", 'ailerons', \"'thirties\", 'assumes', \"sportsmen's\", 'precepts', 'samples', 'mammas', 'mores', 'shuns', 'diluents', 'spenders', 'counters', 'blueprints', 'bronchioles', 'slurries', 'pilgrims', 'unlocks', 'amphetamines', 'croaks', 'buggers', 'proponents', 'grubs', 'crudities', 'bifocals', 'theses', 'orioles', 'landes', 'distinctions', 'modifies', 'seedlings', 'births', 'bowls', 'translates', 'judgements', 'pigeons', 'corresponds', 'factions', 'bows', 'colleagues', 'isopleths', 'shipmates', 'hostages', 'colour-prints', 'absorptions', '-20-degrees', 'boroughs', 'goings', '$380', '$37,500', 'fairways', 'finds', 'offspring', 'abides', 'broadcastings', 'grottoes', '$740', 'hands', 'wholesalers', 'spores', 'consoles', 'arranges', 'orderings', 'hymens', 'hears', 'commences', 'horrors', 'absolutes', 'deserts', 'coeds', 'aspires', 'bingles', 'amplifiers', 'states', 'chin-ups', 'carpenters', 'reinforces', 'bewilders', 'eddies', 'trivia', 'spreads', 'jewels', 'wardens', 'pains', 'raindrops', 'components', \"rulers'\", 'modernists', \"bishops'\", 'onlookers', 'orchestrations', 'others', 'equations', 'backs', 'hazes', 'veterinarians', 'pleads', 'trim-your-own-franks', 'grade-equivalents', 'knife-men', 'creeds', 'cabanas', 'lightens', 'bonfires', 'soirees', 'cc.', 'carts', 'fill-ins', 'compromises', 'empires', 'contusions', 'fats', 'glorifies', 'banquets', 'sens.', 'grownups', 'trousers', 'champs', 'befuddles', 'burners', 'arguments', 'fours', 'nozzles', 'misconceptions', 'finals', 'kids', 'urethanes', 'militia', 'jazzmen', 'slanders', 'betties', 'hooves', 'warriors', '$11', 'enemies', 'palates', 'potters', '$700', 'caps', 'refuses', 'affirmations', 'depths', 'lapels', 'cords', 'proprietors', 'forecasters', 'startups', 'buds', 'embroideries', 'compacts', 'crutches', 'typewriters', 'balloons', 'approaches', 'robbers', 'alcohols', 'millennia', 'peaches', 'ghouls', 'roses', 'depressions', \"cutters'\", '2-year-olds', 'foci', 'furs', 'thanks', 'addresses', 'treaties', 'motors', 'grounds', 'cannibals', 'crates', 'ebbs', 'espouses', 'bloodstains', 'sidewalks', 'bribes', 'solves', 'catalysts', 'menarches', 'affords', 'freighters', 'defects', 'torpedoes', 'pedestrians', 'procedures', 'revellers', 'instances', 'thunderclaps', '$581', 'grads', 'dimes', 'docks', 'rockers', 'reiterates', 'exhumations', 'trades', 'jaws', 'groceries', 'novels', 'exporters', 'clamps', 'debates', 'wails', 'pleas', 'teamsters', 'erects', '$1.0', 'non-readers', 'potboilers', 'everglades', 'surgeons', 'glees', 'in-migrants', 'pimps', 'laborers', 'men-of-war', 'idioms', 'amendments', 'groupings', 'touchstones', 'invaders', 'masts', 'resistors', 'separates', 'hinges', 'courts', 'ingredients', 'remembrances', 'explains', 'deplores', 'teenagers', 'jurisdictions', 'diaphragms', 'ringlets', 'inclinations', 'steels', '$10.1', 'injustices', 'jowls', 'cinches', 'hay-shakers', 'fiddles', 'spends', 'jetliners', 'cahoots', 'backwoods', 'shills', 'associations', 'grains', 'yelps', 'cherubim', 'recitals', 'alerts', 'giants', 'capers', 'interludes', 'aqueducts', 'lambs', \"poeple's\", '$7.20', 'staccatos', '-16-degrees', 'competitors', 'dips', 'runways', 'thoughts', '$12.1', 'personages', 'benchmarks', 'imaginings', 'rulers', 'sects', 'moneys', 'intermissions', 'tangos', 'presses', 'draftees', 'sophomores', \"wieners'\", 'enables', 'conquests', 'selects', 'hallucinations', 'closes', 'monosyllables', 'eliminates', 'bookings', '$4.9', 'shacks', 'constrictions', 'sterns', 'gains', 'wares', 'paragraphs', 'goods', 'vendors', 'decisions', 'woolworkers', 'diapers', 'acclaims', 'monopolies', 'extremes', 'self-plagiarisms', 'whipping-boys', 'do-gooders', 'encomiums', 'cardinals', 'therapists', 'bonzes', 'windbreaks', 'coincidences', '$32,000', 'becomes', 'confessions', 'lashings', 'muscles', 'rigs', 'exclamations', 'chapters', 'fragments', 'gazes', 'acquisitions', 'gaiters', 'taps', 'schedules', 'nitrates', 'hawks', 'caravans', 'appropriates', 'intersections', 'pillars', 'grocers', '$17.8', 'spades', 'lethargies', 'images', 'synthetics', 'storekeepers', 'authors', 'scions', 'shipments', 'hints', 'cobblestones', 'commutes', 'doses', 'sofas', 'nonreactors', 'parachutes', 'begs', 'status-roles', 'findings', 'fundamentals', 'workshops', 'navels', 'bottles', 'prophets', 'infants', 'pertains', \"archbishops'\", 'orgasms', 'inhumanities', 'registries', 'predilections', 'straws', 'islanders', 'unoriginals', 'succeeds', 'killers', '$2,300,000', 'parameters', 'poles', 'bellboys', 'tortoises', 'marks', 'gyms', 'bobbins', 'larvae', 'hunches', 'biches', 'comas', 'eggs', 'trucks', 'engulfs', 'theoriticians', 'damages', 'manages', 'flash-bulbs', 'small-arms', 'auspices', 'progressions', 'innovators', 'linebackers', 'saddles', 'enforcers', 'fellowships', 'faults', 'trances', '$842,617', 'endearments', \"1850's\", 'sketches', 'geldings', 'purses', 'oaks', 'mouths', 'disrupts', 'cultures', 'fluctuations', 'baskets', 'meetings', 'waits', 'electors', 'shirts', 'guns', 'perils', 'chroniclers', '$4,000', 'grassers', 'shatters', 'favors', 'colds', 'seniors', 'passers-by', 'wings', 'editors', 'slave-laborers', 'blocks', 'equivalents', 'debentures', 'repetitions', 'surfaces', 'flag-wavers', 'wills', 'conjectures', 'spacesuits', 'pencils', 'harmonies', 'premieres', 'tunes', 'incumbents', 'encounters', 'skull-bashings', 'determines', 'rhinos', 'bathers', 'details', 'tidings', \"materials'\", 'wickets', 'antipodes', '$1,800', 'attainments', '6-degrees-c', 'gathers', 'incitements', 'standards', 'constitutes', 'respirators', 'run-ups', 'eyelashes', 'hydroxides', 'airs', 'cinders', 'ways', 'calories', 'sectors', 'measures', 'congressmen', '$251', 'tickets', 'inns', 'situations', 'arcades', 'escorts', 'feedings', 'carbonates', 'sneakers', 'threads', 'smells', 'clams', 'permeates', 'accesses', 'patrols', 'hotdogs', 'exaltations', 'intensities', 'retirements', 'organisms', 'guideposts', 'ditties', 'extremists', 'resins', '$5000', 'transfusions', 'opponents', 'inks', 'crevices', 'ceremonies', 'illumines', 'gamblers', 'jars', 'self-deceptions', 'hydrocarbons', 'types', 'modifications', 'fens', 'clothes', 'cops', 'time-servers', 'hinders', 'cameras', 'perfectionists', 'displays', 'napkins', 'overshoots', 'teas', '$25,000', 'debs', 'deerskins', 'offenders', 'armpits', 'bitters', 'conforms', 'brings', 'blankets', 'fluids', 'decencies', 'willows', 'genres', 'insures', 'agencies', 'gaieties', 'tracts', 'kob', 'stopovers', 'twister-coners', 'affiliations', 'bastards', 'localisms', 'musings', 'fumes', 'cuirassiers', 'pulpits', \"bros.'\", 'silos', 'roofs', 'evenings', 'life-contracts', 'properties', 'collisions', 'flops', 'operagoers', 'myofibrillae', '$83,750', 'punishments', 'rafters', 'eagles', 'terminals', \"prisoners'\", 'cults', 'chieftains', 'campsites', 'mops', 'feelings', 'flows', 'rifles', 'uplands', 'off-flavors', 'soils', 'notions', 'modules', 'titers', 'refunds', 'clippings', 'beholds', 'panels', 'tallies', 'supervisors', 'dwellers', 'dives', 'beats', 'preserves', 'indictments', 'suppers', 'induces', 'pegboards', 'canvassers', 'promptings', 'censuses', 'anachronisms', 'bombers', 'noises', 'surrealists', 'cockpits', 'dates', 'greetings', 'mirrors', 'craters', 'guards', 'words', 'subtends', 'polishes', 'juries', 'summarizes', 'monks', 'dresses', 'wanderings', \"24''\", 'anatomicals', 'utensils', 'bull-sessions', 'counselors', 'axioms', 'crannies', 'limousines', 'down-and-outers', 'catalogues', 'dagers', 'insists', 'settings', 'momentoes', 'heroics', 'ringers', 'unions', '$30,000', 'erasers', '$20,000,000,000', 'cilia', 'hospitals', 'tolls', 'groups', 'commits', 'dynasts', 'prophesies', 'proportions', 'parasols', 'gangsters', 'concerti', \"portwatchers'\", 'heritages', 'beaches', 'calligraphers', 'contrasts', 'indices', 'vertebrates', 'statisticians', 'reputations', 'anarchist-adventurers', 'banishes', 'settles', 'fits', 'ignores', 'forbears', 'bandages', 'shortcuts', 'corrugations', 'multitudes', 'seismographs', 'correspondents', 'casks', 'eclipses', 'propagandists', 'calculations', 'wall-flowers', 'obediences', 'beauties', 'affidavits', 'tektites', 'cowboys', 'stop-overs', 'abstractionists', 'addressees', 'brunettes', 'impresses', 'creates', \"people's\", 'non-residents', 'pigpens', 'academics', 'appendixes', 'pesticides', 'forms', 'attitudes', 'inspires', 'cleaners', 'confronts', '$9,841,000', 'calisthenics', 'deceives', 'champions', 'cosmetics', 'efforts', 'flicks', 'plastics', 'tends', 'tubes', 'detergents', 'narratives', '$3,500', 'congratulations', 'appetites', 'smokers', 'curds', 'warehouses', 'figs.', 'commissioners', 'matches', 'sittings', 'stabs', 'layers', 'invests', 'perturbations', 'cellars', 'alternatives', 'a135', 'microseconds', 'thoroughfares', 'shepherds', 'works', 'desolations', 'falls', 'miscreants', 'insignificances', 'ropes', 'exhibits', 'eluates', 'shops', 'socks', 'dynamics', 'lowlands', 'frankfurters', 'taxpayers', 'reconstructs', 'ramifications', 'stems', 'officeholders', 'formats', \"drivers'\", 'sympathies', 'parentheses', 'consderations', 'goal-values', 'wanders', 'rows', 'catkins', 'assumptions', 'valves', 'stockynges', 'grins', 'nights', 'stamens', 'freeways', 'dislikes', 'communists', 'miracles', 'dressings', 'shillings', '$26,000,000', 'cubes', 'illustrations', 'hubs', 'arrivals', 'lessons', 'represents', 'sayings', 'tunnels', 'twinges', 'trestles', 'attendants', 'bookers', 'plasters', 'badges', '$253,355,000', 'arouses', 'permits', 'judges', 'lays', 'bosses', 'rejoices', 'coups', 'helps', '$40,000', 'grandparents', 'undertakes', '$200', '$7,000,000', 'facilities', 'tits', 'symbols', 'complains', '$3', 'kittens', 'ferns', 'nighters', 'stones', 'predicts', 'pleasures', 'journalists', 'resolves', 'vocals', 'serves', 'beings', 'firecrackers', 'heirs', 'cleans', 'inhabitants', 'grudges', 'memberships', 'subfigures', 'homeowners', \"1950's\", 'assistants', 'bequests', 'relationships', 'mathematics', 'obsequies', 'tabernacles', 'idlers', 'pickins', 'massacres', 'coachmen', 'seaports', 'professes', 'curls', 'salons', 'flannels', 'nourishes', 'shipyards', 'apartments', 'presupposes', 'provocateurs', 'objectives', 'rents', 'agreements', 'nectaries', 'sighs', 'troops', 'privations', 'slouches', '$2.00', 'condiments', 'cars', '$1.10', \"handlers'\", '$227.72', 'drawing-rooms', 'mediums', 'mavericks', 'ministries', 'louvers', 'heavy-electrical-goods', 'job-seekers', 'three-fifths', 'tutorials', 'chestnuts', 'coolers', 'archangels', 'subversives', \"grownups'\", '$300,000,000', 'bellwethers', 'earthquakes', 'monomers', 'forks', 'spices', 'flyways', 'dollars-and-cents', 'substrates', 'thruways', 'ciliates', 'users', 'rituals', 'investigates', 'boos', 'suites', 'co-ops', 'appointments', 'sensibilities', 'hemlocks', 'hookups', 'ear-muffs', 'fences', 'economists', 'rods', 'fathers', 'guises', 'bricklayers', 'launches', 'bedsprings', 'goes', 'scholastics', 'adopts', 'libraries', 'brigades', 'shims', 'highways', 'crops', 'demoralizes', 'stews', 'difficulties', 'prerogatives', 'peonies', 'two-inches', 'gradients', 'kibbutzim', 'plans', 'dilemmas', 'stays', 'stimulations', 'talons', 'perceptions', 'crises', 'democracies', 'vines', 'crosses', 'bursts', 'rhythms', 'returns', 'radiators', 'glazes', 'follies', '220-degrees', 'apples', 'troubles', 'blips', 'copings', 'bullwhackers', 'gloats', 'reproductions', 'winding-clothes', 'blackbirds', 'moderates', 'hutments', 'superstitions', 'lowers', 'wrestles', 'textiles', 'legends', 'sons', 'radii', '$52,500', 'madmen', 'trails', 'grows', 'commentaries', 'boastings', 'librettists', 'shanties', 'conjunctions', 'gliders', 'sub-tests', 'arches', 'clouds', 'landowners', 'home-owners', 'lawmen', 'vitals', 'mutants', 'spacings', 'nucleoli', 'nickels', 'outlanders', 'propositions', 'generations', 'kings', 'picks', \"dealers'\", 'ideals', 'stoves', 'circuits', 'utterances', 'fund-raisers', 'revolutionists', 'nigras', 'explorers', 'contrivances', 'marketings', 'hopples', 'acoustics', 'affiliates', 'adaptations', 'kernels', 'interrelationships', 'embodies', 'crabs', 'fastens', 'man-hours', 'proprietorships', 'specialties', 'chemicals', 'hurdles', 'subroutines', 'fugitives', 'allegiances', 'life-preservers', 'upperclassmen', 'aristocrats', '$1.65', '$.80', 'cons', 'visions', 'gages', 'eatings', 'paints', 'mycobacteria', 'reports', 'flips', 'scholarships', 'histories', 'catchwords', '$1,250,000', 'riddles', 'buries', 'blowfish', 'votes', 'intellectuals', 'breakers', 'impersonates', 'clucks', 'grandfathers', 'epigrams', 'referrals', 'offerings', 'battlements', 'emanations', 'dollars', 'martyrs', 'forefeet', 'farmhouses', 'contributors', 'decomposes', 'jerks', 'dots', 'clowns', 'microscopes', 'tries', 'pretexts', 'airlines', 'conceives', 'monographs', 'disciples', 'decrees', '$2', 'claws', 'foundations', 'loyalists', 'candies', 'rations', 'dunes', 'inches', 'ballards', 'youth', 'liberals', 'markings', 'pouches', 'radiomen', 'offenses', 'invoices', 'grooves', 'proves', 'closets', 'teachers', 'editorials', 'sinuses', 'verses', 'limps', 'institutions', 'secularists', 'translations', 'gears', 'follows', \"'20s\", 'canals', 'options', 'plants', 'relates', 'menfolk', 'delights', 'players', 'spring-joints', '$1.6', \"authors'\", 'subsystems', 'tracings', 'unifications', 'prompts', 'co-signers', 'halves', 'traitors', 'metabolites', 'powers-that-be', 'batteries', 'enclaves', 'servitors', 'ridges', 'feet', 'transients', 'suffixes', 'crushers', 'theatergoers', 'fives', 'invades', 'liquidations', 'places', 'engines', 'deals', 'celebrities', 'memoirs', 'dividends', 'degrees', 'pointers', 'mails', 'gypsies', 'senses', 'behaves', 'stupidities', 'parcels', 'tenants', 'involvements', 'luxuries', 'academies', 'flotillas', 'rosebuds', 'errors', 'buttonholes', 'gear-sets', '-20-degrees-c', 'globes', 'explanations', 'entitles', 'tappets', 'labels', 'performers', 'ranks', 'agonies', 'cures', 'crackpots', 'pretenses', 'niggers', 'musclemen', 'frescos', 'classrooms', '10-degrees-c', 'fucks', 'materials', 'riverbanks', 'traditions', 'staircases', 'transports', '$3.50', 'senators', 'rosaries', 'asks', 'suspects', 'adults', 'welts', 'kickbacks', 'grades', 'possesses', 'drinks', 'folksongs', 'onions', \"shores'\", 'thespians', 'knoweth', 'pies', 'bears', 'nigs', 'conclusions', 'skirts', '$538', \"88's\", 'suns', 'graveyards', 'mates', 'unloads', 'launchings', 'gagwriters', \"teen-agers'\", 'antennas', '$6,666.66', 'mattresses', 'nooks', 'feels', 'gateways', 'evokes', 'consonants', 'slaps', '337-degrees-c', 'regents', 'half-bottles', 'breastworks', 'appraisers', 'wishes', 'brides', 'grabs', 'arcs', 'fellows', 'exerts', 'generators', 'megatons', 'misleads', 'harelips', 'cramps', 'surveys', 'bills', 'breezes', 'musts', 'shunts', 'lashes', 'resultants', 'fates', 'territories', 'quivers', 'vowels', 'superhighways', '$10.00', 'survivors', 'hams', 'inserts', 'housewives', 'couples', 'underclothes', 'investigators', 'advises', 'sensitivities', 'saith', 'drugstores', 'collectors', 'yaks', 'mules', 'fracases', 'suppositions', 'slopes', 'frontiersmen', 'millionaires', 'ligands', 'developments', 'warys', 'exclaims', 'feathers', 'deferents', 'chronicles', 'nephews', 'homebuilders', 'parents', 'heels', 'suitors', 'imbalances', 'manufacturers', 'inquiries', 'merits', 'relishes', 'tablespoonfuls', 'riflemen-rangers', 'guidelines', 'displaces', 'reasons', 'canneries', 'arises', 'assists', 'vacations', 'administers', 'buttocks', 'duds', 'conjures', \"mid-1890's\", '$214', 'lymphocytes', 'prejudices', 'opposes', 'pretends', 'preconceptions', 'burdens', 'testings', 'carbines', 'expressionists', 'paratroopers', 'thieves', 'compulsives', 'resounds', 'teletypes', 'immigrants', 'stages', 'editions', 'northeners', 'rooftops', 'depressors', 'litters', 'calves', '$200,000-a-year', 'targets', 'bikinis', 'inheritors', 'ballads', 'dack-rihs', 'handguns', 'sheepe', 'skylights', 'trains', 'ecumenists', 'portrays', '$50', 'interstices', 'nufs', 'by-passes', 'creations', 'exposes', 'consciences', 'palisades', 'dewars', 'repairmen', 'similarities', 'supposes', 'zooms', 'crackles', 'picnics', 'relatives', 'lovelies', '$4,177.37', 'columnists', 'confreres', 'confesses', 'dissents', 'mysticisms', 'minutiae', 'precedes', 'nouns', 'chines', 'allowances', 'bellies', 'careers', \"'80's\", 'abstrusenesses', 'fields', 'motorscooters', 'explorations', 'glob-flakes', 'hangers-on', 'mailings', '$75-billion', 'rentals', 'balconies', 'furnishes', 'parts-suppliers', 'cathedrals', 'buns', 'inconsistencies', 'newly-weds', '140-degrees-f', 'aims', 'ruins', 'dramatists', 'jails', '600-degrees', 'whitens', '$1,750,000', 'mothers', \"guests'\", 'dales', 'instructions', 'hilltops', \"dancers'\", '$3,000', 'redcoats', 'artifacts', 'cheekbones', 'dealings', '$120', 'silences', 'bumpers', 'leagues', 'exits', 'sluggers', \"hens'\", 'predictions', 'discovers', 'fjords', 'brokers', 'tidbits', 'shawls', 'dictates', 'incorporates', 'issues', 'hardships', 'hasps', 'battlefields', 'sells', 'dependents', 'clenches', 'phosphates', 'bathrooms', 'foes', 'electroshocks', '$250', 'sinews', 'goals', 'filters', 'attentions', 'chandeliers', \"registrants'\", 'splashes', 'monochromes', 'bibliophiles', 'drafts', 'windowpanes', 'place-names', 'diatoms', 'co-ordinates', 'reactionaries', 'scaffoldings', 'climates', 'justices', 'yassuhs', 'octaves', '$3.22', 'fingers', 'rapists', 'annoys', 'clumps', 'compensations', 'interviews', 'improvements', 'bucks', 'corrupts', 'shoelaces', 'oysters', 'teahouses', 'hoods', 'scenics', 'restricts', 'morticians', 'estimates', 'shares', 'leaves', 'strands', 'axes', 'barflies', 'pedals', 'tribes', 'withstands', 'maladjustments', 'footfalls', 'crayons', 'executors', \"12'\", 'pinch-hitters', 'armies', 'repulsions', 'knightes', 'actions', 'fire-crackers', 'retailers', 'drums', 'leopards', 'strings', 'collections', 'calipers', 'regenerates', 'sandbars', 'epitomizes', 'reshapes', '$43.50', 'follow-ups', 'imparts', 'changes', 'restates', 'sex-manuals', 'forts', 'strips', 'interviewers', 'converts', 'silicates', 'brothels', 'dines', 'badmen', 'anionics', '$56', 'disagrees', 'secessionists', 'syllables', 'declarations', 'spouses', 'stomachs', 'electrons', 'midwesterners', 'buffets', 'savages', 'turbines', 'crowns', 'loads', 'clinics', 'grapefruit', 'corner-posts', 'boils', 'provisions', 'whorls', '$20', 'retreats', 'rules', 'coworkers', 'contentions', 'specters', 'timbers', 'warts', 'equalizers', 'injuries', 'identifications', 'centuries', 'trenchermen', 'loves', 'controversialists', 'docters', 'reminds', 'disorders', 'lushes', 'cliffs', 'meteorites', 'happenings', 'foreigners', 'peddlers', 'duels', 'arteries', 'bevels', 'whores', 'coins', 'reflectors', 'physicists', 'stags', 'sails', 'sippers', 'barracks', 'sages', 'bores', 'renunciations', 'apses', 'purchases', '$12.50', 'emeralds', 'aptitudes', 'inhibitors', 'sonatas', 'seed-pods', 'fermentations', 'distributions', 'intendants', 'representations', 'negotiations', 'connotations', 'stabilizers', 'maintains', 'visits', 'wage-rates', '$1,500', 'drivers', 'strippers', 'oils', 'odds', 'headstones', 'visualizes', 'homopolymers', 'snips', 'toughs', 'incentives', 'hounds', 'separators', 'likes', 'resignations', 'groomsmen', 'bales', 'lips', 'rests', 'cycles', 'cofactors', 'haystacks', 'rings', 'appointees', 'dilates', 'controls', 'milquetoasts', 'speaks', 'spurns', 'cuttings', 'warrants', 'misrepresents', 'queens', 'pebbles', 'stumbles', 'excels', 'intransigents', '$133', 'turns', 'determinations', 'gymnastics', 'snapshots', 'timberlands', 'incubi', 'upholders', 'seeds', 'worms', 'geologists', 'realizes', 'hooks', 'liabilities', 'sides', 'lends', '$7.50', '$187', 'jackdaws', 'droplets', 'condolences', '$12,500', 'branches', 'experiments', 'mechanics', 'skippers', 'fortune-tellers', 'protests', 'ovals', 'cows', 'grass-roots', '105-degrees', 'drunkards', 'vacationers', '$12,192,865', 'finders', 'employs', 'meats', 'imaginations', 'bricks', 'symbolizes', 'soybeans', 'purports', 'beetles', 'vagabonds', 'clues', 'bedrooms', 'develops', 'musicals', 'abberations', 'frees', 'thicknesses', 'gastronomes', 'waffles', 'imitations', 'sauces', 'gins', 'incendiaries', 'batters', 'beds', 'allocations', 'sea-horses', 'excursions', 'pushers', 'irregularities', 'reading-rooms', 'machines', 'reserves', '$165', 'hoses', 'porches', 'resources', 'records', 'dens', 'mouthpieces', 'confirms', 'awards', 'incongruities', 'delinquents', 'trenches', 'cloves', \"wive's\", 'tithes', \"men's\", 'half-moons', 'cosmologists', 'non-dramas', 'rat-holes', 'halfbacks', 'neuroses', 'subordinates', 'coffers', 'sirs', 'arms', \"carpenters'\", 'handstands', 'bedbugs', 'regalia', 'alkaloids', '470-degrees-c', 'paintings', 'particles', 'privileges', \"18'.5\", 'bonds', 'differs', 'bouquets', 'sit-ins', 'choreographers', 'australites', 'air-drifts', 'people', 'bullies', 'eventualities', 'comparisons', 'strokes', \"colonists'\", 'levers', 'remembers', 'reminiscences', 'canyons', 'probings', 'excesses', 'machinists', 'treasures', 'cameos', 'behaviors', 'home-comings', 'theaters', 'landslides', 'dismisses', 'portwatchers', 'roots', 'foreheads', 'vestments', 'droves', 'rivers', 'tools', 'gods', 'streets', 'guitars', 'laws', 'dinosaurs', 'withes', 'chartists', 'fortresses', 'breathes', 'holds', 'endeavours', 'directors', '$2,500', 'earphones', 'robots', 'dumbbells', 'viewers', 'antagonists', 'intangibles', 'costumes', 'violins', 'threats', 'barnyards', 'doves', 'appoints', 'complexities', 'wheezes', 'floorboards', 'lamentations', 'pursuers', 'foibles', 'timers', 'bureaucrats', 'lakes', 'trapdoors', 'carvings', 'campaigners', 'subsections', \"9'\", 'masterpieces', 'manuals', 'anacondas', 'auditors', 'greenhouses', 'tubs', 'configurations', 'tiles', 'envisages', 'skis', 'journals', 'debuts', 'parks', 'sources', 'scores', \"sisters'\", 'rivulets', 'combinations', 'sh-ts', 'beans', 'plates', 'preoccupations', 'establishes', \"respondents'\", 'seeks', 'rafts', 'specifics', \"teammates'\", 'sculptors', 'mysteries', 'runes', 'crimes', 'normals', 'imperfections', 'dangers', 'stirups', 'pins', 'shouders', 'inevitabilities', '$77,389,000', 'digressions', 'suburbanites', 'paratroops', 'drops', 'preoccupies', 'expeditions', 'reckons', 'well-springs', 'schoolboys', 'responsibilities', 'janitors', 'adenomas', 'chairmen', 'alliances', 'farces', 'accentuates', 'bolts', 'gentians', 'focuses', 'tokens', 'appendages', 'motorists', 'notables', 'ramblings', 'learns', 'spigots', 'routings', 'enlists', '$9.50', 'practitioners', 'concessionaires', 'organizes', 'motifs', 'accumulates', 'mammals', 'nuns', 'blows', 'townsmen', 'covenants', '65-degrees', 'kidnappers', '$16', 'polyelectrolytes', 'persists', 'macro-instructions', 'lice', 'wants', 'lists', 'quarrymen', '$24,926,615', '$4,800', 'mooncursers', 'geniuses', 'corollaries', 'flies', 'planets', 'coeditors', 'renews', 'brothers', 'conceptions', 'iniquities', 'winches', \"longshoremen's\", 'trimmings', 'gunfights', 'fireplaces', 'exhibitions', 'gables', 'plaques', 'bluffs', 'reflects', 'rankles', 'beets', 'halides', 'r.p.m.', 'peccadilloes', 'pioneers', 'admonitions', 'years', 'pp.', 'airdrops', 'plunkers', 'species', 'rats', 'punishes', 'witnesses', 'journeys', 'seedcoats', 'gallons', 'dances', 'irregulars', 'chains', '$.65', 'regrets', 'hypocrisies', 'gambles', 'headstands', 'vies', 'profiles', 'exercises', 'trees', 'readings', 'requests', 'weaknesses', 'cereals', 'studs', 'connections', 'buttons', 'coxcombs', 'recounts', 'missiles', 'vessels', 'handlers', 'vagaries', 'towers', 'flagpoles', 'grants', \"delegates'\", 'galleries', 'accusations', 'hearers', 'poets', 'geographers', 'searchings', 'inadequacies', 'identifies', 'ruminants', 'ribbons', 'magicians', 'agates', 'frogs', 'members', 'parliaments', 'constructions', 'addicts', 'macromolecules', 'goitrogens', 'frontiers', 'lodgings', 'slides', 'lodges', 'rubies', 'vehicles', \"others'\", 'oafs', 'denies', 'almonds', 'mid-thirties', 'detectors', 'pegs', 'rookies', 'nightingales', 'positions', 'wires', 'slights', 'underpins', 'characteristics', \"girls'\", 'designates', 'thatches', 'attributes', 'sorrows', '$1.80', 'victories', 'prescribes', 'acquires', \"nurses'\", 'precincts', 'titles', 'shitts', 'knuckles', 'robes', 'responds', 'infantrymen', 'presentations', 'charts', 'miscalculations', 'macrophages', 'banquetings', 'hails', 'promises', 'mobsters', 'polyesters', 'clerks', 'dissonances', 'trinkets', 'suspenders', 'computes', 'diagonals', 'encompasses', 'polymers', 'presentments', 'masquerades', 'confabulations', 'glories', 'hattes', 'chips', 'shouts', 'splotches', 'berries', 'busts', 'threatens', '$3.00', 'leadings', 'sensors', 'discloses', 'fixtures', 'amazons', 'oaths', 'anomalies', 'pipes', \"1930's\", 'skeptics', 'alkalis', 'winters', 'speeches', 'survivalists', 'families', '$3.11', 'toppings', 'enforces', 'anxieties', 'characters', 'paces', 'payments', 'burns', 'tempts', 'trusses', 'saws', 'potentialities', 'includes', 'ventricles', 'strikes', 'misplacements', '$8,555', 'acknowledges', 'sundials', 'programs', 'longitudes', 'scholars', 'boaters', 'origins', 'prosceniums', 'bits', 'introductions', 'summers', 'outskirts', 'departures', 'tendons', '$10,000-per-year', 'deserves', 'henchmen', 'periscopes', 'proclamations', 'cores', 'meditations', 'enters', 'inventories', 'regiments', 'removes', 'eies', 'jabberings', 'reservations', 'skies', 'deviations', 'citations', 'anticipations', 'bothers', 'capsules', 'commanders', 'planks', 'cranberries', 'ball-carriers', 'uncertainties', 'misses', 'fans', 'moods', 'pets', 'reservoirs', 'uprisings', \"teams'\", 'proctors', 'pricks', 'involves', '$1.1', 'tapes', 'coordinates', 'fables', 'ex-liberals', '$18.9', 'nicknames', 'visitors', 'enzymes', 'utopians', 'climaxes', 'proceedings', \"48''\", 'roles', 'composes', 'proceeds', 'gluttons', 'photoelectrons', '$0.9', '$500', 'scimitars', 'barbecues', 'droppings', 'instalments', 'misinterpreters', '37-degrees', 'bacteria', 'imperialists', 'clefts', 'anecdotes', \"steelmakers'\", 'stinkpotters', 'planters', 'moralities', 'memory-pictures', '110-degrees', \"critics'\", 'guiftes', 'blends', 'crusaders', 'molars', 'swellings', 'tankers', 'stacks', 'quotes', 'magnifies', 'maids', 'flounders', '$2400', \"ladies'\", 'lectures', 'weeds', 'steps', 'connects', 'monuments', 'bases', 'contraptions', 'habitants', 'glaciers', 'tanks', 'contingencies', 'canisters', 'rejections', 'elephants', 'fungicides', 'stripes', 'interactions', 'diaries', 'dumps', 'duties', 'educators', 'assurances', 'extracts', 'motions', 'reagents', 'luminaries', 'postcards', 'creators', 'patrolmen', 'habits', 'rangers', 'thugs', 'announcers', 'shapes', 'rattles', 'determinants', 'biases', 'kissings', 'medics', 'assailants', 'punks', 'completes', 'knees', \"writers'\", '42-degrees-f.', 'delivers', 'arylesterases', 'eye-beamings', 'wheels', 'capacitors', 'walks', 'divisions', 'moccasins', 'nationalists', 'saints', 'cams', 'motivates', 'tangents', 'imports', 'sequins', 'jerkings', 'fellers', 'automobiles', 'romancers', 'snuffboxes', 'slums', 'probabilities', 'tumbrels', 'derives', 'episodes', \"sachems'\", 'eyeteeth', 'scopes', 'out-migrants', 'scans', \"policemen's\", 'faculty', 'excellences', 'saponins', 'handymen', 'adorns', 'homefolk', 'conferees', 'agonizes', 'downs', 'quotas', 'notices', 'headlights', 'yachts', 'instructs', 'voyages', 'jabs', 'chooses', '$36', 'gardens', 'attains', 'drs.', 'squeals', 'parishioners', 'nips', 'misgivings', 'usages', 'jobs-tears', 'pickoffs', 'spewings', 'exports', 'admirals', 'locks', 'concentrations', 'perspectives', 'snapdragons', 'gainers', 'ravines', 'minds', 'epics', 'pressures', 'philantropists', 'satires', 'sandals', 'cushions', 'headquarters', 'chemists', 'blunts', \"lawyers'\", 'quintets', 'bushels', 'stillbirths', 'fritters', 'installations', '$7.00', 'hiccups', 'technicians', \"supervisors'\", 'divers', 'tyrants', 'madrigals', 'tables', 'logs', 'valleys', \"growers'\", 'shelters', 'manhours', 'westerners', \"60's\", 'captives', 'problems', 'anions', 'gnomes', 'imprecates', 'squadrons', 'keys', 'breeches', 'clocks', 'orders', 'orbits', 'butlers', 'announcements', 'chanceries', 'coincides', 'furrows', 'considers', 'gems', 'chicks', 'troopers', 'gadgets', 'pens', 'chlorides', 'ranchers', 'cynics', 'loaves', \"'30s\", 'distributes', 'ceilings', 'hangars', 'frowns', 'vineyards', 'winds', 'dialects', 'zombies', 'lurks', 'knows', 'rehabilitations', 'mixtures', \"farmers'\", 'pages', 'pinks', 'anteriors', 'parades', 'boomerangs', 'landmarks', 'drowns', 'revellings', 'tags', 'souvenirs', 'armchairs', 'colonels', '$31,179,816', 'qualifications', \"1920's\", 'supporters', 'patriots', 'secrets', 'regulations', 'by-roads', 'deacons', 'carries', '$1,200', 'reels', \"months'\", 'chambermaids', 'bathtubs', 'powerplants', 'munitions', 'fishermen', 'symbolists', 'beverages', 'unities', 'wallpapers', 'monkeys', 'blessings', 'reviewers', 'levies', 'solos', 'guides', 'bereavements', 'petals', 'ranges', 'interprets', 'capita', '$451,500', 'ferries', '$28.00', 'hurts', 'bans', 'grandmothers', 'introduces', 'cubists', 'sisters-in-law', 'urgencies', 'growths', 'conspiracies', 'wrinkles', 'dispensers', 'pays', 'bins', 'calls', 'schooldays', 'amusements', 'kick-offs', 'invasions', 'points', 'seas', 'pulleys', 'infestations', 'subjectivists', 'industrialists', 'tragedians', 'appeals', \"contractors'\", 'best-sellers', '$3,675', 'machine-masters', 'arrows', 'lions', 'five-elements', 'spires', 'institutes', 'mists', 'wrenches', 'celluloses', 'subsedies', 'truckers', 'migrants', 'data', 'eccentrics', 'campgrounds', 'exigencies', 'booklets', 'surfactants', 'forums', 'nerves', 'suspicions', 'fluctuates', 'strengthens', \"producers'\", 'tomatoes', 'culminates', 'accepts', 'squalls', 'peptides', 'revetments', 'assessors', 'means', 'surmises', 'collects', 'bodes', 'brightens', 'bunters', 'executives', 'anti-communists', 'great-nieces', 'exhausts', 'physicians', 'wonders', 'boatyards', 'microfossils', 'maps', 'weeks', 'foods', 'seasons', 'sophisticates', 'metaphors', 'freedoms', 'comedies', \"1840's\", 'stitches', 'idols', 'parimutuels', 'immoralities', 'interrelations', 'trobles', 'torsos', 'metals', 'transactions', '1880s', 'courtyards', \"janitors'\", 'freezes', 'perceives', 'clods', 'consumes', 'contradicts', 'nightmares', 'hikes', 'alumnae', 'freebooters', \"survivors'\", 'creases', 'catchers', 'effects', 'hoofs', 'purveyors', 'vocalists', 'sticks', 'azaleas', 'expansions', 'concentrates', 'subdues', 'jonquils', 'hordes', 'basics', 'molecules', 'quotations', 'reviews', 'manufactures', 'spectra', 'orifices', 'charters', 'sub-chiefs', 'shows', 'attempts', 'planetoids', 'near-strangers', 'marts', '$450', 'females', 'filibusters', 'ballerinas', 'whiskers', 'cowhands', \"peoples'\", 'tractors', 'depredations', 'boatloads', 'slave-owners', 'donors', 'wisps', 'echoes', 'formalities', 'bombs', 'philanthropies', 'trips', 'retains', 'opinions', 'promotes', 'ills', 'takes', 'midshipmen', 'commonplaces', 'vaults', 'tips', 'blues', 'presences', 'vicissitudes', 'texts', 'insinuations', 'deductions', 'evolutionists', 'rallies', 'solidifies', 'reappraisals', 'mm.', 'mountainsides', 'owls', '$172,400', 'landscapes', 'adjourns', 'student-physicists', '$350,000', 'integrals', 'comics', 'revolts', 'counties', 'knights', 'wrings', 'deadlines', 'magnetisms', 'peaks', 'ashtrays', 'castanets', 'coattails', 'holes', \"1960's\", 'talents', 'grasslands', 'nymphomaniacs', 'annoyances', 'titters', 'researchers', 'laboratories', '$.86', 'miscellanies', 'headwaters', 'dynodes', 'allies', 'utilizes', 'possiblities', 'tripods', 'brambles', 'pistons', 'panties', 'animals', 'owes', '$60', 'carcasses', 'quarterbacks', 'drawings', 'intensifiers', 'squabbles', 'crowds', 'shootings', 'shutters', 'orientations', 'maidens', 'panes', 'spasms', 'delegations', 'merchants', 'duets', 'invitees', 'tributes', 'governors', 'appropriations', 'aggregations', 'cabins', 'wrappers', 'agenda', 'whoppers', 'blasts', 'adversaries', 'volts', 'adherents', 'humanists', 'thinkers', 'pups', 'assessments', '$.30/mbf', 'locales', 'lemons', 'reduces', 'galleys', 'abstractions', '$100,000', 'felons', 'oxyhydroxides', 'fifties', 'motivations', 'avoids', 'bulletins', 'iodothyronines', 'guys', \"queens'\", 'demonstrates', 'theatres', 'sensations', 'routes', 'things', 'townships', 'triumphs', \"juniors'\", 'whisperings', 'near-communists', 'keynotes', 'spoilables', '$17,000,000', 'crinkles', 'wives', 'cues', 'pathways', 'tusks', 'terrains', 'companies', 'msec.', 'inspections', 'stalls', 'restrictions', 'signifies', 'patterns', 'teaches', 'varnishes', 'reprisals', 'scapegoats', '$10.3', 'swivels', 'crossroads', 'peals', 'terrours', 'tracks', 'principals', 'smugglers', 'pulls', 'ranches', 'collages', 'intermediates', 'vandals', '410-degrees-c', 'convictions', 'forepaws', 'robberies', 'krautheads', 'censors', '105-degrees-f', 'instrumentalists', \"singers'\", 'gashes', 'shackles', 'phagocytes', 'handcuffs', 'kennings', 'ministrations', 'enticements', 'antics', 'marrowbones', 'sweets', 'augurs', 'magnitudes', 'tensions', 'tulips', 'driveways', 'antiquarians', '$2,700', 'bangs', 'testifies', 'glanders', 'handlebars', 'floods', '$45', 'servings', 'reactions', 'imprecations', 'ballfields', 'resonances', 'signatures', 'bulbs', \"members'\", 'spirituals', 'maples', 'm.p.h.', 'audits', 'tantrums', \"parents'\", 'suspensions', 'garages', 'binds', 'rabbits', 'plunges', 'hoops', 'belongings', 'endows', 'popes', 'analyses', 'intrigues', 'suggestions', 'explodes', 'hunts', 'steals', 'treats', 'egrets', 'bishops', 'ditches', 'synthesizes', 'wash-outs', 'entries', 'inspirations', 'buys', 'confinements', \"customers'\", 'combatants', '$4,000,000', 'stewardesses', 'coloreds', 'frustrations', 'wads', 'therapies', 'stabilizes', 'believers', 'outboards', 'ex-bandits', 'oceans', 'ellipsoids', 'hosts', '$4,500', 'involutions', 'alibis', 'schoolchildren', 'athletes', 'madstones', 'outlaws', 'rapes', 'botanists', 'constituencies', 'workmen', '$395,000', 'nodes', 'youngsters', 'pits', 'sparks', 'gates', 'insinuates', 'greens', 'libertarians', 'enterprises', 'illustrators', 'tissues', 'poses', 'arterioles', 'forages', 'prospects', 'silhouettes', 'strikebreakers', 'watchmen', '$73.50', 'rattlesnakes', 'marinas', 'subscribers', 'overhangs', 'slogans', 'pliers', 'clergy', 'fixers', 'expenditures', 'phrasings', 'boatmen', 'antibiotics', 'amounts', 'realms', 'conspirators', 'intrudes', '$109', 'swings', 'hearest', 'bubbles', 'computations', 'constants', 'households', 'systems', 'approximations', 'leaches', 'digs', '90-degrees-f', 'sleepers', 'relies', 'preachers', 'boasts', 'furnaces', 'spots', 'locomotives', 'numbers', 'views', 'smithereens', 'spirits', 'sputniks', 'syndicates', 'needs', 'matters', 'racers', 'orchestras', 'intuitions', 'hostesses', 'storms', 'growers', 'headlands', 'elbows', 'clashes', 'unfortunates', 'composites', 'seamen', \"two-bits'\", 'thickets', 'bats', 'rises', 'fires', 'broncs', 'expressions', 'warships', 'jurists', 'factors', 'builds', 'loaders', 'attends', 'becometh', \"12''\", 'heaps', 'lithographs', 'cohorts', '$1,000,000', 'pastimes', 'meets', '$550', 'increases', 'complexes', 'burrows', 'comrades', 'beads', 'wattles', 'terrorists', 'hires', 'boathouses', 'compensates', 'vitiates', 'af-values', 'alienates', 'requirements', 'strictures', 'airways', \"secretaries'\", 'glycosides', 'lighthouses', 'setbacks', 'montmorillonites', 'outfielders', 'insults', 'yields', 'swathings', 'chunks', 'republics', 'outposts', 'productions', '0.3m', 'lungs', 'milks', 'administrators', 'brochures', 'seams', '$75,000,000', 'chaplains', 'price-earnings', 'artisans', 'tragedies', '$1500', 'dawns', 'receptions', 'nation-states', 'kicks', 'flocks', 'ballistics', 'overcomes', 'psychologists', 'fishers', 'kc.', 'seals', 'carpets', 'complements', 'burlesques', 'cutters', 'near-equivalents', 'exertions', 'skinfolds', 'accessories', 'discs', 'prizes', 'reins', 'lulls', 'absurdities', 'relearns', 'intruders', 'baseballs', 'clinches', 'soothsayers', 'speakers', 'tigers', 'reflections', 'rays', 'refinements', 'chilblains', 'timetables', 'copybooks', 'farms', 'schoolbooks', 'sums', 'busses', '$1.26', \"women's\", 'prisons', 'snags', 'pads', 'exceptions', '$580', 'jogs', 'advantages', 'inductions', 'privies', 'prescriptions', 'frames', 'dissolutions', 'jitters', 'calendars', 'supermarkets', 'conspires', 'gavottes', 'heaves', 'tires', 'spheres', 'totals', 'examines', 'lumps', 'stiffs', 'illuminations', 'approves', 'pokes', 'improvises', 'aliquots', 'assaults', 'obsesses', 'overalls', '$4,753', 'peptidases', 'heroes', 'enthrones', 'haunts', 'expands', 'brows', 'figures', 'draughts', 'collaborators', 'neutralists', 'reinforcements', 'item-categories', 'butterflies', '$3.5', 'coolnesses', 'teems', 'deductibles', 'mediocrities', 'showings', 'throws', 'counter-efforts', 'infidels', 'lances', 'beggars', 'eschews', 'reimburses', 'veers', 'perforations', 'aspirations', 'contours', 'dukes', 'impulses', 'purchasers', 'neighbours', 'homesteaders', 'draws', 'sphynxes', 'authorities', 'miniatures', 'exacerbations', 'grassroots', 'decks', 'temptations', 'francs', 'pardons', 'highlands', 'billets', 'variables', 'gobbles', 'parables', 'cigars', 'prayer-requests', \"hours'\", 'catastrophes', 'dusts', 'ambitions', 'oilseeds', 'tides', 'prevents', 'battens', \"70's\", 'rivalries', 'incurs', 'sues', \"ships'\", 'engineers', 'reefs', 'thuds', '$27.50', 'mastodons', 'workingmen', \"artists'\", 'enlargements', 'disdains', 'orthographies', 'mitigates', 'caseworkers', 'lads', 'lionesses', 'buoys', 'laurels', 'designations', 'unites', 'cottages', 'compilations', 'plows', 'swarms', 'do(c)ters', \"stations'\", 'cities', 'suicides', 'characterizations', 'termini', 'screeches', 'monasteries', 'decays', 'extravaganzas', 'corpses', 'honors', 'free-holders', 'varies', 'builders', 'begins', 'speculations', 'postmasters', 'bunkmates', 'reference-points', 'missions', 'flame-throwers', 'racketeers', 'arsines', 'distortions', 'tirades', 'logarithms', 'planners', '$7', 'corticosteroids', 'innocents', 'synagogues', 'geysers', 'necessaries', 'awakens', 'rails', 'barricades', 'steam-baths', 'drapes', 'paws', 'caresses', 'charities', 'freezers', 'publishes', 'compares', 'evocations', 'cattle', 'autocracies', 'morals', 'substitutes', 'limitations', 'series', 'disapproves', 'chocks', 'entertainers', 'over-achievers', 'vectors', 'scouts', 'steaks', 'dwells', 'experts', 'accomplishments', 'pales', 'theologians', 'repels', 'engravings', 'cartridges', 'buyers', '$400', 'covers', 'taboos', 'leggings', 'waterfalls', 'links', 'faculties', 'twigs', 'extremities', 'antiques', 'pamphlets', 'nerve-ends', 'descendants', 'functions', 'blueberries', 'prostitutes', 'isles', 'architectures', 'safeties', 'maneuvers', 'hirelings', 'burgesses', 'bulkheads', '$10', 'veterans', 'toes', 'libertines', 'aldermen', 'graffiti', 'honeymooners', 'herds', 'basses', 'eyelids', 'scriptures', 'asserts', 'portraits', 'coupons', 'epaulets', 'sinusoids', 'paradigms', 'establishments', 'oldies', 'brunches', 'recipients', 'fellas', 'jealousies', 'powders', '$80', 'boards', 'natives', 'earrings', '$37', 'parts', 'embodiments', 'outbreaks', 'decorators', 'tiers', 'horizons', \"clients'\", 'hr.', 'majesties', 'examples', 'protects', 'cools', 'aerates', 'teams', 'critters', 'flimsies', \"cousins'\", 'quantities', 'secants', 'superlatives', 'yokels', 'haircuts', 'billboards', 'applications', \"1940's\", 'diffusers', 'niceties', 'scandals', 'plays', 'dervishes', 'suppliers', 'letters', '$70', 'discourses', 'sites', 'parasites', 'misunderstandings', 'brands', 'pods', 'maniacs', \"pirates'\", 'hoes', 'hotels', 'blizzards', 'insurgents', 'novelists', 'islands', 'ft.', 'occupancies', 'trunks', 'aprons', 'divides', \"beginners'\", 'improvisations', 'cartoonists', 'confusions', 'pipers', 'buzzes', 'arpeggios', 'couplers', 'starlings', 'hurlers', 'palazzos', 'touchdowns', 'undergoes', 'thrives', '$10,000,000', 'discolors', 'fervors', 'trousers-pockets', 'declines', 'faithful', 'arrives', 'shadows', 'recordings', 'rivals', 'unknowns', 'superimposes', 'instructors', 'lifters', 'receives', 'nibblers', 'devotees', 'vampires', 'churchgoers', 'projects', 'caliphs', 'bookies', 'intervals', 'respects', 'appliques', 'aircraft', 'afflictions', 'contests', 'waterways', 'stocks', 'cutouts', 'scanners', 'lbs.', 'adjustments', 'non-publishers', 'insets', \"motors'\", 'awnings', 'doors', 'ornaments', 'analyzes', 'throes', 'redheads', 'nuclei', 'dramas', 'diagnosticians', 'styles', '$125', 'gloves', 'wines', 'churchmen', '-78-degrees', 'emergencies', \"players'\", 'dignitaries', 'chances', 'ores', 'wages', 'chimneys', 'dominates', 'semi-conductors', 'quacks', 'excludes', 'skyscrapers', 'diameters', 'abbreviations', 'strains', 'prophecies', 'contacts', 'lentils', '$639', 'borders', 'dormitories', 'liners', 'renderings', 'trophies', 'muffins', 'ascribes', 'idiosyncrasies', 'swallows', 'bovines', 'playes', 'countrymen', 'safeguards', 'cribs', 'adulterers', 'producers', 'bibles', 'strengths', 'needles', '$60,000', 'turbinates', \"networks'\", 'vacancies', 'appliances', 'stratagems', 'smelts', 'sopranos', 'volunteers', 'revolves', 'clears', 'touches', 'workings', \"trustees'\", 'adores', 'licenses', 'yrs.', 'hedges', 'bayonets', 'architects', 'statuses', 'occurs', 'immensities', 'forebears', 'weekends', 'acre-feet', 'buggies', 'purposes', 'commands', '1930s', 'repeats', 'facades', 'alleys', 'hallways', 'winnings', 'holystones', 'preaches', 'rutabagas', 'outrages', 'concerts', 'quarts', 'voices', 'patties', '$4200', \"grizzlies'\", 'closeups', 'wavelengths', 'ledgers', 'backbends', 'winners', '120-degrees', 'outsiders', 'riflemen', 'frauds', 'countries', 'impressionists', 'statistics', 'mixers', '325-degrees-c', 'daylights', 'specifies', 'balks', 'longings', 'delays', 'restrains', '$3.15', 'pubs', 'disbursements', 'metaphysicals', \"'20's\", 'railroads', 'insiders', 'travelogues', 'elaborates', 'clergymen', 'granules', \"twins'\", 'traits', 'coals', 'seminarians', 'fleas', 'packets', 'games', 'insects', 'landings', 'maturities', 'barriers', 'handicrafts', 'estuaries', 'customs', 'meteors', 'swatches', 'rackets', 'ideas', 'baptisms', 'thousands', 'apprentices', 'enjoys', 'expects', '$15', '$16.00', 'wharves', 'scatters', \"1700's\", 'inhibits', 'victims', 'perishes', 'responses', 'counter-successes', 'measurements', 'beards', 'recommends', 'doubts', 'crags', 'securities', 'periodicals', 'adverbs', 'facets', 'yearnings', 'abuses', 'pauses', 'policy-makers', 'tears', 'barons', 'broods', 'pilgrimages', 'tenements', 'affirms', 'hosses', 'transcendentalists', '$1.4', 'organizers', 'bridges', 'parishes', 'sits', 'somersaults', 'bazaars', 'philosophers', 'slots', 'civilizations', 'stores', 'reps', 'anniversaries', 'humorists', 'blushes', 'dimers', 'shutdowns', 'turtles', 'bellhops', 'cockroaches', 'aerials', 'participates', 'smolders', 'hues', \"judges'\", 'remnants', 'cavalcades', 'runners', '170-degrees-c', 'diversities', 'princes', 'notes', 'sorts', 'stops', 'headaches', 'relations', 'milliamperes/cell', 'wins', 'fins', 'outcrops', 'gazettes', 'piazzas', 'prolusions', 'temperatures', 'wakes', 'taxes', 'booklists', 'fulfills', '37-degrees-c', '$35,823', 'presumptions', '$720', 'sanctions', 'scoundrels', 'sands', 'cow-people', 'suds', 'iodocompounds', 'pimples', 'reactors', 'sarcasms', 'consultants', 'mortars', 'chops', 'friezes', 'platters', 'pigments', 'assemblies', 'tenets', 'furlongs', 'significants', 'jeans', 'shooters', 'worsens', 'codetermines', 'dewdrops', 'collegians', 'ions', 'hopes', 'regions', 'magnums', 'blue-eyes', 'millions', 'haunches', 'riots', 'subdivisions', 'alcoholics', 'concessions', 'call-backs', 'overreaches', 'tablets', 'servants', 'servicemen', 'personnel', 'nostrils', 'muzzles', 'fatigues', 'gaucheries', 'benches', 'curves', 'transoms', '$297', 'actors', 'pool-owners', 'recollections', 'vistas', 'advancements', 'solutions', \"bull's-eyes\", 'clings', 'trials', 'mounts', 'loyalties', 'motives', 'researches', 'feeds', 'photofloodlights', 'mollusks', 'triplets', 'submissions', 'crooks', 'ensembles', 'aviators', 'abilities', 'rides', 'circumstances', 'emphasizes', 'lathes', 'inlets', 'entities', 'switches', 'designs', 'boardinghouses', 'alarms', 'coverings', 'prefers', 'halls', 'playwrights', 'antiquities', 'medallions', 'attackers', 'authorizes', 'registrations', 'adventurers', '$.076', 'vitamins', 'transfers', 'accolades', 'glides', 'officials', 'percentages', 'peacocks', 'stations', 'advertisements', 'postures', 'pant-legs', 'sweepings', 'antennae', 'heretics', 'lasses', 'southernisms', 'backyards', 'breaths', 'months', '$50,400,000', 'camellias', 'fatalities', 'tumors', 'bands', 'customers', '$8.5', 'defenders', 'fifteen-sixteenths', 'boosts', '$80,738', 'towels', 'fishes', 'rangelands', 'neglects', 'poises', 'pitfalls', 'props', 'slips', 'headwalls', 'repositories', 'queries', 'ports', 'thirds', 'trolls', 'accompaniments', 'kindnesses', 'dabbles', 'fireworks', 'accompanies', 'leathers', 'husbands', 'nests', 'rounds', 'joins', 'mansions', 'leaders', 'newlyweds', 'relieves', 'rocks', 'catches', 'floodheads', 'chowders', 'entails', 'worlders', 'drains', 'fights', 'staffs', 're-enactments', 'broadcasts', 'reappears', 'globulins', 'gestures', 'memorabilia', 'mid-fifties', 'voids', 'obscures', 'signals', '109-degrees-f', '8-balls', 'gradations', 'sustains', 'looks', 'extractors', 'prayers', 'crows', 'breeds', \"mid-1950's\", 'pupils', 'affinities', 'orators', 'climes', 'compositions', 'primes', 'hairs', 'wraps', '$230,000', 'volumes', 'bumps', 'drunk-and-disorderlies', 'easterners', 'stipulates', 'rivets', 'turnips', 'wales', 'continuities', 'fieldmice', 'woods', \"children's\", 'expresses', 'elegances', 'milligrams', 'capitalists', 'newts', 'couches', 'tumbles', 'agents', 'chaps', 'bleedings', 'campers', 'burnings', 'requires', 'mountings', 'columns', 'sneaks', 'managers', 'skeletons', 'diets', 'ovens', 'grits', 'confrontations', 'desserts', 'puts', 'instruments', 'loosens', 'marshlands', 'cages', 'outlets', 'leases', 'hypotheses', 'shores', 'comments', 'deaths', 'skulls', 'panoramas', 'prevails', 'thirties', 'risks', '85-degrees', 'embraces', 'outriggers', 'platforms', '$57,500', 'herpetologists', 'orgies', 'scapulars', 'affections', 'dictators', 'distinguishes', 'strawberries', 'spells', 'doorways', 'examinations', 'comprises', 'notches', 'partners', 'hides', 'hostilities', 'stoppages', 'snivelings', 'elapses', 'cm.', 'waitresses', 'widths', 'dissatisfactions', 'teaspoonfuls', 'excuses', 'fines', 'lifts', 'at-bats', 'scientists', 'conversions', 'publishers', 'prognoses', 'misrepresentations', 'reproducibilities', 'stragglers', 'irons', 'beams', 'fathoms', 'depositions', 'sewers', 'cityscapes', 'marries', 'fraternities', 'wars', 'successes', 'inroads', 'athletics', 'cross-striations', 'finger-tips', '$4', 'vases', 'lies', 'books', 'reimbursements', 'regimes', 'biddies', 'aces', 'tonalities', 'filets', 'bandits', 'mars', 'lairs', 'toe-tips', 'nods', 'polarities', 'attractions', 'certitudes', 'pills', 'inmates', \"friends'\", 'spoils', 'moves', 'lawns', \"sellers'\", 'graphs', '$610', 'maggots', 'ordinates', 'lawsuits', 'implements', 'cartwheels', 'deeds', 'accelerometers', 'gibes', 'swords', 'lots', 'blooms', 'blossoms', 'handles', 'trusts', 'handfuls', 'estates', 'micelles', 'filaments', 'roads', 'minerals', 'septa', 'comings', 'complaints', 'choruses', 'pronouns', 'expires', 'stresses', 'employments', 'predominates', 'connotes', '$148.50', 'rhythm-and-blues', 'adds', 'playbacks', 'ex-convicts', 'sentiments', 'governs', 'followers', 'butts', 'broadens', '$4.98', 'casters', 'councils', 'students', 'certificates', 'splits', 'causes', 'shovels', 'explores', 'virtues', 'eras', 'alkylbenzenesulfonates', 'porpoises', 'full-sisters', 'creepers', 'seagulls', '$28', 'weighs', 'provisons', 'skiis', 'reedbuck', 'dollies', 'conveys', 'tidelands', 'noses', 'wholes', 'pots', 'successors-in-spirit', 'extrapolates', '$5-8,000', 'coops', 'prosecutors', 'examiners', 'communities', 'helmets', 'sovereigns', '$457,000', 'gunners', \"0.5''\", 'suckers', 'teaspoons', 'specifications', '$2,300', 'deformities', 'castorbeans', 'versions', 'therefores', 'incomes', 'experimentations', '$40,000,000', 'nobles', 'committees', 'ankles', 'talks', 'adheres', 'bodies', \"students'\", 'babies', 'clauses', 'achievements', 'listings', 'socializes', 'vents', 'rascals', 'admirers', 'composers', 'weddings', 'postmen', 'stunts', 'specks', 'by-ways', 'educations', 'ceases', 'partisans', 'joys', 'admits', 'beeps', 'fronts', 'northers', 'events', 'losers', 'writings', 'bays', 'contributions', 'biscuits', \"states'\", 'paraphrases', 'rosettes', 'interns', 'convicts', 'corporations', 'smokes', 'tastes', 'rots', '1890s', 'sheds', \"architects'\", 'gags', \"don't-know's\", 'chants', '$4,500,000', 'reproduces', 'hartes', 'loans', 'jeers', 'fames', 'leaflets', '$172,000', 'blinds', 'keeps', '$100', 'sultans', 'avocados', 'submariners', 'capitals', 'casts', \"idols'\", 'tapestries', '$300', 'objects', 'exponents', '$185', 'conserves', '$30', 'mentions', 'checks', 'emissaries', 'headings', 'violates', 'pessimists', '32-degrees-f', '$500,000', 'satirizes', 'yachters', 'huts', 'tongues', 'says', 'overtones', 'desires', 'marauders', 'gyros', 'graduates', 'calibrations', '$79.89', 'pupates', 'micrometeorites', 'crystals', 'compresses', 'programmes', 'pecans', 'feuds', 'dells', 'two-seaters', 'teats', 'seconds', 'trays', 'offences', 'non-objects', 'albums', 'aspects', 'hens', 'bluefish', 'fountains', 'flavorings', 'tempers', 'easements', 'ciphers', 'regulars', 'platoons', 'nineties', 'reductions', 'latitudes', 'sights', 'hampers', 'obligations', 'semi-abstractions', 'edges', \"1900's\", 'fleets', 'villains', 'bees', 'pastures', 'freights', 'acknowledgments', 'suffragettes', 'nuisances', 'skips', 'proposals', 'selectors', 'side-effects', 'encloses', 'fairgoers', 'tests', 'gets', 'lock-outs', '$23,000,000', 'a5', 'freight-bums', \"oxen's\", 'grinders', 'aggravates', 'freethinkers', 'broadcasters', 'men', 'kisses', 'shorelines', 'algae', 'controversies', 'gallants', 'scoreboards', 'professions', 'chores', 'twos', 'sweetpeas', 'skins', 'mutters', 'shareholders', 'promulgators', 'auto-loaders', 'forefingers', 'ensures', 'trims', 'deprivations', 'spills', 'biopsies', 'preparations', 'processors', 'personalities', 'commercials', 'drills', 'extrapolations', '$3,825', 'photocathodes', 'protozoa', 'terriers', 'eyeglasses', 'churns', 'tranquilizers', '25-cents', 'peels', 'tree-clumps', 'patches', 'articulations', 'fists', 'refers', 'inventions', 'anthropologists', 'conceals', 'caucuses', 'trappings', 'stabilities', 'royalties', 'marvels', 'shields', 'moths', 'acrobats', 'thermometers', 'minaces', 'realtors', 'cashews', 'aggressions', 'experiences', 'veins', 'conducts', 'crewmen', 'loops', 'misdirectors', 'independents', 'exiles', 'dramatizes', 'donations', 'tells', 'hollyhocks', 'concepts', 'buddies', 'shoestrings', 'prams', 'entertainments', 'lusts', 'eardrums', 'disagreements', 'writers', 'manors', 'tens', 'spies', 'doctrines', 'males', 'thighs', '$84,000,000', 'stirrings', 'footballs', 'suffers', 'grasshoppers', 'savings', '$65', 'competes', 'pastors', 'widows', 'daisies', 'pinpoints', 'pears', 'phenomena', 'forgeries', 'sallies', 'exposures', 'demons', 'rasps', 'depresses', 'replacements', 'fighters', 'thorns', 'fielders', 'pours', 'ruts', 'aids', '$5.2', 'interacts', 'cares', 'chuckles', 'pinnings', '$600', 'elicits', 'revolutions', 'juices', 'writes', 'equilibriums', 'mementos', 'porcupines', 'aromas', 'psychiatrists', 'grasses', 'presidents', '$.105', 'fabrics', 'stars', 'raises', 'excavations', 'uncles', 'owns', 'brains', 'peers', 'glands', 'sulks', 'pirates', 'crafts', 'importunities', 'sweepstakes', 'hummocks', 'exploiters', 'bear', 'cronies', 'sluices', 'categories', 'mourners', 'deeps', 'barbarians', 'insomniacs', 'gases', 'underachievers', 'times', 'monopolists', '$5.4', \"athletes'\", 'residues', 'screws', 'desks', 'dies', 'wrists', 'lights', 'beat', 'fillings', '$5,000', 'dice', 'lapses', 'despots', 'emphases', 'balls', 'weathers', 'interchanges', 'reconciles', 'autocrats', 'complications', 'aspirants', 'giveth', 'cicadas', 'meanings', '$2,000', 'greases', 'commends', 'in-laws', 'sharks', 'heaters', 'creeps', 'congregations', 'arenas', 'balances', 'advisors', 'frolics', 'transforms', 'stigmata', 'tablespoons', 'hamburgers', 'gassings', '79-cents', 'ginghams', 'colors', 'malformations', 'oystchers', 'word-games', 'tepees', 'musicologists', 'firebreaks', 'streaks', 'gaskets', 'esterases', 'subsidies', 'remarks', 'resides', 'legations', 'carloads', 'misbegotten', 'homers', 're-runs', 'eats', 'lamps', 'claims', 'leashes', '1960s', 'brakes', 'pacifies', 'chins', 'supervises', 'wits', 'destinies', 'enrollees', 'hymns', 'shoulders', 'abstractors', 'inundations', 'imprisons', 'detours', 'crews', 'zones', 'pianos', 'overnighters', 'supports', 'ripples', 'gardenias', 'delineaments', 'argues', 'departments', 'staples', 'eatables', 'appraisals', 'lady-bugs', 'confines', 'witches', 'cudgels', 'drugs', 'primers', 'poaches', 'plaintiffs', 'fellow-men', 'civilians', 'fashions', 'demonstrations', 'alter-parents', 'hearts', 'travellers', 'airports', 'commencements', 'instrumentals', 'employees', \"years'\", 'well-wishers', 'simplicities', 'religionists', 'sidearms', 'courses', 'subspecies', 'extras', 'windows', 'gaslights', 'initiates', 'submarines', 'larks', 'movers', 'opportunities', 'itches', 'ghettos', 'asters', 'incompatibles', 'verandas', 'outlines', 'kneels', 'criminals', 'priests', 'sonorities', 'girls', 'brethren', 'exploits', '$7,000', 'cosponsors', 'sermons', 'pledges', 'towboats', 'sprays', 'baths', 'crossbars', 'bananas', 'hallelujahs', 'standeth', 'successors', 'surpluses', 'outcasts', 'traders', 'restorers', 'fenders', '$.054/mbf', 'recruits', 'oxen', 'struggles', 'bugs', 'believes', 'bribers', 'myths', 'dialogues', 'nubbins', 'elevates', 'halos', 'manners', 'straits', 'backers', 'liters', 'frescoes', 'handicaps', '$590,000', 'handkerchiefs', 'dwarfs', \"doctors'\", 'informants', 'mortals', 'walnuts', 'down-payments', 'depravities', 'bowels', 'impacts', 'oranges', 'murders', 'selves', 'clubrooms', 'diversions', 'anchors', \"mothers'\", 'sins', 'overshoes', 'peculiarities', 'stills', 'shortages', 'twists', 'lasts', 'visitations', 'infringements', 'necessities', 'doctors', 'pronouncements', 'bumblebees', 'fanatics', 'accommodations', 'facilitates', 'lieutenants', '$900', 'lesbians', 'misdeeds', 'photographs', 'mannerisms', 'caves', 'intercepts', 'spacers', 'hatters', 'nos.', 'defends', 'theoreticians', 'tails', \"smugglers'\", 'nations', 'warnings', 'launderings', 'meadows', 'principles', 'obscurities', 'blots', 'cabinets', 'adhesives', 'secretions', 'ruffles', 'attaches', 'disciplines', '$1.5', 'steppes', 'mountains', 'coats', 'primaries', 'schoolgirls', 'retires', 'passions', 'stockings', 'herbs', 'opens', 'movies', 'conductors', 'filmstrips', 'prolongs', 'provinces', 'sororities', 'losses', 'hangovers', 'householders', 'rights', 'lets', 'paterollers', 'creaks', \"5-3/4''\", 'actresses', 'sockets', 'anticipates', 'riders', '$102,285,000', 'baubles', 'pavements', 'restaurants', 'strongrooms', 'imagines', 'accomplishes', 'environs', 'pompons', 'whyfores', 'banshees', 'majorities', 'aborigines', \"citizens'\", 'personae', 'attorneys', 'besets', 'lags', '$200,000', 'stories', 'snakes', 'uniforms', 'demands', 'floors', 'braids', 'cavemen', '10-degrees', 'cascades', 'consultations', 'reds', '$1020', 'blondes', 'gowns', 'fads', 'lineages', 'beatniks', 'oases', 'sightseers', 'reformers', 'green-bugs', 'cartons', 'expectations', 'hovers', 'softens', 'inboards', '$750', 'misdemeanants', 'spandrels', 'disappears', 'britches', 'value-orientations', 'carriers', 'variations', 'airstrips', 'troopships', 'breakdowns', 'twins', 'wears', 'snows', 'accords', 'undergraduates', 'patrons', 'billows', '$5', 'flags', 'audiences', 'naps', 'repairs', 'side-conclusions', 'frills', '$7,082', 'surprises', 'citizens', 'charlatans', 'generalities', 'houses', 'airmen', 'mats', 'incidentals', 'ramps', 'polymerizations', 'basements', 'kilometers', 'esters', 'salaries', 'pitches', 'produces', 'sardines', 'wastes', 'filberts', 'moderns', 'discounts', 'affects', 'listeners', 'petitions', 'idiocies', 'acts', 'bristles', '294-degrees-k', 'exemplifies', 'undertakings', 'apprehensions', 'interpolations', 'suburbs', 'thrones', 'adsorbs', 'lobbies', 'hazelnuts', 'prosodies', 'themes', 'muskets', 'stares', 'awaits', 'existentialists', 'rumbles', 'fingerings', 'eludes', 'forays', 'sentinels', 'workers', 'assets', 'disks', 'drives', 'plainclothes', '$140', 'seafarers', 'depends', 'professionals', 'hi-graders', 'advertisers', 'cheeks', 'models', 'grandchildren', 'skirmishers', 'thyroids', 'forces', 'rains', 'pectorals', 'denunciations', 'passages', 'minors', 'finalists', 'eaters', '1920s', 'instincts', '160-degrees-f', 'fellow-employees', 'cartels', 'budgets', 'advisers', 'galls', 'describes', 'what-nots', 'phosphors', 'flames', 'plugs', 'cantles', 'refrigerators', 'daughters', 'inter-relationships', 'arrears', 'furnishings', 'holdovers', 'throats', 'watchers', 'cuffs', 'denominators', 'muggers', 'casualties', 'scratches', 'livers', 'domains', 'chairmanships', \"field-hands'\", 'organizations', 'blacks', 'plantings', 'cats', 'necessitates', 'knobs', 'disasters', 'microwaves', 'loudspeakers', 'bidders', 'deputies', 'earnings', 'caskets', 'ballets', 'contestants', 'pals', 'arrests', 'earth-weeks', 'distances', 'premonitions', 'slippers', 'dispositions', 'minarets', 'distresses', 'perfumes', 'bake-offs', 'selectmen', 'legs', 'storylines', 'deferments', 'comets', 'publicists', 'maximums', 'antecedents', '$40', 'dynasties', 'injunctions', 'app.', 'birches', 'ensues', 'pretensions', 'kidneys', 'poems', 'cheers', 'transitions', 'girders', 'beakers', 'giggles', 'swamps', 'canons', 'endeavors', 'investments', 'attracts', 'fall-outs', 'hindrances', 'protons', 'additives', 'pogroms', 'pistols', 'aliens', '110-degrees-c', 'lieder', 'civil-rights', 'hyacinths', 'galaxies', 'jets', 'effaces', 'tethers', \"weeks'\", 'makes', 'caterpillars', 'enmities', 'flatnesses', 'dashes', 'interruptions', \"pounds'\", 'sackes', 'soldiers', 'tabulations', \"1890's\", 'quarrels', '80-degrees-c', 'bets', 'innovations', 'deficits', 'clodhoppers', 'tinkers', 'clarets', 'movements', 'slants', 'fangs', 'squires', '$1.9', 'sonnets', 'noes', 'cherries', 'outcomes', 'vibes', 'substitutions', 'sec.', \"riflemen's\", 'slats', 'patisseries', 'searches', 'precedents', 'skills', 'buses', 'compounds', 'dishwashers', 'firms', 'line-pairs', 'boots', 'phosphines', '$9.2', 'boulevards', 'memories', 'hates', 'whitetail', 'under-achievers', 'solids', 'disbelieves', '5-degrees-c', 'cooks', 'tenors', 'beckons', 'humanities', 'grindings', 'slings', 'understands', 'fingerprints', 'fox-hounds', 'isomers', 'graves', 'sexes', 'channels', 'dinners', 'bobby-sox', 'rotogravures', 'screenings', 'divans', 'slugs', 'vouchsafes', 'agnostics', 'divinities', 'moons', 'erotica', 'troughs', 'conventions', 'delegates', 'sediments', 'preludes', 'assigns', 'gray-backs', 'managements', 'taverns', 'tonics', 'echelons', 'districts', 'crystallites', 'plaids', 'mills', 'definitions', 'armaments', 'oppressors', 'micrometers', 'symphonies', 'obtrudes', 'tsunami', 'glasses', 'shames', 'innuendoes', 'courtiers', 'testimonials', 'agrees', 'participants', 'lingers', 'dialectics', 'communiques', 'umbrellas', 'archaeologists', 'swells', '2-degrees-c', 'alloys', 'museums', 'blades', 'hoaxes', 'stands', '$8', 'fees', 'cruisers', 'wanderers', 'gullies', '$8.50', 'bobbles', 'italics', 'hawkers', 'vocabularies', 'martinis', 'diagnoses', 'preambles', \"10''\", 'persuasions', '$17,000', 'pre-conditions', 'pinafores', 'runs', 'universities', 'classifications', 'value-problems', 'sunshades', 'forearms', '20-degrees-c', 'generates', 'stubs', 'prowlers', 'ethicists', 'commonwealths', 'spotlights', 'turnouts', 'ships', 'colonials', 'freaks', 'lefthanders', 'eyes', 'honeybees', 'moments', '$5,000,000', 'differences', 'indentations', 'arrangers', 'taxis', 'inductees', 'makeshifts', 'drones', 'separations', 'sidemen', 'opiates', 'assignments', 'sufferers', 'ages', 'copolymers', 'steroids', 'many-times', \"bombers'\", 'songs', '$8.00', 'washings', \"subjects'\", 'mercenaries', 'farmers', 'yeasts', 'theatricals', '$2.98', 'gynecologists', 'oddities', 'tropics', \"workers'\", 'curses', 'memorials', 'apologies', 'sideboards', 'nodules', 'objectors', 'essentials', 'conformations', 'peppermints', '$278,877,000', 'bookcases', 'happens', 'inherits', 'telephones', 'periwinkles', 'funds', 'pairs', 'blunders', 'quibs', 'festivals', 'by-laws', 'lilacs', 'strays', 'apostles', 'integrates', 'hops', 'dystopias', '$70,000', 'pinnacles', 'apostates', 'peas', 'bums', 'davits', 'activities', 'mushrooms', 'fusillades', \"strangers'\", 'skates', 'falters', 'politicians', 'appreciates', '$634,517,000', 'flora', 'gatherings', 'fluoresces', 'depots', 'bags', 'snatches', 'attachments', 'medals', 'discoveries', 'genes', \"neighbors'\", '$20,000,000', 'rhymes', 'ministers', 'sociologists', 'concludes', 'dissenters', 'lemmas', 'pheasant', 'shades', 'wells', 'tetrahalides', 'mc.', 'defendants', 'boys', 'revisions', 'bagatelles', 'drunks', 'erupts', 'flourishes', 'breaks', 'cafeterias', '$85', 'neutrophils', '$4/mbf', 'cylinders', 'mutations', '$39.5', 'copies', 'cards', 'availabilities', 'shrubs', 'dropouts', 'corns', 'obituaries', 'deltoids', 'bestes', 'velocities', 'observers', 'traineeships', 'guarantees', 'shoes', 'stereotypes', 'repercussions', 'notebooks', 'critics', 'ticks', 'powers', '$14,000', 'sops', 'onsets', 'x-rays', 'drummers', 'reforms', 'fasciculations', 'products', 'oxygens', 'magnates', '$4,700', 'descriptions', 'impurities', 'neighborhoods', 'processes', 'boxcars', 'befits', 'boatels', 'bankers', 'tabloids', 'franks-in-buns', 'bloodspots', 'sleeps', 'encores', 'senders', 'blisters', 'trellises', 'cabinetmakers', 'inflections', 'signers', 'subpenas', 'deities', 'pieces', 'sweat-suits', 'pensions', 'battalions', 'paeans', 'necks', 'propulsions', 'aberrations', 'coronaries', 'allows', 'languages', 'centimeters', 'achieves', 'marionettes', 'orthophosphates', '$450,000', 'sidesteps', 'elements', \"3.25''\", 'presides', 'sufferings', 'stimuli', 'sprains', 'resolutions', 'brewers', 'reacts', 'railways', 'breasts', 'bargains', '$30,000,000', 'resistances', 'sobs', 'whispers', 'contradictions', 'batwings', 'flappers', 'ads', 'convocations', 'bars', 'binders', 'values', 'capital-gains', 'flyers', 'interfaces', 'terraces', 'hogs', 'friendships', 'services', 'entrepreneurs', 'scales', 'sponsors', 'discussions', 'sirens', \"pilots'\", 'adjusts', 'currants', 'criticisms', 'followeth', 'houseboats', 'newcomers', '$15.5', 'eyelets', 'dispatches', 'intends', 'picnickers', 'briefs', 'employes', 'decorations', '$115,000', 'disabilities', 'flights', 'cruises', 'analogies', 'departs', 'cautions', 'demagogues', 'releases', 'catecholamines', 'yaws', 'tornadoes', 'drinkers', 'co-chairmen', 'preferences', 'grams', 'slickers', 'fortunes', 'knots', 'hangs', 'irruptions', 'meanes', 'sidechairs', 'fish', 'subterfuges', 'seraphim', 'literatures', 'comedians', 'borderlands', 'reigns', 'rims', 'weakens', 'monsters', 'governments', 'saddlebags', 'dogs', 'gentlemen', 'forbids', 'ventilates', \"buyers'\", 'organs', 'epidemics', 'embassies', 'populations', 'drifts', 'fatalists', 'spans', 'carols', 'dedicates', 'studies', 'playhouses', 'paralyzes', 'profits', 'huzzahs', 'laments', 'employers', 'wieners', 'bodybuilders', 'callers', 'evolves', 'captures', 'cupboards', 'sculptures', 'limits', 'shrinks', 'recommendations', 'fingertips', 'tints', 'plots', 'recipes', 'reconvenes', 'reunions', 'authorizations', 'campuses', 'tutors', 'two-weeks', 'cups', 're-enforces', 'inoculations', 'searchlights', 'waxworks', 'sods', 'miners', 'trademarks', 'observations', 'watchings', 'rockets', 'dioramas', 'hats', '275-degrees-f', 'natures', 'blemishes', 'bookshelves', 'introjects', 'guesses', 'foodstuffs', 'mice', 'overpowers', 'defines', 'ayes', 'concurs', 'jungles', 'periods', 'accents', 'hog', 'slacks', 'areaways', 'counter-moves', 'forerunners', 'myofibrils', 'documents', 'capes', '$6', 'monies', 'lucks', 'nationalisms', 'doers', 'transferors', 'cents', 'commemorates', 'hardwoods', 'shots', 'harbors', 'archives', 'railbirds', 'gyrations', 'grammarians', 'universals', 'monitors', 'evangelists', 'anthems', 'nets', 'practices', 'officers', 'streetcars', 'ashes', 'holdups', 'bureaucracies', 'bones', 'buildings', 'panthers', 'bureaus', 'certifies', 'subscripts', 'barrels', 'performs', 'omissions', 'spokesmen', 'celebrates', 'redactions', '$184', 'stand-ins', 'encourages', 'completions', 'verbs', 'firehouses', 'manifestations', 'blasphemies', 'communicators', 'jew-haters', 'fuses', 'blokes', 'banners', 'pearls', 'modes', 'lb.', 'compartments', 'sleeves', 'publications', 'stumps', 'overlooks', 'inhibitions', 'requesters', 'straightens', 'mineralogies', 'forties', 'shopkeepers', '$43,000', 'phonies', 'derails', 'combines', 'pontificates', 'livres', '$1,276', 'contents', 'urns', 'rights-of-way', 'teeth', 'pettinesses', 'declares', 'calamities', 'tourists', 'newspapermen', 'conservatives', 'essays', 'conjugates', 'rhetoricians', 'transcends', 'pools', 'pulsations', 'conversations', 'commodities', 'structures', 'cantilevers', 'costs', 'merges', 'pranks', '$46.7', 'statements', 'prosecutions', 'wander-years', 'diffuses', 'envoys', 'flashes', 'inholdings', 'exhortations', 'bogeymen', \"trees'\", 'transducers', 'dreams', 'gals', 'worshippers', 'hangers', 'penalties', 'dozens', 'northerners', 'atrocities', '$1,000', 'allergies', \"officers'\", 'sacraments', 'linguists', 'castigates', 'philosophies', '$1', '$135', '$.07/cwt', 'bromides', 'liaisons', 'maximizes', 'qualities', 'rewrites', 'historians', '$28,700,000', 'declinations', 'sergeants', 'steers', 'breakwaters', 'stockholders', 'energizes', 'signs', 'generalizations', 'polyphosphates', 'bullyboys', '$22', 'mutterers', 'aunts', 'figurines', 'exhibitors', 'retrogradations', 'evaluations', 'infections', 'carriages', 'pyramids', 'torches', 'tents', 'acres', 'flavors', 'washes', 'swoops', 'ratings', 'whites', 'manikins', 'strivings', '$67,000', 'outs', 'heavers', '$650', 'alumni', 'cloisters', 'riggers', 'eccentricities', 'nymphs', 'beatings', 'surroundings', 'techniques', 'aerosols', 'dealers', 'cliques', 'possessions', 'lifeguards', 'bosoms', 'horsemen', 'ethics', 'observes', 'reminisces', 'catapults', 'woodcutters', 'stables', 'racists', 'solvents', 'lords', 'soloists', 'walls', '$63.8', 'swine', 'abolitionists', 'dualities', 'fishmongers', 'punches', 'refugees', 'objections', 'days', 'tackles', 'capabilities', 'sheep', 'answers', 'quarters', 'parolees', 'textbooks', 'screens', \"tourists'\", 'sailors', 'tellers', 'schemata', 'telegraphers', 'constituents', 'tines', '$2,000,000', 'norms', 'decreases', 'cannon', 'passes', 'chartings', '$.027', '180-degrees', 'prefixes', 'guardians', 'pilots', 'gives', 'kills', 'alterations', 'avenues', 'questions', 'sitters', 'pianists', 'fantasies', 'realities', 'assassins', 'watersheds', 'accouterments', 'fools', 'grotesques', 'shakers', 'skids', 'sharers', 'salts', 'soles', 'allotments', 'hours', '$11,900,000', 'businessmen', 'sojourners', 'sports', 'codes', 'obstacles', 'lengths', '$1,390', '$88,000', 'pleases', 'topcoats', '$15,000', 'muses', 'folks', 'serpents', 'directives', 'condicions', 'lawyers', 'saps', 'corks', \"owners'\", '$19.3', 'admonishments', 'beginners', 'violinists', 'crickets', 'persuaders', 'thrusts', 'bergs', 'disadvantages', 'celebrations', 'hypocrites', 'ideologies', 'holidays', 'underlies', 'reorganizations', 'near-synonyms', 'rebuilds', 'cavalrymen', \"dollars'\", 'holdings', 'registers', 'homes', 'firearms', 'worries', 'verbenas', 'spherules', 'chrysanthemums', 'gifts', 'hits', 'makings', 'firemen', 'broncos', 'diagrams', 'cafes', 'stimulates', 'misunderstanders', 'traces', 'pseudo-questions', 'patents', 'ellipses', '$20,000', 'mythologies', 'commons', 'requisites', 'exclusions', 'burglars', 'loses', 'yachtels', '$2,412,616', '$200,000,000', 'forsakes', 'sciences', 'denominations', 'candles', 'imposes', 'immediacies', '$18', 'boyars', 'mosaics', 'appearances', 'racks', 'ones', 'sizes', 'drips', 'applicants', '$11.50', '$14.00', 'radiates', 'grapes', 'streams', '1940s', 'fosters', 'pumps', 'obeys', 'skyjackers', 'worlds', 'constitutions', 'advertises', 'brutalities', 'debts', 'lands', 'confers', 'underwriters', 'stepladders', 'fellow-creatures', 'compatriots', 'sessions', 'relaxes', 'speculators', 'pyrometers', 'swimmers', 'localities', 'promenades', 'cakes', 'stiffens', 'shafts', 'magistrates', 'environments', 'breakthroughs', 'lightyears', 'smatterings', 'insights', 'appears', 'operands', 'middles', 'occupations', 'plunderers', 'terminates', 'chromatics', 'deviants', 'vows', 'salves', '$.03', 'musicians', 'tons', 'impoundments', 'factories', 'implies', 'acorns', 'bellows', 'conceits', 'speeds', 'gymnasts', \"motorists'\", 'previsions', 'misperceives', 'tortures', 'sacks', '$3100', \"rogues'\", 'polls', 'creditors', 'motel-keepers', 'adolescents', 'thills', 'flats', 'marbles', 'harvests', 'homemakers', 'coves', 'businesses', 'buffaloes', 'catalogs', 'disruptions', 'colts', 'droughts', 'doings', 'classifiers', 'thickeners', '$170', 'questioners', 'messes', 'stand-ups', 'magazines', 'caryatides', 'compulsions', 'wherefores', 'simples', 'megalopolises', 'grandsons', 'intestines', 'plain-clothesmen', 'tassels', 'pacers', 'defenses', 'coasts', '$12.7', 'sags', 'marriages', 'ethers', 'sailboats', 'howls', 'fibers', 'evades', 'fingernails', 'cooperates', 'puddings', \"days'\", 'geese', 'shies', 'turtlebacks', 'pinholes', 'camels', '$2.80', 'urgings', 'areas', 'contracts', 'foxholes', 'sportsmen', 'suitcases'}\n"
     ]
    }
   ],
   "source": [
    "print(set([w.lower() for w,tag in brown_words_bt if tag.startswith('NNS') or tag=='VBZ' ]))"
   ]
  },
  {
   "cell_type": "code",
   "execution_count": 121,
   "metadata": {
    "collapsed": true
   },
   "outputs": [
    {
     "name": "stdout",
     "output_type": "stream",
     "text": [
      "[('of', 'this', 'city'), ('of', 'this', 'money'), ('of', 'these', 'funds'), ('in', 'each', 'county'), ('for', 'some', 'time'), ('in', 'this', 'county'), ('on', 'this', 'question'), ('with', 'any', 'relatives'), ('in', 'this', 'case'), ('of', 'that', 'court'), ('of', 'this', 'court'), ('in', 'these', 'cases'), ('on', 'each', 'worker'), ('on', 'that', 'date'), ('for', 'each', 'illness'), ('of', 'those', 'millions'), ('for', 'each', '$1,500'), ('for', 'another', 'setback'), ('on', 'this', 'score'), ('from', 'another', 'direction'), ('over', 'this', 'problem'), ('in', 'this', 'field'), ('in', 'this', 'matter'), ('of', 'these', 'men'), ('by', 'these', 'laws'), ('for', 'some', 'time'), ('in', 'some', 'instances'), ('with', 'any', 'degree'), ('into', 'this', 'campaign'), ('into', 'this', 'state'), ('at', 'this', 'time'), ('in', 'this', 'campaign'), ('in', 'those', 'counties'), ('from', 'this', \"year's\"), ('in', 'those', 'countries'), ('along', 'this', 'thoroughfare'), ('Along', 'this', 'avenue'), ('of', 'this', \"country's\"), ('at', 'some', 'stage'), ('In', 'either', 'case'), ('for', 'any', 'governor'), ('on', 'any', 'proposals'), ('of', 'these', 'criticisms'), ('for', 'each', 'joint'), ('in', 'some', 'hotels'), ('during', 'that', 'time'), ('for', 'some', 'leadership'), ('with', 'this', 'challenge'), ('In', 'this', 'light'), ('of', 'this', 'hour'), ('with', 'each', 'start'), ('with', 'some', 'speed'), ('during', 'each', 'practice'), ('in', 'any', 'area'), ('by', 'that', 'time'), ('for', 'this', 'city'), ('during', 'another', 'Open'), ('of', 'that', 'stroke'), ('on', 'that', 'milestone'), ('on', 'those', \"teams'\"), ('at', 'any', 'period'), ('of', 'each', 'month'), ('For', 'that', 'matter'), ('for', 'this', 'group'), ('of', 'that', 'country'), ('from', 'this', 'pair'), ('of', 'this', 'column'), ('at', 'this', 'point'), ('of', 'this', 'phase'), ('of', 'this', 'phase'), ('in', 'this', 'class'), ('in', 'each', 'area'), ('In', 'another', 'attack'), ('at', 'this', \"week's\"), ('for', 'some', 'rest'), ('within', 'that', 'span'), ('of', 'each', 'month'), ('in', 'this', 'conspiracy'), ('for', 'another', 'year'), ('of', 'any', 'race'), ('of', 'each', 'month'), ('of', 'this', 'program'), ('to', 'those', 'groups'), ('at', 'that', 'time'), ('of', 'this', 'state'), ('of', 'this', 'danger'), ('of', 'this', 'year'), ('On', 'that', 'date'), ('of', 'those', 'men'), ('in', 'this', 'area'), ('for', 'those', 'youngsters'), ('in', 'these', 'fields'), ('by', 'this', 'autumn'), ('in', 'this', 'recovery'), ('in', 'this', 'recovery'), ('during', 'this', 'recovery'), ('in', 'this', 'hemisphere'), ('With', 'this', 'kind'), ('to', 'this', 'column'), ('At', 'that', 'time'), ('of', 'these', 'funds'), ('at', 'any', 'time'), ('in', 'this', 'farm'), ('of', 'some', 'implements'), ('for', 'this', 'year'), ('in', 'those', 'years'), ('of', 'this', 'bill'), ('in', 'this', 'case'), ('in', 'this', 'sort'), ('In', 'that', 'event'), ('within', 'that', 'area'), ('for', 'any', 'month'), ('for', 'each', 'guest'), ('under', 'each', 'end'), ('of', 'this', 'city'), ('from', 'any', 'lamp'), ('In', 'this', 'way'), ('for', 'some', 'interim'), ('At', 'that', 'time'), ('after', 'that', 'service'), ('in', 'this', 'country'), ('for', 'this', 'enchantment'), ('at', 'any', 'time'), ('of', 'any', 'peasant'), ('of', 'each', 'child'), ('on', 'any', 'private-eye'), ('In', 'another', 'respect'), ('by', 'that', 'master'), ('from', 'each', 'section'), ('in', 'this', 'country'), ('in', 'this', 'field'), ('in', 'this', 'school'), ('to', 'each', 'group'), ('of', 'this', \"Nation's\"), ('of', 'this', 'community'), ('in', 'this', 'area'), ('in', 'these', 'words'), ('by', 'any', 'illusion'), ('by', 'that', 'possibility'), ('to', 'any', 'hope'), ('of', 'that', 'danger'), ('of', 'those', 'episodes'), ('of', 'those', 'events'), ('of', 'that', 'fact'), ('of', 'any', 'notions'), ('in', 'some', 'areas'), ('in', 'this', 'country'), ('on', 'any', 'basis'), ('in', 'this', 'kind'), ('in', 'any', 'case'), ('with', 'this', 'demand'), ('for', 'those', 'intangibles'), ('for', 'this', 'identification'), ('In', 'any', 'case'), ('with', 'this', 'form'), ('of', 'this', 'law'), ('of', 'these', 'expenses'), ('In', 'this', 'manner'), ('in', 'any', 'event'), ('by', 'any', 'classes'), ('in', 'any', 'transportation'), ('for', 'any', 'union'), ('for', 'any', 'action'), ('over', 'each', 'member'), ('With', 'that', 'possibility'), ('for', 'any', 'period'), ('of', 'these', 'champions'), ('On', 'this', 'day'), ('on', 'this', 'hole'), ('until', 'this', 'year'), ('for', 'that', 'matter'), ('for', 'some', 'word'), ('beyond', 'any', 'question'), ('in', 'each', 'league'), ('of', 'these', 'people'), ('in', 'those', 'subjects'), ('of', 'those', 'names'), ('against', 'any', 'applicant'), ('of', 'these', 'disparities'), ('in', 'any', 'case'), ('in', 'this', 'matter'), ('of', 'this', 'administration'), ('for', 'each', 'university'), ('in', 'any', 'case'), ('of', 'any', 'nation'), ('On', 'this', 'issue'), ('along', 'those', 'lines'), ('to', 'that', 'effect'), ('on', 'these', 'roads'), ('of', 'those', 'bonds'), ('On', 'these', 'bonds'), ('on', 'this', 'page'), ('of', 'some', 'turnpikes'), ('on', 'that', 'road'), ('In', 'these', 'cases'), ('of', 'that', 'road'), ('For', 'some', 'roads'), ('at', 'this', 'time'), ('of', 'these', 'countries'), ('with', 'these', 'arrangements'), ('Behind', 'this', 'reply'), ('with', 'this', 'situation'), ('In', 'some', 'parts'), ('Under', 'this', 'law'), ('in', 'any', 'area'), ('of', 'each', 'member'), ('for', 'each', 'person'), ('of', 'this', 'collection'), ('at', 'each', 'library'), ('in', 'this', 'country'), ('for', 'this', 'year'), ('For', 'that', 'reason'), ('for', 'this', 'city'), ('for', 'this', 'purpose'), ('For', 'some', 'time'), ('to', 'this', 'kind'), ('for', 'this', 'policy'), ('of', 'those', 'party'), ('In', 'this', 'case'), ('on', 'that', \"nation's\"), ('of', 'that', 'persuasion'), ('Under', 'any', 'name'), ('from', 'that', 'jungle'), ('of', 'these', 'dimensions'), ('during', 'that', 'period'), ('in', 'this', 'field'), ('from', 'any', 'individual'), ('about', 'any', 'organization'), ('In', 'some', 'instances'), ('In', 'this', 'instance'), ('in', 'this', 'state'), ('of', 'this', 'state'), ('until', 'this', 'year'), ('toward', 'that', 'objective'), ('of', 'this', 'squabbling'), ('from', 'that', 'point'), ('of', 'this', 'year'), ('from', 'this', 'point'), ('in', 'that', 'area'), ('in', 'some', 'places'), ('At', 'that', 'point'), ('in', 'that', 'vein'), ('at', 'this', 'time'), ('from', 'any', 'government'), ('in', 'these', 'days'), ('at', 'this', 'meeting'), ('from', 'these', 'colleges'), ('to', 'these', 'youngsters'), ('upon', 'these', 'cans'), ('in', 'those', 'people'), ('of', 'those', 'sessions'), ('of', 'these', 'endowments'), ('with', 'another', 'minister'), ('with', 'this', 'cruelty'), ('to', 'that', 'emergency'), ('of', 'each', 'summer'), ('for', 'some', 'reason'), ('In', 'each', 'city'), ('In', 'each', 'case'), ('In', 'each', 'city'), ('for', 'this', 'change'), ('from', 'any', 'outbreak'), ('at', 'this', 'time'), ('over', 'this', 'time'), ('at', 'this', 'point'), ('in', 'this', 'country'), ('of', 'this', 'trend'), ('of', 'this', 'session'), ('of', 'any', 'consequence'), ('behind', 'these', 'pre-primary'), ('of', 'each', \"day's\"), ('of', 'this', 'speech'), ('at', 'any', 'time'), ('at', 'that', 'moment'), ('in', 'each', 'version'), ('of', 'those', 'words'), ('with', 'any', 'wardrobe'), ('on', 'each', 'record'), ('with', 'each', 'record'), ('on', 'these', 'shows'), ('to', 'that', 'love'), ('of', 'any', 'length'), ('with', 'each', 'play'), ('In', 'that', 'decade'), ('in', 'any', 'sympathy'), ('of', 'any', 'consideration'), ('for', 'these', 'lots'), ('for', 'some', 'time'), ('for', 'this', 'property'), ('with', 'this', 'community'), ('under', 'these', 'conditions'), ('at', 'this', 'time'), ('by', 'those', 'individuals'), ('for', 'this', 'length'), ('with', 'this', \"veteran's\"), ('about', 'this', \"country's\"), ('with', 'this', 'attire'), ('of', 'that', 'part'), ('in', 'this', 'age'), ('In', 'these', 'days'), ('on', 'this', 'letter'), ('on', 'this', 'page'), ('of', 'this', 'letter'), ('In', 'this', 'letter'), ('of', 'this', 'proportion'), ('of', 'this', 'proportion'), ('for', 'this', 'day'), ('to', 'that', 'extent'), ('in', 'that', 'document'), ('to', 'any', 'owner'), ('of', 'this', 'city'), ('of', 'this', 'city'), ('by', 'this', 'exhibit'), ('on', 'this', 'site'), ('of', 'these', 'trees'), ('about', 'this', 'lack'), ('in', 'any', 'disaster'), ('in', 'this', 'country'), ('to', 'this', \"country's\"), ('to', 'this', 'end'), ('with', 'this', 'mechanization'), ('on', 'these', 'subjects'), ('for', 'this', 'highway'), ('to', 'this', 'country'), ('to', 'some', 'people'), ('in', 'This', 'square'), ('of', 'those', 'creatures'), ('for', 'those', 'ideals'), ('in', 'some', 'directions'), ('at', 'this', 'writing'), ('in', 'that', 'plane'), ('in', 'this', 'country'), ('of', 'that', 'end'), ('for', 'any', 'advantage'), ('of', 'that', 'ornament'), ('In', 'any', 'event'), ('to', 'some', 'people'), ('in', 'this', 'way'), ('in', 'this', 'country'), ('of', 'any', 'action'), ('of', 'this', 'attitude'), ('in', 'this', 'issue'), ('To', 'this', 'day'), ('at', 'some', 'point'), ('from', 'any', 'tests'), ('of', 'this', 'concern'), ('to', 'these', 'words'), ('under', 'this', 'procedure'), ('of', 'these', 'discussions'), ('in', 'some', 'degree'), ('to', 'these', 'episodes'), ('From', 'this', 'belief'), ('in', 'this', 'matter'), ('To', 'these', 'people'), ('by', 'this', 'contretemps'), ('in', 'this', 'country'), ('on', 'this', 'proposition'), ('Without', 'this', 'power'), ('of', 'this', 'kind'), ('in', 'that', 'direction'), ('to', 'this', 'dilemma'), ('for', 'that', 'matter'), ('for', 'each', 'sufferer'), ('at', 'some', 'time'), ('by', 'that', 'combination'), ('in', 'this', 'country'), ('in', 'this', 'country'), ('of', 'these', 'schools'), ('on', 'some', 'sort'), ('in', 'any', 'way'), ('at', 'this', 'time'), ('about', 'that', 'song'), ('to', 'any', 'point'), ('from', 'these', 'pages'), ('of', 'those', 'capital-gains'), ('in', 'this', 'case'), ('in', 'this', 'character'), ('in', 'this', 'last'), ('in', 'this', 'scene'), ('in', 'this', 'manner'), ('in', 'these', 'discs'), ('of', 'that', 'day'), ('of', 'these', 'recordings'), ('of', 'any', 'surface'), ('of', 'any', 'stereo'), ('to', 'this', 'matter'), ('about', 'this', 'country'), ('of', 'this', 'century'), ('in', 'this', 'country'), ('in', 'this', 'edition'), ('by', 'any', 'means'), ('of', 'that', 'company'), ('of', 'this', 'work'), ('into', 'this', 'household'), ('at', 'any', 'moment'), ('of', 'that', 'distraction'), ('in', 'this', 'age'), ('at', 'these', 'fracases'), ('Of', 'another', 'colleague'), ('in', 'those', 'days'), ('from', 'this', 'difference'), ('for', 'any', 'shortcomings'), ('in', 'this', 'book'), ('of', 'this', 'intervention'), ('from', 'this', 'picture'), ('of', 'those', 'parts'), ('to', 'this', 'season'), ('of', 'this', 'characterization'), ('of', 'these', 'performances'), ('of', 'this', 'master'), ('about', 'these', 'chamber'), ('between', 'those', 'extremes'), ('in', 'this', 'vein'), ('at', 'this', 'hour'), ('at', 'this', 'place'), ('From', 'this', 'taste'), ('to', 'this', 'country'), ('at', 'this', \"year's\"), ('with', 'this', 'literature'), ('of', 'this', 'type'), ('at', 'any', 'time'), ('in', 'another', 'show'), ('in', 'this', 'collection'), ('in', 'this', 'case'), ('For', 'this', 'story'), ('on', 'this', 'romance'), ('of', 'this', 'idyll'), ('by', 'some', 'creature'), ('of', 'this', 'book'), ('of', 'some', 'years'), ('by', 'that', 'time'), ('In', 'that', 'function'), ('about', 'that', 'election'), ('of', 'either', 'party'), ('at', 'this', 'point'), ('on', 'this', 'occasion'), ('of', 'this', 'market'), ('of', 'that', \"station's\"), ('in', 'this', 'quotation'), ('by', 'each', 'member'), ('of', 'this', 'festival'), ('of', 'these', 'men'), ('of', 'this', 'Dr.'), ('For', 'this', 'reason'), ('from', 'this', 'discussion'), ('in', 'this', 'book'), ('Beneath', 'any', 'feeling'), ('in', 'these', 'pages'), ('in', 'each', 'instance'), ('in', 'each', 'month'), ('for', 'that', 'matter'), ('of', 'this', 'sort'), ('by', 'any', 'visitor'), ('of', 'this', 'century'), ('during', 'this', 'season'), ('of', 'this', 'novel'), ('in', 'any', 'case'), ('in', 'this', 'sort'), ('to', 'this', 'book'), ('With', 'this', 'barrage'), ('to', 'this', 'effort'), ('for', 'some', 'people'), ('in', 'another', 'woman'), ('on', 'each', 'molecule'), ('of', 'this', 'distinction'), ('with', 'any', 'element'), ('of', 'this', 'range'), ('in', 'any', 'age'), ('about', 'these', 'people'), ('in', 'this', 'discussion'), ('about', 'this', 'play'), ('upon', 'this', 'community'), ('in', 'this', 'play'), ('on', 'this', 'score'), ('for', 'this', 'feeling'), ('in', 'this', 'play'), ('to', 'any', 'community'), ('in', 'this', 'way'), ('of', 'this', 'group'), ('into', 'some', 'kind'), ('in', 'this', 'way'), ('In', 'any', 'event'), ('at', 'any', 'rate'), ('to', 'some', 'extent'), ('in', 'either', 'case'), ('in', 'either', 'event'), ('In', 'any', 'case'), ('on', 'this', 'number'), ('during', 'this', 'period'), ('for', 'this', 'phenomenon'), ('In', 'this', 'connection'), ('of', 'this', 'good'), ('to', 'this', 'event'), ('in', 'some', 'sense'), ('From', 'this', 'earth'), ('for', 'this', 'affirmation'), ('With', 'this', 'act'), ('of', 'that', 'circuit'), ('In', 'any', 'case'), ('of', 'these', 'theories'), ('of', 'these', 'theories'), ('in', 'this', 'republic'), ('to', 'these', 'clergymen'), ('of', 'that', 'era'), ('of', 'these', 'factors'), ('of', 'those', 'tears'), ('in', 'this', 'vein'), ('in', 'these', 'fields'), ('on', 'another', 'path'), ('from', 'this', 'world'), ('Of', 'this', 'number'), ('of', 'this', 'mania'), ('in', 'this', 'world'), ('in', 'this', 'age'), ('into', 'this', 'world'), ('of', 'another', 'psalm'), ('from', 'that', 'quarter'), ('on', 'these', 'subjects'), ('to', 'these', 'subjects'), ('of', 'this', 'diagram'), ('of', 'this', 'square'), ('of', 'these', 'pairs'), ('in', 'this', 'square'), ('After', 'this', 'time'), ('to', 'this', 'doctrine'), ('of', 'this', 'diagram'), ('in', 'this', 'respect'), ('for', 'this', 'experience'), ('to', 'each', 'individual'), ('of', 'each', 'individual'), ('in', 'each', 'home'), ('In', 'this', 'session'), ('at', 'this', 'session'), ('by', 'each', 'person'), ('at', 'this', 'point'), ('During', 'this', 'time'), ('During', 'this', 'period'), ('in', 'some', 'areas'), ('in', 'this', 'book'), ('in', 'this', 'fellowship'), ('of', 'this', 'paradox'), ('to', 'this', 'truth'), ('To', 'some', 'extent'), ('in', 'these', 'lands'), ('of', 'these', 'people'), ('by', 'this', 'suspicion'), ('to', 'this', 'heightening'), ('at', 'this', 'point'), ('in', 'this', 'country'), ('at', 'that', 'time'), ('in', 'this', 'area'), ('of', 'any', 'nation'), ('of', 'any', 'leader'), ('in', 'this', 'sense'), ('to', 'some', 'worlds'), ('in', 'these', 'terms'), ('of', 'this', 'evil'), ('in', 'these', 'terms'), ('in', 'that', 'sense'), ('of', 'this', 'country'), ('of', 'that', 'surrender'), ('on', 'this', 'earth'), ('in', 'some', 'measure'), ('upon', 'these', 'values'), ('in', 'this', 'country'), ('of', 'this', 'pressure'), ('in', 'this', 'area'), ('to', 'these', 'questions'), ('of', 'that', 'session'), ('of', 'this', 'group'), ('in', 'any', 'chronology'), ('of', 'any', 'race'), ('in', 'that', 'neighborhood'), ('for', 'this', 'avoidance'), ('to', 'any', 'realtor'), ('for', 'some', 'kind'), ('in', 'this', 'group'), ('in', 'this', 'situation'), ('to', 'these', 'opportunities'), ('of', 'that', 'size'), ('for', 'some', 'days'), ('at', 'this', 'rate'), ('on', 'this', 'piece'), ('At', 'any', 'rate'), ('in', 'some', 'ways'), ('with', 'some', 'hope'), ('after', 'that', 'year'), ('at', 'any', 'level'), ('In', 'this', 'system'), ('After', 'this', 'form'), ('for', 'this', 'reason'), ('of', 'this', 'world'), ('of', 'any', 'account'), ('by', 'any', 'form'), ('of', 'this', 'world'), ('behind', 'this', 'man'), ('about', 'that', 'support'), ('Under', 'another', 'law'), ('in', 'that', 'moment'), ('From', 'that', 'day'), ('to', 'that', 'master'), ('of', 'some', 'kind'), ('in', 'this', 'fine'), ('in', 'this', 'manner'), ('By', 'this', 'time'), ('for', 'some', 'bodybuilders'), ('of', 'each', 'repetition'), ('in', 'that', 'weather'), ('into', 'each', 'hole'), ('on', 'each', 'branch'), ('from', 'each', 'plant'), ('to', 'any', 'place'), ('at', 'this', 'point'), ('in', 'any', 'way'), ('of', 'any', 'kind'), ('of', 'these', 'values'), ('At', 'this', 'point'), ('of', 'neither', 'side'), ('under', 'these', 'circumstances'), ('in', 'this', 'country'), ('for', 'some', 'reason'), ('In', 'these', 'readings'), ('for', 'this', 'marathon'), ('on', 'this', 'repertory'), ('from', 'this', 'master'), ('on', 'this', 'Trout'), ('to', 'this', \"pianist's\"), ('for', 'some', 'time'), ('of', 'this', \"pianist's\"), ('of', 'these', 'releases'), ('of', 'these', 'factors'), ('about', 'this', 'performance'), ('in', 'this', 'score'), ('of', 'this', 'Class'), ('of', 'these', 'Juniors'), ('to', 'any', 'judge'), ('in', 'this', 'Class'), ('of', 'this', 'Class'), ('of', 'these', 'Juniors'), ('For', 'some', 'time'), ('of', 'any', 'Junior'), ('at', 'any', 'Show'), ('of', 'that', 'sport'), ('from', 'any', 'water'), ('In', 'this', 'respect'), ('with', 'any', 'number'), ('over', 'any', 'country'), ('for', 'any', 'kind'), ('to', 'these', 'activities'), ('to', 'any', 'track'), ('to', 'each', 'lever'), ('By', 'this', 'scheme'), ('in', 'some', 'situations'), ('In', 'some', 'low-speed'), ('on', 'this', 'edge'), ('of', 'these', 'holes'), ('from', 'any', 'edge'), ('To', 'each', 'tappet'), ('of', 'each', 'piece'), ('in', 'any', 'order'), ('in', 'any', 'order'), ('for', 'this', 'purpose'), ('on', 'some', 'types'), ('in', 'this', 'manner'), ('of', 'any', 'type'), ('for', 'this', 'step'), ('of', 'these', 'factors'), ('for', 'any', 'combination'), ('in', 'this', 'manner'), ('with', 'each', 'work-out'), ('with', 'each', 'work-out'), ('for', 'some', 'time'), ('about', 'this', 'string'), ('From', 'that', 'time'), ('at', 'this', 'gait'), ('of', 'this', 'magazine'), ('at', 'this', \"year's\"), ('in', 'this', 'caliber'), ('of', 'any', 'revolver'), ('on', 'this', 'stretch'), ('of', 'these', 'mountains'), ('with', 'that', 'delicacy'), ('of', 'this', 'sauce'), ('at', 'this', 'altitude'), ('to', 'this', 'height'), ('in', 'this', 'syrup'), ('of', 'this', 'land'), ('of', 'this', 'country'), ('of', 'this', 'land'), ('For', 'this', 'reason'), ('of', 'this', 'area'), ('in', 'these', 'forest'), ('In', 'any', 'instance'), ('in', 'this', 'vicinity'), ('in', 'this', 'area'), ('in', 'this', 'part'), ('toward', 'another', 'gate'), ('on', 'either', 'side'), ('for', 'each', 'building'), ('in', 'another', 'half-dozen'), ('in', 'each', 'frank'), ('on', 'each', 'side'), ('at', 'this', 'time'), ('at', 'this', 'point'), ('at', 'this', 'speed'), ('On', 'each', 'side'), ('In', 'this', 'way'), ('on', 'each', 'side'), ('of', 'each', 'joint'), ('to', 'this', 'piece'), ('on', 'each', 'side'), ('over', 'this', 'piece'), ('against', 'each', 'batten'), ('for', 'this', 'job'), ('in', 'that', 'area'), ('on', 'each', 'side'), ('at', 'this', 'time'), ('on', 'each', 'side'), ('between', 'these', 'pieces'), ('for', 'those', 'panels'), ('In', 'any', 'case'), ('at', 'any', 'angle'), ('In', 'this', 'case'), ('In', 'this', 'sequence'), ('of', 'that', 'year'), ('in', 'this', 'country'), ('of', 'this', 'nature'), ('of', 'this', 'piece'), ('to', 'any', 'applications'), ('of', 'this', 'catastrophe'), ('in', 'this', 'respect'), ('to', 'this', 'view'), ('with', 'any', 'pitfall'), ('of', 'these', 'jobs'), ('for', 'each', 'aspect'), ('below', 'that', 'line'), ('at', 'this', 'conclusion'), ('above', 'that', 'line'), ('For', 'any', 'house'), ('In', 'each', 'case'), ('for', 'those', 'emergencies'), ('of', 'any', 'recreation'), ('of', 'these', 'interests'), ('in', 'each', 'area'), ('of', 'these', 'winds'), ('After', 'this', 'holocaust'), ('at', 'this', 'point'), ('At', 'this', 'date'), ('On', 'that', 'date'), ('of', 'this', 'background'), ('with', 'this', 'motif'), ('From', 'this', 'point'), ('of', 'this', 'tissue'), ('for', 'this', 'reason'), ('in', 'these', 'areas'), ('about', 'this', 'system'), ('to', 'any', 'form'), ('on', 'either', 'side'), ('on', 'either', 'side'), ('in', 'any', 'activity'), ('of', 'these', 'expenditures'), ('in', 'this', 'area'), ('In', 'this', 'article'), ('of', 'these', 'cells'), ('of', 'each', 'heartbeat'), ('of', 'these', 'measurements'), ('of', 'these', 'techniques'), ('by', 'this', 'technique'), ('for', 'this', 'procedure'), ('From', 'this', 'doctors'), ('of', 'this', 'technique'), ('after', 'each', 'burst'), ('of', 'this', 'method'), ('on', 'this', 'phenomenon'), ('for', 'these', 'experiments'), ('in', 'another', 'flight'), ('on', 'this', 'visit'), ('to', 'these', 'analogies'), ('of', 'this', 'expedition'), ('At', 'this', 'lecture'), ('In', 'some', 'instances'), ('of', 'this', 'drug'), ('of', 'this', 'drug'), ('of', 'these', 'diseases'), ('at', 'these', 'levels'), ('by', 'some', 'manufacturers'), ('with', 'some', 'imagination'), ('for', 'some', 'benefit'), ('with', 'some', 'assurance'), ('by', 'this', 'type'), ('against', 'this', 'opinion'), ('on', 'this', 'subject'), ('between', 'these', 'courses'), ('of', 'any', 'craft'), ('in', 'that', 'fairy-land'), ('in', 'this', 'work'), ('of', 'these', 'organizations'), ('in', 'this', 'case'), ('of', 'these', 'organizations'), ('of', 'that', 'day'), ('Beyond', 'any', 'question'), ('for', 'this', 'position'), ('in', 'any', 'course'), ('with', 'any', 'university'), ('of', 'these', 'offences'), ('of', 'these', 'benefits'), ('in', 'this', 'area'), ('for', 'another', 'plant'), ('in', 'any', 'benefit'), ('in', 'each', 'department'), ('for', 'this', 'decision'), ('of', 'this', 'project'), ('to', 'some', 'degree'), ('of', 'this', 'situation'), ('in', 'that', 'land'), ('to', 'this', 'set'), ('of', 'that', '$10.50'), ('on', 'this', 'score'), ('In', 'this', 'organization'), ('of', 'this', 'headquarters'), ('Above', 'these', 'jobs'), ('in', 'this', 'direction'), ('for', 'each', 'level'), ('at', 'each', 'salary'), ('Above', 'this', 'point'), ('of', 'this', 'nature'), ('to', 'each', 'home'), ('to', 'each', 'house'), ('of', 'that', 'attitude'), ('for', 'this', 'job'), ('of', 'this', 'pilot'), ('of', 'any', 'kind'), ('to', 'that', 'piece'), ('from', 'this', 'plan'), ('in', 'some', 'areas'), ('in', 'these', 'fields'), ('for', 'this', 'job'), ('of', 'those', 'fueloil'), ('from', 'any', 'water'), ('on', 'some', 'coverage'), ('for', 'these', 'features'), ('of', 'this', 'trend'), ('from', 'this', 'material'), ('including', 'any', 'text'), ('of', 'this', 'type'), ('In', 'this', 'way'), ('for', 'each', 'poster'), ('from', 'this', 'company'), ('on', 'either', 'side'), ('of', 'this', \"year's\"), ('on', 'that', 'portion'), ('on', 'that', 'portion'), ('in', 'some', 'cases'), ('in', 'each', 'crew'), ('to', 'this', 'diathesis'), ('to', 'this', 'method'), ('in', 'another', 'city'), ('At', 'some', 'cities'), ('of', 'these', 'countries'), ('in', 'some', 'countries'), ('of', 'those', 'models'), ('for', 'some', 'people'), ('for', 'each', 'kilometer'), ('for', 'these', 'models'), ('At', 'this', 'point'), ('by', 'this', 'style'), ('in', 'this', 'instance'), ('to', 'this', 'point'), ('of', 'this', 'interview'), ('for', 'this', 'sentence'), ('in', 'this', 'interview'), ('at', 'this', 'juncture'), ('of', 'this', 'dread'), ('In', 'that', 'interval'), ('at', 'some', 'time'), ('In', 'this', 'manner'), ('At', 'that', 'moment'), ('in', 'any', 'case'), ('of', 'any', 'type'), ('at', 'any', 'moment'), ('in', 'any', 'form'), ('in', 'each', 'counterpart'), ('for', 'this', 'dream'), ('at', 'some', 'time'), ('to', 'this', 'enrichment'), ('from', 'this', 'mixture'), ('in', 'some', 'form'), ('with', 'this', 'situation'), ('With', 'these', 'aids'), ('on', 'these', 'trips'), ('for', 'this', 'line'), ('for', 'this', 'sort'), ('of', 'each', 'day'), ('for', 'that', 'purpose'), ('on', 'this', 'point'), ('in', 'this', 'situation'), ('of', 'this', 'approach'), ('at', 'each', 'stage'), ('In', 'this', 'process'), ('without', 'any', 'pain'), ('without', 'any', 'difficulty'), ('at', 'this', 'time'), ('on', 'this', 'point'), ('with', 'some', 'pride'), ('of', 'that', 'period'), ('from', 'any', 'kind'), ('in', 'these', 'marriages'), ('In', 'those', 'days'), ('In', 'some', 'cases'), ('In', 'any', 'case'), ('on', 'some', 'trick'), ('of', 'that', 'year'), ('into', 'this', 'country'), ('of', 'that', 'statement'), ('with', 'another', 'beauty'), ('with', 'some', 'fiddling'), ('By', 'this', 'time'), ('during', 'that', 'time'), ('with', 'each', 'squeeze'), ('For', 'that', 'reason'), ('in', 'this', 'vein'), ('After', 'another', 'treatment'), ('With', 'these', 'gadgets'), ('In', 'this', 'sense'), ('by', 'that', \"chiropractor's\"), ('by', 'some', 'form'), ('During', 'these', 'visits'), ('despite', 'some', 'growth'), ('on', 'this', 'side'), ('in', 'this', 'experiment'), ('in', 'some', 'ways'), ('of', 'some', 'people'), ('of', 'this', 'sort'), ('in', 'this', 'drama'), ('in', 'these', 'experiments'), ('In', 'this', 'case'), ('to', 'any', \"individual's\"), ('on', 'this', 'question'), ('of', 'this', 'type'), ('In', 'another', 'approach'), ('In', 'this', 'connection'), ('in', 'another', 'locality'), ('For', 'some', 'white-collar'), ('to', 'that', 'crop'), ('of', 'this', 'testimony'), ('by', 'this', 'awfulness'), ('in', 'either', 'event'), ('of', 'this', 'sort'), ('to', 'this', 'question'), ('to', 'any', 'proposal'), ('At', 'any', 'rate'), ('on', 'this', 'score'), ('to', 'that', 'extent'), ('of', 'any', 'variety'), ('in', 'this', 'country'), ('at', 'any', 'moment'), ('in', 'this', 'matter'), ('of', 'this', 'law'), ('in', 'this', 'area'), ('to', 'this', 'temptation'), ('in', 'any', 'form'), ('in', 'any', 'degree'), ('for', 'some', 'form'), ('in', 'this', 'country'), ('of', 'this', 'radical'), ('at', 'any', 'opportunity'), ('of', 'that', 'year'), ('Despite', 'this', 'prohibiton'), ('to', 'these', 'men'), ('to', 'this', 'condition'), ('in', 'this', 'letter'), ('for', 'each', 'group'), ('in', 'each', 'crisis'), ('in', 'some', 'way'), ('For', 'that', 'matter'), ('in', 'this', 'connection'), ('at', 'this', 'time'), ('at', 'that', 'time'), ('at', 'this', 'time'), ('with', 'these', 'felons'), ('in', 'some', 'distress'), ('for', 'that', 'sort'), ('with', 'this', 'solution'), ('from', 'that', 'district'), ('of', 'these', 'waves'), ('at', 'any', 'spot'), ('of', 'these', 'activities'), ('of', 'any', 'consequence'), ('on', 'these', 'facts'), ('of', 'these', 'resources'), ('of', 'this', 'subject'), ('on', 'this', 'earth'), ('for', 'that', 'RA'), ('for', 'another', 'unit'), ('to', 'these', 'conditions'), ('of', 'these', 'conditions'), ('with', 'this', 'problem'), ('of', 'that', 'contention'), ('of', 'any', 'interest'), ('In', 'some', 'countries'), ('throughout', 'that', 'part'), ('for', 'each', 'part'), ('in', 'this', 'town'), ('of', 'this', 'kind'), ('to', 'these', 'problems'), ('for', 'each', 'year'), ('of', 'this', 'morning'), ('with', 'this', 'saliva'), ('before', 'each', 'meal'), ('at', 'any', 'restaurant'), ('In', 'this', 'way'), ('to', 'that', 'part'), ('for', 'another', 'year'), ('of', 'this', 'plan'), ('in', 'any', 'way'), ('at', 'any', 'time'), ('of', 'these', 'difficulties'), ('with', 'each', 'adult'), ('in', 'that', 'role'), ('in', 'those', 'days'), ('in', 'this', 'respect'), ('to', 'this', 'art'), ('in', 'that', 'style'), ('of', 'this', 'country'), ('in', 'this', 'Land'), ('on', 'this', 'occasion'), ('in', 'that', 'year'), ('for', 'any', 'part'), ('in', 'any', 'case'), ('At', 'that', 'time'), ('of', 'this', 'argument'), ('among', 'these', 'men'), ('in', 'those', 'days'), ('From', 'that', 'point'), ('on', 'this', 'walk'), ('without', 'any', 'change'), ('under', 'any', 'suspicion'), ('in', 'this', 'country'), ('at', 'that', 'time'), ('for', 'another', 'year'), ('of', 'that', 'day'), ('of', 'this', 'country'), ('In', 'these', 'cases'), ('in', 'some', 'periods'), ('in', 'some', 'neighborhoods'), ('to', 'some', 'extent'), ('in', 'this', 'regard'), ('to', 'any', 'policy'), ('in', 'those', 'years'), ('in', 'any', 'kind'), ('in', 'this', 'sense'), ('with', 'some', 'degree'), ('of', 'this', 'skill'), ('In', 'this', 'respect'), ('by', 'some', 'persons'), ('in', 'this', 'country'), ('from', 'these', 'industries'), ('of', 'them', 'animals'), ('from', 'them', 'winter'), ('in', 'this', 'position'), ('upon', 'this', 'practice'), ('of', 'this', \"sayin'\"), ('for', 'any', 'person'), ('in', 'any', 'enterprise'), ('of', 'that', 'bush'), ('in', 'this', 'kind'), ('of', 'another', 'creature'), ('At', 'this', 'moment'), ('At', 'this', 'moment'), ('in', 'this', 'fight'), ('in', 'each', 'denomination'), ('within', 'each', 'congregation'), ('of', 'this', 'truth'), ('to', 'this', 'church'), ('in', 'those', 'days'), ('of', 'another', 'day'), ('of', 'this', 'period'), ('of', 'this', 'team'), ('of', 'any', 'importance'), ('In', 'some', 'cities'), ('in', 'this', 'era'), ('of', 'these', 'crises'), ('in', 'each', 'area'), ('in', 'this', 'case'), ('of', 'this', 'time'), ('of', 'these', 'mothers'), ('to', 'any', 'decision'), ('of', 'this', 'capacity'), ('In', 'another', 'sense'), ('during', 'this', 'particular'), ('in', 'this', 'circuit'), ('in', 'this', 'litigation'), ('of', 'this', 'criticism'), ('in', 'this', 'class'), ('of', 'these', 'matters'), ('of', 'this', 'community'), ('In', 'this', 'tangle'), ('By', 'that', 'time'), ('At', 'this', 'point'), ('of', 'this', 'square'), ('at', 'this', 'gem'), ('At', 'this', 'point'), ('at', 'each', 'corner'), ('in', 'this', 'part'), ('of', 'that', 'domination'), ('down', 'those', 'streets'), ('of', 'this', 'country'), ('without', 'any', 'warning'), ('in', 'this', 'country'), ('to', 'this', 'day'), ('of', 'this', 'century'), ('around', 'this', 'nucleus'), ('in', 'this', 'regard'), ('in', 'another', 'connection'), ('to', 'these', 'contacts'), ('through', 'this', 'process'), ('of', 'this', 'struggle'), ('of', 'this', 'type'), ('of', 'this', 'style'), ('to', 'this', 'post'), ('of', 'that', 'river'), ('of', 'that', 'body'), ('of', 'this', 'district'), ('on', 'this', 'region'), ('with', 'some', 'ideas'), ('in', 'this', 'position'), ('about', 'this', 'thing'), ('In', 'any', 'event'), ('for', 'this', 'experience'), ('At', 'this', \"Women's\"), ('of', 'this', \"maid's\"), ('of', 'this', 'policy'), ('to', 'these', 'customs'), ('for', 'that', 'matter'), ('in', 'that', 'part'), ('In', 'any', 'case'), ('in', 'that', 'state'), ('of', 'this', 'action'), ('of', 'any', 'fellow'), ('against', 'those', 'persons'), ('with', 'that', 'statement'), ('to', 'this', 'object'), ('In', 'another', 'respect'), ('with', 'any', 'means'), ('in', 'this', 'statement'), ('of', 'any', 'mode'), ('In', 'these', 'terms'), ('in', 'these', 'conditions'), ('of', 'another', 'nation'), ('for', 'this', 'discussion'), ('in', 'this', 'category'), ('of', 'that', 'year'), ('of', 'these', 'people'), ('Outside', 'those', 'limits'), ('in', 'that', 'transformation'), ('of', 'those', 'programs'), ('on', 'those', 'states'), ('to', 'some', 'degree'), ('of', 'that', 'concept'), ('to', 'those', 'questions'), ('to', 'some', 'degree'), ('of', 'these', 'clocks'), ('in', 'this', 'field'), ('with', 'these', 'men'), ('in', 'this', 'report'), ('in', 'each', 'movement'), ('in', 'some', 'cases'), ('on', 'these', 'circuits'), ('of', 'these', 'nerve'), ('At', 'any', 'rate'), ('with', 'another', 'man'), ('upon', 'these', 'men'), ('of', 'these', 'tree-clumps'), ('down', 'this', 'road'), ('about', 'that', 'panel'), ('around', 'that', 'rock'), ('of', 'some', 'rodent'), ('for', 'this', 'city'), ('of', 'this', 'city'), ('in', 'these', 'pavilions'), ('on', 'any', \"summer's\"), ('of', 'some', 'sort'), ('for', 'these', 'caravans'), ('At', 'either', 'end'), ('by', 'another', 'line'), ('in', 'these', 'things'), ('for', 'that', 'matter'), ('at', 'any', 'rate'), ('to', 'this', 'fragment'), ('for', 'that', 'matter'), ('within', 'this', 'limitation'), ('During', 'these', 'years'), ('of', 'that', 'year'), ('in', 'this', 'hour'), ('in', 'some', 'cases'), ('after', 'each', 'spell'), ('of', 'that', 'nationalism'), ('of', 'this', 'twentieth-century'), ('with', 'these', 'matters'), ('by', 'this', 'romanticizing'), ('On', 'this', 'trip'), ('in', 'this', 'regard'), ('of', 'this', 'change'), ('In', 'each', 'case'), ('From', 'this', 'being'), ('to', 'some', 'choreographers'), ('in', 'this', 'approach'), ('of', 'another', 'world'), ('unlike', 'any', 'sequence'), ('by', 'these', 'means'), ('in', 'this', 'period'), ('on', 'this', 'subject'), ('to', 'some', 'country'), ('of', 'each', 'state'), ('from', 'that', 'standpoint'), ('in', 'these', 'words'), ('on', 'each', 'side'), ('of', 'this', 'ordeal'), ('during', 'this', 'century'), ('of', 'this', 'process'), ('in', 'this', 'case'), ('of', 'these', 'advances'), ('In', 'some', 'areas'), ('over', 'this', 'misfortune'), ('in', 'this', 'instance'), ('opposite', 'that', 'church'), ('in', 'this', 'theology'), ('of', 'this', 'division'), ('Within', 'this', 'notion'), ('in', 'some', 'form'), ('of', 'this', 'group'), ('For', 'this', 'reason'), ('of', 'that', 'prison'), ('of', 'this', 'cult'), ('of', 'this', 'movement'), ('of', 'this', 'tendency'), ('On', 'these', 'posts'), ('of', 'that', 'view'), ('of', 'this', 'green'), ('against', 'that', 'pressure'), ('of', 'any', 'county'), ('in', 'some', 'detail'), ('of', 'this', 'story'), ('by', 'any', 'spirit'), ('for', 'this', 'episode'), ('by', 'any', 'transgression'), ('to', 'these', 'statements'), ('in', 'this', 'story'), ('for', 'this', 'distinction'), ('on', 'that', 'account'), ('of', 'this', 'world'), ('before', 'this', 'wardrobe'), ('of', 'this', 'earth'), ('of', 'this', 'conflict'), ('of', 'this', 'world'), ('of', 'this', 'contrast'), ('in', 'this', 'day'), ('of', 'this', 'essay'), ('of', 'this', 'view'), ('of', 'these', 'powers'), ('in', 'some', 'degree'), ('in', 'these', 'apprehensions'), ('In', 'this', 'respect'), ('with', 'this', 'question'), ('to', 'each', 'portion'), ('of', 'this', 'wealth'), ('under', 'those', 'censures'), ('in', 'that', 'direction'), ('for', 'that', 'reason'), ('From', 'this', 'time'), ('for', 'this', 'condition'), ('For', 'this', 'reason'), ('In', 'this', 'way'), ('of', 'this', 'contradiction'), ('In', 'either', 'case'), ('of', 'this', 'theme'), ('on', 'this', 'theme'), ('at', 'this', 'question'), ('On', 'this', 'basis'), ('to', 'each', 'member'), ('for', 'each', 'guest'), ('for', 'this', 'illustration'), ('of', 'any', 'organization'), ('by', 'this', 'scheme'), ('in', 'this', 'country'), ('in', 'this', 'country'), ('of', 'that', 'day'), ('in', 'that', 'form'), ('by', 'this', 'time'), ('in', 'this', 'country'), ('in', 'this', 'country'), ('in', 'this', 'country'), ('of', 'another', 'fight'), ('at', 'some', 'pains'), ('to', 'that', 'conservatism'), ('with', 'this', 'view'), ('on', 'this', 'malaise'), ('to', 'this', 'testament'), ('about', 'this', 'return'), ('of', 'these', 'ex-liberals'), ('of', 'that', 'liberalism'), ('In', 'any', 'event'), ('in', 'these', 'pages'), ('to', 'any', 'society'), ('by', 'any', 'means'), ('by', 'another', 'proprietor'), ('of', 'this', 'sort'), ('Despite', 'this', 'danger'), ('of', 'some', 'sort'), ('on', 'that', 'proposition'), ('in', 'some', 'way'), ('In', 'this', 'case'), ('in', 'this', 'instance'), ('to', 'that', 'cleavage'), ('in', 'any', 'conscience'), ('of', 'that', 'weakening'), ('About', 'this', 'man'), ('in', 'any', 'man'), ('in', 'this', 'instance'), ('without', 'any', 'provision'), ('from', 'any', 'decision'), ('In', 'this', 'phase'), ('At', 'that', 'point'), ('At', 'that', 'point'), ('for', 'this', 'experience'), ('of', 'that', 'movement'), ('of', 'that', 'hold'), ('to', 'this', 'truth'), ('Within', 'this', 'context'), ('To', 'this', 'end'), ('of', 'this', 'response'), ('for', 'this', 'reason'), ('of', 'that', 'defense'), ('against', 'any', 'surprises'), ('of', 'this', 'story'), ('of', 'this', 'story'), ('of', 'this', 'story'), ('from', 'this', 'marriage'), ('of', 'this', 'period'), ('of', 'this', 'legend'), ('into', 'these', 'compositions'), ('At', 'this', 'period'), ('at', 'this', 'time'), ('of', 'this', 'phase'), ('of', 'some', 'kind'), ('With', 'those', 'paintings'), ('At', 'this', 'moment'), ('over', 'those', 'materials'), ('in', 'those', 'books'), ('of', 'that', 'history'), ('to', 'this', 'tradition'), ('through', 'those', 'families'), ('in', 'this', 'comment'), ('of', 'these', 'backwoods'), ('of', 'those', 'materials'), ('about', 'this', 'suggestion'), ('of', 'this', 'sort'), ('in', 'another', \"man's\"), ('in', 'this', 'article'), ('for', 'some', 'passion'), ('in', 'these', 'pamphlets'), ('in', 'these', 'pamphlets'), ('from', 'any', 'insecurity'), ('in', 'this', 'point'), ('of', 'this', 'anxiety'), ('about', 'these', 'phenomena'), ('on', 'these', 'institutions'), ('over', 'this', 'ground'), ('of', 'this', 'universe'), ('to', 'any', 'intention'), ('of', 'these', 'points'), ('to', 'these', 'axioms'), ('of', 'these', 'things'), ('of', 'this', 'tapestry'), ('In', 'any', 'case'), ('at', 'that', 'time'), ('at', 'that', 'time'), ('from', 'that', 'day'), ('of', 'these', 'scenes'), ('At', 'this', 'time'), ('At', 'this', 'point'), ('on', 'another', 'sign'), ('Under', 'this', 'kind'), ('of', 'this', 'city'), ('at', 'any', 'rate'), ('during', 'this', 'period'), ('before', 'these', 'meetings'), ('of', 'those', 'verses'), ('In', 'any', 'case'), ('of', 'some', 'sort'), ('upon', 'this', 'part'), ('in', 'those', 'days'), ('about', 'this', 'man'), ('in', 'this', 'narrative'), ('in', 'that', 'sense'), ('in', 'this', 'connotation'), ('in', 'this', 'sense'), ('With', 'each', 'song'), ('of', 'this', 'instrument'), ('of', 'this', 'guerilla'), ('in', 'this', 'work'), ('of', 'any', 'nation'), ('of', 'these', 'countries'), ('in', 'any', 'way'), ('of', 'this', 'concern'), ('for', 'this', 'kind'), ('in', 'this', \"nation's\"), ('in', 'this', 'matter'), ('of', 'this', 'burden'), ('in', 'this', 'matter'), ('for', 'those', 'nations'), ('of', 'these', 'nations'), ('of', 'these', 'forces'), ('of', 'these', 'forces'), ('to', 'these', 'allies'), ('in', 'this', 'way'), ('for', 'some', 'years'), ('in', 'any', 'way'), ('in', 'this', 'manner'), ('for', 'that', 'report'), ('in', 'this', 'manner'), ('for', 'some', 'years'), ('of', 'this', 'fact'), ('of', 'this', 'review'), ('by', 'any', 'rules'), ('At', 'this', 'time'), ('by', 'this', 'method'), ('By', 'this', 'time'), ('On', 'each', 'side'), ('on', 'this', 'occasion'), ('On', 'this', 'issue'), ('in', 'these', 'months'), ('from', 'that', 'point'), ('By', 'this', 'time'), ('To', 'this', 'end'), ('on', 'these', 'laws'), ('In', 'this', 'connection'), ('in', 'this', 'book'), ('of', 'some', 'significance'), ('in', 'this', 'paper'), ('to', 'some', 'length'), ('of', 'this', 'abuse'), ('of', 'this', 'pamphlet'), ('by', 'this', 'term'), ('of', 'these', 'months'), ('into', 'any', 'Form'), ('Of', 'This', 'World'), ('Of', 'This', 'World'), ('in', 'those', 'Village'), ('to', 'another', 'approach'), ('on', 'another', 'film'), ('Without', 'any', 'regard'), ('at', 'that', 'time'), ('with', 'some', 'editorial'), ('in', 'those', 'days'), ('in', 'this', 'painting'), ('of', 'this', 'mission'), ('about', 'that', 'night'), ('in', 'this', 'book'), ('To', 'some', 'extent'), ('In', 'some', 'measure'), ('to', 'this', 'appraisal'), ('In', 'this', 'domain'), ('of', 'any', 'policy'), ('by', 'these', 'questions'), ('in', 'this', 'country'), ('of', 'this', 'epilogue'), ('of', 'this', 'volume'), ('Within', 'this', 'frame'), ('within', 'this', 'frame'), ('of', 'any', 'number'), ('In', 'any', 'case'), ('of', 'this', 'anthology'), ('For', 'this', 'purpose'), ('in', 'this', 'anthology'), ('of', 'this', 'aspect'), ('to', 'this', 'pseudo-thinking'), ('of', 'this', 'sketch'), ('to', 'some', 'code'), ('of', 'these', 'authors'), ('of', 'this', 'influence'), ('to', 'this', 'feeling'), ('of', 'these', 'ideas'), ('to', 'this', 'control'), ('with', 'these', 'emotions'), ('of', 'these', 'emotions'), ('In', 'any', 'inquiry'), ('for', 'some', 'variety'), ('Along', 'these', 'lines'), ('upon', 'this', 'aspect'), ('to', 'these', 'events'), ('of', 'this', 'effort'), ('with', 'that', 'development'), ('At', 'this', 'point'), ('In', 'this', 'essay'), ('of', 'this', 'history'), ('to', 'some', 'extent'), ('of', 'that', 'age'), ('of', 'this', 'sort'), ('of', 'any', 'period'), ('to', 'some', 'people'), ('in', 'some', 'way'), ('for', 'that', 'matter'), ('over', 'that', 'evidence'), ('in', 'any', 'way'), ('for', 'another', 'try'), ('by', 'any', 'possibility'), ('with', 'this', 'correspondence'), ('in', 'this', 'biography'), ('in', 'this', 'case'), ('in', 'these', 'pages'), ('by', 'this', 'display'), ('in', 'any', 'form'), ('in', 'this', 'respect'), ('at', 'this', 'piece'), ('on', 'either', 'side'), ('At', 'that', 'moment'), ('by', 'either', 'side'), ('in', 'this', 'action'), ('for', 'this', 'assault'), ('For', 'some', 'time'), ('of', 'this', 'gloom'), ('in', 'this', 'campaign'), ('in', 'some', 'way'), ('of', 'these', 'fords'), ('in', 'this', 'letter'), ('for', 'some', 'weeks'), ('In', 'any', 'case'), ('to', 'that', 'project'), ('in', 'these', 'poems'), ('from', 'this', 'period'), ('for', 'another', 'book'), ('In', 'any', 'event'), ('of', 'that', 'time'), ('in', 'this', 'drawing'), ('to', 'any', 'lady'), ('on', 'either', 'side'), ('of', 'any', 'sort'), ('at', 'this', 'period'), ('by', 'those', 'smatterings'), ('At', 'this', 'moment'), ('By', 'this', 'time'), ('of', 'any', 'sort'), ('at', 'that', 'time'), ('in', 'these', 'locations'), ('on', 'this', 'night'), ('at', 'that', 'time'), ('By', 'this', 'time'), ('of', 'some', 'otter'), ('at', 'this', 'point'), ('of', 'that', 'center'), ('For', 'some', 'reason'), ('without', 'any', 'flattery'), ('of', 'this', 'period'), ('with', 'this', 'group'), ('at', 'that', 'time'), ('of', 'this', 'country'), ('at', 'that', 'time'), ('of', 'this', 'section'), ('between', 'that', 'amount'), ('on', 'some', 'properties'), ('In', 'those', 'years'), ('for', 'another', 'year'), ('in', 'that', 'figure'), ('In', 'this', 'play'), ('In', 'this', 'play'), ('in', 'that', 'time'), ('of', 'this', 'group'), ('into', 'these', 'concerns'), ('of', 'these', 'thoughts'), ('of', 'another', 'sort'), ('of', 'that', 'group'), ('From', 'that', 'time'), ('With', 'this', 'conviction'), ('For', 'this', 'decision'), ('in', 'any', 'aspect'), ('of', 'these', 'discoveries'), ('of', 'each', 'man'), ('to', 'another', 'state'), ('with', 'this', 'point'), ('in', 'some', 'detail'), ('in', 'this', 'case'), ('For', 'this', 'reason'), ('For', 'this', 'reason'), ('in', 'this', 'direction'), ('to', 'that', 'end'), ('on', 'this', 'theory'), ('of', 'this', 'dispute'), ('For', 'this', 'reason'), ('from', 'some', 'men'), ('With', 'that', 'act'), ('of', 'this', 'controversy'), ('of', 'those', 'places'), ('For', 'this', 'purpose'), ('of', 'these', 'students'), ('in', 'these', 'data'), ('in', 'these', 'regards'), ('of', 'these', 'aspirations'), ('in', 'this', 'connection'), ('In', 'this', 'sense'), ('in', 'any', 'case'), ('of', 'this', 'country'), ('in', 'some', 'instances'), ('at', 'this', 'time'), ('in', 'this', 'fight'), ('of', 'this', 'type'), ('in', 'some', 'want'), ('before', 'that', 'time'), ('for', 'that', 'purpose'), ('at', 'this', 'time'), ('with', 'some', 'children'), ('of', 'this', 'day'), ('upon', 'this', 'occasion'), ('during', 'that', 'period'), ('of', 'these', 'involvements'), ('of', 'these', 'discussions'), ('From', 'that', 'day'), ('for', 'another', 'well'), ('of', 'that', 'walk'), ('of', 'this', 'change'), ('for', 'this', 'purpose'), ('in', 'that', 'article'), ('in', 'another', 'way'), ('At', 'this', 'point'), ('for', 'this', 'purpose'), ('in', 'this', 'century'), ('on', 'that', 'point'), ('in', 'this', 'century'), ('of', 'these', 'theories'), ('to', 'that', 'time'), ('in', 'this', 'period'), ('on', 'any', 'ground'), ('of', 'this', 'catastrophe'), ('on', 'any', 'floor'), ('at', 'any', 'turn'), ('in', 'these', 'organizations'), ('From', 'this', 'action'), ('at', 'any', 'fault'), ('in', 'this', 'parliament'), ('with', 'some', 'handicraftsman'), ('of', 'this', 'monei'), ('of', 'this', 'towne'), ('of', 'thees', 'trobles'), ('for', 'anye', 'corne'), ('by', 'those', 'individuals'), ('into', 'some', 'undertaking'), ('against', 'this', 'background'), ('by', 'this', 'observation'), ('in', 'this', 'world'), ('about', 'these', 'regions'), ('of', 'any', 'book'), ('to', 'some', 'sort'), ('at', 'any', 'hour'), ('of', 'that', 'night'), ('of', 'this', 'trip'), ('on', 'these', 'brothers'), ('for', 'that', 'year'), ('in', 'that', 'year'), ('from', 'that', 'college'), ('of', 'that', 'year'), ('on', 'any', 'topic'), ('in', 'any', 'calendar'), ('of', 'that', 'weapon'), ('of', 'that', 'day'), ('in', 'any', 'phase'), ('from', 'this', 'prolusion'), ('at', 'some', 'individuals'), ('in', 'this', 'performance'), ('of', 'this', 'development'), ('in', 'any', 'way'), ('of', 'this', 'class'), ('in', 'this', 'respect'), ('of', 'this', 'phenomenon'), ('in', 'this', 'case'), ('of', 'these', 'dystopias'), ('in', 'this', 'area'), ('in', 'this', 'profession'), ('in', 'this', 'situation'), ('of', 'that', 'truth'), ('of', 'some', 'unfortunates'), ('from', 'this', 'day'), ('of', 'any', 'opinion'), ('of', 'this', 'department'), ('of', 'some', 'psychologists'), ('to', 'some', 'discount'), ('of', 'some', 'kind'), ('With', 'this', 'excuse'), ('with', 'this', 'mixture'), ('by', 'this', 'object'), ('Despite', 'these', 'facts'), ('at', 'that', 'time'), ('with', 'some', 'guerrilla'), ('of', 'any', 'cause'), ('From', 'this', 'point'), ('by', 'any', 'amount'), ('Under', 'these', 'conditions'), ('at', 'any', 'time'), ('to', 'this', 'effect'), ('in', 'some', 'areas'), ('of', 'these', 'reflections'), ('for', 'these', 'reasons'), ('through', 'some', 'sort'), ('of', 'these', 'proposals'), ('with', 'this', 'machinery'), ('of', 'this', 'book'), ('In', 'this', 'respect'), ('of', 'these', 'aspects'), ('of', 'this', 'poetry'), ('of', 'this', 'anger'), ('of', 'these', 'poems'), ('In', 'any', 'case'), ('at', 'any', 'point'), ('throughout', 'this', 'country'), ('at', 'this', 'moment'), ('of', 'these', 'days'), ('on', 'any', 'subject'), ('Around', 'that', 'statue'), ('in', 'that', 'park'), ('with', 'some', 'pamphlets'), ('at', 'that', 'point'), ('of', 'some', 'people'), ('Under', 'this', 'program'), ('of', 'this', 'inventory'), ('for', 'either', 'type'), ('on', 'any', 'production'), ('to', 'those', 'countries'), ('to', 'those', 'groups'), ('in', 'these', 'cases'), ('in', 'this', 'effort'), ('in', 'this', 'effort'), ('with', 'these', 'crises'), ('of', 'these', 'steps'), ('for', 'this', 'body'), ('at', 'this', 'point'), ('of', 'this', 'body'), ('of', 'these', 'experiences'), ('At', 'that', 'time'), ('of', 'this', 'session'), ('in', 'this', 'paean'), ('In', 'this', 'hour'), ('of', 'this', 'patriot'), ('of', 'this', 'Nation'), ('in', 'this', 'House'), ('to', 'this', 'hour'), ('for', 'this', 'man'), ('in', 'this', 'House'), ('in', 'this', 'tribute'), ('to', 'this', 'record'), ('In', 'this', 'role'), ('since', 'that', 'time'), ('of', 'these', 'policies'), ('Of', 'these', 'states'), ('At', 'that', 'time'), ('with', 'each', 'agency'), ('since', 'that', 'time'), ('to', 'each', 'passenger'), ('behind', 'this', 'action'), ('under', 'this', 'division'), ('of', 'each', 'vehicle'), ('on', 'this', 'figure'), ('in', 'this', 'area'), ('Since', 'that', 'time'), ('of', 'this', 'component'), ('in', 'this', 'state'), ('in', 'any', 'town'), ('within', 'this', 'category'), ('of', 'this', 'problem'), ('in', 'each', 'year'), ('in', 'any', 'town'), ('upon', 'any', 'place'), ('to', 'this', 'problem'), ('from', 'each', 'individual'), ('in', 'each', 'case'), ('in', 'each', 'town'), ('in', 'each', 'individual'), ('of', 'this', 'kind'), ('On', 'this', 'point'), ('of', 'those', 'towns'), ('on', 'some', 'boats'), ('of', 'this', \"state's\"), ('of', 'this', \"Division's\"), ('with', 'this', 'conference'), ('for', 'this', 'Division'), ('in', 'this', 'report'), ('of', 'this', 'division'), ('To', 'this', 'end'), ('to', 'those', 'communities'), ('of', 'this', 'program'), ('With', 'these', 'maps'), ('of', 'this', 'report'), ('over', 'these', 'units'), ('to', 'this', 'report'), ('In', 'any', 'event'), ('in', 'this', 'state'), ('of', 'that', 'town'), ('in', 'some', 'cases'), ('for', 'these', 'towns'), ('within', 'that', 'year'), ('Under', 'this', 'plan'), ('of', 'these', 'towns'), ('For', 'those', 'communities'), ('at', 'this', 'time'), ('of', 'these', 'volunteers'), ('throughout', 'this', 'week'), ('of', 'these', 'opportunities'), ('of', 'these', 'places'), ('in', 'this', 'effort'), ('on', 'this', 'investment'), ('from', 'these', 'pageants'), ('At', 'that', 'time'), ('of', 'that', 'time'), ('at', 'this', 'time'), ('on', 'this', 'day'), ('in', 'this', 'Act'), ('of', 'this', 'Act'), ('for', 'any', 'process'), ('of', 'this', 'Act'), ('of', 'this', 'Act'), ('of', 'this', 'Act'), ('of', 'this', 'Act'), ('under', 'this', 'Act'), ('of', 'this', 'Act'), ('of', 'this', 'Act'), ('of', 'this', 'Act'), ('of', 'any', 'background'), ('under', 'this', 'Act'), ('under', 'this', 'section'), ('of', 'this', 'Act'), ('of', 'this', 'Act'), ('of', 'this', 'Act'), ('to', 'this', 'Act'), ('to', 'this', 'Act'), ('for', 'each', 'plant'), ('of', 'any', 'plants'), ('to', 'any', 'State'), ('excluding', 'any', 'coal'), ('of', 'this', 'Act'), ('in', 'this', 'section'), ('between', 'any', 'State'), ('through', 'any', 'place'), ('of', 'this', 'Act'), ('in', 'this', 'Act'), ('of', 'this', 'Act'), ('in', 'this', 'Act'), ('to', 'this', 'Act'), ('at', 'this', 'Institute'), ('During', 'this', 'period'), ('Of', 'these', 'exhibits'), ('of', 'this', 'report'), ('in', 'these', 'registries'), ('of', 'this', 'report'), ('during', 'this', 'period'), ('During', 'this', 'period'), ('of', 'this', 'report'), ('for', 'each', 'service'), ('to', 'each', 'issue'), ('on', 'some', 'phase'), ('of', 'any', 'portion'), ('of', 'these', 'hydrides'), ('of', 'these', 'molecules'), ('of', 'these', 'frequencies'), ('of', 'this', 'experiment'), ('with', 'this', 'instrument'), ('In', 'this', 'case'), ('toward', 'this', 'goal'), ('of', 'these', 'profiles'), ('to', 'these', 'spectra'), ('of', 'any', 'act'), ('to', 'any', 'matter'), ('under', 'this', 'Title'), ('under', 'this', 'Title'), ('with', 'any', 'claim'), ('to', 'this', 'Title'), ('in', 'any', 'case'), ('to', 'each', 'claimant'), ('of', 'this', 'subsection'), ('to', 'any', 'amount'), ('under', 'this', 'Title'), ('to', 'any', 'claims'), ('under', 'this', 'title'), ('under', 'this', 'title'), ('to', 'any', 'award'), ('under', 'this', 'title'), ('by', 'any', 'court'), ('by', 'this', 'title'), ('under', 'this', 'Title'), ('of', 'this', 'Act'), ('in', 'this', 'provision'), ('of', 'this', 'legislation'), ('of', 'this', 'Title'), ('of', 'each', 'award'), ('of', 'this', 'Title'), ('of', 'each', 'payment'), ('to', 'this', 'Title'), ('of', 'any', 'assignment'), ('of', 'this', 'Title'), ('of', 'any', 'liability'), ('of', 'any', 'claim'), ('of', 'any', 'national'), ('of', 'this', 'Title'), ('of', 'this', 'Title'), ('of', 'this', 'Title'), ('for', 'that', 'purpose'), ('of', 'this', 'section'), ('of', 'this', 'Title'), ('of', 'this', 'section'), ('of', 'this', 'Title'), ('of', 'this', 'Title'), ('of', 'each', 'award'), ('of', 'this', 'Title'), ('of', 'this', 'subsection'), ('of', 'this', 'section'), ('of', 'this', 'Section'), ('of', 'any', 'sum'), ('of', 'any', 'money'), ('under', 'this', 'Title'), ('At', 'this', 'time'), ('to', 'this', 'phase'), ('at', 'this', 'time'), ('of', 'this', 'hemisphere'), ('Among', 'these', 'questions'), ('with', 'this', 'task'), ('to', 'this', 'time'), ('Throughout', 'these', 'years'), ('in', 'this', 'Section'), ('for', 'this', 'part'), ('for', 'each', 'State'), ('to', 'those', 'States'), ('For', 'each', 'State'), ('in', 'this', 'step'), ('in', 'this', 'step'), ('for', 'each', 'State'), ('for', 'each', 'State'), ('than', 'these', 'extremes'), ('in', 'this', 'step'), ('of', 'each', 'State'), ('For', 'each', 'State'), ('for', 'each', 'State'), ('in', 'those', 'States'), ('to', 'those', 'States'), ('of', 'any', 'State'), ('for', 'any', 'State'), ('of', 'this', 'explanation'), ('to', 'any', \"State's\"), ('For', 'each', 'State'), ('for', 'each', 'State'), ('for', 'each', 'State'), ('than', 'these', 'extremes'), ('between', 'this', 'bracing'), ('in', 'this', 'way'), ('for', 'this', 'shelter'), ('for', 'this', 'shelter'), ('to', 'each', 'type'), ('for', 'those', 'periods'), ('In', 'these', 'shelters'), ('without', 'any', 'design'), ('of', 'another', 'corporation'), ('in', 'any', 'section'), ('of', 'any', 'line'), ('of', 'this', 'provision'), ('for', 'these', 'products'), ('for', 'this', 'share'), ('upon', 'this', 'record'), ('to', 'this', 'acquisition'), ('to', 'this', 'conclusion'), ('on', 'this', 'proposal'), ('to', 'those', 'parties'), ('of', 'those', 'companies'), ('of', 'this', 'Court'), ('of', 'that', 'case'), ('in', 'any', 'event'), ('to', 'this', 'Court'), ('in', 'this', 'case'), ('in', 'any', 'form'), ('for', 'this', 'recommendation'), ('of', 'that', 'date'), ('in', 'any', 'prejudice'), ('at', 'any', 'stage'), ('of', 'these', 'circumstances'), ('in', 'this', 'respect'), ('in', 'this', 'Department'), ('in', 'any', 'way'), ('in', 'some', 'thoughts'), ('in', 'this', 'room'), ('by', 'another', 'department'), ('of', 'these', 'principles'), ('in', 'this', 'country'), ('In', 'this', 'way'), ('from', 'this', \"year's\"), ('In', 'any', 'case'), ('in', 'this', 'spirit'), ('toward', 'this', 'country'), ('from', 'this', 'country'), ('of', 'this', 'goal'), ('in', 'this', 'period'), ('to', 'those', 'rodents'), ('of', 'these', 'systems'), ('of', 'this', 'system'), ('of', 'these', 'roads'), ('of', 'this', 'Department'), ('at', 'these', 'levels'), ('of', 'these', 'long-range'), ('for', 'these', 'facilities'), ('for', 'this', 'period'), ('In', 'some', 'units'), ('of', 'some', 'inholdings'), ('with', 'any', 'contingency'), ('in', 'this', 'budget'), ('in', 'this', 'message'), ('in', 'this', 'category'), ('of', 'this', 'fuel'), ('of', 'this', 'project'), ('in', 'any', 'form'), ('in', 'this', 'budget'), ('of', 'these', 'systems'), ('By', 'that', 'time'), ('of', 'that', 'aircraft'), ('in', 'each', 'case'), ('in', 'this', 'budget'), ('in', 'this', 'Agreement'), ('for', 'this', 'commodity'), ('Under', 'this', 'Agreement'), ('At', 'that', 'time'), ('at', 'that', 'time'), ('under', 'this', 'Agreement'), ('of', 'any', 'commodity'), ('at', 'any', 'time'), ('to', 'this', 'Agreement'), ('of', 'this', 'Agreement'), ('for', 'any', 'purposes'), ('to', 'this', 'Agreement'), ('of', 'this', 'Agreement'), ('in', 'these', 'commodities'), ('regarding', 'any', 'matter'), ('of', 'this', 'Agreement'), ('to', 'this', 'Agreement'), ('of', 'this', 'Agreement'), ('for', 'any', 'purpose'), ('of', 'this', 'agreement'), ('to', 'each', 'project'), ('to', 'some', 'extent'), ('at', 'any', 'point'), ('against', 'any', 'interference'), ('in', 'any', 'circumstances'), ('to', 'some', 'extent'), ('for', 'each', 'situation'), ('of', 'that', 'degree'), ('By', 'this', 'standard'), ('at', 'any', 'point'), ('at', 'that', 'point'), ('during', 'this', 'portion'), ('in', 'this', 'case'), ('for', 'this', 'purpose'), ('after', 'that', 'time'), ('For', 'this', 'reason'), ('in', 'this', 'process'), ('to', 'some', 'extent'), ('with', 'these', 'frequencies'), ('for', 'these', 'frequencies'), ('to', 'some', 'extent'), ('of', 'these', 'channels'), ('of', 'these', 'channels'), ('on', 'these', 'channels'), ('on', 'these', 'channels'), ('on', 'these', 'channels'), ('of', 'these', 'frequencies'), ('during', 'these', 'hours'), ('of', 'these', 'stations'), ('of', 'any', 'month'), ('for', 'these', 'purposes'), ('From', 'this', 'amount'), ('For', 'this', 'concept'), ('of', 'that', 'Board'), ('in', 'this', 'Report'), ('to', 'that', 'position'), ('in', 'these', 'Reports'), ('of', 'those', 'evils'), ('by', 'any', 'theoreticians'), ('along', 'these', 'lines'), ('during', 'this', 'period'), ('with', 'some', 'pleasure'), ('at', 'that', 'time'), ('of', 'this', 'invention'), ('in', 'this', 'direction'), ('to', 'this', 'day'), ('At', 'that', 'time'), ('of', 'this', 'problem'), ('until', 'that', 'time'), ('to', 'this', 'day'), ('Between', 'that', 'year'), ('to', 'this', 'day'), ('of', 'this', 'century'), ('During', 'these', 'years'), ('in', 'that', 'industry'), ('On', 'this', 'basis'), ('from', 'these', 'fabrics'), ('of', 'this', 'year'), ('on', 'each', 'spindle'), ('for', 'this', 'machine'), ('of', 'this', 'equipment'), ('in', 'that', 'direction'), ('in', 'this', 'work'), ('in', 'this', 'country'), ('for', 'this', 'material'), ('of', 'these', 'advances'), ('of', 'this', 'year'), ('for', 'this', 'program'), ('of', 'these', 'organizations'), ('to', 'any', 'student'), ('to', 'these', 'rules'), ('for', 'any', 'student'), ('to', 'any', 'woman'), ('of', 'each', 'year'), ('of', 'this', 'magazine'), ('despite', 'some', 'disappointment'), ('for', 'some', 'decline'), ('of', 'these', 'expenditures'), ('of', 'these', 'increases'), ('for', 'this', 'market'), ('for', 'this', 'reason'), ('of', 'each', 'committee'), ('At', 'some', 'colleges'), ('for', 'some', 'purposes'), ('about', 'these', 'bodies'), ('in', 'some', 'cases'), ('of', 'these', 'planets'), ('from', 'these', 'sources'), ('at', 'some', 'depth'), ('of', 'this', 'concept'), ('in', 'this', 'paper'), ('In', 'this', 'design'), ('to', 'this', 'anode'), ('For', 'each', 'mass'), ('of', 'this', 'region'), ('of', 'these', 'temperatures'), ('of', 'these', 'measurements'), ('for', 'this', 'work'), ('In', 'this', 'test'), ('on', 'each', 'side'), ('By', 'this', 'method'), ('with', 'these', 'fluids'), ('in', 'this', 'case'), ('in', 'this', 'paper'), ('in', 'this', 'case'), ('of', 'these', 'matters'), ('Under', 'this', 'assumption'), ('in', 'each', 'sheet'), ('in', 'this', 'material'), ('of', 'this', 'laboratory'), ('of', 'this', 'laboratory'), ('in', 'this', 'sample'), ('of', 'these', 'lines'), ('for', 'some', 'variation'), ('for', 'this', 'application'), ('In', 'this', 'way'), ('to', 'some', 'extent'), ('to', 'some', 'extent'), ('in', 'this', 'manner'), ('by', 'these', 'effects'), ('to', 'each', 'constituent'), ('with', 'any', 'impurities'), ('to', 'these', 'expectations'), ('in', 'each', 'distillation'), ('in', 'these', 'cells'), ('in', 'each', 'reaction'), ('between', 'these', 'variables'), ('in', 'these', 'cells'), ('for', 'these', 'particles'), ('in', 'this', 'case'), ('in', 'this', 'category'), ('to', 'some', 'question'), ('for', 'each', 'unit'), ('in', 'each', 'unit'), ('of', 'this', 'relationship'), ('of', 'these', 'conditions'), ('in', 'some', 'food'), ('in', 'this', 'trial'), ('From', 'these', 'dosage'), ('in', 'this', 'case'), ('In', 'this', 'test'), ('In', 'this', 'instance'), ('by', 'this', 'aerosol'), ('from', 'these', 'dosage'), ('by', 'this', 'route'), ('In', 'some', 'instances'), ('from', 'this', 'route'), ('in', 'this', 'category'), ('on', 'this', 'property'), ('In', 'this', 'connection'), ('of', 'these', 'considerations'), ('to', 'this', 'problem'), ('for', 'this', 'purpose'), ('In', 'this', 'case'), ('in', 'this', 'case'), ('over', 'that', 'city'), ('to', 'this', 'type'), ('of', 'each', 'sample'), ('from', 'each', 'column'), ('in', 'each', 'chamber'), ('against', 'this', 'buffer'), ('in', 'these', 'sera'), ('at', 'this', 'stage'), ('in', 'some', 'species'), ('in', 'some', 'cases'), ('for', 'some', 'rattlesnakes'), ('in', 'this', 'respect'), ('from', 'this', 'approach'), ('to', 'these', 'conclusions'), ('on', 'these', 'aspects'), ('of', 'these', 'anacondas'), ('on', 'this', 'report'), ('in', 'this', 'lung'), ('in', 'this', 'group'), ('to', 'some', 'degree'), ('In', 'this', 'instance'), ('of', 'these', 'differences'), ('in', 'this', 'statement'), ('in', 'this', 'matter'), ('to', 'this', 'point'), ('of', 'this', 'variation'), ('of', 'this', 'viewpoint'), ('of', 'these', 'shunts'), ('in', 'that', 'species'), ('of', 'these', 'features'), ('for', 'each', 'sex'), ('for', 'those', 'centers'), ('in', 'this', 'value'), ('for', 'these', 'boys'), ('of', 'each', 'Chart'), ('of', 'each', 'Hand'), ('at', 'any', 'stage'), ('at', 'any', 'age'), ('of', 'this', 'study'), ('of', 'each', 'arrow'), ('of', 'each', 'child'), ('for', 'these', 'boys'), ('in', 'this', 'paper'), ('of', 'each', 'figure'), ('at', 'any', 'point'), ('of', 'these', 'arrows'), ('for', 'each', 'center'), ('of', 'each', 'child'), ('for', 'each', 'growth'), ('for', 'each', 'growth'), ('in', 'this', 'monograph'), ('in', 'this', 'center'), ('for', 'each', 'growth'), ('of', 'these', 'children'), ('for', 'this', 'particular'), ('in', 'this', 'phalanx'), ('in', 'this', 'group'), ('of', 'this', 'coupling'), ('in', 'some', 'detail'), ('of', 'these', 'proteases'), ('of', 'these', 'drugs'), ('of', 'either', 'type'), ('to', 'those', 'methods'), ('during', 'this', 'period'), ('of', 'this', 'work'), ('of', 'these', 'patients'), ('since', 'that', 'time'), ('in', 'this', 'paper'), ('at', 'that', 'time'), ('at', 'this', 'time'), ('without', 'any', 'improvement'), ('at', 'this', 'time'), ('At', 'this', 'time'), ('at', 'this', 'time'), ('in', 'some', 'areas'), ('with', 'these', 'changes'), ('of', 'these', 'fibers'), ('in', 'some', 'experiments'), ('After', 'these', 'treatments'), ('In', 'some', 'tumor'), ('of', 'these', 'treatments'), ('in', 'some', 'cases'), ('in', 'this', 'tissue'), ('under', 'these', 'conditions'), ('of', 'this', 'paper'), ('for', 'any', 'reason'), ('in', 'this', 'respect'), ('of', 'this', 'test'), ('of', 'this', 'structure'), ('in', 'this', 'state'), ('of', 'some', 'form'), ('in', 'this', 'area'), ('of', 'these', 'systems'), ('of', 'these', 'problems'), ('in', 'some', 'sense'), ('for', 'each', 'i'), ('of', 'this', 'theorem'), ('For', 'each', 'i'), ('to', 'some', 'direct-sum'), ('for', 'each', 'i'), ('with', 'any', 'polynomial'), ('of', 'these', 'operators'), ('in', 'this', 'expression'), ('for', 'this', 'operator'), ('for', 'some', 'Af'), ('From', 'these', 'results'), ('in', 'this', 'chapter'), ('of', 'this', 'kind'), ('of', 'this', 'kind'), ('in', 'this', 'chapter'), ('of', 'these', 'managers'), ('on', 'each', 'trial'), ('for', 'each', 'property'), ('in', 'that', 'order'), ('for', 'each', 'member'), ('for', 'this', 'reason'), ('with', 'that', 'trial'), ('on', 'each', 'shot'), ('in', 'this', 'experiment'), ('With', 'each', 'vertex'), ('in', 'this', 'way'), ('In', 'some', 'neighborhood'), ('in', 'some', 'neighborhood'), ('between', 'these', 'functions'), ('in', 'any', 'interval'), ('in', 'some', 'neighborhood'), ('on', 'either', 'side'), ('In', 'some', 'neighborhood'), ('in', 'this', 'interval'), ('for', 'any', 'value'), ('for', 'any', 'value'), ('beyond', 'these', 'points'), ('at', 'any', 'argument'), ('on', 'some', 'component'), ('of', 'this', 'equation'), ('of', 'these', 'results'), ('On', 'these', 'generators'), ('of', 'these', 'meets'), ('of', 'this', 'congruence'), ('to', 'each', 'tangent'), ('of', 'any', 'plane'), ('at', 'this', 'point'), ('of', 'any', 'bundle'), ('of', 'these', 'points'), ('of', 'these', 'points'), ('of', 'any', 'line'), ('with', 'these', 'characteristics'), ('of', 'this', 'pencil'), ('in', 'this', 'involution'), ('In', 'each', 'case'), ('within', 'each', 'pencil'), ('in', 'each', 'case'), ('at', 'each', 'point'), ('of', 'this', 'paper'), ('of', 'these', 'lines'), ('through', 'this', 'stage'), ('of', 'these', 'societies'), ('to', 'those', 'countries'), ('to', 'these', 'countries'), ('in', 'each', 'field'), ('of', 'these', 'countries'), ('at', 'this', 'stage'), ('of', 'these', 'countries'), ('in', 'each', 'society'), ('to', 'some', 'values'), ('to', 'this', 'function'), ('of', 'any', 'world'), ('in', 'some', 'measure'), ('in', 'this', 'world'), ('to', 'any', 'casework'), ('about', 'these', 'techniques'), ('of', 'these', 'resources'), ('In', 'some', 'programs'), ('in', 'these', 'efforts'), ('in', 'some', 'instances'), ('of', 'this', 'population'), ('with', 'either', 'set'), ('of', 'this', 'population'), ('for', 'this', 'population'), ('in', 'this', 'population'), ('for', 'this', 'population'), ('of', 'that', 'family'), ('to', 'some', 'degree'), ('To', 'some', 'extent'), ('for', 'this', 'group'), ('within', 'this', 'system'), ('of', 'this', 'study'), ('to', 'some', 'extent'), ('within', 'this', 'population'), ('of', 'this', 'population'), ('In', 'this', 'respect'), ('for', 'this', 'population'), ('to', 'this', 'study'), ('of', 'this', 'population'), ('of', 'this', 'group'), ('to', 'that', 'extent'), ('from', 'this', 'population'), ('for', 'this', 'group'), ('in', 'some', 'ways'), ('on', 'some', 'occasions'), ('along', 'this', 'line'), ('of', 'these', 'records'), ('of', 'each', 'individual'), ('at', 'any', 'time'), ('of', 'these', 'inquiries'), ('in', 'these', 'inquiries'), ('in', 'this', 'system'), ('in', 'this', 'way'), ('in', 'some', 'cases'), ('of', 'these', 'statistics'), ('in', 'this', 'territory'), ('in', 'this', 'territory'), ('within', 'these', 'strata'), ('in', 'some', 'districts'), ('from', 'this', 'source'), ('of', 'these', 'estimates'), ('of', 'these', 'sources'), ('With', 'this', 'evidence'), ('for', 'these', 'students'), ('to', 'some', 'individuals'), ('at', 'this', 'point'), ('of', 'these', 'speculations'), ('within', 'that', 'framework'), ('for', 'some', 'time'), ('of', 'that', 'class'), ('to', 'this', 'experiment'), ('in', 'this', 'area'), ('at', 'some', 'time'), ('in', 'this', 'adjustment'), ('to', 'some', 'extent'), ('in', 'this', 'area'), ('on', 'this', 'task'), ('on', 'these', 'inventories'), ('between', 'those', 'subjects'), ('on', 'this', 'assumption'), ('with', 'those', 'subjects'), ('under', 'these', 'circumstances'), ('in', 'this', 'fashion'), ('in', 'this', 'study'), ('in', 'this', 'situation'), ('in', 'this', 'experiment'), ('to', 'this', 'voluntary-control'), ('in', 'this', 'group'), ('from', 'these', 'data'), ('in', 'each', 'city'), ('for', 'this', 'study'), ('in', 'each', 'school'), ('for', 'this', 'study'), ('of', 'each', 'total'), ('to', 'each', 'type'), ('in', 'this', 'study'), ('of', 'these', 'sub-tests'), ('in', 'this', 'study'), ('to', 'each', 'sample'), ('in', 'this', 'case'), ('in', 'this', 'sample'), ('In', 'this', 'manner'), ('of', 'each', 'sub-group'), ('in', 'this', 'case'), ('of', 'each', 'lesson'), ('of', 'each', 'group'), ('to', 'this', 'point'), ('After', 'each', 'presentation'), ('of', 'this', 'procedure'), ('for', 'this', 'job'), ('In', 'any', 'case'), ('in', 'this', 'case'), ('in', 'this', 'way'), ('for', 'some', 'types'), ('of', 'this', 'procedure'), ('of', 'this', 'chapter'), ('in', 'some', 'instances'), ('in', 'this', 'spirit'), ('At', 'another', 'phase'), ('on', 'this', 'basis'), ('of', 'each', 'session'), ('over', 'these', 'months'), ('of', 'these', 'occasions'), ('at', 'this', 'moment'), ('by', 'any', 'number'), ('unlike', 'this', 'welter'), ('with', 'these', 'patients'), ('at', 'this', 'location'), ('to', 'these', 'forms'), ('of', 'each', 'occurrence'), ('For', 'this', 'step'), ('in', 'this', 'case'), ('of', 'each', 'occurrence'), ('for', 'each', 'form'), ('of', 'another', 'Y-cell'), ('for', 'each', 'dictionary'), ('at', 'that', 'time'), ('of', 'these', 'text'), ('to', 'each', 'form'), ('to', 'each', 'occurrence'), ('of', 'each', 'occurrence'), ('of', 'this', 'process'), ('to', 'each', 'text'), ('from', 'this', 'file'), ('to', 'each', 'text'), ('of', 'each', 'text'), ('for', 'each', 'occurrence'), ('for', 'each', 'form'), ('of', 'each', 'form'), ('to', 'each', 'form'), ('to', 'this', 'tendency'), ('of', 'these', 'sentences'), ('by', 'any', 'means'), ('on', 'this', 'point'), ('in', 'those', 'languages'), ('of', 'these', 'papers'), ('on', 'any', 'phase'), ('in', 'this', 'way'), ('in', 'some', 'languages'), ('without', 'any', 'study'), ('in', 'some', 'way'), ('of', 'any', 'subsystem'), ('of', 'this', 'attitude'), ('of', 'some', 'importance'), ('of', 'this', 'sort'), ('to', 'this', 'approach'), ('of', 'these', 'groupings'), ('for', 'some', 'stem'), ('in', 'this', 'area'), ('from', 'that', 'line'), ('in', 'some', 'regions'), ('in', 'that', 'period'), ('By', 'this', 'time'), ('in', 'this', 'region'), ('in', 'this', 'area'), ('over', 'any', 'subject'), ('on', 'this', 'issue'), ('through', 'this', 'corridor'), ('of', 'this', 'corridor'), ('by', 'these', 'elements'), ('In', 'any', 'case'), ('by', 'any', 'definition'), ('of', 'these', 'formulae'), ('of', 'another', 'world'), ('to', 'some', 'procrastination'), ('By', 'this', 'time'), ('over', 'some', 'form'), ('of', 'this', 'essay'), ('by', 'either', 'party'), ('from', 'some', 'areas'), ('in', 'each', 'province'), ('in', 'this', 'program'), ('to', 'this', 'trend'), ('of', 'this', 'program'), ('of', 'this', 'trend'), ('in', 'this', 'country'), ('for', 'those', 'skills'), ('in', 'these', 'skills'), ('at', 'any', 'rate'), ('in', 'these', 'endeavors'), ('about', 'this', 'interplay'), ('of', 'these', 'things'), ('of', 'this', 'study'), ('in', 'this', 'chapter'), ('by', 'this', 'method'), ('notwithstanding', 'any', 'amount'), ('of', 'this', 'book'), ('at', 'this', 'time'), ('At', 'this', 'time'), ('in', 'some', 'areas'), ('in', 'this', 'connection'), ('in', 'this', 'trend'), ('of', 'that', 'decade'), ('in', 'this', 'decade'), ('of', 'this', 'paper'), ('of', 'this', 'paper'), ('of', 'this', 'paper'), ('of', 'this', 'paper'), ('of', 'this', 'proposition'), ('of', 'this', 'discussion'), ('of', 'this', 'model'), ('in', 'some', 'relation'), ('of', 'this', 'model'), ('In', 'this', 'model'), ('of', 'this', 'response'), ('of', 'this', 'level'), ('from', 'these', 'forces'), ('in', 'this', 'rate'), ('of', 'this', 'magnitude'), ('In', 'this', 'model'), ('in', 'this', 'case'), ('From', 'this', 'presumption'), ('to', 'this', 'change'), ('of', 'this', 'phrase'), ('on', 'this', 'point'), ('of', 'some', 'contact'), ('In', 'this', 'view'), ('of', 'these', 'measures'), ('concerning', 'this', 'aspect'), ('By', 'these', 'measures'), ('over', 'these', 'matters'), ('to', 'those', 'matters'), ('into', 'that', 'court'), ('of', 'this', 'right'), ('at', 'any', 'stage'), ('To', 'this', 'extent'), ('to', 'another', 'provision'), ('in', 'some', 'ways'), ('to', 'another', 'corporation'), ('In', 'these', 'circumstances'), ('for', 'this', 'purpose'), ('by', 'another', 'corporation'), ('to', 'those', 'items'), ('of', 'that', 'section'), ('to', 'this', 'type'), ('of', 'these', 'dangers'), ('at', 'this', 'point'), ('of', 'these', 'limitations'), ('in', 'any', 'event'), ('of', 'these', 'companies'), ('with', 'this', 'objective'), ('of', 'this', 'list'), ('By', 'these', 'steps'), ('of', 'those', 'companies'), ('on', 'each', 'page'), ('in', 'each', 'column'), ('in', 'this', 'fashion'), ('of', 'each', 'firm'), ('for', 'each', 'firm'), ('of', 'this', 'study'), ('of', 'any', 'decision'), ('in', 'these', 'disputes'), ('of', 'that', 'Act'), ('of', 'that', 'act'), ('of', 'this', 'Act'), ('of', 'this', 'paragraph'), ('under', 'this', 'provision'), ('Under', 'that', 'order'), ('of', 'that', 'county'), ('In', 'that', 'event'), ('in', 'this', 'view'), ('in', 'this', 'interpretation'), ('from', 'these', 'decisions'), ('in', 'these', 'matters'), ('of', 'this', 'definition'), ('Concerning', 'this', 'responsibility'), ('of', 'another', 'child'), ('for', 'another', 'child'), ('at', 'this', 'time'), ('in', 'these', 'activities'), ('in', 'any', 'grade'), ('of', 'these', 'groups'), ('for', 'some', 'children'), ('At', 'any', 'rate'), ('about', 'each', 'pupil'), ('about', 'each', 'child'), ('for', 'this', 'Conference'), ('in', 'this', 'paper'), ('for', 'this', 'Conference'), ('of', 'some', 'whites'), ('at', 'this', 'Conference'), ('of', 'another', 'race'), ('of', 'another', 'race'), ('In', 'each', 'instance'), ('in', 'this', 'question'), ('of', 'this', 'sort'), ('of', 'this', 'sort'), ('In', 'this', 'case'), ('to', 'some', 'extent'), ('of', 'those', 'classes'), ('of', 'these', 'purposes'), ('of', 'this', 'movement'), ('between', 'those', 'total-cost'), ('in', 'any', 'event'), ('on', 'these', 'costs'), ('with', 'any', 'share'), ('to', 'this', 'example'), ('to', 'this', 'class'), ('to', 'this', 'class'), ('to', 'this', 'service'), ('for', 'this', 'practice'), ('from', 'any', 'class'), ('plus', 'some', 'return'), ('for', 'this', 'service'), ('of', 'this', 'total'), ('of', 'these', 'costs'), ('in', 'some', 'rates'), ('for', 'that', 'month'), ('on', 'this', 'order'), ('of', 'this', 'sort'), ('to', 'any', 'approach'), ('during', 'this', 'century'), ('of', 'these', 'fields'), ('In', 'this', 'situation'), ('In', 'this', 'connection'), ('For', 'some', 'forms'), ('On', 'that', 'view'), ('in', 'that', 'case'), ('in', 'either', 'case'), ('in', 'that', 'case'), ('in', 'that', 'suffering'), ('in', 'this', 'case'), ('with', 'some', 'feeling'), ('In', 'these', 'circumstances'), ('in', 'this', 'delight'), ('in', 'these', 'things'), ('In', 'any', 'event'), ('of', 'this', 'injury'), ('in', 'this', 'regard'), ('in', 'that', 'sense'), ('to', 'this', 'point'), ('in', 'this', 'way'), ('with', 'another', 'man'), ('of', 'these', 'objects'), ('in', 'any', 'way'), ('in', 'any', 'way'), ('In', 'this', 'process'), ('by', 'this', 'fact'), ('in', 'this', 'world'), ('of', 'this', 'age'), ('without', 'any', 'knowledge'), ('On', 'these', 'pillars'), ('of', 'this', 'world'), ('in', 'this', 'chapter'), ('For', 'this', 'period'), ('in', 'this', 'era'), ('On', 'this', 'principle'), ('in', 'these', 'areas'), ('over', 'these', 'connections'), ('of', 'this', 'expansion'), ('In', 'these', 'respects'), ('of', 'these', 'rows'), ('of', 'this', 'type'), ('of', 'this', 'road'), ('in', 'this', 'county'), ('behind', 'these', 'depredations'), ('around', 'these', 'buildings'), ('to', 'another', 'room'), ('in', 'that', 'locality'), ('of', 'some', 'system'), ('At', 'any', 'rate'), ('at', 'this', 'time'), ('During', 'that', 'tournament'), ('Since', 'that', 'time'), ('for', 'some', 'years'), ('to', 'this', 'view'), ('to', 'that', 'book'), ('To', 'that', 'question'), ('to', 'that', 'book'), ('to', 'this', 'problem'), ('In', 'that', 'tradition'), ('of', 'that', 'share'), ('of', 'these', 'conceptions'), ('for', 'this', 'statement'), ('for', 'any', 'goods'), ('For', 'these', 'crimes'), ('By', 'this', 'time'), ('in', 'that', 'territory'), ('for', 'this', 'reason'), ('by', 'this', 'contrast'), ('over', 'another', 'part'), ('into', 'those', 'clusters'), ('of', 'this', 'dilemma'), ('of', 'this', 'chain-reaction'), ('by', 'this', 'translation'), ('in', 'that', 'instant'), ('on', 'these', 'sites'), ('by', 'any', 'sort'), ('in', 'those', 'cities'), ('of', 'this', 'phenomenon'), ('in', 'this', 'area'), ('of', 'that', 'time'), ('at', 'this', 'point'), ('with', 'some', 'discussion'), ('on', 'some', 'amplification'), ('to', 'this', 'day'), ('in', 'any', 'medium'), ('with', 'this', 'letter'), ('of', 'this', 'letter'), ('of', 'some', 'disappointment'), ('to', 'that', 'experience'), ('on', 'this', 'planet'), ('of', 'this', 'conflict'), ('in', 'that', 'fashion'), ('in', 'this', 'area'), ('of', 'these', 'developments'), ('of', 'these', 'shortcomings'), ('from', 'some', 'writers'), ('from', 'these', 'problems'), ('by', 'any', 'means'), ('at', 'this', 'suggestion'), ('of', 'that', 'tone'), ('of', 'another', 'poet'), ('during', 'this', 'period'), ('in', 'this', 'way'), ('in', 'this', 'way'), ('on', 'this', 'subject'), ('of', 'these', 'values'), ('by', 'that', 'ignoramus'), ('for', 'that', 'matter'), ('of', 'this', 'school'), ('of', 'this', 'sort'), ('of', 'these', 'glimpses'), ('in', 'each', 'epic'), ('of', 'any', 'system'), ('at', 'some', 'stage'), ('of', 'these', 'epics'), ('in', 'this', 'scene'), ('in', 'these', 'hands'), ('from', 'any', 'dish'), ('in', 'some', 'way'), ('in', 'this', 'state'), ('of', 'this', 'gesture'), ('of', 'each', 'elbow'), ('of', 'those', 'instructions'), ('of', 'this', 'manual'), ('on', 'each', 'card'), ('of', 'this', 'table'), ('of', 'this', 'pass'), ('of', 'this', 'pass'), ('at', 'any', 'time'), ('In', 'some', 'cases'), ('for', 'this', 'purpose'), ('to', 'another', 'symbol'), ('at', 'these', 'BOD'), ('of', 'this', 'study'), ('of', 'this', 'study'), ('during', 'this', 'study'), ('of', 'this', 'study'), ('During', 'this', 'study'), ('of', 'that', 'element'), ('of', 'some', 'elements'), ('at', 'these', 'ranges'), ('To', 'this', 'point'), ('for', 'this', 'element'), ('of', 'this', 'metabolite'), ('of', 'this', 'enzyme'), ('in', 'this', 'system'), ('with', 'this', 'conclusion'), ('at', 'some', 'point'), ('in', 'this', 'laboratory'), ('of', 'these', 'systems'), ('of', 'these', 'ligands'), ('of', 'these', 'compounds'), ('In', 'another', 'study'), ('of', 'these', 'sequences'), ('on', 'this', 'system'), ('In', 'this', 'publication'), ('within', 'each', 'section'), ('For', 'some', 'substances'), ('for', 'this', 'type'), ('of', 'this', 'publication'), ('in', 'this', 'directory'), ('of', 'this', 'publication'), ('in', 'each', 'chapter'), ('Within', 'each', 'chapter'), ('In', 'that', 'year'), ('of', 'this', 'volume'), ('of', 'each', 'species'), ('of', 'this', 'sort'), ('of', 'each', 'mineral'), ('of', 'each', 'volume'), ('of', 'this', 'project'), ('In', 'this', 'way'), ('in', 'each', 'instance'), ('in', 'this', 'manner'), ('of', 'this', 'magnitude'), ('In', 'this', 'respect'), ('by', 'these', 'sources'), ('in', 'this', 'type'), ('of', 'these', 'products'), ('in', 'each', 'case'), ('to', 'these', 'phenomena'), ('of', 'these', 'relationships'), ('between', 'these', 'parameters'), ('for', 'any', 'thickness'), ('of', 'this', 'bluntness'), ('to', 'this', 'condition'), ('of', 'this', 'roundness'), ('of', 'that', 'force'), ('of', 'this', 'type'), ('of', 'this', 'type'), ('in', 'this', 'country'), ('to', 'each', 'tub'), ('At', 'this', 'point'), ('By', 'this', 'procedure'), ('for', 'those', 'textiles'), ('for', 'each', 'sample'), ('by', 'any', 'procedure'), ('from', 'any', 'edge'), ('at', 'each', 'side'), ('from', 'each', 'corner'), ('for', 'these', 'devices'), ('in', 'this', 'paper'), ('in', 'some', 'sense'), ('in', 'this', 'way'), ('for', 'any', 'number'), ('At', 'each', 'step'), ('at', 'each', 'stage'), ('to', 'this', 'end'), ('For', 'any', 'choice'), ('to', 'this', 'state'), ('of', 'this', 'table'), ('at', 'this', 'state'), ('in', 'this', 'way'), ('in', 'this', 'case'), ('In', 'this', 'case'), ('in', 'some', 'region'), ('at', 'this', 'state'), ('at', 'any', 'point'), ('With', 'these', 'factors'), ('In', 'this', 'type'), ('to', 'any', 'input'), ('Below', 'this', 'level'), ('in', 'this', 'section'), ('of', 'this', 'system'), ('to', 'any', 'degree'), ('for', 'this', 'procedure'), ('on', 'each', 'accelerometer'), ('for', 'each', 'launch'), ('With', 'this', 'situation'), ('from', 'this', 'autocollimator'), ('of', 'this', 'rotation'), ('at', 'some', 'point'), ('At', 'these', 'times'), ('at', 'that', 'school'), ('without', 'any', 'trouble'), ('in', 'any', 'case'), ('at', 'some', 'point'), ('with', 'each', 'sigh'), ('of', 'each', 'footstep'), ('of', 'any', 'movement'), ('At', 'any', 'cost'), ('of', 'this', 'stamping'), ('of', 'any', 'names'), ('with', 'that', 'kind'), ('of', 'this', 'sort'), ('about', 'this', 'church'), ('of', 'that', 'name'), ('to', 'this', 'plot'), ('in', 'this', 'church'), ('around', 'that', 'church'), ('By', 'that', 'time'), ('in', 'this', 'mood'), ('at', 'this', 'hour'), ('On', 'these', 'excursions'), ('on', 'each', 'occasion'), ('by', 'these', 'questions'), ('to', 'any', 'school'), ('in', 'this', 'genre'), ('onto', 'some', 'sort'), ('of', 'this', 'material'), ('in', 'that', 'condition'), ('for', 'this', 'rider'), ('in', 'that', 'interval'), ('to', 'some', 'sanity'), ('at', 'that', 'moment'), ('to', 'this', 'spot'), ('in', 'this', 'world'), ('of', 'any', 'shame'), ('at', 'this', 'hour'), ('at', 'that', 'sight'), ('of', 'this', 'land'), ('from', 'that', 'chimney'), ('in', 'those', 'lairs'), ('In', 'that', 'moment'), ('in', 'that', 'pattern'), ('on', 'that', 'prospect'), ('for', 'these', 'crudities'), ('of', 'that', 'breed'), ('in', 'any', 'discussions'), ('to', 'another', 'chair'), ('at', 'any', 'time'), ('At', 'that', 'moment'), ('in', 'any', 'case'), ('at', 'this', 'moment'), ('with', 'each', 'model'), ('after', 'each', 'meal'), ('on', 'some', 'secret'), ('of', 'another', 'broadside'), ('for', 'another', 'day'), ('around', 'these', 'parts'), ('for', 'each', \"man's\"), ('beyond', 'this', 'fog'), ('of', 'that', 'gem'), ('of', 'some', 'kind'), ('after', 'that', 'night'), ('on', 'that', 'fashion'), ('to', 'this', 'spirit'), ('of', 'this', 'desire'), ('In', 'any', 'event'), ('with', 'another', 'subject'), ('of', 'this', 'mosaic'), ('with', 'some', 'morsel'), ('at', 'that', 'time'), ('by', 'some', 'stage'), ('of', 'that', 'sort'), ('at', 'that', 'emotion'), ('of', 'those', 'writers'), ('from', 'this', 'window'), ('of', 'those', 'Queen'), ('of', 'those', 'women'), ('to', 'these', 'comforts'), ('at', 'this', 'time'), ('in', 'this', 'life'), ('on', 'those', 'days'), ('to', 'any', 'stranger'), ('in', 'that', 'pot'), ('at', 'this', 'time'), ('on', 'each', 'floor'), ('in', 'that', 'country'), ('at', 'this', 'time'), ('to', 'some', 'women'), ('into', 'some', 'depravity'), ('into', 'some', 'money'), ('into', 'these', 'undertakings'), ('Below', 'these', 'particulars'), ('to', 'those', 'excellences'), ('in', 'some', 'perturbation'), ('at', 'this', 'door'), ('in', 'any', 'case'), ('to', 'any', 'bird'), ('for', 'some', 'time'), ('in', 'some', 'sort'), ('in', 'this', 'house'), ('for', 'any', 'child'), ('for', 'those', 'movers'), ('for', 'each', 'bulb'), ('at', 'that', 'party'), ('with', 'that', 'girl'), ('unlike', 'any', 'girl'), ('at', 'this', 'moment'), ('in', 'this', 'play'), ('at', 'some', 'sort'), ('in', 'this', 'building'), ('with', 'that', 'sort'), ('about', 'that', 'office'), ('By', 'this', 'time'), ('with', 'some', 'work'), ('of', 'any', 'conversation'), ('at', 'that', 'time'), ('with', 'that', 'gun'), ('of', 'this', 'town'), ('of', 'those', 'men'), ('on', 'this', 'side'), ('on', 'either', 'side'), ('with', 'each', 'step'), ('of', 'this', 'farmhouse'), ('of', 'these', 'houses'), ('with', 'this', 'situation'), ('for', 'that', 'number'), ('on', 'this', 'side'), ('in', 'that', 'phone'), ('On', 'this', 'side'), ('on', 'that', 'side'), ('at', 'that', 'moment'), ('to', 'either', 'side'), ('after', 'some', 'work'), ('of', 'some', 'pride'), ('for', 'some', 'information'), ('in', 'each', 'issue'), ('for', 'those', 'minutes'), ('with', 'this', 'stuff'), ('past', 'another', 'man'), ('in', 'some', 'situations'), ('After', 'this', 'deal'), ('to', 'that', 'place'), ('of', 'any', 'help'), ('in', 'this', 'house'), ('in', 'that', 'coffee'), ('by', 'any', 'stretch'), ('past', 'another', 'kind'), ('with', 'any', 'degree'), ('at', 'this', 'conclusion'), ('After', 'that', 'day'), ('in', 'this', 'manner'), ('in', 'that', 'second-floor'), ('with', 'each', 'leap'), ('with', 'this', 'case'), ('to', 'that', 'extent'), ('At', 'each', 'angle'), ('at', 'any', 'point'), ('with', 'this', 'crowd'), ('for', 'this', 'thing'), ('Within', 'this', 'framework'), ('at', 'this', 'particular'), ('At', 'this', 'moment'), ('in', 'that', 'moment'), ('on', 'either', 'side'), ('At', 'that', 'moment'), ('of', 'those', 'people'), ('at', 'any', 'moment'), ('to', 'another', 'part'), ('in', 'either', 'hotel'), ('from', 'either', 'hotel'), ('for', 'that', 'matter'), ('of', 'those', 'things'), ('in', 'any', 'event'), ('in', 'this', 'unfortunate'), ('to', 'this', 'friend'), ('for', 'each', 'year'), ('at', 'some', 'dinner'), ('up', 'another', 'flight'), ('on', 'this', 'side'), ('on', 'either', 'side'), ('between', 'this', 'street'), ('From', 'this', 'side'), ('at', 'this', 'hour'), ('for', 'another', 'glass'), ('for', 'some', 'time'), ('at', 'this', 'hour'), ('on', 'that', 'story'), ('about', 'that', 'picture'), ('with', 'some', 'friends'), ('at', 'this', 'moment'), ('to', 'this', 'desire'), ('of', 'these', 'deeps'), ('on', 'this', 'trip'), ('for', 'this', 'murder'), ('for', 'this', 'week'), ('For', 'another', 'moment'), ('in', 'any', 'newspaper'), ('on', 'that', 'chance'), ('with', 'this', 'room'), ('in', 'this', 'case'), ('with', 'this', 'type'), ('at', 'that', 'mahogany'), ('of', 'those', 'places'), ('in', 'that', 'desolation'), ('in', 'this', 'neck'), ('of', 'this', 'whole'), ('at', 'each', \"others'\"), ('from', 'those', 'eyes'), ('with', 'this', 'stranger'), ('in', 'those', 'eyes'), ('by', 'that', 'truck'), ('In', 'that', 'way'), ('in', 'this', 'state'), ('with', 'another', 'bum'), ('at', 'that', 'hour'), ('In', 'that', 'case'), ('in', 'that', 'case'), ('in', 'that', 'phrase'), ('in', 'another', 'room'), ('on', 'this', 'planet'), ('in', 'this', 'hemisphere'), ('for', 'this', 'expedition'), ('in', 'this', 'case'), ('on', 'this', 'hemisphere'), ('by', 'those', 'members'), ('in', 'this', 'web'), ('by', 'these', 'organs'), ('of', 'this', 'concept'), ('under', 'this', 'concept'), ('of', 'that', 'agreement'), ('toward', 'that', 'place'), ('of', 'this', 'moment'), ('in', 'that', 'direction'), ('of', 'this', 'incident'), ('by', 'some', 'master'), ('to', 'these', 'needles'), ('At', 'this', 'stage'), ('of', 'any', 'being'), ('of', 'that', 'kind'), ('of', 'this', 'discourse'), ('for', 'any', 'shell'), ('in', 'any', 'situation'), ('for', 'some', 'time'), ('at', 'that', 'time'), ('in', 'this', 'place'), ('for', 'these', 'people'), ('for', 'these', 'people'), ('In', 'any', 'case'), ('in', 'this', 'country'), ('for', 'this', 'couple'), ('to', 'this', 'condition'), ('against', 'this', 'bent'), ('on', 'those', 'nights'), ('to', 'this', 'valley'), ('on', 'that', 'day'), ('of', 'these', 'horses'), ('In', 'this', 'country'), ('in', 'this', 'country'), ('about', 'that', 'fire'), ('with', 'this', 'kind'), ('at', 'any', 'time'), ('at', 'any', 'rate'), ('in', 'some', 'places'), ('for', 'any', 'snakes'), ('of', 'those', 'tickets'), ('for', 'some', 'time'), ('for', 'that', 'day'), ('in', 'that', 'place'), ('at', 'this', 'point'), ('about', 'this', 'neighborhood'), ('on', 'any', 'weekday'), ('To', 'this', 'effect'), ('within', 'this', 'prison'), ('to', 'this', 'land'), ('to', 'any', 'man'), ('of', 'those', 'traps'), ('to', 'that', 'belief'), ('in', 'some', 'direction'), ('in', 'this', 'country'), ('by', 'that', 'rattlesnake'), ('with', 'this', 'self-satisfaction'), ('on', 'this', 'permit'), ('of', 'that', 'pistol'), ('to', 'this', 'small-town'), ('of', 'that', 'creek'), ('to', 'either', 'side'), ('of', 'that', 'room'), ('in', 'that', 'fella'), ('in', 'this', 'state'), ('at', 'any', 'time'), ('under', 'each', \"victim's\"), ('in', 'this', 'town'), ('At', 'these', 'words'), ('on', 'this', 'journey'), ('to', 'some', 'kind'), ('in', 'this', 'wilderness'), ('in', 'some', 'bar'), ('of', 'any', 'consequence'), ('on', 'this', 'side'), ('on', 'either', 'side'), ('at', 'this', 'hour'), ('for', 'that', 'money'), ('Over', 'this', 'way'), ('under', 'each', 'wing'), ('under', 'this', 'stuff'), ('in', 'this', 'canyon'), ('near', 'that', 'spot'), ('off', 'another', 'crew'), ('by', 'that', 'time'), ('with', 'that', 'soap'), ('of', 'those', 'scientists'), ('in', 'this', 'instance'), ('of', 'any', 'customers'), ('at', 'that', 'hour'), ('In', 'those', 'days'), ('on', 'some', 'street'), ('by', 'this', 'sight'), ('off', 'this', 'job'), ('to', 'this', 'world'), ('at', 'this', 'line'), ('in', 'another', 'day'), ('on', 'those', 'ropes'), ('into', 'that', 'inferno'), ('for', 'any', 'speck'), ('of', 'this', 'archipelago'), ('with', 'that', 'process'), ('on', 'this', 'island'), ('of', 'this', 'island'), ('With', 'this', 'realization'), ('at', 'each', 'end'), ('in', 'this', 'bunch'), ('in', 'that', 'jungle'), ('in', 'those', 'times'), ('at', 'this', 'point'), ('in', 'this', 'case'), ('down', 'this', 'line'), ('on', 'this', 'trip'), ('for', 'this', 'country'), ('for', 'this', 'dive'), ('at', 'this', 'time'), ('at', 'this', 'time'), ('of', 'that', 'mess'), ('from', 'this', 'time'), ('of', 'any', 'kind'), ('of', 'this', 'town'), ('by', 'that', 'time'), ('from', 'this', 'barn'), ('into', 'that', 'barn'), ('to', 'those', 'parts'), ('Along', 'each', 'side'), ('through', 'these', 'curtains'), ('at', 'any', 'moment'), ('in', 'this', 'snow'), ('of', 'these', 'days'), ('of', 'these', 'possibilities'), ('of', 'any', 'race'), ('in', 'this', 'chamois'), ('with', 'this', 'vow'), ('in', 'this', 'car'), ('in', 'these', 'quarters'), ('without', 'that', 'dog'), ('down', 'that', 'street'), ('into', 'that', 'streetcar'), ('of', 'those', 'fortresses'), ('upon', 'these', 'streets'), ('before', 'each', 'step'), ('of', 'those', 'teats'), ('of', 'these', 'days'), ('In', 'any', 'case'), ('for', 'this', 'summer'), ('in', 'some', 'mountain'), ('at', 'this', 'moment'), ('of', 'that', 'ability'), ('upon', 'this', 'mission'), ('of', 'that', 'past'), ('of', 'this', 'defense'), ('for', 'any', 'man'), ('of', 'those', 'places'), ('in', 'this', 'country'), ('on', 'another', 'door'), ('With', 'any', 'luck'), ('in', 'these', 'parts'), ('of', 'some', 'call'), ('in', 'another', 'light'), ('at', 'this', 'moment'), ('at', 'any', 'moment'), ('of', 'any', 'plot'), ('of', 'any', 'plot'), ('of', 'these', 'apprentices'), ('In', 'this', 'section'), ('of', 'this', 'section'), ('in', 'this', 'refugee'), ('of', 'each', 'week'), ('of', 'these', 'days'), ('of', 'this', 'classic'), ('in', 'that', 'class'), ('of', 'some', 'fraud'), ('With', 'this', 'movie-to-be'), ('past', 'any', \"man's\"), ('by', 'this', 'telephone'), ('of', 'those', 'weeks'), ('at', 'this', 'separation'), ('after', 'that', 'outcry'), ('beside', 'that', 'coffin'), ('with', 'that', 'doll'), ('by', 'this', 'time'), ('at', 'that', 'kind'), ('of', 'those', 'doctors'), ('to', 'another', 'woman'), ('at', 'this', 'hour'), ('at', 'this', 'point'), ('in', 'that', 'summer'), ('into', 'some', 'action'), ('With', 'that', 'wife'), ('for', 'that', 'night'), ('In', 'some', 'ways'), ('at', 'this', 'hour'), ('of', 'that', 'sort'), ('at', 'this', 'hour'), ('for', 'any', 'kind'), ('for', 'another', 'job'), ('of', 'those', 'days'), ('in', 'any', 'case'), ('in', 'this', 'place'), ('for', 'any', 'favors'), ('for', 'this', 'dive'), ('without', 'another', 'word'), ('to', 'these', \"shores'\"), ('of', 'those', 'values'), ('of', 'that', 'match'), ('to', 'some', 'teacher'), ('along', 'these', 'lines'), ('at', 'that', 'moment'), ('in', 'this', 'world'), ('with', 'this', 'church'), ('at', 'this', 'minute'), ('at', 'that', 'sky'), ('at', 'those', 'bastards'), ('for', 'this', 'ball'), ('into', 'that', 'kid'), ('for', 'each', 'guy'), ('in', 'this', 'league'), ('about', 'those', 'things'), ('from', 'some', 'pressure'), ('about', 'that', 'time'), ('of', 'that', 'body'), ('at', 'that', 'distance'), ('of', 'that', 'beauty'), ('in', 'this', 'area'), ('within', 'that', 'brain'), ('in', 'those', 'eyes'), ('in', 'any', 'organization'), ('in', 'any', 'college'), ('along', 'those', 'lines'), ('into', 'any', 'profession'), ('of', 'those', 'blooms'), ('For', 'some', 'reason'), ('of', 'those', 'titters'), ('About', 'this', 'time'), ('in', 'this', 'fashion'), ('of', 'that', 'night'), ('of', 'some', 'kind'), ('At', 'that', 'point'), ('in', 'this', 'case'), ('in', 'that', 'department'), ('on', 'that', 'basis'), ('in', 'that', 'direction'), ('by', 'that', 'time'), ('from', 'that', 'time'), ('of', 'Another', 'Film'), ('for', 'any', 'hint'), ('of', 'these', 'aristocrats'), ('at', 'that', 'time'), ('over', 'this', 'couple'), ('of', 'these', 'women'), ('of', 'this', 'nation'), ('of', 'these', 'items'), ('on', 'these', 'walks'), ('of', 'this', 'collection'), ('to', 'some', 'meeting'), ('for', 'that', 'matter'), ('with', 'some', 'kind'), ('of', 'any', 'handyman-carpenter'), ('of', 'this', 'idea'), ('for', 'them', 'power'), ('by', 'this', 'news'), ('of', 'those', 'men'), ('of', 'this', 'sort'), ('in', 'some', 'magazine'), ('for', 'some', 'time'), ('of', 'this', 'letter'), ('for', 'any', 'fate'), ('of', 'these', 'planets'), ('with', 'this', 'subject'), ('of', 'that', 'picture'), ('in', 'that', 'position'), ('at', 'this', 'juncture'), ('of', 'this', 'nut'), ('on', 'this', 'side'), ('in', 'that', 'outfit'), ('In', 'this', 'manner'), ('of', 'this', 'veteran'), ('In', 'this', 'country'), ('In', 'this', 'work'), ('of', 'any', 'thought'), ('in', 'that', 'milieu'), ('In', 'that', 'case'), ('for', 'this', 'autumn')]\n"
     ]
    }
   ],
   "source": [
    "print([(w1,w2,w3) for ((w1,t1),(w2,t2),(w3,t3)) in list(nltk.trigrams(brown_words_bt)) if t1.startswith('IN')and t2.startswith('DT') and t3.startswith('NN')])"
   ]
  },
  {
   "cell_type": "code",
   "execution_count": 128,
   "metadata": {},
   "outputs": [
    {
     "data": {
      "text/plain": [
       "1.5"
      ]
     },
     "execution_count": 128,
     "metadata": {},
     "output_type": "execute_result"
    }
   ],
   "source": [
    "len(set([w.lower() for w,t in brown_words if t=='PRON' and re.search(r'^he$|him.*|his.*',w)]))/len(set([w.lower() for w,t in brown_words if t=='PRON' and w.startswith(('she','her'))]))"
   ]
  },
  {
   "cell_type": "markdown",
   "metadata": {},
   "source": [
    "#### Exercise 21\n",
    "In 3.1 we saw a table involving frequency counts for the verbs adore, love, like, prefer and preceding qualifiers absolutely and definitely. Investigate the full range of adverbs that appear before these four verbs."
   ]
  },
  {
   "cell_type": "code",
   "execution_count": 136,
   "metadata": {},
   "outputs": [],
   "source": [
    "brown_words=brown.tagged_words(tagset='universal')"
   ]
  },
  {
   "cell_type": "code",
   "execution_count": 142,
   "metadata": {},
   "outputs": [],
   "source": [
    "cfd=nltk.ConditionalFreqDist((w1.lower(),w2.lower()) for ((w1,t1),(w2,t2)) in nltk.bigrams(brown_words) if t1=='ADV' and w2.lower() in ['adore','love','like','prefer'] and t2=='VERB')"
   ]
  },
  {
   "cell_type": "code",
   "execution_count": 141,
   "metadata": {},
   "outputs": [
    {
     "name": "stdout",
     "output_type": "stream",
     "text": [
      "                like   love prefer \n",
      "       always      1      1      0 \n",
      "       dearly      0      1      0 \n",
      "         even      1      0      0 \n",
      "    generally      0      0      1 \n",
      "         just      0      1      0 \n",
      "         much      0      0      1 \n",
      "          not      9      1      1 \n",
      "       rather      1      0      0 \n",
      "       simply      1      0      0 \n",
      "spontaneously      0      0      1 \n",
      "         sure      1      0      0 \n"
     ]
    }
   ],
   "source": [
    "cfd.tabulate()"
   ]
  },
  {
   "cell_type": "markdown",
   "metadata": {},
   "source": [
    "#### Exercise 22\n",
    "We defined the regexp_tagger that can be used as a fall-back tagger for unknown words. This tagger only checks for cardinal numbers. By testing for particular prefix or suffix strings, it should be possible to guess other tags. For example, we could tag any word that ends with -s as a plural noun. Define a regular expression tagger (using  RegexpTagger()) that tests for at least five other patterns in the spelling of words. (Use inline documentation to explain the rules.)"
   ]
  },
  {
   "cell_type": "code",
   "execution_count": 174,
   "metadata": {},
   "outputs": [],
   "source": [
    "test_sent = brown.sents(categories='news')[0]\n",
    "regexp_tagger = nltk.RegexpTagger(\n",
    "      [(r'^-?[0-9]+(.[0-9]+)?$', 'CD'),   # cardinal numbers\n",
    "         (r'(The|the|A|a|An|an)$', 'AT'),   # articles\n",
    "        (r'.*able$', 'JJ'),                # adjectives\n",
    "        (r'.*ness$', 'NN'),                # nouns formed from adjectives\n",
    "         (r'.*ly$', 'RB'),                  # adverbs\n",
    "         (r'.*s$', 'NNS'),                  # plural nouns\n",
    "         (r'.*ing$', 'VBG'),                # gerunds\n",
    "         (r'.*ed$', 'VBD'),                 # past tense verbs\n",
    "         (r'.*(him|her|his|he|she|it|they|them).*','PP'),\n",
    "         (r'.*', 'NN')                      # nouns (default)\n",
    "     ])"
   ]
  },
  {
   "cell_type": "code",
   "execution_count": 175,
   "metadata": {},
   "outputs": [
    {
     "name": "stdout",
     "output_type": "stream",
     "text": [
      "[('The', 'AT'), ('Fulton', 'NN'), ('County', 'NN'), ('Grand', 'NN'), ('Jury', 'NN'), ('said', 'NN'), ('Friday', 'NN'), ('an', 'AT'), ('investigation', 'NN'), ('of', 'NN'), (\"Atlanta's\", 'NNS'), ('recent', 'NN'), ('primary', 'NN'), ('election', 'NN'), ('produced', 'VBD'), ('``', 'NN'), ('no', 'NN'), ('evidence', 'NN'), (\"''\", 'NN'), ('that', 'NN'), ('any', 'NN'), ('irregularities', 'NNS'), ('took', 'NN'), ('place', 'NN'), ('.', 'NN')]\n"
     ]
    }
   ],
   "source": [
    "print(regexp_tagger.tag(test_sent))"
   ]
  },
  {
   "cell_type": "markdown",
   "metadata": {},
   "source": [
    "#### Exercise 23\n",
    "Consider the regular expression tagger developed in the exercises in the previous section. Evaluate the tagger using its accuracy() method, and try to come up with ways to improve its performance. Discuss your findings. How does objective evaluation help in the development process?"
   ]
  },
  {
   "cell_type": "code",
   "execution_count": 177,
   "metadata": {
    "scrolled": true
   },
   "outputs": [
    {
     "data": {
      "text/plain": [
       "[('The', 'AT'),\n",
       " ('Fulton', 'NP-TL'),\n",
       " ('County', 'NN-TL'),\n",
       " ('Grand', 'JJ-TL'),\n",
       " ('Jury', 'NN-TL'),\n",
       " ('said', 'VBD'),\n",
       " ('Friday', 'NR'),\n",
       " ('an', 'AT'),\n",
       " ('investigation', 'NN'),\n",
       " ('of', 'IN'),\n",
       " (\"Atlanta's\", 'NP$'),\n",
       " ('recent', 'JJ'),\n",
       " ('primary', 'NN'),\n",
       " ('election', 'NN'),\n",
       " ('produced', 'VBD'),\n",
       " ('``', '``'),\n",
       " ('no', 'AT'),\n",
       " ('evidence', 'NN'),\n",
       " (\"''\", \"''\"),\n",
       " ('that', 'CS'),\n",
       " ('any', 'DTI'),\n",
       " ('irregularities', 'NNS'),\n",
       " ('took', 'VBD'),\n",
       " ('place', 'NN'),\n",
       " ('.', '.')]"
      ]
     },
     "execution_count": 177,
     "metadata": {},
     "output_type": "execute_result"
    }
   ],
   "source": [
    "gold_sent = brown.tagged_sents(categories='news')[0]\n",
    "gold_sent"
   ]
  },
  {
   "cell_type": "code",
   "execution_count": 180,
   "metadata": {},
   "outputs": [
    {
     "data": {
      "text/plain": [
       "0.36"
      ]
     },
     "execution_count": 180,
     "metadata": {},
     "output_type": "execute_result"
    }
   ],
   "source": [
    "nltk.accuracy([t for w,t in gold_sent],[t for w,t in regexp_tagger.tag(test_sent)])"
   ]
  },
  {
   "cell_type": "markdown",
   "metadata": {},
   "source": [
    "#### Exercise 24\n",
    "How serious is the sparse data problem? Investigate the performance of n-gram taggers as n increases from 1 to 6. Tabulate the accuracy score. Estimate the training data required for these taggers, assuming a vocabulary size of 105 and a tagset size of 10^2."
   ]
  },
  {
   "cell_type": "code",
   "execution_count": 223,
   "metadata": {},
   "outputs": [],
   "source": [
    "brown_sents=brown.tagged_sents(tagset='universal')\n",
    "train_set=brown_sents[:round(0.9*len(brown_sents))]\n",
    "test_set=brown_sents[round(0.9*len(brown_sents)):]"
   ]
  },
  {
   "cell_type": "code",
   "execution_count": 226,
   "metadata": {},
   "outputs": [],
   "source": [
    "import matplotlib\n",
    "%matplotlib inline\n",
    "import matplotlib.pyplot as plt\n",
    "def plotPerformance(train_data):\n",
    "    perfs=[]\n",
    "    perfs_b=[]\n",
    "    for n in range(1,7):\n",
    "        perfs.append(nltk.NgramTagger(n,train_set).evaluate(test_set))\n",
    "    for n in range(1,7):\n",
    "        t=perfs_b.append(nltk.NgramTagger(n,train_set,backoff=nltk.NgramTagger(n-1,train_set)).evaluate(test_set))  \n",
    "    plt.plot([1,2,3,4,5,6],perfs,'-bo')\n",
    "    plt.plot([1,2,3,4,5,6],perfs_b,'-ro')"
   ]
  },
  {
   "cell_type": "markdown",
   "metadata": {},
   "source": [
    "Peformance decreased as n increased. This is not the case if backoff is used"
   ]
  },
  {
   "cell_type": "code",
   "execution_count": 227,
   "metadata": {},
   "outputs": [
    {
     "data": {
      "image/png": "[encoded data removed]",
      "text/plain": [
       "<Figure size 432x288 with 1 Axes>"
      ]
     },
     "metadata": {
      "needs_background": "light"
     },
     "output_type": "display_data"
    }
   ],
   "source": [
    "plotPerformance(train_set)"
   ]
  },
  {
   "cell_type": "markdown",
   "metadata": {},
   "source": [
    "#### Exercise 25\n",
    "Obtain some tagged data for another language, and train and evaluate a variety of taggers on it. If the language is morphologically complex, or if there are any orthographic clues (e.g. capitalization) to word classes, consider developing a regular expression tagger for it (ordered after the unigram tagger, and before the default tagger). How does the accuracy of your tagger(s) compare with the same taggers run on English data? Discuss any issues you encounter in applying these methods to the language."
   ]
  },
  {
   "cell_type": "code",
   "execution_count": 228,
   "metadata": {},
   "outputs": [],
   "source": [
    "indian_sents=nltk.corpus.indian.tagged_sents()\n",
    "train_set=indian_sents[:round(0.9*len(indian_sents))]\n",
    "test_set=indian_sents[round(0.9*len(indian_sents)):]"
   ]
  },
  {
   "cell_type": "code",
   "execution_count": 229,
   "metadata": {
    "scrolled": true
   },
   "outputs": [
    {
     "data": {
      "image/png": "[encoded data removed]",
      "text/plain": [
       "<Figure size 432x288 with 1 Axes>"
      ]
     },
     "metadata": {
      "needs_background": "light"
     },
     "output_type": "display_data"
    }
   ],
   "source": [
    "plotPerformance(train_set)"
   ]
  },
  {
   "cell_type": "markdown",
   "metadata": {},
   "source": [
    "Yes, the accuracy compared with the english taggers"
   ]
  },
  {
   "cell_type": "markdown",
   "metadata": {},
   "source": [
    "#### Exercise 26\n",
    "4.1 plotted a curve showing change in the performance of a lookup tagger as the model size was increased. Plot the performance curve for a unigram tagger, as the amount of training data is varied."
   ]
  },
  {
   "cell_type": "code",
   "execution_count": 221,
   "metadata": {},
   "outputs": [
    {
     "data": {
      "text/plain": [
       "[<matplotlib.lines.Line2D at 0x1a58aa62e8>]"
      ]
     },
     "execution_count": 221,
     "metadata": {},
     "output_type": "execute_result"
    },
    {
     "data": {
      "image/png": "[encoded data removed]",
      "text/plain": [
       "<Figure size 432x288 with 1 Axes>"
      ]
     },
     "metadata": {
      "needs_background": "light"
     },
     "output_type": "display_data"
    }
   ],
   "source": [
    "perfs=[]\n",
    "start=0.1;\n",
    "stop=0.9;\n",
    "step=0.1\n",
    "n=start;\n",
    "while n<=stop:\n",
    "    train_set=brown_sents[:round(n*len(brown_sents))]\n",
    "    test_set=brown_sents[round(n*len(brown_sents)):]\n",
    "    unigram_tagger=nltk.UnigramTagger(train_set);\n",
    "    perfs.append(unigram_tagger.evaluate(test_set));\n",
    "    n+=step;\n",
    "plt.plot([0.1,0.2,0.3,0.4,0.5,0.6,0.7,0.8,0.9],perfs,'-bo')"
   ]
  },
  {
   "cell_type": "markdown",
   "metadata": {},
   "source": [
    "#### Exercise 27\n",
    "Inspect the confusion matrix for the bigram tagger t2 defined in 5, and identify one or more sets of tags to collapse. Define a dictionary to do the mapping, and evaluate the tagger on the simplified data."
   ]
  },
  {
   "cell_type": "markdown",
   "metadata": {},
   "source": [
    "Used universal tagset instead of collapsing tags"
   ]
  },
  {
   "cell_type": "code",
   "execution_count": 231,
   "metadata": {},
   "outputs": [],
   "source": [
    "train_set=brown_sents[:round(0.9*len(brown_sents))]\n",
    "test_set=brown_sents[round(0.9*len(brown_sents)):]"
   ]
  },
  {
   "cell_type": "code",
   "execution_count": 234,
   "metadata": {},
   "outputs": [],
   "source": [
    "t0=nltk.DefaultTagger('NN')\n",
    "t1=nltk.UnigramTagger(train_set,backoff=t0)\n",
    "t2=nltk.BigramTagger(train_set,backoff=t1);"
   ]
  },
  {
   "cell_type": "code",
   "execution_count": 235,
   "metadata": {},
   "outputs": [
    {
     "data": {
      "text/plain": [
       "0.9245510362314285"
      ]
     },
     "execution_count": 235,
     "metadata": {},
     "output_type": "execute_result"
    }
   ],
   "source": [
    "t2.evaluate(test_set)"
   ]
  },
  {
   "cell_type": "markdown",
   "metadata": {},
   "source": [
    "#### Exercise 28\n",
    "Experiment with taggers using the simplified tagset (or make one of your own by discarding all but the first character of each tag name). Such a tagger has fewer distinctions to make, but much less information on which to base its work. Discuss your findings."
   ]
  },
  {
   "cell_type": "code",
   "execution_count": 238,
   "metadata": {},
   "outputs": [],
   "source": [
    "brown_sents_bt=brown.tagged_sents()\n",
    "train_set=brown_sents_bt[:round(0.9*len(brown_sents_bt))]\n",
    "test_set=brown_sents_bt[round(0.9*len(brown_sents_bt)):]"
   ]
  },
  {
   "cell_type": "code",
   "execution_count": 239,
   "metadata": {},
   "outputs": [],
   "source": [
    "t0=nltk.DefaultTagger('NN')\n",
    "t1=nltk.UnigramTagger(train_set,backoff=t0)\n",
    "t2=nltk.BigramTagger(train_set,backoff=t1);"
   ]
  },
  {
   "cell_type": "code",
   "execution_count": 240,
   "metadata": {},
   "outputs": [
    {
     "data": {
      "text/plain": [
       "0.9125751765470128"
      ]
     },
     "execution_count": 240,
     "metadata": {},
     "output_type": "execute_result"
    }
   ],
   "source": [
    "t2.evaluate(test_set)"
   ]
  },
  {
   "cell_type": "markdown",
   "metadata": {},
   "source": [
    "Suprisingly, though there is a decrease in the performance of the tagger with brown tagset compared to the one with universal tagset, it is not very high. From these results, choose brown tagset tagger if the accuracy of the tagger is less important compared to interpretibility or differentiation of pos"
   ]
  },
  {
   "cell_type": "markdown",
   "metadata": {},
   "source": [
    "#### Exercise 29\n",
    "Recall the example of a bigram tagger which encountered a word it hadn't seen during training, and tagged the rest of the sentence as None. It is possible for a bigram tagger to fail part way through a sentence even if it contains no unseen words (even if the sentence was used during training). In what circumstance can this happen? Can you write a program to find some examples of this?"
   ]
  },
  {
   "cell_type": "code",
   "execution_count": 245,
   "metadata": {},
   "outputs": [
    {
     "data": {
      "text/plain": [
       "[('how', 'ADV'), ('you', None), ('doing', None)]"
      ]
     },
     "execution_count": 245,
     "metadata": {},
     "output_type": "execute_result"
    }
   ],
   "source": [
    "train_sent=[('how','ADV'),('are','VERB'),('you','PRON'),('doing','VERB')]\n",
    "t2=nltk.BigramTagger([train_sent])\n",
    "t2.tag(nltk.word_tokenize('how you doing'))"
   ]
  },
  {
   "cell_type": "markdown",
   "metadata": {},
   "source": [
    "This happens even if all the words are seen during training but the preceding word is not given in the test set"
   ]
  },
  {
   "cell_type": "code",
   "execution_count": 246,
   "metadata": {},
   "outputs": [
    {
     "data": {
      "text/plain": [
       "[('how', 'ADV'), ('do', None), ('are', None), ('you', None), ('doing', None)]"
      ]
     },
     "execution_count": 246,
     "metadata": {},
     "output_type": "execute_result"
    }
   ],
   "source": [
    "t2.tag(nltk.word_tokenize('how do are you doing'))"
   ]
  },
  {
   "cell_type": "code",
   "execution_count": 248,
   "metadata": {},
   "outputs": [
    {
     "data": {
      "text/plain": [
       "[('how', 'ADV'),\n",
       " ('are', 'VERB'),\n",
       " ('you', 'PRON'),\n",
       " ('doing', 'VERB'),\n",
       " ('girl', None)]"
      ]
     },
     "execution_count": 248,
     "metadata": {},
     "output_type": "execute_result"
    }
   ],
   "source": [
    "t2.tag(nltk.word_tokenize('how are you doing girl'))"
   ]
  },
  {
   "cell_type": "markdown",
   "metadata": {},
   "source": [
    "#### Exercise 30\n",
    "Preprocess the Brown News data by replacing low frequency words with UNK, but leaving the tags untouched. Now train and evaluate a bigram tagger on this data. How much does this help? What is the contribution of the unigram tagger and default tagger now?"
   ]
  },
  {
   "cell_type": "code",
   "execution_count": 254,
   "metadata": {},
   "outputs": [],
   "source": [
    "brown_news_sent=brown.tagged_sents(categories='news')\n",
    "train_set=brown_news_sent[:round(0.9*len(brown_news_sent))];\n",
    "test_set=brown_news_sent[round(0.9*len(brown_news_sent)):];"
   ]
  },
  {
   "cell_type": "code",
   "execution_count": 255,
   "metadata": {},
   "outputs": [
    {
     "data": {
      "text/plain": [
       "0.1018370607028754"
      ]
     },
     "execution_count": 255,
     "metadata": {},
     "output_type": "execute_result"
    }
   ],
   "source": [
    "t2=nltk.BigramTagger(train_set)\n",
    "t2.evaluate(test_set)"
   ]
  },
  {
   "cell_type": "code",
   "execution_count": 260,
   "metadata": {},
   "outputs": [
    {
     "data": {
      "text/plain": [
       "0.06180111821086262"
      ]
     },
     "execution_count": 260,
     "metadata": {},
     "output_type": "execute_result"
    }
   ],
   "source": [
    "t2=nltk.BigramTagger(train_set,cutoff=2)\n",
    "t2.evaluate(test_set)"
   ]
  },
  {
   "cell_type": "code",
   "execution_count": 256,
   "metadata": {
    "scrolled": true
   },
   "outputs": [
    {
     "data": {
      "text/plain": [
       "0.0463258785942492"
      ]
     },
     "execution_count": 256,
     "metadata": {},
     "output_type": "execute_result"
    }
   ],
   "source": [
    "t2=nltk.BigramTagger(train_set,cutoff=5)\n",
    "t2.evaluate(test_set)"
   ]
  },
  {
   "cell_type": "markdown",
   "metadata": {},
   "source": [
    "Didn't help much"
   ]
  },
  {
   "cell_type": "code",
   "execution_count": 259,
   "metadata": {},
   "outputs": [
    {
     "data": {
      "text/plain": [
       "0.8452476038338658"
      ]
     },
     "execution_count": 259,
     "metadata": {},
     "output_type": "execute_result"
    }
   ],
   "source": [
    "t0=nltk.DefaultTagger('NN')\n",
    "t1=nltk.UnigramTagger(train_set,backoff=t0)\n",
    "t2=nltk.BigramTagger(train_set,backoff=t1)\n",
    "t2.evaluate(test_set)"
   ]
  },
  {
   "cell_type": "code",
   "execution_count": 258,
   "metadata": {},
   "outputs": [
    {
     "data": {
      "text/plain": [
       "0.8407547923322684"
      ]
     },
     "execution_count": 258,
     "metadata": {},
     "output_type": "execute_result"
    }
   ],
   "source": [
    "t2=nltk.BigramTagger(train_set,cutoff=5,backoff=t1)\n",
    "t2.evaluate(test_set)"
   ]
  },
  {
   "cell_type": "markdown",
   "metadata": {},
   "source": [
    "Drastic improvement in the performance with backoff"
   ]
  },
  {
   "cell_type": "markdown",
   "metadata": {},
   "source": [
    "#### Exercise 31\n",
    "Modify the program in 4.1 to use a logarithmic scale on the x-axis, by replacing pylab.plot() with  pylab.semilogx(). What do you notice about the shape of the resulting plot? Does the gradient tell you anything?"
   ]
  },
  {
   "cell_type": "code",
   "execution_count": 261,
   "metadata": {},
   "outputs": [],
   "source": [
    "def performance(cfd, wordlist):\n",
    "    lt = dict((word, cfd[word].max()) for word in wordlist)\n",
    "    baseline_tagger = nltk.UnigramTagger(model=lt, backoff=nltk.DefaultTagger('NN'))\n",
    "    return baseline_tagger.evaluate(brown.tagged_sents(categories='news'))\n",
    "\n",
    "def display():\n",
    "    import pylab\n",
    "    word_freqs = nltk.FreqDist(brown.words(categories='news')).most_common()\n",
    "    words_by_freq = [w for (w, _) in word_freqs]\n",
    "    cfd = nltk.ConditionalFreqDist(brown.tagged_words(categories='news'))\n",
    "    sizes = 2 ** pylab.arange(15)\n",
    "    perfs = [performance(cfd, words_by_freq[:size]) for size in sizes]\n",
    "    pylab.semilogx(sizes, perfs, '-bo')\n",
    "    pylab.title('Lookup Tagger Performance with Varying Model Size')\n",
    "    pylab.xlabel('Model Size')\n",
    "    pylab.ylabel('Performance')\n",
    "    pylab.show()"
   ]
  },
  {
   "cell_type": "code",
   "execution_count": 262,
   "metadata": {},
   "outputs": [
    {
     "data": {
      "image/png": "[encoded data removed]",
      "text/plain": [
       "<Figure size 432x288 with 1 Axes>"
      ]
     },
     "metadata": {
      "needs_background": "light"
     },
     "output_type": "display_data"
    }
   ],
   "source": [
    "display()"
   ]
  },
  {
   "cell_type": "markdown",
   "metadata": {},
   "source": [
    "Performance looks directly proportional to model size on logarithmic scale"
   ]
  },
  {
   "cell_type": "markdown",
   "metadata": {},
   "source": [
    "#### Exercise 32\n",
    "Consult the documentation for the Brill tagger demo function, using help(nltk.tag.brill.demo). Experiment with the tagger by setting different values for the parameters. Is there any trade-off between training time (corpus size) and performance?"
   ]
  },
  {
   "cell_type": "code",
   "execution_count": 272,
   "metadata": {},
   "outputs": [
    {
     "name": "stdout",
     "output_type": "stream",
     "text": [
      "Loading tagged data from treebank... \n",
      "Read testing data (200 sents/5251 wds)\n",
      "Read training data (800 sents/19933 wds)\n",
      "Read baseline data (800 sents/19933 wds) [reused the training set]\n",
      "Trained baseline tagger\n",
      "    Accuracy on test set: 0.8366\n",
      "Training tbl tagger...\n",
      "TBL train (fast) (seqs: 800; tokens: 19933; tpls: 24; min score: 3; min acc: None)\n",
      "Finding initial useful rules...\n",
      "    Found 12799 useful rules.\n",
      "\n",
      "           B      |\n",
      "   S   F   r   O  |        Score = Fixed - Broken\n",
      "   c   i   o   t  |  R     Fixed = num tags changed incorrect -> correct\n",
      "   o   x   k   h  |  u     Broken = num tags changed correct -> incorrect\n",
      "   r   e   e   e  |  l     Other = num tags changed incorrect -> incorrect\n",
      "   e   d   n   r  |  e\n",
      "------------------+-------------------------------------------------------\n",
      "  23  23   0   0  | POS->VBZ if Pos:PRP@[-2,-1]\n",
      "  18  19   1   0  | NN->VB if Pos:-NONE-@[-2] & Pos:TO@[-1]\n",
      "  14  14   0   0  | VBP->VB if Pos:MD@[-2,-1]\n",
      "  12  12   0   0  | VBP->VB if Pos:TO@[-1]\n",
      "  11  11   0   0  | VBD->VBN if Pos:VBD@[-1]\n",
      "  11  11   0   0  | IN->WDT if Pos:-NONE-@[1] & Pos:VBP@[2]\n",
      "  10  11   1   0  | VBN->VBD if Pos:PRP@[-1]\n",
      "   9  10   1   0  | VBD->VBN if Pos:VBZ@[-1]\n",
      "   8   8   0   0  | NN->VB if Pos:MD@[-1]\n",
      "   7   7   0   1  | VB->NN if Pos:DT@[-1]\n",
      "   7   7   0   0  | VB->VBP if Pos:PRP@[-1]\n",
      "   7   7   0   0  | IN->WDT if Pos:-NONE-@[1] & Pos:VBZ@[2]\n",
      "   7   8   1   0  | IN->RB if Word:as@[2]\n",
      "   6   6   0   0  | VBD->VBN if Pos:VBP@[-2,-1]\n",
      "   6   6   0   1  | IN->WDT if Pos:-NONE-@[1] & Pos:VBD@[2]\n",
      "   5   5   0   0  | POS->VBZ if Pos:-NONE-@[-1]\n",
      "   5   5   0   0  | VB->VBP if Pos:NNS@[-1]\n",
      "   5   5   0   0  | VBD->VBN if Word:be@[-2,-1]\n",
      "   4   4   0   0  | POS->VBZ if Pos:``@[-2]\n",
      "   4   4   0   0  | VBP->VB if Pos:VBD@[-2,-1]\n",
      "   4   6   2   3  | RP->RB if Pos:CD@[1,2]\n",
      "   4   4   0   0  | RB->JJ if Pos:DT@[-1] & Pos:NN@[1]\n",
      "   4   4   0   0  | NN->VBP if Pos:NNS@[-2] & Pos:RB@[-1]\n",
      "   4   5   1   0  | VBN->VBD if Pos:NNP@[-2] & Pos:NNP@[-1]\n",
      "   4   4   0   0  | IN->WDT if Pos:-NONE-@[1] & Pos:MD@[2]\n",
      "   4   8   4   0  | VBD->VBN if Word:*@[1]\n",
      "   4   4   0   0  | JJS->RBS if Word:most@[0] & Word:the@[-1] & Pos:DT@[-1]\n",
      "   3   3   0   0  | VBD->VBN if Pos:VBN@[-1]\n",
      "   3   4   1   0  | VBN->VB if Pos:TO@[-1]\n",
      "   3   4   1   1  | IN->RB if Pos:.@[1]\n",
      "   3   3   0   0  | JJ->RB if Pos:VBD@[1]\n",
      "   3   3   0   0  | PRP$->PRP if Pos:TO@[1]\n",
      "   3   3   0   0  | NN->VBP if Pos:NNS@[-1] & Pos:DT@[1]\n",
      "   3   3   0   0  | VBP->VB if Word:n't@[-2,-1]\n",
      "Trained tbl tagger in 3.00 seconds\n",
      "    Accuracy on test set: 0.8572\n",
      "Tagging the test data\n"
     ]
    }
   ],
   "source": [
    "from nltk.tbl import demo as brill_tagger\n",
    "brill_tagger.demo()"
   ]
  },
  {
   "cell_type": "code",
   "execution_count": 279,
   "metadata": {},
   "outputs": [
    {
     "name": "stdout",
     "output_type": "stream",
     "text": [
      "Loading tagged data from treebank... \n",
      "Read testing data (200 sents/5251 wds)\n",
      "Read training data (534 sents/13207 wds)\n",
      "Read baseline data (266 sents/6726 wds) \n",
      "Trained baseline tagger\n",
      "    Accuracy on test set: 0.7905\n",
      "Training tbl tagger...\n",
      "TBL train (fast) (seqs: 534; tokens: 13207; tpls: 24; min score: 3; min acc: None)\n",
      "Finding initial useful rules...\n",
      "    Found 36705 useful rules.\n",
      "\n",
      "           B      |\n",
      "   S   F   r   O  |        Score = Fixed - Broken\n",
      "   c   i   o   t  |  R     Fixed = num tags changed incorrect -> correct\n",
      "   o   x   k   h  |  u     Broken = num tags changed correct -> incorrect\n",
      "   r   e   e   e  |  l     Other = num tags changed incorrect -> incorrect\n",
      "   e   d   n   r  |  e\n",
      "------------------+-------------------------------------------------------\n",
      " 156 194  38  24  | NN->NNP if Pos:NNP@[-2,-1]\n",
      "  94 102   8  19  | NN->VB if Pos:TO@[-1]\n",
      "  52  54   2   1  | VBD->VBN if Pos:-NONE-@[1] & Pos:IN@[2]\n",
      "  38  83  45  38  | NN->JJ if Pos:DT@[-1] & Pos:NN@[1]\n",
      "  32  33   1  11  | NN->-NONE- if Pos:WP@[-3,-2,-1]\n",
      "  31  31   0   8  | NN->NNP if Pos:NNP@[1]\n",
      "  31  31   0   1  | VBD->VBN if Pos:VBZ@[-2,-1]\n",
      "  27  39  12  19  | NN->NNP if Pos:NN@[1] & Pos:,@[2]\n",
      "  25  25   0   5  | VBD->VBN if Pos:VBD@[-1]\n",
      "  22  22   0   0  | NN->VB if Pos:MD@[-1]\n",
      "  21  21   0   0  | POS->VBZ if Pos:PRP@[-2,-1]\n",
      "  17  21   4   8  | NN->-NONE- if Pos:VBN@[-1]\n",
      "  17  18   1   7  | NN->JJ if Pos:,@[-1] & Pos:NN@[1]\n",
      "  17  22   5  11  | NN->-NONE- if Word:that@[-1]\n",
      "  16  16   0   4  | VBD->JJ if Pos:DT@[-1]\n",
      "  16  17   1   0  | NN->NNP if Word:Asia@[0,1]\n",
      "  16  16   0   0  | NN->NNP if Word:School@[0,1]\n",
      "  15  15   0   4  | NNP->PRP if Word:I@[-1,0]\n",
      "  14  14   0   0  | VBN->VBD if Pos:PRP@[-1]\n",
      "  14  28  14  10  | VBG->NN if Pos:DT@[-2,-1]\n",
      "  14  14   0  15  | NN->PRP$ if Word:her@[0,1]\n",
      "  13  15   2   0  | VBD->VBN if Pos:VBP@[-1]\n",
      "  12  12   0   1  | VB->NN if Pos:DT@[-2,-1]\n",
      "  11  11   0   0  | VBP->VB if Pos:TO@[-1]\n",
      "  11  15   4   4  | NNS->VBZ if Pos:DT@[1]\n",
      "  11  13   2   0  | VBD->VBN if Word:*@[1]\n",
      "  11  11   0   0  | NNS->NNP if Word:Dinkins@[-1,0]\n",
      "  11  11   0   2  | NN->JJ if Word:Asian@[0,1]\n",
      "  10  12   2   1  | NNP->NN if Word:U.S.@[-1]\n",
      "  11  11   0   2  | NN->NNP if Pos:NNP@[1] & Pos:NNP@[2]\n",
      "   9  11   2  22  | NN->VBP if Pos:PRP@[-1]\n",
      "   9  10   1   0  | NN->NNP if Pos:-NONE-@[-2] & Pos:NNP@[-1]\n",
      "   9   9   0   0  | NN->. if Word:?@[-1,0]\n",
      "   8   8   0   1  | NNS->VBZ if Pos:PRP@[-1]\n",
      "   8   9   1   2  | VBD->VBN if Pos:VB@[-1]\n",
      "   8   9   1   0  | NN->-NONE- if Pos:VBN@[-1]\n",
      "   8  12   4   2  | VBG->NN if Pos:NN@[-1]\n",
      "   8   8   0   0  | VBP->VB if Pos:MD@[-2,-1]\n",
      "   8   9   1   6  | NN->JJ if Word:was@[-1]\n",
      "   8   8   0   0  | NN->NNP if Word:Artist@[-1,0]\n",
      "   7   7   0   0  | VBP->-NONE- if Pos:VBZ@[1]\n",
      "   7  11   4   1  | IN->WDT if Pos:NNS@[-1] & Pos:-NONE-@[1]\n",
      "   7  10   3   2  | NNS->VBZ if Pos:NNP@[-2] & Pos:NNP@[-1]\n",
      "   7   7   0   0  | NN->VB if Word:n't@[-1]\n",
      "   7  15   8   6  | NN->JJ if Word:of@[2]\n",
      "   7   7   0   5  | NN->JJ if Word:are@[-2,-1]\n",
      "   7  10   3  10  | NN->NNP if Word:*@[-2,-1]\n",
      "   7   7   0   0  | NN->NNP if Word:Magna@[-1,0]\n",
      "   7   7   0   0  | NN->NNP if Word:Sheep@[-1,0]\n",
      "   6   6   0   0  | NN->-NONE- if Pos:WDT@[-1]\n",
      "   6   8   2   0  | VB->NN if Pos:POS@[-3,-2,-1]\n",
      "   6   8   2   4  | NNS->JJ if Pos:DT@[-1] & Pos:NN@[1]\n",
      "   6   6   0   2  | NNS->NNP if Pos:NN@[-1] & Pos:NNP@[1]\n",
      "   6   7   1   0  | RB->JJ if Pos:DT@[-1] & Pos:NN@[1]\n",
      "   6  14   8  10  | NN->JJ if Pos:NN@[1] & Pos:NNS@[2]\n",
      "   6   7   1   2  | NN->JJ if Pos:NNS@[1] & Pos:TO@[2]\n",
      "   6   7   1   2  | NN->NNP if Pos:NNP@[1] & Pos:NNP@[2]\n",
      "   6   6   0   0  | JJ->NNP if Pos:NNP@[1] & Pos:NNP@[2]\n",
      "   6   6   0   2  | NN->RB if Word:often@[-1,0]\n",
      "   6   6   0   0  | NN->NNP if Word:Tramp@[0,1]\n",
      "   5   7   2  10  | NN->VBN if Pos:VBZ@[-1]\n",
      "   5   5   0   0  | POS->VBZ if Pos:-NONE-@[-1]\n",
      "   5   6   1   4  | VBD->JJ if Pos:IN@[-1]\n",
      "   5   5   0   2  | NN->NNP if Pos:-LRB-@[-2,-1]\n",
      "   5  11   6   0  | NN->NNP if Pos:IN@[-2] & Pos:NNP@[-1]\n",
      "   5   5   0   0  | VBD->VBN if Pos:DT@[-2] & Pos:RB@[-1]\n",
      "   5   9   4   8  | NN->JJ if Pos:JJ@[1] & Pos:NN@[2]\n",
      "   5   5   0   0  | NN->JJ if Word:be@[-1]\n",
      "   5   5   0   3  | NN->NNP if Word:'s@[2]\n",
      "   5   5   0   1  | NN->IN if Word:If@[-1,0]\n",
      "   5   5   0   0  | NNS->NN if Word:bonus@[-1,0]\n",
      "   5   5   0   0  | VBG->NN if Word:testing@[-1,0]\n",
      "   5   5   0   0  | VBP->NN if Word:study@[-1,0]\n",
      "   5   5   0   2  | IN->RP if Word:off@[0,1]\n",
      "   5   5   0   0  | NN->NNP if Word:Act@[0,1]\n",
      "   5   5   0   0  | NN->NNP if Word:Board@[0,1]\n",
      "   5   5   0   0  | NN->NNP if Word:Coleman@[0,1]\n",
      "   4   4   0   0  | PRP$->PRP if Pos:PRP$@[-1]\n",
      "   4   4   0   0  | PRP->VBP if Pos:PRP@[-1]\n",
      "   4   5   1   2  | VBD->JJ if Pos:JJ@[-1]\n",
      "   4   4   0   1  | IN->RB if Pos:,@[1]\n",
      "   4   4   0   0  | NNS->VBZ if Pos:RP@[1]\n",
      "   4   4   0   0  | NN->NNP if Pos:NNP@[-1] & Pos:POS@[1]\n",
      "   4   4   0   1  | NN->VBP if Pos:NNS@[-1] & Pos:DT@[1]\n",
      "   4   5   1   0  | NNS->NNP if Pos:NNP@[-1] & Pos:,@[1]\n",
      "   4   4   0   0  | VBD->VBN if Pos:VBP@[-2] & Pos:RB@[-1]\n",
      "   4   8   4   3  | NN->JJ if Pos:NNS@[1] & Pos:VBP@[2]\n",
      "   4   5   1   1  | NN->NNP if Pos:NNP@[1] & Pos:NNP@[2]\n",
      "   5   5   0   0  | NNP->NN if Word:investment@[-1,0]\n",
      "   4   4   0   0  | NN->NNP if Word:State@[-1]\n",
      "   5  13   8   0  | JJ->NNP if Pos:DT@[-1] & Pos:NNP@[1]\n",
      "   4   5   1   1  | NNP->VB if Word:*@[-1]\n",
      "   4   4   0   1  | JJ->NN if Word:last@[1]\n",
      "   4   5   1   0  | IN->RB if Word:as@[2]\n",
      "   4   4   0   0  | VBD->VBN if Word:n't@[-2,-1]\n",
      "   4   4   0   0  | NN->NNP if Word:&@[1,2]\n",
      "   4   4   0   0  | IN->RB if Word:So@[-1,0]\n",
      "   4   4   0   0  | NN->NNP if Word:Hungary@[-1,0]\n",
      "   4   4   0   0  | NN->NNP if Word:Sony@[-1,0]\n",
      "   4   4   0   0  | NN->NNP if Word:Southern@[-1,0]\n",
      "   4   4   0   1  | NN->NNP if Word:Tokyo@[-1,0]\n",
      "   4   4   0   1  | NN->NNS if Word:women@[-1,0]\n",
      "   4   4   0   0  | NNS->NNP if Word:Charles@[-1,0]\n",
      "   4   4   0   0  | NNS->RB if Word:always@[-1,0]\n",
      "   4   4   0   1  | VB->PRP$ if Word:her@[-1,0]\n",
      "   4   4   0   0  | VBG->JJ if Word:outstanding@[-1,0]\n",
      "   4   4   0   0  | VBG->NN if Word:anything@[-1,0]\n",
      "   4   4   0   0  | NN->NNP if Word:Courter@[0,1]\n",
      "   4   4   0   0  | NN->NNP if Word:High@[0,1]\n",
      "   4   4   0   1  | NN->NNP if Word:Wa@[0,1]\n",
      "   4   4   0   0  | NN->PRP$ if Word:Her@[0,1]\n",
      "   4   4   0   0  | NN->WRB if Word:how@[0,1]\n",
      "   4   4   0   2  | -NONE-->PRP$ if Word:her@[0]\n",
      "   4   4   0   0  | JJS->RBS if Word:most@[0] & Word:the@[-1] & Pos:DT@[-1]\n",
      "   4   4   0   0  | RBR->JJR if Word:less@[0] & Word:than@[1] & Pos:IN@[1]\n",
      "   3   4   1   0  | NN->JJ if Pos:RBR@[-1]\n",
      "   3   3   0   0  | VBD->JJ if Pos:POS@[-1]\n",
      "   3   3   0   1  | IN->RB if Pos:.@[1]\n",
      "   3   3   0   0  | PRP$->PRP if Pos:TO@[1]\n",
      "   3   3   0   0  | VBZ->NNS if Pos:CC@[1]\n",
      "   3   3   0   0  | POS->VBZ if Pos:``@[-2]\n",
      "   3   3   0   0  | WDT->IN if Pos:VBG@[2]\n",
      "   3   4   1   2  | RP->RB if Pos:CD@[1,2]\n",
      "   3   3   0   0  | IN->DT if Pos:IN@[-1] & Pos:-NONE-@[1]\n",
      "   3   3   0   0  | JJ->NN if Pos:DT@[-1] & Pos:.@[1]\n",
      "   3   6   3   0  | NN->JJ if Pos:PRP$@[-1] & Pos:NN@[1]\n",
      "   3   3   0   1  | NN->NNP if Pos:``@[-1] & Pos:NNS@[1]\n",
      "   3   4   1   2  | NN->RB if Pos:,@[-1] & Pos:,@[1]\n",
      "   3   3   0   0  | NN->VBG if Pos:NN@[-1] & Pos:DT@[1]\n",
      "   3   3   0   0  | NN->VBP if Pos:NNS@[-1] & Pos:-NONE-@[1]\n",
      "   3   3   0   1  | NNP->NN if Pos:POS@[-1] & Pos:NN@[1]\n",
      "   3   3   0   0  | VBN->VBD if Pos:CC@[-1] & Pos:DT@[1]\n",
      "   3   4   1   2  | -NONE-->VBP if Pos:WP@[-2] & Pos:-NONE-@[-1]\n",
      "   3   3   0   0  | JJ->VB if Pos:-NONE-@[-2] & Pos:TO@[-1]\n",
      "   3   3   0   1  | NN->JJ if Pos:RB@[-2] & Pos:RB@[-1]\n",
      "   3   3   0   0  | NN->NNP if Pos:NNP@[-2] & Pos:CC@[-1]\n",
      "   3   3   0   1  | NN->VBN if Pos:PRP@[-2] & Pos:VBD@[-1]\n",
      "   3   3   0   0  | NN->VBP if Pos:WDT@[-2] & Pos:-NONE-@[-1]\n",
      "   3   3   0   0  | NNP->VB if Pos:NNP@[-2] & Pos:TO@[-1]\n",
      "   3   3   0   0  | NNS->VBZ if Pos:WP@[-2] & Pos:-NONE-@[-1]\n",
      "   3   4   1   0  | IN->WDT if Pos:-NONE-@[1] & Pos:MD@[2]\n",
      "   3   4   1   1  | IN->WDT if Pos:-NONE-@[1] & Pos:VBZ@[2]\n",
      "   3   3   0   1  | NN->JJ if Pos:CD@[1] & Pos:NN@[2]\n",
      "   3   4   1   1  | NN->JJ if Pos:NN@[1] & Pos:VBN@[2]\n",
      "   3   3   0   4  | NN->VB if Pos:DT@[1] & Pos:JJ@[2]\n",
      "   3   3   0   0  | NNS->NNP if Word:Mr.@[-1]\n",
      "   3   3   0   0  | NNS->NNP if Word:Sidewalk@[-1]\n",
      "   3   3   0   0  | NNS->VBZ if Word:screen@[-1]\n",
      "   3   3   0   0  | VBN->VBD if Word:report@[-1]\n",
      "   3   3   0   1  | VBP->VBD if Word:she@[-1]\n",
      "   3   3   0   0  | JJ->NN if Word:commercial@[1]\n",
      "   3   3   0   0  | NN->JJ if Word:cheating@[1]\n",
      "   3   3   0   0  | NNP->JJ if Word:U.S.@[1]\n"
     ]
    },
    {
     "name": "stdout",
     "output_type": "stream",
     "text": [
      "   3   3   0   0  | VBP->VB if Word:and@[-2]\n",
      "   3   3   0   0  | NN->NNP if Word:Mary@[-2,-1]\n",
      "   3   4   1   0  | NNS->VBZ if Word:but@[-2,-1]\n",
      "   3   3   0   0  | VBP->VB if Word:n't@[-2,-1]\n",
      "   3   3   0   0  | JJ->NN if Word:construction@[-1,0]\n",
      "   3   3   0   0  | JJ->NN if Word:education@[-1,0]\n",
      "   3   3   0   1  | NN->MD if Word:must@[-1,0]\n",
      "   3   3   0   1  | NN->VB if Pos:MD@[-2] & Pos:RB@[-1]\n",
      "   3   3   0   0  | NN->NNP if Word:Czechoslovakia@[-1,0]\n",
      "   3   3   0   0  | NN->NNP if Word:Dodge@[-1,0]\n",
      "   3   3   0   0  | NN->NNP if Word:France@[-1,0]\n",
      "   3   3   0   0  | NN->NNP if Word:Hong@[-1,0]\n",
      "   3   3   0   0  | NN->NNP if Word:Marie-Louise@[-1,0]\n",
      "   3   3   0   0  | NN->NNP if Word:Moscow@[-1,0]\n",
      "   3   3   0   0  | VBN->VBD if Pos:NNP@[-1]\n",
      "   3   3   0   1  | NN->NNP if Word:Yeargin@[-1,0]\n",
      "   3   3   0   0  | NN->PRP if Word:itself@[-1,0]\n",
      "   3   3   0   0  | NNP->NN if Word:school@[-1,0]\n",
      "   3   3   0   0  | NNS->IN if Word:As@[-1,0]\n",
      "   3   3   0   0  | NNS->RB if Word:sometimes@[-1,0]\n",
      "   3   3   0   0  | NNS->VBZ if Word:goes@[-1,0]\n",
      "   3   3   0   0  | VBG->NN if Word:smoking@[-1,0]\n",
      "   3   3   0   0  | VBG->NN if Word:something@[-1,0]\n",
      "   3   3   0   0  | VBG->NN if Word:teaching@[-1,0]\n",
      "   3   4   1   0  | VBP->NN if Word:show@[-1,0]\n",
      "   3   3   0   0  | JJ->NN if Word:student@[0,1]\n",
      "   3   3   0   0  | NN->JJ if Word:duty-free@[0,1]\n",
      "   3   3   0   0  | NN->JJ if Word:private@[0,1]\n",
      "   3   3   0   0  | NN->JJ if Word:unfair@[0,1]\n",
      "   3   3   0   0  | -NONE-->NN if Word:that@[-1] & Pos:DT@[-1]\n",
      "Trained tbl tagger in 25.00 seconds\n",
      "    Accuracy on test set: 0.8602\n",
      "Incrementally tagging the test data, collecting individual rule statistics\n",
      "    Rule statistics collected\n",
      "Wrote plot of learning curve to learningcurve.png\n"
     ]
    },
    {
     "data": {
      "image/png": "[encoded data removed]",
      "text/plain": [
       "<Figure size 432x288 with 1 Axes>"
      ]
     },
     "metadata": {
      "needs_background": "light"
     },
     "output_type": "display_data"
    }
   ],
   "source": [
    "brill_tagger.demo_learning_curve()"
   ]
  },
  {
   "cell_type": "markdown",
   "metadata": {},
   "source": [
    "#### Exercise 33\n",
    "Write code that builds a dictionary of dictionaries of sets. Use it to store the set of POS tags that can follow a given word having a given POS tag, i.e. wordi → tagi → tagi+1."
   ]
  },
  {
   "cell_type": "code",
   "execution_count": 285,
   "metadata": {},
   "outputs": [],
   "source": [
    "from collections import defaultdict\n",
    "d=defaultdict(set);\n",
    "brown_words=brown.tagged_words();\n",
    "cfd=nltk.ConditionalFreqDist((w1,t2) for ((w1,_),(w2,t2)) in nltk.bigrams(brown_words))\n",
    "for w in cfd.conditions():\n",
    "    d[w]=set(cfd[w].keys())"
   ]
  },
  {
   "cell_type": "code",
   "execution_count": 287,
   "metadata": {},
   "outputs": [
    {
     "name": "stdout",
     "output_type": "stream",
     "text": [
      "{'CC', 'TO', 'WRB', 'CS', '--', 'NN', 'RB', 'VBG', '.', \"''\", 'JJ', '``', ',', 'RP', 'AP', 'IN', 'NNS'}\n"
     ]
    }
   ],
   "source": [
    "print(d['nice'])"
   ]
  },
  {
   "cell_type": "markdown",
   "metadata": {},
   "source": [
    "#### Exercise 34\n",
    "There are 264 distinct words in the Brown Corpus having exactly three possible tags.<br>\n",
    "* Print a table with the integers 1..10 in one column, and the number of distinct words in the corpus having 1..10 distinct tags in the other column. <br>\n",
    "* For the word with the greatest number of distinct tags, print out sentences from the corpus containing the word, one for each possible tag."
   ]
  },
  {
   "cell_type": "code",
   "execution_count": 317,
   "metadata": {
    "scrolled": false
   },
   "outputs": [
    {
     "data": {
      "text/html": [
       "<div>\n",
       "<style scoped>\n",
       "    .dataframe tbody tr th:only-of-type {\n",
       "        vertical-align: middle;\n",
       "    }\n",
       "\n",
       "    .dataframe tbody tr th {\n",
       "        vertical-align: top;\n",
       "    }\n",
       "\n",
       "    .dataframe thead th {\n",
       "        text-align: right;\n",
       "    }\n",
       "</style>\n",
       "<table border=\"1\" class=\"dataframe\">\n",
       "  <thead>\n",
       "    <tr style=\"text-align: right;\">\n",
       "      <th></th>\n",
       "      <th>Tags</th>\n",
       "      <th>Words</th>\n",
       "    </tr>\n",
       "  </thead>\n",
       "  <tbody>\n",
       "    <tr>\n",
       "      <th>3</th>\n",
       "      <td>1</td>\n",
       "      <td>40235</td>\n",
       "    </tr>\n",
       "    <tr>\n",
       "      <th>1</th>\n",
       "      <td>2</td>\n",
       "      <td>7229</td>\n",
       "    </tr>\n",
       "    <tr>\n",
       "      <th>2</th>\n",
       "      <td>3</td>\n",
       "      <td>1594</td>\n",
       "    </tr>\n",
       "    <tr>\n",
       "      <th>7</th>\n",
       "      <td>4</td>\n",
       "      <td>463</td>\n",
       "    </tr>\n",
       "    <tr>\n",
       "      <th>5</th>\n",
       "      <td>5</td>\n",
       "      <td>176</td>\n",
       "    </tr>\n",
       "    <tr>\n",
       "      <th>0</th>\n",
       "      <td>6</td>\n",
       "      <td>75</td>\n",
       "    </tr>\n",
       "    <tr>\n",
       "      <th>6</th>\n",
       "      <td>7</td>\n",
       "      <td>23</td>\n",
       "    </tr>\n",
       "    <tr>\n",
       "      <th>12</th>\n",
       "      <td>8</td>\n",
       "      <td>10</td>\n",
       "    </tr>\n",
       "    <tr>\n",
       "      <th>11</th>\n",
       "      <td>9</td>\n",
       "      <td>5</td>\n",
       "    </tr>\n",
       "    <tr>\n",
       "      <th>8</th>\n",
       "      <td>10</td>\n",
       "      <td>2</td>\n",
       "    </tr>\n",
       "  </tbody>\n",
       "</table>\n",
       "</div>"
      ],
      "text/plain": [
       "    Tags  Words\n",
       "3      1  40235\n",
       "1      2   7229\n",
       "2      3   1594\n",
       "7      4    463\n",
       "5      5    176\n",
       "0      6     75\n",
       "6      7     23\n",
       "12     8     10\n",
       "11     9      5\n",
       "8     10      2"
      ]
     },
     "execution_count": 317,
     "metadata": {},
     "output_type": "execute_result"
    }
   ],
   "source": [
    "import pandas as pd\n",
    "cfd=nltk.ConditionalFreqDist((w.lower(),t) for w,t in brown_words);\n",
    "d=defaultdict(int);\n",
    "maxim=0;\n",
    "for c in cfd.conditions():\n",
    "    if maxim<len(cfd[c]):\n",
    "        maxim=len(cfd[c]);\n",
    "        word=c;\n",
    "    d[len(cfd[c])]+=1;\n",
    "df=pd.DataFrame.from_dict({'Tags':list(d.keys()),'Words':list(d.values())});\n",
    "df=df.sort_values(by='Tags')\n",
    "df.head(10)"
   ]
  },
  {
   "cell_type": "code",
   "execution_count": 344,
   "metadata": {},
   "outputs": [],
   "source": [
    "brown_sents=brown.tagged_sents()"
   ]
  },
  {
   "cell_type": "code",
   "execution_count": 345,
   "metadata": {},
   "outputs": [],
   "source": [
    "d=defaultdict(list)\n",
    "sents=[d[t].append(sent) for sent in brown_sents for (w,t) in sent if w.lower()==word]"
   ]
  },
  {
   "cell_type": "code",
   "execution_count": 346,
   "metadata": {},
   "outputs": [
    {
     "data": {
      "text/plain": [
       "dict_keys(['CS', 'WPS', 'DT', 'QL', 'WPO', 'CS-HL', 'DT-TL', 'WPS-TL', 'DT-HL', 'DT-NC', 'NIL', 'WPS-NC', 'WPO-NC', 'CS-NC', 'WPS-HL'])"
      ]
     },
     "execution_count": 346,
     "metadata": {},
     "output_type": "execute_result"
    }
   ],
   "source": [
    "d.keys()"
   ]
  },
  {
   "cell_type": "code",
   "execution_count": 350,
   "metadata": {},
   "outputs": [
    {
     "data": {
      "text/plain": [
       "dict_keys(['CS', 'WPS', 'DT', 'QL', 'WPO', 'CS-HL', 'DT-TL', 'WPS-TL', 'DT-HL', 'DT-NC', 'NIL', 'WPS-NC', 'WPO-NC', 'CS-NC', 'WPS-HL'])"
      ]
     },
     "execution_count": 350,
     "metadata": {},
     "output_type": "execute_result"
    }
   ],
   "source": [
    "cfd[word].keys()"
   ]
  },
  {
   "cell_type": "code",
   "execution_count": 347,
   "metadata": {
    "collapsed": true
   },
   "outputs": [
    {
     "name": "stdout",
     "output_type": "stream",
     "text": [
      "[('The', 'AT'), ('Fulton', 'NP-TL'), ('County', 'NN-TL'), ('Grand', 'JJ-TL'), ('Jury', 'NN-TL'), ('said', 'VBD'), ('Friday', 'NR'), ('an', 'AT'), ('investigation', 'NN'), ('of', 'IN'), (\"Atlanta's\", 'NP$'), ('recent', 'JJ'), ('primary', 'NN'), ('election', 'NN'), ('produced', 'VBD'), ('``', '``'), ('no', 'AT'), ('evidence', 'NN'), (\"''\", \"''\"), ('that', 'CS'), ('any', 'DTI'), ('irregularities', 'NNS'), ('took', 'VBD'), ('place', 'NN'), ('.', '.')]\n",
      "[('Regarding', 'IN'), (\"Atlanta's\", 'NP$'), ('new', 'JJ'), ('multi-million-dollar', 'JJ'), ('airport', 'NN'), (',', ','), ('the', 'AT'), ('jury', 'NN'), ('recommended', 'VBD'), ('``', '``'), ('that', 'CS'), ('when', 'WRB'), ('the', 'AT'), ('new', 'JJ'), ('management', 'NN'), ('takes', 'VBZ'), ('charge', 'NN'), ('Jan.', 'NP'), ('1', 'CD'), ('the', 'AT'), ('airport', 'NN'), ('be', 'BE'), ('operated', 'VBN'), ('in', 'IN'), ('a', 'AT'), ('manner', 'NN'), ('that', 'WPS'), ('will', 'MD'), ('eliminate', 'VB'), ('political', 'JJ'), ('influences', 'NNS'), (\"''\", \"''\"), ('.', '.')]\n",
      "[('``', '``'), ('Actually', 'RB'), (',', ','), ('the', 'AT'), ('abuse', 'NN'), ('of', 'IN'), ('the', 'AT'), ('process', 'NN'), ('may', 'MD'), ('have', 'HV'), ('constituted', 'VBN'), ('a', 'AT'), ('contempt', 'NN'), ('of', 'IN'), ('the', 'AT'), ('Criminal', 'JJ-TL'), ('court', 'NN-TL'), ('of', 'IN-TL'), ('Cook', 'NP'), ('county', 'NN'), (',', ','), ('altho', 'CS'), ('vindication', 'NN'), ('of', 'IN'), ('the', 'AT'), ('authority', 'NN'), ('of', 'IN'), ('that', 'DT'), ('court', 'NN'), ('is', 'BEZ'), ('not', '*'), ('the', 'AT'), ('function', 'NN'), ('of', 'IN'), ('this', 'DT'), ('court', 'NN'), (\"''\", \"''\"), (',', ','), ('said', 'VBD'), ('Karns', 'NP'), (',', ','), ('who', 'WPS'), ('is', 'BEZ'), ('a', 'AT'), ('City', 'NN-TL'), ('judge', 'NN'), ('in', 'IN'), ('East', 'JJ-TL'), ('St.', 'NP-TL'), ('Louis', 'NP-TL'), ('sitting', 'VBG'), ('in', 'IN'), ('Cook', 'NP-TL'), ('County', 'NN-TL'), ('court', 'NN-TL'), ('.', '.')]\n",
      "[('While', 'CS'), ('the', 'AT'), ('city', 'NN'), ('council', 'NN'), ('suggested', 'VBD'), ('that', 'CS'), ('the', 'AT'), ('Legislative', 'JJ-TL'), ('Council', 'NN-TL'), ('might', 'MD'), ('perform', 'VB'), ('the', 'AT'), ('review', 'NN'), (',', ','), ('Mr.', 'NP'), ('Notte', 'NP'), ('said', 'VBD'), ('that', 'QL'), ('instead', 'RB'), ('he', 'PPS'), ('will', 'MD'), ('take', 'VB'), ('up', 'RP'), ('the', 'AT'), ('matter', 'NN'), ('with', 'IN'), ('Atty.', 'NN-TL'), ('Gen.', 'JJ-TL'), ('J.', 'NP'), ('Joseph', 'NP'), ('Nugent', 'NP'), ('to', 'TO'), ('get', 'VB'), ('``', '``'), ('the', 'AT'), ('benefit', 'NN'), ('of', 'IN'), ('his', 'PP$'), ('views', 'VBZ'), (\"''\", \"''\"), ('.', '.')]\n",
      "[('He', 'PPS'), ('was', 'BEDZ'), ('able', 'JJ'), ('to', 'TO'), ('smell', 'VB'), ('a', 'AT'), ('bargain', 'NN'), ('--', '--'), ('and', 'CC'), ('a', 'AT'), ('masterpiece', 'NN'), ('--', '--'), ('a', 'AT'), ('continent', 'NN'), ('away', 'RB'), (',', ','), ('and', 'CC'), ('the', 'AT'), ('Museum', 'NN-TL'), ('of', 'IN-TL'), ('Modern', 'JJ-TL'), (\"Art's\", 'NN$-TL'), ('Alfred', 'NP'), ('Barr', 'NP'), ('said', 'VBD'), ('of', 'IN'), ('him', 'PPO'), (':', ':'), ('``', '``'), ('I', 'PPSS'), ('have', 'HV'), ('never', 'RB'), ('mentioned', 'VBN'), ('a', 'AT'), ('new', 'JJ'), ('artist', 'NN'), ('that', 'WPO'), ('Thompson', 'NP'), (\"didn't\", 'DOD*'), ('know', 'VB'), ('about', 'IN'), (\"''\", \"''\"), ('.', '.')]\n",
      "[('According', 'IN'), ('to', 'IN'), ('the', 'AT'), ('official', 'JJ'), ('interpretation', 'NN'), ('of', 'IN'), ('the', 'AT'), ('Charter', 'NN-TL'), (',', ','), ('a', 'AT'), ('member', 'NN'), ('cannot', 'MD*'), ('be', 'BE'), ('penalized', 'VBN'), ('by', 'IN'), ('not', '*'), ('having', 'HVG'), ('the', 'AT'), ('right', 'NN'), ('to', 'TO'), ('vote', 'VB'), ('in', 'IN'), ('the', 'AT'), ('General', 'JJ-TL'), ('Assembly', 'NN-TL'), ('for', 'IN'), ('nonpayment', 'NN'), ('of', 'IN'), ('financial', 'JJ'), ('obligations', 'NNS'), ('to', 'IN'), ('the', 'AT'), ('``', '``'), ('special', 'JJ'), (\"''\", \"''\"), ('United', 'VBN-TL'), (\"Nations'\", 'NNS$-TL'), ('budgets', 'NNS'), (',', ','), ('and', 'CC'), ('of', 'IN'), ('course', 'NN'), ('cannot', 'MD*'), ('be', 'BE'), ('expelled', 'VBN'), ('from', 'IN'), ('the', 'AT'), ('Organization', 'NN-TL'), ('(', '('), ('which', 'WDT'), ('you', 'PPSS'), ('suggested', 'VBD'), ('in', 'IN'), ('your', 'PP$'), ('editorial', 'NN'), (')', ')'), (',', ','), ('due', 'RB'), ('to', 'IN-HL'), ('the', 'AT-HL'), ('fact', 'NN-HL'), ('that', 'CS-HL'), ('there', 'EX'), ('is', 'BEZ'), ('no', 'AT'), ('provision', 'NN'), ('in', 'IN'), ('the', 'AT'), ('Charter', 'NN-TL'), ('for', 'IN'), ('expulsion', 'NN'), ('.', '.')]\n",
      "[('At', 'IN'), ('least', 'AP'), ('this', 'DT'), ('seemed', 'VBD'), ('to', 'TO'), ('be', 'BE'), ('the', 'AT'), ('working', 'VBG'), ('hypothesis', 'NN'), ('for', 'IN'), ('``', '``'), ('Chicago', 'NP-TL'), ('And', 'CC-TL'), ('All', 'ABN-TL'), ('That', 'DT-TL'), ('Jazz', 'NN-TL'), (\"''\", \"''\"), (',', ','), ('presented', 'VBN'), ('on', 'IN'), ('NBC-TV', 'NN'), ('Nov.', 'NP'), ('26', 'CD'), ('.', '.')]\n",
      "[(\"''\", \"''\"), ('And', 'CC'), ('her', 'PP$'), ('own', 'JJ'), ('personal', 'JJ'), ('songs', 'NNS'), ('like', 'CS'), ('``', '``'), ('The', 'AT-TL'), ('Man', 'NN-TL'), ('That', 'WPS-TL'), ('Got', 'VBD-TL'), ('Away', 'RB-TL'), (\"''\", \"''\"), (',', ','), ('and', 'CC'), ('the', 'AT'), ('inevitable', 'JJ'), ('``', '``'), ('Over', 'IN-TL'), ('The', 'AT-TL'), ('Rainbow', 'NN-TL'), (\"''\", \"''\"), ('.', '.')]\n",
      "[('That', 'DT-HL'), ('remarkable', 'JJ-HL'), ('cholesterol', 'NN-HL'), ('.', '.-HL')]\n",
      "[('He', 'PPS'), ('has', 'HVZ'), ('his', 'PP$'), ('own', 'JJ'), ('system', 'NN'), ('of', 'IN'), ('shorthand', 'NN'), (',', ','), ('devised', 'VBN'), ('by', 'IN'), ('abbreviations', 'NNS'), (':', ':'), ('``', '``'), ('humility', 'NN'), (\"''\", \"''\"), ('will', 'MD'), ('be', 'BE'), ('``', '``'), ('humly', 'NN-NC'), (\"''\", \"''\"), (',', ','), ('``', '``'), ('with', 'IN-NC'), (\"''\", \"''\"), ('will', 'MD'), ('be', 'BE'), ('``', '``'), ('w', 'NN'), (\"''\", \"''\"), (',', ','), ('and', 'CC'), ('``', '``'), ('that', 'DT-NC'), (\"''\", \"''\"), ('will', 'MD'), ('be', 'BE'), ('``', '``'), ('tt', 'NN'), (\"''\", \"''\"), ('.', '.')]\n",
      "[('Thus', 'NIL'), (',', ','), ('as', 'NIL'), ('a', 'NIL'), ('development', 'NIL'), ('program', 'NIL'), ('is', 'NIL'), ('being', 'NIL'), ('launched', 'NIL'), (',', ','), ('commitments', 'NIL'), ('and', 'NIL'), ('obligations', 'NIL'), ('must', 'NIL'), ('be', 'NIL'), ('entered', 'NIL'), ('into', 'NIL'), ('in', 'NIL'), ('a', 'NIL'), ('given', 'NIL'), ('year', 'NIL'), ('which', 'NIL'), ('may', 'NIL'), ('exceed', 'NIL'), ('by', 'NIL'), ('twofold', 'NIL'), ('or', 'NIL'), ('threefold', 'NIL'), ('the', 'NIL'), ('expenditures', 'NIL'), ('to', 'NIL'), ('be', 'NIL'), ('made', 'NIL'), ('in', 'NIL'), ('that', 'NIL'), ('year', 'NIL'), ('.', '.')]\n",
      "[('In', 'IN'), ('of', 'IN-NC'), ('all', 'ABN-NC'), ('the', 'AT-NC'), ('suggestions', 'NNS-NC'), ('that', 'WPS-NC'), ('were', 'BED-NC'), ('made', 'VBN-NC'), (',', ',-NC'), ('his', 'PP$-NC'), ('was', 'BEDZ-NC'), ('the', 'AT-NC'), ('silliest', 'JJT-NC'), ('the', 'AT'), ('possessive', 'NN'), ('his', 'PP$-NC'), ('represents', 'VBZ'), ('his', 'PP$-NC'), ('suggestion', 'NN-NC'), ('and', 'CC'), ('is', 'BEZ'), ('stressed', 'VBN'), ('.', '.')]\n",
      "[('Thus', 'RB'), ('to', 'IN-NC'), ('has', 'HVZ'), ('light', 'JJ'), ('stress', 'NN'), ('both', 'ABX'), ('in', 'IN'), ('that', 'DT-NC'), ('was', 'BEDZ-NC'), ('the', 'AT-NC'), ('conclusion', 'NN-NC'), ('that', 'WPO-NC'), ('I', 'PPSS-NC'), ('came', 'VBD-NC'), ('to', 'IN-NC'), ('and', 'CC'), ('in', 'IN'), ('that', 'DT-NC'), ('was', 'BEDZ-NC'), ('the', 'AT-NC'), ('conclusion', 'NN-NC'), ('I', 'PPSS-NC'), ('came', 'VBD-NC'), ('to', 'IN-NC'), ('.', '.')]\n",
      "[('But', 'CC'), ('when', 'WRB'), ('to', 'TO-NC'), ('represents', 'VBZ'), ('to', 'IN-NC'), ('consciousness', 'NN-NC'), ('in', 'IN'), ('that', 'WPS-NC'), ('was', 'BEDZ-NC'), ('the', 'AT-NC'), ('moment', 'NN-NC'), ('that', 'CS-NC'), ('I', 'PPSS-NC'), ('came', 'VBD-NC'), ('to', 'IN-NC'), (',', ','), ('and', 'CC'), ('similarly', 'RB'), ('in', 'IN'), ('that', 'WPS-NC'), ('was', 'BEDZ-NC'), ('the', 'AT-NC'), ('moment', 'NN-NC'), ('I', 'PPSS-NC'), ('came', 'VBD-NC'), ('to', 'IN-NC'), (',', ','), ('there', 'EX'), ('is', 'BEZ'), ('much', 'QL'), ('stronger', 'JJR'), ('stress', 'NN'), ('on', 'IN'), ('to', 'IN-NC'), ('.', '.')]\n",
      "[('Factors', 'NNS-HL'), ('that', 'WPS-HL'), ('inhibit', 'VB-HL'), ('learning', 'VBG-HL'), ('and', 'CC-HL'), ('lead', 'VB-HL'), ('to', 'IN-HL'), ('maladjustment', 'NN-HL')]\n"
     ]
    }
   ],
   "source": [
    "for k in d.keys():\n",
    "    print(d[k][0]);"
   ]
  },
  {
   "cell_type": "markdown",
   "metadata": {},
   "source": [
    "#### Exercise 35\n",
    "Write a program to classify contexts involving the word must according to the tag of the following word. Can this be used to discriminate between the epistemic and deontic uses of must?"
   ]
  },
  {
   "cell_type": "code",
   "execution_count": 354,
   "metadata": {},
   "outputs": [
    {
     "name": "stdout",
     "output_type": "stream",
     "text": [
      "{'VB', 'NIL', 'PPLS', 'ABN', 'RB', 'AT', 'VBZ', 'NP-HL', 'VB-HL', 'VB-TL', \"''\", 'HV', '*', 'RB-HL', 'ABX', 'HV-TL', 'PPO', 'NN', 'BE-HL', ',', 'IN', 'PPSS', 'CC', 'DO', 'BE', '.', 'NNS', 'PPS'}\n"
     ]
    }
   ],
   "source": [
    "print(set([t2 for ((w1,t1),(w2,t2)) in nltk.bigrams(brown_words) if w1.lower()=='must']))"
   ]
  },
  {
   "cell_type": "code",
   "execution_count": 351,
   "metadata": {
    "collapsed": true
   },
   "outputs": [
    {
     "data": {
      "text/plain": [
       "[('must', 'be', 'BE'),\n",
       " ('must', 'sign', 'VB'),\n",
       " ('must', 'hold', 'VB'),\n",
       " ('Must', 'solve', 'VB-HL'),\n",
       " ('must', 'solve', 'VB'),\n",
       " ('must', 'be', 'BE'),\n",
       " ('must', 'be', 'BE'),\n",
       " ('must', 'be', 'BE'),\n",
       " ('must', 'be', 'BE'),\n",
       " ('must', 'establish', 'VB'),\n",
       " ('must', 'be', 'BE'),\n",
       " ('Must', 'share', 'VB'),\n",
       " ('must', 'resolve', 'VB'),\n",
       " ('must', 'keep', 'VB'),\n",
       " ('must', 'make', 'VB'),\n",
       " ('must', 'have', 'HV'),\n",
       " ('must', 'persuade', 'VB'),\n",
       " ('must', 'not', '*'),\n",
       " ('must', 'be', 'BE'),\n",
       " ('must', 'plan', 'VB'),\n",
       " ('must', 'have', 'HV'),\n",
       " ('must', 'be', 'BE'),\n",
       " ('must', 'play', 'VB'),\n",
       " ('Must', 'Fall', 'VB-TL'),\n",
       " ('must', 'accomplish', 'VB'),\n",
       " ('must', 'be', 'BE'),\n",
       " ('must', 'stay', 'VB'),\n",
       " ('must', 'train', 'VB'),\n",
       " ('must', 'for', 'IN'),\n",
       " ('must', 'justify', 'VB'),\n",
       " ('must', 'be', 'BE'),\n",
       " ('must', \"''\", \"''\"),\n",
       " ('must', 'get', 'VB'),\n",
       " ('must', 'apply', 'VB'),\n",
       " ('must', 'be', 'BE'),\n",
       " ('must', 'have', 'HV'),\n",
       " ('must', 'be', 'BE'),\n",
       " ('must', 'have', 'HV'),\n",
       " ('must', 'wear', 'VB'),\n",
       " ('must', 'also', 'RB'),\n",
       " ('must', 'be', 'BE'),\n",
       " ('must', 'be', 'BE'),\n",
       " ('must', 'treat', 'VB'),\n",
       " ('must', 'forbid', 'VB'),\n",
       " ('must', 'compete', 'VB'),\n",
       " ('must', 'play', 'VB'),\n",
       " ('must', 'be', 'BE'),\n",
       " ('must', 'be', 'BE'),\n",
       " ('must', 'have', 'HV'),\n",
       " ('must', 'face', 'VB'),\n",
       " ('must', 'not', '*'),\n",
       " ('must', 'be', 'BE'),\n",
       " ('must', 'not', '*'),\n",
       " ('must', 'cherish', 'VB'),\n",
       " ('Must', 'Berlin', 'NP-HL'),\n",
       " ('must', 'acquiesce', 'VB'),\n",
       " ('must', ',', ','),\n",
       " ('must', 'be', 'BE'),\n",
       " ('must', 'show', 'VB'),\n",
       " ('must', 'be', 'BE'),\n",
       " ('must', 'have', 'HV'),\n",
       " ('must', 'be', 'BE'),\n",
       " ('must', 'deal', 'VB'),\n",
       " ('must', 'learn', 'VB'),\n",
       " ('must', ',', ','),\n",
       " ('must', 'do', 'DO'),\n",
       " ('must', 'be', 'BE'),\n",
       " ('must', 'develop', 'VB'),\n",
       " ('must', 'confess', 'VB'),\n",
       " ('must', 'have', 'HV'),\n",
       " ('must', 'have', 'HV'),\n",
       " ('must', 'undergo', 'VB'),\n",
       " ('must', 'be', 'BE'),\n",
       " ('must', 'first', 'RB'),\n",
       " ('must', 'not', '*'),\n",
       " ('must', 'pass', 'VB'),\n",
       " ('must', ',', ','),\n",
       " ('must', 'be', 'BE'),\n",
       " ('must', 'be', 'BE'),\n",
       " ('must', 'be', 'BE'),\n",
       " ('must', 'have', 'HV'),\n",
       " ('must', 'stand', 'VB'),\n",
       " ('must', 'not', '*'),\n",
       " ('must', 'be', 'BE'),\n",
       " ('must', 'be', 'BE'),\n",
       " ('must', 'divest', 'VB'),\n",
       " ('must', 'transfer', 'VB'),\n",
       " ('must', 'get', 'VB'),\n",
       " ('must', 'take', 'VB'),\n",
       " ('must', 'we', 'PPSS'),\n",
       " ('must', ',', ','),\n",
       " ('must', 'at', 'IN'),\n",
       " ('must', 'embark', 'VB'),\n",
       " ('must', 'end', 'VB'),\n",
       " ('must', 'be', 'BE'),\n",
       " ('must', 'be', 'BE'),\n",
       " ('must', 'start', 'VB'),\n",
       " ('must', 'be', 'BE'),\n",
       " ('must', 'choose', 'VB'),\n",
       " ('must', 'arise', 'VB'),\n",
       " ('must', 'seek', 'VB'),\n",
       " ('must', 'be', 'BE'),\n",
       " ('must', 'do', 'DO'),\n",
       " ('must', 'depend', 'VB'),\n",
       " ('must', 'have', 'HV'),\n",
       " ('must', 'sound', 'VB'),\n",
       " ('must', 'be', 'BE'),\n",
       " ('Must', 'Join', 'VB-TL'),\n",
       " ('must', 'have', 'HV'),\n",
       " ('must', 'say', 'VB'),\n",
       " ('must', 'be', 'BE'),\n",
       " ('must', 'be', 'BE'),\n",
       " ('must', 'contribute', 'VB'),\n",
       " ('must', 'for', 'IN'),\n",
       " ('must', 'truthfully', 'RB'),\n",
       " ('must', 'go', 'VB'),\n",
       " ('must', 'build', 'VB'),\n",
       " ('must', 'wonder', 'VB'),\n",
       " ('must', 'lead', 'VB'),\n",
       " ('must', 'be', 'BE'),\n",
       " ('must', 'be', 'BE'),\n",
       " ('must', 'be', 'BE'),\n",
       " ('must', 'be', 'BE'),\n",
       " ('must', 'be', 'BE'),\n",
       " ('must', 'strengthen', 'VB'),\n",
       " ('must', 'somehow', 'RB'),\n",
       " ('must', 'be', 'BE'),\n",
       " ('must', 'not', '*'),\n",
       " ('must', 'not', '*'),\n",
       " ('must', 'be', 'BE'),\n",
       " ('must', 'be', 'BE'),\n",
       " ('must', 'become', 'VB'),\n",
       " ('must', 'be', 'BE'),\n",
       " ('must', 'be', 'BE'),\n",
       " ('must', 'number', 'VB'),\n",
       " ('must', 'be', 'BE'),\n",
       " ('must', 'strive', 'VB'),\n",
       " ('must', 'be', 'BE'),\n",
       " ('must', 'be', 'BE'),\n",
       " ('must', 'be', 'BE'),\n",
       " ('must', 'also', 'RB'),\n",
       " ('must', 'recognize', 'VB'),\n",
       " ('must', 'now', 'RB'),\n",
       " ('must', 'have', 'HV'),\n",
       " ('must', 'speak', 'VB'),\n",
       " ('must', 'belong', 'VB'),\n",
       " ('must', 'keep', 'VB'),\n",
       " ('must', 'not', '*'),\n",
       " ('must', 'be', 'BE'),\n",
       " ('must', 'be', 'BE'),\n",
       " ('must', 'have', 'HV'),\n",
       " ('must', 'learn', 'VB'),\n",
       " ('must', 'have', 'HV'),\n",
       " ('must', 'indeed', 'RB'),\n",
       " ('must', 'have', 'HV'),\n",
       " ('must', 'inevitably', 'RB'),\n",
       " ('must', 'follow', 'VB'),\n",
       " ('must', 'have', 'HV'),\n",
       " ('must', 'be', 'BE'),\n",
       " ('must', 'be', 'BE'),\n",
       " ('must', 'find', 'VB'),\n",
       " ('must', 'be', 'BE'),\n",
       " ('must', 'rule', 'VB'),\n",
       " ('must', 'learn', 'VB'),\n",
       " ('must', 'claim', 'VB'),\n",
       " ('must', 'the', 'AT'),\n",
       " ('must', 'be', 'BE'),\n",
       " ('must', 'not', '*'),\n",
       " ('must', ',', ','),\n",
       " ('must', 'be', 'BE'),\n",
       " ('must', 'be', 'BE'),\n",
       " ('must', 'do', 'DO'),\n",
       " ('must', 'be', 'BE'),\n",
       " ('must', 'surely', 'RB'),\n",
       " ('must', 'be', 'BE'),\n",
       " ('must', 'also', 'RB'),\n",
       " ('must', 'serve', 'VB'),\n",
       " ('must', 'give', 'VB'),\n",
       " ('must', 'be', 'BE'),\n",
       " ('must', 'be', 'BE'),\n",
       " ('must', 'be', 'BE'),\n",
       " ('must', 'have', 'HV'),\n",
       " ('must', '.', '.'),\n",
       " ('must', 'use', 'VB'),\n",
       " ('must', 'take', 'VB'),\n",
       " ('must', 'determine', 'VB'),\n",
       " ('must', 'make', 'VB'),\n",
       " ('must', 'be', 'BE'),\n",
       " ('must', 'first', 'RB'),\n",
       " ('must', 'have', 'HV'),\n",
       " ('must', 'have', 'HV'),\n",
       " ('must', 'be', 'BE'),\n",
       " ('must', 'be', 'BE'),\n",
       " ('must', 'be', 'BE'),\n",
       " ('Must', 'records', 'NNS'),\n",
       " ('must', 'dominate', 'VB'),\n",
       " ('must', 'win', 'VB'),\n",
       " ('must', 'and', 'CC'),\n",
       " ('must', 'apply', 'VB'),\n",
       " ('must', 'be', 'BE'),\n",
       " ('must', 'be', 'BE'),\n",
       " ('must', 'be', 'BE'),\n",
       " ('must', 'be', 'BE'),\n",
       " ('must', 'necessarily', 'RB'),\n",
       " ('must', 'be', 'BE'),\n",
       " ('must', 'be', 'BE'),\n",
       " ('must', 'be', 'BE'),\n",
       " ('must', 'be', 'BE'),\n",
       " ('must', 'be', 'BE'),\n",
       " ('must', 'be', 'BE'),\n",
       " ('must', 'be', 'BE'),\n",
       " ('must', 'be', 'BE'),\n",
       " ('must', 'be', 'BE'),\n",
       " ('must', 'have', 'HV'),\n",
       " ('must', 'have', 'HV'),\n",
       " ('must', \"''\", \"''\"),\n",
       " ('must', 'be', 'BE'),\n",
       " ('must', 'present', 'VB'),\n",
       " ('must', 'file', 'VB'),\n",
       " ('must', 'have', 'HV'),\n",
       " ('must', 'be', 'BE'),\n",
       " ('must', 'have', 'HV'),\n",
       " ('must', 'be', 'BE'),\n",
       " ('must', 'be', 'BE'),\n",
       " ('must', 'know', 'VB'),\n",
       " ('must', 'have', 'HV'),\n",
       " ('must', 'be', 'BE'),\n",
       " ('must', 'be', 'BE'),\n",
       " ('must', 'not', '*'),\n",
       " ('must', 'be', 'BE'),\n",
       " ('must', 'study', 'VB'),\n",
       " ('must', 'develop', 'VB'),\n",
       " ('must', 'come', 'VB'),\n",
       " ('must', 'do', 'DO'),\n",
       " ('must', 'be', 'BE'),\n",
       " ('must', 'be', 'BE'),\n",
       " ('must', 'be', 'BE'),\n",
       " ('must', 'revel', 'VB'),\n",
       " ('must', 'be', 'BE'),\n",
       " ('must', 'be', 'BE'),\n",
       " ('must', 'be', 'BE'),\n",
       " ('must', 'be', 'BE'),\n",
       " ('must', 'be', 'BE'),\n",
       " ('must', 'first', 'RB'),\n",
       " ('must', 'understand', 'VB'),\n",
       " ('must', 'be', 'BE'),\n",
       " ('must', 'be', 'BE'),\n",
       " ('must', 'be', 'BE'),\n",
       " ('must', 'have', 'HV'),\n",
       " ('must', 'also', 'RB'),\n",
       " ('must', 'build', 'VB'),\n",
       " ('must', 'be', 'BE'),\n",
       " ('must', 'have', 'HV'),\n",
       " ('must', 'have', 'HV'),\n",
       " ('must', ',', ','),\n",
       " ('must', ',', ','),\n",
       " ('must', 'be', 'BE'),\n",
       " ('must', 'select', 'VB'),\n",
       " ('must', 'learn', 'VB'),\n",
       " ('must', 'be', 'BE'),\n",
       " ('must', 'undertake', 'VB'),\n",
       " ('must', 'read', 'VB'),\n",
       " ('must', 'be', 'BE'),\n",
       " ('must', 'be', 'BE'),\n",
       " ('must', 'earn', 'VB'),\n",
       " ('must', 'have', 'HV'),\n",
       " ('must', 'know', 'VB'),\n",
       " ('must', 'always', 'RB'),\n",
       " ('must', 'know', 'VB'),\n",
       " ('must', 'seem', 'VB'),\n",
       " ('must', 'travel', 'VB'),\n",
       " ('must', 'be', 'BE'),\n",
       " ('must', 'be', 'BE'),\n",
       " ('must', 'have', 'HV'),\n",
       " ('must', 'take', 'VB'),\n",
       " ('must', 'balance', 'VB'),\n",
       " ('must', 'get', 'VB'),\n",
       " ('must', 'realize', 'VB'),\n",
       " ('must', 'be', 'BE'),\n",
       " ('must', 'dilate', 'VB'),\n",
       " ('must', 'also', 'RB'),\n",
       " ('must', 'lie', 'VB'),\n",
       " ('must', 'take', 'VB'),\n",
       " ('must', 'begin', 'VB'),\n",
       " ('must', 'become', 'VB'),\n",
       " ('must', 'have', 'HV'),\n",
       " ('must', 'necessarily', 'RB'),\n",
       " ('must', 'be', 'BE'),\n",
       " ('must', 'first', 'RB'),\n",
       " ('must', 'spend', 'VB'),\n",
       " ('must', 'be', 'BE'),\n",
       " ('must', 'decide', 'VB'),\n",
       " ('must', 'mark', 'VB'),\n",
       " ('must', 'be', 'BE'),\n",
       " ('must', 'be', 'BE'),\n",
       " ('must', 'get', 'VB'),\n",
       " ('must', 'work', 'VB'),\n",
       " ('must', 'be', 'BE'),\n",
       " ('must', 'pay', 'VB'),\n",
       " ('must', 'be', 'BE'),\n",
       " ('must', 'be', 'BE'),\n",
       " ('must', 'keep', 'VB'),\n",
       " ('must', 'be', 'BE'),\n",
       " ('must', 'be', 'BE'),\n",
       " ('must', 'always', 'RB'),\n",
       " ('must', 'have', 'HV'),\n",
       " ('must', 'have', 'HV'),\n",
       " ('must', 'depend', 'VB'),\n",
       " ('must', 'forgive', 'VB'),\n",
       " ('must', 'be', 'BE'),\n",
       " ('must', 'have', 'HV'),\n",
       " ('must', 'never', 'RB'),\n",
       " ('must', 'realize', 'VB'),\n",
       " ('must', 'be', 'BE'),\n",
       " ('must', 'be', 'BE'),\n",
       " ('must', 'defer', 'VB'),\n",
       " ('must', 'choose', 'VB'),\n",
       " ('must', 'fight', 'VB'),\n",
       " ('must', 'be', 'BE'),\n",
       " ('must', 'be', 'BE'),\n",
       " ('must', 'always', 'RB'),\n",
       " ('must', 'remember', 'VB'),\n",
       " ('must', 'be', 'BE-HL'),\n",
       " ('must', 'be', 'BE'),\n",
       " ('must', 'be', 'BE'),\n",
       " ('must', 'be', 'BE'),\n",
       " ('must', ',', ','),\n",
       " ('must', 'have', 'HV'),\n",
       " ('must', 'deal', 'VB'),\n",
       " ('must', 'be', 'BE'),\n",
       " ('must', 'attend', 'VB'),\n",
       " ('must', 'go', 'VB'),\n",
       " ('must', 'have', 'HV'),\n",
       " ('must', 'have', 'HV'),\n",
       " ('must', 'be', 'BE'),\n",
       " ('must', 'go', 'VB'),\n",
       " ('must', 'admit', 'VB'),\n",
       " ('must', 'start', 'VB'),\n",
       " ('must', 'be', 'BE'),\n",
       " ('must', 'be', 'BE'),\n",
       " ('must', 'meet', 'VB'),\n",
       " ('must', 'become', 'VB'),\n",
       " ('must', 'be', 'BE'),\n",
       " ('must', 'first', 'RB'),\n",
       " ('must', 'needs', 'VBZ'),\n",
       " ('must', 'emphasize', 'VB'),\n",
       " ('must', 'be', 'BE'),\n",
       " ('must', 'seep', 'VB'),\n",
       " ('must', 'conform', 'VB'),\n",
       " ('must', 'follow', 'VB'),\n",
       " ('must', 'be', 'BE'),\n",
       " ('must', 'serve', 'VB'),\n",
       " ('must', 'be', 'BE'),\n",
       " ('must', 'bring', 'VB'),\n",
       " ('must', 'be', 'BE'),\n",
       " ('must', 'constantly', 'RB'),\n",
       " ('must', 'be', 'BE'),\n",
       " ('must', 'certainly', 'RB'),\n",
       " ('must', 'first', 'RB'),\n",
       " ('must', 'also', 'RB'),\n",
       " ('must', 'surely', 'RB'),\n",
       " ('must', 'be', 'BE'),\n",
       " ('must', 'still', 'RB'),\n",
       " ('must', 'take', 'VB'),\n",
       " ('must', 'become', 'VB'),\n",
       " ('must', 'be', 'BE'),\n",
       " ('must', 'match', 'VB'),\n",
       " ('must', 'compare', 'VB'),\n",
       " ('must', 'run', 'VB'),\n",
       " ('must', 'deny', 'VB'),\n",
       " ('must', 'have', 'HV'),\n",
       " ('must', 'have', 'HV'),\n",
       " ('must', 'discover', 'VB'),\n",
       " ('must', 'grapple', 'VB'),\n",
       " ('must', 'perform', 'VB'),\n",
       " ('must', 'readjust', 'VB'),\n",
       " ('must', 'immediately', 'RB'),\n",
       " ('must', 'be', 'BE'),\n",
       " ('must', 'select', 'VB'),\n",
       " ('must', 'reach', 'VB'),\n",
       " ('must', 'follow', 'VB'),\n",
       " ('must', 'come', 'VB'),\n",
       " ('must', 'arbitrate', 'VB'),\n",
       " ('must', 'rearrange', 'VB'),\n",
       " ('must', 'construct', 'VB'),\n",
       " ('must', 'be', 'BE'),\n",
       " ('must', 'fall', 'VB'),\n",
       " ('must', 'let', 'VB'),\n",
       " ('must', 'speak', 'VB'),\n",
       " ('must', 'be', 'BE'),\n",
       " ('must', 'also', 'RB'),\n",
       " ('must', 'justify', 'VB'),\n",
       " ('must', 'move', 'VB'),\n",
       " ('must', 'be', 'BE'),\n",
       " ('must', 'confess', 'VB'),\n",
       " ('must', 'stagger', 'VB'),\n",
       " ('must', 'be', 'BE'),\n",
       " ('must', 'have', 'HV'),\n",
       " ('must', 'be', 'BE'),\n",
       " ('must', 'always', 'RB'),\n",
       " ('must', 'save', 'VB'),\n",
       " ('must', 'now', 'RB'),\n",
       " ('must', ',', ','),\n",
       " ('must', 'abandon', 'VB'),\n",
       " ('must', 'be', 'BE'),\n",
       " ('must', 'be', 'BE'),\n",
       " ('must', 'be', 'BE'),\n",
       " ('must', 'believe', 'VB'),\n",
       " ('must', 'employ', 'VB'),\n",
       " ('must', 'first', 'RB'),\n",
       " ('must', 'develop', 'VB'),\n",
       " ('must', 'become', 'VB'),\n",
       " ('must', 'be', 'BE'),\n",
       " ('must', 'establish', 'VB'),\n",
       " ('must', 'be', 'BE'),\n",
       " ('must', 'be', 'BE'),\n",
       " ('must', 'be', 'BE'),\n",
       " ('must', 'have', 'HV'),\n",
       " ('must', 'turn', 'VB'),\n",
       " ('must', 'not', '*'),\n",
       " ('must', 'be', 'BE'),\n",
       " ('must', ',', ','),\n",
       " ('must', 'be', 'BE'),\n",
       " ('must', 'be', 'BE'),\n",
       " ('must', 'have', 'HV'),\n",
       " ('must', 'have', 'HV'),\n",
       " ('must', 'grow', 'VB'),\n",
       " ('must', 'make', 'VB'),\n",
       " ('must', ',', ','),\n",
       " ('must', 'say', 'VB'),\n",
       " ('must', 'be', 'BE'),\n",
       " ('must', 'stand', 'VB'),\n",
       " ('must', 'be', 'BE'),\n",
       " ('must', 'tell', 'VB'),\n",
       " ('must', 'make', 'VB'),\n",
       " ('must', 'watch', 'VB'),\n",
       " ('must', 'devote', 'VB'),\n",
       " ('must', 'not', '*'),\n",
       " ('must', 'have', 'HV'),\n",
       " ('must', 'extend', 'VB'),\n",
       " ('must', 'meet', 'VB'),\n",
       " ('must', 'induce', 'VB'),\n",
       " ('must', 'co-operate', 'VB'),\n",
       " ('must', 'squarely', 'RB'),\n",
       " ('must', 'act', 'VB'),\n",
       " ('must', 'maintain', 'VB'),\n",
       " ('must', 'be', 'BE'),\n",
       " ('must', 'have', 'HV'),\n",
       " ('must', 'frequently', 'RB'),\n",
       " ('must', 'have', 'HV'),\n",
       " ('must', 'be', 'BE'),\n",
       " ('must', 'be', 'BE'),\n",
       " ('Must', 'Have', 'HV-TL'),\n",
       " ('must', 'always', 'RB'),\n",
       " ('must', 'be', 'BE'),\n",
       " ('must', 'make', 'VB'),\n",
       " ('must', 'decide', 'VB'),\n",
       " ('must', 'stand', 'VB'),\n",
       " ('must', 'think', 'VB'),\n",
       " ('must', 'sever', 'VB'),\n",
       " ('must', 'admit', 'VB'),\n",
       " ('must', 'center', 'VB'),\n",
       " ('must', 'seek', 'VB'),\n",
       " ('must', 'remember', 'VB'),\n",
       " ('must', 'be', 'BE'),\n",
       " ('must', 'avoid', 'VB'),\n",
       " ('must', 'hurry', 'VB'),\n",
       " ('must', 'be', 'BE'),\n",
       " ('must', 'then', 'RB'),\n",
       " ('must', 'be', 'BE'),\n",
       " ('must', 'go', 'VB'),\n",
       " ('must', 'have', 'HV'),\n",
       " ('must', 'have', 'HV'),\n",
       " ('must', 'go', 'VB'),\n",
       " ('must', 'have', 'HV'),\n",
       " ('must', 'have', 'HV'),\n",
       " ('must', 'be', 'BE'),\n",
       " ('must', 'not', '*'),\n",
       " ('must', 'have', 'HV'),\n",
       " ('must', 'have', 'HV'),\n",
       " ('must', 'have', 'HV'),\n",
       " ('must', 'take', 'VB'),\n",
       " ('must', 'naturally', 'RB'),\n",
       " ('must', 'not', '*'),\n",
       " ('must', 'examine', 'VB'),\n",
       " ('must', 'stand', 'VB'),\n",
       " ('must', 'create', 'VB'),\n",
       " ('must', 'have', 'HV'),\n",
       " ('must', 'have', 'HV'),\n",
       " ('must', 'never', 'RB'),\n",
       " ('must', 'be', 'BE'),\n",
       " ('must', ',', ','),\n",
       " ('must', 'prove', 'VB'),\n",
       " ('must', 'construe', 'VB'),\n",
       " ('must', 'find', 'VB'),\n",
       " ('must', 'often', 'RB'),\n",
       " ('must', 'be', 'BE'),\n",
       " ('must', 'consider', 'VB'),\n",
       " ('must', 'never', 'RB'),\n",
       " ('must', 'be', 'BE'),\n",
       " ('must', 'always', 'RB'),\n",
       " ('must', 'be', 'BE'),\n",
       " ('must', 'be', 'BE'),\n",
       " ('must', 'be', 'BE'),\n",
       " ('must', ',', ','),\n",
       " ('must', 'regard', 'VB'),\n",
       " ('must', 'recognize', 'VB'),\n",
       " ('must', 'not', '*'),\n",
       " ('must', 'have', 'HV'),\n",
       " ('must', 'be', 'BE'),\n",
       " ('must', ',', ','),\n",
       " ('must', 'expect', 'VB'),\n",
       " ('must', 'have', 'HV'),\n",
       " ('must', 'add', 'VB'),\n",
       " ('must', 'set', 'VB'),\n",
       " ('must', 'constantly', 'RB'),\n",
       " ('must', 'act', 'VB'),\n",
       " ('must', 'attend', 'VB'),\n",
       " ('must', 'be', 'BE'),\n",
       " ('must', 'carry', 'VB'),\n",
       " ('must', 'be', 'BE'),\n",
       " ('must', 'develop', 'VB'),\n",
       " ('must', 'also', 'RB'),\n",
       " ('must', 'be', 'BE'),\n",
       " ('must', 'lead', 'VB'),\n",
       " ('must', 'develop', 'VB'),\n",
       " ('must', 'battle', 'VB'),\n",
       " ('must', 'rely', 'VB'),\n",
       " ('must', 'have', 'HV'),\n",
       " ('must', 'often', 'RB'),\n",
       " ('must', 'become', 'VB'),\n",
       " ('must', \"''\", \"''\"),\n",
       " ('must', 'be', 'BE'),\n",
       " ('must', 'be', 'BE'),\n",
       " ('must', 'meet', 'VB'),\n",
       " ('must', 'have', 'HV'),\n",
       " ('must', 'be', 'BE'),\n",
       " ('must', 'indicate', 'VB'),\n",
       " ('must', 'be', 'BE'),\n",
       " ('must', 'meet', 'VB'),\n",
       " ('must', 'express', 'VB'),\n",
       " ('must', 'use', 'VB-HL'),\n",
       " ('must', 'be', 'BE'),\n",
       " ('must', 'come', 'VB'),\n",
       " ('must', 'be', 'BE'),\n",
       " ('must', 'be', 'BE'),\n",
       " ('must', 'be', 'BE'),\n",
       " ('must', 'ourselves', 'PPLS'),\n",
       " ('must', 'encourage', 'VB'),\n",
       " ('must', 'be', 'BE'),\n",
       " ('must', 'be', 'BE'),\n",
       " ('must', 'be', 'BE'),\n",
       " ('must', 'be', 'NIL'),\n",
       " ('must', 'plan', 'VB'),\n",
       " ('must', 'be', 'BE'),\n",
       " ('must', 'be', 'BE'),\n",
       " ('must', 'be', 'BE'),\n",
       " ('must', ',', ','),\n",
       " ('must', 'be', 'BE'),\n",
       " ('must', 'do', 'DO'),\n",
       " ('must', 'rise', 'VB'),\n",
       " ('must', 'necessarily', 'RB'),\n",
       " ('must', 'raise', 'VB'),\n",
       " ('must', 'give', 'VB'),\n",
       " ('must', 'be', 'BE'),\n",
       " ('must', 'be', 'BE'),\n",
       " ('must', 'have', 'HV'),\n",
       " ('must', 'ask', 'VB'),\n",
       " ('must', 'be', 'BE'),\n",
       " ('must', 'be', 'BE'),\n",
       " ('must', 'be', 'BE'),\n",
       " ('must', 'be', 'BE'),\n",
       " ('must', 'be', 'BE'),\n",
       " ('must', 'be', 'BE'),\n",
       " ('must', 'have', 'HV'),\n",
       " ('must', 'be', 'BE'),\n",
       " ('must', 'be', 'BE'),\n",
       " ('must', 'therefore', 'RB'),\n",
       " ('must', 'accommodate', 'VB'),\n",
       " ('must', 'be', 'BE'),\n",
       " ('must', 'think', 'VB'),\n",
       " ('must', 'think', 'VB'),\n",
       " ('must', 'be', 'BE'),\n",
       " ('must', 'act', 'VB'),\n",
       " ('must', 'give', 'VB'),\n",
       " ('must', 'also', 'RB'),\n",
       " ('must', 'think', 'VB'),\n",
       " ('must', 'take', 'VB'),\n",
       " ('must', 'deal', 'VB'),\n",
       " ('must', 'think', 'VB'),\n",
       " ('must', 'be', 'BE'),\n",
       " ('must', 'be', 'BE'),\n",
       " ('must', 'be', 'BE'),\n",
       " ('must', 'be', 'BE'),\n",
       " ('must', 'be', 'BE'),\n",
       " ('must', 'be', 'BE'),\n",
       " ('must', 'conform', 'VB'),\n",
       " ('must', 'take', 'VB'),\n",
       " ('must', 'be', 'BE'),\n",
       " ('must', 'be', 'BE'),\n",
       " ('must', 'be', 'BE'),\n",
       " ('must', 'always', 'RB'),\n",
       " ('must', 'be', 'BE'),\n",
       " ('must', 'be', 'BE'),\n",
       " ('must', 'place', 'VB'),\n",
       " ('must', 'file', 'VB'),\n",
       " ('must', 'include', 'VB'),\n",
       " ('must', 'be', 'BE'),\n",
       " ('must', 'be', 'BE'),\n",
       " ('must', 'attach', 'VB'),\n",
       " ('must', 'be', 'BE'),\n",
       " ('must', 'be', 'BE'),\n",
       " ('must', 'also', 'RB-HL'),\n",
       " ('must', 'file', 'VB'),\n",
       " ('must', 'inevitably', 'RB'),\n",
       " ('must', 'remain', 'VB'),\n",
       " ('must', 'cross', 'VB'),\n",
       " ('must', 'have', 'HV'),\n",
       " ('must', 'compete', 'VB'),\n",
       " ('must', 'concentrate', 'VB'),\n",
       " ('must', 'be', 'BE'),\n",
       " ('must', 'in', 'IN'),\n",
       " ('must', 'attend', 'VB'),\n",
       " ('must', 'have', 'HV'),\n",
       " ('must', 'be', 'BE'),\n",
       " ('must', 'be', 'BE'),\n",
       " ('must', 'involve', 'VB'),\n",
       " ('must', 'also', 'RB'),\n",
       " ('must', 'be', 'BE'),\n",
       " ('must', 'know', 'VB'),\n",
       " ('must', 'therefore', 'RB'),\n",
       " ('must', 'be', 'BE'),\n",
       " ('must', 'consider', 'VB'),\n",
       " ('must', 'be', 'BE'),\n",
       " ('must', 'be', 'BE'),\n",
       " ('must', 'account', 'VB'),\n",
       " ('must', ',', ','),\n",
       " ('must', 'come', 'VB'),\n",
       " ('must', 'be', 'BE'),\n",
       " ('must', 'be', 'BE'),\n",
       " ('must', 'be', 'BE'),\n",
       " ('must', 'be', 'BE'),\n",
       " ('must', 'sputter', 'VB'),\n",
       " ('must', 'be', 'BE'),\n",
       " ('must', 'expect', 'VB'),\n",
       " ('must', 'have', 'HV'),\n",
       " ('must', 'be', 'BE'),\n",
       " ('must', 'be', 'BE'),\n",
       " ('must', 'be', 'BE'),\n",
       " ('must', 'be', 'BE'),\n",
       " ('must', 'include', 'VB'),\n",
       " ('must', 'add', 'VB'),\n",
       " ('must', 'be', 'BE'),\n",
       " ('must', 'be', 'BE'),\n",
       " ('must', 'still', 'RB'),\n",
       " ('must', 'plead', 'VB'),\n",
       " ('must', 'be', 'BE'),\n",
       " ('must', 'have', 'HV'),\n",
       " ('must', 'be', 'BE'),\n",
       " ('must', 'be', 'BE'),\n",
       " ('must', 'exist', 'VB'),\n",
       " ('must', 'examine', 'VB'),\n",
       " ('must', 'have', 'HV'),\n",
       " ('must', 'know', 'VB'),\n",
       " ('must', 'know', 'VB'),\n",
       " ('must', 'be', 'BE'),\n",
       " ('must', 'have', 'HV'),\n",
       " ('must', 'be', 'BE'),\n",
       " ('must', 'result', 'VB'),\n",
       " ('must', 'have', 'HV'),\n",
       " ('must', 'be', 'BE'),\n",
       " ('must', 'be', 'BE-HL'),\n",
       " ('must', 'cross', 'VB'),\n",
       " ('must', 'consist', 'VB'),\n",
       " ('must', 'be', 'BE'),\n",
       " ('must', 'be', 'BE'),\n",
       " ('must', 'be', 'BE'),\n",
       " ('must', 'be', 'BE'),\n",
       " ('must', 'both', 'ABX'),\n",
       " ('must', 'be', 'BE'),\n",
       " ('must', 'be', 'BE'),\n",
       " ('must', 'now', 'RB'),\n",
       " ('must', 'coincide', 'VB'),\n",
       " ('must', 'have', 'HV'),\n",
       " ('must', 'first', 'RB'),\n",
       " ('must', 'be', 'BE'),\n",
       " ('must', 'have', 'HV'),\n",
       " ('must', 'have', 'HV'),\n",
       " ('must', 'be', 'BE'),\n",
       " ('must', 'be', 'BE'),\n",
       " ('must', 'reject', 'VB'),\n",
       " ('must', 'be', 'BE'),\n",
       " ('must', 'be', 'BE'),\n",
       " ('must', 'continue', 'VB'),\n",
       " ('must', 'be', 'BE'),\n",
       " ('must', 'formulate', 'VB'),\n",
       " ('must', 'in', 'IN'),\n",
       " ('must', 'be', 'BE'),\n",
       " ('must', 'be', 'BE'),\n",
       " ('must', 'be', 'BE'),\n",
       " ('must', 'take', 'VB'),\n",
       " ('must', 'become', 'VB'),\n",
       " ('must', 'generate', 'VB'),\n",
       " ('must', 'have', 'HV'),\n",
       " ('must', 'be', 'BE'),\n",
       " ('must', 'be', 'BE'),\n",
       " ('must', 'be', 'BE'),\n",
       " ('must', 'demonstrate', 'VB'),\n",
       " ('must', 'be', 'BE'),\n",
       " ('must', 'communicate', 'VB'),\n",
       " ('must', 'determine', 'VB'),\n",
       " ('must', 'be', 'BE'),\n",
       " ('must', 'be', 'BE'),\n",
       " ('must', 'take', 'VB'),\n",
       " ('must', 'be', 'BE'),\n",
       " ('must', 'be', 'BE'),\n",
       " ('must', 'be', 'BE'),\n",
       " ('must', 'have', 'HV'),\n",
       " ('must', 'be', 'BE'),\n",
       " ('must', 'be', 'BE'),\n",
       " ('must', 'be', 'BE'),\n",
       " ('must', 'define', 'VB'),\n",
       " ('must', 'be', 'BE'),\n",
       " ('must', 'be', 'BE'),\n",
       " ('must', 'be', 'BE'),\n",
       " ('must', 'the', 'AT'),\n",
       " ('must', 'be', 'BE'),\n",
       " ('must', 'support', 'VB'),\n",
       " ('must', 'be', 'BE'),\n",
       " ('must', 'be', 'BE'),\n",
       " ('must', 'be', 'BE'),\n",
       " ('must', 'pay', 'VB'),\n",
       " ('must', 'be', 'BE'),\n",
       " ('must', 'be', 'BE'),\n",
       " ('must', 'pay', 'VB'),\n",
       " ('must', 'be', 'BE'),\n",
       " ('must', 'persist', 'VB'),\n",
       " ('must', 'win', 'VB'),\n",
       " ('must', 'be', 'BE'),\n",
       " ('must', 'formally', 'RB'),\n",
       " ('must', 'do', 'DO'),\n",
       " ('must', 'relate', 'VB'),\n",
       " ('must', 'be', 'BE'),\n",
       " ('must', 'be', 'BE'),\n",
       " ('must', 'be', 'BE'),\n",
       " ('must', 'be', 'BE'),\n",
       " ('must', 'also', 'RB'),\n",
       " ('must', 'be', 'BE'),\n",
       " ('must', 'be', 'BE'),\n",
       " ('must', 'be', 'BE'),\n",
       " ('must', 'also', 'RB'),\n",
       " ('must', 'be', 'BE'),\n",
       " ('must', 'at', 'IN'),\n",
       " ('must', 'therefore', 'RB'),\n",
       " ('must', 'it', 'PPO'),\n",
       " ('Must', 'or', 'CC'),\n",
       " ('must', 'work', 'VB'),\n",
       " ('must', 'be', 'BE'),\n",
       " ('must', 'be', 'BE'),\n",
       " ('must', 'distinguish', 'VB'),\n",
       " ('must', 'somehow', 'RB'),\n",
       " ('must', 'somehow', 'RB'),\n",
       " ('must', 'distinguish', 'VB'),\n",
       " ('must', 'incur', 'VB'),\n",
       " ('must', 'be', 'BE'),\n",
       " ('must', 'have', 'HV'),\n",
       " ('must', 'first', 'RB'),\n",
       " ('must', 'keep', 'VB'),\n",
       " ('must', 'hope', 'VB'),\n",
       " ('must', 'postpone', 'VB'),\n",
       " ('must', 'consider', 'VB'),\n",
       " ('must', 'have', 'HV'),\n",
       " ('must', 'guarantee', 'NN'),\n",
       " ('must', 'be', 'BE'),\n",
       " ('must', 'be', 'BE'),\n",
       " ('must', 'be', 'BE'),\n",
       " ('must', 'move', 'VB'),\n",
       " ('must', 'now', 'RB'),\n",
       " ('must', 'be', 'BE'),\n",
       " ('must', 'be', 'BE'),\n",
       " ('must', 'necessarily', 'RB'),\n",
       " ('must', 'work', 'VB'),\n",
       " ('must', 'be', 'BE'),\n",
       " ('must', 'remain', 'VB'),\n",
       " ('must', 'be', 'BE'),\n",
       " ('must', 'make', 'VB'),\n",
       " ('must', 'suffer', 'VB'),\n",
       " ('must', 'remain', 'VB'),\n",
       " ('must', 'improvise', 'VB'),\n",
       " ('must', 'reasonably', 'RB'),\n",
       " ('must', 'be', 'BE'),\n",
       " ('must', 'therefore', 'RB'),\n",
       " ('must', 'be', 'BE'),\n",
       " ('must', ',', ','),\n",
       " ('must', 'learn', 'VB'),\n",
       " ('must', 'be', 'BE'),\n",
       " ('must', 'begin', 'VB'),\n",
       " ('must', 'be', 'BE'),\n",
       " ('must', 'be', 'BE'),\n",
       " ('must', 'be', 'BE'),\n",
       " ('must', 'be', 'BE'),\n",
       " ('must', 'be', 'BE'),\n",
       " ('must', 'be', 'BE'),\n",
       " ('must', 'be', 'BE'),\n",
       " ('must', 'be', 'BE'),\n",
       " ('must', 'result', 'VB'),\n",
       " ('must', 'be', 'BE'),\n",
       " ('must', 'be', 'BE'),\n",
       " ('must', 'be', 'BE'),\n",
       " ('must', 'be', 'BE'),\n",
       " ('must', 'be', 'BE'),\n",
       " ('must', 'be', 'BE'),\n",
       " ('must', 'be', 'BE'),\n",
       " ('must', 'have', 'HV'),\n",
       " ('must', 'have', 'HV'),\n",
       " ('must', 'be', 'BE'),\n",
       " ('must', 'eventually', 'RB'),\n",
       " ('must', 'come', 'VB'),\n",
       " ('must', 'be', 'BE'),\n",
       " ('must', 'be', 'BE'),\n",
       " ('must', 'accomplish', 'VB'),\n",
       " ('must', 'be', 'BE'),\n",
       " ('must', 'be', 'BE'),\n",
       " ('must', 'determine', 'VB'),\n",
       " ('must', 'be', 'BE'),\n",
       " ('must', 'use', 'VB'),\n",
       " ('must', 'be', 'BE'),\n",
       " ('must', 'constitute', 'VB'),\n",
       " ('must', 'use', 'VB'),\n",
       " ('must', 'wait', 'VB'),\n",
       " ('must', 'be', 'BE'),\n",
       " ('must', 'be', 'BE'),\n",
       " ('must', 'be', 'BE'),\n",
       " ('must', 'continually', 'RB'),\n",
       " ('must', 'be', 'BE'),\n",
       " ('must', 'be', 'BE'),\n",
       " ('must', 'be', 'BE'),\n",
       " ('must', 'have', 'HV'),\n",
       " ('must', 'look', 'VB'),\n",
       " ('must', 'leave', 'VB'),\n",
       " ('must', 'mentally', 'RB'),\n",
       " ('must', 'receive', 'VB'),\n",
       " ('must', 'be', 'BE'),\n",
       " ('must', 'be', 'BE'),\n",
       " ('must', 'have', 'HV'),\n",
       " ('must', 'be', 'BE'),\n",
       " ('must', 'go', 'VB'),\n",
       " ('must', 'go', 'VB'),\n",
       " ('must', 'be', 'BE'),\n",
       " ('must', 'be', 'BE'),\n",
       " ('must', 'follow', 'VB'),\n",
       " ('must', 'pray', 'VB'),\n",
       " ('must', 'not', '*'),\n",
       " ('must', 'be', 'BE'),\n",
       " ('must', 'have', 'HV'),\n",
       " ('must', 'make', 'VB'),\n",
       " ('must', 'now', 'RB'),\n",
       " ('must', 'seem', 'VB'),\n",
       " ('must', 'pretend', 'VB'),\n",
       " ('must', 'state', 'VB'),\n",
       " ('must', 'be', 'BE'),\n",
       " ('must', 'rid', 'VB'),\n",
       " ('must', 'do', 'DO'),\n",
       " ('must', 'remain', 'VB'),\n",
       " ('must', 'once', 'RB'),\n",
       " ('must', 'not', '*'),\n",
       " ('must', 'not', '*'),\n",
       " ('must', 'belong', 'VB'),\n",
       " ('must', 'be', 'BE'),\n",
       " ('must', 'be', 'BE'),\n",
       " ('must', 'hold', 'VB'),\n",
       " ('must', 'take', 'VB'),\n",
       " ('must', 'be', 'BE'),\n",
       " ('must', 'come', 'VB'),\n",
       " ('must', 'have', 'HV'),\n",
       " ('must', 'admit', 'VB'),\n",
       " ('must', 'you', 'PPO'),\n",
       " ('must', 'know', 'VB'),\n",
       " ('must', 'have', 'HV'),\n",
       " ('must', 'feel', 'VB'),\n",
       " ('must', 'she', 'PPS'),\n",
       " ('must', 'be', 'BE'),\n",
       " ('must', 'be', 'BE'),\n",
       " ('must', 'have', 'HV'),\n",
       " ('must', 'take', 'VB'),\n",
       " ('must', 'have', 'HV'),\n",
       " ('must', 'have', 'HV'),\n",
       " ('must', 'take', 'VB'),\n",
       " ('must', 'have', 'HV'),\n",
       " ('must', 'take', 'VB'),\n",
       " ('must', 'think', 'VB'),\n",
       " ('must', 'have', 'HV'),\n",
       " ('must', 'have', 'HV'),\n",
       " ('must', 'have', 'HV'),\n",
       " ('must', 'have', 'HV'),\n",
       " ('must', 'have', 'HV'),\n",
       " ('must', 'be', 'BE'),\n",
       " ('must', 'have', 'HV'),\n",
       " ('must', 'be', 'BE'),\n",
       " ('must', 'be', 'BE'),\n",
       " ('must', 'be', 'BE'),\n",
       " ('must', 'make', 'VB'),\n",
       " ('must', 'be', 'BE'),\n",
       " ('must', 'be', 'BE'),\n",
       " ('must', 'be', 'BE'),\n",
       " ('must', 'be', 'BE'),\n",
       " ('must', 'have', 'HV'),\n",
       " ('must', 'link', 'VB'),\n",
       " ('must', 'have', 'HV'),\n",
       " ('Must', 'have', 'HV'),\n",
       " ('must', 'be', 'BE'),\n",
       " ('must', 'be', 'BE'),\n",
       " ('must', 'have', 'HV'),\n",
       " ('must', 'all', 'ABN'),\n",
       " ('must', 'have', 'HV'),\n",
       " ('must', 'forgive', 'VB'),\n",
       " ('must', 'know', 'VB'),\n",
       " ('must', 'tell', 'VB'),\n",
       " ('must', 'tell', 'VB'),\n",
       " ('must', 'have', 'HV'),\n",
       " ('must', 'know', 'VB'),\n",
       " ('must', 'have', 'HV'),\n",
       " ('must', 'understand', 'VB'),\n",
       " ('must', 'not', '*'),\n",
       " ('must', 'have', 'HV'),\n",
       " ('must', 'have', 'HV'),\n",
       " ('must', 'have', 'HV'),\n",
       " ('must', 'know', 'VB'),\n",
       " ('must', 'have', 'HV'),\n",
       " ('must', 'eventually', 'RB'),\n",
       " ('must', 'be', 'BE'),\n",
       " ('must', 'have', 'HV'),\n",
       " ('must', 'have', 'HV'),\n",
       " ('must', 'express', 'VB'),\n",
       " ('must', 'envy', 'VB'),\n",
       " ('must', 'be', 'BE'),\n",
       " ('must', 'be', 'BE'),\n",
       " ('must', 'be', 'BE'),\n",
       " ('must', 'not', '*'),\n",
       " ('must', 'be', 'BE'),\n",
       " ('must', 'be', 'BE'),\n",
       " ('must', 'still', 'RB'),\n",
       " ('must', 'have', 'HV'),\n",
       " ('must', 'chance', 'VB'),\n",
       " ('must', 'still', 'RB'),\n",
       " ('must', 'be', 'BE'),\n",
       " ('must', 'forgive', 'VB'),\n",
       " ('must', 'say', 'VB'),\n",
       " ('must', 'be', 'BE'),\n",
       " ('must', 'have', 'HV'),\n",
       " ('must', 'have', 'HV'),\n",
       " ('must', 'be', 'BE'),\n",
       " ('must', 'be', 'BE'),\n",
       " ('must', 'have', 'HV'),\n",
       " ('must', 'have', 'HV'),\n",
       " ('must', 'observe', 'VB'),\n",
       " ('must', 'have', 'HV'),\n",
       " ('must', 'have', 'HV'),\n",
       " ('must', 'be', 'BE'),\n",
       " ('must', 'have', 'HV'),\n",
       " ('must', 'have', 'HV'),\n",
       " ('must', 'wait', 'VB'),\n",
       " ('must', 'have', 'HV'),\n",
       " ('must', 'be', 'BE'),\n",
       " ('must', 'have', 'HV'),\n",
       " ('must', 'be', 'BE'),\n",
       " ('must', 'be', 'BE'),\n",
       " ('must', 'stand', 'VB'),\n",
       " ('must', 'be', 'BE'),\n",
       " ('must', 'act', 'VB'),\n",
       " ('must', 'have', 'HV'),\n",
       " ('must', 'not', '*'),\n",
       " ('must', 'talk', 'VB'),\n",
       " ('must', 'stand', 'VB'),\n",
       " ('must', 'have', 'HV'),\n",
       " ('must', 'follow', 'VB'),\n",
       " ('must', 'be', 'BE'),\n",
       " ('must', 'have', 'HV'),\n",
       " ('must', 'have', 'HV'),\n",
       " ('must', 'have', 'HV'),\n",
       " ('must', 'justify', 'VB'),\n",
       " ('must', 'she', 'PPS'),\n",
       " ('must', 'have', 'HV'),\n",
       " ('must', 'flog', 'VB'),\n",
       " ('must', 'tell', 'VB'),\n",
       " ('must', 'have', 'HV'),\n",
       " ('must', 'have', 'HV'),\n",
       " ('must', 'be', 'BE'),\n",
       " ('must', 'be', 'BE'),\n",
       " ('must', 'be', 'BE'),\n",
       " ('must', 'be', 'BE'),\n",
       " ('must', 'have', 'HV'),\n",
       " ('must', 'be', 'BE'),\n",
       " ('must', 'have', 'HV'),\n",
       " ('must', 'have', 'HV'),\n",
       " ('must', 'have', 'HV'),\n",
       " ('must', 'have', 'HV'),\n",
       " ('must', 'have', 'HV'),\n",
       " ('must', 'have', 'HV'),\n",
       " ('must', 'look', 'VB'),\n",
       " ...]"
      ]
     },
     "execution_count": 351,
     "metadata": {},
     "output_type": "execute_result"
    }
   ],
   "source": [
    "[(w1,w2,t2) for ((w1,t1),(w2,t2)) in nltk.bigrams(brown_words) if w1.lower()=='must']"
   ]
  },
  {
   "cell_type": "markdown",
   "metadata": {},
   "source": [
    "Yes, it can be definitely used. The grammatic rules of the contexts unclear"
   ]
  },
  {
   "cell_type": "markdown",
   "metadata": {},
   "source": [
    "#### Exercise 36\n",
    "Create a regular expression tagger and various unigram and n-gram taggers, incorporating backoff, and train them on part of the Brown corpus.<br>\n",
    "* Create three different combinations of the taggers. Test the accuracy of each combined tagger. Which combination works best? <br>\n",
    "* Try varying the size of the training corpus. How does it affect your results?"
   ]
  },
  {
   "cell_type": "code",
   "execution_count": 362,
   "metadata": {},
   "outputs": [],
   "source": [
    "regexp_tagger = nltk.RegexpTagger(\n",
    "      [(r'^-?[0-9]+(.[0-9]+)?$', 'CD'),   # cardinal numbers\n",
    "         (r'(The|the|A|a|An|an)$', 'AT'),   # articles\n",
    "        (r'.*able$', 'JJ'),                # adjectives\n",
    "        (r'.*ness$', 'NN'),                # nouns formed from adjectives\n",
    "         (r'.*ly$', 'RB'),                  # adverbs\n",
    "         (r'.*s$', 'NNS'),                  # plural nouns\n",
    "         (r'.*ing$', 'VBG'),                # gerunds\n",
    "         (r'.*ed$', 'VBD'),                 # past tense verbs\n",
    "         (r'.*(him|her|his|he|she|it|they|them).*','PP'),\n",
    "         (r'.*', 'NN')                      # nouns (default)\n",
    "     ])"
   ]
  },
  {
   "cell_type": "code",
   "execution_count": 372,
   "metadata": {},
   "outputs": [
    {
     "data": {
      "text/plain": [
       "0.30461261980830673"
      ]
     },
     "execution_count": 372,
     "metadata": {},
     "output_type": "execute_result"
    }
   ],
   "source": [
    "regexp_tagger.evaluate(test_set)"
   ]
  },
  {
   "cell_type": "code",
   "execution_count": 373,
   "metadata": {},
   "outputs": [
    {
     "data": {
      "text/plain": [
       "0.8121006389776357"
      ]
     },
     "execution_count": 373,
     "metadata": {},
     "output_type": "execute_result"
    }
   ],
   "source": [
    "t0=nltk.UnigramTagger(train_set)\n",
    "t0.evaluate(test_set)"
   ]
  },
  {
   "cell_type": "code",
   "execution_count": 374,
   "metadata": {},
   "outputs": [
    {
     "data": {
      "text/plain": [
       "0.863917731629393"
      ]
     },
     "execution_count": 374,
     "metadata": {},
     "output_type": "execute_result"
    }
   ],
   "source": [
    "t0=nltk.UnigramTagger(train_set,backoff=regexp_tagger)\n",
    "t0.evaluate(test_set)"
   ]
  },
  {
   "cell_type": "code",
   "execution_count": 375,
   "metadata": {},
   "outputs": [
    {
     "data": {
      "text/plain": [
       "0.8737020766773163"
      ]
     },
     "execution_count": 375,
     "metadata": {},
     "output_type": "execute_result"
    }
   ],
   "source": [
    "t1=nltk.BigramTagger(train_set,backoff=t0)\n",
    "t1.evaluate(test_set)"
   ]
  },
  {
   "cell_type": "code",
   "execution_count": 369,
   "metadata": {},
   "outputs": [
    {
     "data": {
      "text/plain": [
       "0.8712060702875399"
      ]
     },
     "execution_count": 369,
     "metadata": {},
     "output_type": "execute_result"
    }
   ],
   "source": [
    "t2=nltk.NgramTagger(3,train_set,backoff=t1)\n",
    "t2.evaluate(test_set)"
   ]
  },
  {
   "cell_type": "code",
   "execution_count": 370,
   "metadata": {},
   "outputs": [
    {
     "data": {
      "text/plain": [
       "0.7840455271565495"
      ]
     },
     "execution_count": 370,
     "metadata": {},
     "output_type": "execute_result"
    }
   ],
   "source": [
    "t3=nltk.BigramTagger(train_set,backoff=regexp_tagger)\n",
    "t3.evaluate(test_set)"
   ]
  },
  {
   "cell_type": "markdown",
   "metadata": {},
   "source": [
    "Bigram tagger with unigram and regular expression tagger works better"
   ]
  },
  {
   "cell_type": "code",
   "execution_count": 376,
   "metadata": {},
   "outputs": [
    {
     "data": {
      "text/plain": [
       "[<matplotlib.lines.Line2D at 0x1a54421710>]"
      ]
     },
     "execution_count": 376,
     "metadata": {},
     "output_type": "execute_result"
    },
    {
     "data": {
      "image/png": "[encoded data removed]",
      "text/plain": [
       "<Figure size 432x288 with 1 Axes>"
      ]
     },
     "metadata": {
      "needs_background": "light"
     },
     "output_type": "display_data"
    }
   ],
   "source": [
    "perfs=[]\n",
    "start=0.1;\n",
    "stop=0.9;\n",
    "step=0.1\n",
    "n=start;\n",
    "while n<=stop:\n",
    "    train_set=brown_sents[:round(n*len(brown_sents))]\n",
    "    test_set=brown_sents[round(n*len(brown_sents)):]\n",
    "    t1=nltk.BigramTagger(train_set,backoff=t0);\n",
    "    perfs.append(t1.evaluate(test_set));\n",
    "    n+=step;\n",
    "plt.plot([0.1,0.2,0.3,0.4,0.5,0.6,0.7,0.8,0.9],perfs,'-bo')"
   ]
  },
  {
   "cell_type": "markdown",
   "metadata": {},
   "source": [
    "Lesser the training data, lesser the accuracy. The optimal size of the training data in this case is 80%"
   ]
  },
  {
   "cell_type": "markdown",
   "metadata": {},
   "source": [
    "#### Exercise 37\n",
    "Our approach for tagging an unknown word has been to consider the letters of the word (using RegexpTagger()), or to ignore the word altogether and tag it as a noun (using nltk.DefaultTagger()). These methods will not do well for texts having new words that are not nouns. Consider the sentence I like to blog on Kim's blog. If blog is a new word, then looking at the previous tag (TO versus NP$) would probably be helpful. I.e. we need a default tagger that is sensitive to the preceding tag.<br>\n",
    "* Create a new kind of unigram tagger that looks at the tag of the previous word, and ignores the current word. (The best way to do this is to modify the source code for UnigramTagger(), which presumes knowledge of object-oriented programming in Python.)<br>\n",
    "* Add this tagger to the sequence of backoff taggers (including ordinary trigram and bigram taggers that look at words), right before the usual default tagger.<br>\n",
    "* Evaluate the contribution of this new unigram tagger."
   ]
  },
  {
   "cell_type": "code",
   "execution_count": null,
   "metadata": {},
   "outputs": [],
   "source": [
    "# Don't know the complete grammatic rules to implement"
   ]
  },
  {
   "cell_type": "markdown",
   "metadata": {},
   "source": [
    "#### Exercise 38\n",
    "Consider the code in 5 which determines the upper bound for accuracy of a trigram tagger. Review Abney's discussion concerning the impossibility of exact tagging (Church, Young, & Bloothooft, 1996). Explain why correct tagging of these examples requires access to other kinds of information than just words and tags. How might you estimate the scale of this problem?"
   ]
  },
  {
   "cell_type": "markdown",
   "metadata": {},
   "source": [
    "It is because grammar leaks. It is impossible to exactly identify the tag of a word as it may have different pos in a completely different context far behind it in the text. It also depends on the overall genre of the text"
   ]
  },
  {
   "cell_type": "markdown",
   "metadata": {},
   "source": [
    "#### Exercise 39\n",
    "Use some of the estimation techniques in nltk.probability, such as Lidstone or Laplace estimation, to develop a statistical tagger that does a better job than n-gram backoff taggers in cases where contexts encountered during testing were not seen during training."
   ]
  },
  {
   "cell_type": "code",
   "execution_count": null,
   "metadata": {},
   "outputs": [],
   "source": []
  },
  {
   "cell_type": "markdown",
   "metadata": {},
   "source": [
    "#### Exercise 40\n",
    "Inspect the diagnostic files created by the Brill tagger rules.out and errors.out. Obtain the demonstration code by accessing the source code (at http://www.nltk.org/code) and create your own version of the Brill tagger. Delete some of the rule templates, based on what you learned from inspecting rules.out. Add some new rule templates which employ contexts that might help to correct the errors you saw in errors.out."
   ]
  },
  {
   "cell_type": "code",
   "execution_count": null,
   "metadata": {},
   "outputs": [],
   "source": [
    "# to do"
   ]
  },
  {
   "cell_type": "markdown",
   "metadata": {},
   "source": [
    "#### Exercise 41\n",
    "Develop an n-gram backoff tagger that permits \"anti-n-grams\" such as [\"the\", \"the\"] to be specified when a tagger is initialized. An anti-ngram is assigned a count of zero and is used to prevent backoff for this n-gram (e.g. to avoid estimating P(the | the) as just P(the))."
   ]
  },
  {
   "cell_type": "code",
   "execution_count": null,
   "metadata": {},
   "outputs": [],
   "source": [
    "# to do"
   ]
  },
  {
   "cell_type": "markdown",
   "metadata": {},
   "source": [
    "#### Exercise 42\n",
    "Investigate three different ways to define the split between training and testing data when developing a tagger using the Brown Corpus: genre (category), source (fileid), and sentence. Compare their relative performance and discuss which method is the most legitimate. (You might use n-fold cross validation, discussed in 3, to improve the accuracy of the evaluations.)"
   ]
  },
  {
   "cell_type": "code",
   "execution_count": null,
   "metadata": {},
   "outputs": [],
   "source": []
  },
  {
   "cell_type": "markdown",
   "metadata": {},
   "source": [
    "#### Exercise 43\n",
    "Develop your own NgramTagger class that inherits from NLTK's class, and which encapsulates the method of collapsing the vocabulary of the tagged training and testing data that was described in this chapter. Make sure that the unigram and default backoff taggers have access to the full vocabulary."
   ]
  },
  {
   "cell_type": "code",
   "execution_count": null,
   "metadata": {},
   "outputs": [],
   "source": [
    "# to do "
   ]
  }
 ],
 "metadata": {
  "kernelspec": {
   "display_name": "Python 3",
   "language": "python",
   "name": "python3"
  },
  "language_info": {
   "codemirror_mode": {
    "name": "ipython",
    "version": 3
   },
   "file_extension": ".py",
   "mimetype": "text/x-python",
   "name": "python",
   "nbconvert_exporter": "python",
   "pygments_lexer": "ipython3",
   "version": "3.7.2"
  }
 },
 "nbformat": 4,
 "nbformat_minor": 2
}
