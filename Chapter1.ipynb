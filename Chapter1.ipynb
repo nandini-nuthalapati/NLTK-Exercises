{
 "cells": [
  {
   "cell_type": "markdown",
   "metadata": {},
   "source": [
    "1. Try using the Python interpreter as a calculator, and typing expressions like 12 / (4 + 1)."
   ]
  },
  {
   "cell_type": "code",
   "execution_count": 35,
   "metadata": {},
   "outputs": [
    {
     "data": {
      "text/plain": [
       "2.4"
      ]
     },
     "execution_count": 35,
     "metadata": {},
     "output_type": "execute_result"
    }
   ],
   "source": [
    "12/(4+1)"
   ]
  },
  {
   "cell_type": "markdown",
   "metadata": {},
   "source": [
    "2. Given an alphabet of 26 letters, there are 26 to the power 10, or 26 ** 10, ten-letter strings we can form. That works out to 141167095653376. How many hundred-letter strings are possible?"
   ]
  },
  {
   "cell_type": "code",
   "execution_count": 36,
   "metadata": {},
   "outputs": [
    {
     "data": {
      "text/plain": [
       "3142930641582938830174357788501626427282669988762475256374173175398995908420104023465432599069702289330964075081611719197835869803511992549376"
      ]
     },
     "execution_count": 36,
     "metadata": {},
     "output_type": "execute_result"
    }
   ],
   "source": [
    "26**100"
   ]
  },
  {
   "cell_type": "markdown",
   "metadata": {},
   "source": [
    "3. The Python multiplication operation can be applied to lists. What happens when you type ['Monty', 'Python'] * 20, or 3 * sent1?"
   ]
  },
  {
   "cell_type": "markdown",
   "metadata": {},
   "source": [
    "They get concatenated by n times if 'n' is the multiplier (in this case 20 and 3)"
   ]
  },
  {
   "cell_type": "code",
   "execution_count": 37,
   "metadata": {
    "scrolled": true
   },
   "outputs": [
    {
     "name": "stdout",
     "output_type": "stream",
     "text": [
      "['Monty', 'Python', 'Monty', 'Python', 'Monty', 'Python', 'Monty', 'Python', 'Monty', 'Python', 'Monty', 'Python', 'Monty', 'Python', 'Monty', 'Python', 'Monty', 'Python', 'Monty', 'Python', 'Monty', 'Python', 'Monty', 'Python', 'Monty', 'Python', 'Monty', 'Python', 'Monty', 'Python', 'Monty', 'Python', 'Monty', 'Python', 'Monty', 'Python', 'Monty', 'Python', 'Monty', 'Python']\n",
      "['Call', 'me', 'Ishmael', '.', 'Call', 'me', 'Ishmael', '.', 'Call', 'me', 'Ishmael', '.']\n"
     ]
    }
   ],
   "source": [
    "import nltk\n",
    "from nltk.book import *\n",
    "print(['Monty', 'Python'] * 20)\n",
    "print(3*sent1)"
   ]
  },
  {
   "cell_type": "markdown",
   "metadata": {},
   "source": [
    "4. Review 1 on computing with language. How many words are there in text2? How many distinct words are there?"
   ]
  },
  {
   "cell_type": "code",
   "execution_count": 38,
   "metadata": {},
   "outputs": [
    {
     "name": "stdout",
     "output_type": "stream",
     "text": [
      "115838\n",
      "6271\n"
     ]
    }
   ],
   "source": [
    "wordsText2=[w for w in text2 if len(w)>=2 and w.isalpha()]\n",
    "print(len(wordsText2))\n",
    "wordsDistinctText2=set([w.lower() for w in wordsText2])\n",
    "print(len(wordsDistinctText2))"
   ]
  },
  {
   "cell_type": "markdown",
   "metadata": {},
   "source": [
    "5. Compare the lexical diversity scores for humor and romance fiction in 1.1. Which genre is more lexically diverse?"
   ]
  },
  {
   "cell_type": "code",
   "execution_count": 39,
   "metadata": {},
   "outputs": [],
   "source": [
    "from nltk.corpus import brown\n",
    "humor=brown.words(categories='humor')\n",
    "romance=brown.words(categories='romance')"
   ]
  },
  {
   "cell_type": "code",
   "execution_count": 40,
   "metadata": {},
   "outputs": [],
   "source": [
    "def lexical_diversity(text):\n",
    "    return len(set(text))/len(text)"
   ]
  },
  {
   "cell_type": "code",
   "execution_count": 41,
   "metadata": {},
   "outputs": [
    {
     "name": "stdout",
     "output_type": "stream",
     "text": [
      "Humor: 0.23\n",
      "Romance: 0.12\n"
     ]
    }
   ],
   "source": [
    "print(\"Humor: \"+str(round(lexical_diversity(humor),2)))\n",
    "print(\"Romance: \"+str(round(lexical_diversity(romance),2)))"
   ]
  },
  {
   "cell_type": "markdown",
   "metadata": {},
   "source": [
    "Hence 'humor' is more lexically diverse"
   ]
  },
  {
   "cell_type": "markdown",
   "metadata": {},
   "source": [
    "6. Produce a dispersion plot of the four main protagonists in Sense and Sensibility: Elinor, Marianne, Edward, and Willoughby. What can you observe about the different roles played by the males and females in this novel? Can you identify the couples?"
   ]
  },
  {
   "cell_type": "code",
   "execution_count": 42,
   "metadata": {},
   "outputs": [],
   "source": [
    "import matplotlib\n",
    "%matplotlib inline"
   ]
  },
  {
   "cell_type": "code",
   "execution_count": 43,
   "metadata": {},
   "outputs": [
    {
     "data": {
      "image/png": "[encoded data removed]",
      "text/plain": [
       "<Figure size 432x288 with 1 Axes>"
      ]
     },
     "metadata": {
      "needs_background": "light"
     },
     "output_type": "display_data"
    }
   ],
   "source": [
    "text2.dispersion_plot(['Elinor','Marianne','Edward','Willoughby'])"
   ]
  },
  {
   "cell_type": "markdown",
   "metadata": {},
   "source": [
    "Looks like Edward & Marianne and Elinor & Willoughby are together.\n",
    "Looks like a female oriented tale."
   ]
  },
  {
   "cell_type": "markdown",
   "metadata": {},
   "source": [
    "7. Find the collocations in text5."
   ]
  },
  {
   "cell_type": "code",
   "execution_count": 44,
   "metadata": {},
   "outputs": [
    {
     "name": "stdout",
     "output_type": "stream",
     "text": [
      "wanna chat; PART JOIN; MODE #14-19teens; JOIN PART; PART PART;\n",
      "cute.-ass MP3; MP3 player; JOIN JOIN; times .. .; ACTION watches; guys\n",
      "wanna; song lasts; last night; ACTION sits; -...)...- S.M.R.; Lime\n",
      "Player; Player 12%; dont know; lez gurls; long time\n"
     ]
    }
   ],
   "source": [
    "text5.collocations()"
   ]
  },
  {
   "cell_type": "markdown",
   "metadata": {},
   "source": [
    "8. Consider the following Python expression: len(set(text4)). State the purpose of this expression. Describe the two steps involved in performing this computation."
   ]
  },
  {
   "cell_type": "markdown",
   "metadata": {},
   "source": [
    "len(set(text4)) finds the number of distinct types in text4.\n",
    "First step deals with removing duplicates and the second step is counting the distincts."
   ]
  },
  {
   "cell_type": "markdown",
   "metadata": {},
   "source": [
    "9a. Define a string and assign it to a variable, e.g., my_string = 'My String' (but put something more interesting in the string). Print the contents of this variable in two ways, first by simply typing the variable name and pressing enter, then by using the print statement."
   ]
  },
  {
   "cell_type": "code",
   "execution_count": 45,
   "metadata": {},
   "outputs": [
    {
     "data": {
      "text/plain": [
       "'Alexa'"
      ]
     },
     "execution_count": 45,
     "metadata": {},
     "output_type": "execute_result"
    }
   ],
   "source": [
    "my_love='Alexa'\n",
    "my_love"
   ]
  },
  {
   "cell_type": "code",
   "execution_count": 46,
   "metadata": {
    "scrolled": true
   },
   "outputs": [
    {
     "name": "stdout",
     "output_type": "stream",
     "text": [
      "Alexa\n"
     ]
    }
   ],
   "source": [
    "print(my_love)"
   ]
  },
  {
   "cell_type": "markdown",
   "metadata": {},
   "source": [
    "9b. Try adding the string to itself using my_string + my_string, or multiplying it by a number, e.g., my_string * 3. Notice that the strings are joined together without any spaces. How could you fix this?"
   ]
  },
  {
   "cell_type": "code",
   "execution_count": 47,
   "metadata": {},
   "outputs": [
    {
     "data": {
      "text/plain": [
       "'AlexaAlexa'"
      ]
     },
     "execution_count": 47,
     "metadata": {},
     "output_type": "execute_result"
    }
   ],
   "source": [
    "my_love+my_love"
   ]
  },
  {
   "cell_type": "code",
   "execution_count": 48,
   "metadata": {},
   "outputs": [
    {
     "data": {
      "text/plain": [
       "'Alexa Alexa'"
      ]
     },
     "execution_count": 48,
     "metadata": {},
     "output_type": "execute_result"
    }
   ],
   "source": [
    "\" \".join([my_love,my_love])"
   ]
  },
  {
   "cell_type": "markdown",
   "metadata": {},
   "source": [
    "10. Define a variable my_sent to be a list of words, using the syntax my_sent = [\"My\", \"sent\"] (but with your own words, or a favorite saying).<br>\n",
    "    a. Use ' '.join(my_sent) to convert this into a string."
   ]
  },
  {
   "cell_type": "code",
   "execution_count": 49,
   "metadata": {},
   "outputs": [],
   "source": [
    "my_sent = [\"Amazon\", \"Alexa\"]\n",
    "my_sent=' '.join(my_sent)"
   ]
  },
  {
   "cell_type": "markdown",
   "metadata": {},
   "source": [
    "b. Use split() to split the string back into the list form you had to start with."
   ]
  },
  {
   "cell_type": "code",
   "execution_count": 50,
   "metadata": {},
   "outputs": [
    {
     "data": {
      "text/plain": [
       "['Amazon', 'Alexa']"
      ]
     },
     "execution_count": 50,
     "metadata": {},
     "output_type": "execute_result"
    }
   ],
   "source": [
    "my_sent=str.split(my_sent,sep=' ')\n",
    "my_sent"
   ]
  },
  {
   "cell_type": "markdown",
   "metadata": {},
   "source": [
    "11. Define several variables containing lists of words, e.g., phrase1, phrase2, and so on. Join them together in various combinations (using the plus operator) to form whole sentences. What is the relationship between len(phrase1 + phrase2) and len(phrase1) + len(phrase2)?"
   ]
  },
  {
   "cell_type": "code",
   "execution_count": 51,
   "metadata": {},
   "outputs": [
    {
     "name": "stdout",
     "output_type": "stream",
     "text": [
      "4 4\n"
     ]
    }
   ],
   "source": [
    "phrase1=['Hello','World']\n",
    "phrase2=['Hi','there']\n",
    "print(len(phrase1 + phrase2),len(phrase1) + len(phrase2))"
   ]
  },
  {
   "cell_type": "markdown",
   "metadata": {},
   "source": [
    "12. Consider the following two expressions, which have the same value. Which one will typically be more relevant in NLP? Why?<br>\n",
    "    a. \"Monty Python\"[6:12] <br>\n",
    "    b. [\"Monty\", \"Python\"][1]"
   ]
  },
  {
   "cell_type": "markdown",
   "metadata": {},
   "source": [
    "Second one because the text in NLP is a list of words"
   ]
  },
  {
   "cell_type": "markdown",
   "metadata": {},
   "source": [
    "13. We have seen how to represent a sentence as a list of words, where each word is a sequence of characters. What does sent1[2][2] do? Why? Experiment with other index values."
   ]
  },
  {
   "cell_type": "markdown",
   "metadata": {},
   "source": [
    "It gets the third letter of the third word in sent1"
   ]
  },
  {
   "cell_type": "code",
   "execution_count": 52,
   "metadata": {},
   "outputs": [
    {
     "data": {
      "text/plain": [
       "'h'"
      ]
     },
     "execution_count": 52,
     "metadata": {},
     "output_type": "execute_result"
    }
   ],
   "source": [
    "sent1[2][2]"
   ]
  },
  {
   "cell_type": "markdown",
   "metadata": {},
   "source": [
    "14. The first sentence of text3 is provided to you in the variable sent3. The index of 'the' in sent3 is 1, because sent3[1] gives us 'the'. What are the indexes of the two other occurrences of this word in sent3?"
   ]
  },
  {
   "cell_type": "code",
   "execution_count": 53,
   "metadata": {},
   "outputs": [
    {
     "data": {
      "text/plain": [
       "[1, 5, 8]"
      ]
     },
     "execution_count": 53,
     "metadata": {},
     "output_type": "execute_result"
    }
   ],
   "source": [
    "indices=[i for i,x in enumerate(sent3) if x=='the']\n",
    "indices"
   ]
  },
  {
   "cell_type": "markdown",
   "metadata": {},
   "source": [
    "15.  Review the discussion of conditionals in 4. Find all words in the Chat Corpus (text5) starting with the letter b. Show them in alphabetical order."
   ]
  },
  {
   "cell_type": "code",
   "execution_count": 54,
   "metadata": {},
   "outputs": [
    {
     "name": "stdout",
     "output_type": "stream",
     "text": [
      "['babay', 'babble', 'babblein', 'babe', 'babes', 'babi', 'babies', 'babiess', 'baby', 'babycakeses', 'bachelorette', 'back', 'backatchya', 'backfrontsidewaysandallaroundtheworld', 'backroom', 'backup', 'bacl', 'bad', 'bag', 'bagel', 'bagels', 'bahahahaa', 'bak', 'baked', 'balad', 'balance', 'balck', 'ball', 'ballin', 'balls', 'ban', 'band', 'bandito', 'bandsaw', 'banjoes', 'banned', 'baord', 'bar', 'barbie', 'bare', 'barely', 'bares', 'barfights', 'barks', 'barn', 'barrel', 'base', 'bases', 'basically', 'basket', 'battery', 'bay', 'bbbbbyyyyyyyeeeeeeeee', 'bbiam', 'bbl', 'bbs', 'bc', 'be', 'beach', 'beachhhh', 'beam', 'beams', 'beanbag', 'beans', 'bear', 'bears', 'beat', 'beaten', 'beatles', 'beats', 'beattles', 'beautiful', 'because', 'beckley', 'become', 'bed', 'bedford', 'bedroom', 'beeeeehave', 'beeehave', 'been', 'beer', 'before', 'beg', 'begin', 'behave', 'behind', 'bein', 'being', 'beleive', 'believe', 'belive', 'bell', 'belly', 'belong', 'belongings', 'ben', 'bend', 'benz', 'bes', 'beside', 'besides', 'best', 'bet', 'betrayal', 'betta', 'better', 'between', 'beuty', 'bf', 'bi', 'biatch', 'bible', 'biebsa', 'bied', 'big', 'bigest', 'biggest', 'biiiatch', 'bike', 'bikes', 'bikini', 'bio', 'bird', 'birfday', 'birthday', 'bisexual', 'bishes', 'bit', 'bitch', 'bitches', 'bitdh', 'bite', 'bites', 'biyatch', 'biz', 'bj', 'black', 'blade', 'blah', 'blank', 'blankie', 'blazed', 'bleach', 'blech', 'bless', 'blessings', 'blew', 'blind', 'blinks', 'bliss', 'blocking', 'bloe', 'blood', 'blooded', 'bloody', 'blow', 'blowing', 'blowjob', 'blowup', 'blue', 'blueberry', 'bluer', 'blues', 'blunt', 'board', 'bob', 'bodies', 'body', 'boed', 'boght', 'boi', 'boing', 'boinked', 'bois', 'bomb', 'bone', 'boned', 'bones', 'bong', 'boning', 'bonus', 'boo', 'booboo', 'boobs', 'book', 'boom', 'boooooooooooglyyyyyy', 'boost', 'boot', 'bootay', 'booted', 'boots', 'booty', 'border', 'borderline', 'bored', 'boredom', 'boring', 'born', 'bosom', 'boss', 'bossy', 'bot', 'both', 'bother', 'bothering', 'bottle', 'bought', 'bounced', 'bouncer', 'bouncers', 'bound', 'bout', 'bouts', 'bow', 'bowl', 'box', 'boy', 'boyfriend', 'boys', 'bra', 'brad', 'brady', 'brain', 'brakes', 'brass', 'brat', 'brb', 'brbbb', 'bread', 'break', 'breaks', 'breath', 'breathe', 'bred', 'breeding', 'bright', 'brightened', 'bring', 'brings', 'bro', 'broke', 'brooklyn', 'brother', 'brothers', 'brought', 'brown', 'brrrrrrr', 'bruises', 'brunswick', 'brwn', 'btw', 'bucks', 'buddyyyyyy', 'buff', 'buffalo', 'bug', 'bugs', 'buh', 'build', 'builds', 'built', 'bull', 'bulls', 'bum', 'bumber', 'bummer', 'bumped', 'bumper', 'bunch', 'bunny', 'burger', 'burito', 'burned', 'burns', 'burp', 'burpin', 'burps', 'burried', 'burryed', 'bus', 'buses', 'bust', 'busted', 'busy', 'but', 'butt', 'butter', 'butterscotch', 'button', 'buttons', 'buy', 'buying', 'bwahahahahahahahahahaha', 'by', 'byb', 'bye', 'byeee', 'byeeee', 'byeeeeeeee', 'byeeeeeeeeeeeee', 'byes']\n"
     ]
    }
   ],
   "source": [
    "print(sorted(set([w.lower() for w in text5 if w.isalpha() and len(w)>=2 and w.startswith('b')])))"
   ]
  },
  {
   "cell_type": "markdown",
   "metadata": {},
   "source": [
    "16. Type the expression list(range(10)) at the interpreter prompt. Now try list(range(10, 20)), list(range(10, 20, 2)), and list(range(20, 10, -2)). We will see a variety of uses for this built-in function in later chapters."
   ]
  },
  {
   "cell_type": "code",
   "execution_count": 55,
   "metadata": {},
   "outputs": [
    {
     "data": {
      "text/plain": [
       "[0, 1, 2, 3, 4, 5, 6, 7, 8, 9]"
      ]
     },
     "execution_count": 55,
     "metadata": {},
     "output_type": "execute_result"
    }
   ],
   "source": [
    "list(range(10))"
   ]
  },
  {
   "cell_type": "code",
   "execution_count": 56,
   "metadata": {},
   "outputs": [
    {
     "data": {
      "text/plain": [
       "[10, 11, 12, 13, 14, 15, 16, 17, 18, 19]"
      ]
     },
     "execution_count": 56,
     "metadata": {},
     "output_type": "execute_result"
    }
   ],
   "source": [
    "list(range(10, 20))"
   ]
  },
  {
   "cell_type": "code",
   "execution_count": 57,
   "metadata": {},
   "outputs": [
    {
     "data": {
      "text/plain": [
       "[10, 12, 14, 16, 18]"
      ]
     },
     "execution_count": 57,
     "metadata": {},
     "output_type": "execute_result"
    }
   ],
   "source": [
    "list(range(10, 20, 2))"
   ]
  },
  {
   "cell_type": "code",
   "execution_count": 58,
   "metadata": {},
   "outputs": [
    {
     "data": {
      "text/plain": [
       "[20, 18, 16, 14, 12]"
      ]
     },
     "execution_count": 58,
     "metadata": {},
     "output_type": "execute_result"
    }
   ],
   "source": [
    "list(range(20, 10, -2))"
   ]
  },
  {
   "cell_type": "markdown",
   "metadata": {},
   "source": [
    "17. Use text9.index() to find the index of the word sunset. You'll need to insert this word as an argument between the parentheses. By a process of trial and error, find the slice for the complete sentence that contains this word."
   ]
  },
  {
   "cell_type": "code",
   "execution_count": 59,
   "metadata": {},
   "outputs": [
    {
     "data": {
      "text/plain": [
       "629"
      ]
     },
     "execution_count": 59,
     "metadata": {},
     "output_type": "execute_result"
    }
   ],
   "source": [
    "text9.index('sunset') "
   ]
  },
  {
   "cell_type": "code",
   "execution_count": 60,
   "metadata": {},
   "outputs": [
    {
     "data": {
      "text/plain": [
       "12"
      ]
     },
     "execution_count": 60,
     "metadata": {},
     "output_type": "execute_result"
    }
   ],
   "source": [
    "text9[630:].index('sunset')"
   ]
  },
  {
   "cell_type": "code",
   "execution_count": 61,
   "metadata": {},
   "outputs": [
    {
     "data": {
      "text/plain": [
       "['sunset',\n",
       " 'side',\n",
       " 'of',\n",
       " 'London',\n",
       " ',',\n",
       " 'as',\n",
       " 'red',\n",
       " 'and',\n",
       " 'ragged',\n",
       " 'as',\n",
       " 'a',\n",
       " 'cloud',\n",
       " 'of',\n",
       " 'sunset',\n",
       " '.']"
      ]
     },
     "execution_count": 61,
     "metadata": {},
     "output_type": "execute_result"
    }
   ],
   "source": [
    "text9[629:644]"
   ]
  },
  {
   "cell_type": "markdown",
   "metadata": {},
   "source": [
    "18. Using list addition, and the set and sorted operations, compute the vocabulary of the sentences sent1 ... sent8."
   ]
  },
  {
   "cell_type": "code",
   "execution_count": 62,
   "metadata": {},
   "outputs": [
    {
     "name": "stdout",
     "output_type": "stream",
     "text": [
      "['Call', 'me', 'Ishmael', '.', 'The', 'family', 'of', 'Dashwood', 'had', 'long', 'been', 'settled', 'in', 'Sussex', '.', 'In', 'the', 'beginning', 'God', 'created', 'the', 'heaven', 'and', 'the', 'earth', '.', 'Fellow', '-', 'Citizens', 'of', 'the', 'Senate', 'and', 'of', 'the', 'House', 'of', 'Representatives', ':', 'I', 'have', 'a', 'problem', 'with', 'people', 'PMing', 'me', 'to', 'lol', 'JOIN', 'SCENE', '1', ':', '[', 'wind', ']', '[', 'clop', 'clop', 'clop', ']', 'KING', 'ARTHUR', ':', 'Whoa', 'there', '!', 'Pierre', 'Vinken', ',', '61', 'years', 'old', ',', 'will', 'join', 'the', 'board', 'as', 'a', 'nonexecutive', 'director', 'Nov.', '29', '.', '25', 'SEXY', 'MALE', ',', 'seeks', 'attrac', 'older', 'single', 'lady', ',', 'for', 'discreet', 'encounters', '.']\n"
     ]
    }
   ],
   "source": [
    "sent=sent1+sent2+sent3+sent4+sent5+sent6+sent7+sent8\n",
    "print(sent)"
   ]
  },
  {
   "cell_type": "code",
   "execution_count": 63,
   "metadata": {},
   "outputs": [
    {
     "name": "stdout",
     "output_type": "stream",
     "text": [
      "72 99\n"
     ]
    }
   ],
   "source": [
    "wordsSent=[w.lower() for w in sent]\n",
    "print(len(set(wordsSent)),len(wordsSent))"
   ]
  },
  {
   "cell_type": "markdown",
   "metadata": {},
   "source": [
    "19.  What is the difference between the following two lines? Which one will give a larger value? Will this be the case for other texts?<br>\n",
    "    sorted(set(w.lower() for w in text1))<br>\n",
    "    sorted(w.lower() for w in set(text1))"
   ]
  },
  {
   "cell_type": "code",
   "execution_count": 64,
   "metadata": {},
   "outputs": [
    {
     "data": {
      "text/plain": [
       "17231"
      ]
     },
     "execution_count": 64,
     "metadata": {},
     "output_type": "execute_result"
    }
   ],
   "source": [
    "len(set(w.lower() for w in text1))"
   ]
  },
  {
   "cell_type": "code",
   "execution_count": 65,
   "metadata": {},
   "outputs": [
    {
     "data": {
      "text/plain": [
       "19317"
      ]
     },
     "execution_count": 65,
     "metadata": {},
     "output_type": "execute_result"
    }
   ],
   "source": [
    "len([w.lower() for w in set(text1)])"
   ]
  },
  {
   "cell_type": "markdown",
   "metadata": {},
   "source": [
    "Second one and yes, it will be the case for all the texts"
   ]
  },
  {
   "cell_type": "markdown",
   "metadata": {},
   "source": [
    "20. What is the difference between the following two tests: w.isupper() and not w.islower()?"
   ]
  },
  {
   "cell_type": "markdown",
   "metadata": {},
   "source": [
    "The difference comes when the string has numbers in it"
   ]
  },
  {
   "cell_type": "markdown",
   "metadata": {},
   "source": [
    "21.  Write the slice expression that extracts the last two words of text2."
   ]
  },
  {
   "cell_type": "code",
   "execution_count": 66,
   "metadata": {},
   "outputs": [
    {
     "data": {
      "text/plain": [
       "['THE', 'END']"
      ]
     },
     "execution_count": 66,
     "metadata": {},
     "output_type": "execute_result"
    }
   ],
   "source": [
    "text2[-2:]"
   ]
  },
  {
   "cell_type": "markdown",
   "metadata": {},
   "source": [
    "22. Find all the four-letter words in the Chat Corpus (text5). With the help of a frequency distribution (FreqDist), show these words in decreasing order of frequency."
   ]
  },
  {
   "cell_type": "code",
   "execution_count": 67,
   "metadata": {},
   "outputs": [
    {
     "name": "stdout",
     "output_type": "stream",
     "text": [
      "[('part', 1022), ('join', 1021), ('that', 284), ('what', 201), ('here', 185), ('have', 171), ('like', 160), ('with', 154), ('chat', 146), ('your', 142), ('good', 132), ('lmao', 128), ('just', 128), ('know', 104), ('room', 103), ('this', 98), ('from', 96), ('well', 91), ('yeah', 85), ('hiya', 85), ('they', 84), ('back', 79), ('dont', 77), ('want', 71), ('love', 63), ('guys', 59), ('some', 59), ('talk', 58), ('been', 58), ('nice', 54), ('when', 54), ('time', 52), ('haha', 46), ('girl', 45), ('make', 44), ('need', 44), ('will', 42), ('song', 42), ('mode', 42), ('then', 41), ('much', 40), ('over', 40), ('were', 39), ('take', 38), ('does', 38), ('work', 38), ('even', 37), ('only', 36), ('damn', 36), ('seen', 36), ('come', 36), ('more', 35), ('nick', 33), ('long', 30), ('hell', 29), ('last', 29), ('tell', 29), ('name', 28), ('away', 28), ('sure', 28), ('them', 28), ('look', 27), ('baby', 26), ('call', 26), ('down', 26), ('cool', 26), ('sexy', 25), ('play', 25), ('many', 23), ('hate', 23), ('said', 23), ('same', 23), ('live', 23), ('stop', 23), ('life', 22), ('ever', 22), ('hear', 21), ('very', 20), ('feel', 19), ('hugs', 19), ('mean', 19), ('give', 19), ('must', 19), ('find', 18), ('cant', 18), ('left', 17), ('fine', 17), ('lets', 17), ('shit', 17), ('nite', 17), ('busy', 17), ('hair', 17), ('lost', 17), ('eyes', 16), ('real', 16), ('heya', 16), ('game', 16), ('fuck', 15), ('sits', 15), ('kill', 15), ('read', 14), ('else', 14), ('shut', 14), ('wait', 14), ('goes', 14), ('keep', 14), ('nope', 14), ('true', 14), ('male', 13), ('pick', 13), ('free', 13), ('near', 13), ('awww', 13), ('hope', 12), ('head', 12), ('than', 12), ('kids', 12), ('face', 12), ('gets', 12), ('cold', 12), ('hehe', 12), ('bout', 12), ('home', 12), ('stay', 12), ('used', 12), ('told', 12), ('yall', 12), ('days', 11), ('hard', 11), ('show', 11), ('doin', 11), ('perv', 11), ('wont', 11), ('dang', 11), ('year', 11), ('babe', 11), ('help', 11), ('into', 11), ('type', 10), ('heyy', 10), ('rock', 10), ('mine', 10), ('once', 10), ('care', 10), ('mind', 10), ('kiss', 10), ('week', 10), ('liam', 10), ('pics', 9), ('such', 9), ('best', 9), ('neck', 9), ('dead', 9), ('okay', 9), ('runs', 9), ('aint', 9), ('book', 9), ('crap', 9), ('soon', 9), ('full', 9), ('hour', 9), ('ahhh', 9), ('sick', 9), ('hmmm', 9), ('hand', 8), ('word', 8), ('rule', 8), ('poor', 8), ('dude', 8), ('case', 8), ('wana', 8), ('hows', 8), ('went', 8), ('lady', 8), ('oops', 8), ('blue', 8), ('kick', 8), ('says', 8), ('suck', 8), ('made', 8), ('wife', 8), ('sang', 8), ('fast', 7), ('alot', 7), ('none', 7), ('took', 7), ('wear', 7), ('kool', 7), ('dear', 7), ('food', 7), ('late', 6), ('most', 6), ('ummm', 6), ('thru', 6), ('caps', 6), ('list', 6), ('came', 6), ('seem', 6), ('cali', 6), ('sing', 6), ('next', 6), ('done', 6), ('ride', 6), ('comp', 6), ('high', 6), ('main', 6), ('goin', 6), ('pink', 6), ('gone', 6), ('ohhh', 6), ('knew', 6), ('ball', 6), ('send', 6), ('woot', 6), ('blah', 6), ('whos', 6), ('yoko', 6), ('sock', 6), ('legs', 5), ('fire', 5), ('warm', 5), ('turn', 5), ('hang', 5), ('miss', 5), ('boys', 5), ('land', 5), ('huge', 5), ('nose', 5), ('lick', 5), ('wish', 5), ('quit', 5), ('roll', 5), ('easy', 5), ('lose', 5), ('cute', 5), ('holy', 5), ('soul', 5), ('luck', 5), ('also', 5), ('evil', 5), ('fall', 5), ('lord', 5), ('boss', 5), ('beer', 5), ('wall', 5), ('meet', 5), ('till', 5), ('feet', 5), ('xbox', 5), ('idea', 5), ('heck', 5), ('joke', 5), ('fool', 5), ('felt', 5), ('kent', 5), ('meds', 5), ('both', 5), ('lime', 5), ('drew', 4), ('glad', 4), ('jerk', 4), ('ugly', 4), ('date', 4), ('lies', 4), ('rest', 4), ('door', 4), ('self', 4), ('pass', 4), ('line', 4), ('hook', 4), ('ohio', 4), ('each', 4), ('swim', 4), ('open', 4), ('ouch', 4), ('fart', 4), ('grrr', 4), ('pain', 4), ('hawt', 4), ('wind', 4), ('pfft', 4), ('sigh', 4), ('rofl', 4), ('shes', 4), ('mary', 4), ('mmmm', 4), ('ones', 4), ('shot', 4), ('team', 4), ('hott', 4), ('ways', 4), ('road', 4), ('beat', 4), ('hail', 4), ('elle', 4), ('lame', 4), ('john', 4), ('puff', 4), ('tisk', 4), ('clap', 3), ('itch', 3), ('guyz', 3), ('gold', 3), ('ring', 3), ('isnt', 3), ('deep', 3), ('phil', 3), ('deal', 3), ('wash', 3), ('piff', 3), ('jump', 3), ('whoa', 3), ('gosh', 3), ('band', 3), ('orgy', 3), ('slap', 3), ('hold', 3), ('soft', 3), ('bend', 3), ('toss', 3), ('amen', 3), ('rain', 3), ('deop', 3), ('roof', 3), ('ahem', 3), ('hola', 3), ('drop', 3), ('butt', 3), ('imma', 3), ('town', 3), ('elev', 3), ('akdt', 3), ('lead', 3), ('ding', 3), ('note', 3), ('gawd', 3), ('half', 3), ('ello', 3), ('hick', 3), ('city', 3), ('wine', 3), ('hiii', 3), ('bare', 3), ('vote', 3), ('wack', 3), ('snow', 3), ('hurt', 3), ('born', 3), ('move', 3), ('walk', 3), ('yawn', 3), ('nana', 3), ('hump', 3), ('yada', 3), ('kewl', 3), ('tune', 3), ('hank', 3), ('slow', 3), ('rubs', 3), ('skin', 3), ('died', 3), ('army', 3), ('wazz', 3), ('toes', 3), ('golf', 2), ('cast', 2), ('slip', 2), ('opps', 2), ('plan', 2), ('deaf', 2), ('hmph', 2), ('bite', 2), ('mins', 2), ('eats', 2), ('cell', 2), ('cmon', 2), ('wats', 2), ('kind', 2), ('mike', 2), ('dumb', 2), ('park', 2), ('loud', 2), ('mama', 2), ('whip', 2), ('pour', 2), ('twin', 2), ('burp', 2), ('kold', 2), ('blew', 2), ('temp', 2), ('corn', 2), ('pool', 2), ('cash', 2), ('ears', 2), ('porn', 2), ('heal', 2), ('ciao', 2), ('typo', 2), ('halo', 2), ('eric', 2), ('sore', 2), ('size', 2), ('hits', 2), ('past', 2), ('meat', 2), ('argh', 2), ('limp', 2), ('rent', 2), ('cars', 2), ('shop', 2), ('five', 2), ('sell', 2), ('yard', 2), ('grrl', 2), ('chip', 2), ('bear', 2), ('foot', 2), ('uses', 2), ('sort', 2), ('hill', 2), ('mono', 2), ('whud', 2), ('bone', 2), ('club', 2), ('adds', 2), ('area', 2), ('humm', 2), ('newp', 2), ('gays', 2), ('pmsl', 2), ('zone', 2), ('hint', 2), ('spin', 2), ('ewww', 2), ('pies', 2), ('doll', 2), ('gimp', 2), ('spot', 2), ('ages', 2), ('clue', 2), ('mass', 2), ('flow', 2), ('west', 2), ('rang', 2), ('hall', 2), ('haze', 2), ('seee', 2), ('sooo', 2), ('cost', 2), ('trip', 2), ('babi', 2), ('rich', 2), ('teck', 2), ('moon', 2), ('yeas', 2), ('wooo', 2), ('tick', 2), ('tock', 2), ('rush', 2), ('side', 2), ('howz', 2), ('root', 2), ('tyvm', 2), ('luvs', 2), ('fits', 2), ('sand', 2), ('king', 2), ('ltns', 2), ('flaw', 2), ('aunt', 2), ('lawl', 2), ('tiff', 2), ('draw', 1), ('docs', 1), ('fade', 1), ('bowl', 1), ('bong', 1), ('ogan', 1), ('cams', 1), ('gooo', 1), ('yeee', 1), ('ahah', 1), ('jeep', 1), ('vbox', 1), ('serg', 1), ('bein', 1), ('whys', 1), ('tape', 1), ('sexs', 1), ('form', 1), ('nads', 1), ('owww', 1), ('gags', 1), ('meep', 1), ('lool', 1), ('kina', 1), ('sext', 1), ('lazy', 1), ('calm', 1), ('arms', 1), ('smax', 1), ('vvil', 1), ('este', 1), ('chik', 1), ('boyz', 1), ('coat', 1), ('dawn', 1), ('mauh', 1), ('ques', 1), ('ruff', 1), ('mame', 1), ('nada', 1), ('push', 1), ('prob', 1), ('wild', 1), ('whew', 1), ('dark', 1), ('waht', 1), ('test', 1), ('boot', 1), ('hiom', 1), ('dman', 1), ('jail', 1), ('cops', 1), ('hogs', 1), ('peek', 1), ('ctrl', 1), ('hots', 1), ('frst', 1), ('crop', 1), ('bomb', 1), ('eeek', 1), ('tjhe', 1), ('heee', 1), ('peel', 1), ('fock', 1), ('exit', 1), ('mris', 1), ('buff', 1), ('plus', 1), ('tory', 1), ('knee', 1), ('oooh', 1), ('lala', 1), ('fake', 1), ('ssid', 1), ('poot', 1), ('poop', 1), ('bird', 1), ('plow', 1), ('thnx', 1), ('card', 1), ('uyes', 1), ('benz', 1), ('disc', 1), ('bloe', 1), ('blow', 1), ('hooo', 1), ('thje', 1), ('jess', 1), ('term', 1), ('tina', 1), ('ooer', 1), ('anal', 1), ('dojn', 1), ('wubs', 1), ('mkay', 1), ('spat', 1), ('gees', 1), ('puts', 1), ('fish', 1), ('syck', 1), ('tere', 1), ('sent', 1), ('werd', 1), ('nawt', 1), ('sign', 1), ('woof', 1), ('ghet', 1), ('brad', 1), ('offa', 1), ('dood', 1), ('sink', 1), ('cums', 1), ('loss', 1), ('wrap', 1), ('hide', 1), ('okey', 1), ('worl', 1), ('cepn', 1), ('lots', 1), ('nawp', 1), ('addy', 1), ('lake', 1), ('mite', 1), ('wood', 1), ('orta', 1), ('wins', 1), ('ebay', 1), ('coem', 1), ('giva', 1), ('ally', 1), ('judy', 1), ('cyas', 1), ('shup', 1), ('tooo', 1), ('choc', 1), ('wher', 1), ('whoo', 1), ('dint', 1), ('tend', 1), ('menu', 1), ('lust', 1), ('nods', 1), ('kept', 1), ('scuk', 1), ('raed', 1), ('bugs', 1), ('nerd', 1), ('pimp', 1), ('haaa', 1), ('hero', 1), ('joey', 1), ('jane', 1), ('span', 1), ('wore', 1), ('pasa', 1), ('barn', 1), ('feat', 1), ('dork', 1), ('laid', 1), ('herd', 1), ('tide', 1), ('jush', 1), ('grlz', 1), ('lung', 1), ('lion', 1), ('brat', 1), ('muah', 1), ('fawk', 1), ('dust', 1), ('seth', 1), ('abou', 1), ('tthe', 1), ('pork', 1), ('mark', 1), ('dotn', 1), ('gift', 1), ('outs', 1), ('paul', 1), ('outa', 1), ('york', 1), ('fear', 1), ('dies', 1), ('givs', 1), ('bust', 1), ('xmas', 1), ('enuf', 1), ('eeww', 1), ('dick', 1), ('fair', 1), ('lyin', 1), ('lois', 1), ('cuss', 1), ('rape', 1), ('geez', 1), ('tart', 1), ('hgey', 1), ('caan', 1), ('nude', 1), ('allo', 1), ('yesh', 1), ('reub', 1), ('heat', 1), ('kmph', 1), ('pope', 1), ('yess', 1), ('duet', 1), ('wuts', 1), ('quiz', 1), ('scar', 1), ('pair', 1), ('bell', 1), ('dawg', 1), ('febe', 1), ('prof', 1), ('jude', 1), ('whou', 1), ('idnt', 1), ('perk', 1), ('http', 1), ('yell', 1), ('mang', 1), ('ssri', 1), ('cure', 1), ('wean', 1), ('post', 1), ('anti', 1), ('noth', 1), ('tall', 1), ('pray', 1), ('weed', 1), ('icky', 1), ('rick', 1), ('spit', 1), ('lube', 1), ('mami', 1), ('east', 1), ('seat', 1), ('cock', 1), ('otay', 1), ('firs', 1), ('site', 1), ('dump', 1), ('toop', 1), ('four', 1), ('sets', 1), ('asss', 1), ('paid', 1), ('iowa', 1), ('jeff', 1), ('crib', 1), ('drug', 1), ('cook', 1), ('ladz', 1), ('aime', 1), ('hong', 1), ('kong', 1), ('tits', 1), ('gret', 1), ('guns', 1), ('inch', 1), ('sean', 1), ('howl', 1), ('slam', 1), ('pine', 1), ('puke', 1), ('waaa', 1), ('urls', 1), ('star', 1), ('save', 1), ('sori', 1), ('poem', 1), ('jack', 1), ('junk', 1), ('tips', 1), ('nooo', 1), ('troy', 1), ('tail', 1), ('dyed', 1), ('beam', 1), ('daft', 1), ('twit', 1), ('scum', 1), ('toke', 1), ('ribs', 1), ('eggs', 1), ('wyte', 1), ('moms', 1), ('goof', 1), ('able', 1), ('vamp', 1), ('ther', 1), ('text', 1), ('gear', 1), ('matt', 1), ('ntmn', 1), ('grea', 1), ('guts', 1), ('wrek', 1), ('fort', 1), ('akst', 1), ('wire', 1), ('soda', 1), ('gray', 1), ('tlak', 1), ('ltnc', 1), ('sayn', 1), ('evah', 1), ('bike', 1), ('ohwa', 1), ('caca', 1), ('prep', 1), ('pull', 1), ('dirt', 1), ('vent', 1), ('safe', 1), ('dogs', 1), ('bull', 1), ('asks', 1), ('chit', 1), ('grin', 1), ('bred', 1), ('rats', 1), ('samn', 1), ('nuff', 1), ('rose', 1), ('ruth', 1), ('grew', 1), ('mena', 1), ('lapd', 1), ('surf', 1), ('hazy', 1), ('thot', 1), ('acid', 1), ('wide', 1), ('keys', 1), ('salt', 1), ('mess', 1), ('base', 1), ('byes', 1), ('yout', 1), ('numb', 1), ('thah', 1), ('mahn', 1), ('soup', 1), ('vega', 1), ('pigs', 1), ('poof', 1), ('nova', 1), ('mofo', 1), ('sips', 1), ('clay', 1), ('bacl', 1), ('body', 1), ('akon', 1), ('yoll', 1), ('boom', 1), ('news', 1), ('maps', 1), ('page', 1), ('chop', 1), ('typr', 1), ('poll', 1), ('boed', 1), ('pwns', 1), ('sexi', 1), ('bois', 1), ('bied', 1), ('uhhh', 1), ('tenn', 1), ('pure', 1), ('gals', 1), ('woah', 1), ('ussy', 1), ('heys', 1), ('lisa', 1), ('brwn', 1), ('hurr', 1)]\n"
     ]
    }
   ],
   "source": [
    "words4Text5=[w.lower() for w in text5 if len(w)==4 and w.isalpha()]\n",
    "fdist4Text5=FreqDist(words4Text5)\n",
    "print(fdist4Text5.most_common())"
   ]
  },
  {
   "cell_type": "markdown",
   "metadata": {},
   "source": [
    "23. Review the discussion of looping with conditions in 4. Use a combination of for and if statements to loop over the words of the movie script for Monty Python and the Holy Grail (text6) and print all the uppercase words, one per line."
   ]
  },
  {
   "cell_type": "code",
   "execution_count": 68,
   "metadata": {
    "collapsed": true
   },
   "outputs": [
    {
     "name": "stdout",
     "output_type": "stream",
     "text": [
      "SCENE\n",
      "KING\n",
      "ARTHUR\n",
      "SOLDIER\n",
      "ARTHUR\n",
      "SOLDIER\n",
      "ARTHUR\n",
      "SOLDIER\n",
      "ARTHUR\n",
      "SOLDIER\n",
      "ARTHUR\n",
      "SOLDIER\n",
      "ARTHUR\n",
      "SOLDIER\n",
      "ARTHUR\n",
      "SOLDIER\n",
      "ARTHUR\n",
      "SOLDIER\n",
      "ARTHUR\n",
      "SOLDIER\n",
      "ARTHUR\n",
      "SOLDIER\n",
      "ARTHUR\n",
      "SOLDIER\n",
      "ARTHUR\n",
      "SOLDIER\n",
      "ARTHUR\n",
      "SOLDIER\n",
      "ARTHUR\n",
      "SOLDIER\n",
      "SOLDIER\n",
      "SOLDIER\n",
      "ARTHUR\n",
      "SOLDIER\n",
      "SOLDIER\n",
      "SOLDIER\n",
      "SOLDIER\n",
      "SOLDIER\n",
      "SOLDIER\n",
      "SOLDIER\n",
      "SOLDIER\n",
      "SCENE\n",
      "CART\n",
      "MASTER\n",
      "CUSTOMER\n",
      "CART\n",
      "MASTER\n",
      "DEAD\n",
      "PERSON\n",
      "CART\n",
      "MASTER\n",
      "CUSTOMER\n",
      "DEAD\n",
      "PERSON\n",
      "CART\n",
      "MASTER\n",
      "CUSTOMER\n",
      "DEAD\n",
      "PERSON\n",
      "CART\n",
      "MASTER\n",
      "CUSTOMER\n",
      "DEAD\n",
      "PERSON\n",
      "CUSTOMER\n",
      "CART\n",
      "MASTER\n",
      "DEAD\n",
      "PERSON\n",
      "CUSTOMER\n",
      "CART\n",
      "MASTER\n",
      "DEAD\n",
      "PERSON\n",
      "CUSTOMER\n",
      "CART\n",
      "MASTER\n",
      "CUSTOMER\n",
      "CART\n",
      "MASTER\n",
      "CUSTOMER\n",
      "CART\n",
      "MASTER\n",
      "DEAD\n",
      "PERSON\n",
      "CUSTOMER\n",
      "DEAD\n",
      "PERSON\n",
      "CUSTOMER\n",
      "CART\n",
      "MASTER\n",
      "CUSTOMER\n",
      "CART\n",
      "MASTER\n",
      "CUSTOMER\n",
      "CART\n",
      "MASTER\n",
      "SCENE\n",
      "ARTHUR\n",
      "DENNIS\n",
      "ARTHUR\n",
      "DENNIS\n",
      "ARTHUR\n",
      "DENNIS\n",
      "ARTHUR\n",
      "DENNIS\n",
      "ARTHUR\n",
      "DENNIS\n",
      "ARTHUR\n",
      "DENNIS\n",
      "ARTHUR\n",
      "DENNIS\n",
      "WOMAN\n",
      "ARTHUR\n",
      "WOMAN\n",
      "ARTHUR\n",
      "WOMAN\n",
      "ARTHUR\n",
      "WOMAN\n",
      "DENNIS\n",
      "WOMAN\n",
      "DENNIS\n",
      "ARTHUR\n",
      "WOMAN\n",
      "ARTHUR\n",
      "WOMAN\n",
      "ARTHUR\n",
      "DENNIS\n",
      "ARTHUR\n",
      "DENNIS\n",
      "ARTHUR\n",
      "DENNIS\n",
      "ARTHUR\n",
      "DENNIS\n",
      "ARTHUR\n",
      "WOMAN\n",
      "ARTHUR\n",
      "WOMAN\n",
      "ARTHUR\n",
      "WOMAN\n",
      "ARTHUR\n",
      "DENNIS\n",
      "ARTHUR\n",
      "DENNIS\n",
      "ARTHUR\n",
      "DENNIS\n",
      "ARTHUR\n",
      "DENNIS\n",
      "ARTHUR\n",
      "DENNIS\n",
      "ARTHUR\n",
      "DENNIS\n",
      "SCENE\n",
      "BLACK\n",
      "KNIGHT\n",
      "BLACK\n",
      "KNIGHT\n",
      "GREEN\n",
      "KNIGHT\n",
      "BLACK\n",
      "KNIGHT\n",
      "GREEN\n",
      "KNIGHT\n",
      "BLACK\n",
      "KNIGHT\n",
      "BLACK\n",
      "KNIGHT\n",
      "GREEN\n",
      "KNIGHT\n",
      "GREEN\n",
      "KNIGHT\n",
      "BLACK\n",
      "KNIGHT\n",
      "GREEN\n",
      "KNIGHT\n",
      "BLACK\n",
      "KNIGHT\n",
      "ARTHUR\n",
      "BLACK\n",
      "KNIGHT\n",
      "ARTHUR\n",
      "BLACK\n",
      "KNIGHT\n",
      "ARTHUR\n",
      "BLACK\n",
      "KNIGHT\n",
      "ARTHUR\n",
      "BLACK\n",
      "KNIGHT\n",
      "ARTHUR\n",
      "ARTHUR\n",
      "BLACK\n",
      "KNIGHT\n",
      "ARTHUR\n",
      "BLACK\n",
      "KNIGHT\n",
      "ARTHUR\n",
      "BLACK\n",
      "KNIGHT\n",
      "ARTHUR\n",
      "BLACK\n",
      "KNIGHT\n",
      "ARTHUR\n",
      "BLACK\n",
      "KNIGHT\n",
      "ARTHUR\n",
      "BLACK\n",
      "KNIGHT\n",
      "ARTHUR\n",
      "BLACK\n",
      "KNIGHT\n",
      "ARTHUR\n",
      "BLACK\n",
      "KNIGHT\n",
      "ARTHUR\n",
      "BLACK\n",
      "KNIGHT\n",
      "ARTHUR\n",
      "BLACK\n",
      "KNIGHT\n",
      "ARTHUR\n",
      "BLACK\n",
      "KNIGHT\n",
      "ARTHUR\n",
      "BLACK\n",
      "KNIGHT\n",
      "ARTHUR\n",
      "BLACK\n",
      "KNIGHT\n",
      "ARTHUR\n",
      "ARTHUR\n",
      "BLACK\n",
      "KNIGHT\n",
      "BLACK\n",
      "KNIGHT\n",
      "ARTHUR\n",
      "BLACK\n",
      "KNIGHT\n",
      "ARTHUR\n",
      "BLACK\n",
      "KNIGHT\n",
      "ARTHUR\n",
      "BLACK\n",
      "KNIGHT\n",
      "ARTHUR\n",
      "BLACK\n",
      "KNIGHT\n",
      "BLACK\n",
      "KNIGHT\n",
      "ARTHUR\n",
      "BLACK\n",
      "KNIGHT\n",
      "SCENE\n",
      "MONKS\n",
      "CROWD\n",
      "MONKS\n",
      "CROWD\n",
      "VILLAGER\n",
      "CROWD\n",
      "BEDEVERE\n",
      "VILLAGER\n",
      "CROWD\n",
      "BEDEVERE\n",
      "WITCH\n",
      "BEDEVERE\n",
      "WITCH\n",
      "CROWD\n",
      "WITCH\n",
      "BEDEVERE\n",
      "VILLAGER\n",
      "BEDEVERE\n",
      "VILLAGER\n",
      "VILLAGER\n",
      "CROWD\n",
      "BEDEVERE\n",
      "VILLAGER\n",
      "VILLAGER\n",
      "VILLAGER\n",
      "VILLAGER\n",
      "VILLAGERS\n",
      "VILLAGER\n",
      "VILLAGER\n",
      "VILLAGER\n",
      "VILLAGER\n",
      "VILLAGERS\n",
      "VILLAGER\n",
      "VILLAGER\n",
      "RANDOM\n",
      "BEDEVERE\n",
      "VILLAGER\n",
      "BEDEVERE\n",
      "VILLAGER\n",
      "VILLAGER\n",
      "VILLAGER\n",
      "CROWD\n",
      "BEDEVERE\n",
      "VILLAGER\n",
      "VILLAGER\n",
      "VILLAGER\n",
      "CROWD\n",
      "BEDEVERE\n",
      "VILLAGER\n",
      "VILLAGER\n",
      "CROWD\n",
      "BEDEVERE\n",
      "VILLAGER\n",
      "VILLAGER\n",
      "VILLAGER\n",
      "BEDEVERE\n",
      "VILLAGER\n",
      "BEDEVERE\n",
      "CROWD\n",
      "BEDEVERE\n",
      "VILLAGER\n",
      "BEDEVERE\n",
      "VILLAGER\n",
      "RANDOM\n",
      "BEDEVERE\n",
      "VILLAGER\n",
      "VILLAGER\n",
      "VILLAGER\n",
      "CROWD\n",
      "BEDEVERE\n",
      "VILLAGER\n",
      "VILLAGER\n",
      "VILLAGER\n",
      "VILLAGER\n",
      "VILLAGER\n",
      "VILLAGER\n",
      "VILLAGER\n",
      "VILLAGER\n",
      "VILLAGER\n",
      "ARTHUR\n",
      "CROWD\n",
      "BEDEVERE\n",
      "VILLAGER\n",
      "BEDEVERE\n",
      "VILLAGER\n",
      "VILLAGER\n",
      "CROWD\n",
      "VILLAGER\n",
      "BEDEVERE\n",
      "CROWD\n",
      "BEDEVERE\n",
      "CROWD\n",
      "WITCH\n",
      "VILLAGER\n",
      "CROWD\n",
      "BEDEVERE\n",
      "ARTHUR\n",
      "BEDEVERE\n",
      "ARTHUR\n",
      "BEDEVERE\n",
      "ARTHUR\n",
      "BEDEVERE\n",
      "ARTHUR\n",
      "NARRATOR\n",
      "SCENE\n",
      "SIR\n",
      "BEDEVERE\n",
      "ARTHUR\n",
      "BEDEVERE\n",
      "SIR\n",
      "LAUNCELOT\n",
      "ARTHUR\n",
      "SIR\n",
      "GALAHAD\n",
      "LAUNCELOT\n",
      "PATSY\n",
      "ARTHUR\n",
      "KNIGHTS\n",
      "PRISONER\n",
      "KNIGHTS\n",
      "MAN\n",
      "ARTHUR\n",
      "KNIGHTS\n",
      "SCENE\n",
      "GOD\n",
      "ARTHUR\n",
      "GOD\n",
      "ARTHUR\n",
      "GOD\n",
      "ARTHUR\n",
      "GOD\n",
      "ARTHUR\n",
      "GOD\n",
      "LAUNCELOT\n",
      "GALAHAD\n",
      "SCENE\n",
      "ARTHUR\n",
      "FRENCH\n",
      "GUARD\n",
      "ARTHUR\n",
      "FRENCH\n",
      "GUARD\n",
      "ARTHUR\n",
      "FRENCH\n",
      "GUARD\n",
      "ARTHUR\n",
      "GALAHAD\n",
      "ARTHUR\n",
      "FRENCH\n",
      "GUARD\n",
      "ARTHUR\n",
      "FRENCH\n",
      "GUARD\n",
      "ARTHUR\n",
      "FRENCH\n",
      "GUARD\n",
      "GALAHAD\n",
      "FRENCH\n",
      "GUARD\n",
      "ARTHUR\n",
      "FRENCH\n",
      "GUARD\n",
      "GALAHAD\n",
      "ARTHUR\n",
      "FRENCH\n",
      "GUARD\n",
      "GALAHAD\n",
      "FRENCH\n",
      "GUARD\n",
      "ARTHUR\n",
      "FRENCH\n",
      "GUARD\n",
      "OTHER\n",
      "FRENCH\n",
      "GUARD\n",
      "FRENCH\n",
      "GUARD\n",
      "ARTHUR\n",
      "KNIGHTS\n",
      "ARTHUR\n",
      "KNIGHTS\n",
      "FRENCH\n",
      "GUARD\n",
      "FRENCH\n",
      "GUARD\n",
      "ARTHUR\n",
      "KNIGHTS\n",
      "FRENCH\n",
      "GUARD\n",
      "FRENCH\n",
      "GUARDS\n",
      "LAUNCELOT\n",
      "ARTHUR\n",
      "BEDEVERE\n",
      "FRENCH\n",
      "GUARDS\n",
      "ARTHUR\n",
      "BEDEVERE\n",
      "ARTHUR\n",
      "BEDEVERE\n",
      "ARTHUR\n",
      "BEDEVERE\n",
      "ARTHUR\n",
      "KNIGHTS\n",
      "CRASH\n",
      "FRENCH\n",
      "GUARDS\n",
      "SCENE\n",
      "VOICE\n",
      "DIRECTOR\n",
      "HISTORIAN\n",
      "KNIGHT\n",
      "KNIGHT\n",
      "HISTORIAN\n",
      "HISTORIAN\n",
      "WIFE\n",
      "SCENE\n",
      "NARRATOR\n",
      "MINSTREL\n",
      "SIR\n",
      "ROBIN\n",
      "DENNIS\n",
      "WOMAN\n",
      "ALL\n",
      "HEADS\n",
      "MINSTREL\n",
      "ROBIN\n",
      "ALL\n",
      "HEADS\n",
      "MINSTREL\n",
      "ROBIN\n",
      "ALL\n",
      "HEADS\n",
      "ROBIN\n",
      "ALL\n",
      "HEADS\n",
      "ROBIN\n",
      "LEFT\n",
      "HEAD\n",
      "MIDDLE\n",
      "HEAD\n",
      "RIGHT\n",
      "HEAD\n",
      "MIDDLE\n",
      "HEAD\n",
      "LEFT\n",
      "HEAD\n",
      "RIGHT\n",
      "HEAD\n",
      "LEFT\n",
      "HEAD\n",
      "ROBIN\n",
      "LEFT\n",
      "HEAD\n",
      "RIGHT\n",
      "HEAD\n",
      "MIDDLE\n",
      "HEAD\n",
      "LEFT\n",
      "HEAD\n",
      "RIGHT\n",
      "HEAD\n",
      "MIDDLE\n",
      "HEAD\n",
      "LEFT\n",
      "HEAD\n",
      "MIDDLE\n",
      "HEAD\n",
      "LEFT\n",
      "HEAD\n",
      "MIDDLE\n",
      "HEAD\n",
      "RIGHT\n",
      "HEAD\n",
      "LEFT\n",
      "HEAD\n",
      "MIDDLE\n",
      "HEAD\n",
      "RIGHT\n",
      "HEAD\n",
      "LEFT\n",
      "HEAD\n",
      "ALL\n",
      "HEADS\n",
      "MIDDLE\n",
      "HEAD\n",
      "RIGHT\n",
      "HEAD\n",
      "MINSTREL\n",
      "ROBIN\n",
      "MINSTREL\n",
      "ROBIN\n",
      "MINSTREL\n",
      "ROBIN\n",
      "MINSTREL\n",
      "ROBIN\n",
      "MINSTREL\n",
      "ROBIN\n",
      "MINSTREL\n",
      "ROBIN\n",
      "MINSTREL\n",
      "ROBIN\n",
      "CARTOON\n",
      "MONKS\n",
      "CARTOON\n",
      "CHARACTER\n",
      "CARTOON\n",
      "MONKS\n",
      "CARTOON\n",
      "CHARACTERS\n",
      "CARTOON\n",
      "MONKS\n",
      "CARTOON\n",
      "CHARACTER\n",
      "VOICE\n",
      "CARTOON\n",
      "CHARACTER\n",
      "SCENE\n",
      "NARRATOR\n",
      "GALAHAD\n",
      "GIRLS\n",
      "ZOOT\n",
      "GALAHAD\n",
      "ZOOT\n",
      "GALAHAD\n",
      "ZOOT\n",
      "GALAHAD\n",
      "ZOOT\n",
      "MIDGET\n",
      "CRAPPER\n",
      "ZOOT\n",
      "MIDGET\n",
      "CRAPPER\n",
      "ZOOT\n",
      "GALAHAD\n",
      "ZOOT\n",
      "GALAHAD\n",
      "ZOOT\n",
      "GALAHAD\n",
      "ZOOT\n",
      "GALAHAD\n",
      "ZOOT\n",
      "GALAHAD\n",
      "ZOOT\n",
      "GALAHAD\n",
      "ZOOT\n",
      "PIGLET\n",
      "GALAHAD\n",
      "ZOOT\n",
      "GALAHAD\n",
      "ZOOT\n",
      "WINSTON\n",
      "GALAHAD\n",
      "PIGLET\n",
      "GALAHAD\n",
      "PIGLET\n",
      "GALAHAD\n",
      "PIGLET\n",
      "GALAHAD\n",
      "PIGLET\n",
      "GALAHAD\n",
      "GIRLS\n",
      "GALAHAD\n",
      "GIRLS\n",
      "GALAHAD\n",
      "DINGO\n",
      "GALAHAD\n",
      "DINGO\n",
      "GALAHAD\n",
      "DINGO\n",
      "GALAHAD\n",
      "DINGO\n",
      "GALAHAD\n",
      "DINGO\n",
      "LEFT\n",
      "HEAD\n",
      "DENNIS\n",
      "OLD\n",
      "MAN\n",
      "TIM\n",
      "THE\n",
      "ENCHANTER\n",
      "ARMY\n",
      "OF\n",
      "KNIGHTS\n",
      "DINGO\n",
      "GOD\n",
      "DINGO\n",
      "GIRLS\n",
      "DINGO\n",
      "AMAZING\n",
      "STUNNER\n",
      "LOVELY\n",
      "DINGO\n",
      "GIRLS\n",
      "DINGO\n",
      "GIRLS\n",
      "GALAHAD\n",
      "LAUNCELOT\n",
      "GALAHAD\n",
      "LAUNCELOT\n",
      "GALAHAD\n",
      "LAUNCELOT\n",
      "GALAHAD\n",
      "LAUNCELOT\n",
      "DINGO\n",
      "LAUNCELOT\n",
      "GALAHAD\n",
      "LAUNCELOT\n",
      "GALAHAD\n",
      "LAUNCELOT\n",
      "GIRLS\n",
      "GALAHAD\n",
      "DINGO\n",
      "GIRLS\n",
      "LAUNCELOT\n",
      "GALAHAD\n",
      "DINGO\n",
      "GIRLS\n",
      "LAUNCELOT\n",
      "GALAHAD\n",
      "DINGO\n",
      "GIRLS\n",
      "DINGO\n",
      "LAUNCELOT\n",
      "GALAHAD\n",
      "LAUNCELOT\n",
      "GALAHAD\n",
      "LAUNCELOT\n",
      "GALAHAD\n",
      "LAUNCELOT\n",
      "GALAHAD\n",
      "LAUNCELOT\n",
      "GALAHAD\n",
      "LAUNCELOT\n",
      "NARRATOR\n",
      "CROWD\n",
      "NARRATOR\n",
      "SCENE\n",
      "OLD\n",
      "MAN\n",
      "ARTHUR\n",
      "OLD\n",
      "MAN\n",
      "ARTHUR\n",
      "OLD\n",
      "MAN\n",
      "ARTHUR\n",
      "OLD\n",
      "MAN\n",
      "ARTHUR\n",
      "OLD\n",
      "MAN\n",
      "ARTHUR\n",
      "OLD\n",
      "MAN\n",
      "ARTHUR\n",
      "OLD\n",
      "MAN\n",
      "SCENE\n",
      "HEAD\n",
      "KNIGHT\n",
      "OF\n",
      "NI\n",
      "KNIGHTS\n",
      "OF\n",
      "NI\n",
      "ARTHUR\n",
      "HEAD\n",
      "KNIGHT\n",
      "RANDOM\n",
      "ARTHUR\n",
      "HEAD\n",
      "KNIGHT\n",
      "BEDEVERE\n",
      "HEAD\n",
      "KNIGHT\n",
      "RANDOM\n",
      "ARTHUR\n",
      "HEAD\n",
      "KNIGHT\n",
      "ARTHUR\n",
      "HEAD\n",
      "KNIGHT\n",
      "KNIGHTS\n",
      "OF\n",
      "NI\n",
      "ARTHUR\n",
      "HEAD\n",
      "KNIGHT\n",
      "ARTHUR\n",
      "HEAD\n",
      "KNIGHT\n",
      "ARTHUR\n",
      "KNIGHTS\n",
      "OF\n",
      "NI\n",
      "ARTHUR\n",
      "PARTY\n",
      "ARTHUR\n",
      "HEAD\n",
      "KNIGHT\n",
      "ARTHUR\n",
      "HEAD\n",
      "KNIGHT\n",
      "ARTHUR\n",
      "HEAD\n",
      "KNIGHT\n",
      "ARTHUR\n",
      "HEAD\n",
      "KNIGHT\n",
      "CARTOON\n",
      "CHARACTER\n",
      "SUN\n",
      "CARTOON\n",
      "CHARACTER\n",
      "SUN\n",
      "CARTOON\n",
      "CHARACTER\n",
      "SUN\n",
      "CARTOON\n",
      "CHARACTER\n",
      "SCENE\n",
      "NARRATOR\n",
      "FATHER\n",
      "PRINCE\n",
      "HERBERT\n",
      "FATHER\n",
      "HERBERT\n",
      "FATHER\n",
      "HERBERT\n",
      "FATHER\n",
      "HERBERT\n",
      "FATHER\n",
      "HERBERT\n",
      "FATHER\n",
      "HERBERT\n",
      "FATHER\n",
      "HERBERT\n",
      "FATHER\n",
      "HERBERT\n",
      "FATHER\n",
      "HERBERT\n",
      "FATHER\n",
      "GUARD\n",
      "GUARD\n",
      "FATHER\n",
      "GUARD\n",
      "FATHER\n",
      "GUARD\n",
      "GUARD\n",
      "FATHER\n",
      "GUARD\n",
      "FATHER\n",
      "GUARD\n",
      "FATHER\n",
      "GUARD\n",
      "GUARD\n",
      "FATHER\n",
      "GUARD\n",
      "FATHER\n",
      "GUARD\n",
      "FATHER\n",
      "GUARD\n",
      "FATHER\n",
      "GUARD\n",
      "FATHER\n",
      "GUARD\n",
      "FATHER\n",
      "GUARD\n",
      "FATHER\n",
      "GUARD\n",
      "FATHER\n",
      "GUARD\n",
      "GUARD\n",
      "FATHER\n",
      "GUARD\n",
      "FATHER\n",
      "GUARD\n",
      "GUARD\n",
      "FATHER\n",
      "GUARD\n",
      "FATHER\n",
      "GUARD\n",
      "FATHER\n",
      "GUARD\n",
      "GUARD\n",
      "GUARD\n",
      "FATHER\n",
      "GUARD\n",
      "GUARD\n",
      "FATHER\n",
      "GUARD\n",
      "FATHER\n",
      "GUARD\n",
      "HERBERT\n",
      "FATHER\n",
      "GUARD\n",
      "FATHER\n",
      "SCENE\n",
      "LAUNCELOT\n",
      "CONCORDE\n",
      "LAUNCELOT\n",
      "CONCORDE\n",
      "LAUNCELOT\n",
      "CONCORDE\n",
      "LAUNCELOT\n",
      "CONCORDE\n",
      "LAUNCELOT\n",
      "CONCORDE\n",
      "LAUNCELOT\n",
      "CONCORDE\n",
      "LAUNCELOT\n",
      "CONCORDE\n",
      "LAUNCELOT\n",
      "CONCORDE\n",
      "SCENE\n",
      "PRINCESS\n",
      "LUCKY\n",
      "GIRLS\n",
      "GUEST\n",
      "SENTRY\n",
      "SENTRY\n",
      "SENTRY\n",
      "LAUNCELOT\n",
      "SENTRY\n",
      "LAUNCELOT\n",
      "PRINCESS\n",
      "LUCKY\n",
      "GIRLS\n",
      "LAUNCELOT\n",
      "GUESTS\n",
      "LAUNCELOT\n",
      "GUARD\n",
      "LAUNCELOT\n",
      "HERBERT\n",
      "LAUNCELOT\n",
      "HERBERT\n",
      "LAUNCELOT\n",
      "HERBERT\n",
      "LAUNCELOT\n",
      "HERBERT\n",
      "FATHER\n",
      "HERBERT\n",
      "FATHER\n",
      "LAUNCELOT\n",
      "HERBERT\n",
      "LAUNCELOT\n",
      "FATHER\n",
      "LAUNCELOT\n",
      "FATHER\n",
      "LAUNCELOT\n",
      "HERBERT\n",
      "FATHER\n",
      "LAUNCELOT\n",
      "FATHER\n",
      "HERBERT\n",
      "FATHER\n",
      "LAUNCELOT\n",
      "FATHER\n",
      "LAUNCELOT\n",
      "FATHER\n",
      "LAUNCELOT\n",
      "FATHER\n",
      "HERBERT\n",
      "LAUNCELOT\n",
      "FATHER\n",
      "LAUNCELOT\n",
      "HERBERT\n",
      "FATHER\n",
      "LAUNCELOT\n",
      "HERBERT\n",
      "LAUNCELOT\n",
      "HERBERT\n",
      "LAUNCELOT\n",
      "FATHER\n",
      "HERBERT\n",
      "SCENE\n",
      "GUESTS\n",
      "FATHER\n",
      "GUEST\n",
      "FATHER\n",
      "LAUNCELOT\n",
      "FATHER\n",
      "LAUNCELOT\n",
      "GUEST\n",
      "GUESTS\n",
      "FATHER\n",
      "LAUNCELOT\n",
      "GUEST\n",
      "GUESTS\n",
      "FATHER\n",
      "GUESTS\n",
      "FATHER\n",
      "GUEST\n",
      "FATHER\n",
      "GUEST\n",
      "FATHER\n",
      "BRIDE\n",
      "FATHER\n",
      "GUEST\n",
      "FATHER\n",
      "LAUNCELOT\n",
      "GUEST\n",
      "GUESTS\n",
      "CONCORDE\n",
      "HERBERT\n",
      "FATHER\n",
      "HERBERT\n",
      "FATHER\n",
      "HERBERT\n",
      "FATHER\n",
      "GUESTS\n",
      "FATHER\n",
      "GUESTS\n",
      "FATHER\n",
      "GUESTS\n",
      "FATHER\n",
      "GUESTS\n",
      "FATHER\n",
      "GUESTS\n",
      "CONCORDE\n",
      "GUESTS\n",
      "CONCORDE\n",
      "GUESTS\n",
      "LAUNCELOT\n",
      "GUESTS\n",
      "LAUNCELOT\n",
      "GUESTS\n",
      "CONCORDE\n",
      "LAUNCELOT\n",
      "GUESTS\n",
      "LAUNCELOT\n",
      "GUESTS\n",
      "LAUNCELOT\n",
      "SCENE\n",
      "ARTHUR\n",
      "OLD\n",
      "CRONE\n",
      "ARTHUR\n",
      "CRONE\n",
      "ARTHUR\n",
      "CRONE\n",
      "ARTHUR\n",
      "CRONE\n",
      "ARTHUR\n",
      "CRONE\n",
      "BEDEVERE\n",
      "ARTHUR\n",
      "BEDEVERE\n",
      "ARTHUR\n",
      "BEDEVERE\n",
      "ARTHUR\n",
      "BEDEVERE\n",
      "ARTHUR\n",
      "BEDEVERE\n",
      "ARTHUR\n",
      "ARTHUR\n",
      "BEDEVERE\n",
      "CRONE\n",
      "BEDEVERE\n",
      "ARTHUR\n",
      "CRONE\n",
      "BEDEVERE\n",
      "ARTHUR\n",
      "BEDEVERE\n",
      "ARTHUR\n",
      "BEDEVERE\n",
      "ROGER\n",
      "THE\n",
      "SHRUBBER\n",
      "ARTHUR\n",
      "ROGER\n",
      "ARTHUR\n",
      "ROGER\n",
      "BEDEVERE\n",
      "ARTHUR\n",
      "SCENE\n",
      "ARTHUR\n",
      "HEAD\n",
      "KNIGHT\n",
      "ARTHUR\n",
      "HEAD\n",
      "KNIGHT\n",
      "KNIGHTS\n",
      "OF\n",
      "NI\n",
      "HEAD\n",
      "KNIGHT\n",
      "RANDOM\n",
      "HEAD\n",
      "KNIGHT\n",
      "ARTHUR\n",
      "HEAD\n",
      "KNIGHT\n",
      "ARTHUR\n",
      "RANDOM\n",
      "HEAD\n",
      "KNIGHT\n",
      "KNIGHTS\n",
      "OF\n",
      "NI\n",
      "HEAD\n",
      "KNIGHT\n",
      "ARTHUR\n",
      "HEAD\n",
      "KNIGHT\n",
      "ARTHUR\n",
      "KNIGHTS\n",
      "OF\n",
      "NI\n",
      "HEAD\n",
      "KNIGHT\n",
      "ARTHUR\n",
      "HEAD\n",
      "KNIGHT\n",
      "ARTHUR\n",
      "KNIGHTS\n",
      "OF\n",
      "NI\n",
      "HEAD\n",
      "KNIGHT\n",
      "ARTHUR\n",
      "KNIGHTS\n",
      "OF\n",
      "NI\n",
      "HEAD\n",
      "KNIGHT\n",
      "KNIGHTS\n",
      "OF\n",
      "NI\n",
      "BEDEVERE\n",
      "MINSTREL\n",
      "ARTHUR\n",
      "ROBIN\n",
      "HEAD\n",
      "KNIGHT\n",
      "ARTHUR\n",
      "MINSTREL\n",
      "ROBIN\n",
      "HEAD\n",
      "KNIGHT\n",
      "KNIGHTS\n",
      "OF\n",
      "NI\n",
      "ROBIN\n",
      "KNIGHTS\n",
      "OF\n",
      "NI\n",
      "ROBIN\n",
      "ARTHUR\n",
      "KNIGHTS\n",
      "OF\n",
      "NI\n",
      "HEAD\n",
      "KNIGHT\n",
      "ARTHUR\n",
      "KNIGHTS\n",
      "OF\n",
      "NI\n",
      "HEAD\n",
      "KNIGHT\n",
      "ARTHUR\n",
      "HEAD\n",
      "KNIGHT\n",
      "KNIGHTS\n",
      "OF\n",
      "NI\n",
      "NARRATOR\n",
      "KNIGHTS\n",
      "NARRATOR\n",
      "MINSTREL\n",
      "NARRATOR\n",
      "KNIGHTS\n",
      "NARRATOR\n",
      "CARTOON\n",
      "CHARACTER\n",
      "NARRATOR\n",
      "CARTOON\n",
      "CHARACTER\n",
      "NARRATOR\n",
      "CARTOON\n",
      "CHARACTER\n",
      "NARRATOR\n",
      "CARTOON\n",
      "CHARACTER\n",
      "NARRATOR\n",
      "CARTOON\n",
      "CHARACTER\n",
      "NARRATOR\n",
      "SCENE\n",
      "KNIGHTS\n",
      "ARTHUR\n",
      "TIM\n",
      "THE\n",
      "ENCHANTER\n",
      "ARTHUR\n",
      "TIM\n",
      "ARTHUR\n",
      "TIM\n",
      "ARTHUR\n",
      "TIM\n",
      "ARTHUR\n",
      "TIM\n",
      "ROBIN\n",
      "ARTHUR\n",
      "KNIGHTS\n",
      "ARTHUR\n",
      "BEDEVERE\n",
      "GALAHAD\n",
      "ROBIN\n",
      "BEDEVERE\n",
      "ROBIN\n",
      "BEDEVERE\n",
      "ARTHUR\n",
      "GALAHAD\n",
      "ARTHUR\n",
      "TIM\n",
      "ARTHUR\n",
      "TIM\n",
      "ARTHUR\n",
      "ROBIN\n",
      "ARTHUR\n",
      "GALAHAD\n",
      "KNIGHTS\n",
      "TIM\n",
      "ROBIN\n",
      "ARTHUR\n",
      "ROBIN\n",
      "GALAHAD\n",
      "ARTHUR\n",
      "ROBIN\n",
      "KNIGHTS\n",
      "ARTHUR\n",
      "TIM\n",
      "KNIGHTS\n",
      "TIM\n",
      "ARTHUR\n",
      "TIM\n",
      "ARTHUR\n",
      "SCENE\n",
      "GALAHAD\n",
      "ARTHUR\n",
      "TIM\n",
      "ARTHUR\n",
      "GALAHAD\n",
      "ARTHUR\n",
      "TIM\n",
      "ARTHUR\n",
      "TIM\n",
      "ARTHUR\n",
      "TIM\n",
      "ARTHUR\n",
      "TIM\n",
      "ARTHUR\n",
      "TIM\n",
      "ARTHUR\n",
      "TIM\n",
      "ARTHUR\n",
      "TIM\n",
      "ROBIN\n",
      "TIM\n",
      "GALAHAD\n",
      "TIM\n",
      "GALAHAD\n",
      "ROBIN\n",
      "TIM\n",
      "ROBIN\n",
      "TIM\n",
      "ARTHUR\n",
      "BORS\n",
      "TIM\n",
      "BORS\n",
      "ARTHUR\n",
      "TIM\n",
      "ROBIN\n",
      "TIM\n",
      "ARTHUR\n",
      "TIM\n",
      "ARTHUR\n",
      "TIM\n",
      "KNIGHTS\n",
      "KNIGHTS\n",
      "ARTHUR\n",
      "KNIGHTS\n",
      "TIM\n",
      "ARTHUR\n",
      "LAUNCELOT\n",
      "GALAHAD\n",
      "ARTHUR\n",
      "GALAHAD\n",
      "ARTHUR\n",
      "ROBIN\n",
      "ARTHUR\n",
      "GALAHAD\n",
      "ARTHUR\n",
      "GALAHAD\n",
      "LAUNCELOT\n",
      "ARTHUR\n",
      "LAUNCELOT\n",
      "ARTHUR\n",
      "MONKS\n",
      "ARTHUR\n",
      "LAUNCELOT\n",
      "ARTHUR\n",
      "BROTHER\n",
      "MAYNARD\n",
      "SECOND\n",
      "BROTHER\n",
      "MAYNARD\n",
      "SECOND\n",
      "BROTHER\n",
      "MAYNARD\n",
      "KNIGHTS\n",
      "ARTHUR\n",
      "GALAHAD\n",
      "ARTHUR\n",
      "SCENE\n",
      "ARTHUR\n",
      "LAUNCELOT\n",
      "GALAHAD\n",
      "ARTHUR\n",
      "MAYNARD\n",
      "GALAHAD\n",
      "LAUNCELOT\n",
      "ARTHUR\n",
      "MAYNARD\n",
      "ARTHUR\n",
      "MAYNARD\n",
      "BEDEVERE\n",
      "MAYNARD\n",
      "LAUNCELOT\n",
      "MAYNARD\n",
      "ARTHUR\n",
      "MAYNARD\n",
      "GALAHAD\n",
      "ARTHUR\n",
      "MAYNARD\n",
      "LAUNCELOT\n",
      "ARTHUR\n",
      "BEDEVERE\n",
      "GALAHAD\n",
      "BEDEVERE\n",
      "LAUNCELOT\n",
      "ARTHUR\n",
      "LAUNCELOT\n",
      "KNIGHTS\n",
      "BEDEVERE\n",
      "LAUNCELOT\n",
      "BEDEVERE\n",
      "LAUNCELOT\n",
      "BEDEVERE\n",
      "ARTHUR\n",
      "GALAHAD\n",
      "MAYNARD\n",
      "BROTHER\n",
      "MAYNARD\n",
      "BEDEVERE\n",
      "ARTHUR\n",
      "KNIGHTS\n",
      "BEDEVERE\n",
      "KNIGHTS\n",
      "NARRATOR\n",
      "ANIMATOR\n",
      "NARRATOR\n",
      "SCENE\n",
      "GALAHAD\n",
      "ARTHUR\n",
      "ROBIN\n",
      "ARTHUR\n",
      "BEDEVERE\n",
      "ARTHUR\n",
      "GALAHAD\n",
      "ARTHUR\n",
      "GALAHAD\n",
      "ARTHUR\n",
      "ROBIN\n",
      "ARTHUR\n",
      "ROBIN\n",
      "GALAHAD\n",
      "ARTHUR\n",
      "ROBIN\n",
      "ARTHUR\n",
      "ROBIN\n",
      "LAUNCELOT\n",
      "ARTHUR\n",
      "GALAHAD\n",
      "ARTHUR\n",
      "LAUNCELOT\n",
      "ARTHUR\n",
      "BRIDGEKEEPER\n",
      "LAUNCELOT\n",
      "BRIDGEKEEPER\n",
      "LAUNCELOT\n",
      "BRIDGEKEEPER\n",
      "LAUNCELOT\n",
      "BRIDGEKEEPER\n",
      "LAUNCELOT\n",
      "BRIDGEKEEPER\n",
      "LAUNCELOT\n",
      "ROBIN\n",
      "BRIDGEKEEPER\n",
      "ROBIN\n",
      "BRIDGEKEEPER\n",
      "ROBIN\n",
      "BRIDGEKEEPER\n",
      "ROBIN\n",
      "BRIDGEKEEPER\n",
      "ROBIN\n",
      "BRIDGEKEEPER\n",
      "GALAHAD\n",
      "BRIDGEKEEPER\n",
      "GALAHAD\n",
      "BRIDGEKEEPER\n",
      "GALAHAD\n",
      "BRIDGEKEEPER\n",
      "ARTHUR\n",
      "BRIDGEKEEPER\n",
      "ARTHUR\n",
      "BRIDGEKEEPER\n",
      "ARTHUR\n",
      "BRIDGEKEEPER\n",
      "BEDEVERE\n",
      "ARTHUR\n",
      "SCENE\n",
      "ARTHUR\n",
      "BEDEVERE\n",
      "ARTHUR\n",
      "BEDEVERE\n",
      "ARTHUR\n",
      "FRENCH\n",
      "GUARD\n",
      "ARTHUR\n",
      "FRENCH\n",
      "GUARD\n",
      "ARTHUR\n",
      "FRENCH\n",
      "GUARD\n",
      "ARTHUR\n",
      "FRENCH\n",
      "GUARDS\n",
      "ARTHUR\n",
      "FRENCH\n",
      "GUARD\n",
      "ARTHUR\n",
      "FRENCH\n",
      "GUARD\n",
      "FRENCH\n",
      "GUARDS\n",
      "ARTHUR\n",
      "BEDEVERE\n",
      "ARTHUR\n",
      "FRENCH\n",
      "GUARDS\n",
      "ARTHUR\n",
      "FRENCH\n",
      "GUARDS\n",
      "ARTHUR\n",
      "FRENCH\n",
      "GUARDS\n",
      "ARTHUR\n",
      "ARMY\n",
      "OF\n",
      "KNIGHTS\n",
      "HISTORIAN\n",
      "WIFE\n",
      "INSPECTOR\n",
      "OFFICER\n",
      "HISTORIAN\n",
      "WIFE\n",
      "OFFICER\n",
      "INSPECTOR\n",
      "OFFICER\n",
      "BEDEVERE\n",
      "INSPECTOR\n",
      "OFFICER\n",
      "INSPECTOR\n",
      "OFFICER\n",
      "OFFICER\n",
      "RANDOM\n",
      "RANDOM\n",
      "OFFICER\n",
      "OFFICER\n",
      "OFFICER\n",
      "OFFICER\n",
      "INSPECTOR\n",
      "OFFICER\n",
      "CAMERAMAN\n"
     ]
    }
   ],
   "source": [
    "for w in text6:\n",
    "    if len(w)>=2 and w.isupper():\n",
    "        print(w);"
   ]
  },
  {
   "cell_type": "markdown",
   "metadata": {},
   "source": [
    "24. Write expressions for finding all words in text6 that meet the conditions listed below. The result should be in the form of a list of words: ['word1', 'word2', ...]. <br>\n",
    "    a. Ending in ize <br>\n",
    "    b. Containing the letter z <br>\n",
    "    c. Containing the sequence of letters pt <br>\n",
    "    d. Having all lowercase letters except for an initial capital (i.e., titlecase) "
   ]
  },
  {
   "cell_type": "code",
   "execution_count": 69,
   "metadata": {},
   "outputs": [
    {
     "data": {
      "text/plain": [
       "[]"
      ]
     },
     "execution_count": 69,
     "metadata": {},
     "output_type": "execute_result"
    }
   ],
   "source": [
    "wordsText6=[w for w in text6 if len(w)>=2]\n",
    "words1Text6=[w for w in wordsText6 if w.endswith(\"ize\")]\n",
    "words1Text6"
   ]
  },
  {
   "cell_type": "code",
   "execution_count": 70,
   "metadata": {},
   "outputs": [
    {
     "data": {
      "text/plain": [
       "['zone',\n",
       " 'amazes',\n",
       " 'Fetchez',\n",
       " 'Fetchez',\n",
       " 'zoop',\n",
       " 'zoo',\n",
       " 'zhiv',\n",
       " 'frozen',\n",
       " 'zoosh']"
      ]
     },
     "execution_count": 70,
     "metadata": {},
     "output_type": "execute_result"
    }
   ],
   "source": [
    "words2Text6=[w for w in wordsText6 if w.find(\"z\")!=-1]\n",
    "words2Text6"
   ]
  },
  {
   "cell_type": "code",
   "execution_count": 71,
   "metadata": {},
   "outputs": [
    {
     "name": "stdout",
     "output_type": "stream",
     "text": [
      "['empty', 'aptly', 'Thpppppt', 'Thppt', 'Thppt', 'empty', 'Thppppt', 'temptress', 'temptation', 'ptoo', 'Chapter', 'excepting', 'Thpppt']\n"
     ]
    }
   ],
   "source": [
    "words3Text6=[w for w in wordsText6 if w.find(\"pt\")!=-1]\n",
    "print(words3Text6)"
   ]
  },
  {
   "cell_type": "code",
   "execution_count": 72,
   "metadata": {},
   "outputs": [
    {
     "name": "stdout",
     "output_type": "stream",
     "text": [
      "['Whoa', 'Halt', 'Who', 'It', 'Arthur', 'Uther', 'Pendragon', 'Camelot', 'King', 'Britons', 'Saxons', 'England', 'Pull', 'Patsy', 'We', 'Camelot', 'What', 'Ridden', 'Yes', 'You', 'What', 'You', 'So', 'We', 'Mercea', 'Where', 'We', 'Found', 'In', 'Mercea', 'The', 'What', 'Well', 'The', 'Are', 'Not', 'They', 'What', 'It', 'It', 'It', 'Well', 'Will', 'Arthur', 'Court', 'Camelot', 'Listen', 'In', 'Please', 'Am', 'It', 'African', 'Oh', 'African', 'European', 'That', 'Oh', 'Will', 'Camelot', 'But', 'African', 'Oh', 'So', 'Wait', 'Supposing', 'No', 'Well', 'They', 'What', 'Well', 'Bring', 'Bring', 'Bring', 'Bring', 'Bring', 'Bring', 'Bring', 'Bring', 'Ninepence', 'Bring', 'Bring', 'Bring', 'Bring', 'Here', 'Ninepence', 'What', 'Nothing', 'Here', 'Ere', 'He', 'Yes', 'He', 'Well', 'He', 'No', 'You', 'Oh', 'It', 'Oh', 'Well', 'Well', 'He', 'No', 'Robinson', 'They', 'Well', 'Thursday', 'You', 'Look', 'Ah', 'Not', 'See', 'Thursday', 'Right', 'All', 'Who', 'Must', 'Why', 'He', 'King', 'Arthur', 'King', 'Arthur', 'Old', 'Man', 'Man', 'Sorry', 'What', 'Well', 'Man', 'Well', 'Dennis', 'Well', 'Dennis', 'Well', 'What', 'Well', 'Oh', 'And', 'By', 'By', 'If', 'Dennis', 'Oh', 'How', 'How', 'Arthur', 'King', 'Britons', 'Who', 'King', 'The', 'Britons', 'Who', 'Britons', 'Well', 'We', 'Britons', 'You', 'We', 'Oh', 'That', 'If', 'Please', 'Who', 'No', 'Then', 'We', 'What', 'We', 'We', 'Yes', 'But', 'Yes', 'By', 'Be', 'But', 'Be', 'Order', 'Who', 'Heh', 'Well', 'You', 'Well', 'The', 'Lady', 'Lake', 'Excalibur', 'Divine', 'Providence', 'Arthur', 'Excalibur', 'That', 'Listen', 'Supreme', 'Be', 'Well', 'Shut', 'Shut', 'Shut', 'Ah', 'Shut', 'Oh', 'Come', 'Help', 'Bloody', 'Oh', 'Did', 'Did', 'That', 'Did', 'You', 'King', 'Arthur', 'Aaagh', 'King', 'Arthur', 'Aaagh', 'Ooh', 'King', 'Arthur', 'Aagh', 'Oh', 'King', 'Arthur', 'Ooh', 'Aaagh', 'Agh', 'Aaaaaah', 'Aaaaaaaaah', 'Umm', 'You', 'Sir', 'Knight', 'Arthur', 'King', 'Britons', 'Camelot', 'You', 'Will', 'You', 'So', 'Come', 'Patsy', 'None', 'What', 'None', 'Sir', 'Knight', 'Then', 'King', 'Britons', 'So', 'Aaah', 'Now', 'Tis', 'Your', 'No', 'Well', 'You', 'Come', 'Huyah', 'Hiyaah', 'Aaaaaaaah', 'Victory', 'We', 'Thee', 'Lord', 'Thy', 'Hah', 'Come', 'What', 'Have', 'Eh', 'You', 'Sir', 'Knight', 'Oh', 'Look', 'You', 'Yes', 'Look', 'Just', 'Look', 'Chicken', 'Chickennn', 'Look', 'Right', 'Right', 'You', 'Come', 'What', 'You', 'The', 'Black', 'Knight', 'Have', 'Come', 'Ooh', 'All', 'Come', 'Patsy', 'Oh', 'Oh', 'Running', 'You', 'Come', 'Pie', 'Iesu', 'Pie', 'Iesu', 'Pie', 'Iesu', 'Pie', 'Iesu', 'We', 'We', 'Burn', 'Burn', 'Burn', 'We', 'We', 'We', 'May', 'Burn', 'Burn', 'Burn', 'Burn', 'How', 'She', 'Right', 'Yeah', 'Yeah', 'Bring', 'Uh', 'They', 'Augh', 'We', 'And', 'It', 'Well', 'Well', 'The', 'And', 'Yeah', 'We', 'Right', 'Yeaaah', 'Yeaah', 'Did', 'No', 'No', 'No', 'No', 'No', 'No', 'Yes', 'Yes', 'Yes', 'Yeah', 'She', 'What', 'Well', 'Burn', 'Burn', 'Burn', 'Burn', 'Burn', 'Quiet', 'Quiet', 'Quiet', 'Quiet', 'There', 'Are', 'Ah', 'What', 'Tell', 'Tell', 'Tell', 'Burn', 'Burn', 'Burn', 'Burn', 'Burn', 'And', 'More', 'Shh', 'Wood', 'So', 'Good', 'Heh', 'Oh', 'Oh', 'So', 'Build', 'Ah', 'Oh', 'Oh', 'True', 'Uhh', 'Does', 'No', 'No', 'No', 'It', 'Throw', 'The', 'Throw', 'What', 'Bread', 'Apples', 'Uh', 'Cider', 'Uh', 'Cherries', 'Mud', 'Churches', 'Churches', 'Lead', 'Lead', 'Oooh', 'Exactly', 'So', 'If', 'And', 'Here', 'Use', 'We', 'Ohh', 'Ohh', 'Burn', 'Burn', 'Burn', 'Burn', 'Burn', 'Burn', 'Burn', 'Burn', 'Burn', 'Ahh', 'Ahh', 'Right', 'Remove', 'It', 'Burn', 'Burn', 'Burn', 'Burn', 'Burn', 'Burn', 'Who', 'Arthur', 'King', 'Britons', 'My', 'Good', 'Sir', 'Knight', 'Camelot', 'Round', 'Table', 'My', 'What', 'Bedevere', 'Then', 'Sir', 'Bedevere', 'Knight', 'Round', 'Table', 'The', 'Sir', 'Bedevere', 'King', 'Arthur', 'Sir', 'Lancelot', 'Brave', 'Sir', 'Gallahad', 'Pure', 'Sir', 'Robin', 'Sir', 'Lancelot', 'Dragon', 'Angnor', 'Chicken', 'Bristol', 'Battle', 'Badon', 'Hill', 'Sir', 'Not', 'Together', 'Knights', 'Round', 'Table', 'And', 'This', 'Sir', 'Bedevere', 'Explain', 'Oh', 'Look', 'Camelot', 'Camelot', 'Camelot', 'It', 'Shh', 'Knights', 'Let', 'Camelot', 'We', 'We', 'We', 'With', 'We', 'Camelot', 'We', 'We', 'Round', 'Table', 'Our', 'But', 'That', 'We', 'Camelot', 'We', 'In', 'Quite', 'Between', 'Clark', 'Gable', 'It', 'Camelot', 'Well', 'Camelot', 'It', 'Right', 'Right', 'Arthur', 'Arthur', 'King', 'Britons', 'Oh', 'One', 'Sorry', 'And', 'Every', 'What', 'Lord', 'Well', 'It', 'Psalms', 'Now', 'Yes', 'Lord', 'Right', 'Arthur', 'King', 'Britons', 'Knights', 'Round', 'Table', 'Good', 'Lord', 'Course', 'Behold', 'Arthur', 'Holy', 'Grail', 'Look', 'Arthur', 'That', 'Arthur', 'Holy', 'Grail', 'Lord', 'God', 'King', 'Arthur', 'Halt', 'Hallo', 'Hallo', 'Allo', 'Who', 'It', 'King', 'Arthur', 'Knights', 'Round', 'Table', 'Who', 'This', 'Guy', 'Loimbard', 'Go', 'God', 'If', 'Holy', 'Grail', 'Well', 'Uh', 'What', 'He', 'Are', 'Oh', 'Well', 'Of', 'You', 'English', 'Well', 'French', 'Why', 'What', 'England', 'Mind', 'If', 'Grail', 'You', 'English', 'Go', 'Arthur', 'King', 'English', 'Thpppppt', 'Thppt', 'Thppt', 'What', 'Now', 'You', 'Is', 'No', 'Now', 'Fetchez', 'Quoi', 'Fetchez', 'If', 'Jesus', 'Christ', 'Christ', 'Ah', 'Ohh', 'Right', 'Charge', 'Charge', 'Hey', 'There', 'And', 'Run', 'Run', 'Thppppt', 'Fiends', 'No', 'No', 'Sir', 'Quoi', 'Un', 'What', 'Oh', 'Oui', 'Hurry', 'What', 'Let', 'Oh', 'On', 'Bon', 'Over', 'What', 'Well', 'Launcelot', 'Galahad', 'French', 'Not', 'Who', 'Launcelot', 'Galahad', 'Uh', 'Ohh', 'Oh', 'Um', 'Run', 'Run', 'Run', 'Run', 'Run', 'Run', 'Run', 'Run', 'Oh', 'Haw', 'Haw', 'Picture', 'Schools', 'Action', 'Defeat', 'King', 'Arthur', 'The', 'French', 'Arthur', 'Holy', 'Grail', 'Arthur', 'Grail', 'Now', 'Launcelot', 'Aaaah', 'Frank', 'The', 'Tale', 'Sir', 'Robin', 'So', 'Sir', 'Robin', 'Ewing', 'Bravely', 'Sir', 'Robin', 'Camelot', 'He', 'Sir', 'Robin', 'He', 'Brave', 'Sir', 'Robin', 'He', 'Or', 'To', 'And', 'Sir', 'Robin', 'His', 'And', 'And', 'And', 'That', 'Heh', 'Looks', 'Anarcho', 'Oh', 'Dennis', 'We', 'Halt', 'Who', 'He', 'Sir', 'Robin', 'Sir', 'Robin', 'Shut', 'Um', 'What', 'To', 'Shut', 'Um', 'Sir', 'Knight', 'Ah', 'Knight', 'Round', 'Table', 'You', 'Knight', 'Round', 'Table', 'In', 'Shall', 'Oh', 'Well', 'Oh', 'Oh', 'Perhaps', 'And', 'Oh', 'Get', 'Oh', 'Yes', 'What', 'Yapping', 'You', 'You', 'What', 'You', 'Oh', 'Anyway', 'Well', 'Oh', 'Oh', 'All', 'All', 'We', 'Yes', 'Oh', 'All', 'All', 'Right', 'He', 'So', 'He', 'Brave', 'Sir', 'Robin', 'No', 'Bravely', 'When', 'No', 'Yes', 'Sir', 'Robin', 'And', 'He', 'All', 'Bravest', 'Sir', 'Robin', 'Pie', 'Iesu', 'Heh', 'Pie', 'Iesu', 'Wayy', 'Ho', 'Woa', 'Heh', 'Heh', 'Wayy', 'Wayy', 'Forgive', 'Oh', 'Oooo', 'The', 'Tale', 'Sir', 'Galahad', 'Open', 'Open', 'In', 'King', 'Arthur', 'Hello', 'Welcome', 'Sir', 'Knight', 'Welcome', 'Castle', 'Anthrax', 'The', 'Castle', 'Anthrax', 'Yes', 'Oh', 'Oh', 'You', 'Holy', 'Grail', 'The', 'The', 'Grail', 'It', 'Oh', 'Midget', 'Crapper', 'Yes', 'Zoot', 'Prepare', 'Oh', 'Thank', 'Thank', 'Thank', 'Thank', 'Thank', 'Away', 'The', 'Well', 'What', 'Sir', 'Galahad', 'Chaste', 'Mine', 'Zoot', 'Just', 'Zoot', 'Oh', 'Look', 'In', 'God', 'Grail', 'Oh', 'You', 'No', 'It', 'Sir', 'Galahad', 'You', 'Well', 'Oh', 'We', 'Oooh', 'It', 'We', 'Nay', 'Nay', 'Come', 'Come', 'You', 'Oh', 'No', 'Oh', 'No', 'Lie', 'Well', 'They', 'Uh', 'Oh', 'You', 'Doctor', 'Piglet', 'Doctor', 'Winston', 'Practice', 'Try', 'Are', 'We', 'There', 'Please', 'We', 'Look', 'This', 'Back', 'At', 'Torment', 'Grail', 'There', 'Hello', 'Oh', 'Hello', 'Hello', 'Hello', 'Hello', 'Hello', 'Hello', 'Hello', 'Hello', 'Hello', 'Hello', 'Hello', 'Hello', 'Hello', 'Hello', 'Hello', 'Hello', 'Hello', 'Hello', 'Hello', 'Hello', 'Hello', 'Hello', 'Hello', 'Zoot', 'No', 'Zoot', 'Dingo', 'Oh', 'Where', 'Grail', 'Oh', 'Oh', 'Bad', 'Zoot', 'Well', 'Oh', 'Zoot', 'She', 'It', 'It', 'Grail', 'Oh', 'Zoot', 'She', 'Do', 'We', 'It', 'At', 'Well', 'It', 'Get', 'Yes', 'Yes', 'Oh', 'Get', 'Oh', 'Zoot', 'Oh', 'And', 'Castle', 'Anthrax', 'You', 'You', 'And', 'And', 'And', 'And', 'And', 'Yes', 'There', 'And', 'The', 'The', 'Well', 'Sir', 'Galahad', 'Oh', 'Quick', 'What', 'Quick', 'Why', 'You', 'No', 'Silence', 'You', 'Come', 'We', 'Look', 'Come', 'Sir', 'Galahad', 'No', 'Look', 'Yes', 'Let', 'Yes', 'Let', 'No', 'Sir', 'Galahad', 'Come', 'No', 'Really', 'Honestly', 'Oh', 'Let', 'Yes', 'Let', 'No', 'Quick', 'Quick', 'Please', 'There', 'Yes', 'He', 'We', 'We', 'He', 'Oh', 'We', 'You', 'Yes', 'You', 'Look', 'No', 'Look', 'No', 'Holy', 'Grail', 'Come', 'Oh', 'No', 'It', 'No', 'Sir', 'Launcelot', 'Sir', 'Galahad', 'Grail', 'Meanwhile', 'King', 'Arthur', 'Sir', 'Bedevere', 'Oh', 'Get', 'Oh', 'On', 'Arthur', 'Heh', 'Hee', 'And', 'Grail', 'Ha', 'Heh', 'Ha', 'Ha', 'Where', 'Heh', 'Old', 'Hee', 'He', 'And', 'Grail', 'The', 'Grail', 'There', 'Gorge', 'Eternal', 'Peril', 'But', 'Grail', 'Where', 'Grail', 'Seek', 'Bridge', 'Death', 'The', 'Bridge', 'Death', 'Grail', 'Heh', 'Ha', 'Hee', 'Ni', 'Ni', 'Ni', 'Ni', 'Ni', 'Ni', 'Who', 'We', 'Knights', 'Who', 'Say', 'Ni', 'Ni', 'No', 'Not', 'Knights', 'Who', 'Say', 'Ni', 'The', 'Who', 'We', 'Ni', 'Peng', 'Neee', 'Neee', 'Those', 'The', 'Knights', 'Who', 'Say', 'Ni', 'Knights', 'Ni', 'Ni', 'Ni', 'Ni', 'Ni', 'Ni', 'Ni', 'Ow', 'Ow', 'Ow', 'Agh', 'We', 'Well', 'We', 'Ni', 'Ni', 'Ni', 'Ni', 'Ow', 'Oh', 'Please', 'No', 'We', 'You', 'Knights', 'Ni', 'One', 'Of', 'And', 'Yes', 'Now', 'Hmm', 'Oh', 'Great', 'Hm', 'Hmm', 'Hm', 'Hmm', 'Ohh', 'Ay', 'Thsss', 'Ayy', 'Thsss', 'Ayy', 'Stop', 'Stop', 'Ay', 'Stop', 'Look', 'Clear', 'Go', 'Go', 'Go', 'Go', 'And', 'Clear', 'Hah', 'Bloody', 'The', 'Tale', 'Sir', 'Launcelot', 'One', 'What', 'No', 'Not', 'All', 'This', 'But', 'Mother', 'Father', 'Father', 'Father', 'Listen', 'When', 'Other', 'It', 'So', 'That', 'So', 'That', 'But', 'And', 'But', 'Rather', 'Stop', 'Stop', 'You', 'Now', 'In', 'Britain', 'Listen', 'Alice', 'Herbert', 'Erbert', 'We', 'We', 'But', 'Don', 'What', 'She', 'She', 'She', 'Cut', 'Cut', 'Look', 'Princess', 'Lucky', 'Guards', 'Make', 'Prince', 'Not', 'Hic', 'No', 'Until', 'Until', 'No', 'No', 'You', 'And', 'Hic', 'Right', 'We', 'No', 'Leaving', 'Leaving', 'Yes', 'All', 'Right', 'Hic', 'Right', 'Oh', 'Yes', 'What', 'Oh', 'Look', 'Uh', 'You', 'Alright', 'Hic', 'Right', 'Oh', 'Uhh', 'No', 'You', 'Oh', 'We', 'But', 'No', 'Just', 'Until', 'No', 'Just', 'Just', 'Hic', 'Get', 'Get', 'All', 'Right', 'We', 'Hic', 'And', 'What', 'Make', 'The', 'Prince', 'Yes', 'Make', 'Oh', 'Hic', 'Ah', 'You', 'Is', 'Hic', 'Oh', 'No', 'Right', 'Where', 'We', 'No', 'Oh', 'Right', 'But', 'Father', 'Shut', 'And', 'And', 'Hic', 'Oh', 'Well', 'Concorde', 'Thank', 'Most', 'And', 'Over', 'Good', 'Steady', 'And', 'Uuh', 'Come', 'Concorde', 'Message', 'Concorde', 'Concorde', 'Speak', 'To', 'Please', 'Tall', 'Tower', 'Swamp', 'Castle', 'At', 'This', 'Holy', 'Grail', 'Brave', 'Concorde', 'Uh', 'Well', 'Oh', 'Actually', 'No', 'Concorde', 'Stay', 'Idiom', 'Idiom', 'No', 'Farewell', 'Concorde', 'Shall', 'Yeah', 'Morning', 'Morning', 'Oooh', 'Ha', 'Hiyya', 'Hey', 'Hiyya', 'Ha', 'Ha', 'Huy', 'Uuh', 'Aaah', 'Ha', 'And', 'Aah', 'Hiyah', 'Aah', 'Aaah', 'Hyy', 'Hya', 'Hiyya', 'Ha', 'Now', 'Sir', 'Launcelot', 'Camelot', 'Oh', 'You', 'Uh', 'You', 'Uh', 'You', 'Well', 'Stop', 'Stop', 'Stop', 'Stop', 'Who', 'No', 'Uh', 'Sir', 'Launcelot', 'He', 'Father', 'Well', 'Did', 'Uh', 'Oh', 'Sorry', 'They', 'Well', 'Um', 'Don', 'Sir', 'Launcelot', 'You', 'Well', 'Hurry', 'Sir', 'Launcelot', 'Hurry', 'Shut', 'You', 'Well', 'Didn', 'You', 'Oh', 'Is', 'You', 'This', 'Well', 'Camelot', 'Camelot', 'Are', 'Camelot', 'Hurry', 'Sir', 'Launcelot', 'Uh', 'Knight', 'King', 'Arthur', 'Very', 'Camelot', 'Uh', 'Is', 'Hurry', 'Would', 'Well', 'Um', 'Oooh', 'Oh', 'Oooh', 'Well', 'We', 'There', 'Oh', 'Ha', 'Hey', 'Ha', 'Hold', 'Stop', 'Hold', 'Hold', 'Hold', 'Hold', 'Hold', 'Please', 'Sorry', 'Sorry', 'You', 'Sorry', 'Sorry', 'He', 'Hold', 'Hold', 'Please', 'Hold', 'This', 'Sir', 'Launcelot', 'Court', 'Camelot', 'Hello', 'He', 'Please', 'Please', 'This', 'Let', 'We', 'Unfortunately', 'Herbert', 'Oh', 'Oh', 'But', 'For', 'He', 'Since', 'He', 'For', 'Uugh', 'Oh', 'And', 'And', 'Princess', 'Sir', 'Launcelot', 'Camelot', 'What', 'Look', 'The', 'Prince', 'Oooh', 'The', 'Prince', 'He', 'No', 'You', 'Tall', 'Tower', 'No', 'How', 'Well', 'Not', 'Not', 'No', 'Stop', 'He', 'He', 'Shut', 'He', 'Shut', 'He', 'Shut', 'He', 'Not', 'He', 'He', 'He', 'He', 'Quickly', 'He', 'Come', 'He', 'He', 'No', 'It', 'He', 'Oh', 'Dramatically', 'Dramatically', 'But', 'Heee', 'Hoa', 'Hoo', 'What', 'Excuse', 'Could', 'King', 'Arthur', 'Old', 'Is', 'Who', 'The', 'Knights', 'Who', 'Say', 'Ni', 'Aggh', 'No', 'Never', 'We', 'If', 'Agh', 'Do', 'Very', 'If', 'No', 'Never', 'No', 'Ni', 'Nu', 'No', 'Nu', 'No', 'Nu', 'No', 'You', 'No', 'Ni', 'Ni', 'That', 'That', 'You', 'Ni', 'Ohh', 'Ni', 'Ni', 'Agh', 'Ni', 'Ni', 'Ni', 'Ni', 'Ni', 'Are', 'Erm', 'Oh', 'There', 'Nothing', 'Even', 'Did', 'Yes', 'Shrubberies', 'My', 'Roger', 'Shrubber', 'Ni', 'No', 'No', 'No', 'Knights', 'Ni', 'May', 'It', 'But', 'What', 'We', 'Knights', 'Who', 'Say', 'Ni', 'Ni', 'Shh', 'Shh', 'We', 'Knights', 'Who', 'Say', 'Ecky', 'Ni', 'Therefore', 'What', 'Knights', 'Knights', 'Who', 'Til', 'Recently', 'Said', 'Ni', 'Firstly', 'Not', 'Ni', 'Then', 'Ni', 'Shh', 'Ni', 'Ni', 'Ni', 'Shh', 'Shh', 'Then', 'We', 'Oh', 'Cut', 'It', 'Aaaugh', 'Aaaugh', 'Augh', 'Ohh', 'Don', 'What', 'Knights', 'Ni', 'How', 'Aaaaugh', 'You', 'What', 'Agh', 'No', 'No', 'You', 'No', 'Not', 'My', 'Sir', 'Robin', 'Packing', 'And', 'And', 'Yes', 'Sir', 'Robin', 'My', 'It', 'Now', 'Surely', 'Holy', 'Grail', 'He', 'Shut', 'No', 'No', 'Far', 'He', 'Aaaaugh', 'Aaaaugh', 'Uh', 'No', 'Aaaaugh', 'Aaaaugh', 'Stop', 'The', 'Oh', 'Ow', 'He', 'Patsy', 'Wait', 'Ooh', 'And', 'That', 'Ohh', 'Aaaaugh', 'And', 'Arthur', 'Bedevere', 'Sir', 'Robin', 'Beyond', 'Launcelot', 'Galahad', 'Yay', 'Yay', 'In', 'Nador', 'Robin', 'Get', 'Eee', 'And', 'Yay', 'Winter', 'Spring', 'Mmm', 'Spring', 'Summer', 'Oh', 'Ahh', 'Summer', 'Winter', 'Oh', 'And', 'Winter', 'Spring', 'Summer', 'Autumn', 'Aah', 'Oh', 'Waa', 'Until', 'King', 'Arthur', 'Eh', 'Oh', 'See', 'Oh', 'Oh', 'Knights', 'Forward', 'What', 'By', 'There', 'Tim', 'Greetings', 'Tim', 'Enchanter', 'Greetings', 'King', 'Arthur', 'You', 'You', 'Holy', 'Grail', 'That', 'You', 'Tim', 'Quite', 'Oh', 'Yes', 'Holy', 'Grail', 'Our', 'Holy', 'Grail', 'Yeah', 'Yes', 'It', 'It', 'Yeah', 'Yup', 'Yup', 'Hm', 'And', 'Yes', 'Yeah', 'We', 'We', 'We', 'Ages', 'Umhm', 'Uh', 'Look', 'Fine', 'Um', 'Yes', 'Yes', 'Yup', 'That', 'Yes', 'Oh', 'Oh', 'Thank', 'Ahh', 'Oh', 'Fine', 'Thank', 'Splendid', 'Aah', 'Look', 'Yes', 'Holy', 'Grail', 'Oh', 'Oh', 'To', 'Caerbannog', 'Olfin', 'Bedwere', 'Rheged', 'Holy', 'Grail', 'Where', 'Tim', 'Follow', 'But', 'Follow', 'Bones', 'So', 'What', 'They', 'Then', 'Dis', 'Behold', 'Caerbannog', 'Right', 'Keep', 'What', 'Too', 'What', 'There', 'Where', 'There', 'What', 'It', 'You', 'What', 'You', 'Well', 'Ohh', 'That', 'You', 'Look', 'Get', 'He', 'Oh', 'You', 'What', 'He', 'Go', 'Bors', 'Chop', 'Right', 'Silly', 'One', 'Look', 'Aaaugh', 'Jesus', 'Christ', 'Oh', 'Oh', 'Well', 'Oh', 'Do', 'Right', 'Oh', 'Charge', 'Aaaaugh', 'Aaaugh', 'Run', 'Run', 'Run', 'Run', 'Ha', 'Ha', 'Ha', 'Ha', 'Right', 'How', 'Gawain', 'Ector', 'And', 'Bors', 'That', 'Three', 'Three', 'Three', 'And', 'That', 'Would', 'Oh', 'Let', 'It', 'Like', 'Well', 'Have', 'No', 'We', 'Holy', 'Hand', 'Grenade', 'Yes', 'The', 'Holy', 'Hand', 'Grenade', 'Antioch', 'Tis', 'Brother', 'Maynard', 'Brother', 'Maynard', 'Bring', 'Holy', 'Hand', 'Grenade', 'Pie', 'Iesu', 'Pie', 'Iesu', 'Pie', 'Iesu', 'Pie', 'Iesu', 'How', 'Consult', 'Book', 'Armaments', 'Armaments', 'Chapter', 'Two', 'Nine', 'Twenty', 'And', 'Saint', 'Attila', 'Lord', 'And', 'Lord', 'Skip', 'Brother', 'And', 'Lord', 'First', 'Holy', 'Pin', 'Then', 'Three', 'Four', 'Five', 'Once', 'Holy', 'Hand', 'Grenade', 'Antioch', 'Amen', 'Amen', 'Right', 'One', 'Three', 'Three', 'There', 'Look', 'What', 'What', 'Brother', 'Maynard', 'You', 'It', 'Aramaic', 'Of', 'Joseph', 'Arimathea', 'Course', 'What', 'It', 'Here', 'Joseph', 'Arimathea', 'He', 'Holy', 'Grail', 'Castle', 'What', 'Castle', 'What', 'He', 'Oh', 'Well', 'Look', 'He', 'Well', 'Perhaps', 'Oh', 'Well', 'No', 'Just', 'Aauuggghhh', 'Aaauggh', 'Do', 'Camaaaaaargue', 'Where', 'France', 'Isn', 'Saint', 'Aauuuves', 'Cornwall', 'No', 'Saint', 'Ives', 'Oh', 'Saint', 'Iiiives', 'Iiiiives', 'Oooohoohohooo', 'No', 'Aauuuuugh', 'Aauuugh', 'No', 'Oooooooh', 'Oh', 'Yes', 'Oooh', 'My', 'God', 'It', 'Black', 'Beast', 'Aaauugh', 'Black', 'Beast', 'Aaauugh', 'That', 'That', 'Run', 'Run', 'Run', 'Run', 'Run', 'Keep', 'Shh', 'Shh', 'Shh', 'Shh', 'Shh', 'Shh', 'Shh', 'Shh', 'We', 'Aagh', 'As', 'Black', 'Beast', 'Arthur', 'Ulk', 'The', 'The', 'Holy', 'Grail', 'There', 'The', 'Bridge', 'Death', 'Oh', 'Look', 'There', 'What', 'He', 'Bridge', 'Death', 'He', 'Three', 'Three', 'He', 'Three', 'Three', 'What', 'Then', 'Gorge', 'Eternal', 'Peril', 'Oh', 'Who', 'Sir', 'Robin', 'Yes', 'Brave', 'Sir', 'Robin', 'Hey', 'Why', 'Launcelot', 'Yes', 'Let', 'No', 'No', 'Hang', 'Hang', 'Hang', 'Just', 'Three', 'Three', 'And', 'Good', 'Sir', 'Launcelot', 'God', 'Stop', 'Who', 'Bridge', 'Death', 'Ask', 'What', 'My', 'Sir', 'Launcelot', 'Camelot', 'What', 'To', 'Holy', 'Grail', 'What', 'Blue', 'Right', 'Off', 'Oh', 'Thank', 'That', 'Stop', 'Who', 'Bridge', 'Death', 'Ask', 'What', 'Sir', 'Robin', 'Camelot', 'What', 'To', 'Holy', 'Grail', 'What', 'Assyria', 'Auuuuuuuugh', 'Stop', 'What', 'Sir', 'Galahad', 'Camelot', 'What', 'Grail', 'What', 'Blue', 'No', 'Hee', 'Stop', 'What', 'It', 'Arthur', 'King', 'Britons', 'What', 'To', 'Holy', 'Grail', 'What', 'What', 'An', 'African', 'European', 'Huh', 'Auuuuuuuugh', 'How', 'Well', 'Launcelot', 'Launcelot', 'Launcelot', 'Launcelot', 'Launcelot', 'Launcelot', 'Launcelot', 'Launcelot', 'Launcelot', 'The', 'Castle', 'Aaagh', 'Our', 'God', 'Almighty', 'God', 'Thee', 'Thou', 'Jesus', 'Christ', 'Allo', 'English', 'Monsieur', 'Arthur', 'King', 'So', 'French', 'How', 'Knights', 'Camelot', 'God', 'Himself', 'How', 'English', 'So', 'French', 'In', 'Lord', 'No', 'English', 'If', 'In', 'God', 'Agh', 'Right', 'That', 'Yes', 'Ha', 'Walk', 'Just', 'And', 'And', 'English', 'Thpppt', 'We', 'Yes', 'Stand', 'French', 'Dappy', 'Today', 'In', 'God', 'Hoo', 'Ohh', 'Holy', 'Grail', 'God', 'Ha', 'Charge', 'Hooray', 'Yes', 'They', 'Come', 'Anybody', 'All', 'Come', 'Back', 'Get', 'Back', 'Right', 'Just', 'Come', 'Come', 'Put', 'Clear', 'Come', 'With', 'Which', 'Oh', 'Come', 'Put', 'Get', 'We', 'Ahh', 'Ooh', 'Come', 'Back', 'Riiight', 'Come', 'Run', 'Run', 'Pull', 'My', 'Come', 'Back', 'Back', 'Right', 'Come', 'Everything', 'All', 'That', 'Just', 'Christ']\n"
     ]
    }
   ],
   "source": [
    "words4Text6=[w for w in wordsText6 if w.istitle()]\n",
    "print(words4Text6)"
   ]
  },
  {
   "cell_type": "markdown",
   "metadata": {},
   "source": [
    "25. Define sent to be the list of words ['she', 'sells', 'sea', 'shells', 'by', 'the', 'sea', 'shore']. Now write code to perform the following tasks: <br>\n",
    "    a. Print all words beginning with sh <br>\n",
    "    b. Print all words longer than four characters <br>"
   ]
  },
  {
   "cell_type": "code",
   "execution_count": 73,
   "metadata": {},
   "outputs": [
    {
     "data": {
      "text/plain": [
       "['she', 'shells', 'shore']"
      ]
     },
     "execution_count": 73,
     "metadata": {},
     "output_type": "execute_result"
    }
   ],
   "source": [
    "sent=['she', 'sells', 'sea', 'shells', 'by', 'the', 'sea', 'shore']\n",
    "words1Sent=[w for w in sent if w.startswith('sh')]\n",
    "words1Sent"
   ]
  },
  {
   "cell_type": "code",
   "execution_count": 74,
   "metadata": {},
   "outputs": [
    {
     "data": {
      "text/plain": [
       "['sells', 'shells', 'shore']"
      ]
     },
     "execution_count": 74,
     "metadata": {},
     "output_type": "execute_result"
    }
   ],
   "source": [
    "words2Sent=[w for w in sent if len(w)>4]\n",
    "words2Sent"
   ]
  },
  {
   "cell_type": "markdown",
   "metadata": {},
   "source": [
    "26. What does the following Python code do?  sum(len(w) for w in text1) Can you use it to work out the average word length of a text?"
   ]
  },
  {
   "cell_type": "code",
   "execution_count": 81,
   "metadata": {},
   "outputs": [
    {
     "data": {
      "text/plain": [
       "3.83"
      ]
     },
     "execution_count": 81,
     "metadata": {},
     "output_type": "execute_result"
    }
   ],
   "source": [
    "average=round(sum([len(w) for w in text1])/len(text1),2)\n",
    "average"
   ]
  },
  {
   "cell_type": "markdown",
   "metadata": {},
   "source": [
    "27. Define a function called vocab_size(text) that has a single parameter for the text, and which returns the vocabulary size of the text."
   ]
  },
  {
   "cell_type": "code",
   "execution_count": 76,
   "metadata": {},
   "outputs": [],
   "source": [
    "def vocab_size(text):\n",
    "    return len(set([w for w in text if len(w)>=2]));"
   ]
  },
  {
   "cell_type": "markdown",
   "metadata": {},
   "source": [
    "28. Define a function percent(word, text) that calculates how often a given word occurs in a text, and expresses the result as a percentage."
   ]
  },
  {
   "cell_type": "code",
   "execution_count": 77,
   "metadata": {},
   "outputs": [],
   "source": [
    "def percent(word, text):\n",
    "    wordsText=[w.lower() for w in text if len(w)>=2 and w.isalpha()]\n",
    "    return round(wordsText.count(word)/len(wordsText)*100,3);"
   ]
  },
  {
   "cell_type": "code",
   "execution_count": 78,
   "metadata": {},
   "outputs": [
    {
     "data": {
      "text/plain": [
       "3.199"
      ]
     },
     "execution_count": 78,
     "metadata": {},
     "output_type": "execute_result"
    }
   ],
   "source": [
    "percent('part',text5)"
   ]
  },
  {
   "cell_type": "markdown",
   "metadata": {},
   "source": [
    "29. We have been using sets to store vocabularies. Try the following Python expression: set(sent3) < set(text1). Experiment with this using different arguments to set(). What does it do? Can you think of a practical application for this?"
   ]
  },
  {
   "cell_type": "code",
   "execution_count": 79,
   "metadata": {
    "scrolled": true
   },
   "outputs": [
    {
     "data": {
      "text/plain": [
       "True"
      ]
     },
     "execution_count": 79,
     "metadata": {},
     "output_type": "execute_result"
    }
   ],
   "source": [
    "set(sent3) < set(text1)"
   ]
  },
  {
   "cell_type": "markdown",
   "metadata": {},
   "source": [
    "Checks if the first argument is a proper subset (subset and the two are not identical) of the second. Can be used for plagiarism detection with some more rules."
   ]
  }
 ],
 "metadata": {
  "kernelspec": {
   "display_name": "Python 3",
   "language": "python",
   "name": "python3"
  },
  "language_info": {
   "codemirror_mode": {
    "name": "ipython",
    "version": 3
   },
   "file_extension": ".py",
   "mimetype": "text/x-python",
   "name": "python",
   "nbconvert_exporter": "python",
   "pygments_lexer": "ipython3",
   "version": "3.7.0"
  }
 },
 "nbformat": 4,
 "nbformat_minor": 2
}
